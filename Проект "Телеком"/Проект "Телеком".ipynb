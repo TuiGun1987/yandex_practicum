{
 "cells": [
  {
   "cell_type": "markdown",
   "metadata": {},
   "source": [
    "# Декомпозиция проекта \"Телеком: поиск клиентов с неоптимальными тарифами\"."
   ]
  },
  {
   "cell_type": "markdown",
   "metadata": {},
   "source": [
    "## Введение."
   ]
  },
  {
   "cell_type": "markdown",
   "metadata": {},
   "source": [
    "1. **Описание проекта:** Наш заказчик коммерческий директор компании \"НуПозвони\" — провайдер виртуальной телефонии. Его клиенты — колл-центры (юр. лица). Заказчик озадачен тем, что на рынок вышел конкурент. Конкуренты предлагают более выгодные тарифы чем у них. Заказчик сообщил что часть клиентов расходуют тарифы не эффективно (переплачивают). Руководство компании боятся что клиенты могут уйти к конкуренту, и что потеряют клиентскую базу. Заказчик попросил посмотреть действительно ли есть такие клиенты, которые переплачивают на своих тарифах. Нужно найти клиентов с неоптимальными тарифами. \n",
    "\n",
    "1. **Цель проекта:** Для предотвращения оттока клиентов, нужно провести ежеквартальный мониторинг клиентов с неоптимальными тарифами, которые экономически неэффективно используют услуги на своих тарифах и могут снизить свои расходы, если перейдут на более выгодными для них тарифы, и оценить изменения выручки компании. Такой мониторинг будем делать систематически, раз в три месяца;\n",
    "\n",
    "1. **Задачи:** Для достижения цели нужно определить клиентов с неоптимальными тарифами, искать клиенту наиболее выгодные тарифы. Нам нужно также изучить потери в выручке,если все клиенты перейдут на выгодные тарифы.\n",
    "\n",
    "1. **Итоговый результат:** По результатам нашего анализа, информация о клиентах которые неэффективно используют свои тарифы будет передана менеджерам коммерческого департамента. Они в свою очередь будут делать обзвон этих клиентов и предлагать им сменить тарифный план. Результатом должно стать сохранение активных клиентов, чтобы в долгосрочной перспективе получать от них выгоду.\n",
    "\n",
    "**Ссылка на презентацию:** https://disk.yandex.kz/i/feGlv0dGO4iVLA\n",
    "\n",
    "**Ссылка на дашборд:** https://public.tableau.com/app/profile/alexei1573/viz/Telecom_16699893688010/Dashboard1?publish=yes\n",
    "\n",
    "\n",
    "1. Характеристика **данных:** В работу поступило два датасета, которые характеризуют использование услуг «НуПозвони».\n",
    "\n",
    "датасет `telecom_dataset.csv`\n",
    "- `user_id` - идентификатор клиента,\n",
    "- `date` - дата статистики;\n",
    "- `direction` - направление вызовов: out — исходящий вызов, in — входящий; \n",
    "- `internal` - маркер внутренних и внешних вызовов; вызовы между сотрудниками одного колл-центра называют внутренними, остальные — внешними.\n",
    "- `operator_id` - идентификатор оператора;\n",
    "- `is_missed_call` - маркер пропущенных вызовов;\n",
    "- `calls_count` - количество звонков;\n",
    "- `call_duration` - длительность **всех звонков** без учёта времени ожидания;\n",
    "- `total_call_duration` - длительность **всех звонков** с учётом времени ожидания.\n",
    "\n",
    "датасет `telecom_dataset.csv`\n",
    "- `user_id` — идентификатор клиента;\n",
    "- `tariff_plan` — тарифный план клиента;\n",
    "- `date_start` — дата регистрации клиента в сервисе.\n",
    "\n",
    "В Телекоме действуют следующие тарифные планы:\n",
    "\n",
    "|   Тарифный план    |     Ежемесячная плата    |     Входящие    |     Исходящие звонки* внутри сети**|     Исходящие   звонки*, кроме внутренних    | Плата за 1 оператора |\n",
    "|:---:|:---:|:---:|:---:|:---:|:---:|\n",
    "|     А    |     5 000 ₽    |     0    |     0.10 ₽/мин.    |     0.4 ₽/мин.    | 100 ₽/оператор |\n",
    "|     В    |     2 000 ₽    |     0    |     0.15 ₽/мин.    |     0.5 ₽/мин.    | 100 ₽/оператор |\n",
    "|     С    |     1 000 ₽    |     0    |     0.30 ₽/мин.    |     0.7 ₽/мин.    | 100 ₽/оператор |\n"
   ]
  },
  {
   "cell_type": "markdown",
   "metadata": {},
   "source": [
    "## Структура проекта."
   ]
  },
  {
   "cell_type": "markdown",
   "metadata": {},
   "source": [
    "1. Описание проекта (декомпозиция).\n",
    "1. Описание данных.\n",
    "1. Загрузка данных и изучение общей информации.\n",
    "1. Выполнение предобработки данных. Выявление дубликатов и пропусков, приведение всех столбцов к одному регистру, анализ на аномальные значения.\n",
    "1. Исследовательский анализ данных. Определение клиентов с неоптимальными тарифами. Создать клиенту наиболее выгодный ему тариф с минимизацией потерь компании. \n",
    "1. Выдвигаем гипотезы: Проверка различия в средней выручке при смене тарифа на оптимальный тариф. Добавить новый тариф, который устроит и клиента и заказчика. \n",
    "1. Делаем выводы.\n",
    "1. Предоставляем заказчику презентацию."
   ]
  },
  {
   "cell_type": "markdown",
   "metadata": {},
   "source": [
    "## Загрузка данных и изучение общей информации."
   ]
  },
  {
   "cell_type": "code",
   "execution_count": 1,
   "metadata": {},
   "outputs": [],
   "source": [
    "#Загрузим библиотеки, которые понадобятся\n",
    "\n",
    "import pandas as pd\n",
    "import numpy as np\n",
    "import math\n",
    "from scipy import stats as st\n",
    "import matplotlib.pyplot as plt \n",
    "import matplotlib as mpl \n",
    "import plotly.express as px\n",
    "from plotly import graph_objects as go\n",
    "import seaborn as sns \n",
    "from numpy import median\n",
    "from io import BytesIO\n",
    "import requests\n",
    "import re\n",
    "\n",
    "\n",
    "\n",
    "import warnings\n",
    "warnings.filterwarnings('ignore')\n",
    "pd.set_option('display.max_colwidth', -1)\n",
    "cm = sns.light_palette(\"red\", as_cmap=True)"
   ]
  },
  {
   "cell_type": "markdown",
   "metadata": {},
   "source": [
    "### Загружаем данные из двух датасетов"
   ]
  },
  {
   "cell_type": "code",
   "execution_count": 2,
   "metadata": {},
   "outputs": [],
   "source": [
    "import os\n",
    "pth1 = '/Users/alexbay/Desktop/Финальный проект/'\n",
    "pth2 = '/datasets/'\n",
    "if os.path.exists(pth1):\n",
    "    dataset = pd.read_csv(pth1 + 'telecom_dataset.csv')\n",
    "    clients = pd.read_csv(pth1 + 'telecom_clients.csv')\n",
    "elif os.path.exists(pth2):\n",
    "    dataset = pd.read_csv(pth2 + 'telecom_dataset.csv')\n",
    "    clients = pd.read_csv(pth2 + 'telecom_clients.csv')\n",
    "else:\n",
    "    print('Something is wrong')"
   ]
  },
  {
   "cell_type": "markdown",
   "metadata": {},
   "source": [
    "### Изучаем данные"
   ]
  },
  {
   "cell_type": "code",
   "execution_count": 3,
   "metadata": {},
   "outputs": [
    {
     "name": "stdout",
     "output_type": "stream",
     "text": [
      "<class 'pandas.core.frame.DataFrame'>\n",
      "RangeIndex: 53902 entries, 0 to 53901\n",
      "Data columns (total 9 columns):\n",
      " #   Column               Non-Null Count  Dtype  \n",
      "---  ------               --------------  -----  \n",
      " 0   user_id              53902 non-null  int64  \n",
      " 1   date                 53902 non-null  object \n",
      " 2   direction            53902 non-null  object \n",
      " 3   internal             53785 non-null  object \n",
      " 4   operator_id          45730 non-null  float64\n",
      " 5   is_missed_call       53902 non-null  bool   \n",
      " 6   calls_count          53902 non-null  int64  \n",
      " 7   call_duration        53902 non-null  int64  \n",
      " 8   total_call_duration  53902 non-null  int64  \n",
      "dtypes: bool(1), float64(1), int64(4), object(3)\n",
      "memory usage: 3.3+ MB\n"
     ]
    }
   ],
   "source": [
    "dataset.info()"
   ]
  },
  {
   "cell_type": "code",
   "execution_count": 4,
   "metadata": {},
   "outputs": [
    {
     "data": {
      "text/html": [
       "<div>\n",
       "<style scoped>\n",
       "    .dataframe tbody tr th:only-of-type {\n",
       "        vertical-align: middle;\n",
       "    }\n",
       "\n",
       "    .dataframe tbody tr th {\n",
       "        vertical-align: top;\n",
       "    }\n",
       "\n",
       "    .dataframe thead th {\n",
       "        text-align: right;\n",
       "    }\n",
       "</style>\n",
       "<table border=\"1\" class=\"dataframe\">\n",
       "  <thead>\n",
       "    <tr style=\"text-align: right;\">\n",
       "      <th></th>\n",
       "      <th>user_id</th>\n",
       "      <th>date</th>\n",
       "      <th>direction</th>\n",
       "      <th>internal</th>\n",
       "      <th>operator_id</th>\n",
       "      <th>is_missed_call</th>\n",
       "      <th>calls_count</th>\n",
       "      <th>call_duration</th>\n",
       "      <th>total_call_duration</th>\n",
       "    </tr>\n",
       "  </thead>\n",
       "  <tbody>\n",
       "    <tr>\n",
       "      <th>0</th>\n",
       "      <td>166377</td>\n",
       "      <td>2019-08-04 00:00:00+03:00</td>\n",
       "      <td>in</td>\n",
       "      <td>False</td>\n",
       "      <td>NaN</td>\n",
       "      <td>True</td>\n",
       "      <td>2</td>\n",
       "      <td>0</td>\n",
       "      <td>4</td>\n",
       "    </tr>\n",
       "    <tr>\n",
       "      <th>1</th>\n",
       "      <td>166377</td>\n",
       "      <td>2019-08-05 00:00:00+03:00</td>\n",
       "      <td>out</td>\n",
       "      <td>True</td>\n",
       "      <td>880022.0</td>\n",
       "      <td>True</td>\n",
       "      <td>3</td>\n",
       "      <td>0</td>\n",
       "      <td>5</td>\n",
       "    </tr>\n",
       "    <tr>\n",
       "      <th>2</th>\n",
       "      <td>166377</td>\n",
       "      <td>2019-08-05 00:00:00+03:00</td>\n",
       "      <td>out</td>\n",
       "      <td>True</td>\n",
       "      <td>880020.0</td>\n",
       "      <td>True</td>\n",
       "      <td>1</td>\n",
       "      <td>0</td>\n",
       "      <td>1</td>\n",
       "    </tr>\n",
       "    <tr>\n",
       "      <th>3</th>\n",
       "      <td>166377</td>\n",
       "      <td>2019-08-05 00:00:00+03:00</td>\n",
       "      <td>out</td>\n",
       "      <td>True</td>\n",
       "      <td>880020.0</td>\n",
       "      <td>False</td>\n",
       "      <td>1</td>\n",
       "      <td>10</td>\n",
       "      <td>18</td>\n",
       "    </tr>\n",
       "    <tr>\n",
       "      <th>4</th>\n",
       "      <td>166377</td>\n",
       "      <td>2019-08-05 00:00:00+03:00</td>\n",
       "      <td>out</td>\n",
       "      <td>False</td>\n",
       "      <td>880022.0</td>\n",
       "      <td>True</td>\n",
       "      <td>3</td>\n",
       "      <td>0</td>\n",
       "      <td>25</td>\n",
       "    </tr>\n",
       "  </tbody>\n",
       "</table>\n",
       "</div>"
      ],
      "text/plain": [
       "   user_id                       date direction internal  operator_id  \\\n",
       "0  166377   2019-08-04 00:00:00+03:00  in        False   NaN            \n",
       "1  166377   2019-08-05 00:00:00+03:00  out       True     880022.0      \n",
       "2  166377   2019-08-05 00:00:00+03:00  out       True     880020.0      \n",
       "3  166377   2019-08-05 00:00:00+03:00  out       True     880020.0      \n",
       "4  166377   2019-08-05 00:00:00+03:00  out       False    880022.0      \n",
       "\n",
       "   is_missed_call  calls_count  call_duration  total_call_duration  \n",
       "0  True            2            0              4                    \n",
       "1  True            3            0              5                    \n",
       "2  True            1            0              1                    \n",
       "3  False           1            10             18                   \n",
       "4  True            3            0              25                   "
      ]
     },
     "execution_count": 4,
     "metadata": {},
     "output_type": "execute_result"
    }
   ],
   "source": [
    "dataset.head()"
   ]
  },
  {
   "cell_type": "code",
   "execution_count": 5,
   "metadata": {},
   "outputs": [
    {
     "data": {
      "text/plain": [
       "user_id                0   \n",
       "date                   0   \n",
       "direction              0   \n",
       "internal               117 \n",
       "operator_id            8172\n",
       "is_missed_call         0   \n",
       "calls_count            0   \n",
       "call_duration          0   \n",
       "total_call_duration    0   \n",
       "dtype: int64"
      ]
     },
     "execution_count": 5,
     "metadata": {},
     "output_type": "execute_result"
    }
   ],
   "source": [
    "dataset.isna().sum()"
   ]
  },
  {
   "cell_type": "code",
   "execution_count": 6,
   "metadata": {},
   "outputs": [
    {
     "data": {
      "text/plain": [
       "user_id                0.000000 \n",
       "date                   0.000000 \n",
       "direction              0.000000 \n",
       "internal               0.217061 \n",
       "operator_id            15.160847\n",
       "is_missed_call         0.000000 \n",
       "calls_count            0.000000 \n",
       "call_duration          0.000000 \n",
       "total_call_duration    0.000000 \n",
       "dtype: float64"
      ]
     },
     "execution_count": 6,
     "metadata": {},
     "output_type": "execute_result"
    }
   ],
   "source": [
    "dataset.isna().sum()*100/len(dataset)"
   ]
  },
  {
   "cell_type": "code",
   "execution_count": 7,
   "metadata": {},
   "outputs": [
    {
     "name": "stdout",
     "output_type": "stream",
     "text": [
      "168187    2580\n",
      "166658    2107\n",
      "167497    1405\n",
      "167626    1311\n",
      "166916    1308\n",
      "          ... \n",
      "166584    1   \n",
      "167981    1   \n",
      "168578    1   \n",
      "168013    1   \n",
      "166554    1   \n",
      "Name: user_id, Length: 307, dtype: int64\n",
      "2019-11-25 00:00:00+03:00    1220\n",
      "2019-11-28 00:00:00+03:00    1198\n",
      "2019-11-21 00:00:00+03:00    1186\n",
      "2019-11-27 00:00:00+03:00    1180\n",
      "2019-11-22 00:00:00+03:00    1176\n",
      "                             ... \n",
      "2019-08-03 00:00:00+03:00    9   \n",
      "2019-08-02 00:00:00+03:00    8   \n",
      "2019-08-10 00:00:00+03:00    7   \n",
      "2019-08-04 00:00:00+03:00    4   \n",
      "2019-08-11 00:00:00+03:00    2   \n",
      "Name: date, Length: 119, dtype: int64\n",
      "out    31917\n",
      "in     21985\n",
      "Name: direction, dtype: int64\n",
      "False    47621\n",
      "True     6164 \n",
      "Name: internal, dtype: int64\n",
      "901884.0    348\n",
      "901880.0    337\n",
      "893804.0    325\n",
      "885876.0    319\n",
      "891410.0    290\n",
      "           ... \n",
      "911152.0    1  \n",
      "891250.0    1  \n",
      "962904.0    1  \n",
      "940512.0    1  \n",
      "937772.0    1  \n",
      "Name: operator_id, Length: 1092, dtype: int64\n",
      "False    30334\n",
      "True     23568\n",
      "Name: is_missed_call, dtype: int64\n",
      "1      14321\n",
      "2      7015 \n",
      "3      4483 \n",
      "4      3342 \n",
      "5      2454 \n",
      "       ...  \n",
      "995    1    \n",
      "519    1    \n",
      "314    1    \n",
      "464    1    \n",
      "748    1    \n",
      "Name: calls_count, Length: 502, dtype: int64\n",
      "0        23263\n",
      "1        200  \n",
      "7        144  \n",
      "15       126  \n",
      "13       125  \n",
      "        ...   \n",
      "10061    1    \n",
      "57988    1    \n",
      "12935    1    \n",
      "1108     1    \n",
      "3296     1    \n",
      "Name: call_duration, Length: 5373, dtype: int64\n",
      "0       1320\n",
      "2       850 \n",
      "1       527 \n",
      "4       461 \n",
      "6       380 \n",
      "       ...  \n",
      "2801    1   \n",
      "2175    1   \n",
      "2480    1   \n",
      "3337    1   \n",
      "2699    1   \n",
      "Name: total_call_duration, Length: 6040, dtype: int64\n"
     ]
    }
   ],
   "source": [
    "for row in dataset:\n",
    "    print(dataset[row].value_counts())"
   ]
  },
  {
   "cell_type": "code",
   "execution_count": 8,
   "metadata": {},
   "outputs": [
    {
     "data": {
      "text/plain": [
       "4900"
      ]
     },
     "execution_count": 8,
     "metadata": {},
     "output_type": "execute_result"
    }
   ],
   "source": [
    "dataset.duplicated().sum()"
   ]
  },
  {
   "cell_type": "code",
   "execution_count": 9,
   "metadata": {},
   "outputs": [
    {
     "data": {
      "text/html": [
       "<div>\n",
       "<style scoped>\n",
       "    .dataframe tbody tr th:only-of-type {\n",
       "        vertical-align: middle;\n",
       "    }\n",
       "\n",
       "    .dataframe tbody tr th {\n",
       "        vertical-align: top;\n",
       "    }\n",
       "\n",
       "    .dataframe thead th {\n",
       "        text-align: right;\n",
       "    }\n",
       "</style>\n",
       "<table border=\"1\" class=\"dataframe\">\n",
       "  <thead>\n",
       "    <tr style=\"text-align: right;\">\n",
       "      <th></th>\n",
       "      <th>user_id</th>\n",
       "      <th>operator_id</th>\n",
       "      <th>calls_count</th>\n",
       "      <th>call_duration</th>\n",
       "      <th>total_call_duration</th>\n",
       "    </tr>\n",
       "  </thead>\n",
       "  <tbody>\n",
       "    <tr>\n",
       "      <th>count</th>\n",
       "      <td>53902.000000</td>\n",
       "      <td>45730.000000</td>\n",
       "      <td>53902.000000</td>\n",
       "      <td>53902.000000</td>\n",
       "      <td>53902.000000</td>\n",
       "    </tr>\n",
       "    <tr>\n",
       "      <th>mean</th>\n",
       "      <td>167295.344477</td>\n",
       "      <td>916535.993002</td>\n",
       "      <td>16.451245</td>\n",
       "      <td>866.684427</td>\n",
       "      <td>1157.133297</td>\n",
       "    </tr>\n",
       "    <tr>\n",
       "      <th>std</th>\n",
       "      <td>598.883775</td>\n",
       "      <td>21254.123136</td>\n",
       "      <td>62.917170</td>\n",
       "      <td>3731.791202</td>\n",
       "      <td>4403.468763</td>\n",
       "    </tr>\n",
       "    <tr>\n",
       "      <th>min</th>\n",
       "      <td>166377.000000</td>\n",
       "      <td>879896.000000</td>\n",
       "      <td>1.000000</td>\n",
       "      <td>0.000000</td>\n",
       "      <td>0.000000</td>\n",
       "    </tr>\n",
       "    <tr>\n",
       "      <th>25%</th>\n",
       "      <td>166782.000000</td>\n",
       "      <td>900788.000000</td>\n",
       "      <td>1.000000</td>\n",
       "      <td>0.000000</td>\n",
       "      <td>47.000000</td>\n",
       "    </tr>\n",
       "    <tr>\n",
       "      <th>50%</th>\n",
       "      <td>167162.000000</td>\n",
       "      <td>913938.000000</td>\n",
       "      <td>4.000000</td>\n",
       "      <td>38.000000</td>\n",
       "      <td>210.000000</td>\n",
       "    </tr>\n",
       "    <tr>\n",
       "      <th>75%</th>\n",
       "      <td>167819.000000</td>\n",
       "      <td>937708.000000</td>\n",
       "      <td>12.000000</td>\n",
       "      <td>572.000000</td>\n",
       "      <td>902.000000</td>\n",
       "    </tr>\n",
       "    <tr>\n",
       "      <th>max</th>\n",
       "      <td>168606.000000</td>\n",
       "      <td>973286.000000</td>\n",
       "      <td>4817.000000</td>\n",
       "      <td>144395.000000</td>\n",
       "      <td>166155.000000</td>\n",
       "    </tr>\n",
       "  </tbody>\n",
       "</table>\n",
       "</div>"
      ],
      "text/plain": [
       "             user_id    operator_id   calls_count  call_duration  \\\n",
       "count  53902.000000   45730.000000   53902.000000  53902.000000    \n",
       "mean   167295.344477  916535.993002  16.451245     866.684427      \n",
       "std    598.883775     21254.123136   62.917170     3731.791202     \n",
       "min    166377.000000  879896.000000  1.000000      0.000000        \n",
       "25%    166782.000000  900788.000000  1.000000      0.000000        \n",
       "50%    167162.000000  913938.000000  4.000000      38.000000       \n",
       "75%    167819.000000  937708.000000  12.000000     572.000000      \n",
       "max    168606.000000  973286.000000  4817.000000   144395.000000   \n",
       "\n",
       "       total_call_duration  \n",
       "count  53902.000000         \n",
       "mean   1157.133297          \n",
       "std    4403.468763          \n",
       "min    0.000000             \n",
       "25%    47.000000            \n",
       "50%    210.000000           \n",
       "75%    902.000000           \n",
       "max    166155.000000        "
      ]
     },
     "execution_count": 9,
     "metadata": {},
     "output_type": "execute_result"
    }
   ],
   "source": [
    "dataset.describe()"
   ]
  },
  {
   "cell_type": "markdown",
   "metadata": {},
   "source": [
    "dataset состоит из 9 столбцов и 53902 строк. Пропущенные значения в operator_id(15.16%) и internal(0.22%), дубликатов 4900, нулей call_duration(23263) и total_call_duration(1320)."
   ]
  },
  {
   "cell_type": "code",
   "execution_count": 10,
   "metadata": {},
   "outputs": [
    {
     "name": "stdout",
     "output_type": "stream",
     "text": [
      "<class 'pandas.core.frame.DataFrame'>\n",
      "RangeIndex: 732 entries, 0 to 731\n",
      "Data columns (total 3 columns):\n",
      " #   Column       Non-Null Count  Dtype \n",
      "---  ------       --------------  ----- \n",
      " 0   user_id      732 non-null    int64 \n",
      " 1   tariff_plan  732 non-null    object\n",
      " 2   date_start   732 non-null    object\n",
      "dtypes: int64(1), object(2)\n",
      "memory usage: 17.3+ KB\n"
     ]
    }
   ],
   "source": [
    "clients.info()"
   ]
  },
  {
   "cell_type": "code",
   "execution_count": 11,
   "metadata": {},
   "outputs": [
    {
     "data": {
      "text/html": [
       "<div>\n",
       "<style scoped>\n",
       "    .dataframe tbody tr th:only-of-type {\n",
       "        vertical-align: middle;\n",
       "    }\n",
       "\n",
       "    .dataframe tbody tr th {\n",
       "        vertical-align: top;\n",
       "    }\n",
       "\n",
       "    .dataframe thead th {\n",
       "        text-align: right;\n",
       "    }\n",
       "</style>\n",
       "<table border=\"1\" class=\"dataframe\">\n",
       "  <thead>\n",
       "    <tr style=\"text-align: right;\">\n",
       "      <th></th>\n",
       "      <th>user_id</th>\n",
       "      <th>tariff_plan</th>\n",
       "      <th>date_start</th>\n",
       "    </tr>\n",
       "  </thead>\n",
       "  <tbody>\n",
       "    <tr>\n",
       "      <th>0</th>\n",
       "      <td>166713</td>\n",
       "      <td>A</td>\n",
       "      <td>2019-08-15</td>\n",
       "    </tr>\n",
       "    <tr>\n",
       "      <th>1</th>\n",
       "      <td>166901</td>\n",
       "      <td>A</td>\n",
       "      <td>2019-08-23</td>\n",
       "    </tr>\n",
       "    <tr>\n",
       "      <th>2</th>\n",
       "      <td>168527</td>\n",
       "      <td>A</td>\n",
       "      <td>2019-10-29</td>\n",
       "    </tr>\n",
       "    <tr>\n",
       "      <th>3</th>\n",
       "      <td>167097</td>\n",
       "      <td>A</td>\n",
       "      <td>2019-09-01</td>\n",
       "    </tr>\n",
       "    <tr>\n",
       "      <th>4</th>\n",
       "      <td>168193</td>\n",
       "      <td>A</td>\n",
       "      <td>2019-10-16</td>\n",
       "    </tr>\n",
       "  </tbody>\n",
       "</table>\n",
       "</div>"
      ],
      "text/plain": [
       "   user_id tariff_plan  date_start\n",
       "0  166713   A           2019-08-15\n",
       "1  166901   A           2019-08-23\n",
       "2  168527   A           2019-10-29\n",
       "3  167097   A           2019-09-01\n",
       "4  168193   A           2019-10-16"
      ]
     },
     "execution_count": 11,
     "metadata": {},
     "output_type": "execute_result"
    }
   ],
   "source": [
    "clients.head()"
   ]
  },
  {
   "cell_type": "code",
   "execution_count": 12,
   "metadata": {},
   "outputs": [
    {
     "data": {
      "text/plain": [
       "user_id        0\n",
       "tariff_plan    0\n",
       "date_start     0\n",
       "dtype: int64"
      ]
     },
     "execution_count": 12,
     "metadata": {},
     "output_type": "execute_result"
    }
   ],
   "source": [
    "clients.isna().sum()"
   ]
  },
  {
   "cell_type": "code",
   "execution_count": 13,
   "metadata": {},
   "outputs": [
    {
     "name": "stdout",
     "output_type": "stream",
     "text": [
      "166713    1\n",
      "168237    1\n",
      "167095    1\n",
      "167077    1\n",
      "167929    1\n",
      "         ..\n",
      "167729    1\n",
      "167630    1\n",
      "166408    1\n",
      "166574    1\n",
      "166565    1\n",
      "Name: user_id, Length: 732, dtype: int64\n",
      "C    395\n",
      "B    261\n",
      "A    76 \n",
      "Name: tariff_plan, dtype: int64\n",
      "2019-09-24    24\n",
      "2019-10-09    20\n",
      "2019-10-07    19\n",
      "2019-08-29    18\n",
      "2019-09-18    18\n",
      "              ..\n",
      "2019-10-20    1 \n",
      "2019-09-21    1 \n",
      "2019-08-31    1 \n",
      "2019-10-19    1 \n",
      "2019-10-26    1 \n",
      "Name: date_start, Length: 73, dtype: int64\n"
     ]
    }
   ],
   "source": [
    "for row in clients: \n",
    "    print(clients[row].value_counts()) "
   ]
  },
  {
   "cell_type": "code",
   "execution_count": 14,
   "metadata": {},
   "outputs": [
    {
     "data": {
      "text/plain": [
       "0"
      ]
     },
     "execution_count": 14,
     "metadata": {},
     "output_type": "execute_result"
    }
   ],
   "source": [
    "clients.duplicated().sum()"
   ]
  },
  {
   "cell_type": "code",
   "execution_count": 15,
   "metadata": {},
   "outputs": [
    {
     "data": {
      "text/html": [
       "<div>\n",
       "<style scoped>\n",
       "    .dataframe tbody tr th:only-of-type {\n",
       "        vertical-align: middle;\n",
       "    }\n",
       "\n",
       "    .dataframe tbody tr th {\n",
       "        vertical-align: top;\n",
       "    }\n",
       "\n",
       "    .dataframe thead th {\n",
       "        text-align: right;\n",
       "    }\n",
       "</style>\n",
       "<table border=\"1\" class=\"dataframe\">\n",
       "  <thead>\n",
       "    <tr style=\"text-align: right;\">\n",
       "      <th></th>\n",
       "      <th>user_id</th>\n",
       "    </tr>\n",
       "  </thead>\n",
       "  <tbody>\n",
       "    <tr>\n",
       "      <th>count</th>\n",
       "      <td>732.000000</td>\n",
       "    </tr>\n",
       "    <tr>\n",
       "      <th>mean</th>\n",
       "      <td>167431.927596</td>\n",
       "    </tr>\n",
       "    <tr>\n",
       "      <th>std</th>\n",
       "      <td>633.810383</td>\n",
       "    </tr>\n",
       "    <tr>\n",
       "      <th>min</th>\n",
       "      <td>166373.000000</td>\n",
       "    </tr>\n",
       "    <tr>\n",
       "      <th>25%</th>\n",
       "      <td>166900.750000</td>\n",
       "    </tr>\n",
       "    <tr>\n",
       "      <th>50%</th>\n",
       "      <td>167432.000000</td>\n",
       "    </tr>\n",
       "    <tr>\n",
       "      <th>75%</th>\n",
       "      <td>167973.000000</td>\n",
       "    </tr>\n",
       "    <tr>\n",
       "      <th>max</th>\n",
       "      <td>168606.000000</td>\n",
       "    </tr>\n",
       "  </tbody>\n",
       "</table>\n",
       "</div>"
      ],
      "text/plain": [
       "             user_id\n",
       "count  732.000000   \n",
       "mean   167431.927596\n",
       "std    633.810383   \n",
       "min    166373.000000\n",
       "25%    166900.750000\n",
       "50%    167432.000000\n",
       "75%    167973.000000\n",
       "max    168606.000000"
      ]
     },
     "execution_count": 15,
     "metadata": {},
     "output_type": "execute_result"
    }
   ],
   "source": [
    "clients.describe()"
   ]
  },
  {
   "cell_type": "markdown",
   "metadata": {},
   "source": [
    "Изменяем тип данных в столбцах date и date_start"
   ]
  },
  {
   "cell_type": "markdown",
   "metadata": {},
   "source": [
    "clients состоит из 3 столбцов и 732 строк. Пропущенных значений нет, полных дубликатов нет, нулей нет."
   ]
  },
  {
   "cell_type": "markdown",
   "metadata": {},
   "source": [
    "## Предобработка данных"
   ]
  },
  {
   "cell_type": "markdown",
   "metadata": {},
   "source": [
    "Преобразуем нужные столбцы в нужные типы"
   ]
  },
  {
   "cell_type": "code",
   "execution_count": 16,
   "metadata": {},
   "outputs": [
    {
     "name": "stdout",
     "output_type": "stream",
     "text": [
      "<class 'pandas.core.frame.DataFrame'>\n",
      "RangeIndex: 53902 entries, 0 to 53901\n",
      "Data columns (total 9 columns):\n",
      " #   Column               Non-Null Count  Dtype         \n",
      "---  ------               --------------  -----         \n",
      " 0   user_id              53902 non-null  int64         \n",
      " 1   date                 53902 non-null  datetime64[ns]\n",
      " 2   direction            53902 non-null  object        \n",
      " 3   internal             53785 non-null  object        \n",
      " 4   operator_id          45730 non-null  float64       \n",
      " 5   is_missed_call       53902 non-null  bool          \n",
      " 6   calls_count          53902 non-null  int64         \n",
      " 7   call_duration        53902 non-null  int64         \n",
      " 8   total_call_duration  53902 non-null  int64         \n",
      "dtypes: bool(1), datetime64[ns](1), float64(1), int64(4), object(2)\n",
      "memory usage: 3.3+ MB\n"
     ]
    }
   ],
   "source": [
    "dataset['date'] = pd.to_datetime(dataset['date'], format='%Y.%m.%d')\n",
    "dataset['date'] = pd.to_datetime(dataset['date'].dt.tz_convert(None))\n",
    "dataset.info()"
   ]
  },
  {
   "cell_type": "code",
   "execution_count": 17,
   "metadata": {},
   "outputs": [
    {
     "name": "stdout",
     "output_type": "stream",
     "text": [
      "<class 'pandas.core.frame.DataFrame'>\n",
      "RangeIndex: 732 entries, 0 to 731\n",
      "Data columns (total 3 columns):\n",
      " #   Column       Non-Null Count  Dtype         \n",
      "---  ------       --------------  -----         \n",
      " 0   user_id      732 non-null    int64         \n",
      " 1   tariff_plan  732 non-null    object        \n",
      " 2   date_start   732 non-null    datetime64[ns]\n",
      "dtypes: datetime64[ns](1), int64(1), object(1)\n",
      "memory usage: 17.3+ KB\n"
     ]
    }
   ],
   "source": [
    "clients['date_start'] = pd.to_datetime(clients['date_start'], format='%Y.%m.%d')\n",
    "clients.info()"
   ]
  },
  {
   "cell_type": "code",
   "execution_count": 18,
   "metadata": {},
   "outputs": [
    {
     "name": "stdout",
     "output_type": "stream",
     "text": [
      "<class 'pandas.core.frame.DataFrame'>\n",
      "RangeIndex: 53902 entries, 0 to 53901\n",
      "Data columns (total 9 columns):\n",
      " #   Column               Non-Null Count  Dtype         \n",
      "---  ------               --------------  -----         \n",
      " 0   user_id              53902 non-null  int64         \n",
      " 1   date                 53902 non-null  datetime64[ns]\n",
      " 2   direction            53902 non-null  object        \n",
      " 3   internal             53785 non-null  object        \n",
      " 4   operator_id          45730 non-null  Int64         \n",
      " 5   is_missed_call       53902 non-null  bool          \n",
      " 6   calls_count          53902 non-null  int64         \n",
      " 7   call_duration        53902 non-null  int64         \n",
      " 8   total_call_duration  53902 non-null  int64         \n",
      "dtypes: Int64(1), bool(1), datetime64[ns](1), int64(4), object(2)\n",
      "memory usage: 3.4+ MB\n"
     ]
    }
   ],
   "source": [
    "dataset['operator_id'] = dataset['operator_id'].astype('Int64')\n",
    "dataset.info()"
   ]
  },
  {
   "cell_type": "markdown",
   "metadata": {},
   "source": [
    "Удаляем дубликаты"
   ]
  },
  {
   "cell_type": "code",
   "execution_count": 19,
   "metadata": {},
   "outputs": [
    {
     "data": {
      "text/plain": [
       "0"
      ]
     },
     "execution_count": 19,
     "metadata": {},
     "output_type": "execute_result"
    }
   ],
   "source": [
    "dataset = dataset.drop_duplicates().reset_index(drop=True)\n",
    "dataset.duplicated().sum()"
   ]
  },
  {
   "cell_type": "markdown",
   "metadata": {},
   "source": [
    "Смотрим пропуски в столбце operator_id"
   ]
  },
  {
   "cell_type": "code",
   "execution_count": 20,
   "metadata": {},
   "outputs": [
    {
     "data": {
      "text/plain": [
       "7456"
      ]
     },
     "execution_count": 20,
     "metadata": {},
     "output_type": "execute_result"
    }
   ],
   "source": [
    "dataset['operator_id'].isna().sum()"
   ]
  },
  {
   "cell_type": "code",
   "execution_count": 21,
   "metadata": {},
   "outputs": [
    {
     "data": {
      "text/html": [
       "<div>\n",
       "<style scoped>\n",
       "    .dataframe tbody tr th:only-of-type {\n",
       "        vertical-align: middle;\n",
       "    }\n",
       "\n",
       "    .dataframe tbody tr th {\n",
       "        vertical-align: top;\n",
       "    }\n",
       "\n",
       "    .dataframe thead th {\n",
       "        text-align: right;\n",
       "    }\n",
       "</style>\n",
       "<table border=\"1\" class=\"dataframe\">\n",
       "  <thead>\n",
       "    <tr style=\"text-align: right;\">\n",
       "      <th></th>\n",
       "      <th>user_id</th>\n",
       "      <th>date</th>\n",
       "      <th>direction</th>\n",
       "      <th>internal</th>\n",
       "      <th>operator_id</th>\n",
       "      <th>is_missed_call</th>\n",
       "      <th>calls_count</th>\n",
       "      <th>call_duration</th>\n",
       "      <th>total_call_duration</th>\n",
       "    </tr>\n",
       "  </thead>\n",
       "  <tbody>\n",
       "    <tr>\n",
       "      <th>0</th>\n",
       "      <td>166377</td>\n",
       "      <td>2019-08-03 21:00:00</td>\n",
       "      <td>in</td>\n",
       "      <td>False</td>\n",
       "      <td>&lt;NA&gt;</td>\n",
       "      <td>True</td>\n",
       "      <td>2</td>\n",
       "      <td>0</td>\n",
       "      <td>4</td>\n",
       "    </tr>\n",
       "    <tr>\n",
       "      <th>7</th>\n",
       "      <td>166377</td>\n",
       "      <td>2019-08-04 21:00:00</td>\n",
       "      <td>in</td>\n",
       "      <td>False</td>\n",
       "      <td>&lt;NA&gt;</td>\n",
       "      <td>True</td>\n",
       "      <td>6</td>\n",
       "      <td>0</td>\n",
       "      <td>35</td>\n",
       "    </tr>\n",
       "    <tr>\n",
       "      <th>8</th>\n",
       "      <td>166377</td>\n",
       "      <td>2019-08-05 21:00:00</td>\n",
       "      <td>in</td>\n",
       "      <td>False</td>\n",
       "      <td>&lt;NA&gt;</td>\n",
       "      <td>True</td>\n",
       "      <td>4</td>\n",
       "      <td>0</td>\n",
       "      <td>62</td>\n",
       "    </tr>\n",
       "    <tr>\n",
       "      <th>16</th>\n",
       "      <td>166377</td>\n",
       "      <td>2019-08-06 21:00:00</td>\n",
       "      <td>in</td>\n",
       "      <td>False</td>\n",
       "      <td>&lt;NA&gt;</td>\n",
       "      <td>True</td>\n",
       "      <td>2</td>\n",
       "      <td>0</td>\n",
       "      <td>24</td>\n",
       "    </tr>\n",
       "    <tr>\n",
       "      <th>26</th>\n",
       "      <td>166377</td>\n",
       "      <td>2019-08-11 21:00:00</td>\n",
       "      <td>in</td>\n",
       "      <td>False</td>\n",
       "      <td>&lt;NA&gt;</td>\n",
       "      <td>True</td>\n",
       "      <td>2</td>\n",
       "      <td>0</td>\n",
       "      <td>34</td>\n",
       "    </tr>\n",
       "    <tr>\n",
       "      <th>28</th>\n",
       "      <td>166377</td>\n",
       "      <td>2019-08-12 21:00:00</td>\n",
       "      <td>in</td>\n",
       "      <td>False</td>\n",
       "      <td>&lt;NA&gt;</td>\n",
       "      <td>True</td>\n",
       "      <td>7</td>\n",
       "      <td>0</td>\n",
       "      <td>128</td>\n",
       "    </tr>\n",
       "    <tr>\n",
       "      <th>36</th>\n",
       "      <td>166377</td>\n",
       "      <td>2019-08-13 21:00:00</td>\n",
       "      <td>in</td>\n",
       "      <td>False</td>\n",
       "      <td>&lt;NA&gt;</td>\n",
       "      <td>True</td>\n",
       "      <td>1</td>\n",
       "      <td>0</td>\n",
       "      <td>3</td>\n",
       "    </tr>\n",
       "    <tr>\n",
       "      <th>71</th>\n",
       "      <td>166377</td>\n",
       "      <td>2019-08-21 21:00:00</td>\n",
       "      <td>in</td>\n",
       "      <td>False</td>\n",
       "      <td>&lt;NA&gt;</td>\n",
       "      <td>True</td>\n",
       "      <td>1</td>\n",
       "      <td>0</td>\n",
       "      <td>1</td>\n",
       "    </tr>\n",
       "    <tr>\n",
       "      <th>74</th>\n",
       "      <td>166377</td>\n",
       "      <td>2019-08-22 21:00:00</td>\n",
       "      <td>in</td>\n",
       "      <td>False</td>\n",
       "      <td>&lt;NA&gt;</td>\n",
       "      <td>True</td>\n",
       "      <td>2</td>\n",
       "      <td>0</td>\n",
       "      <td>47</td>\n",
       "    </tr>\n",
       "    <tr>\n",
       "      <th>79</th>\n",
       "      <td>166377</td>\n",
       "      <td>2019-08-23 21:00:00</td>\n",
       "      <td>in</td>\n",
       "      <td>False</td>\n",
       "      <td>&lt;NA&gt;</td>\n",
       "      <td>True</td>\n",
       "      <td>2</td>\n",
       "      <td>0</td>\n",
       "      <td>35</td>\n",
       "    </tr>\n",
       "  </tbody>\n",
       "</table>\n",
       "</div>"
      ],
      "text/plain": [
       "    user_id                date direction internal  operator_id  \\\n",
       "0   166377  2019-08-03 21:00:00  in        False    <NA>          \n",
       "7   166377  2019-08-04 21:00:00  in        False    <NA>          \n",
       "8   166377  2019-08-05 21:00:00  in        False    <NA>          \n",
       "16  166377  2019-08-06 21:00:00  in        False    <NA>          \n",
       "26  166377  2019-08-11 21:00:00  in        False    <NA>          \n",
       "28  166377  2019-08-12 21:00:00  in        False    <NA>          \n",
       "36  166377  2019-08-13 21:00:00  in        False    <NA>          \n",
       "71  166377  2019-08-21 21:00:00  in        False    <NA>          \n",
       "74  166377  2019-08-22 21:00:00  in        False    <NA>          \n",
       "79  166377  2019-08-23 21:00:00  in        False    <NA>          \n",
       "\n",
       "    is_missed_call  calls_count  call_duration  total_call_duration  \n",
       "0   True            2            0              4                    \n",
       "7   True            6            0              35                   \n",
       "8   True            4            0              62                   \n",
       "16  True            2            0              24                   \n",
       "26  True            2            0              34                   \n",
       "28  True            7            0              128                  \n",
       "36  True            1            0              3                    \n",
       "71  True            1            0              1                    \n",
       "74  True            2            0              47                   \n",
       "79  True            2            0              35                   "
      ]
     },
     "execution_count": 21,
     "metadata": {},
     "output_type": "execute_result"
    }
   ],
   "source": [
    "nan = dataset[dataset['operator_id'].isna() == True]\n",
    "nan.head(10)"
   ]
  },
  {
   "cell_type": "code",
   "execution_count": 22,
   "metadata": {},
   "outputs": [
    {
     "data": {
      "text/plain": [
       "2019-10-27 21:00:00    128\n",
       "2019-11-27 21:00:00    127\n",
       "2019-11-11 21:00:00    125\n",
       "2019-11-25 21:00:00    123\n",
       "2019-11-06 21:00:00    123\n",
       "2019-11-18 21:00:00    122\n",
       "2019-11-19 21:00:00    122\n",
       "2019-11-12 21:00:00    121\n",
       "2019-11-24 21:00:00    121\n",
       "2019-11-13 21:00:00    121\n",
       "Name: date, dtype: int64"
      ]
     },
     "execution_count": 22,
     "metadata": {},
     "output_type": "execute_result"
    }
   ],
   "source": [
    "dataset[dataset['operator_id'].isna()]['date'].value_counts().head(10)"
   ]
  },
  {
   "cell_type": "markdown",
   "metadata": {},
   "source": [
    "Смотрим кто из операторов работал в день с большим числом пропусков."
   ]
  },
  {
   "cell_type": "code",
   "execution_count": 23,
   "metadata": {},
   "outputs": [
    {
     "data": {
      "text/plain": [
       "328"
      ]
     },
     "execution_count": 23,
     "metadata": {},
     "output_type": "execute_result"
    }
   ],
   "source": [
    "dataset[dataset['date']=='2019-10-27 21:00:00']['operator_id'].nunique()"
   ]
  },
  {
   "cell_type": "markdown",
   "metadata": {},
   "source": [
    "Таких операторов 328"
   ]
  },
  {
   "cell_type": "code",
   "execution_count": 24,
   "metadata": {},
   "outputs": [
    {
     "data": {
      "text/plain": [
       "False    7078\n",
       "True     323 \n",
       "Name: internal, dtype: int64"
      ]
     },
     "execution_count": 24,
     "metadata": {},
     "output_type": "execute_result"
    }
   ],
   "source": [
    "dataset[dataset['operator_id'].isna()]['internal'].value_counts()"
   ]
  },
  {
   "cell_type": "code",
   "execution_count": 25,
   "metadata": {},
   "outputs": [
    {
     "data": {
      "text/plain": [
       "in     7270\n",
       "out    186 \n",
       "Name: direction, dtype: int64"
      ]
     },
     "execution_count": 25,
     "metadata": {},
     "output_type": "execute_result"
    }
   ],
   "source": [
    "dataset[dataset['operator_id'].isna()]['direction'].value_counts()"
   ]
  },
  {
   "cell_type": "code",
   "execution_count": 26,
   "metadata": {},
   "outputs": [
    {
     "data": {
      "text/plain": [
       "True     7343\n",
       "False    113 \n",
       "Name: is_missed_call, dtype: int64"
      ]
     },
     "execution_count": 26,
     "metadata": {},
     "output_type": "execute_result"
    }
   ],
   "source": [
    "dataset[dataset['operator_id'].isna()]['is_missed_call'].value_counts()"
   ]
  },
  {
   "cell_type": "markdown",
   "metadata": {},
   "source": [
    "Большинство пропусков в внутренних, пропущенных и входящих вызовах."
   ]
  },
  {
   "cell_type": "markdown",
   "metadata": {},
   "source": [
    "Смотрим пропуски в столбце internal"
   ]
  },
  {
   "cell_type": "code",
   "execution_count": 27,
   "metadata": {},
   "outputs": [
    {
     "data": {
      "text/plain": [
       "110"
      ]
     },
     "execution_count": 27,
     "metadata": {},
     "output_type": "execute_result"
    }
   ],
   "source": [
    "dataset['internal'].isna().sum()"
   ]
  },
  {
   "cell_type": "code",
   "execution_count": 28,
   "metadata": {},
   "outputs": [
    {
     "data": {
      "text/html": [
       "<div>\n",
       "<style scoped>\n",
       "    .dataframe tbody tr th:only-of-type {\n",
       "        vertical-align: middle;\n",
       "    }\n",
       "\n",
       "    .dataframe tbody tr th {\n",
       "        vertical-align: top;\n",
       "    }\n",
       "\n",
       "    .dataframe thead th {\n",
       "        text-align: right;\n",
       "    }\n",
       "</style>\n",
       "<table border=\"1\" class=\"dataframe\">\n",
       "  <thead>\n",
       "    <tr style=\"text-align: right;\">\n",
       "      <th></th>\n",
       "      <th>user_id</th>\n",
       "      <th>date</th>\n",
       "      <th>direction</th>\n",
       "      <th>internal</th>\n",
       "      <th>operator_id</th>\n",
       "      <th>is_missed_call</th>\n",
       "      <th>calls_count</th>\n",
       "      <th>call_duration</th>\n",
       "      <th>total_call_duration</th>\n",
       "    </tr>\n",
       "  </thead>\n",
       "  <tbody>\n",
       "    <tr>\n",
       "      <th>917</th>\n",
       "      <td>166405</td>\n",
       "      <td>2019-09-17 21:00:00</td>\n",
       "      <td>in</td>\n",
       "      <td>NaN</td>\n",
       "      <td>&lt;NA&gt;</td>\n",
       "      <td>True</td>\n",
       "      <td>1</td>\n",
       "      <td>0</td>\n",
       "      <td>59</td>\n",
       "    </tr>\n",
       "    <tr>\n",
       "      <th>996</th>\n",
       "      <td>166405</td>\n",
       "      <td>2019-09-30 21:00:00</td>\n",
       "      <td>in</td>\n",
       "      <td>NaN</td>\n",
       "      <td>&lt;NA&gt;</td>\n",
       "      <td>True</td>\n",
       "      <td>1</td>\n",
       "      <td>0</td>\n",
       "      <td>1</td>\n",
       "    </tr>\n",
       "    <tr>\n",
       "      <th>1705</th>\n",
       "      <td>166406</td>\n",
       "      <td>2019-08-19 21:00:00</td>\n",
       "      <td>in</td>\n",
       "      <td>NaN</td>\n",
       "      <td>&lt;NA&gt;</td>\n",
       "      <td>True</td>\n",
       "      <td>1</td>\n",
       "      <td>0</td>\n",
       "      <td>36</td>\n",
       "    </tr>\n",
       "    <tr>\n",
       "      <th>1761</th>\n",
       "      <td>166406</td>\n",
       "      <td>2019-09-01 21:00:00</td>\n",
       "      <td>in</td>\n",
       "      <td>NaN</td>\n",
       "      <td>879898</td>\n",
       "      <td>False</td>\n",
       "      <td>1</td>\n",
       "      <td>2</td>\n",
       "      <td>9</td>\n",
       "    </tr>\n",
       "    <tr>\n",
       "      <th>5645</th>\n",
       "      <td>166541</td>\n",
       "      <td>2019-09-25 21:00:00</td>\n",
       "      <td>in</td>\n",
       "      <td>NaN</td>\n",
       "      <td>908960</td>\n",
       "      <td>False</td>\n",
       "      <td>1</td>\n",
       "      <td>393</td>\n",
       "      <td>423</td>\n",
       "    </tr>\n",
       "  </tbody>\n",
       "</table>\n",
       "</div>"
      ],
      "text/plain": [
       "      user_id                date direction internal  operator_id  \\\n",
       "917   166405  2019-09-17 21:00:00  in        NaN      <NA>          \n",
       "996   166405  2019-09-30 21:00:00  in        NaN      <NA>          \n",
       "1705  166406  2019-08-19 21:00:00  in        NaN      <NA>          \n",
       "1761  166406  2019-09-01 21:00:00  in        NaN      879898        \n",
       "5645  166541  2019-09-25 21:00:00  in        NaN      908960        \n",
       "\n",
       "      is_missed_call  calls_count  call_duration  total_call_duration  \n",
       "917   True            1            0              59                   \n",
       "996   True            1            0              1                    \n",
       "1705  True            1            0              36                   \n",
       "1761  False           1            2              9                    \n",
       "5645  False           1            393            423                  "
      ]
     },
     "execution_count": 28,
     "metadata": {},
     "output_type": "execute_result"
    }
   ],
   "source": [
    "nan1 = dataset[dataset['internal'].isna() == True]\n",
    "nan1.head()"
   ]
  },
  {
   "cell_type": "code",
   "execution_count": 29,
   "metadata": {},
   "outputs": [
    {
     "data": {
      "text/plain": [
       "921318    4\n",
       "932798    3\n",
       "931458    2\n",
       "919204    2\n",
       "919552    2\n",
       "901880    2\n",
       "903312    2\n",
       "890404    2\n",
       "919164    2\n",
       "919790    2\n",
       "944220    2\n",
       "908960    1\n",
       "906396    1\n",
       "906406    1\n",
       "906400    1\n",
       "905432    1\n",
       "935348    1\n",
       "912684    1\n",
       "906294    1\n",
       "908082    1\n",
       "919554    1\n",
       "910018    1\n",
       "908958    1\n",
       "910540    1\n",
       "893402    1\n",
       "952948    1\n",
       "923526    1\n",
       "929332    1\n",
       "921818    1\n",
       "919206    1\n",
       "945046    1\n",
       "940658    1\n",
       "958460    1\n",
       "936514    1\n",
       "944216    1\n",
       "944222    1\n",
       "936110    1\n",
       "879898    1\n",
       "940430    1\n",
       "929424    1\n",
       "958394    1\n",
       "Name: operator_id, dtype: Int64"
      ]
     },
     "execution_count": 29,
     "metadata": {},
     "output_type": "execute_result"
    }
   ],
   "source": [
    "dataset[dataset['internal'].isna()]['operator_id'].value_counts()"
   ]
  },
  {
   "cell_type": "code",
   "execution_count": 30,
   "metadata": {},
   "outputs": [
    {
     "data": {
      "text/plain": [
       "True     56\n",
       "False    54\n",
       "Name: is_missed_call, dtype: int64"
      ]
     },
     "execution_count": 30,
     "metadata": {},
     "output_type": "execute_result"
    }
   ],
   "source": [
    "dataset[dataset['internal'].isna()]['is_missed_call'].value_counts()"
   ]
  },
  {
   "cell_type": "code",
   "execution_count": 31,
   "metadata": {},
   "outputs": [
    {
     "data": {
      "text/plain": [
       "in     108\n",
       "out    2  \n",
       "Name: direction, dtype: int64"
      ]
     },
     "execution_count": 31,
     "metadata": {},
     "output_type": "execute_result"
    }
   ],
   "source": [
    "dataset[dataset['internal'].isna()]['direction'].value_counts()"
   ]
  },
  {
   "cell_type": "markdown",
   "metadata": {},
   "source": [
    "Пропуски в столбце internal почти все входящие,половина пропущенных.Больше всего пропусков у оператора 921318(4),но в самом столбце с операторами много пропусков."
   ]
  },
  {
   "cell_type": "code",
   "execution_count": 32,
   "metadata": {},
   "outputs": [],
   "source": [
    "# Удаляем пропуски\n",
    "dataset = dataset.dropna()"
   ]
  },
  {
   "cell_type": "code",
   "execution_count": 33,
   "metadata": {},
   "outputs": [
    {
     "data": {
      "text/plain": [
       "user_id                0\n",
       "date                   0\n",
       "direction              0\n",
       "internal               0\n",
       "operator_id            0\n",
       "is_missed_call         0\n",
       "calls_count            0\n",
       "call_duration          0\n",
       "total_call_duration    0\n",
       "dtype: int64"
      ]
     },
     "execution_count": 33,
     "metadata": {},
     "output_type": "execute_result"
    }
   ],
   "source": [
    "dataset.isna().sum()"
   ]
  },
  {
   "cell_type": "markdown",
   "metadata": {},
   "source": [
    "Посмотрим на длительность всех звонков. Переведем столбцы в минуты.Так как рабочий день у оператора не больше 12часов(720 минут),всё что больше это аномалия."
   ]
  },
  {
   "cell_type": "code",
   "execution_count": 34,
   "metadata": {},
   "outputs": [
    {
     "data": {
      "text/html": [
       "<div>\n",
       "<style scoped>\n",
       "    .dataframe tbody tr th:only-of-type {\n",
       "        vertical-align: middle;\n",
       "    }\n",
       "\n",
       "    .dataframe tbody tr th {\n",
       "        vertical-align: top;\n",
       "    }\n",
       "\n",
       "    .dataframe thead th {\n",
       "        text-align: right;\n",
       "    }\n",
       "</style>\n",
       "<table border=\"1\" class=\"dataframe\">\n",
       "  <thead>\n",
       "    <tr style=\"text-align: right;\">\n",
       "      <th></th>\n",
       "      <th>user_id</th>\n",
       "      <th>date</th>\n",
       "      <th>direction</th>\n",
       "      <th>internal</th>\n",
       "      <th>operator_id</th>\n",
       "      <th>is_missed_call</th>\n",
       "      <th>calls_count</th>\n",
       "      <th>call_duration</th>\n",
       "      <th>total_call_duration</th>\n",
       "    </tr>\n",
       "  </thead>\n",
       "  <tbody>\n",
       "    <tr>\n",
       "      <th>6318</th>\n",
       "      <td>166582</td>\n",
       "      <td>2019-09-24 21:00:00</td>\n",
       "      <td>out</td>\n",
       "      <td>False</td>\n",
       "      <td>885876</td>\n",
       "      <td>False</td>\n",
       "      <td>1230</td>\n",
       "      <td>2407</td>\n",
       "      <td>2770</td>\n",
       "    </tr>\n",
       "    <tr>\n",
       "      <th>6322</th>\n",
       "      <td>166582</td>\n",
       "      <td>2019-09-25 21:00:00</td>\n",
       "      <td>out</td>\n",
       "      <td>False</td>\n",
       "      <td>885876</td>\n",
       "      <td>False</td>\n",
       "      <td>843</td>\n",
       "      <td>2204</td>\n",
       "      <td>2449</td>\n",
       "    </tr>\n",
       "    <tr>\n",
       "      <th>6192</th>\n",
       "      <td>166582</td>\n",
       "      <td>2019-09-08 21:00:00</td>\n",
       "      <td>out</td>\n",
       "      <td>False</td>\n",
       "      <td>885876</td>\n",
       "      <td>False</td>\n",
       "      <td>1138</td>\n",
       "      <td>2019</td>\n",
       "      <td>2366</td>\n",
       "    </tr>\n",
       "    <tr>\n",
       "      <th>6266</th>\n",
       "      <td>166582</td>\n",
       "      <td>2019-09-17 21:00:00</td>\n",
       "      <td>out</td>\n",
       "      <td>False</td>\n",
       "      <td>885876</td>\n",
       "      <td>False</td>\n",
       "      <td>1013</td>\n",
       "      <td>2028</td>\n",
       "      <td>2335</td>\n",
       "    </tr>\n",
       "    <tr>\n",
       "      <th>6216</th>\n",
       "      <td>166582</td>\n",
       "      <td>2019-09-11 21:00:00</td>\n",
       "      <td>out</td>\n",
       "      <td>False</td>\n",
       "      <td>885876</td>\n",
       "      <td>False</td>\n",
       "      <td>696</td>\n",
       "      <td>2089</td>\n",
       "      <td>2311</td>\n",
       "    </tr>\n",
       "    <tr>\n",
       "      <th>6367</th>\n",
       "      <td>166582</td>\n",
       "      <td>2019-10-01 21:00:00</td>\n",
       "      <td>out</td>\n",
       "      <td>False</td>\n",
       "      <td>885876</td>\n",
       "      <td>False</td>\n",
       "      <td>995</td>\n",
       "      <td>2003</td>\n",
       "      <td>2289</td>\n",
       "    </tr>\n",
       "    <tr>\n",
       "      <th>6208</th>\n",
       "      <td>166582</td>\n",
       "      <td>2019-09-10 21:00:00</td>\n",
       "      <td>out</td>\n",
       "      <td>False</td>\n",
       "      <td>885876</td>\n",
       "      <td>False</td>\n",
       "      <td>946</td>\n",
       "      <td>1918</td>\n",
       "      <td>2212</td>\n",
       "    </tr>\n",
       "    <tr>\n",
       "      <th>6298</th>\n",
       "      <td>166582</td>\n",
       "      <td>2019-09-22 21:00:00</td>\n",
       "      <td>out</td>\n",
       "      <td>False</td>\n",
       "      <td>885876</td>\n",
       "      <td>False</td>\n",
       "      <td>1436</td>\n",
       "      <td>1726</td>\n",
       "      <td>2159</td>\n",
       "    </tr>\n",
       "    <tr>\n",
       "      <th>6434</th>\n",
       "      <td>166582</td>\n",
       "      <td>2019-10-08 21:00:00</td>\n",
       "      <td>out</td>\n",
       "      <td>False</td>\n",
       "      <td>885876</td>\n",
       "      <td>False</td>\n",
       "      <td>696</td>\n",
       "      <td>1953</td>\n",
       "      <td>2157</td>\n",
       "    </tr>\n",
       "    <tr>\n",
       "      <th>6278</th>\n",
       "      <td>166582</td>\n",
       "      <td>2019-09-19 21:00:00</td>\n",
       "      <td>out</td>\n",
       "      <td>False</td>\n",
       "      <td>885876</td>\n",
       "      <td>False</td>\n",
       "      <td>737</td>\n",
       "      <td>1908</td>\n",
       "      <td>2132</td>\n",
       "    </tr>\n",
       "  </tbody>\n",
       "</table>\n",
       "</div>"
      ],
      "text/plain": [
       "      user_id                date direction internal  operator_id  \\\n",
       "6318  166582  2019-09-24 21:00:00  out       False    885876        \n",
       "6322  166582  2019-09-25 21:00:00  out       False    885876        \n",
       "6192  166582  2019-09-08 21:00:00  out       False    885876        \n",
       "6266  166582  2019-09-17 21:00:00  out       False    885876        \n",
       "6216  166582  2019-09-11 21:00:00  out       False    885876        \n",
       "6367  166582  2019-10-01 21:00:00  out       False    885876        \n",
       "6208  166582  2019-09-10 21:00:00  out       False    885876        \n",
       "6298  166582  2019-09-22 21:00:00  out       False    885876        \n",
       "6434  166582  2019-10-08 21:00:00  out       False    885876        \n",
       "6278  166582  2019-09-19 21:00:00  out       False    885876        \n",
       "\n",
       "      is_missed_call  calls_count  call_duration  total_call_duration  \n",
       "6318  False           1230         2407           2770                 \n",
       "6322  False           843          2204           2449                 \n",
       "6192  False           1138         2019           2366                 \n",
       "6266  False           1013         2028           2335                 \n",
       "6216  False           696          2089           2311                 \n",
       "6367  False           995          2003           2289                 \n",
       "6208  False           946          1918           2212                 \n",
       "6298  False           1436         1726           2159                 \n",
       "6434  False           696          1953           2157                 \n",
       "6278  False           737          1908           2132                 "
      ]
     },
     "execution_count": 34,
     "metadata": {},
     "output_type": "execute_result"
    }
   ],
   "source": [
    "dataset['call_duration'] = (dataset['call_duration']/60).apply(np.ceil).astype('int')\n",
    "dataset['total_call_duration'] = (dataset['total_call_duration']/60).apply(np.ceil).astype('int')\n",
    "dataset.sort_values('total_call_duration', ascending=False).head(10)"
   ]
  },
  {
   "cell_type": "code",
   "execution_count": 35,
   "metadata": {},
   "outputs": [
    {
     "data": {
      "text/html": [
       "<div>\n",
       "<style scoped>\n",
       "    .dataframe tbody tr th:only-of-type {\n",
       "        vertical-align: middle;\n",
       "    }\n",
       "\n",
       "    .dataframe tbody tr th {\n",
       "        vertical-align: top;\n",
       "    }\n",
       "\n",
       "    .dataframe thead th {\n",
       "        text-align: right;\n",
       "    }\n",
       "</style>\n",
       "<table border=\"1\" class=\"dataframe\">\n",
       "  <thead>\n",
       "    <tr style=\"text-align: right;\">\n",
       "      <th></th>\n",
       "      <th></th>\n",
       "      <th>total_call_duration</th>\n",
       "      <th>call_duration</th>\n",
       "    </tr>\n",
       "    <tr>\n",
       "      <th>date</th>\n",
       "      <th>user_id</th>\n",
       "      <th></th>\n",
       "      <th></th>\n",
       "    </tr>\n",
       "  </thead>\n",
       "  <tbody>\n",
       "    <tr>\n",
       "      <th>2019-09-30 21:00:00</th>\n",
       "      <th>167626</th>\n",
       "      <td>4879</td>\n",
       "      <td>3371</td>\n",
       "    </tr>\n",
       "    <tr>\n",
       "      <th>2019-10-02 21:00:00</th>\n",
       "      <th>167626</th>\n",
       "      <td>4825</td>\n",
       "      <td>3154</td>\n",
       "    </tr>\n",
       "    <tr>\n",
       "      <th>2019-10-08 21:00:00</th>\n",
       "      <th>166582</th>\n",
       "      <td>4760</td>\n",
       "      <td>3702</td>\n",
       "    </tr>\n",
       "    <tr>\n",
       "      <th>2019-10-03 21:00:00</th>\n",
       "      <th>167626</th>\n",
       "      <td>4639</td>\n",
       "      <td>3165</td>\n",
       "    </tr>\n",
       "    <tr>\n",
       "      <th>2019-09-24 21:00:00</th>\n",
       "      <th>166582</th>\n",
       "      <td>4609</td>\n",
       "      <td>3422</td>\n",
       "    </tr>\n",
       "  </tbody>\n",
       "</table>\n",
       "</div>"
      ],
      "text/plain": [
       "                             total_call_duration  call_duration\n",
       "date                user_id                                    \n",
       "2019-09-30 21:00:00 167626   4879                 3371         \n",
       "2019-10-02 21:00:00 167626   4825                 3154         \n",
       "2019-10-08 21:00:00 166582   4760                 3702         \n",
       "2019-10-03 21:00:00 167626   4639                 3165         \n",
       "2019-09-24 21:00:00 166582   4609                 3422         "
      ]
     },
     "execution_count": 35,
     "metadata": {},
     "output_type": "execute_result"
    }
   ],
   "source": [
    "dataset.groupby(['date', 'user_id'])['total_call_duration', 'call_duration'].sum().\\\n",
    "                    sort_values('total_call_duration', ascending=False).head()"
   ]
  },
  {
   "cell_type": "markdown",
   "metadata": {},
   "source": [
    "Исключим клиентов, которые разговаривают больше 12 часов в день. И создадим новую таблицу с названием na (not anomaly)"
   ]
  },
  {
   "cell_type": "code",
   "execution_count": 36,
   "metadata": {},
   "outputs": [],
   "source": [
    "na = dataset.query('total_call_duration < 720')"
   ]
  },
  {
   "cell_type": "code",
   "execution_count": 37,
   "metadata": {},
   "outputs": [
    {
     "data": {
      "text/html": [
       "<div>\n",
       "<style scoped>\n",
       "    .dataframe tbody tr th:only-of-type {\n",
       "        vertical-align: middle;\n",
       "    }\n",
       "\n",
       "    .dataframe tbody tr th {\n",
       "        vertical-align: top;\n",
       "    }\n",
       "\n",
       "    .dataframe thead th {\n",
       "        text-align: right;\n",
       "    }\n",
       "</style>\n",
       "<table border=\"1\" class=\"dataframe\">\n",
       "  <thead>\n",
       "    <tr style=\"text-align: right;\">\n",
       "      <th></th>\n",
       "      <th>user_id</th>\n",
       "      <th>date</th>\n",
       "      <th>direction</th>\n",
       "      <th>internal</th>\n",
       "      <th>operator_id</th>\n",
       "      <th>is_missed_call</th>\n",
       "      <th>calls_count</th>\n",
       "      <th>call_duration</th>\n",
       "      <th>total_call_duration</th>\n",
       "    </tr>\n",
       "  </thead>\n",
       "  <tbody>\n",
       "    <tr>\n",
       "      <th>6565</th>\n",
       "      <td>166582</td>\n",
       "      <td>2019-10-21 21:00:00</td>\n",
       "      <td>out</td>\n",
       "      <td>False</td>\n",
       "      <td>885876</td>\n",
       "      <td>False</td>\n",
       "      <td>222</td>\n",
       "      <td>639</td>\n",
       "      <td>709</td>\n",
       "    </tr>\n",
       "    <tr>\n",
       "      <th>5983</th>\n",
       "      <td>166582</td>\n",
       "      <td>2019-08-12 21:00:00</td>\n",
       "      <td>out</td>\n",
       "      <td>False</td>\n",
       "      <td>885890</td>\n",
       "      <td>False</td>\n",
       "      <td>308</td>\n",
       "      <td>586</td>\n",
       "      <td>679</td>\n",
       "    </tr>\n",
       "    <tr>\n",
       "      <th>6384</th>\n",
       "      <td>166582</td>\n",
       "      <td>2019-10-03 21:00:00</td>\n",
       "      <td>out</td>\n",
       "      <td>False</td>\n",
       "      <td>885890</td>\n",
       "      <td>False</td>\n",
       "      <td>338</td>\n",
       "      <td>568</td>\n",
       "      <td>670</td>\n",
       "    </tr>\n",
       "    <tr>\n",
       "      <th>6065</th>\n",
       "      <td>166582</td>\n",
       "      <td>2019-08-22 21:00:00</td>\n",
       "      <td>out</td>\n",
       "      <td>False</td>\n",
       "      <td>885876</td>\n",
       "      <td>False</td>\n",
       "      <td>329</td>\n",
       "      <td>559</td>\n",
       "      <td>660</td>\n",
       "    </tr>\n",
       "    <tr>\n",
       "      <th>6128</th>\n",
       "      <td>166582</td>\n",
       "      <td>2019-08-31 21:00:00</td>\n",
       "      <td>out</td>\n",
       "      <td>False</td>\n",
       "      <td>885876</td>\n",
       "      <td>False</td>\n",
       "      <td>229</td>\n",
       "      <td>583</td>\n",
       "      <td>654</td>\n",
       "    </tr>\n",
       "  </tbody>\n",
       "</table>\n",
       "</div>"
      ],
      "text/plain": [
       "      user_id                date direction internal  operator_id  \\\n",
       "6565  166582  2019-10-21 21:00:00  out       False    885876        \n",
       "5983  166582  2019-08-12 21:00:00  out       False    885890        \n",
       "6384  166582  2019-10-03 21:00:00  out       False    885890        \n",
       "6065  166582  2019-08-22 21:00:00  out       False    885876        \n",
       "6128  166582  2019-08-31 21:00:00  out       False    885876        \n",
       "\n",
       "      is_missed_call  calls_count  call_duration  total_call_duration  \n",
       "6565  False           222          639            709                  \n",
       "5983  False           308          586            679                  \n",
       "6384  False           338          568            670                  \n",
       "6065  False           329          559            660                  \n",
       "6128  False           229          583            654                  "
      ]
     },
     "execution_count": 37,
     "metadata": {},
     "output_type": "execute_result"
    }
   ],
   "source": [
    "na.sort_values('total_call_duration', ascending=False).head()"
   ]
  },
  {
   "cell_type": "markdown",
   "metadata": {},
   "source": [
    "Сравниваем"
   ]
  },
  {
   "cell_type": "code",
   "execution_count": 38,
   "metadata": {},
   "outputs": [
    {
     "data": {
      "text/plain": [
       "count    41491.000000\n",
       "mean     22.554699   \n",
       "std      79.812920   \n",
       "min      0.000000    \n",
       "25%      2.000000    \n",
       "50%      5.000000    \n",
       "75%      19.000000   \n",
       "max      2770.000000 \n",
       "Name: total_call_duration, dtype: float64"
      ]
     },
     "execution_count": 38,
     "metadata": {},
     "output_type": "execute_result"
    }
   ],
   "source": [
    "dataset['total_call_duration'].describe()"
   ]
  },
  {
   "cell_type": "code",
   "execution_count": 39,
   "metadata": {},
   "outputs": [
    {
     "data": {
      "text/plain": [
       "count    41381.000000\n",
       "mean     19.219690   \n",
       "std      40.594475   \n",
       "min      0.000000    \n",
       "25%      2.000000    \n",
       "50%      5.000000    \n",
       "75%      19.000000   \n",
       "max      709.000000  \n",
       "Name: total_call_duration, dtype: float64"
      ]
     },
     "execution_count": 39,
     "metadata": {},
     "output_type": "execute_result"
    }
   ],
   "source": [
    "na['total_call_duration'].describe()"
   ]
  },
  {
   "cell_type": "markdown",
   "metadata": {},
   "source": [
    "Убрали 121 значения. Стало: среднее 17,медиана 4. Посмотрим на гистограмме и боксплоте."
   ]
  },
  {
   "cell_type": "code",
   "execution_count": 40,
   "metadata": {
    "scrolled": true
   },
   "outputs": [
    {
     "data": {
      "image/png": "[encoded data removed]",
      "text/plain": [
       "<Figure size 720x360 with 1 Axes>"
      ]
     },
     "metadata": {
      "needs_background": "light"
     },
     "output_type": "display_data"
    }
   ],
   "source": [
    "na.hist('total_call_duration',bins=50, range = (0, 460), figsize = (10,5))\n",
    "plt.title('Длительность звонка с учётом времени ожидания')\n",
    "plt.xlabel('Минуты') \n",
    "plt.ylabel('Количество')\n",
    "plt.show()"
   ]
  },
  {
   "cell_type": "code",
   "execution_count": 41,
   "metadata": {},
   "outputs": [
    {
     "data": {
      "image/png": "[encoded data removed]",
      "text/plain": [
       "<Figure size 432x288 with 1 Axes>"
      ]
     },
     "metadata": {
      "needs_background": "light"
     },
     "output_type": "display_data"
    }
   ],
   "source": [
    "plt.ylim(0,40) \n",
    "na.boxplot(column = 'total_call_duration', showfliers = False)\n",
    "plt.title('Длительность звонка с учётом времени ожидания')\n",
    "plt.ylabel('Минуты')\n",
    "plt.show()"
   ]
  },
  {
   "cell_type": "markdown",
   "metadata": {},
   "source": [
    "Пик 2-15, медиана 4 минуты."
   ]
  },
  {
   "cell_type": "markdown",
   "metadata": {},
   "source": [
    "Добавляем колонки с месяцами"
   ]
  },
  {
   "cell_type": "code",
   "execution_count": 42,
   "metadata": {},
   "outputs": [],
   "source": [
    "na['month'] = na['date'].astype('datetime64[M]')\n",
    "clients['month_start'] = clients['date_start'].astype('datetime64[M]')"
   ]
  },
  {
   "cell_type": "markdown",
   "metadata": {},
   "source": [
    "**Промежуточные выводы:**"
   ]
  },
  {
   "cell_type": "markdown",
   "metadata": {},
   "source": [
    "Преобразовали типы, убрали часовой пояс. Удалили дубликаты и пропуски. Перевели столбцы с временем в минуты. Удалили клиентов, которые разговаривали аномально много. Добавили колонки с месяцами в таблицах."
   ]
  },
  {
   "cell_type": "markdown",
   "metadata": {},
   "source": [
    "## Исследовательский анализ данных"
   ]
  },
  {
   "cell_type": "markdown",
   "metadata": {},
   "source": [
    "Смотрим на начало и конец периода"
   ]
  },
  {
   "cell_type": "code",
   "execution_count": 43,
   "metadata": {},
   "outputs": [
    {
     "data": {
      "text/plain": [
       "Timestamp('2019-08-01 21:00:00')"
      ]
     },
     "metadata": {},
     "output_type": "display_data"
    },
    {
     "data": {
      "text/plain": [
       "Timestamp('2019-11-27 21:00:00')"
      ]
     },
     "execution_count": 43,
     "metadata": {},
     "output_type": "execute_result"
    }
   ],
   "source": [
    "display(na['date'].min())\n",
    "na['date'].max()"
   ]
  },
  {
   "cell_type": "markdown",
   "metadata": {},
   "source": [
    "Данные за период 2019-08-02 - 2019-11-28 (почти 4 месяца)"
   ]
  },
  {
   "cell_type": "code",
   "execution_count": 44,
   "metadata": {},
   "outputs": [
    {
     "data": {
      "text/plain": [
       "732"
      ]
     },
     "execution_count": 44,
     "metadata": {},
     "output_type": "execute_result"
    }
   ],
   "source": [
    "clients.user_id.nunique()"
   ]
  },
  {
   "cell_type": "code",
   "execution_count": 45,
   "metadata": {},
   "outputs": [
    {
     "data": {
      "text/plain": [
       "C    395\n",
       "B    261\n",
       "A    76 \n",
       "Name: tariff_plan, dtype: int64"
      ]
     },
     "execution_count": 45,
     "metadata": {},
     "output_type": "execute_result"
    }
   ],
   "source": [
    "clients['tariff_plan'].value_counts()"
   ]
  },
  {
   "cell_type": "markdown",
   "metadata": {},
   "source": [
    "У нас 3 тарифа, клиенты больше всего используют тариф С. Посмотрим на графике."
   ]
  },
  {
   "cell_type": "code",
   "execution_count": 46,
   "metadata": {},
   "outputs": [
    {
     "data": {
      "image/png": "[encoded data removed]",
      "text/plain": [
       "<Figure size 360x360 with 1 Axes>"
      ]
     },
     "metadata": {
      "needs_background": "light"
     },
     "output_type": "display_data"
    }
   ],
   "source": [
    "id_tariff = clients.groupby('tariff_plan').agg({'user_id':'nunique'})\n",
    "ax = id_tariff.plot(kind='bar', figsize=(5, 5), legend=False, grid=True)\n",
    "plt.xticks(rotation=0)\n",
    "plt.title('Клиенты по тарифам')\n",
    "plt.xlabel('Тарифный план') \n",
    "plt.ylabel('Количество клиентов')\n",
    "plt.show()"
   ]
  },
  {
   "cell_type": "markdown",
   "metadata": {},
   "source": [
    "Теперь посмотрим клиентов по месяцам."
   ]
  },
  {
   "cell_type": "code",
   "execution_count": 47,
   "metadata": {},
   "outputs": [
    {
     "data": {
      "image/png": "[encoded data removed]",
      "text/plain": [
       "<Figure size 360x360 with 1 Axes>"
      ]
     },
     "metadata": {
      "needs_background": "light"
     },
     "output_type": "display_data"
    }
   ],
   "source": [
    "id_month = clients.groupby('month_start').agg({'user_id':'nunique'})\n",
    "ax = id_month.plot(kind='bar', figsize=(5, 5), legend=False, grid=True)\n",
    "plt.xticks(rotation=30)\n",
    "plt.title('Клиенты по месяцам')\n",
    "plt.xlabel('Месяц') \n",
    "plt.ylabel('Количество клиентов')\n",
    "plt.show()"
   ]
  },
  {
   "cell_type": "code",
   "execution_count": 48,
   "metadata": {},
   "outputs": [
    {
     "data": {
      "text/html": [
       "<style type=\"text/css\">\n",
       "#T_6b180_row0_col0 {\n",
       "  background-color: #ff0000;\n",
       "  color: #f1f1f1;\n",
       "}\n",
       "#T_6b180_row1_col0 {\n",
       "  background-color: #f3f0f0;\n",
       "  color: #000000;\n",
       "}\n",
       "#T_6b180_row2_col0 {\n",
       "  background-color: #f88686;\n",
       "  color: #f1f1f1;\n",
       "}\n",
       "</style>\n",
       "<table id=\"T_6b180\">\n",
       "  <thead>\n",
       "    <tr>\n",
       "      <th class=\"blank level0\" >&nbsp;</th>\n",
       "      <th id=\"T_6b180_level0_col0\" class=\"col_heading level0 col0\" >user_id</th>\n",
       "    </tr>\n",
       "    <tr>\n",
       "      <th class=\"index_name level0\" >month_start</th>\n",
       "      <th class=\"blank col0\" >&nbsp;</th>\n",
       "    </tr>\n",
       "  </thead>\n",
       "  <tbody>\n",
       "    <tr>\n",
       "      <th id=\"T_6b180_level0_row0\" class=\"row_heading level0 row0\" >2019-08-01 00:00:00</th>\n",
       "      <td id=\"T_6b180_row0_col0\" class=\"data row0 col0\" >258</td>\n",
       "    </tr>\n",
       "    <tr>\n",
       "      <th id=\"T_6b180_level0_row1\" class=\"row_heading level0 row1\" >2019-09-01 00:00:00</th>\n",
       "      <td id=\"T_6b180_row1_col0\" class=\"data row1 col0\" >231</td>\n",
       "    </tr>\n",
       "    <tr>\n",
       "      <th id=\"T_6b180_level0_row2\" class=\"row_heading level0 row2\" >2019-10-01 00:00:00</th>\n",
       "      <td id=\"T_6b180_row2_col0\" class=\"data row2 col0\" >243</td>\n",
       "    </tr>\n",
       "  </tbody>\n",
       "</table>\n"
      ],
      "text/plain": [
       "<pandas.io.formats.style.Styler at 0x7fd7f80c5cd0>"
      ]
     },
     "execution_count": 48,
     "metadata": {},
     "output_type": "execute_result"
    }
   ],
   "source": [
    "id_month.style.background_gradient(cmap=cm)"
   ]
  },
  {
   "cell_type": "code",
   "execution_count": 49,
   "metadata": {},
   "outputs": [
    {
     "data": {
      "text/html": [
       "<style type=\"text/css\">\n",
       "#T_cde19_row0_col0 {\n",
       "  background-color: #fa6a6a;\n",
       "  color: #f1f1f1;\n",
       "}\n",
       "#T_cde19_row0_col1 {\n",
       "  background-color: #fe1d1d;\n",
       "  color: #f1f1f1;\n",
       "}\n",
       "#T_cde19_row0_col2, #T_cde19_row2_col0, #T_cde19_row2_col1 {\n",
       "  background-color: #ff0000;\n",
       "  color: #f1f1f1;\n",
       "}\n",
       "#T_cde19_row1_col0, #T_cde19_row1_col1, #T_cde19_row2_col2 {\n",
       "  background-color: #f3f0f0;\n",
       "  color: #000000;\n",
       "}\n",
       "#T_cde19_row1_col2 {\n",
       "  background-color: #fe1c1c;\n",
       "  color: #f1f1f1;\n",
       "}\n",
       "</style>\n",
       "<table id=\"T_cde19\">\n",
       "  <thead>\n",
       "    <tr>\n",
       "      <th class=\"index_name level0\" >tariff_plan</th>\n",
       "      <th id=\"T_cde19_level0_col0\" class=\"col_heading level0 col0\" >A</th>\n",
       "      <th id=\"T_cde19_level0_col1\" class=\"col_heading level0 col1\" >B</th>\n",
       "      <th id=\"T_cde19_level0_col2\" class=\"col_heading level0 col2\" >C</th>\n",
       "    </tr>\n",
       "    <tr>\n",
       "      <th class=\"index_name level0\" >month_start</th>\n",
       "      <th class=\"blank col0\" >&nbsp;</th>\n",
       "      <th class=\"blank col1\" >&nbsp;</th>\n",
       "      <th class=\"blank col2\" >&nbsp;</th>\n",
       "    </tr>\n",
       "  </thead>\n",
       "  <tbody>\n",
       "    <tr>\n",
       "      <th id=\"T_cde19_level0_row0\" class=\"row_heading level0 row0\" >2019-08-01 00:00:00</th>\n",
       "      <td id=\"T_cde19_row0_col0\" class=\"data row0 col0\" >26</td>\n",
       "      <td id=\"T_cde19_row0_col1\" class=\"data row0 col1\" >91</td>\n",
       "      <td id=\"T_cde19_row0_col2\" class=\"data row0 col2\" >141</td>\n",
       "    </tr>\n",
       "    <tr>\n",
       "      <th id=\"T_cde19_level0_row1\" class=\"row_heading level0 row1\" >2019-09-01 00:00:00</th>\n",
       "      <td id=\"T_cde19_row1_col0\" class=\"data row1 col0\" >16</td>\n",
       "      <td id=\"T_cde19_row1_col1\" class=\"data row1 col1\" >77</td>\n",
       "      <td id=\"T_cde19_row1_col2\" class=\"data row1 col2\" >138</td>\n",
       "    </tr>\n",
       "    <tr>\n",
       "      <th id=\"T_cde19_level0_row2\" class=\"row_heading level0 row2\" >2019-10-01 00:00:00</th>\n",
       "      <td id=\"T_cde19_row2_col0\" class=\"data row2 col0\" >34</td>\n",
       "      <td id=\"T_cde19_row2_col1\" class=\"data row2 col1\" >93</td>\n",
       "      <td id=\"T_cde19_row2_col2\" class=\"data row2 col2\" >116</td>\n",
       "    </tr>\n",
       "  </tbody>\n",
       "</table>\n"
      ],
      "text/plain": [
       "<pandas.io.formats.style.Styler at 0x7fd83e33eeb0>"
      ]
     },
     "execution_count": 49,
     "metadata": {},
     "output_type": "execute_result"
    }
   ],
   "source": [
    "month_id = clients.groupby(['month_start','tariff_plan'])['user_id'].count().unstack()\n",
    "month_id.style.background_gradient(cmap=cm)"
   ]
  },
  {
   "cell_type": "markdown",
   "metadata": {},
   "source": [
    "Тариф А больше всего подключили в 10 месяце,тариф В в 10 и 8, тариф С в 8 и 9.По общему числу подключений больше в 8 месяце."
   ]
  },
  {
   "cell_type": "code",
   "execution_count": 50,
   "metadata": {},
   "outputs": [
    {
     "data": {
      "image/png": "[encoded data removed]",
      "text/plain": [
       "<Figure size 720x360 with 1 Axes>"
      ]
     },
     "metadata": {
      "needs_background": "light"
     },
     "output_type": "display_data"
    }
   ],
   "source": [
    "ax = month_id.plot(kind='line', figsize=(10,5), grid=True)\n",
    "plt.title('Прирост клиентов по тарифам')\n",
    "plt.xlabel('Месяц') \n",
    "plt.ylabel('Количество клиентов')\n",
    "plt.show()"
   ]
  },
  {
   "cell_type": "markdown",
   "metadata": {},
   "source": [
    "В данных видны только 3 месяца с август, сентябрь и октябрь, ноября в них нет, получается клиенты не регистрировались в ноябре. В сентябре во всех тарифах виден спад, в октябре спад продолжатеся в тарифе С, а в тарифах А и В идет прирост."
   ]
  },
  {
   "cell_type": "code",
   "execution_count": 51,
   "metadata": {},
   "outputs": [
    {
     "data": {
      "text/plain": [
       "1092"
      ]
     },
     "execution_count": 51,
     "metadata": {},
     "output_type": "execute_result"
    }
   ],
   "source": [
    "na.operator_id.nunique()"
   ]
  },
  {
   "cell_type": "markdown",
   "metadata": {},
   "source": [
    "Операторов 1092."
   ]
  },
  {
   "cell_type": "code",
   "execution_count": 52,
   "metadata": {},
   "outputs": [
    {
     "data": {
      "text/html": [
       "<style type=\"text/css\">\n",
       "#T_f38f2_row0_col0 {\n",
       "  background-color: #f3f0f0;\n",
       "  color: #000000;\n",
       "}\n",
       "#T_f38f2_row1_col0 {\n",
       "  background-color: #f97474;\n",
       "  color: #f1f1f1;\n",
       "}\n",
       "#T_f38f2_row2_col0 {\n",
       "  background-color: #ff0505;\n",
       "  color: #f1f1f1;\n",
       "}\n",
       "#T_f38f2_row3_col0 {\n",
       "  background-color: #ff0000;\n",
       "  color: #f1f1f1;\n",
       "}\n",
       "</style>\n",
       "<table id=\"T_f38f2\">\n",
       "  <thead>\n",
       "    <tr>\n",
       "      <th class=\"blank level0\" >&nbsp;</th>\n",
       "      <th id=\"T_f38f2_level0_col0\" class=\"col_heading level0 col0\" >user_id</th>\n",
       "    </tr>\n",
       "    <tr>\n",
       "      <th class=\"index_name level0\" >month</th>\n",
       "      <th class=\"blank col0\" >&nbsp;</th>\n",
       "    </tr>\n",
       "  </thead>\n",
       "  <tbody>\n",
       "    <tr>\n",
       "      <th id=\"T_f38f2_level0_row0\" class=\"row_heading level0 row0\" >2019-08-01 00:00:00</th>\n",
       "      <td id=\"T_f38f2_row0_col0\" class=\"data row0 col0\" >68</td>\n",
       "    </tr>\n",
       "    <tr>\n",
       "      <th id=\"T_f38f2_level0_row1\" class=\"row_heading level0 row1\" >2019-09-01 00:00:00</th>\n",
       "      <td id=\"T_f38f2_row1_col0\" class=\"data row1 col0\" >159</td>\n",
       "    </tr>\n",
       "    <tr>\n",
       "      <th id=\"T_f38f2_level0_row2\" class=\"row_heading level0 row2\" >2019-10-01 00:00:00</th>\n",
       "      <td id=\"T_f38f2_row2_col0\" class=\"data row2 col0\" >240</td>\n",
       "    </tr>\n",
       "    <tr>\n",
       "      <th id=\"T_f38f2_level0_row3\" class=\"row_heading level0 row3\" >2019-11-01 00:00:00</th>\n",
       "      <td id=\"T_f38f2_row3_col0\" class=\"data row3 col0\" >244</td>\n",
       "    </tr>\n",
       "  </tbody>\n",
       "</table>\n"
      ],
      "text/plain": [
       "<pandas.io.formats.style.Styler at 0x7fd858748dc0>"
      ]
     },
     "execution_count": 52,
     "metadata": {},
     "output_type": "execute_result"
    }
   ],
   "source": [
    "id_month = na.groupby('month').agg({'user_id':'nunique'})\n",
    "id_month.style.background_gradient(cmap=cm)"
   ]
  },
  {
   "cell_type": "code",
   "execution_count": 53,
   "metadata": {},
   "outputs": [
    {
     "data": {
      "image/png": "[encoded data removed]",
      "text/plain": [
       "<Figure size 360x360 with 1 Axes>"
      ]
     },
     "metadata": {
      "needs_background": "light"
     },
     "output_type": "display_data"
    }
   ],
   "source": [
    "ax = id_month.plot(kind='bar', figsize=(5, 5), legend=False, grid=True)\n",
    "plt.xticks(rotation=45)\n",
    "plt.title('Клиенты по месяцам')\n",
    "plt.xlabel('Месяц') \n",
    "plt.ylabel('Количество клиентов')\n",
    "plt.show()"
   ]
  },
  {
   "cell_type": "markdown",
   "metadata": {},
   "source": [
    "В октябре и ноябре больше всего клиентов."
   ]
  },
  {
   "cell_type": "code",
   "execution_count": 54,
   "metadata": {},
   "outputs": [
    {
     "data": {
      "text/html": [
       "<div>\n",
       "<style scoped>\n",
       "    .dataframe tbody tr th:only-of-type {\n",
       "        vertical-align: middle;\n",
       "    }\n",
       "\n",
       "    .dataframe tbody tr th {\n",
       "        vertical-align: top;\n",
       "    }\n",
       "\n",
       "    .dataframe thead th {\n",
       "        text-align: right;\n",
       "    }\n",
       "</style>\n",
       "<table border=\"1\" class=\"dataframe\">\n",
       "  <thead>\n",
       "    <tr style=\"text-align: right;\">\n",
       "      <th></th>\n",
       "      <th>user_id</th>\n",
       "    </tr>\n",
       "    <tr>\n",
       "      <th>direction</th>\n",
       "      <th></th>\n",
       "    </tr>\n",
       "  </thead>\n",
       "  <tbody>\n",
       "    <tr>\n",
       "      <th>in</th>\n",
       "      <td>273</td>\n",
       "    </tr>\n",
       "    <tr>\n",
       "      <th>out</th>\n",
       "      <td>222</td>\n",
       "    </tr>\n",
       "  </tbody>\n",
       "</table>\n",
       "</div>"
      ],
      "text/plain": [
       "           user_id\n",
       "direction         \n",
       "in         273    \n",
       "out        222    "
      ]
     },
     "execution_count": 54,
     "metadata": {},
     "output_type": "execute_result"
    }
   ],
   "source": [
    "id_direction = na.groupby('direction').agg({'user_id':'nunique'})\n",
    "id_direction"
   ]
  },
  {
   "cell_type": "code",
   "execution_count": 55,
   "metadata": {},
   "outputs": [
    {
     "data": {
      "image/png": "[encoded data removed]",
      "text/plain": [
       "<Figure size 360x360 with 1 Axes>"
      ]
     },
     "metadata": {
      "needs_background": "light"
     },
     "output_type": "display_data"
    }
   ],
   "source": [
    "ax = id_direction.plot(kind='bar', figsize=(5, 5), legend=False, grid=True)\n",
    "plt.xticks(rotation=45)\n",
    "plt.title('Распределение вызовов')\n",
    "plt.xlabel('Вызовы') \n",
    "plt.ylabel('Количество клиентов')\n",
    "plt.show()"
   ]
  },
  {
   "cell_type": "markdown",
   "metadata": {},
   "source": [
    "307 входящий вызов, 222 исходящих вызовов по клиентам."
   ]
  },
  {
   "cell_type": "code",
   "execution_count": 56,
   "metadata": {},
   "outputs": [
    {
     "data": {
      "text/html": [
       "<div>\n",
       "<style scoped>\n",
       "    .dataframe tbody tr th:only-of-type {\n",
       "        vertical-align: middle;\n",
       "    }\n",
       "\n",
       "    .dataframe tbody tr th {\n",
       "        vertical-align: top;\n",
       "    }\n",
       "\n",
       "    .dataframe thead th {\n",
       "        text-align: right;\n",
       "    }\n",
       "</style>\n",
       "<table border=\"1\" class=\"dataframe\">\n",
       "  <thead>\n",
       "    <tr style=\"text-align: right;\">\n",
       "      <th></th>\n",
       "      <th>user_id</th>\n",
       "    </tr>\n",
       "    <tr>\n",
       "      <th>internal</th>\n",
       "      <th></th>\n",
       "    </tr>\n",
       "  </thead>\n",
       "  <tbody>\n",
       "    <tr>\n",
       "      <th>False</th>\n",
       "      <td>290</td>\n",
       "    </tr>\n",
       "    <tr>\n",
       "      <th>True</th>\n",
       "      <td>160</td>\n",
       "    </tr>\n",
       "  </tbody>\n",
       "</table>\n",
       "</div>"
      ],
      "text/plain": [
       "          user_id\n",
       "internal         \n",
       "False     290    \n",
       "True      160    "
      ]
     },
     "execution_count": 56,
     "metadata": {},
     "output_type": "execute_result"
    }
   ],
   "source": [
    "id_internal = na.groupby('internal').agg({'user_id':'nunique'})\n",
    "id_internal"
   ]
  },
  {
   "cell_type": "code",
   "execution_count": 57,
   "metadata": {},
   "outputs": [
    {
     "data": {
      "image/png": "[encoded data removed]",
      "text/plain": [
       "<Figure size 360x360 with 1 Axes>"
      ]
     },
     "metadata": {
      "needs_background": "light"
     },
     "output_type": "display_data"
    }
   ],
   "source": [
    "ax = id_internal.plot(kind='bar', figsize=(5, 5), legend=False, grid=True)\n",
    "plt.xticks(rotation=45)\n",
    "plt.title('Распределение вызовов')\n",
    "plt.xlabel('Вызовы') \n",
    "plt.ylabel('Количество клиентов')\n",
    "plt.show()"
   ]
  },
  {
   "cell_type": "markdown",
   "metadata": {},
   "source": [
    "Внутренних вызовов 180, внешних 306."
   ]
  },
  {
   "cell_type": "code",
   "execution_count": 58,
   "metadata": {},
   "outputs": [
    {
     "data": {
      "text/html": [
       "<div>\n",
       "<style scoped>\n",
       "    .dataframe tbody tr th:only-of-type {\n",
       "        vertical-align: middle;\n",
       "    }\n",
       "\n",
       "    .dataframe tbody tr th {\n",
       "        vertical-align: top;\n",
       "    }\n",
       "\n",
       "    .dataframe thead th {\n",
       "        text-align: right;\n",
       "    }\n",
       "</style>\n",
       "<table border=\"1\" class=\"dataframe\">\n",
       "  <thead>\n",
       "    <tr style=\"text-align: right;\">\n",
       "      <th></th>\n",
       "      <th>user_id</th>\n",
       "    </tr>\n",
       "    <tr>\n",
       "      <th>is_missed_call</th>\n",
       "      <th></th>\n",
       "    </tr>\n",
       "  </thead>\n",
       "  <tbody>\n",
       "    <tr>\n",
       "      <th>False</th>\n",
       "      <td>287</td>\n",
       "    </tr>\n",
       "    <tr>\n",
       "      <th>True</th>\n",
       "      <td>234</td>\n",
       "    </tr>\n",
       "  </tbody>\n",
       "</table>\n",
       "</div>"
      ],
      "text/plain": [
       "                user_id\n",
       "is_missed_call         \n",
       "False           287    \n",
       "True            234    "
      ]
     },
     "execution_count": 58,
     "metadata": {},
     "output_type": "execute_result"
    }
   ],
   "source": [
    "is_missed_call = na.groupby('is_missed_call').agg({'user_id':'nunique'})\n",
    "is_missed_call"
   ]
  },
  {
   "cell_type": "code",
   "execution_count": 59,
   "metadata": {},
   "outputs": [
    {
     "data": {
      "image/png": "[encoded data removed]",
      "text/plain": [
       "<Figure size 360x360 with 1 Axes>"
      ]
     },
     "metadata": {
      "needs_background": "light"
     },
     "output_type": "display_data"
    }
   ],
   "source": [
    "ax = is_missed_call.plot(kind='bar', figsize=(5, 5), legend=False, grid=True)\n",
    "plt.xticks(rotation=45)\n",
    "plt.title('Распределение вызовов')\n",
    "plt.xlabel('Вызовы') \n",
    "plt.ylabel('Количество клиентов')\n",
    "plt.show()"
   ]
  },
  {
   "cell_type": "markdown",
   "metadata": {},
   "source": [
    "Принятых вызовов 287, пропущенных 305."
   ]
  },
  {
   "cell_type": "code",
   "execution_count": 60,
   "metadata": {},
   "outputs": [
    {
     "data": {
      "text/html": [
       "<div>\n",
       "<style scoped>\n",
       "    .dataframe tbody tr th:only-of-type {\n",
       "        vertical-align: middle;\n",
       "    }\n",
       "\n",
       "    .dataframe tbody tr th {\n",
       "        vertical-align: top;\n",
       "    }\n",
       "\n",
       "    .dataframe thead th {\n",
       "        text-align: right;\n",
       "    }\n",
       "</style>\n",
       "<table border=\"1\" class=\"dataframe\">\n",
       "  <thead>\n",
       "    <tr style=\"text-align: right;\">\n",
       "      <th></th>\n",
       "      <th>total_call_duration</th>\n",
       "      <th>call_duration</th>\n",
       "    </tr>\n",
       "  </thead>\n",
       "  <tbody>\n",
       "    <tr>\n",
       "      <th>count</th>\n",
       "      <td>19645.000000</td>\n",
       "      <td>19645.000000</td>\n",
       "    </tr>\n",
       "    <tr>\n",
       "      <th>mean</th>\n",
       "      <td>40.485111</td>\n",
       "      <td>30.283176</td>\n",
       "    </tr>\n",
       "    <tr>\n",
       "      <th>std</th>\n",
       "      <td>65.574802</td>\n",
       "      <td>47.915749</td>\n",
       "    </tr>\n",
       "    <tr>\n",
       "      <th>min</th>\n",
       "      <td>0.000000</td>\n",
       "      <td>0.000000</td>\n",
       "    </tr>\n",
       "    <tr>\n",
       "      <th>25%</th>\n",
       "      <td>4.000000</td>\n",
       "      <td>3.000000</td>\n",
       "    </tr>\n",
       "    <tr>\n",
       "      <th>50%</th>\n",
       "      <td>16.000000</td>\n",
       "      <td>12.000000</td>\n",
       "    </tr>\n",
       "    <tr>\n",
       "      <th>75%</th>\n",
       "      <td>50.000000</td>\n",
       "      <td>37.000000</td>\n",
       "    </tr>\n",
       "    <tr>\n",
       "      <th>max</th>\n",
       "      <td>829.000000</td>\n",
       "      <td>657.000000</td>\n",
       "    </tr>\n",
       "  </tbody>\n",
       "</table>\n",
       "</div>"
      ],
      "text/plain": [
       "       total_call_duration  call_duration\n",
       "count  19645.000000         19645.000000 \n",
       "mean   40.485111            30.283176    \n",
       "std    65.574802            47.915749    \n",
       "min    0.000000             0.000000     \n",
       "25%    4.000000             3.000000     \n",
       "50%    16.000000            12.000000    \n",
       "75%    50.000000            37.000000    \n",
       "max    829.000000           657.000000   "
      ]
     },
     "execution_count": 60,
     "metadata": {},
     "output_type": "execute_result"
    }
   ],
   "source": [
    "total_call_duration = na.groupby(['date', 'operator_id'])['total_call_duration', 'call_duration'].sum()\n",
    "total_call_duration.describe()"
   ]
  },
  {
   "cell_type": "markdown",
   "metadata": {},
   "source": [
    "Рассмотрим время ожидания вызова."
   ]
  },
  {
   "cell_type": "code",
   "execution_count": 61,
   "metadata": {
    "scrolled": true
   },
   "outputs": [
    {
     "data": {
      "text/html": [
       "<div>\n",
       "<style scoped>\n",
       "    .dataframe tbody tr th:only-of-type {\n",
       "        vertical-align: middle;\n",
       "    }\n",
       "\n",
       "    .dataframe tbody tr th {\n",
       "        vertical-align: top;\n",
       "    }\n",
       "\n",
       "    .dataframe thead th {\n",
       "        text-align: right;\n",
       "    }\n",
       "</style>\n",
       "<table border=\"1\" class=\"dataframe\">\n",
       "  <thead>\n",
       "    <tr style=\"text-align: right;\">\n",
       "      <th></th>\n",
       "      <th>user_id</th>\n",
       "      <th>date</th>\n",
       "      <th>direction</th>\n",
       "      <th>internal</th>\n",
       "      <th>operator_id</th>\n",
       "      <th>is_missed_call</th>\n",
       "      <th>calls_count</th>\n",
       "      <th>call_duration</th>\n",
       "      <th>total_call_duration</th>\n",
       "      <th>month</th>\n",
       "      <th>waiting_duration_mean</th>\n",
       "    </tr>\n",
       "  </thead>\n",
       "  <tbody>\n",
       "    <tr>\n",
       "      <th>1</th>\n",
       "      <td>166377</td>\n",
       "      <td>2019-08-04 21:00:00</td>\n",
       "      <td>out</td>\n",
       "      <td>True</td>\n",
       "      <td>880022</td>\n",
       "      <td>True</td>\n",
       "      <td>3</td>\n",
       "      <td>0</td>\n",
       "      <td>1</td>\n",
       "      <td>2019-08-01</td>\n",
       "      <td>0.333333</td>\n",
       "    </tr>\n",
       "    <tr>\n",
       "      <th>2</th>\n",
       "      <td>166377</td>\n",
       "      <td>2019-08-04 21:00:00</td>\n",
       "      <td>out</td>\n",
       "      <td>True</td>\n",
       "      <td>880020</td>\n",
       "      <td>True</td>\n",
       "      <td>1</td>\n",
       "      <td>0</td>\n",
       "      <td>1</td>\n",
       "      <td>2019-08-01</td>\n",
       "      <td>1.000000</td>\n",
       "    </tr>\n",
       "    <tr>\n",
       "      <th>3</th>\n",
       "      <td>166377</td>\n",
       "      <td>2019-08-04 21:00:00</td>\n",
       "      <td>out</td>\n",
       "      <td>True</td>\n",
       "      <td>880020</td>\n",
       "      <td>False</td>\n",
       "      <td>1</td>\n",
       "      <td>1</td>\n",
       "      <td>1</td>\n",
       "      <td>2019-08-01</td>\n",
       "      <td>0.000000</td>\n",
       "    </tr>\n",
       "    <tr>\n",
       "      <th>4</th>\n",
       "      <td>166377</td>\n",
       "      <td>2019-08-04 21:00:00</td>\n",
       "      <td>out</td>\n",
       "      <td>False</td>\n",
       "      <td>880022</td>\n",
       "      <td>True</td>\n",
       "      <td>3</td>\n",
       "      <td>0</td>\n",
       "      <td>1</td>\n",
       "      <td>2019-08-01</td>\n",
       "      <td>0.333333</td>\n",
       "    </tr>\n",
       "    <tr>\n",
       "      <th>5</th>\n",
       "      <td>166377</td>\n",
       "      <td>2019-08-04 21:00:00</td>\n",
       "      <td>out</td>\n",
       "      <td>False</td>\n",
       "      <td>880020</td>\n",
       "      <td>False</td>\n",
       "      <td>2</td>\n",
       "      <td>1</td>\n",
       "      <td>1</td>\n",
       "      <td>2019-08-01</td>\n",
       "      <td>0.000000</td>\n",
       "    </tr>\n",
       "  </tbody>\n",
       "</table>\n",
       "</div>"
      ],
      "text/plain": [
       "   user_id                date direction internal  operator_id  \\\n",
       "1  166377  2019-08-04 21:00:00  out       True     880022        \n",
       "2  166377  2019-08-04 21:00:00  out       True     880020        \n",
       "3  166377  2019-08-04 21:00:00  out       True     880020        \n",
       "4  166377  2019-08-04 21:00:00  out       False    880022        \n",
       "5  166377  2019-08-04 21:00:00  out       False    880020        \n",
       "\n",
       "   is_missed_call  calls_count  call_duration  total_call_duration      month  \\\n",
       "1  True            3            0              1                   2019-08-01   \n",
       "2  True            1            0              1                   2019-08-01   \n",
       "3  False           1            1              1                   2019-08-01   \n",
       "4  True            3            0              1                   2019-08-01   \n",
       "5  False           2            1              1                   2019-08-01   \n",
       "\n",
       "   waiting_duration_mean  \n",
       "1  0.333333               \n",
       "2  1.000000               \n",
       "3  0.000000               \n",
       "4  0.333333               \n",
       "5  0.000000               "
      ]
     },
     "execution_count": 61,
     "metadata": {},
     "output_type": "execute_result"
    }
   ],
   "source": [
    "na['waiting_duration_mean'] = (na['total_call_duration'] - na['call_duration']) / na['calls_count']\n",
    "na.head()"
   ]
  },
  {
   "cell_type": "code",
   "execution_count": 62,
   "metadata": {},
   "outputs": [
    {
     "name": "stdout",
     "output_type": "stream",
     "text": [
      "минимальное среднее время ожидания вызова: 0.0\n",
      "максимальное среднее время ожидания вызова: 4.0\n"
     ]
    }
   ],
   "source": [
    "print('минимальное среднее время ожидания вызова:', na['waiting_duration_mean'].min())\n",
    "print('максимальное среднее время ожидания вызова:', na['waiting_duration_mean'].max())"
   ]
  },
  {
   "cell_type": "code",
   "execution_count": 63,
   "metadata": {
    "scrolled": true
   },
   "outputs": [
    {
     "data": {
      "text/html": [
       "<div>\n",
       "<style scoped>\n",
       "    .dataframe tbody tr th:only-of-type {\n",
       "        vertical-align: middle;\n",
       "    }\n",
       "\n",
       "    .dataframe tbody tr th {\n",
       "        vertical-align: top;\n",
       "    }\n",
       "\n",
       "    .dataframe thead th {\n",
       "        text-align: right;\n",
       "    }\n",
       "</style>\n",
       "<table border=\"1\" class=\"dataframe\">\n",
       "  <thead>\n",
       "    <tr style=\"text-align: right;\">\n",
       "      <th></th>\n",
       "      <th>user_id</th>\n",
       "      <th>date</th>\n",
       "      <th>direction</th>\n",
       "      <th>internal</th>\n",
       "      <th>operator_id</th>\n",
       "      <th>is_missed_call</th>\n",
       "      <th>calls_count</th>\n",
       "      <th>call_duration</th>\n",
       "      <th>total_call_duration</th>\n",
       "      <th>month</th>\n",
       "      <th>waiting_duration_mean</th>\n",
       "      <th>one_call_duration</th>\n",
       "    </tr>\n",
       "  </thead>\n",
       "  <tbody>\n",
       "    <tr>\n",
       "      <th>1</th>\n",
       "      <td>166377</td>\n",
       "      <td>2019-08-04 21:00:00</td>\n",
       "      <td>out</td>\n",
       "      <td>True</td>\n",
       "      <td>880022</td>\n",
       "      <td>True</td>\n",
       "      <td>3</td>\n",
       "      <td>0</td>\n",
       "      <td>1</td>\n",
       "      <td>2019-08-01</td>\n",
       "      <td>0.333333</td>\n",
       "      <td>0.0</td>\n",
       "    </tr>\n",
       "    <tr>\n",
       "      <th>2</th>\n",
       "      <td>166377</td>\n",
       "      <td>2019-08-04 21:00:00</td>\n",
       "      <td>out</td>\n",
       "      <td>True</td>\n",
       "      <td>880020</td>\n",
       "      <td>True</td>\n",
       "      <td>1</td>\n",
       "      <td>0</td>\n",
       "      <td>1</td>\n",
       "      <td>2019-08-01</td>\n",
       "      <td>1.000000</td>\n",
       "      <td>0.0</td>\n",
       "    </tr>\n",
       "    <tr>\n",
       "      <th>3</th>\n",
       "      <td>166377</td>\n",
       "      <td>2019-08-04 21:00:00</td>\n",
       "      <td>out</td>\n",
       "      <td>True</td>\n",
       "      <td>880020</td>\n",
       "      <td>False</td>\n",
       "      <td>1</td>\n",
       "      <td>1</td>\n",
       "      <td>1</td>\n",
       "      <td>2019-08-01</td>\n",
       "      <td>0.000000</td>\n",
       "      <td>1.0</td>\n",
       "    </tr>\n",
       "    <tr>\n",
       "      <th>4</th>\n",
       "      <td>166377</td>\n",
       "      <td>2019-08-04 21:00:00</td>\n",
       "      <td>out</td>\n",
       "      <td>False</td>\n",
       "      <td>880022</td>\n",
       "      <td>True</td>\n",
       "      <td>3</td>\n",
       "      <td>0</td>\n",
       "      <td>1</td>\n",
       "      <td>2019-08-01</td>\n",
       "      <td>0.333333</td>\n",
       "      <td>0.0</td>\n",
       "    </tr>\n",
       "    <tr>\n",
       "      <th>5</th>\n",
       "      <td>166377</td>\n",
       "      <td>2019-08-04 21:00:00</td>\n",
       "      <td>out</td>\n",
       "      <td>False</td>\n",
       "      <td>880020</td>\n",
       "      <td>False</td>\n",
       "      <td>2</td>\n",
       "      <td>1</td>\n",
       "      <td>1</td>\n",
       "      <td>2019-08-01</td>\n",
       "      <td>0.000000</td>\n",
       "      <td>0.5</td>\n",
       "    </tr>\n",
       "  </tbody>\n",
       "</table>\n",
       "</div>"
      ],
      "text/plain": [
       "   user_id                date direction internal  operator_id  \\\n",
       "1  166377  2019-08-04 21:00:00  out       True     880022        \n",
       "2  166377  2019-08-04 21:00:00  out       True     880020        \n",
       "3  166377  2019-08-04 21:00:00  out       True     880020        \n",
       "4  166377  2019-08-04 21:00:00  out       False    880022        \n",
       "5  166377  2019-08-04 21:00:00  out       False    880020        \n",
       "\n",
       "   is_missed_call  calls_count  call_duration  total_call_duration      month  \\\n",
       "1  True            3            0              1                   2019-08-01   \n",
       "2  True            1            0              1                   2019-08-01   \n",
       "3  False           1            1              1                   2019-08-01   \n",
       "4  True            3            0              1                   2019-08-01   \n",
       "5  False           2            1              1                   2019-08-01   \n",
       "\n",
       "   waiting_duration_mean  one_call_duration  \n",
       "1  0.333333               0.0                \n",
       "2  1.000000               0.0                \n",
       "3  0.000000               1.0                \n",
       "4  0.333333               0.0                \n",
       "5  0.000000               0.5                "
      ]
     },
     "execution_count": 63,
     "metadata": {},
     "output_type": "execute_result"
    }
   ],
   "source": [
    "na['one_call_duration'] = na['call_duration'] / na['calls_count']\n",
    "na.head()"
   ]
  },
  {
   "cell_type": "code",
   "execution_count": 64,
   "metadata": {
    "scrolled": true
   },
   "outputs": [
    {
     "name": "stdout",
     "output_type": "stream",
     "text": [
      "минимальная длительность одного вызова без учета времени ожидания ответа: 0.0\n",
      "максимальное длительность одного вызова без учета времени ожидания ответа: 60.0\n"
     ]
    }
   ],
   "source": [
    "print('минимальная длительность одного вызова без учета времени ожидания ответа:', na['one_call_duration'].min())\n",
    "print('максимальное длительность одного вызова без учета времени ожидания ответа:', na['one_call_duration'].max())"
   ]
  },
  {
   "cell_type": "code",
   "execution_count": 65,
   "metadata": {},
   "outputs": [
    {
     "data": {
      "text/plain": [
       "''"
      ]
     },
     "execution_count": 65,
     "metadata": {},
     "output_type": "execute_result"
    },
    {
     "data": {
      "image/png": "[encoded data removed]",
      "text/plain": [
       "<Figure size 720x360 with 1 Axes>"
      ]
     },
     "metadata": {
      "needs_background": "light"
     },
     "output_type": "display_data"
    }
   ],
   "source": [
    "plt.figure(figsize=(10, 5))\n",
    "na['one_call_duration'].hist(bins=40)\n",
    "plt.xlim(0, 40)\n",
    "plt.title('Распределение времени длительности одного вызова без учета времени ожидания ответа', fontsize=15)\n",
    "plt.xlabel('Длительность одного вызова', fontsize=15)\n",
    "plt.ylabel('Количество вызовов', fontsize=15);\n",
    ";"
   ]
  },
  {
   "cell_type": "markdown",
   "metadata": {},
   "source": [
    "Длительность звонка с учётом времени ожидания среднее 44 мин, медиана 17 мин, максимум 1394мин. Длительность звонка без учёта времени ожидания среднее 33 мин,медиана 13 мин, максимум 1043мин.\n",
    "\n",
    "\n",
    "\n",
    "Из таблицы clients:\n",
    "\n",
    "Данные за период 2019-08-02 - 2019-11-28(почти 4 месяца). В таблице с тарифами 732 клиента,а со звонками 307 клиентов.Видимо у нас какая-то выборка. Лидер по количеству клиентов тариф С. Тариф А больше всего подключили в 10 месяце,тариф В в 10 и 8, тариф С в 8 и 9.По общему числу подключений больше в 8 месяце. В данных 3 месяца с августа по октябрь,ноября в них нет, получается клиенты регистрировались только первые три месяца. В сентябре во всех тарифах виден спад, в октябре спад продолжатеся в тарифе С, а в тарифах А и В идет прирост.\n",
    "\n",
    "Из таблицы na:\n",
    "\n",
    "Всего операторов 1092. В октябре(275) и ноябре(261) большее количество клиентов. В сентябре 177,в августе 86. 307 входящий вызов, 222 исходящих вызовов по клиентам. Внутренних вызовов 180,внешних 306. Принятых вызовов 287,пропущенных 305.\n",
    "\n",
    "Время ожидания вызова:\n",
    "- минимальное среднее время ожидания вызова: 0.0\n",
    "- максимальное среднее время ожидания вызова: 8.0 мин.\n",
    "\n",
    "- минимальная длительность одного вызова без учета времени ожидания ответа: 0.0\n",
    "- максимальное длительность одного вызова без учета времени ожидания ответа: 60.0 мин."
   ]
  },
  {
   "cell_type": "code",
   "execution_count": 66,
   "metadata": {},
   "outputs": [
    {
     "data": {
      "text/html": [
       "<div>\n",
       "<style scoped>\n",
       "    .dataframe tbody tr th:only-of-type {\n",
       "        vertical-align: middle;\n",
       "    }\n",
       "\n",
       "    .dataframe tbody tr th {\n",
       "        vertical-align: top;\n",
       "    }\n",
       "\n",
       "    .dataframe thead th {\n",
       "        text-align: right;\n",
       "    }\n",
       "</style>\n",
       "<table border=\"1\" class=\"dataframe\">\n",
       "  <thead>\n",
       "    <tr style=\"text-align: right;\">\n",
       "      <th></th>\n",
       "      <th>calls_count</th>\n",
       "    </tr>\n",
       "    <tr>\n",
       "      <th>is_missed_call</th>\n",
       "      <th></th>\n",
       "    </tr>\n",
       "  </thead>\n",
       "  <tbody>\n",
       "    <tr>\n",
       "      <th>False</th>\n",
       "      <td>361522</td>\n",
       "    </tr>\n",
       "    <tr>\n",
       "      <th>True</th>\n",
       "      <td>269704</td>\n",
       "    </tr>\n",
       "  </tbody>\n",
       "</table>\n",
       "</div>"
      ],
      "text/plain": [
       "                calls_count\n",
       "is_missed_call             \n",
       "False           361522     \n",
       "True            269704     "
      ]
     },
     "execution_count": 66,
     "metadata": {},
     "output_type": "execute_result"
    }
   ],
   "source": [
    "na.groupby('is_missed_call').agg({'calls_count':'sum'})"
   ]
  },
  {
   "cell_type": "code",
   "execution_count": 67,
   "metadata": {},
   "outputs": [
    {
     "data": {
      "image/png": "[encoded data removed]",
      "text/plain": [
       "<Figure size 360x360 with 1 Axes>"
      ]
     },
     "metadata": {
      "needs_background": "light"
     },
     "output_type": "display_data"
    }
   ],
   "source": [
    "ax = na.groupby('is_missed_call').agg({'calls_count':'sum'}).plot(kind='bar', figsize=(5, 5), legend=False, grid=True)\n",
    "plt.xticks(rotation=45)\n",
    "plt.title('Количество принятых вызовов')\n",
    "plt.xlabel('Вызовы') \n",
    "plt.ylabel('Количество')\n",
    "plt.show()\n"
   ]
  },
  {
   "cell_type": "markdown",
   "metadata": {},
   "source": [
    "**Рассмотрим клиентов, которые ушли**"
   ]
  },
  {
   "cell_type": "code",
   "execution_count": 68,
   "metadata": {},
   "outputs": [],
   "source": [
    "dataset['date'] = pd.to_datetime(dataset['date'], errors='coerce')"
   ]
  },
  {
   "cell_type": "code",
   "execution_count": 69,
   "metadata": {
    "scrolled": true
   },
   "outputs": [],
   "source": [
    "dataset['month'] = dataset['date'].dt.month"
   ]
  },
  {
   "cell_type": "code",
   "execution_count": 70,
   "metadata": {},
   "outputs": [
    {
     "data": {
      "text/plain": [
       "46"
      ]
     },
     "execution_count": 70,
     "metadata": {},
     "output_type": "execute_result"
    }
   ],
   "source": [
    "month_user = dataset.groupby('user_id').agg({'month':'max'})\\\n",
    "                                             .rename(columns={'month':'month_user'})\\\n",
    "                                             .reset_index()\n",
    "id_10 = month_user.query('month_user <= 10')\n",
    "len(id_10)"
   ]
  },
  {
   "cell_type": "code",
   "execution_count": 71,
   "metadata": {},
   "outputs": [],
   "source": [
    "id_46 = id_10.merge(clients, on='user_id', how='left')"
   ]
  },
  {
   "cell_type": "code",
   "execution_count": 72,
   "metadata": {},
   "outputs": [
    {
     "data": {
      "text/plain": [
       "0     166399\n",
       "1     166481\n",
       "2     166507\n",
       "3     166533\n",
       "4     166585\n",
       "5     166609\n",
       "6     166666\n",
       "7     166671\n",
       "8     166726\n",
       "9     166727\n",
       "10    166874\n",
       "11    166884\n",
       "12    166908\n",
       "13    166936\n",
       "14    166941\n",
       "15    166946\n",
       "16    166955\n",
       "17    166958\n",
       "18    166993\n",
       "19    167009\n",
       "20    167011\n",
       "21    167012\n",
       "22    167053\n",
       "23    167110\n",
       "24    167113\n",
       "25    167122\n",
       "26    167124\n",
       "27    167125\n",
       "28    167130\n",
       "29    167141\n",
       "30    167144\n",
       "31    167189\n",
       "32    167244\n",
       "33    167285\n",
       "34    167288\n",
       "35    167474\n",
       "36    167530\n",
       "37    167551\n",
       "38    167626\n",
       "39    167645\n",
       "40    167682\n",
       "41    167759\n",
       "42    167819\n",
       "43    168025\n",
       "44    168093\n",
       "45    168307\n",
       "Name: user_id, dtype: int64"
      ]
     },
     "execution_count": 72,
     "metadata": {},
     "output_type": "execute_result"
    }
   ],
   "source": [
    "id_46['user_id']"
   ]
  },
  {
   "cell_type": "code",
   "execution_count": 73,
   "metadata": {},
   "outputs": [
    {
     "data": {
      "text/html": [
       "<style type=\"text/css\">\n",
       "#T_7418e_row0_col0 {\n",
       "  background-color: #fa6a6a;\n",
       "  color: #f1f1f1;\n",
       "}\n",
       "#T_7418e_row0_col1 {\n",
       "  background-color: #fe1d1d;\n",
       "  color: #f1f1f1;\n",
       "}\n",
       "#T_7418e_row0_col2, #T_7418e_row2_col0, #T_7418e_row2_col1 {\n",
       "  background-color: #ff0000;\n",
       "  color: #f1f1f1;\n",
       "}\n",
       "#T_7418e_row1_col0, #T_7418e_row1_col1, #T_7418e_row2_col2 {\n",
       "  background-color: #f3f0f0;\n",
       "  color: #000000;\n",
       "}\n",
       "#T_7418e_row1_col2 {\n",
       "  background-color: #fe1c1c;\n",
       "  color: #f1f1f1;\n",
       "}\n",
       "</style>\n",
       "<table id=\"T_7418e\">\n",
       "  <thead>\n",
       "    <tr>\n",
       "      <th class=\"index_name level0\" >tariff_plan</th>\n",
       "      <th id=\"T_7418e_level0_col0\" class=\"col_heading level0 col0\" >A</th>\n",
       "      <th id=\"T_7418e_level0_col1\" class=\"col_heading level0 col1\" >B</th>\n",
       "      <th id=\"T_7418e_level0_col2\" class=\"col_heading level0 col2\" >C</th>\n",
       "    </tr>\n",
       "    <tr>\n",
       "      <th class=\"index_name level0\" >month_start</th>\n",
       "      <th class=\"blank col0\" >&nbsp;</th>\n",
       "      <th class=\"blank col1\" >&nbsp;</th>\n",
       "      <th class=\"blank col2\" >&nbsp;</th>\n",
       "    </tr>\n",
       "  </thead>\n",
       "  <tbody>\n",
       "    <tr>\n",
       "      <th id=\"T_7418e_level0_row0\" class=\"row_heading level0 row0\" >2019-08-01 00:00:00</th>\n",
       "      <td id=\"T_7418e_row0_col0\" class=\"data row0 col0\" >26</td>\n",
       "      <td id=\"T_7418e_row0_col1\" class=\"data row0 col1\" >91</td>\n",
       "      <td id=\"T_7418e_row0_col2\" class=\"data row0 col2\" >141</td>\n",
       "    </tr>\n",
       "    <tr>\n",
       "      <th id=\"T_7418e_level0_row1\" class=\"row_heading level0 row1\" >2019-09-01 00:00:00</th>\n",
       "      <td id=\"T_7418e_row1_col0\" class=\"data row1 col0\" >16</td>\n",
       "      <td id=\"T_7418e_row1_col1\" class=\"data row1 col1\" >77</td>\n",
       "      <td id=\"T_7418e_row1_col2\" class=\"data row1 col2\" >138</td>\n",
       "    </tr>\n",
       "    <tr>\n",
       "      <th id=\"T_7418e_level0_row2\" class=\"row_heading level0 row2\" >2019-10-01 00:00:00</th>\n",
       "      <td id=\"T_7418e_row2_col0\" class=\"data row2 col0\" >34</td>\n",
       "      <td id=\"T_7418e_row2_col1\" class=\"data row2 col1\" >93</td>\n",
       "      <td id=\"T_7418e_row2_col2\" class=\"data row2 col2\" >116</td>\n",
       "    </tr>\n",
       "  </tbody>\n",
       "</table>\n"
      ],
      "text/plain": [
       "<pandas.io.formats.style.Styler at 0x7fd85876d610>"
      ]
     },
     "execution_count": 73,
     "metadata": {},
     "output_type": "execute_result"
    }
   ],
   "source": [
    "month_id.style.background_gradient(cmap=cm)"
   ]
  },
  {
   "cell_type": "code",
   "execution_count": 74,
   "metadata": {},
   "outputs": [
    {
     "data": {
      "text/html": [
       "<style type=\"text/css\">\n",
       "#T_3cf64_row0_col0, #T_3cf64_row1_col0, #T_3cf64_row2_col0, #T_3cf64_row2_col1, #T_3cf64_row2_col2 {\n",
       "  background-color: #f3f0f0;\n",
       "  color: #000000;\n",
       "}\n",
       "#T_3cf64_row0_col1 {\n",
       "  background-color: #fb5050;\n",
       "  color: #f1f1f1;\n",
       "}\n",
       "#T_3cf64_row0_col2, #T_3cf64_row1_col1 {\n",
       "  background-color: #ff0000;\n",
       "  color: #f1f1f1;\n",
       "}\n",
       "#T_3cf64_row1_col2 {\n",
       "  background-color: #f96f6f;\n",
       "  color: #f1f1f1;\n",
       "}\n",
       "</style>\n",
       "<table id=\"T_3cf64\">\n",
       "  <thead>\n",
       "    <tr>\n",
       "      <th class=\"index_name level0\" >tariff_plan</th>\n",
       "      <th id=\"T_3cf64_level0_col0\" class=\"col_heading level0 col0\" >A</th>\n",
       "      <th id=\"T_3cf64_level0_col1\" class=\"col_heading level0 col1\" >B</th>\n",
       "      <th id=\"T_3cf64_level0_col2\" class=\"col_heading level0 col2\" >C</th>\n",
       "    </tr>\n",
       "    <tr>\n",
       "      <th class=\"index_name level0\" >month_start</th>\n",
       "      <th class=\"blank col0\" >&nbsp;</th>\n",
       "      <th class=\"blank col1\" >&nbsp;</th>\n",
       "      <th class=\"blank col2\" >&nbsp;</th>\n",
       "    </tr>\n",
       "  </thead>\n",
       "  <tbody>\n",
       "    <tr>\n",
       "      <th id=\"T_3cf64_level0_row0\" class=\"row_heading level0 row0\" >2019-08-01 00:00:00</th>\n",
       "      <td id=\"T_3cf64_row0_col0\" class=\"data row0 col0\" >2.000000</td>\n",
       "      <td id=\"T_3cf64_row0_col1\" class=\"data row0 col1\" >6.000000</td>\n",
       "      <td id=\"T_3cf64_row0_col2\" class=\"data row0 col2\" >15.000000</td>\n",
       "    </tr>\n",
       "    <tr>\n",
       "      <th id=\"T_3cf64_level0_row1\" class=\"row_heading level0 row1\" >2019-09-01 00:00:00</th>\n",
       "      <td id=\"T_3cf64_row1_col0\" class=\"data row1 col0\" >2.000000</td>\n",
       "      <td id=\"T_3cf64_row1_col1\" class=\"data row1 col1\" >8.000000</td>\n",
       "      <td id=\"T_3cf64_row1_col2\" class=\"data row1 col2\" >9.000000</td>\n",
       "    </tr>\n",
       "    <tr>\n",
       "      <th id=\"T_3cf64_level0_row2\" class=\"row_heading level0 row2\" >2019-10-01 00:00:00</th>\n",
       "      <td id=\"T_3cf64_row2_col0\" class=\"data row2 col0\" >nan</td>\n",
       "      <td id=\"T_3cf64_row2_col1\" class=\"data row2 col1\" >2.000000</td>\n",
       "      <td id=\"T_3cf64_row2_col2\" class=\"data row2 col2\" >2.000000</td>\n",
       "    </tr>\n",
       "  </tbody>\n",
       "</table>\n"
      ],
      "text/plain": [
       "<pandas.io.formats.style.Styler at 0x7fd82853a5b0>"
      ]
     },
     "execution_count": 74,
     "metadata": {},
     "output_type": "execute_result"
    }
   ],
   "source": [
    "tariff_id = id_46.groupby(['month_start','tariff_plan'])['user_id'].count().unstack()\n",
    "tariff_id.style.background_gradient(cmap=cm)"
   ]
  },
  {
   "cell_type": "code",
   "execution_count": 75,
   "metadata": {},
   "outputs": [
    {
     "data": {
      "text/html": [
       "<div>\n",
       "<style scoped>\n",
       "    .dataframe tbody tr th:only-of-type {\n",
       "        vertical-align: middle;\n",
       "    }\n",
       "\n",
       "    .dataframe tbody tr th {\n",
       "        vertical-align: top;\n",
       "    }\n",
       "\n",
       "    .dataframe thead th {\n",
       "        text-align: right;\n",
       "    }\n",
       "</style>\n",
       "<table border=\"1\" class=\"dataframe\">\n",
       "  <thead>\n",
       "    <tr style=\"text-align: right;\">\n",
       "      <th></th>\n",
       "      <th>user_id</th>\n",
       "    </tr>\n",
       "    <tr>\n",
       "      <th>tariff_plan</th>\n",
       "      <th></th>\n",
       "    </tr>\n",
       "  </thead>\n",
       "  <tbody>\n",
       "    <tr>\n",
       "      <th>A</th>\n",
       "      <td>4</td>\n",
       "    </tr>\n",
       "    <tr>\n",
       "      <th>B</th>\n",
       "      <td>16</td>\n",
       "    </tr>\n",
       "    <tr>\n",
       "      <th>C</th>\n",
       "      <td>26</td>\n",
       "    </tr>\n",
       "  </tbody>\n",
       "</table>\n",
       "</div>"
      ],
      "text/plain": [
       "             user_id\n",
       "tariff_plan         \n",
       "A            4      \n",
       "B            16     \n",
       "C            26     "
      ]
     },
     "execution_count": 75,
     "metadata": {},
     "output_type": "execute_result"
    }
   ],
   "source": [
    "tariff = id_46.groupby('tariff_plan').agg({'user_id':'nunique'})\n",
    "tariff"
   ]
  },
  {
   "cell_type": "code",
   "execution_count": 76,
   "metadata": {},
   "outputs": [
    {
     "data": {
      "image/png": "[encoded data removed]",
      "text/plain": [
       "<Figure size 360x360 with 1 Axes>"
      ]
     },
     "metadata": {
      "needs_background": "light"
     },
     "output_type": "display_data"
    }
   ],
   "source": [
    "month = id_46.groupby('month_start').agg({'user_id':'nunique'})\n",
    "ax = month.plot(kind='bar', figsize=(5, 5), legend=False, grid=True)\n",
    "plt.xticks(rotation=45)\n",
    "plt.title('Клиенты по месяцам')\n",
    "plt.xlabel('Месяц') \n",
    "plt.ylabel('Количество клиентов')\n",
    "plt.show()"
   ]
  },
  {
   "cell_type": "code",
   "execution_count": 77,
   "metadata": {},
   "outputs": [
    {
     "data": {
      "text/html": [
       "<div>\n",
       "<style scoped>\n",
       "    .dataframe tbody tr th:only-of-type {\n",
       "        vertical-align: middle;\n",
       "    }\n",
       "\n",
       "    .dataframe tbody tr th {\n",
       "        vertical-align: top;\n",
       "    }\n",
       "\n",
       "    .dataframe thead th {\n",
       "        text-align: right;\n",
       "    }\n",
       "</style>\n",
       "<table border=\"1\" class=\"dataframe\">\n",
       "  <thead>\n",
       "    <tr style=\"text-align: right;\">\n",
       "      <th></th>\n",
       "      <th>user_id</th>\n",
       "    </tr>\n",
       "    <tr>\n",
       "      <th>month_start</th>\n",
       "      <th></th>\n",
       "    </tr>\n",
       "  </thead>\n",
       "  <tbody>\n",
       "    <tr>\n",
       "      <th>2019-08-01</th>\n",
       "      <td>23</td>\n",
       "    </tr>\n",
       "    <tr>\n",
       "      <th>2019-09-01</th>\n",
       "      <td>19</td>\n",
       "    </tr>\n",
       "    <tr>\n",
       "      <th>2019-10-01</th>\n",
       "      <td>4</td>\n",
       "    </tr>\n",
       "  </tbody>\n",
       "</table>\n",
       "</div>"
      ],
      "text/plain": [
       "             user_id\n",
       "month_start         \n",
       "2019-08-01   23     \n",
       "2019-09-01   19     \n",
       "2019-10-01   4      "
      ]
     },
     "execution_count": 77,
     "metadata": {},
     "output_type": "execute_result"
    }
   ],
   "source": [
    "month"
   ]
  },
  {
   "cell_type": "markdown",
   "metadata": {},
   "source": [
    "Из 46 ушедших:\n",
    "\n",
    "- Тариф А(5000₽) в 8 месяце из 26 клиентов ушли 2,в 9 месяце пришли 16 и 2 ушли.Всего 4\n",
    "- Тариф В(2000₽) в 8 месяце из 91 клиентов ушли 6,в 9 месяце пришли 77 и 8 ушли,в 10 месяце пришли 93 и 2 ушли.Всего 16.\n",
    "- Тариф С(1000₽) в 8 месяце из 141 клиентов ушли 15,в 9 месяце пришли 138 и 9 ушли,в 10 месяце пришли 116 и 2 ушли.Всего 26.\n",
    "Больше всего клиентов ушло в 8 месяце(23),потом в 9(19) и в 8(4)."
   ]
  },
  {
   "cell_type": "code",
   "execution_count": 78,
   "metadata": {
    "scrolled": true
   },
   "outputs": [
    {
     "data": {
      "text/html": [
       "<div>\n",
       "<style scoped>\n",
       "    .dataframe tbody tr th:only-of-type {\n",
       "        vertical-align: middle;\n",
       "    }\n",
       "\n",
       "    .dataframe tbody tr th {\n",
       "        vertical-align: top;\n",
       "    }\n",
       "\n",
       "    .dataframe thead th {\n",
       "        text-align: right;\n",
       "    }\n",
       "</style>\n",
       "<table border=\"1\" class=\"dataframe\">\n",
       "  <thead>\n",
       "    <tr style=\"text-align: right;\">\n",
       "      <th>lifetime</th>\n",
       "      <th>-1</th>\n",
       "      <th>0</th>\n",
       "      <th>1</th>\n",
       "      <th>2</th>\n",
       "      <th>3</th>\n",
       "    </tr>\n",
       "    <tr>\n",
       "      <th>month_start</th>\n",
       "      <th></th>\n",
       "      <th></th>\n",
       "      <th></th>\n",
       "      <th></th>\n",
       "      <th></th>\n",
       "    </tr>\n",
       "  </thead>\n",
       "  <tbody>\n",
       "    <tr>\n",
       "      <th>2019-08-01</th>\n",
       "      <td>NaN</td>\n",
       "      <td>0.680000</td>\n",
       "      <td>0.880000</td>\n",
       "      <td>0.860000</td>\n",
       "      <td>0.77</td>\n",
       "    </tr>\n",
       "    <tr>\n",
       "      <th>2019-09-01</th>\n",
       "      <td>NaN</td>\n",
       "      <td>0.758242</td>\n",
       "      <td>0.846154</td>\n",
       "      <td>0.791209</td>\n",
       "      <td>NaN</td>\n",
       "    </tr>\n",
       "    <tr>\n",
       "      <th>2019-10-01</th>\n",
       "      <td>0.020202</td>\n",
       "      <td>0.777778</td>\n",
       "      <td>0.959596</td>\n",
       "      <td>NaN</td>\n",
       "      <td>NaN</td>\n",
       "    </tr>\n",
       "  </tbody>\n",
       "</table>\n",
       "</div>"
      ],
      "text/plain": [
       "lifetime           -1         0         1         2     3\n",
       "month_start                                              \n",
       "2019-08-01  NaN        0.680000  0.880000  0.860000  0.77\n",
       "2019-09-01  NaN        0.758242  0.846154  0.791209 NaN  \n",
       "2019-10-01   0.020202  0.777778  0.959596 NaN       NaN  "
      ]
     },
     "execution_count": 78,
     "metadata": {},
     "output_type": "execute_result"
    }
   ],
   "source": [
    "tmp = dataset.copy()\n",
    "tmp = tmp.merge(clients, on = \"user_id\")\n",
    "tmp['month'] = pd.to_datetime(tmp['date']).dt.date.astype('datetime64[M]')\n",
    "tmp['month_start'] = tmp['date_start'].astype('datetime64[M]')\n",
    "tmp['lifetime'] = (tmp['month'] - tmp['month_start']) / np.timedelta64(1,'M')\n",
    "tmp['lifetime'] = tmp['lifetime'].round().astype('int')\n",
    "\n",
    "(tmp\n",
    " .groupby(['month_start','lifetime']).agg(users  = ('user_id', 'nunique')).reset_index()\n",
    " .merge(tmp.groupby('month_start').agg(cohort_size = ('user_id', 'nunique')).reset_index(), \n",
    "               on = 'month_start', how = 'left')\n",
    " .assign(retention = lambda x : x['users'] / x['cohort_size'])\n",
    ").pivot_table(index='month_start', columns='lifetime', values='retention', aggfunc = 'mean')"
   ]
  },
  {
   "cell_type": "markdown",
   "metadata": {},
   "source": [
    "Хорошо видно, что в первый месяц не все совершают звонки, но тут может быть такой случай, когда клиент регистрировался в последние дни месяца и у него не было времени, чтобы начать активность."
   ]
  },
  {
   "cell_type": "code",
   "execution_count": 79,
   "metadata": {},
   "outputs": [],
   "source": [
    "user_46 = id_10.merge(na, on='user_id', how='left')"
   ]
  },
  {
   "cell_type": "code",
   "execution_count": 80,
   "metadata": {},
   "outputs": [
    {
     "data": {
      "text/html": [
       "<div>\n",
       "<style scoped>\n",
       "    .dataframe tbody tr th:only-of-type {\n",
       "        vertical-align: middle;\n",
       "    }\n",
       "\n",
       "    .dataframe tbody tr th {\n",
       "        vertical-align: top;\n",
       "    }\n",
       "\n",
       "    .dataframe thead th {\n",
       "        text-align: right;\n",
       "    }\n",
       "</style>\n",
       "<table border=\"1\" class=\"dataframe\">\n",
       "  <thead>\n",
       "    <tr style=\"text-align: right;\">\n",
       "      <th></th>\n",
       "      <th>user_id</th>\n",
       "      <th>month_user</th>\n",
       "      <th>date</th>\n",
       "      <th>direction</th>\n",
       "      <th>internal</th>\n",
       "      <th>operator_id</th>\n",
       "      <th>is_missed_call</th>\n",
       "      <th>calls_count</th>\n",
       "      <th>call_duration</th>\n",
       "      <th>total_call_duration</th>\n",
       "      <th>month</th>\n",
       "      <th>waiting_duration_mean</th>\n",
       "      <th>one_call_duration</th>\n",
       "    </tr>\n",
       "  </thead>\n",
       "  <tbody>\n",
       "    <tr>\n",
       "      <th>0</th>\n",
       "      <td>166399</td>\n",
       "      <td>10</td>\n",
       "      <td>2019-08-14 21:00:00</td>\n",
       "      <td>in</td>\n",
       "      <td>False</td>\n",
       "      <td>886674</td>\n",
       "      <td>False</td>\n",
       "      <td>2</td>\n",
       "      <td>2</td>\n",
       "      <td>2</td>\n",
       "      <td>2019-08-01</td>\n",
       "      <td>0.0</td>\n",
       "      <td>1.0</td>\n",
       "    </tr>\n",
       "    <tr>\n",
       "      <th>1</th>\n",
       "      <td>166399</td>\n",
       "      <td>10</td>\n",
       "      <td>2019-08-22 21:00:00</td>\n",
       "      <td>in</td>\n",
       "      <td>False</td>\n",
       "      <td>886674</td>\n",
       "      <td>False</td>\n",
       "      <td>1</td>\n",
       "      <td>1</td>\n",
       "      <td>1</td>\n",
       "      <td>2019-08-01</td>\n",
       "      <td>0.0</td>\n",
       "      <td>1.0</td>\n",
       "    </tr>\n",
       "    <tr>\n",
       "      <th>2</th>\n",
       "      <td>166399</td>\n",
       "      <td>10</td>\n",
       "      <td>2019-09-01 21:00:00</td>\n",
       "      <td>in</td>\n",
       "      <td>False</td>\n",
       "      <td>886674</td>\n",
       "      <td>False</td>\n",
       "      <td>1</td>\n",
       "      <td>1</td>\n",
       "      <td>2</td>\n",
       "      <td>2019-09-01</td>\n",
       "      <td>1.0</td>\n",
       "      <td>1.0</td>\n",
       "    </tr>\n",
       "    <tr>\n",
       "      <th>3</th>\n",
       "      <td>166399</td>\n",
       "      <td>10</td>\n",
       "      <td>2019-10-01 21:00:00</td>\n",
       "      <td>in</td>\n",
       "      <td>False</td>\n",
       "      <td>886674</td>\n",
       "      <td>False</td>\n",
       "      <td>1</td>\n",
       "      <td>1</td>\n",
       "      <td>1</td>\n",
       "      <td>2019-10-01</td>\n",
       "      <td>0.0</td>\n",
       "      <td>1.0</td>\n",
       "    </tr>\n",
       "    <tr>\n",
       "      <th>4</th>\n",
       "      <td>166399</td>\n",
       "      <td>10</td>\n",
       "      <td>2019-10-06 21:00:00</td>\n",
       "      <td>in</td>\n",
       "      <td>False</td>\n",
       "      <td>886674</td>\n",
       "      <td>False</td>\n",
       "      <td>1</td>\n",
       "      <td>1</td>\n",
       "      <td>1</td>\n",
       "      <td>2019-10-01</td>\n",
       "      <td>0.0</td>\n",
       "      <td>1.0</td>\n",
       "    </tr>\n",
       "  </tbody>\n",
       "</table>\n",
       "</div>"
      ],
      "text/plain": [
       "   user_id  month_user                date direction internal  operator_id  \\\n",
       "0  166399   10         2019-08-14 21:00:00  in        False    886674        \n",
       "1  166399   10         2019-08-22 21:00:00  in        False    886674        \n",
       "2  166399   10         2019-09-01 21:00:00  in        False    886674        \n",
       "3  166399   10         2019-10-01 21:00:00  in        False    886674        \n",
       "4  166399   10         2019-10-06 21:00:00  in        False    886674        \n",
       "\n",
       "   is_missed_call  calls_count  call_duration  total_call_duration      month  \\\n",
       "0  False           2            2              2                   2019-08-01   \n",
       "1  False           1            1              1                   2019-08-01   \n",
       "2  False           1            1              2                   2019-09-01   \n",
       "3  False           1            1              1                   2019-10-01   \n",
       "4  False           1            1              1                   2019-10-01   \n",
       "\n",
       "   waiting_duration_mean  one_call_duration  \n",
       "0  0.0                    1.0                \n",
       "1  0.0                    1.0                \n",
       "2  1.0                    1.0                \n",
       "3  0.0                    1.0                \n",
       "4  0.0                    1.0                "
      ]
     },
     "execution_count": 80,
     "metadata": {},
     "output_type": "execute_result"
    }
   ],
   "source": [
    "user_46.head()"
   ]
  },
  {
   "cell_type": "code",
   "execution_count": 81,
   "metadata": {},
   "outputs": [
    {
     "data": {
      "text/html": [
       "<div>\n",
       "<style scoped>\n",
       "    .dataframe tbody tr th:only-of-type {\n",
       "        vertical-align: middle;\n",
       "    }\n",
       "\n",
       "    .dataframe tbody tr th {\n",
       "        vertical-align: top;\n",
       "    }\n",
       "\n",
       "    .dataframe thead th {\n",
       "        text-align: right;\n",
       "    }\n",
       "</style>\n",
       "<table border=\"1\" class=\"dataframe\">\n",
       "  <thead>\n",
       "    <tr style=\"text-align: right;\">\n",
       "      <th></th>\n",
       "      <th>user_id</th>\n",
       "    </tr>\n",
       "    <tr>\n",
       "      <th>direction</th>\n",
       "      <th></th>\n",
       "    </tr>\n",
       "  </thead>\n",
       "  <tbody>\n",
       "    <tr>\n",
       "      <th>in</th>\n",
       "      <td>37</td>\n",
       "    </tr>\n",
       "    <tr>\n",
       "      <th>out</th>\n",
       "      <td>35</td>\n",
       "    </tr>\n",
       "  </tbody>\n",
       "</table>\n",
       "</div>"
      ],
      "text/plain": [
       "           user_id\n",
       "direction         \n",
       "in         37     \n",
       "out        35     "
      ]
     },
     "execution_count": 81,
     "metadata": {},
     "output_type": "execute_result"
    }
   ],
   "source": [
    "direction = user_46.groupby('direction').agg({'user_id':'nunique'})\n",
    "direction"
   ]
  },
  {
   "cell_type": "code",
   "execution_count": 82,
   "metadata": {},
   "outputs": [
    {
     "data": {
      "text/html": [
       "<div>\n",
       "<style scoped>\n",
       "    .dataframe tbody tr th:only-of-type {\n",
       "        vertical-align: middle;\n",
       "    }\n",
       "\n",
       "    .dataframe tbody tr th {\n",
       "        vertical-align: top;\n",
       "    }\n",
       "\n",
       "    .dataframe thead th {\n",
       "        text-align: right;\n",
       "    }\n",
       "</style>\n",
       "<table border=\"1\" class=\"dataframe\">\n",
       "  <thead>\n",
       "    <tr style=\"text-align: right;\">\n",
       "      <th></th>\n",
       "      <th>user_id</th>\n",
       "    </tr>\n",
       "    <tr>\n",
       "      <th>internal</th>\n",
       "      <th></th>\n",
       "    </tr>\n",
       "  </thead>\n",
       "  <tbody>\n",
       "    <tr>\n",
       "      <th>False</th>\n",
       "      <td>46</td>\n",
       "    </tr>\n",
       "    <tr>\n",
       "      <th>True</th>\n",
       "      <td>21</td>\n",
       "    </tr>\n",
       "  </tbody>\n",
       "</table>\n",
       "</div>"
      ],
      "text/plain": [
       "          user_id\n",
       "internal         \n",
       "False     46     \n",
       "True      21     "
      ]
     },
     "execution_count": 82,
     "metadata": {},
     "output_type": "execute_result"
    }
   ],
   "source": [
    "internal = user_46.groupby('internal').agg({'user_id':'nunique'})\n",
    "internal"
   ]
  },
  {
   "cell_type": "code",
   "execution_count": 83,
   "metadata": {},
   "outputs": [
    {
     "data": {
      "text/html": [
       "<div>\n",
       "<style scoped>\n",
       "    .dataframe tbody tr th:only-of-type {\n",
       "        vertical-align: middle;\n",
       "    }\n",
       "\n",
       "    .dataframe tbody tr th {\n",
       "        vertical-align: top;\n",
       "    }\n",
       "\n",
       "    .dataframe thead th {\n",
       "        text-align: right;\n",
       "    }\n",
       "</style>\n",
       "<table border=\"1\" class=\"dataframe\">\n",
       "  <thead>\n",
       "    <tr style=\"text-align: right;\">\n",
       "      <th></th>\n",
       "      <th>user_id</th>\n",
       "    </tr>\n",
       "    <tr>\n",
       "      <th>is_missed_call</th>\n",
       "      <th></th>\n",
       "    </tr>\n",
       "  </thead>\n",
       "  <tbody>\n",
       "    <tr>\n",
       "      <th>False</th>\n",
       "      <td>45</td>\n",
       "    </tr>\n",
       "    <tr>\n",
       "      <th>True</th>\n",
       "      <td>35</td>\n",
       "    </tr>\n",
       "  </tbody>\n",
       "</table>\n",
       "</div>"
      ],
      "text/plain": [
       "                user_id\n",
       "is_missed_call         \n",
       "False           45     \n",
       "True            35     "
      ]
     },
     "execution_count": 83,
     "metadata": {},
     "output_type": "execute_result"
    }
   ],
   "source": [
    "missed_call = user_46.groupby('is_missed_call').agg({'user_id':'nunique'})\n",
    "missed_call"
   ]
  },
  {
   "cell_type": "code",
   "execution_count": 84,
   "metadata": {},
   "outputs": [
    {
     "data": {
      "text/plain": [
       "total_call_duration    84.740494\n",
       "call_duration          59.677785\n",
       "calls_count            77.193462\n",
       "dtype: float64"
      ]
     },
     "execution_count": 84,
     "metadata": {},
     "output_type": "execute_result"
    }
   ],
   "source": [
    "total_duration = user_46.groupby(['user_id', 'date', 'operator_id'])\\\n",
    "                         .agg({'total_call_duration' : 'sum','call_duration' : 'sum','calls_count' : 'sum'})\n",
    "total_duration.mean()"
   ]
  },
  {
   "cell_type": "markdown",
   "metadata": {},
   "source": [
    "Из 46 ушедших клентов:\n",
    "\n",
    "- 37 клиентов пользовались входящими вызовами,35 исходящими;\n",
    "- 21 клиент пользовался внутренними вызовами,46 внешними(все);\n",
    "- 35 клиентов пропускали вызов;\n",
    "- Средняя длительность звонка 81 минут с учетом времени ожидания;\n",
    "- Средняя длительность звонка 57 минут без времени ожидания."
   ]
  },
  {
   "cell_type": "code",
   "execution_count": 85,
   "metadata": {},
   "outputs": [
    {
     "data": {
      "text/html": [
       "<div>\n",
       "<style scoped>\n",
       "    .dataframe tbody tr th:only-of-type {\n",
       "        vertical-align: middle;\n",
       "    }\n",
       "\n",
       "    .dataframe tbody tr th {\n",
       "        vertical-align: top;\n",
       "    }\n",
       "\n",
       "    .dataframe thead th {\n",
       "        text-align: right;\n",
       "    }\n",
       "</style>\n",
       "<table border=\"1\" class=\"dataframe\">\n",
       "  <thead>\n",
       "    <tr style=\"text-align: right;\">\n",
       "      <th></th>\n",
       "      <th></th>\n",
       "      <th></th>\n",
       "      <th>total_call_duration</th>\n",
       "      <th>call_duration</th>\n",
       "      <th>calls_count</th>\n",
       "    </tr>\n",
       "    <tr>\n",
       "      <th>user_id</th>\n",
       "      <th>date</th>\n",
       "      <th>operator_id</th>\n",
       "      <th></th>\n",
       "      <th></th>\n",
       "      <th></th>\n",
       "    </tr>\n",
       "  </thead>\n",
       "  <tbody>\n",
       "    <tr>\n",
       "      <th rowspan=\"5\" valign=\"top\">166399</th>\n",
       "      <th>2019-08-14 21:00:00</th>\n",
       "      <th>886674</th>\n",
       "      <td>2</td>\n",
       "      <td>2</td>\n",
       "      <td>2</td>\n",
       "    </tr>\n",
       "    <tr>\n",
       "      <th>2019-08-22 21:00:00</th>\n",
       "      <th>886674</th>\n",
       "      <td>1</td>\n",
       "      <td>1</td>\n",
       "      <td>1</td>\n",
       "    </tr>\n",
       "    <tr>\n",
       "      <th>2019-09-01 21:00:00</th>\n",
       "      <th>886674</th>\n",
       "      <td>2</td>\n",
       "      <td>1</td>\n",
       "      <td>1</td>\n",
       "    </tr>\n",
       "    <tr>\n",
       "      <th>2019-10-01 21:00:00</th>\n",
       "      <th>886674</th>\n",
       "      <td>1</td>\n",
       "      <td>1</td>\n",
       "      <td>1</td>\n",
       "    </tr>\n",
       "    <tr>\n",
       "      <th>2019-10-06 21:00:00</th>\n",
       "      <th>886674</th>\n",
       "      <td>1</td>\n",
       "      <td>1</td>\n",
       "      <td>1</td>\n",
       "    </tr>\n",
       "  </tbody>\n",
       "</table>\n",
       "</div>"
      ],
      "text/plain": [
       "                                         total_call_duration  call_duration  \\\n",
       "user_id date                operator_id                                       \n",
       "166399  2019-08-14 21:00:00 886674       2                    2               \n",
       "        2019-08-22 21:00:00 886674       1                    1               \n",
       "        2019-09-01 21:00:00 886674       2                    1               \n",
       "        2019-10-01 21:00:00 886674       1                    1               \n",
       "        2019-10-06 21:00:00 886674       1                    1               \n",
       "\n",
       "                                         calls_count  \n",
       "user_id date                operator_id               \n",
       "166399  2019-08-14 21:00:00 886674       2            \n",
       "        2019-08-22 21:00:00 886674       1            \n",
       "        2019-09-01 21:00:00 886674       1            \n",
       "        2019-10-01 21:00:00 886674       1            \n",
       "        2019-10-06 21:00:00 886674       1            "
      ]
     },
     "execution_count": 85,
     "metadata": {},
     "output_type": "execute_result"
    }
   ],
   "source": [
    "(user_46\n",
    " .groupby(['user_id', 'date', 'operator_id'])\n",
    " .agg({'total_call_duration' : 'sum',\n",
    "       'call_duration' : 'sum',\n",
    "       'calls_count' : 'sum'})\n",
    ").head()"
   ]
  },
  {
   "cell_type": "code",
   "execution_count": 86,
   "metadata": {},
   "outputs": [],
   "source": [
    "na['mont'] = na['month'].dt.month"
   ]
  },
  {
   "cell_type": "code",
   "execution_count": 87,
   "metadata": {},
   "outputs": [],
   "source": [
    "month_user = na.groupby('user_id').agg({'mont':'max'})\\\n",
    "                                             .rename(columns={'mont':'month_user'})\\\n",
    "                                             .reset_index()\n",
    "id_11 = month_user.query('month_user == 11')"
   ]
  },
  {
   "cell_type": "code",
   "execution_count": 88,
   "metadata": {},
   "outputs": [
    {
     "data": {
      "text/plain": [
       "244"
      ]
     },
     "execution_count": 88,
     "metadata": {},
     "output_type": "execute_result"
    }
   ],
   "source": [
    "id_11.user_id.nunique()"
   ]
  },
  {
   "cell_type": "code",
   "execution_count": 89,
   "metadata": {},
   "outputs": [
    {
     "data": {
      "text/html": [
       "<div>\n",
       "<style scoped>\n",
       "    .dataframe tbody tr th:only-of-type {\n",
       "        vertical-align: middle;\n",
       "    }\n",
       "\n",
       "    .dataframe tbody tr th {\n",
       "        vertical-align: top;\n",
       "    }\n",
       "\n",
       "    .dataframe thead th {\n",
       "        text-align: right;\n",
       "    }\n",
       "</style>\n",
       "<table border=\"1\" class=\"dataframe\">\n",
       "  <thead>\n",
       "    <tr style=\"text-align: right;\">\n",
       "      <th></th>\n",
       "      <th>user_id</th>\n",
       "      <th>month_user</th>\n",
       "    </tr>\n",
       "  </thead>\n",
       "  <tbody>\n",
       "    <tr>\n",
       "      <th>0</th>\n",
       "      <td>166377</td>\n",
       "      <td>11</td>\n",
       "    </tr>\n",
       "    <tr>\n",
       "      <th>1</th>\n",
       "      <td>166391</td>\n",
       "      <td>11</td>\n",
       "    </tr>\n",
       "    <tr>\n",
       "      <th>2</th>\n",
       "      <td>166392</td>\n",
       "      <td>11</td>\n",
       "    </tr>\n",
       "    <tr>\n",
       "      <th>4</th>\n",
       "      <td>166405</td>\n",
       "      <td>11</td>\n",
       "    </tr>\n",
       "    <tr>\n",
       "      <th>5</th>\n",
       "      <td>166406</td>\n",
       "      <td>11</td>\n",
       "    </tr>\n",
       "  </tbody>\n",
       "</table>\n",
       "</div>"
      ],
      "text/plain": [
       "   user_id  month_user\n",
       "0  166377   11        \n",
       "1  166391   11        \n",
       "2  166392   11        \n",
       "4  166405   11        \n",
       "5  166406   11        "
      ]
     },
     "execution_count": 89,
     "metadata": {},
     "output_type": "execute_result"
    }
   ],
   "source": [
    "id_11.head()"
   ]
  },
  {
   "cell_type": "code",
   "execution_count": 90,
   "metadata": {},
   "outputs": [
    {
     "data": {
      "text/html": [
       "<div>\n",
       "<style scoped>\n",
       "    .dataframe tbody tr th:only-of-type {\n",
       "        vertical-align: middle;\n",
       "    }\n",
       "\n",
       "    .dataframe tbody tr th {\n",
       "        vertical-align: top;\n",
       "    }\n",
       "\n",
       "    .dataframe thead th {\n",
       "        text-align: right;\n",
       "    }\n",
       "</style>\n",
       "<table border=\"1\" class=\"dataframe\">\n",
       "  <thead>\n",
       "    <tr style=\"text-align: right;\">\n",
       "      <th></th>\n",
       "      <th>user_id</th>\n",
       "      <th>tariff_plan</th>\n",
       "      <th>date_start</th>\n",
       "      <th>month_start</th>\n",
       "    </tr>\n",
       "  </thead>\n",
       "  <tbody>\n",
       "    <tr>\n",
       "      <th>0</th>\n",
       "      <td>166713</td>\n",
       "      <td>A</td>\n",
       "      <td>2019-08-15</td>\n",
       "      <td>2019-08-01</td>\n",
       "    </tr>\n",
       "    <tr>\n",
       "      <th>1</th>\n",
       "      <td>166901</td>\n",
       "      <td>A</td>\n",
       "      <td>2019-08-23</td>\n",
       "      <td>2019-08-01</td>\n",
       "    </tr>\n",
       "    <tr>\n",
       "      <th>2</th>\n",
       "      <td>168527</td>\n",
       "      <td>A</td>\n",
       "      <td>2019-10-29</td>\n",
       "      <td>2019-10-01</td>\n",
       "    </tr>\n",
       "    <tr>\n",
       "      <th>3</th>\n",
       "      <td>167097</td>\n",
       "      <td>A</td>\n",
       "      <td>2019-09-01</td>\n",
       "      <td>2019-09-01</td>\n",
       "    </tr>\n",
       "    <tr>\n",
       "      <th>4</th>\n",
       "      <td>168193</td>\n",
       "      <td>A</td>\n",
       "      <td>2019-10-16</td>\n",
       "      <td>2019-10-01</td>\n",
       "    </tr>\n",
       "  </tbody>\n",
       "</table>\n",
       "</div>"
      ],
      "text/plain": [
       "   user_id tariff_plan date_start month_start\n",
       "0  166713   A          2019-08-15 2019-08-01 \n",
       "1  166901   A          2019-08-23 2019-08-01 \n",
       "2  168527   A          2019-10-29 2019-10-01 \n",
       "3  167097   A          2019-09-01 2019-09-01 \n",
       "4  168193   A          2019-10-16 2019-10-01 "
      ]
     },
     "execution_count": 90,
     "metadata": {},
     "output_type": "execute_result"
    }
   ],
   "source": [
    "clients.head()"
   ]
  },
  {
   "cell_type": "code",
   "execution_count": 91,
   "metadata": {},
   "outputs": [],
   "source": [
    "client = clients.merge(id_11,on=['user_id'], how='inner')"
   ]
  },
  {
   "cell_type": "code",
   "execution_count": 92,
   "metadata": {},
   "outputs": [
    {
     "data": {
      "text/plain": [
       "user_id        0.0\n",
       "tariff_plan    0.0\n",
       "date_start     0.0\n",
       "month_start    0.0\n",
       "month_user     0.0\n",
       "dtype: float64"
      ]
     },
     "execution_count": 92,
     "metadata": {},
     "output_type": "execute_result"
    }
   ],
   "source": [
    "client.isna().sum()*100/len(client)"
   ]
  },
  {
   "cell_type": "code",
   "execution_count": 93,
   "metadata": {},
   "outputs": [
    {
     "name": "stdout",
     "output_type": "stream",
     "text": [
      "<class 'pandas.core.frame.DataFrame'>\n",
      "Int64Index: 244 entries, 0 to 243\n",
      "Data columns (total 5 columns):\n",
      " #   Column       Non-Null Count  Dtype         \n",
      "---  ------       --------------  -----         \n",
      " 0   user_id      244 non-null    int64         \n",
      " 1   tariff_plan  244 non-null    object        \n",
      " 2   date_start   244 non-null    datetime64[ns]\n",
      " 3   month_start  244 non-null    datetime64[ns]\n",
      " 4   month_user   244 non-null    int64         \n",
      "dtypes: datetime64[ns](2), int64(2), object(1)\n",
      "memory usage: 11.4+ KB\n"
     ]
    }
   ],
   "source": [
    "client.info()"
   ]
  },
  {
   "cell_type": "code",
   "execution_count": 94,
   "metadata": {},
   "outputs": [
    {
     "data": {
      "text/plain": [
       "user_id                  0.0\n",
       "date                     0.0\n",
       "direction                0.0\n",
       "internal                 0.0\n",
       "operator_id              0.0\n",
       "is_missed_call           0.0\n",
       "calls_count              0.0\n",
       "call_duration            0.0\n",
       "total_call_duration      0.0\n",
       "month                    0.0\n",
       "waiting_duration_mean    0.0\n",
       "one_call_duration        0.0\n",
       "mont                     0.0\n",
       "month_user               0.0\n",
       "dtype: float64"
      ]
     },
     "execution_count": 94,
     "metadata": {},
     "output_type": "execute_result"
    }
   ],
   "source": [
    "df = na.merge(id_11, on=['user_id'], how='inner')\n",
    "df.isna().sum()*100/len(df)"
   ]
  },
  {
   "cell_type": "markdown",
   "metadata": {},
   "source": [
    "Количество операторов для каждого клиента по месяцам для исходящих звонков."
   ]
  },
  {
   "cell_type": "code",
   "execution_count": 95,
   "metadata": {},
   "outputs": [
    {
     "data": {
      "text/html": [
       "<div>\n",
       "<style scoped>\n",
       "    .dataframe tbody tr th:only-of-type {\n",
       "        vertical-align: middle;\n",
       "    }\n",
       "\n",
       "    .dataframe tbody tr th {\n",
       "        vertical-align: top;\n",
       "    }\n",
       "\n",
       "    .dataframe thead th {\n",
       "        text-align: right;\n",
       "    }\n",
       "</style>\n",
       "<table border=\"1\" class=\"dataframe\">\n",
       "  <thead>\n",
       "    <tr style=\"text-align: right;\">\n",
       "      <th></th>\n",
       "      <th>user_id</th>\n",
       "      <th>nunique_operator</th>\n",
       "    </tr>\n",
       "  </thead>\n",
       "  <tbody>\n",
       "    <tr>\n",
       "      <th>count</th>\n",
       "      <td>466.000000</td>\n",
       "      <td>466.000000</td>\n",
       "    </tr>\n",
       "    <tr>\n",
       "      <th>mean</th>\n",
       "      <td>167274.006438</td>\n",
       "      <td>3.184549</td>\n",
       "    </tr>\n",
       "    <tr>\n",
       "      <th>std</th>\n",
       "      <td>574.911324</td>\n",
       "      <td>4.205508</td>\n",
       "    </tr>\n",
       "    <tr>\n",
       "      <th>min</th>\n",
       "      <td>166377.000000</td>\n",
       "      <td>1.000000</td>\n",
       "    </tr>\n",
       "    <tr>\n",
       "      <th>25%</th>\n",
       "      <td>166782.000000</td>\n",
       "      <td>1.000000</td>\n",
       "    </tr>\n",
       "    <tr>\n",
       "      <th>50%</th>\n",
       "      <td>167178.000000</td>\n",
       "      <td>2.000000</td>\n",
       "    </tr>\n",
       "    <tr>\n",
       "      <th>75%</th>\n",
       "      <td>167738.250000</td>\n",
       "      <td>3.000000</td>\n",
       "    </tr>\n",
       "    <tr>\n",
       "      <th>max</th>\n",
       "      <td>168606.000000</td>\n",
       "      <td>38.000000</td>\n",
       "    </tr>\n",
       "  </tbody>\n",
       "</table>\n",
       "</div>"
      ],
      "text/plain": [
       "             user_id  nunique_operator\n",
       "count  466.000000     466.000000      \n",
       "mean   167274.006438  3.184549        \n",
       "std    574.911324     4.205508        \n",
       "min    166377.000000  1.000000        \n",
       "25%    166782.000000  1.000000        \n",
       "50%    167178.000000  2.000000        \n",
       "75%    167738.250000  3.000000        \n",
       "max    168606.000000  38.000000       "
      ]
     },
     "execution_count": 95,
     "metadata": {},
     "output_type": "execute_result"
    }
   ],
   "source": [
    "unique_operator = (df[df['direction']=='out']).groupby(['user_id','month'])\\\n",
    "                                                                    .agg({'operator_id':'nunique'})\\\n",
    "                                                                    .rename(columns={'operator_id':'nunique_operator'})\\\n",
    "                                                                    .reset_index()\n",
    "unique_operator.describe()"
   ]
  },
  {
   "cell_type": "markdown",
   "metadata": {},
   "source": [
    "Среднее по операторам 3, медиана 2, максимум 38."
   ]
  },
  {
   "cell_type": "markdown",
   "metadata": {},
   "source": [
    "Посмотрим на внутрение звонки по месяцам и клиентам:"
   ]
  },
  {
   "cell_type": "code",
   "execution_count": 96,
   "metadata": {},
   "outputs": [
    {
     "data": {
      "text/html": [
       "<div>\n",
       "<style scoped>\n",
       "    .dataframe tbody tr th:only-of-type {\n",
       "        vertical-align: middle;\n",
       "    }\n",
       "\n",
       "    .dataframe tbody tr th {\n",
       "        vertical-align: top;\n",
       "    }\n",
       "\n",
       "    .dataframe thead th {\n",
       "        text-align: right;\n",
       "    }\n",
       "</style>\n",
       "<table border=\"1\" class=\"dataframe\">\n",
       "  <thead>\n",
       "    <tr style=\"text-align: right;\">\n",
       "      <th></th>\n",
       "      <th>count</th>\n",
       "      <th>mean</th>\n",
       "      <th>std</th>\n",
       "      <th>min</th>\n",
       "      <th>25%</th>\n",
       "      <th>50%</th>\n",
       "      <th>75%</th>\n",
       "      <th>max</th>\n",
       "    </tr>\n",
       "  </thead>\n",
       "  <tbody>\n",
       "    <tr>\n",
       "      <th>user_id</th>\n",
       "      <td>270.0</td>\n",
       "      <td>167256.481481</td>\n",
       "      <td>595.934446</td>\n",
       "      <td>166377.0</td>\n",
       "      <td>166732.0</td>\n",
       "      <td>167176.0</td>\n",
       "      <td>167715.75</td>\n",
       "      <td>168606.0</td>\n",
       "    </tr>\n",
       "    <tr>\n",
       "      <th>internal_calls_count</th>\n",
       "      <td>270.0</td>\n",
       "      <td>49.662963</td>\n",
       "      <td>130.583226</td>\n",
       "      <td>1.0</td>\n",
       "      <td>2.0</td>\n",
       "      <td>5.0</td>\n",
       "      <td>26.00</td>\n",
       "      <td>1151.0</td>\n",
       "    </tr>\n",
       "    <tr>\n",
       "      <th>internal_call_duration</th>\n",
       "      <td>270.0</td>\n",
       "      <td>41.548148</td>\n",
       "      <td>139.424106</td>\n",
       "      <td>0.0</td>\n",
       "      <td>0.0</td>\n",
       "      <td>1.0</td>\n",
       "      <td>9.00</td>\n",
       "      <td>1312.0</td>\n",
       "    </tr>\n",
       "    <tr>\n",
       "      <th>internal_total_duration</th>\n",
       "      <td>270.0</td>\n",
       "      <td>51.896296</td>\n",
       "      <td>165.832821</td>\n",
       "      <td>0.0</td>\n",
       "      <td>1.0</td>\n",
       "      <td>3.0</td>\n",
       "      <td>16.75</td>\n",
       "      <td>1560.0</td>\n",
       "    </tr>\n",
       "  </tbody>\n",
       "</table>\n",
       "</div>"
      ],
      "text/plain": [
       "                         count           mean         std       min       25%  \\\n",
       "user_id                  270.0  167256.481481  595.934446  166377.0  166732.0   \n",
       "internal_calls_count     270.0  49.662963      130.583226  1.0       2.0        \n",
       "internal_call_duration   270.0  41.548148      139.424106  0.0       0.0        \n",
       "internal_total_duration  270.0  51.896296      165.832821  0.0       1.0        \n",
       "\n",
       "                              50%        75%       max  \n",
       "user_id                  167176.0  167715.75  168606.0  \n",
       "internal_calls_count     5.0       26.00      1151.0    \n",
       "internal_call_duration   1.0       9.00       1312.0    \n",
       "internal_total_duration  3.0       16.75      1560.0    "
      ]
     },
     "execution_count": 96,
     "metadata": {},
     "output_type": "execute_result"
    }
   ],
   "source": [
    "internal = (df[df['internal']==True]).groupby(['user_id','month'])\\\n",
    "                        .agg({'calls_count':'sum', 'call_duration':'sum', 'total_call_duration':'sum'})\\\n",
    "                        .rename(columns={'calls_count':'internal_calls_count', 'call_duration':'internal_call_duration',\n",
    "                        'total_call_duration':'internal_total_duration'}).reset_index()\n",
    "internal.describe().T"
   ]
  },
  {
   "cell_type": "markdown",
   "metadata": {},
   "source": [
    "По внутреним звонкам:\n",
    "\n",
    "- Количество звонков среднее 50,медиана 5;\n",
    "- Длительность звонков без ожидания среднее 42,медиана 1;\n",
    "- Длительность звонков с ожиданием среднее 52,медиана 3."
   ]
  },
  {
   "cell_type": "markdown",
   "metadata": {},
   "source": [
    "Посмотрим на внешние звонки по месяцам и клиентам:"
   ]
  },
  {
   "cell_type": "code",
   "execution_count": 97,
   "metadata": {},
   "outputs": [
    {
     "data": {
      "text/html": [
       "<div>\n",
       "<style scoped>\n",
       "    .dataframe tbody tr th:only-of-type {\n",
       "        vertical-align: middle;\n",
       "    }\n",
       "\n",
       "    .dataframe tbody tr th {\n",
       "        vertical-align: top;\n",
       "    }\n",
       "\n",
       "    .dataframe thead th {\n",
       "        text-align: right;\n",
       "    }\n",
       "</style>\n",
       "<table border=\"1\" class=\"dataframe\">\n",
       "  <thead>\n",
       "    <tr style=\"text-align: right;\">\n",
       "      <th></th>\n",
       "      <th>count</th>\n",
       "      <th>mean</th>\n",
       "      <th>std</th>\n",
       "      <th>min</th>\n",
       "      <th>25%</th>\n",
       "      <th>50%</th>\n",
       "      <th>75%</th>\n",
       "      <th>max</th>\n",
       "    </tr>\n",
       "  </thead>\n",
       "  <tbody>\n",
       "    <tr>\n",
       "      <th>user_id</th>\n",
       "      <td>624.0</td>\n",
       "      <td>167320.750000</td>\n",
       "      <td>594.439541</td>\n",
       "      <td>166377.0</td>\n",
       "      <td>166812.75</td>\n",
       "      <td>167200.0</td>\n",
       "      <td>167828.25</td>\n",
       "      <td>168606.0</td>\n",
       "    </tr>\n",
       "    <tr>\n",
       "      <th>fl_calls_count</th>\n",
       "      <td>624.0</td>\n",
       "      <td>804.653846</td>\n",
       "      <td>3226.326080</td>\n",
       "      <td>1.0</td>\n",
       "      <td>10.00</td>\n",
       "      <td>61.0</td>\n",
       "      <td>409.75</td>\n",
       "      <td>49897.0</td>\n",
       "    </tr>\n",
       "    <tr>\n",
       "      <th>fl_calls_duration</th>\n",
       "      <td>624.0</td>\n",
       "      <td>792.048077</td>\n",
       "      <td>2741.668391</td>\n",
       "      <td>0.0</td>\n",
       "      <td>13.00</td>\n",
       "      <td>94.0</td>\n",
       "      <td>534.50</td>\n",
       "      <td>52520.0</td>\n",
       "    </tr>\n",
       "    <tr>\n",
       "      <th>fl_total_duration</th>\n",
       "      <td>624.0</td>\n",
       "      <td>1048.544872</td>\n",
       "      <td>3740.722643</td>\n",
       "      <td>0.0</td>\n",
       "      <td>17.00</td>\n",
       "      <td>117.5</td>\n",
       "      <td>702.75</td>\n",
       "      <td>69686.0</td>\n",
       "    </tr>\n",
       "  </tbody>\n",
       "</table>\n",
       "</div>"
      ],
      "text/plain": [
       "                   count           mean          std       min        25%  \\\n",
       "user_id            624.0  167320.750000  594.439541   166377.0  166812.75   \n",
       "fl_calls_count     624.0  804.653846     3226.326080  1.0       10.00       \n",
       "fl_calls_duration  624.0  792.048077     2741.668391  0.0       13.00       \n",
       "fl_total_duration  624.0  1048.544872    3740.722643  0.0       17.00       \n",
       "\n",
       "                        50%        75%       max  \n",
       "user_id            167200.0  167828.25  168606.0  \n",
       "fl_calls_count     61.0      409.75     49897.0   \n",
       "fl_calls_duration  94.0      534.50     52520.0   \n",
       "fl_total_duration  117.5     702.75     69686.0   "
      ]
     },
     "execution_count": 97,
     "metadata": {},
     "output_type": "execute_result"
    }
   ],
   "source": [
    "external = (df[df['internal']==False]).groupby(['user_id','month'])\\\n",
    "                        .agg({'calls_count':'sum', 'call_duration':'sum', 'total_call_duration':'sum'})\\\n",
    "                        .rename(columns={'calls_count':'fl_calls_count', 'call_duration':'fl_calls_duration',\n",
    "                        'total_call_duration':'fl_total_duration'}).reset_index()\n",
    "external.describe().T"
   ]
  },
  {
   "cell_type": "markdown",
   "metadata": {},
   "source": [
    "По внешним звонкам:\n",
    "\n",
    "- Количество звонков среднее 622,медиана 59;\n",
    "- Длительность звонков без ожидания среднее 723,медиана 88;\n",
    "- Длительность звонков с ожиданием среднее 909,медиана 115."
   ]
  },
  {
   "cell_type": "markdown",
   "metadata": {},
   "source": [
    "Cоединим все в одну таблицу."
   ]
  },
  {
   "cell_type": "code",
   "execution_count": 98,
   "metadata": {},
   "outputs": [],
   "source": [
    "client = client.merge(unique_operator, on=['user_id'], how='left')\n",
    "client = client.merge(internal, on=['month', 'user_id'], how='left')\n",
    "client = client.merge(external, on=['month', 'user_id'], how='left')"
   ]
  },
  {
   "cell_type": "code",
   "execution_count": 99,
   "metadata": {},
   "outputs": [
    {
     "name": "stdout",
     "output_type": "stream",
     "text": [
      "<class 'pandas.core.frame.DataFrame'>\n",
      "Int64Index: 523 entries, 0 to 522\n",
      "Data columns (total 13 columns):\n",
      " #   Column                   Non-Null Count  Dtype         \n",
      "---  ------                   --------------  -----         \n",
      " 0   user_id                  523 non-null    int64         \n",
      " 1   tariff_plan              523 non-null    object        \n",
      " 2   date_start               523 non-null    datetime64[ns]\n",
      " 3   month_start              523 non-null    datetime64[ns]\n",
      " 4   month_user               523 non-null    int64         \n",
      " 5   month                    466 non-null    datetime64[ns]\n",
      " 6   nunique_operator         466 non-null    float64       \n",
      " 7   internal_calls_count     253 non-null    float64       \n",
      " 8   internal_call_duration   253 non-null    float64       \n",
      " 9   internal_total_duration  253 non-null    float64       \n",
      " 10  fl_calls_count           465 non-null    float64       \n",
      " 11  fl_calls_duration        465 non-null    float64       \n",
      " 12  fl_total_duration        465 non-null    float64       \n",
      "dtypes: datetime64[ns](3), float64(7), int64(2), object(1)\n",
      "memory usage: 57.2+ KB\n"
     ]
    }
   ],
   "source": [
    "client.info()"
   ]
  },
  {
   "cell_type": "code",
   "execution_count": 100,
   "metadata": {},
   "outputs": [
    {
     "data": {
      "text/plain": [
       "user_id                    0.000000 \n",
       "tariff_plan                0.000000 \n",
       "date_start                 0.000000 \n",
       "month_start                0.000000 \n",
       "month_user                 0.000000 \n",
       "month                      10.898662\n",
       "nunique_operator           10.898662\n",
       "internal_calls_count       51.625239\n",
       "internal_call_duration     51.625239\n",
       "internal_total_duration    51.625239\n",
       "fl_calls_count             11.089866\n",
       "fl_calls_duration          11.089866\n",
       "fl_total_duration          11.089866\n",
       "dtype: float64"
      ]
     },
     "execution_count": 100,
     "metadata": {},
     "output_type": "execute_result"
    }
   ],
   "source": [
    "client.isna().sum()*100/len(client)"
   ]
  },
  {
   "cell_type": "code",
   "execution_count": 101,
   "metadata": {},
   "outputs": [],
   "source": [
    "client = client.fillna(0)"
   ]
  },
  {
   "cell_type": "code",
   "execution_count": 102,
   "metadata": {},
   "outputs": [
    {
     "data": {
      "text/plain": [
       "user_id                    0.0\n",
       "tariff_plan                0.0\n",
       "date_start                 0.0\n",
       "month_start                0.0\n",
       "month_user                 0.0\n",
       "month                      0.0\n",
       "nunique_operator           0.0\n",
       "internal_calls_count       0.0\n",
       "internal_call_duration     0.0\n",
       "internal_total_duration    0.0\n",
       "fl_calls_count             0.0\n",
       "fl_calls_duration          0.0\n",
       "fl_total_duration          0.0\n",
       "dtype: float64"
      ]
     },
     "execution_count": 102,
     "metadata": {},
     "output_type": "execute_result"
    }
   ],
   "source": [
    "client.isna().sum()*100/len(client)"
   ]
  },
  {
   "cell_type": "code",
   "execution_count": 103,
   "metadata": {},
   "outputs": [
    {
     "data": {
      "text/plain": [
       "244"
      ]
     },
     "execution_count": 103,
     "metadata": {},
     "output_type": "execute_result"
    }
   ],
   "source": [
    "client.user_id.nunique()"
   ]
  },
  {
   "cell_type": "code",
   "execution_count": 104,
   "metadata": {},
   "outputs": [
    {
     "data": {
      "text/html": [
       "<div>\n",
       "<style scoped>\n",
       "    .dataframe tbody tr th:only-of-type {\n",
       "        vertical-align: middle;\n",
       "    }\n",
       "\n",
       "    .dataframe tbody tr th {\n",
       "        vertical-align: top;\n",
       "    }\n",
       "\n",
       "    .dataframe thead th {\n",
       "        text-align: right;\n",
       "    }\n",
       "</style>\n",
       "<table border=\"1\" class=\"dataframe\">\n",
       "  <thead>\n",
       "    <tr style=\"text-align: right;\">\n",
       "      <th></th>\n",
       "      <th>user_id</th>\n",
       "      <th>tariff_plan</th>\n",
       "      <th>date_start</th>\n",
       "      <th>month_start</th>\n",
       "      <th>month_user</th>\n",
       "      <th>month</th>\n",
       "      <th>nunique_operator</th>\n",
       "      <th>internal_calls_count</th>\n",
       "      <th>internal_call_duration</th>\n",
       "      <th>internal_total_duration</th>\n",
       "      <th>fl_calls_count</th>\n",
       "      <th>fl_calls_duration</th>\n",
       "      <th>fl_total_duration</th>\n",
       "    </tr>\n",
       "  </thead>\n",
       "  <tbody>\n",
       "    <tr>\n",
       "      <th>0</th>\n",
       "      <td>166713</td>\n",
       "      <td>A</td>\n",
       "      <td>2019-08-15</td>\n",
       "      <td>2019-08-01</td>\n",
       "      <td>11</td>\n",
       "      <td>2019-09-01 00:00:00</td>\n",
       "      <td>1.0</td>\n",
       "      <td>2.0</td>\n",
       "      <td>4.0</td>\n",
       "      <td>4.0</td>\n",
       "      <td>10.0</td>\n",
       "      <td>24.0</td>\n",
       "      <td>26.0</td>\n",
       "    </tr>\n",
       "    <tr>\n",
       "      <th>1</th>\n",
       "      <td>166713</td>\n",
       "      <td>A</td>\n",
       "      <td>2019-08-15</td>\n",
       "      <td>2019-08-01</td>\n",
       "      <td>11</td>\n",
       "      <td>2019-10-01 00:00:00</td>\n",
       "      <td>2.0</td>\n",
       "      <td>0.0</td>\n",
       "      <td>0.0</td>\n",
       "      <td>0.0</td>\n",
       "      <td>16.0</td>\n",
       "      <td>16.0</td>\n",
       "      <td>21.0</td>\n",
       "    </tr>\n",
       "    <tr>\n",
       "      <th>2</th>\n",
       "      <td>166713</td>\n",
       "      <td>A</td>\n",
       "      <td>2019-08-15</td>\n",
       "      <td>2019-08-01</td>\n",
       "      <td>11</td>\n",
       "      <td>2019-11-01 00:00:00</td>\n",
       "      <td>1.0</td>\n",
       "      <td>0.0</td>\n",
       "      <td>0.0</td>\n",
       "      <td>0.0</td>\n",
       "      <td>20.0</td>\n",
       "      <td>117.0</td>\n",
       "      <td>119.0</td>\n",
       "    </tr>\n",
       "    <tr>\n",
       "      <th>3</th>\n",
       "      <td>166901</td>\n",
       "      <td>A</td>\n",
       "      <td>2019-08-23</td>\n",
       "      <td>2019-08-01</td>\n",
       "      <td>11</td>\n",
       "      <td>2019-08-01 00:00:00</td>\n",
       "      <td>4.0</td>\n",
       "      <td>28.0</td>\n",
       "      <td>23.0</td>\n",
       "      <td>30.0</td>\n",
       "      <td>53.0</td>\n",
       "      <td>26.0</td>\n",
       "      <td>31.0</td>\n",
       "    </tr>\n",
       "    <tr>\n",
       "      <th>4</th>\n",
       "      <td>166901</td>\n",
       "      <td>A</td>\n",
       "      <td>2019-08-23</td>\n",
       "      <td>2019-08-01</td>\n",
       "      <td>11</td>\n",
       "      <td>2019-09-01 00:00:00</td>\n",
       "      <td>4.0</td>\n",
       "      <td>106.0</td>\n",
       "      <td>98.0</td>\n",
       "      <td>121.0</td>\n",
       "      <td>148.0</td>\n",
       "      <td>261.0</td>\n",
       "      <td>280.0</td>\n",
       "    </tr>\n",
       "  </tbody>\n",
       "</table>\n",
       "</div>"
      ],
      "text/plain": [
       "   user_id tariff_plan date_start month_start  month_user  \\\n",
       "0  166713   A          2019-08-15 2019-08-01   11           \n",
       "1  166713   A          2019-08-15 2019-08-01   11           \n",
       "2  166713   A          2019-08-15 2019-08-01   11           \n",
       "3  166901   A          2019-08-23 2019-08-01   11           \n",
       "4  166901   A          2019-08-23 2019-08-01   11           \n",
       "\n",
       "                 month  nunique_operator  internal_calls_count  \\\n",
       "0  2019-09-01 00:00:00  1.0               2.0                    \n",
       "1  2019-10-01 00:00:00  2.0               0.0                    \n",
       "2  2019-11-01 00:00:00  1.0               0.0                    \n",
       "3  2019-08-01 00:00:00  4.0               28.0                   \n",
       "4  2019-09-01 00:00:00  4.0               106.0                  \n",
       "\n",
       "   internal_call_duration  internal_total_duration  fl_calls_count  \\\n",
       "0  4.0                     4.0                      10.0             \n",
       "1  0.0                     0.0                      16.0             \n",
       "2  0.0                     0.0                      20.0             \n",
       "3  23.0                    30.0                     53.0             \n",
       "4  98.0                    121.0                    148.0            \n",
       "\n",
       "   fl_calls_duration  fl_total_duration  \n",
       "0  24.0               26.0               \n",
       "1  16.0               21.0               \n",
       "2  117.0              119.0              \n",
       "3  26.0               31.0               \n",
       "4  261.0              280.0              "
      ]
     },
     "execution_count": 104,
     "metadata": {},
     "output_type": "execute_result"
    }
   ],
   "source": [
    "client.head()"
   ]
  },
  {
   "cell_type": "markdown",
   "metadata": {},
   "source": [
    "**Создадим тариф**"
   ]
  },
  {
   "cell_type": "code",
   "execution_count": 105,
   "metadata": {},
   "outputs": [],
   "source": [
    "tariff = {'A':5000, 'B':2000, 'C':1000}\n",
    "client['cost_tariff'] = client['tariff_plan'].map(tariff)"
   ]
  },
  {
   "cell_type": "markdown",
   "metadata": {},
   "source": [
    "Исходящие звонки внутри сети — бесплатны до 2000 минут в месяц на всех тарифах."
   ]
  },
  {
   "cell_type": "code",
   "execution_count": 106,
   "metadata": {},
   "outputs": [],
   "source": [
    "over_limit = {'A':0.1, 'B':0.15, 'C':0.3}\n",
    "limit = 2000"
   ]
  },
  {
   "cell_type": "code",
   "execution_count": 107,
   "metadata": {},
   "outputs": [],
   "source": [
    "client['internal_limit'] =  client['internal_total_duration'] - limit\n",
    "\n",
    "client['cost_internal_call'] = client.apply(lambda x: \n",
    "                                                  (over_limit[x.tariff_plan] * x.internal_limit)\n",
    "                                                      if x.internal_limit > 0\n",
    "                                                      else 0, axis=1)"
   ]
  },
  {
   "cell_type": "markdown",
   "metadata": {},
   "source": [
    "Исходящие звонки, кроме внутренних."
   ]
  },
  {
   "cell_type": "code",
   "execution_count": 108,
   "metadata": {},
   "outputs": [],
   "source": [
    "over_limits = {'A':0.4, 'B':0.5, 'C':0.7}"
   ]
  },
  {
   "cell_type": "code",
   "execution_count": 109,
   "metadata": {},
   "outputs": [],
   "source": [
    "client['cost_external_call'] = client.apply(lambda x:(over_limits[x.tariff_plan] * x.fl_total_duration), axis=1)"
   ]
  },
  {
   "cell_type": "markdown",
   "metadata": {},
   "source": [
    "Доплата за оператора."
   ]
  },
  {
   "cell_type": "code",
   "execution_count": 110,
   "metadata": {},
   "outputs": [],
   "source": [
    "cost_operators = 100\n",
    "client['cost_operators'] = client['nunique_operator'] * cost_operators"
   ]
  },
  {
   "cell_type": "markdown",
   "metadata": {},
   "source": [
    "Сумма в месяц"
   ]
  },
  {
   "cell_type": "code",
   "execution_count": 111,
   "metadata": {},
   "outputs": [],
   "source": [
    "client['total'] = client[[i for i in client if 'cost' in i]].sum(axis=1)"
   ]
  },
  {
   "cell_type": "code",
   "execution_count": 112,
   "metadata": {},
   "outputs": [],
   "source": [
    "del client['date_start']"
   ]
  },
  {
   "cell_type": "code",
   "execution_count": null,
   "metadata": {},
   "outputs": [],
   "source": []
  },
  {
   "cell_type": "code",
   "execution_count": 113,
   "metadata": {},
   "outputs": [
    {
     "data": {
      "text/html": [
       "<div>\n",
       "<style scoped>\n",
       "    .dataframe tbody tr th:only-of-type {\n",
       "        vertical-align: middle;\n",
       "    }\n",
       "\n",
       "    .dataframe tbody tr th {\n",
       "        vertical-align: top;\n",
       "    }\n",
       "\n",
       "    .dataframe thead th {\n",
       "        text-align: right;\n",
       "    }\n",
       "</style>\n",
       "<table border=\"1\" class=\"dataframe\">\n",
       "  <thead>\n",
       "    <tr style=\"text-align: right;\">\n",
       "      <th></th>\n",
       "      <th>total</th>\n",
       "    </tr>\n",
       "    <tr>\n",
       "      <th>tariff_plan</th>\n",
       "      <th></th>\n",
       "    </tr>\n",
       "  </thead>\n",
       "  <tbody>\n",
       "    <tr>\n",
       "      <th>A</th>\n",
       "      <td>468827.2</td>\n",
       "    </tr>\n",
       "    <tr>\n",
       "      <th>B</th>\n",
       "      <td>565406.5</td>\n",
       "    </tr>\n",
       "    <tr>\n",
       "      <th>C</th>\n",
       "      <td>433606.4</td>\n",
       "    </tr>\n",
       "  </tbody>\n",
       "</table>\n",
       "</div>"
      ],
      "text/plain": [
       "                total\n",
       "tariff_plan          \n",
       "A            468827.2\n",
       "B            565406.5\n",
       "C            433606.4"
      ]
     },
     "execution_count": 113,
     "metadata": {},
     "output_type": "execute_result"
    }
   ],
   "source": [
    "tariff_total = client.groupby('tariff_plan').agg({'total':'sum'})\n",
    "tariff_total"
   ]
  },
  {
   "cell_type": "code",
   "execution_count": 114,
   "metadata": {},
   "outputs": [
    {
     "data": {
      "image/png": "[encoded data removed]",
      "text/plain": [
       "<Figure size 360x360 with 1 Axes>"
      ]
     },
     "metadata": {
      "needs_background": "light"
     },
     "output_type": "display_data"
    }
   ],
   "source": [
    "ax = tariff_total.plot(kind='bar', figsize=(5, 5), legend=False, grid=True)\n",
    "plt.xticks(rotation=0)\n",
    "plt.title('Выручка по тарифам')\n",
    "plt.xlabel('Тарифный план') \n",
    "plt.ylabel('Количество')\n",
    "plt.show()"
   ]
  },
  {
   "cell_type": "code",
   "execution_count": 115,
   "metadata": {},
   "outputs": [
    {
     "data": {
      "image/png": "[encoded data removed]",
      "text/plain": [
       "<Figure size 504x504 with 1 Axes>"
      ]
     },
     "metadata": {
      "needs_background": "light"
     },
     "output_type": "display_data"
    }
   ],
   "source": [
    "tar = client[['tariff_plan','total']]\n",
    "\n",
    "plt.figure(figsize=(7, 7))\n",
    "ax = sns.stripplot(x=\"tariff_plan\", y=\"total\", data=tar)\n",
    "ax.set(title = 'распределение среднего чека клиента в зависимости от тарифа', ylabel = 'Выручка', xlabel = 'Тарифный план', ylim=(1000,15000))\n",
    "plt.show()"
   ]
  },
  {
   "cell_type": "markdown",
   "metadata": {},
   "source": [
    "Видно как на цену влияет абонентская плата."
   ]
  },
  {
   "cell_type": "code",
   "execution_count": 116,
   "metadata": {},
   "outputs": [
    {
     "data": {
      "text/html": [
       "<div>\n",
       "<style scoped>\n",
       "    .dataframe tbody tr th:only-of-type {\n",
       "        vertical-align: middle;\n",
       "    }\n",
       "\n",
       "    .dataframe tbody tr th {\n",
       "        vertical-align: top;\n",
       "    }\n",
       "\n",
       "    .dataframe thead th {\n",
       "        text-align: right;\n",
       "    }\n",
       "</style>\n",
       "<table border=\"1\" class=\"dataframe\">\n",
       "  <thead>\n",
       "    <tr style=\"text-align: right;\">\n",
       "      <th></th>\n",
       "      <th>total</th>\n",
       "      <th>%</th>\n",
       "    </tr>\n",
       "    <tr>\n",
       "      <th>tariff_plan</th>\n",
       "      <th></th>\n",
       "      <th></th>\n",
       "    </tr>\n",
       "  </thead>\n",
       "  <tbody>\n",
       "    <tr>\n",
       "      <th>A</th>\n",
       "      <td>468827.2</td>\n",
       "      <td>0.319399</td>\n",
       "    </tr>\n",
       "    <tr>\n",
       "      <th>B</th>\n",
       "      <td>565406.5</td>\n",
       "      <td>0.385196</td>\n",
       "    </tr>\n",
       "    <tr>\n",
       "      <th>C</th>\n",
       "      <td>433606.4</td>\n",
       "      <td>0.295404</td>\n",
       "    </tr>\n",
       "  </tbody>\n",
       "</table>\n",
       "</div>"
      ],
      "text/plain": [
       "                total         %\n",
       "tariff_plan                    \n",
       "A            468827.2  0.319399\n",
       "B            565406.5  0.385196\n",
       "C            433606.4  0.295404"
      ]
     },
     "execution_count": 116,
     "metadata": {},
     "output_type": "execute_result"
    }
   ],
   "source": [
    "tariff_total['%'] = tariff_total['total'] / tariff_total['total'].sum()\n",
    "tariff_total"
   ]
  },
  {
   "cell_type": "markdown",
   "metadata": {},
   "source": [
    "На первом месте тариф В - 40%, потом С - 30% и А - 30%."
   ]
  },
  {
   "cell_type": "markdown",
   "metadata": {},
   "source": [
    "Определим выгодный тариф для клиента.Создадим функцию."
   ]
  },
  {
   "cell_type": "code",
   "execution_count": 117,
   "metadata": {},
   "outputs": [],
   "source": [
    "df = client.copy()"
   ]
  },
  {
   "cell_type": "code",
   "execution_count": 118,
   "metadata": {},
   "outputs": [
    {
     "name": "stdout",
     "output_type": "stream",
     "text": [
      "<class 'pandas.core.frame.DataFrame'>\n",
      "Int64Index: 523 entries, 0 to 522\n",
      "Data columns (total 18 columns):\n",
      " #   Column                   Non-Null Count  Dtype         \n",
      "---  ------                   --------------  -----         \n",
      " 0   user_id                  523 non-null    int64         \n",
      " 1   tariff_plan              523 non-null    object        \n",
      " 2   month_start              523 non-null    datetime64[ns]\n",
      " 3   month_user               523 non-null    int64         \n",
      " 4   month                    523 non-null    object        \n",
      " 5   nunique_operator         523 non-null    float64       \n",
      " 6   internal_calls_count     523 non-null    float64       \n",
      " 7   internal_call_duration   523 non-null    float64       \n",
      " 8   internal_total_duration  523 non-null    float64       \n",
      " 9   fl_calls_count           523 non-null    float64       \n",
      " 10  fl_calls_duration        523 non-null    float64       \n",
      " 11  fl_total_duration        523 non-null    float64       \n",
      " 12  cost_tariff              523 non-null    int64         \n",
      " 13  internal_limit           523 non-null    float64       \n",
      " 14  cost_internal_call       523 non-null    int64         \n",
      " 15  cost_external_call       523 non-null    float64       \n",
      " 16  cost_operators           523 non-null    float64       \n",
      " 17  total                    523 non-null    float64       \n",
      "dtypes: datetime64[ns](1), float64(11), int64(4), object(2)\n",
      "memory usage: 77.6+ KB\n"
     ]
    }
   ],
   "source": [
    "df.info()"
   ]
  },
  {
   "cell_type": "code",
   "execution_count": 119,
   "metadata": {},
   "outputs": [],
   "source": [
    "over_limit = {'A':0.1, 'B':0.15, 'C':0.3}\n",
    "over_limits = {'A':0.4, 'B':0.5, 'C':0.7}\n",
    "tariff = {'A':5000, 'B':2000, 'C':1000}\n",
    "limit = 2000\n",
    "cost_operators = 100"
   ]
  },
  {
   "cell_type": "markdown",
   "metadata": {},
   "source": [
    "Функция считает расходы по каждому тарифу для клиента за один месяц и создает самый дешевый тариф для клиента."
   ]
  },
  {
   "cell_type": "code",
   "execution_count": 120,
   "metadata": {},
   "outputs": [],
   "source": [
    "def get_best_tariff(df=df):\n",
    "    user_list = []\n",
    "    best_tariff_list = []\n",
    "\n",
    "    for user in df.user_id.unique():\n",
    "        total_by_user = {i:[] for i in over_limit.keys()}\n",
    "        temp = df[df['user_id']==user]        \n",
    "        def in_one_user_df(x):\n",
    "            cost_by_tariff = {}\n",
    "            for i in over_limit.keys():\n",
    "                external = over_limits[i]*x.fl_total_duration\n",
    "                if x.internal_limit > 0:\n",
    "                    internal = over_limit[i]*x.internal_limit\n",
    "                else:\n",
    "                    internal = 0\n",
    "                total = external + internal + tariff[i]\n",
    "                cost_by_tariff[i] = round(total,2)\n",
    "\n",
    "            for key, value in cost_by_tariff.items():\n",
    "                total_by_user[key].append(value)\n",
    "                \n",
    "        temp['no_column_no_doubt'] = temp.apply(in_one_user_df, axis=1)\n",
    "\n",
    "        total_by_user = {key:sum(value) for key, value in total_by_user.items()}\n",
    "\n",
    "        best_tariff = [key for key, value in total_by_user.items() if value == min(total_by_user.values())][0]\n",
    "\n",
    "        user_list.append(user)\n",
    "        best_tariff_list.append(best_tariff)\n",
    "\n",
    "    df_best_tariff = pd.DataFrame({'user_id':user_list, 'best_tariff':best_tariff_list})\n",
    "    return df_best_tariff"
   ]
  },
  {
   "cell_type": "code",
   "execution_count": 121,
   "metadata": {},
   "outputs": [
    {
     "data": {
      "text/html": [
       "<div>\n",
       "<style scoped>\n",
       "    .dataframe tbody tr th:only-of-type {\n",
       "        vertical-align: middle;\n",
       "    }\n",
       "\n",
       "    .dataframe tbody tr th {\n",
       "        vertical-align: top;\n",
       "    }\n",
       "\n",
       "    .dataframe thead th {\n",
       "        text-align: right;\n",
       "    }\n",
       "</style>\n",
       "<table border=\"1\" class=\"dataframe\">\n",
       "  <thead>\n",
       "    <tr style=\"text-align: right;\">\n",
       "      <th></th>\n",
       "      <th>user_id</th>\n",
       "      <th>best_tariff</th>\n",
       "    </tr>\n",
       "  </thead>\n",
       "  <tbody>\n",
       "    <tr>\n",
       "      <th>0</th>\n",
       "      <td>166713</td>\n",
       "      <td>C</td>\n",
       "    </tr>\n",
       "    <tr>\n",
       "      <th>1</th>\n",
       "      <td>166901</td>\n",
       "      <td>C</td>\n",
       "    </tr>\n",
       "    <tr>\n",
       "      <th>2</th>\n",
       "      <td>168193</td>\n",
       "      <td>C</td>\n",
       "    </tr>\n",
       "    <tr>\n",
       "      <th>3</th>\n",
       "      <td>168252</td>\n",
       "      <td>B</td>\n",
       "    </tr>\n",
       "    <tr>\n",
       "      <th>4</th>\n",
       "      <td>168253</td>\n",
       "      <td>C</td>\n",
       "    </tr>\n",
       "  </tbody>\n",
       "</table>\n",
       "</div>"
      ],
      "text/plain": [
       "   user_id best_tariff\n",
       "0  166713   C         \n",
       "1  166901   C         \n",
       "2  168193   C         \n",
       "3  168252   B         \n",
       "4  168253   C         "
      ]
     },
     "execution_count": 121,
     "metadata": {},
     "output_type": "execute_result"
    }
   ],
   "source": [
    "df_best_tariff = get_best_tariff()\n",
    "df_best_tariff.head()"
   ]
  },
  {
   "cell_type": "code",
   "execution_count": 122,
   "metadata": {},
   "outputs": [
    {
     "data": {
      "text/html": [
       "<div>\n",
       "<style scoped>\n",
       "    .dataframe tbody tr th:only-of-type {\n",
       "        vertical-align: middle;\n",
       "    }\n",
       "\n",
       "    .dataframe tbody tr th {\n",
       "        vertical-align: top;\n",
       "    }\n",
       "\n",
       "    .dataframe thead th {\n",
       "        text-align: right;\n",
       "    }\n",
       "</style>\n",
       "<table border=\"1\" class=\"dataframe\">\n",
       "  <thead>\n",
       "    <tr style=\"text-align: right;\">\n",
       "      <th></th>\n",
       "      <th>user_id</th>\n",
       "    </tr>\n",
       "    <tr>\n",
       "      <th>best_tariff</th>\n",
       "      <th></th>\n",
       "    </tr>\n",
       "  </thead>\n",
       "  <tbody>\n",
       "    <tr>\n",
       "      <th>A</th>\n",
       "      <td>1</td>\n",
       "    </tr>\n",
       "    <tr>\n",
       "      <th>B</th>\n",
       "      <td>8</td>\n",
       "    </tr>\n",
       "    <tr>\n",
       "      <th>C</th>\n",
       "      <td>235</td>\n",
       "    </tr>\n",
       "  </tbody>\n",
       "</table>\n",
       "</div>"
      ],
      "text/plain": [
       "             user_id\n",
       "best_tariff         \n",
       "A            1      \n",
       "B            8      \n",
       "C            235    "
      ]
     },
     "execution_count": 122,
     "metadata": {},
     "output_type": "execute_result"
    }
   ],
   "source": [
    "df_best_tariff.groupby('best_tariff').agg({'user_id':'nunique'})"
   ]
  },
  {
   "cell_type": "code",
   "execution_count": 123,
   "metadata": {},
   "outputs": [
    {
     "data": {
      "image/png": "[encoded data removed]",
      "text/plain": [
       "<Figure size 360x360 with 1 Axes>"
      ]
     },
     "metadata": {
      "needs_background": "light"
     },
     "output_type": "display_data"
    }
   ],
   "source": [
    "ax = df_best_tariff.groupby('best_tariff').agg({'user_id':'nunique'}).plot(kind='bar', figsize=(5, 5), legend=False, grid=True)\n",
    "plt.xticks(rotation=0)\n",
    "plt.title('Тарифы по клиентам')\n",
    "plt.xlabel('Выгодный тариф') \n",
    "plt.ylabel('Количество')\n",
    "plt.show()"
   ]
  },
  {
   "cell_type": "markdown",
   "metadata": {},
   "source": [
    "Предлагает больше всего тариф С."
   ]
  },
  {
   "cell_type": "markdown",
   "metadata": {},
   "source": [
    "Сравним тарифы."
   ]
  },
  {
   "cell_type": "code",
   "execution_count": 124,
   "metadata": {},
   "outputs": [],
   "source": [
    "df = df.merge(df_best_tariff, on='user_id', how='left')"
   ]
  },
  {
   "cell_type": "code",
   "execution_count": 125,
   "metadata": {},
   "outputs": [
    {
     "data": {
      "text/html": [
       "<div>\n",
       "<style scoped>\n",
       "    .dataframe tbody tr th:only-of-type {\n",
       "        vertical-align: middle;\n",
       "    }\n",
       "\n",
       "    .dataframe tbody tr th {\n",
       "        vertical-align: top;\n",
       "    }\n",
       "\n",
       "    .dataframe thead th {\n",
       "        text-align: right;\n",
       "    }\n",
       "</style>\n",
       "<table border=\"1\" class=\"dataframe\">\n",
       "  <thead>\n",
       "    <tr style=\"text-align: right;\">\n",
       "      <th></th>\n",
       "      <th>user_id</th>\n",
       "      <th>tariff_plan</th>\n",
       "      <th>month_start</th>\n",
       "      <th>month_user</th>\n",
       "      <th>month</th>\n",
       "      <th>nunique_operator</th>\n",
       "      <th>internal_calls_count</th>\n",
       "      <th>internal_call_duration</th>\n",
       "      <th>internal_total_duration</th>\n",
       "      <th>fl_calls_count</th>\n",
       "      <th>fl_calls_duration</th>\n",
       "      <th>fl_total_duration</th>\n",
       "      <th>cost_tariff</th>\n",
       "      <th>internal_limit</th>\n",
       "      <th>cost_internal_call</th>\n",
       "      <th>cost_external_call</th>\n",
       "      <th>cost_operators</th>\n",
       "      <th>total</th>\n",
       "      <th>best_tariff</th>\n",
       "    </tr>\n",
       "  </thead>\n",
       "  <tbody>\n",
       "    <tr>\n",
       "      <th>0</th>\n",
       "      <td>166713</td>\n",
       "      <td>A</td>\n",
       "      <td>2019-08-01</td>\n",
       "      <td>11</td>\n",
       "      <td>2019-09-01 00:00:00</td>\n",
       "      <td>1.0</td>\n",
       "      <td>2.0</td>\n",
       "      <td>4.0</td>\n",
       "      <td>4.0</td>\n",
       "      <td>10.0</td>\n",
       "      <td>24.0</td>\n",
       "      <td>26.0</td>\n",
       "      <td>5000</td>\n",
       "      <td>-1996.0</td>\n",
       "      <td>0</td>\n",
       "      <td>10.4</td>\n",
       "      <td>100.0</td>\n",
       "      <td>5110.4</td>\n",
       "      <td>C</td>\n",
       "    </tr>\n",
       "    <tr>\n",
       "      <th>1</th>\n",
       "      <td>166713</td>\n",
       "      <td>A</td>\n",
       "      <td>2019-08-01</td>\n",
       "      <td>11</td>\n",
       "      <td>2019-10-01 00:00:00</td>\n",
       "      <td>2.0</td>\n",
       "      <td>0.0</td>\n",
       "      <td>0.0</td>\n",
       "      <td>0.0</td>\n",
       "      <td>16.0</td>\n",
       "      <td>16.0</td>\n",
       "      <td>21.0</td>\n",
       "      <td>5000</td>\n",
       "      <td>-2000.0</td>\n",
       "      <td>0</td>\n",
       "      <td>8.4</td>\n",
       "      <td>200.0</td>\n",
       "      <td>5208.4</td>\n",
       "      <td>C</td>\n",
       "    </tr>\n",
       "    <tr>\n",
       "      <th>2</th>\n",
       "      <td>166713</td>\n",
       "      <td>A</td>\n",
       "      <td>2019-08-01</td>\n",
       "      <td>11</td>\n",
       "      <td>2019-11-01 00:00:00</td>\n",
       "      <td>1.0</td>\n",
       "      <td>0.0</td>\n",
       "      <td>0.0</td>\n",
       "      <td>0.0</td>\n",
       "      <td>20.0</td>\n",
       "      <td>117.0</td>\n",
       "      <td>119.0</td>\n",
       "      <td>5000</td>\n",
       "      <td>-2000.0</td>\n",
       "      <td>0</td>\n",
       "      <td>47.6</td>\n",
       "      <td>100.0</td>\n",
       "      <td>5147.6</td>\n",
       "      <td>C</td>\n",
       "    </tr>\n",
       "    <tr>\n",
       "      <th>3</th>\n",
       "      <td>166901</td>\n",
       "      <td>A</td>\n",
       "      <td>2019-08-01</td>\n",
       "      <td>11</td>\n",
       "      <td>2019-08-01 00:00:00</td>\n",
       "      <td>4.0</td>\n",
       "      <td>28.0</td>\n",
       "      <td>23.0</td>\n",
       "      <td>30.0</td>\n",
       "      <td>53.0</td>\n",
       "      <td>26.0</td>\n",
       "      <td>31.0</td>\n",
       "      <td>5000</td>\n",
       "      <td>-1970.0</td>\n",
       "      <td>0</td>\n",
       "      <td>12.4</td>\n",
       "      <td>400.0</td>\n",
       "      <td>5412.4</td>\n",
       "      <td>C</td>\n",
       "    </tr>\n",
       "    <tr>\n",
       "      <th>4</th>\n",
       "      <td>166901</td>\n",
       "      <td>A</td>\n",
       "      <td>2019-08-01</td>\n",
       "      <td>11</td>\n",
       "      <td>2019-09-01 00:00:00</td>\n",
       "      <td>4.0</td>\n",
       "      <td>106.0</td>\n",
       "      <td>98.0</td>\n",
       "      <td>121.0</td>\n",
       "      <td>148.0</td>\n",
       "      <td>261.0</td>\n",
       "      <td>280.0</td>\n",
       "      <td>5000</td>\n",
       "      <td>-1879.0</td>\n",
       "      <td>0</td>\n",
       "      <td>112.0</td>\n",
       "      <td>400.0</td>\n",
       "      <td>5512.0</td>\n",
       "      <td>C</td>\n",
       "    </tr>\n",
       "  </tbody>\n",
       "</table>\n",
       "</div>"
      ],
      "text/plain": [
       "   user_id tariff_plan month_start  month_user                month  \\\n",
       "0  166713   A          2019-08-01   11          2019-09-01 00:00:00   \n",
       "1  166713   A          2019-08-01   11          2019-10-01 00:00:00   \n",
       "2  166713   A          2019-08-01   11          2019-11-01 00:00:00   \n",
       "3  166901   A          2019-08-01   11          2019-08-01 00:00:00   \n",
       "4  166901   A          2019-08-01   11          2019-09-01 00:00:00   \n",
       "\n",
       "   nunique_operator  internal_calls_count  internal_call_duration  \\\n",
       "0  1.0               2.0                   4.0                      \n",
       "1  2.0               0.0                   0.0                      \n",
       "2  1.0               0.0                   0.0                      \n",
       "3  4.0               28.0                  23.0                     \n",
       "4  4.0               106.0                 98.0                     \n",
       "\n",
       "   internal_total_duration  fl_calls_count  fl_calls_duration  \\\n",
       "0  4.0                      10.0            24.0                \n",
       "1  0.0                      16.0            16.0                \n",
       "2  0.0                      20.0            117.0               \n",
       "3  30.0                     53.0            26.0                \n",
       "4  121.0                    148.0           261.0               \n",
       "\n",
       "   fl_total_duration  cost_tariff  internal_limit  cost_internal_call  \\\n",
       "0  26.0               5000        -1996.0          0                    \n",
       "1  21.0               5000        -2000.0          0                    \n",
       "2  119.0              5000        -2000.0          0                    \n",
       "3  31.0               5000        -1970.0          0                    \n",
       "4  280.0              5000        -1879.0          0                    \n",
       "\n",
       "   cost_external_call  cost_operators   total best_tariff  \n",
       "0  10.4                100.0           5110.4  C           \n",
       "1  8.4                 200.0           5208.4  C           \n",
       "2  47.6                100.0           5147.6  C           \n",
       "3  12.4                400.0           5412.4  C           \n",
       "4  112.0               400.0           5512.0  C           "
      ]
     },
     "execution_count": 125,
     "metadata": {},
     "output_type": "execute_result"
    }
   ],
   "source": [
    "df.head()"
   ]
  },
  {
   "cell_type": "code",
   "execution_count": 126,
   "metadata": {},
   "outputs": [],
   "source": [
    "df_recommendation = df.groupby(['user_id','tariff_plan']).agg({'best_tariff':'unique'}).reset_index()"
   ]
  },
  {
   "cell_type": "markdown",
   "metadata": {},
   "source": [
    "Создадим функцию,которая считает более выгодный тариф."
   ]
  },
  {
   "cell_type": "code",
   "execution_count": 127,
   "metadata": {},
   "outputs": [],
   "source": [
    "def get_recommendation(x):\n",
    "    dict_params = {'A':3,'B':2, 'C':1}\n",
    "    dict_params_down = dict(reversed(item) for item in dict_params.items())\n",
    "    current_tariff = dict_params[x.tariff_plan]\n",
    "    if (list(x.tariff_plan) == x.best_tariff) :\n",
    "        return 'nothing'\n",
    "    else:\n",
    "        best_tariff = dict_params[str(x.best_tariff[0])]\n",
    "        if current_tariff > best_tariff:\n",
    "            return 'decrease_'+ dict_params_down[best_tariff]\n",
    "        else:\n",
    "            return 'increase_'+ dict_params_down[best_tariff]"
   ]
  },
  {
   "cell_type": "code",
   "execution_count": 128,
   "metadata": {},
   "outputs": [],
   "source": [
    "df_recommendation['recommedation'] = df_recommendation.apply(get_recommendation, axis=1)"
   ]
  },
  {
   "cell_type": "code",
   "execution_count": 129,
   "metadata": {},
   "outputs": [],
   "source": [
    "df_recommendation.drop(['best_tariff'], axis=1, inplace=True)"
   ]
  },
  {
   "cell_type": "code",
   "execution_count": 130,
   "metadata": {},
   "outputs": [
    {
     "data": {
      "text/html": [
       "<div>\n",
       "<style scoped>\n",
       "    .dataframe tbody tr th:only-of-type {\n",
       "        vertical-align: middle;\n",
       "    }\n",
       "\n",
       "    .dataframe tbody tr th {\n",
       "        vertical-align: top;\n",
       "    }\n",
       "\n",
       "    .dataframe thead th {\n",
       "        text-align: right;\n",
       "    }\n",
       "</style>\n",
       "<table border=\"1\" class=\"dataframe\">\n",
       "  <thead>\n",
       "    <tr style=\"text-align: right;\">\n",
       "      <th></th>\n",
       "      <th>user_id</th>\n",
       "      <th>tariff_plan</th>\n",
       "      <th>recommedation</th>\n",
       "    </tr>\n",
       "  </thead>\n",
       "  <tbody>\n",
       "    <tr>\n",
       "      <th>0</th>\n",
       "      <td>166377</td>\n",
       "      <td>B</td>\n",
       "      <td>decrease_C</td>\n",
       "    </tr>\n",
       "    <tr>\n",
       "      <th>1</th>\n",
       "      <td>166391</td>\n",
       "      <td>C</td>\n",
       "      <td>nothing</td>\n",
       "    </tr>\n",
       "    <tr>\n",
       "      <th>2</th>\n",
       "      <td>166392</td>\n",
       "      <td>C</td>\n",
       "      <td>nothing</td>\n",
       "    </tr>\n",
       "    <tr>\n",
       "      <th>3</th>\n",
       "      <td>166405</td>\n",
       "      <td>B</td>\n",
       "      <td>nothing</td>\n",
       "    </tr>\n",
       "    <tr>\n",
       "      <th>4</th>\n",
       "      <td>166406</td>\n",
       "      <td>B</td>\n",
       "      <td>decrease_C</td>\n",
       "    </tr>\n",
       "  </tbody>\n",
       "</table>\n",
       "</div>"
      ],
      "text/plain": [
       "   user_id tariff_plan recommedation\n",
       "0  166377   B           decrease_C  \n",
       "1  166391   C           nothing     \n",
       "2  166392   C           nothing     \n",
       "3  166405   B           nothing     \n",
       "4  166406   B           decrease_C  "
      ]
     },
     "execution_count": 130,
     "metadata": {},
     "output_type": "execute_result"
    }
   ],
   "source": [
    "df_recommendation.head()"
   ]
  },
  {
   "cell_type": "markdown",
   "metadata": {},
   "source": [
    "Посмотрим на оптимальные тарифы."
   ]
  },
  {
   "cell_type": "code",
   "execution_count": 131,
   "metadata": {},
   "outputs": [],
   "source": [
    "df_recommendation['is_tariff_optimal'] = np.where(df_recommendation['recommedation']=='nothing',\n",
    "                                                  'optimal','not_optimal')\n",
    "optimal = df_recommendation.groupby('is_tariff_optimal').agg({'user_id':'nunique'})\\\n",
    "                                                     .rename(columns={'user_id':'cnt_users'})\\\n",
    "                                                     .reset_index()\n",
    "\n",
    "optimal['share'] = optimal['cnt_users'] / optimal['cnt_users'].sum()"
   ]
  },
  {
   "cell_type": "code",
   "execution_count": 132,
   "metadata": {},
   "outputs": [
    {
     "data": {
      "text/html": [
       "<div>\n",
       "<style scoped>\n",
       "    .dataframe tbody tr th:only-of-type {\n",
       "        vertical-align: middle;\n",
       "    }\n",
       "\n",
       "    .dataframe tbody tr th {\n",
       "        vertical-align: top;\n",
       "    }\n",
       "\n",
       "    .dataframe thead th {\n",
       "        text-align: right;\n",
       "    }\n",
       "</style>\n",
       "<table border=\"1\" class=\"dataframe\">\n",
       "  <thead>\n",
       "    <tr style=\"text-align: right;\">\n",
       "      <th></th>\n",
       "      <th>is_tariff_optimal</th>\n",
       "      <th>cnt_users</th>\n",
       "      <th>share</th>\n",
       "    </tr>\n",
       "  </thead>\n",
       "  <tbody>\n",
       "    <tr>\n",
       "      <th>0</th>\n",
       "      <td>not_optimal</td>\n",
       "      <td>112</td>\n",
       "      <td>0.459016</td>\n",
       "    </tr>\n",
       "    <tr>\n",
       "      <th>1</th>\n",
       "      <td>optimal</td>\n",
       "      <td>132</td>\n",
       "      <td>0.540984</td>\n",
       "    </tr>\n",
       "  </tbody>\n",
       "</table>\n",
       "</div>"
      ],
      "text/plain": [
       "  is_tariff_optimal  cnt_users     share\n",
       "0  not_optimal       112        0.459016\n",
       "1  optimal           132        0.540984"
      ]
     },
     "execution_count": 132,
     "metadata": {},
     "output_type": "execute_result"
    }
   ],
   "source": [
    "optimal"
   ]
  },
  {
   "cell_type": "markdown",
   "metadata": {},
   "source": [
    "135 клиентов с оптимальным тарифным планом, 126 с не оптимальным."
   ]
  },
  {
   "cell_type": "code",
   "execution_count": 133,
   "metadata": {},
   "outputs": [
    {
     "data": {
      "image/png": "[encoded data removed]",
      "text/plain": [
       "<Figure size 360x360 with 1 Axes>"
      ]
     },
     "metadata": {
      "needs_background": "light"
     },
     "output_type": "display_data"
    }
   ],
   "source": [
    "rec = df_recommendation.groupby('recommedation').agg({'user_id':'nunique'})\\\n",
    "                                                .rename(columns={'user_id':'cnt_users'})\\\n",
    "                                                .sort_values('cnt_users')\n",
    "ax = rec.plot(kind='bar', figsize=(5, 5), legend=False, grid=True)\n",
    "plt.xticks(rotation=45)\n",
    "plt.title('Количество клиентов по рекомендациями')\n",
    "plt.xlabel('Рекомендация') \n",
    "plt.ylabel('Количество')\n",
    "plt.show()"
   ]
  },
  {
   "cell_type": "code",
   "execution_count": 134,
   "metadata": {},
   "outputs": [
    {
     "data": {
      "text/html": [
       "<div>\n",
       "<style scoped>\n",
       "    .dataframe tbody tr th:only-of-type {\n",
       "        vertical-align: middle;\n",
       "    }\n",
       "\n",
       "    .dataframe tbody tr th {\n",
       "        vertical-align: top;\n",
       "    }\n",
       "\n",
       "    .dataframe thead th {\n",
       "        text-align: right;\n",
       "    }\n",
       "</style>\n",
       "<table border=\"1\" class=\"dataframe\">\n",
       "  <thead>\n",
       "    <tr style=\"text-align: right;\">\n",
       "      <th></th>\n",
       "      <th>cnt_users</th>\n",
       "    </tr>\n",
       "    <tr>\n",
       "      <th>recommedation</th>\n",
       "      <th></th>\n",
       "    </tr>\n",
       "  </thead>\n",
       "  <tbody>\n",
       "    <tr>\n",
       "      <th>increase_B</th>\n",
       "      <td>2</td>\n",
       "    </tr>\n",
       "    <tr>\n",
       "      <th>decrease_B</th>\n",
       "      <td>4</td>\n",
       "    </tr>\n",
       "    <tr>\n",
       "      <th>decrease_C</th>\n",
       "      <td>106</td>\n",
       "    </tr>\n",
       "    <tr>\n",
       "      <th>nothing</th>\n",
       "      <td>132</td>\n",
       "    </tr>\n",
       "  </tbody>\n",
       "</table>\n",
       "</div>"
      ],
      "text/plain": [
       "               cnt_users\n",
       "recommedation           \n",
       "increase_B     2        \n",
       "decrease_B     4        \n",
       "decrease_C     106      \n",
       "nothing        132      "
      ]
     },
     "execution_count": 134,
     "metadata": {},
     "output_type": "execute_result"
    }
   ],
   "source": [
    "rec"
   ]
  },
  {
   "cell_type": "markdown",
   "metadata": {},
   "source": [
    "В понижении тарифа до уровня В нуждаются 3 клиента, в повышении до уровня В 1.\n",
    "\n",
    "В понижении тарифа до уровня С нуждаются 106 клиентов.\n",
    "\n",
    "Оптимальный у 132."
   ]
  },
  {
   "cell_type": "markdown",
   "metadata": {},
   "source": [
    "Разделим на 2 рекомендации."
   ]
  },
  {
   "cell_type": "code",
   "execution_count": 135,
   "metadata": {},
   "outputs": [
    {
     "data": {
      "text/html": [
       "<div>\n",
       "<style scoped>\n",
       "    .dataframe tbody tr th:only-of-type {\n",
       "        vertical-align: middle;\n",
       "    }\n",
       "\n",
       "    .dataframe tbody tr th {\n",
       "        vertical-align: top;\n",
       "    }\n",
       "\n",
       "    .dataframe thead th {\n",
       "        text-align: right;\n",
       "    }\n",
       "</style>\n",
       "<table border=\"1\" class=\"dataframe\">\n",
       "  <thead>\n",
       "    <tr style=\"text-align: right;\">\n",
       "      <th></th>\n",
       "      <th>user_id</th>\n",
       "      <th>tariff_plan</th>\n",
       "      <th>recommedation</th>\n",
       "      <th>is_tariff_optimal</th>\n",
       "      <th>action</th>\n",
       "      <th>optimal_tariff</th>\n",
       "    </tr>\n",
       "  </thead>\n",
       "  <tbody>\n",
       "    <tr>\n",
       "      <th>0</th>\n",
       "      <td>166377</td>\n",
       "      <td>B</td>\n",
       "      <td>decrease_C</td>\n",
       "      <td>not_optimal</td>\n",
       "      <td>decrease</td>\n",
       "      <td>C</td>\n",
       "    </tr>\n",
       "    <tr>\n",
       "      <th>1</th>\n",
       "      <td>166391</td>\n",
       "      <td>C</td>\n",
       "      <td>nothing</td>\n",
       "      <td>optimal</td>\n",
       "      <td>nothing</td>\n",
       "      <td>None</td>\n",
       "    </tr>\n",
       "    <tr>\n",
       "      <th>2</th>\n",
       "      <td>166392</td>\n",
       "      <td>C</td>\n",
       "      <td>nothing</td>\n",
       "      <td>optimal</td>\n",
       "      <td>nothing</td>\n",
       "      <td>None</td>\n",
       "    </tr>\n",
       "    <tr>\n",
       "      <th>3</th>\n",
       "      <td>166405</td>\n",
       "      <td>B</td>\n",
       "      <td>nothing</td>\n",
       "      <td>optimal</td>\n",
       "      <td>nothing</td>\n",
       "      <td>None</td>\n",
       "    </tr>\n",
       "    <tr>\n",
       "      <th>4</th>\n",
       "      <td>166406</td>\n",
       "      <td>B</td>\n",
       "      <td>decrease_C</td>\n",
       "      <td>not_optimal</td>\n",
       "      <td>decrease</td>\n",
       "      <td>C</td>\n",
       "    </tr>\n",
       "  </tbody>\n",
       "</table>\n",
       "</div>"
      ],
      "text/plain": [
       "   user_id tariff_plan recommedation is_tariff_optimal    action  \\\n",
       "0  166377   B           decrease_C    not_optimal       decrease   \n",
       "1  166391   C           nothing       optimal           nothing    \n",
       "2  166392   C           nothing       optimal           nothing    \n",
       "3  166405   B           nothing       optimal           nothing    \n",
       "4  166406   B           decrease_C    not_optimal       decrease   \n",
       "\n",
       "  optimal_tariff  \n",
       "0  C              \n",
       "1  None           \n",
       "2  None           \n",
       "3  None           \n",
       "4  C              "
      ]
     },
     "execution_count": 135,
     "metadata": {},
     "output_type": "execute_result"
    }
   ],
   "source": [
    "df_recommendation[['action', 'optimal_tariff']] = df_recommendation['recommedation'].str.split('_', expand=True)\n",
    "df_recommendation.head()"
   ]
  },
  {
   "cell_type": "code",
   "execution_count": 136,
   "metadata": {},
   "outputs": [],
   "source": [
    "df_recommendation.loc[df_recommendation['action']=='nothing','optimal_tariff'] = df_recommendation['tariff_plan']"
   ]
  },
  {
   "cell_type": "code",
   "execution_count": 137,
   "metadata": {},
   "outputs": [
    {
     "data": {
      "text/html": [
       "<div>\n",
       "<style scoped>\n",
       "    .dataframe tbody tr th:only-of-type {\n",
       "        vertical-align: middle;\n",
       "    }\n",
       "\n",
       "    .dataframe tbody tr th {\n",
       "        vertical-align: top;\n",
       "    }\n",
       "\n",
       "    .dataframe thead th {\n",
       "        text-align: right;\n",
       "    }\n",
       "</style>\n",
       "<table border=\"1\" class=\"dataframe\">\n",
       "  <thead>\n",
       "    <tr style=\"text-align: right;\">\n",
       "      <th></th>\n",
       "      <th>user_id</th>\n",
       "      <th>tariff_plan</th>\n",
       "      <th>recommedation</th>\n",
       "      <th>is_tariff_optimal</th>\n",
       "      <th>action</th>\n",
       "      <th>optimal_tariff</th>\n",
       "    </tr>\n",
       "  </thead>\n",
       "  <tbody>\n",
       "    <tr>\n",
       "      <th>0</th>\n",
       "      <td>166377</td>\n",
       "      <td>B</td>\n",
       "      <td>decrease_C</td>\n",
       "      <td>not_optimal</td>\n",
       "      <td>decrease</td>\n",
       "      <td>C</td>\n",
       "    </tr>\n",
       "    <tr>\n",
       "      <th>1</th>\n",
       "      <td>166391</td>\n",
       "      <td>C</td>\n",
       "      <td>nothing</td>\n",
       "      <td>optimal</td>\n",
       "      <td>nothing</td>\n",
       "      <td>C</td>\n",
       "    </tr>\n",
       "    <tr>\n",
       "      <th>2</th>\n",
       "      <td>166392</td>\n",
       "      <td>C</td>\n",
       "      <td>nothing</td>\n",
       "      <td>optimal</td>\n",
       "      <td>nothing</td>\n",
       "      <td>C</td>\n",
       "    </tr>\n",
       "    <tr>\n",
       "      <th>3</th>\n",
       "      <td>166405</td>\n",
       "      <td>B</td>\n",
       "      <td>nothing</td>\n",
       "      <td>optimal</td>\n",
       "      <td>nothing</td>\n",
       "      <td>B</td>\n",
       "    </tr>\n",
       "    <tr>\n",
       "      <th>4</th>\n",
       "      <td>166406</td>\n",
       "      <td>B</td>\n",
       "      <td>decrease_C</td>\n",
       "      <td>not_optimal</td>\n",
       "      <td>decrease</td>\n",
       "      <td>C</td>\n",
       "    </tr>\n",
       "  </tbody>\n",
       "</table>\n",
       "</div>"
      ],
      "text/plain": [
       "   user_id tariff_plan recommedation is_tariff_optimal    action  \\\n",
       "0  166377   B           decrease_C    not_optimal       decrease   \n",
       "1  166391   C           nothing       optimal           nothing    \n",
       "2  166392   C           nothing       optimal           nothing    \n",
       "3  166405   B           nothing       optimal           nothing    \n",
       "4  166406   B           decrease_C    not_optimal       decrease   \n",
       "\n",
       "  optimal_tariff  \n",
       "0  C              \n",
       "1  C              \n",
       "2  C              \n",
       "3  B              \n",
       "4  C              "
      ]
     },
     "execution_count": 137,
     "metadata": {},
     "output_type": "execute_result"
    }
   ],
   "source": [
    "df_recommendation.head()"
   ]
  },
  {
   "cell_type": "code",
   "execution_count": 138,
   "metadata": {},
   "outputs": [
    {
     "data": {
      "image/png": "[encoded data removed]",
      "text/plain": [
       "<Figure size 720x360 with 1 Axes>"
      ]
     },
     "metadata": {
      "needs_background": "light"
     },
     "output_type": "display_data"
    }
   ],
   "source": [
    "action = df_recommendation.groupby(['tariff_plan','action']).agg({'user_id':'nunique'})\\\n",
    "                                                          .rename(columns={'user_id':'cnt_users'})\\\n",
    "                                                          .reset_index()\n",
    "plt.figure(figsize=(10, 5)) \n",
    "ax = sns.barplot(x='tariff_plan', y='cnt_users', hue='action', data=action)\n",
    "ax.set(title='Оптимизация для клиента', xlabel='Тариф', ylabel='Количетво')\n",
    "plt.show()"
   ]
  },
  {
   "cell_type": "code",
   "execution_count": 139,
   "metadata": {},
   "outputs": [
    {
     "data": {
      "text/html": [
       "<div>\n",
       "<style scoped>\n",
       "    .dataframe tbody tr th:only-of-type {\n",
       "        vertical-align: middle;\n",
       "    }\n",
       "\n",
       "    .dataframe tbody tr th {\n",
       "        vertical-align: top;\n",
       "    }\n",
       "\n",
       "    .dataframe thead th {\n",
       "        text-align: right;\n",
       "    }\n",
       "</style>\n",
       "<table border=\"1\" class=\"dataframe\">\n",
       "  <thead>\n",
       "    <tr style=\"text-align: right;\">\n",
       "      <th></th>\n",
       "      <th>tariff_plan</th>\n",
       "      <th>action</th>\n",
       "      <th>cnt_users</th>\n",
       "    </tr>\n",
       "  </thead>\n",
       "  <tbody>\n",
       "    <tr>\n",
       "      <th>0</th>\n",
       "      <td>A</td>\n",
       "      <td>decrease</td>\n",
       "      <td>27</td>\n",
       "    </tr>\n",
       "    <tr>\n",
       "      <th>1</th>\n",
       "      <td>A</td>\n",
       "      <td>nothing</td>\n",
       "      <td>1</td>\n",
       "    </tr>\n",
       "    <tr>\n",
       "      <th>2</th>\n",
       "      <td>B</td>\n",
       "      <td>decrease</td>\n",
       "      <td>83</td>\n",
       "    </tr>\n",
       "    <tr>\n",
       "      <th>3</th>\n",
       "      <td>B</td>\n",
       "      <td>nothing</td>\n",
       "      <td>2</td>\n",
       "    </tr>\n",
       "    <tr>\n",
       "      <th>4</th>\n",
       "      <td>C</td>\n",
       "      <td>increase</td>\n",
       "      <td>2</td>\n",
       "    </tr>\n",
       "    <tr>\n",
       "      <th>5</th>\n",
       "      <td>C</td>\n",
       "      <td>nothing</td>\n",
       "      <td>129</td>\n",
       "    </tr>\n",
       "  </tbody>\n",
       "</table>\n",
       "</div>"
      ],
      "text/plain": [
       "  tariff_plan    action  cnt_users\n",
       "0  A           decrease  27       \n",
       "1  A           nothing   1        \n",
       "2  B           decrease  83       \n",
       "3  B           nothing   2        \n",
       "4  C           increase  2        \n",
       "5  C           nothing   129      "
      ]
     },
     "execution_count": 139,
     "metadata": {},
     "output_type": "execute_result"
    }
   ],
   "source": [
    "action"
   ]
  },
  {
   "cell_type": "code",
   "execution_count": 140,
   "metadata": {},
   "outputs": [
    {
     "data": {
      "image/png": "[encoded data removed]",
      "text/plain": [
       "<Figure size 720x360 with 1 Axes>"
      ]
     },
     "metadata": {
      "needs_background": "light"
     },
     "output_type": "display_data"
    }
   ],
   "source": [
    "opt = ((df_recommendation.groupby(['tariff_plan','action']).agg({'user_id':'nunique'})/\n",
    "                                df_recommendation.groupby('tariff_plan').agg({'user_id':'nunique'}))).reset_index()\n",
    "plt.figure(figsize=(10, 5)) \n",
    "ax = sns.barplot(x='tariff_plan', y='user_id', hue='action', data=opt)\n",
    "ax.set(title='Оптимизация для клиента', xlabel='Тариф', ylabel='Количетво')\n",
    "plt.show()"
   ]
  },
  {
   "cell_type": "code",
   "execution_count": 141,
   "metadata": {},
   "outputs": [
    {
     "data": {
      "text/html": [
       "<div>\n",
       "<style scoped>\n",
       "    .dataframe tbody tr th:only-of-type {\n",
       "        vertical-align: middle;\n",
       "    }\n",
       "\n",
       "    .dataframe tbody tr th {\n",
       "        vertical-align: top;\n",
       "    }\n",
       "\n",
       "    .dataframe thead th {\n",
       "        text-align: right;\n",
       "    }\n",
       "</style>\n",
       "<table border=\"1\" class=\"dataframe\">\n",
       "  <thead>\n",
       "    <tr style=\"text-align: right;\">\n",
       "      <th></th>\n",
       "      <th>tariff_plan</th>\n",
       "      <th>action</th>\n",
       "      <th>user_id</th>\n",
       "    </tr>\n",
       "  </thead>\n",
       "  <tbody>\n",
       "    <tr>\n",
       "      <th>0</th>\n",
       "      <td>A</td>\n",
       "      <td>decrease</td>\n",
       "      <td>0.964286</td>\n",
       "    </tr>\n",
       "    <tr>\n",
       "      <th>1</th>\n",
       "      <td>A</td>\n",
       "      <td>nothing</td>\n",
       "      <td>0.035714</td>\n",
       "    </tr>\n",
       "    <tr>\n",
       "      <th>2</th>\n",
       "      <td>B</td>\n",
       "      <td>decrease</td>\n",
       "      <td>0.976471</td>\n",
       "    </tr>\n",
       "    <tr>\n",
       "      <th>3</th>\n",
       "      <td>B</td>\n",
       "      <td>nothing</td>\n",
       "      <td>0.023529</td>\n",
       "    </tr>\n",
       "    <tr>\n",
       "      <th>4</th>\n",
       "      <td>C</td>\n",
       "      <td>increase</td>\n",
       "      <td>0.015267</td>\n",
       "    </tr>\n",
       "    <tr>\n",
       "      <th>5</th>\n",
       "      <td>C</td>\n",
       "      <td>nothing</td>\n",
       "      <td>0.984733</td>\n",
       "    </tr>\n",
       "  </tbody>\n",
       "</table>\n",
       "</div>"
      ],
      "text/plain": [
       "  tariff_plan    action   user_id\n",
       "0  A           decrease  0.964286\n",
       "1  A           nothing   0.035714\n",
       "2  B           decrease  0.976471\n",
       "3  B           nothing   0.023529\n",
       "4  C           increase  0.015267\n",
       "5  C           nothing   0.984733"
      ]
     },
     "execution_count": 141,
     "metadata": {},
     "output_type": "execute_result"
    }
   ],
   "source": [
    "opt"
   ]
  },
  {
   "cell_type": "code",
   "execution_count": 142,
   "metadata": {},
   "outputs": [],
   "source": [
    "op = df_recommendation.groupby('action').agg({'user_id':'nunique'}).rename(columns={'user_id':'cnt_users'}).reset_index()"
   ]
  },
  {
   "cell_type": "code",
   "execution_count": 143,
   "metadata": {},
   "outputs": [
    {
     "data": {
      "text/html": [
       "<div>\n",
       "<style scoped>\n",
       "    .dataframe tbody tr th:only-of-type {\n",
       "        vertical-align: middle;\n",
       "    }\n",
       "\n",
       "    .dataframe tbody tr th {\n",
       "        vertical-align: top;\n",
       "    }\n",
       "\n",
       "    .dataframe thead th {\n",
       "        text-align: right;\n",
       "    }\n",
       "</style>\n",
       "<table border=\"1\" class=\"dataframe\">\n",
       "  <thead>\n",
       "    <tr style=\"text-align: right;\">\n",
       "      <th></th>\n",
       "      <th>action</th>\n",
       "      <th>cnt_users</th>\n",
       "      <th>share</th>\n",
       "    </tr>\n",
       "  </thead>\n",
       "  <tbody>\n",
       "    <tr>\n",
       "      <th>0</th>\n",
       "      <td>decrease</td>\n",
       "      <td>110</td>\n",
       "      <td>0.450820</td>\n",
       "    </tr>\n",
       "    <tr>\n",
       "      <th>1</th>\n",
       "      <td>increase</td>\n",
       "      <td>2</td>\n",
       "      <td>0.008197</td>\n",
       "    </tr>\n",
       "    <tr>\n",
       "      <th>2</th>\n",
       "      <td>nothing</td>\n",
       "      <td>132</td>\n",
       "      <td>0.540984</td>\n",
       "    </tr>\n",
       "  </tbody>\n",
       "</table>\n",
       "</div>"
      ],
      "text/plain": [
       "     action  cnt_users     share\n",
       "0  decrease  110        0.450820\n",
       "1  increase  2          0.008197\n",
       "2  nothing   132        0.540984"
      ]
     },
     "execution_count": 143,
     "metadata": {},
     "output_type": "execute_result"
    }
   ],
   "source": [
    "op['share'] = op['cnt_users'] / (op['cnt_users'].sum())\n",
    "op"
   ]
  },
  {
   "cell_type": "markdown",
   "metadata": {},
   "source": [
    "Понижение:\n",
    "- Для общего числа будет оптимально 45%(109 клиента) перехода.\n",
    "- Для тарифа А будет оптимально 96%(26 клиентов) перехода.\n",
    "- Для тарифа В будет оптимально 97%(83 клиентов) перехода.\n",
    "\n",
    "Повышение:\n",
    "- Для общего числа будет оптимально (1 клиентов) перехода.\n",
    "- Для тарифа С будет оптимально (1 клиентов) перехода.\n",
    "\n",
    "Оптимальный тариф:\n",
    "- для общего числа будет оптимально 54%(132 клиентов) перехода.\n",
    "- Для тарифа В будет оптимально 2%(2 клиентов) перехода.\n",
    "- Для тарифа С будет оптимально 99%(129 клиентов) перехода."
   ]
  },
  {
   "cell_type": "markdown",
   "metadata": {},
   "source": [
    "**Посчитаем потерю выручки.**"
   ]
  },
  {
   "cell_type": "code",
   "execution_count": 144,
   "metadata": {},
   "outputs": [],
   "source": [
    "df.drop(['best_tariff'], axis=1, inplace=True)"
   ]
  },
  {
   "cell_type": "code",
   "execution_count": 145,
   "metadata": {},
   "outputs": [],
   "source": [
    "df = df.merge(df_recommendation[['user_id','is_tariff_optimal','action','optimal_tariff']],on='user_id', how='left')"
   ]
  },
  {
   "cell_type": "code",
   "execution_count": 146,
   "metadata": {},
   "outputs": [],
   "source": [
    "df['cost_tariff_monthly_optimal'] = df['optimal_tariff'].map(tariff)"
   ]
  },
  {
   "cell_type": "code",
   "execution_count": 147,
   "metadata": {},
   "outputs": [],
   "source": [
    "df['cost_internal_call_optimal'] = df.apply(lambda x:\n",
    "                                            round(over_limit[x.optimal_tariff] * x.internal_limit,2)\n",
    "                                                    if x.internal_limit > 0\n",
    "                                                    else 0, axis=1)\n",
    "\n",
    "df['cost_external_call_optimal'] = df.apply(lambda x: round(over_limits[x.optimal_tariff] * x.fl_total_duration,2), axis=1)\n",
    "\n",
    "df['cost_all_total_optimal'] = (df['cost_operators'] + df['cost_tariff_monthly_optimal'] + \n",
    "                                df['cost_internal_call_optimal'] + df['cost_external_call_optimal'])"
   ]
  },
  {
   "cell_type": "markdown",
   "metadata": {},
   "source": [
    "Выручка за весь период."
   ]
  },
  {
   "cell_type": "code",
   "execution_count": 148,
   "metadata": {},
   "outputs": [
    {
     "data": {
      "text/plain": [
       "1467840.1"
      ]
     },
     "execution_count": 148,
     "metadata": {},
     "output_type": "execute_result"
    }
   ],
   "source": [
    "before = df['total'].sum()\n",
    "before"
   ]
  },
  {
   "cell_type": "markdown",
   "metadata": {},
   "source": [
    "Выручка после перехода."
   ]
  },
  {
   "cell_type": "code",
   "execution_count": 149,
   "metadata": {},
   "outputs": [
    {
     "data": {
      "text/plain": [
       "1079511.6"
      ]
     },
     "execution_count": 149,
     "metadata": {},
     "output_type": "execute_result"
    }
   ],
   "source": [
    "after = df['cost_all_total_optimal'].sum()\n",
    "after"
   ]
  },
  {
   "cell_type": "markdown",
   "metadata": {},
   "source": [
    "Относительное различие."
   ]
  },
  {
   "cell_type": "code",
   "execution_count": 150,
   "metadata": {},
   "outputs": [
    {
     "data": {
      "text/plain": [
       "26.455776756609932"
      ]
     },
     "execution_count": 150,
     "metadata": {},
     "output_type": "execute_result"
    }
   ],
   "source": [
    "dif = (before - after) / before * 100\n",
    "dif"
   ]
  },
  {
   "cell_type": "markdown",
   "metadata": {},
   "source": [
    "Посмотрим на выручку после оптимизации на графиках."
   ]
  },
  {
   "cell_type": "code",
   "execution_count": 151,
   "metadata": {},
   "outputs": [
    {
     "data": {
      "text/html": [
       "<div>\n",
       "<style scoped>\n",
       "    .dataframe tbody tr th:only-of-type {\n",
       "        vertical-align: middle;\n",
       "    }\n",
       "\n",
       "    .dataframe tbody tr th {\n",
       "        vertical-align: top;\n",
       "    }\n",
       "\n",
       "    .dataframe thead th {\n",
       "        text-align: right;\n",
       "    }\n",
       "</style>\n",
       "<table border=\"1\" class=\"dataframe\">\n",
       "  <thead>\n",
       "    <tr style=\"text-align: right;\">\n",
       "      <th></th>\n",
       "      <th>cost_all_total_optimal</th>\n",
       "    </tr>\n",
       "    <tr>\n",
       "      <th>tariff_plan</th>\n",
       "      <th></th>\n",
       "    </tr>\n",
       "  </thead>\n",
       "  <tbody>\n",
       "    <tr>\n",
       "      <th>A</th>\n",
       "      <td>251372.1</td>\n",
       "    </tr>\n",
       "    <tr>\n",
       "      <th>B</th>\n",
       "      <td>396995.1</td>\n",
       "    </tr>\n",
       "    <tr>\n",
       "      <th>C</th>\n",
       "      <td>431144.4</td>\n",
       "    </tr>\n",
       "  </tbody>\n",
       "</table>\n",
       "</div>"
      ],
      "text/plain": [
       "             cost_all_total_optimal\n",
       "tariff_plan                        \n",
       "A            251372.1              \n",
       "B            396995.1              \n",
       "C            431144.4              "
      ]
     },
     "execution_count": 151,
     "metadata": {},
     "output_type": "execute_result"
    }
   ],
   "source": [
    "df.groupby('tariff_plan').agg({'cost_all_total_optimal':'sum'})"
   ]
  },
  {
   "cell_type": "code",
   "execution_count": 152,
   "metadata": {},
   "outputs": [
    {
     "data": {
      "image/png": "[encoded data removed]",
      "text/plain": [
       "<Figure size 360x360 with 1 Axes>"
      ]
     },
     "metadata": {
      "needs_background": "light"
     },
     "output_type": "display_data"
    }
   ],
   "source": [
    "ax = df.groupby('tariff_plan').agg({'cost_all_total_optimal':'sum'}).plot(kind='bar', figsize=(5, 5), legend=False, grid=True)\n",
    "plt.xticks(rotation=0)\n",
    "plt.title('Выручка по тарифам')\n",
    "plt.xlabel('Тарифный план') \n",
    "plt.ylabel('Количество')\n",
    "plt.show()"
   ]
  },
  {
   "cell_type": "code",
   "execution_count": 153,
   "metadata": {},
   "outputs": [
    {
     "data": {
      "image/png": "[encoded data removed]",
      "text/plain": [
       "<Figure size 504x504 with 1 Axes>"
      ]
     },
     "metadata": {
      "needs_background": "light"
     },
     "output_type": "display_data"
    }
   ],
   "source": [
    "plt.figure(figsize=(7, 7))\n",
    "ax = sns.stripplot(x=\"tariff_plan\", y=\"cost_all_total_optimal\", data=df)\n",
    "ax.set(title = 'Распределение выручки', ylabel = 'Выручка', xlabel = 'Тарифный план', ylim=(1000,15000))\n",
    "plt.show()"
   ]
  },
  {
   "cell_type": "markdown",
   "metadata": {},
   "source": [
    "Потеряется 27% выручки. Выручка до 1396047 и после 1017474."
   ]
  },
  {
   "cell_type": "markdown",
   "metadata": {},
   "source": [
    "## Проверка гипотез."
   ]
  },
  {
   "cell_type": "markdown",
   "metadata": {},
   "source": [
    "**Проверка гипотезы: \"Проверка различия в средней выручке при смене тарифа на оптимальный тариф.\"**\n",
    "\n",
    "Тут мы сравниваем среднюю выручку по действующим тарифам с средней выручкой по оптимальным тарифам.\n",
    "- H0(нуливая гипотеза) - средняя выручка не различается.\n",
    "\n",
    "- H1(альтернотивная гипотеза) - средняя выручка различается.\n",
    "\n",
    "Пороговое значение alpha (критический уровень статистической значимости) зададим 5%."
   ]
  },
  {
   "cell_type": "code",
   "execution_count": 154,
   "metadata": {},
   "outputs": [
    {
     "name": "stdout",
     "output_type": "stream",
     "text": [
      "p-значение: 0.00\n",
      "Отвергаем нулевую гипотезу\n"
     ]
    }
   ],
   "source": [
    "alpha = 0.05 \n",
    "\n",
    "results = st.ttest_ind(\n",
    "    df['total'], \n",
    "    df['cost_all_total_optimal'])\n",
    "\n",
    "print('p-значение: {0:.2f}'.format(results.pvalue))\n",
    "\n",
    "if (results.pvalue < alpha):\n",
    "    print(\"Отвергаем нулевую гипотезу\")\n",
    "else:\n",
    "    print(\"Не получилось отвергнуть нулевую гипотезу\")"
   ]
  },
  {
   "cell_type": "markdown",
   "metadata": {},
   "source": [
    "Средняя выручка при переходе на оптимальный тариф отличается. Отвергаем нулевую гипотезу"
   ]
  },
  {
   "cell_type": "markdown",
   "metadata": {},
   "source": [
    "**Проверка гипотезы: \"Проверка различия выручки тарифов А и В.\"**\n",
    "\n",
    "H0(нуливая гипотеза) - выручка в тарифе А не отличается от тарифа В.\n",
    "\n",
    "H1(альтернотивная гипотеза) - выручка в тарифе А отличается от тарифа В.\n",
    "\n",
    "Пороговое значение alpha (критический уровень статистической значимости) зададим 5%."
   ]
  },
  {
   "cell_type": "code",
   "execution_count": 155,
   "metadata": {},
   "outputs": [
    {
     "data": {
      "text/plain": [
       "251372.1"
      ]
     },
     "execution_count": 155,
     "metadata": {},
     "output_type": "execute_result"
    }
   ],
   "source": [
    "tar_A = df.query(\"tariff_plan == 'A'\")['cost_all_total_optimal']\n",
    "tar_A.sum()"
   ]
  },
  {
   "cell_type": "code",
   "execution_count": 156,
   "metadata": {},
   "outputs": [
    {
     "data": {
      "text/plain": [
       "396995.1"
      ]
     },
     "execution_count": 156,
     "metadata": {},
     "output_type": "execute_result"
    }
   ],
   "source": [
    "tar_B = df.query(\"tariff_plan == 'B'\")['cost_all_total_optimal']\n",
    "tar_B.sum()"
   ]
  },
  {
   "cell_type": "markdown",
   "metadata": {},
   "source": [
    "Для двух выборок мы получили в сумме в тарифе А - 277002.7, в тарифе В - 435268.7"
   ]
  },
  {
   "cell_type": "code",
   "execution_count": 157,
   "metadata": {},
   "outputs": [
    {
     "name": "stdout",
     "output_type": "stream",
     "text": [
      "p-значение: 1.1379348658213707e-05\n",
      "Отвергаем нулевую гипотезу\n"
     ]
    }
   ],
   "source": [
    "alpha = 0.05\n",
    "\n",
    "results = st.ttest_ind(tar_A, tar_B)\n",
    "\n",
    "print('p-значение:', results.pvalue)\n",
    "\n",
    "if (results.pvalue < alpha):\n",
    "    print(\"Отвергаем нулевую гипотезу\")\n",
    "else:\n",
    "    print(\"Не получилось отвергнуть нулевую гипотезу\")"
   ]
  },
  {
   "cell_type": "markdown",
   "metadata": {},
   "source": [
    "Выручка в тарифах А и В различается. Отвергаем нулевую гипотезу."
   ]
  },
  {
   "cell_type": "markdown",
   "metadata": {},
   "source": [
    "## Вывод."
   ]
  },
  {
   "cell_type": "markdown",
   "metadata": {},
   "source": [
    "Данные за период 2019-08-01 - 2019-11-27 (почти 4 месяца). Всего клиентов за весь период 290, активных за послений месяц 244. -46 клиентов(15.8%). Тариф А больше всего подключили в 10 месяце, тариф В в 10 и 8, тариф С в 8 и 9. По общему числу подключений больше в 8 месяце.\n",
    "\n",
    "Из 46 ушедших:\n",
    "\n",
    "- Тариф А(5000₽) в 8 месяце из 26 клиентов ушли 2, в 9 месяце пришли 16 и 2 ушли. Всего 4\n",
    "- Тариф В(2000₽) в 8 месяце из 91 клиентов ушли 6, в 9 месяце пришли 77 и 8 ушли, в 10 месяце пришли 93 и 2 ушли. Всего 16.\n",
    "- Тариф С(1000₽) в 8 месяце из 141 клиентов ушли 15, в 9 месяце пришли 138 и 9 ушли, в 10 месяце пришли 116 и 2 ушли. Всего 26. Больше всего клиентов ушло в 8 месяце(23), потом в 9(19) и в 8(4).\n",
    "- 37 клиентов пользовались входящими вызовами, 35 исходящими;\n",
    "- 21 клиент пользовался внутренними вызовами, 46 внешними(все);\n",
    "- 35 клиентов пропускали вызов;\n",
    "- длительность звонка среднее 2 минуты, медиана 4 минуты, минимум 1 минута, максимум 42 минут\n",
    "- длительность звонка с ожиданием среднее 4 минуты, медиана 2 минуты, минимум 1 минута, максимум 45 минут;\n",
    "- количество звонков среднее 4, медиана 2, минимум 1, максимум 44."
   ]
  },
  {
   "cell_type": "markdown",
   "metadata": {},
   "source": [
    "**Статистика по клиентам, которые переплачивают**"
   ]
  },
  {
   "cell_type": "markdown",
   "metadata": {},
   "source": [
    "132(54,5%) клиента с оптимальным тарифным планом, 110(45,5%) не оптимальный.\n",
    "\n",
    "В понижении тарифа до уровня В нуждаются 3 клиента;\n",
    "\n",
    "В повышении до уровня В нуждается 1 клиент;\n",
    "\n",
    "В понижении тарифа до уровня С нуждаются 106 клиентов.\n",
    "\n",
    "- Выручка до 1396047 и после 1017474 оптимизации. Потеряется 27% выручки.\n",
    "- На первом месте тариф В-565406.5(40%), потом С-416683(30) и А-413957.6(30).\n",
    "\n",
    "Клиенты по тарифам:\n",
    "- A 1\n",
    "- B 6\n",
    "- C 235\n",
    "Оптимизация тарифов.\n",
    "\n",
    "Для тарифа А:\n",
    "- будет оптимально понижение 96%(26 клиентов)\n",
    "\n",
    "Для тарифа В:\n",
    "- будет оптимально понижение 97%(83 клиента)\n",
    "- оптимальный 2%(2 клиента)\n",
    "\n",
    "Для тарифа С:\n",
    "- будет оптимально повышение для 1 клиента\n",
    "- оптимальный для 1 клиента.\n",
    "\n",
    "Средняя выручка различается - 27%."
   ]
  },
  {
   "cell_type": "markdown",
   "metadata": {},
   "source": [
    "**Предоставляю клиенту список клиентов с неоптимальным тарифом**"
   ]
  },
  {
   "cell_type": "code",
   "execution_count": 158,
   "metadata": {},
   "outputs": [],
   "source": [
    "not_optimal = df_recommendation.query('is_tariff_optimal == \"not_optimal\"')"
   ]
  },
  {
   "cell_type": "code",
   "execution_count": 159,
   "metadata": {},
   "outputs": [
    {
     "data": {
      "text/plain": [
       "0      166377\n",
       "4      166406\n",
       "5      166407\n",
       "6      166428\n",
       "8      166485\n",
       "        ...  \n",
       "234    168500\n",
       "236    168562\n",
       "238    168579\n",
       "239    168583\n",
       "242    168603\n",
       "Name: user_id, Length: 112, dtype: int64"
      ]
     },
     "execution_count": 159,
     "metadata": {},
     "output_type": "execute_result"
    }
   ],
   "source": [
    "not_optimal['user_id']"
   ]
  }
 ],
 "metadata": {
  "ExecuteTimeLog": [
   {
    "duration": 1412,
    "start_time": "2022-11-23T05:19:37.963Z"
   },
   {
    "duration": 85,
    "start_time": "2022-11-23T05:29:24.512Z"
   },
   {
    "duration": 12,
    "start_time": "2022-11-23T05:29:47.039Z"
   },
   {
    "duration": 153,
    "start_time": "2022-11-23T05:31:06.821Z"
   },
   {
    "duration": 114,
    "start_time": "2022-11-23T05:31:26.782Z"
   },
   {
    "duration": 76,
    "start_time": "2022-11-23T05:31:32.082Z"
   },
   {
    "duration": 27,
    "start_time": "2022-11-23T05:31:36.928Z"
   },
   {
    "duration": 45,
    "start_time": "2022-11-23T05:32:40.125Z"
   },
   {
    "duration": 14,
    "start_time": "2022-11-23T05:32:59.079Z"
   },
   {
    "duration": 16,
    "start_time": "2022-11-23T05:34:34.787Z"
   },
   {
    "duration": 15,
    "start_time": "2022-11-23T05:34:45.878Z"
   },
   {
    "duration": 8,
    "start_time": "2022-11-23T05:35:03.098Z"
   },
   {
    "duration": 3,
    "start_time": "2022-11-23T05:39:29.428Z"
   },
   {
    "duration": 11,
    "start_time": "2022-11-23T05:41:12.806Z"
   },
   {
    "duration": 30,
    "start_time": "2022-11-23T05:44:34.552Z"
   },
   {
    "duration": 11,
    "start_time": "2022-11-23T05:45:37.608Z"
   },
   {
    "duration": 1240,
    "start_time": "2022-11-23T05:46:19.150Z"
   },
   {
    "duration": 81,
    "start_time": "2022-11-23T05:46:20.393Z"
   },
   {
    "duration": 18,
    "start_time": "2022-11-23T05:46:20.476Z"
   },
   {
    "duration": 13,
    "start_time": "2022-11-23T05:46:20.495Z"
   },
   {
    "duration": 29,
    "start_time": "2022-11-23T05:46:20.510Z"
   },
   {
    "duration": 27,
    "start_time": "2022-11-23T05:46:20.541Z"
   },
   {
    "duration": 11,
    "start_time": "2022-11-23T05:46:20.570Z"
   },
   {
    "duration": 54,
    "start_time": "2022-11-23T05:51:21.456Z"
   },
   {
    "duration": 11,
    "start_time": "2022-11-23T05:51:37.375Z"
   },
   {
    "duration": 9,
    "start_time": "2022-11-23T05:51:57.734Z"
   },
   {
    "duration": 6,
    "start_time": "2022-11-23T05:54:04.958Z"
   },
   {
    "duration": 5,
    "start_time": "2022-11-23T05:54:26.352Z"
   },
   {
    "duration": 4,
    "start_time": "2022-11-23T06:04:13.111Z"
   },
   {
    "duration": 9,
    "start_time": "2022-11-23T06:05:46.603Z"
   },
   {
    "duration": 8,
    "start_time": "2022-11-23T06:06:08.847Z"
   },
   {
    "duration": 4,
    "start_time": "2022-11-23T06:06:26.874Z"
   },
   {
    "duration": 118,
    "start_time": "2022-11-23T06:07:33.774Z"
   },
   {
    "duration": 4,
    "start_time": "2022-11-23T06:07:43.394Z"
   },
   {
    "duration": 6,
    "start_time": "2022-11-23T06:23:07.681Z"
   },
   {
    "duration": 199,
    "start_time": "2022-11-23T06:23:59.514Z"
   },
   {
    "duration": 1272,
    "start_time": "2022-11-23T07:37:37.206Z"
   },
   {
    "duration": 75,
    "start_time": "2022-11-23T07:37:38.480Z"
   },
   {
    "duration": 20,
    "start_time": "2022-11-23T07:37:38.556Z"
   },
   {
    "duration": 24,
    "start_time": "2022-11-23T07:37:38.578Z"
   },
   {
    "duration": 47,
    "start_time": "2022-11-23T07:37:38.604Z"
   },
   {
    "duration": 35,
    "start_time": "2022-11-23T07:37:38.652Z"
   },
   {
    "duration": 41,
    "start_time": "2022-11-23T07:37:38.689Z"
   },
   {
    "duration": 19,
    "start_time": "2022-11-23T07:37:38.732Z"
   },
   {
    "duration": 13,
    "start_time": "2022-11-23T07:37:38.753Z"
   },
   {
    "duration": 246,
    "start_time": "2022-11-23T07:37:38.768Z"
   },
   {
    "duration": 127,
    "start_time": "2022-11-23T07:53:15.481Z"
   },
   {
    "duration": 48,
    "start_time": "2022-11-23T07:54:36.727Z"
   },
   {
    "duration": 26,
    "start_time": "2022-11-23T07:57:51.831Z"
   },
   {
    "duration": 24,
    "start_time": "2022-11-23T07:58:19.833Z"
   },
   {
    "duration": 11,
    "start_time": "2022-11-23T07:59:18.886Z"
   },
   {
    "duration": 1208,
    "start_time": "2022-11-23T07:59:38.185Z"
   },
   {
    "duration": 74,
    "start_time": "2022-11-23T07:59:39.395Z"
   },
   {
    "duration": 19,
    "start_time": "2022-11-23T07:59:39.471Z"
   },
   {
    "duration": 27,
    "start_time": "2022-11-23T07:59:39.492Z"
   },
   {
    "duration": 37,
    "start_time": "2022-11-23T07:59:39.522Z"
   },
   {
    "duration": 11,
    "start_time": "2022-11-23T07:59:39.560Z"
   },
   {
    "duration": 21,
    "start_time": "2022-11-23T07:59:39.572Z"
   },
   {
    "duration": 11,
    "start_time": "2022-11-23T07:59:39.595Z"
   },
   {
    "duration": 38,
    "start_time": "2022-11-23T07:59:39.608Z"
   },
   {
    "duration": 23,
    "start_time": "2022-11-23T07:59:39.648Z"
   },
   {
    "duration": 24,
    "start_time": "2022-11-23T07:59:39.673Z"
   },
   {
    "duration": 16,
    "start_time": "2022-11-23T07:59:39.698Z"
   },
   {
    "duration": 8,
    "start_time": "2022-11-23T08:01:17.661Z"
   },
   {
    "duration": 1291,
    "start_time": "2022-11-23T09:11:47.791Z"
   },
   {
    "duration": 80,
    "start_time": "2022-11-23T09:11:49.085Z"
   },
   {
    "duration": 21,
    "start_time": "2022-11-23T09:11:49.167Z"
   },
   {
    "duration": 70,
    "start_time": "2022-11-23T09:11:49.191Z"
   },
   {
    "duration": 65,
    "start_time": "2022-11-23T09:11:49.263Z"
   },
   {
    "duration": 15,
    "start_time": "2022-11-23T09:11:49.330Z"
   },
   {
    "duration": 67,
    "start_time": "2022-11-23T09:11:49.347Z"
   },
   {
    "duration": 36,
    "start_time": "2022-11-23T09:11:49.415Z"
   },
   {
    "duration": 53,
    "start_time": "2022-11-23T09:11:49.453Z"
   },
   {
    "duration": 8,
    "start_time": "2022-11-23T09:11:49.508Z"
   },
   {
    "duration": 14,
    "start_time": "2022-11-23T09:15:21.564Z"
   },
   {
    "duration": 5,
    "start_time": "2022-11-23T09:20:09.324Z"
   },
   {
    "duration": 24,
    "start_time": "2022-11-23T09:36:01.229Z"
   },
   {
    "duration": 13,
    "start_time": "2022-11-23T09:40:01.811Z"
   },
   {
    "duration": 1204,
    "start_time": "2022-11-23T09:40:09.677Z"
   },
   {
    "duration": 75,
    "start_time": "2022-11-23T09:40:10.883Z"
   },
   {
    "duration": 19,
    "start_time": "2022-11-23T09:40:10.960Z"
   },
   {
    "duration": 21,
    "start_time": "2022-11-23T09:40:10.981Z"
   },
   {
    "duration": 16,
    "start_time": "2022-11-23T09:40:11.004Z"
   },
   {
    "duration": 38,
    "start_time": "2022-11-23T09:40:11.022Z"
   },
   {
    "duration": 10,
    "start_time": "2022-11-23T09:40:11.062Z"
   },
   {
    "duration": 33,
    "start_time": "2022-11-23T09:40:11.073Z"
   },
   {
    "duration": 19,
    "start_time": "2022-11-23T09:40:11.107Z"
   },
   {
    "duration": 52,
    "start_time": "2022-11-23T09:40:11.128Z"
   },
   {
    "duration": 8,
    "start_time": "2022-11-23T09:40:11.182Z"
   },
   {
    "duration": 16,
    "start_time": "2022-11-23T09:40:11.192Z"
   },
   {
    "duration": 22,
    "start_time": "2022-11-23T09:40:11.209Z"
   },
   {
    "duration": 18,
    "start_time": "2022-11-23T09:40:26.722Z"
   },
   {
    "duration": 16,
    "start_time": "2022-11-23T09:40:30.875Z"
   },
   {
    "duration": 1246,
    "start_time": "2022-11-23T09:41:15.796Z"
   },
   {
    "duration": 76,
    "start_time": "2022-11-23T09:41:17.044Z"
   },
   {
    "duration": 19,
    "start_time": "2022-11-23T09:41:17.122Z"
   },
   {
    "duration": 22,
    "start_time": "2022-11-23T09:41:17.143Z"
   },
   {
    "duration": 28,
    "start_time": "2022-11-23T09:41:17.167Z"
   },
   {
    "duration": 45,
    "start_time": "2022-11-23T09:41:17.197Z"
   },
   {
    "duration": 41,
    "start_time": "2022-11-23T09:41:17.244Z"
   },
   {
    "duration": 11,
    "start_time": "2022-11-23T09:41:17.287Z"
   },
   {
    "duration": 16,
    "start_time": "2022-11-23T09:41:17.300Z"
   },
   {
    "duration": 13,
    "start_time": "2022-11-23T09:41:17.318Z"
   },
   {
    "duration": 42,
    "start_time": "2022-11-23T09:41:17.333Z"
   },
   {
    "duration": 8,
    "start_time": "2022-11-23T09:41:17.377Z"
   },
   {
    "duration": 12,
    "start_time": "2022-11-23T09:41:17.387Z"
   },
   {
    "duration": 5,
    "start_time": "2022-11-23T09:41:17.400Z"
   },
   {
    "duration": 11,
    "start_time": "2022-11-23T09:46:05.023Z"
   },
   {
    "duration": 12,
    "start_time": "2022-11-23T09:46:44.155Z"
   },
   {
    "duration": 5,
    "start_time": "2022-11-23T09:48:41.993Z"
   },
   {
    "duration": 5,
    "start_time": "2022-11-23T09:48:52.123Z"
   },
   {
    "duration": 11,
    "start_time": "2022-11-23T09:49:03.638Z"
   },
   {
    "duration": 13,
    "start_time": "2022-11-23T09:49:20.859Z"
   },
   {
    "duration": 1232,
    "start_time": "2022-11-23T09:49:27.352Z"
   },
   {
    "duration": 76,
    "start_time": "2022-11-23T09:49:28.585Z"
   },
   {
    "duration": 18,
    "start_time": "2022-11-23T09:49:28.663Z"
   },
   {
    "duration": 11,
    "start_time": "2022-11-23T09:49:28.683Z"
   },
   {
    "duration": 26,
    "start_time": "2022-11-23T09:49:28.696Z"
   },
   {
    "duration": 14,
    "start_time": "2022-11-23T09:49:28.735Z"
   },
   {
    "duration": 27,
    "start_time": "2022-11-23T09:49:28.751Z"
   },
   {
    "duration": 10,
    "start_time": "2022-11-23T09:49:28.779Z"
   },
   {
    "duration": 13,
    "start_time": "2022-11-23T09:49:28.790Z"
   },
   {
    "duration": 25,
    "start_time": "2022-11-23T09:49:28.806Z"
   },
   {
    "duration": 13,
    "start_time": "2022-11-23T09:49:28.832Z"
   },
   {
    "duration": 10,
    "start_time": "2022-11-23T09:49:28.846Z"
   },
   {
    "duration": 33,
    "start_time": "2022-11-23T09:49:28.858Z"
   },
   {
    "duration": 7,
    "start_time": "2022-11-23T09:49:28.893Z"
   },
   {
    "duration": 13,
    "start_time": "2022-11-23T09:49:28.901Z"
   },
   {
    "duration": 8,
    "start_time": "2022-11-23T09:49:28.915Z"
   },
   {
    "duration": 1467,
    "start_time": "2022-11-23T12:42:28.602Z"
   },
   {
    "duration": 133,
    "start_time": "2022-11-23T12:42:30.071Z"
   },
   {
    "duration": 18,
    "start_time": "2022-11-23T12:42:30.206Z"
   },
   {
    "duration": 19,
    "start_time": "2022-11-23T12:42:30.227Z"
   },
   {
    "duration": 28,
    "start_time": "2022-11-23T12:42:30.248Z"
   },
   {
    "duration": 38,
    "start_time": "2022-11-23T12:42:30.278Z"
   },
   {
    "duration": 90,
    "start_time": "2022-11-23T12:42:30.318Z"
   },
   {
    "duration": 12,
    "start_time": "2022-11-23T12:42:30.410Z"
   },
   {
    "duration": 36,
    "start_time": "2022-11-23T12:42:30.424Z"
   },
   {
    "duration": 44,
    "start_time": "2022-11-23T12:42:30.463Z"
   },
   {
    "duration": 33,
    "start_time": "2022-11-23T12:42:30.509Z"
   },
   {
    "duration": 35,
    "start_time": "2022-11-23T12:42:30.544Z"
   },
   {
    "duration": 60,
    "start_time": "2022-11-23T12:42:30.581Z"
   },
   {
    "duration": 23,
    "start_time": "2022-11-23T12:42:30.643Z"
   },
   {
    "duration": 31,
    "start_time": "2022-11-23T12:42:30.669Z"
   },
   {
    "duration": 40,
    "start_time": "2022-11-23T12:42:30.702Z"
   },
   {
    "duration": 35,
    "start_time": "2022-11-23T12:43:21.165Z"
   },
   {
    "duration": 6,
    "start_time": "2022-11-23T12:56:33.417Z"
   },
   {
    "duration": 5,
    "start_time": "2022-11-23T12:57:05.006Z"
   },
   {
    "duration": 5,
    "start_time": "2022-11-23T13:03:06.516Z"
   },
   {
    "duration": 6,
    "start_time": "2022-11-23T13:09:50.597Z"
   },
   {
    "duration": 5,
    "start_time": "2022-11-23T13:19:48.149Z"
   },
   {
    "duration": 6,
    "start_time": "2022-11-23T13:22:24.973Z"
   },
   {
    "duration": 21,
    "start_time": "2022-11-23T14:12:12.567Z"
   },
   {
    "duration": 24,
    "start_time": "2022-11-23T14:12:26.557Z"
   },
   {
    "duration": 7,
    "start_time": "2022-11-23T14:17:53.325Z"
   },
   {
    "duration": 61,
    "start_time": "2022-11-23T14:20:44.883Z"
   },
   {
    "duration": 22,
    "start_time": "2022-11-23T14:23:33.996Z"
   },
   {
    "duration": 1360,
    "start_time": "2022-11-24T04:52:21.986Z"
   },
   {
    "duration": 300,
    "start_time": "2022-11-24T04:52:23.348Z"
   },
   {
    "duration": 16,
    "start_time": "2022-11-24T04:52:23.649Z"
   },
   {
    "duration": 20,
    "start_time": "2022-11-24T04:52:23.667Z"
   },
   {
    "duration": 14,
    "start_time": "2022-11-24T04:52:23.689Z"
   },
   {
    "duration": 14,
    "start_time": "2022-11-24T04:52:23.705Z"
   },
   {
    "duration": 55,
    "start_time": "2022-11-24T04:52:23.720Z"
   },
   {
    "duration": 10,
    "start_time": "2022-11-24T04:52:23.776Z"
   },
   {
    "duration": 6,
    "start_time": "2022-11-24T04:52:23.787Z"
   },
   {
    "duration": 9,
    "start_time": "2022-11-24T04:52:23.795Z"
   },
   {
    "duration": 12,
    "start_time": "2022-11-24T04:52:23.806Z"
   },
   {
    "duration": 11,
    "start_time": "2022-11-24T04:52:23.819Z"
   },
   {
    "duration": 63,
    "start_time": "2022-11-24T04:52:23.832Z"
   },
   {
    "duration": 10,
    "start_time": "2022-11-24T04:52:23.896Z"
   },
   {
    "duration": 9,
    "start_time": "2022-11-24T04:52:23.907Z"
   },
   {
    "duration": 9,
    "start_time": "2022-11-24T04:52:23.917Z"
   },
   {
    "duration": 9,
    "start_time": "2022-11-24T04:52:23.928Z"
   },
   {
    "duration": 15,
    "start_time": "2022-11-24T04:52:23.938Z"
   },
   {
    "duration": 8,
    "start_time": "2022-11-24T04:52:23.954Z"
   },
   {
    "duration": 28,
    "start_time": "2022-11-24T04:52:23.963Z"
   },
   {
    "duration": 23,
    "start_time": "2022-11-24T04:52:23.993Z"
   },
   {
    "duration": 53,
    "start_time": "2022-11-24T04:52:24.017Z"
   },
   {
    "duration": 16,
    "start_time": "2022-11-24T04:59:43.426Z"
   },
   {
    "duration": 10,
    "start_time": "2022-11-24T05:08:42.371Z"
   },
   {
    "duration": 9,
    "start_time": "2022-11-24T05:09:45.715Z"
   },
   {
    "duration": 5,
    "start_time": "2022-11-24T05:10:34.817Z"
   },
   {
    "duration": 14,
    "start_time": "2022-11-24T05:17:44.478Z"
   },
   {
    "duration": 110,
    "start_time": "2022-11-24T05:20:04.983Z"
   },
   {
    "duration": 13,
    "start_time": "2022-11-24T05:20:18.680Z"
   },
   {
    "duration": 13,
    "start_time": "2022-11-24T05:23:10.094Z"
   },
   {
    "duration": 9,
    "start_time": "2022-11-24T05:27:37.297Z"
   },
   {
    "duration": 407,
    "start_time": "2022-11-24T05:28:10.159Z"
   },
   {
    "duration": 51,
    "start_time": "2022-11-24T06:01:49.291Z"
   },
   {
    "duration": 14,
    "start_time": "2022-11-24T06:01:58.334Z"
   },
   {
    "duration": 10,
    "start_time": "2022-11-24T06:02:14.307Z"
   },
   {
    "duration": 10,
    "start_time": "2022-11-24T06:02:21.512Z"
   },
   {
    "duration": 48,
    "start_time": "2022-11-24T06:06:33.558Z"
   },
   {
    "duration": 19,
    "start_time": "2022-11-24T06:11:34.854Z"
   },
   {
    "duration": 16,
    "start_time": "2022-11-24T06:11:56.004Z"
   },
   {
    "duration": 16,
    "start_time": "2022-11-24T06:12:56.570Z"
   },
   {
    "duration": 11,
    "start_time": "2022-11-24T06:14:01.058Z"
   },
   {
    "duration": 120,
    "start_time": "2022-11-24T06:15:25.795Z"
   },
   {
    "duration": 42,
    "start_time": "2022-11-24T06:16:30.066Z"
   },
   {
    "duration": 11,
    "start_time": "2022-11-24T06:26:04.272Z"
   },
   {
    "duration": 47,
    "start_time": "2022-11-24T06:26:16.202Z"
   },
   {
    "duration": 42,
    "start_time": "2022-11-24T06:38:41.781Z"
   },
   {
    "duration": 12,
    "start_time": "2022-11-24T06:46:58.327Z"
   },
   {
    "duration": 155,
    "start_time": "2022-11-24T06:51:34.817Z"
   },
   {
    "duration": 43,
    "start_time": "2022-11-24T06:56:08.207Z"
   },
   {
    "duration": 1190,
    "start_time": "2022-11-24T08:02:45.853Z"
   },
   {
    "duration": 66,
    "start_time": "2022-11-24T08:02:47.045Z"
   },
   {
    "duration": 15,
    "start_time": "2022-11-24T08:02:47.112Z"
   },
   {
    "duration": 14,
    "start_time": "2022-11-24T08:02:47.129Z"
   },
   {
    "duration": 13,
    "start_time": "2022-11-24T08:02:47.144Z"
   },
   {
    "duration": 18,
    "start_time": "2022-11-24T08:02:47.158Z"
   },
   {
    "duration": 25,
    "start_time": "2022-11-24T08:02:47.177Z"
   },
   {
    "duration": 8,
    "start_time": "2022-11-24T08:02:47.204Z"
   },
   {
    "duration": 18,
    "start_time": "2022-11-24T08:02:47.213Z"
   },
   {
    "duration": 15,
    "start_time": "2022-11-24T08:02:47.232Z"
   },
   {
    "duration": 16,
    "start_time": "2022-11-24T08:02:47.249Z"
   },
   {
    "duration": 9,
    "start_time": "2022-11-24T08:02:47.266Z"
   },
   {
    "duration": 31,
    "start_time": "2022-11-24T08:02:47.277Z"
   },
   {
    "duration": 7,
    "start_time": "2022-11-24T08:02:47.310Z"
   },
   {
    "duration": 10,
    "start_time": "2022-11-24T08:02:47.319Z"
   },
   {
    "duration": 13,
    "start_time": "2022-11-24T08:02:47.330Z"
   },
   {
    "duration": 12,
    "start_time": "2022-11-24T08:02:47.345Z"
   },
   {
    "duration": 12,
    "start_time": "2022-11-24T08:02:47.359Z"
   },
   {
    "duration": 9,
    "start_time": "2022-11-24T08:02:47.372Z"
   },
   {
    "duration": 24,
    "start_time": "2022-11-24T08:02:47.382Z"
   },
   {
    "duration": 23,
    "start_time": "2022-11-24T08:02:47.408Z"
   },
   {
    "duration": 16,
    "start_time": "2022-11-24T08:02:47.432Z"
   },
   {
    "duration": 8,
    "start_time": "2022-11-24T08:02:47.449Z"
   },
   {
    "duration": 17,
    "start_time": "2022-11-24T08:02:47.458Z"
   },
   {
    "duration": 18,
    "start_time": "2022-11-24T08:02:47.476Z"
   },
   {
    "duration": 338,
    "start_time": "2022-11-24T08:02:47.495Z"
   },
   {
    "duration": 12,
    "start_time": "2022-11-24T08:02:47.834Z"
   },
   {
    "duration": 93,
    "start_time": "2022-11-24T08:02:47.848Z"
   },
   {
    "duration": 13,
    "start_time": "2022-11-24T08:10:10.425Z"
   },
   {
    "duration": 4,
    "start_time": "2022-11-24T08:11:24.087Z"
   },
   {
    "duration": 141,
    "start_time": "2022-11-24T08:14:02.977Z"
   },
   {
    "duration": 2,
    "start_time": "2022-11-24T08:18:55.225Z"
   },
   {
    "duration": 1163,
    "start_time": "2022-11-24T08:19:04.269Z"
   },
   {
    "duration": 64,
    "start_time": "2022-11-24T08:19:05.434Z"
   },
   {
    "duration": 16,
    "start_time": "2022-11-24T08:19:05.500Z"
   },
   {
    "duration": 10,
    "start_time": "2022-11-24T08:19:05.517Z"
   },
   {
    "duration": 13,
    "start_time": "2022-11-24T08:19:05.529Z"
   },
   {
    "duration": 13,
    "start_time": "2022-11-24T08:19:05.543Z"
   },
   {
    "duration": 26,
    "start_time": "2022-11-24T08:19:05.558Z"
   },
   {
    "duration": 10,
    "start_time": "2022-11-24T08:19:05.585Z"
   },
   {
    "duration": 16,
    "start_time": "2022-11-24T08:19:05.597Z"
   },
   {
    "duration": 10,
    "start_time": "2022-11-24T08:19:05.614Z"
   },
   {
    "duration": 10,
    "start_time": "2022-11-24T08:19:05.626Z"
   },
   {
    "duration": 9,
    "start_time": "2022-11-24T08:19:05.638Z"
   },
   {
    "duration": 35,
    "start_time": "2022-11-24T08:19:05.648Z"
   },
   {
    "duration": 7,
    "start_time": "2022-11-24T08:19:05.686Z"
   },
   {
    "duration": 25,
    "start_time": "2022-11-24T08:19:05.694Z"
   },
   {
    "duration": 4,
    "start_time": "2022-11-24T08:19:05.721Z"
   },
   {
    "duration": 25,
    "start_time": "2022-11-24T08:19:05.726Z"
   },
   {
    "duration": 16,
    "start_time": "2022-11-24T08:19:05.752Z"
   },
   {
    "duration": 10,
    "start_time": "2022-11-24T08:19:05.769Z"
   },
   {
    "duration": 26,
    "start_time": "2022-11-24T08:19:05.781Z"
   },
   {
    "duration": 27,
    "start_time": "2022-11-24T08:19:05.808Z"
   },
   {
    "duration": 17,
    "start_time": "2022-11-24T08:19:05.836Z"
   },
   {
    "duration": 20,
    "start_time": "2022-11-24T08:19:05.854Z"
   },
   {
    "duration": 10,
    "start_time": "2022-11-24T08:19:05.876Z"
   },
   {
    "duration": 26,
    "start_time": "2022-11-24T08:19:05.887Z"
   },
   {
    "duration": 358,
    "start_time": "2022-11-24T08:19:05.914Z"
   },
   {
    "duration": 11,
    "start_time": "2022-11-24T08:19:06.274Z"
   },
   {
    "duration": 3,
    "start_time": "2022-11-24T08:19:06.286Z"
   },
   {
    "duration": 49,
    "start_time": "2022-11-24T08:19:06.290Z"
   },
   {
    "duration": 189,
    "start_time": "2022-11-24T08:19:06.340Z"
   },
   {
    "duration": 20,
    "start_time": "2022-11-24T08:20:33.257Z"
   },
   {
    "duration": 12,
    "start_time": "2022-11-24T08:21:08.086Z"
   },
   {
    "duration": 11,
    "start_time": "2022-11-24T08:21:59.237Z"
   },
   {
    "duration": 19,
    "start_time": "2022-11-24T08:22:26.893Z"
   },
   {
    "duration": 15,
    "start_time": "2022-11-24T08:23:27.358Z"
   },
   {
    "duration": 9,
    "start_time": "2022-11-24T08:24:22.888Z"
   },
   {
    "duration": 10,
    "start_time": "2022-11-24T08:25:08.468Z"
   },
   {
    "duration": 9,
    "start_time": "2022-11-24T08:25:40.994Z"
   },
   {
    "duration": 1318,
    "start_time": "2022-11-24T12:12:16.766Z"
   },
   {
    "duration": 322,
    "start_time": "2022-11-24T12:12:18.086Z"
   },
   {
    "duration": 21,
    "start_time": "2022-11-24T12:12:18.410Z"
   },
   {
    "duration": 11,
    "start_time": "2022-11-24T12:12:18.434Z"
   },
   {
    "duration": 15,
    "start_time": "2022-11-24T12:12:18.447Z"
   },
   {
    "duration": 25,
    "start_time": "2022-11-24T12:12:18.464Z"
   },
   {
    "duration": 57,
    "start_time": "2022-11-24T12:12:18.491Z"
   },
   {
    "duration": 12,
    "start_time": "2022-11-24T12:12:18.550Z"
   },
   {
    "duration": 11,
    "start_time": "2022-11-24T12:12:18.564Z"
   },
   {
    "duration": 21,
    "start_time": "2022-11-24T12:12:18.577Z"
   },
   {
    "duration": 15,
    "start_time": "2022-11-24T12:12:18.599Z"
   },
   {
    "duration": 8,
    "start_time": "2022-11-24T12:12:18.615Z"
   },
   {
    "duration": 42,
    "start_time": "2022-11-24T12:12:18.624Z"
   },
   {
    "duration": 9,
    "start_time": "2022-11-24T12:12:18.667Z"
   },
   {
    "duration": 11,
    "start_time": "2022-11-24T12:12:18.677Z"
   },
   {
    "duration": 5,
    "start_time": "2022-11-24T12:12:18.690Z"
   },
   {
    "duration": 7,
    "start_time": "2022-11-24T12:12:18.696Z"
   },
   {
    "duration": 6,
    "start_time": "2022-11-24T12:12:18.704Z"
   },
   {
    "duration": 8,
    "start_time": "2022-11-24T12:12:18.712Z"
   },
   {
    "duration": 45,
    "start_time": "2022-11-24T12:12:18.722Z"
   },
   {
    "duration": 22,
    "start_time": "2022-11-24T12:12:18.769Z"
   },
   {
    "duration": 28,
    "start_time": "2022-11-24T12:12:18.793Z"
   },
   {
    "duration": 12,
    "start_time": "2022-11-24T12:12:18.823Z"
   },
   {
    "duration": 8,
    "start_time": "2022-11-24T12:12:18.853Z"
   },
   {
    "duration": 31,
    "start_time": "2022-11-24T12:12:18.863Z"
   },
   {
    "duration": 410,
    "start_time": "2022-11-24T12:12:18.896Z"
   },
   {
    "duration": 17,
    "start_time": "2022-11-24T12:12:19.309Z"
   },
   {
    "duration": 3,
    "start_time": "2022-11-24T12:12:19.329Z"
   },
   {
    "duration": 61,
    "start_time": "2022-11-24T12:12:19.333Z"
   },
   {
    "duration": 67,
    "start_time": "2022-11-24T12:12:19.396Z"
   },
   {
    "duration": 11,
    "start_time": "2022-11-24T12:16:10.975Z"
   },
   {
    "duration": 11,
    "start_time": "2022-11-24T12:18:33.496Z"
   },
   {
    "duration": 1323,
    "start_time": "2022-11-24T12:19:18.654Z"
   },
   {
    "duration": 67,
    "start_time": "2022-11-24T12:19:19.980Z"
   },
   {
    "duration": 21,
    "start_time": "2022-11-24T12:19:20.049Z"
   },
   {
    "duration": 16,
    "start_time": "2022-11-24T12:19:20.072Z"
   },
   {
    "duration": 14,
    "start_time": "2022-11-24T12:19:20.090Z"
   },
   {
    "duration": 13,
    "start_time": "2022-11-24T12:19:20.106Z"
   },
   {
    "duration": 44,
    "start_time": "2022-11-24T12:19:20.121Z"
   },
   {
    "duration": 11,
    "start_time": "2022-11-24T12:19:20.167Z"
   },
   {
    "duration": 23,
    "start_time": "2022-11-24T12:19:20.179Z"
   },
   {
    "duration": 26,
    "start_time": "2022-11-24T12:19:20.203Z"
   },
   {
    "duration": 14,
    "start_time": "2022-11-24T12:19:20.232Z"
   },
   {
    "duration": 22,
    "start_time": "2022-11-24T12:19:20.248Z"
   },
   {
    "duration": 52,
    "start_time": "2022-11-24T12:19:20.272Z"
   },
   {
    "duration": 10,
    "start_time": "2022-11-24T12:19:20.327Z"
   },
   {
    "duration": 22,
    "start_time": "2022-11-24T12:19:20.339Z"
   },
   {
    "duration": 40,
    "start_time": "2022-11-24T12:19:20.363Z"
   },
   {
    "duration": 23,
    "start_time": "2022-11-24T12:19:20.405Z"
   },
   {
    "duration": 11,
    "start_time": "2022-11-24T12:19:20.430Z"
   },
   {
    "duration": 13,
    "start_time": "2022-11-24T12:19:20.442Z"
   },
   {
    "duration": 25,
    "start_time": "2022-11-24T12:19:20.457Z"
   },
   {
    "duration": 35,
    "start_time": "2022-11-24T12:19:20.483Z"
   },
   {
    "duration": 25,
    "start_time": "2022-11-24T12:19:20.520Z"
   },
   {
    "duration": 9,
    "start_time": "2022-11-24T12:19:20.552Z"
   },
   {
    "duration": 15,
    "start_time": "2022-11-24T12:19:20.563Z"
   },
   {
    "duration": 36,
    "start_time": "2022-11-24T12:19:20.580Z"
   },
   {
    "duration": 357,
    "start_time": "2022-11-24T12:19:20.617Z"
   },
   {
    "duration": 2,
    "start_time": "2022-11-24T12:19:20.976Z"
   },
   {
    "duration": 21,
    "start_time": "2022-11-24T12:19:20.980Z"
   },
   {
    "duration": 236,
    "start_time": "2022-11-24T12:19:21.003Z"
   },
   {
    "duration": 0,
    "start_time": "2022-11-24T12:19:21.241Z"
   },
   {
    "duration": 0,
    "start_time": "2022-11-24T12:19:21.252Z"
   },
   {
    "duration": 3,
    "start_time": "2022-11-24T12:21:43.906Z"
   },
   {
    "duration": 11,
    "start_time": "2022-11-24T12:21:52.189Z"
   },
   {
    "duration": 3,
    "start_time": "2022-11-24T12:22:06.123Z"
   },
   {
    "duration": 16,
    "start_time": "2022-11-24T12:22:12.640Z"
   },
   {
    "duration": 12,
    "start_time": "2022-11-24T12:22:45.762Z"
   },
   {
    "duration": 12,
    "start_time": "2022-11-24T12:23:41.766Z"
   },
   {
    "duration": 20,
    "start_time": "2022-11-24T12:32:14.963Z"
   },
   {
    "duration": 13,
    "start_time": "2022-11-24T12:32:28.878Z"
   },
   {
    "duration": 16,
    "start_time": "2022-11-24T12:33:13.764Z"
   },
   {
    "duration": 13,
    "start_time": "2022-11-24T12:33:27.245Z"
   },
   {
    "duration": 11,
    "start_time": "2022-11-24T12:34:11.997Z"
   },
   {
    "duration": 1213,
    "start_time": "2022-11-24T12:37:00.763Z"
   },
   {
    "duration": 75,
    "start_time": "2022-11-24T12:37:01.978Z"
   },
   {
    "duration": 17,
    "start_time": "2022-11-24T12:37:02.054Z"
   },
   {
    "duration": 11,
    "start_time": "2022-11-24T12:37:02.073Z"
   },
   {
    "duration": 14,
    "start_time": "2022-11-24T12:37:02.085Z"
   },
   {
    "duration": 14,
    "start_time": "2022-11-24T12:37:02.101Z"
   },
   {
    "duration": 36,
    "start_time": "2022-11-24T12:37:02.117Z"
   },
   {
    "duration": 10,
    "start_time": "2022-11-24T12:37:02.154Z"
   },
   {
    "duration": 30,
    "start_time": "2022-11-24T12:37:02.166Z"
   },
   {
    "duration": 25,
    "start_time": "2022-11-24T12:37:02.198Z"
   },
   {
    "duration": 24,
    "start_time": "2022-11-24T12:37:02.225Z"
   },
   {
    "duration": 11,
    "start_time": "2022-11-24T12:37:02.251Z"
   },
   {
    "duration": 48,
    "start_time": "2022-11-24T12:37:02.264Z"
   },
   {
    "duration": 8,
    "start_time": "2022-11-24T12:37:02.314Z"
   },
   {
    "duration": 25,
    "start_time": "2022-11-24T12:37:02.324Z"
   },
   {
    "duration": 15,
    "start_time": "2022-11-24T12:37:02.350Z"
   },
   {
    "duration": 23,
    "start_time": "2022-11-24T12:37:02.366Z"
   },
   {
    "duration": 37,
    "start_time": "2022-11-24T12:37:02.390Z"
   },
   {
    "duration": 22,
    "start_time": "2022-11-24T12:37:02.429Z"
   },
   {
    "duration": 44,
    "start_time": "2022-11-24T12:37:02.452Z"
   },
   {
    "duration": 47,
    "start_time": "2022-11-24T12:37:02.498Z"
   },
   {
    "duration": 28,
    "start_time": "2022-11-24T12:37:02.548Z"
   },
   {
    "duration": 23,
    "start_time": "2022-11-24T12:37:02.578Z"
   },
   {
    "duration": 21,
    "start_time": "2022-11-24T12:37:02.603Z"
   },
   {
    "duration": 31,
    "start_time": "2022-11-24T12:37:02.626Z"
   },
   {
    "duration": 362,
    "start_time": "2022-11-24T12:37:02.658Z"
   },
   {
    "duration": 3,
    "start_time": "2022-11-24T12:37:03.021Z"
   },
   {
    "duration": 20,
    "start_time": "2022-11-24T12:37:03.026Z"
   },
   {
    "duration": 14,
    "start_time": "2022-11-24T12:37:03.047Z"
   },
   {
    "duration": 30,
    "start_time": "2022-11-24T12:37:03.063Z"
   },
   {
    "duration": 23,
    "start_time": "2022-11-24T12:37:03.095Z"
   },
   {
    "duration": 21,
    "start_time": "2022-11-24T12:37:03.120Z"
   },
   {
    "duration": 10,
    "start_time": "2022-11-24T12:37:59.967Z"
   },
   {
    "duration": 1456,
    "start_time": "2022-11-25T05:11:12.914Z"
   },
   {
    "duration": 304,
    "start_time": "2022-11-25T05:11:14.372Z"
   },
   {
    "duration": 19,
    "start_time": "2022-11-25T05:11:14.678Z"
   },
   {
    "duration": 13,
    "start_time": "2022-11-25T05:11:14.698Z"
   },
   {
    "duration": 15,
    "start_time": "2022-11-25T05:11:14.714Z"
   },
   {
    "duration": 16,
    "start_time": "2022-11-25T05:11:14.731Z"
   },
   {
    "duration": 56,
    "start_time": "2022-11-25T05:11:14.749Z"
   },
   {
    "duration": 11,
    "start_time": "2022-11-25T05:11:14.806Z"
   },
   {
    "duration": 7,
    "start_time": "2022-11-25T05:11:14.818Z"
   },
   {
    "duration": 10,
    "start_time": "2022-11-25T05:11:14.827Z"
   },
   {
    "duration": 10,
    "start_time": "2022-11-25T05:11:14.838Z"
   },
   {
    "duration": 11,
    "start_time": "2022-11-25T05:11:14.849Z"
   },
   {
    "duration": 32,
    "start_time": "2022-11-25T05:11:14.862Z"
   },
   {
    "duration": 8,
    "start_time": "2022-11-25T05:11:14.897Z"
   },
   {
    "duration": 9,
    "start_time": "2022-11-25T05:11:14.922Z"
   },
   {
    "duration": 8,
    "start_time": "2022-11-25T05:11:14.933Z"
   },
   {
    "duration": 12,
    "start_time": "2022-11-25T05:11:14.943Z"
   },
   {
    "duration": 5,
    "start_time": "2022-11-25T05:11:14.957Z"
   },
   {
    "duration": 8,
    "start_time": "2022-11-25T05:11:14.963Z"
   },
   {
    "duration": 20,
    "start_time": "2022-11-25T05:11:14.972Z"
   },
   {
    "duration": 47,
    "start_time": "2022-11-25T05:11:14.993Z"
   },
   {
    "duration": 21,
    "start_time": "2022-11-25T05:11:15.041Z"
   },
   {
    "duration": 9,
    "start_time": "2022-11-25T05:11:15.063Z"
   },
   {
    "duration": 13,
    "start_time": "2022-11-25T05:11:15.074Z"
   },
   {
    "duration": 40,
    "start_time": "2022-11-25T05:11:15.089Z"
   },
   {
    "duration": 356,
    "start_time": "2022-11-25T05:11:15.131Z"
   },
   {
    "duration": 2,
    "start_time": "2022-11-25T05:11:15.489Z"
   },
   {
    "duration": 13,
    "start_time": "2022-11-25T05:11:15.492Z"
   },
   {
    "duration": 7,
    "start_time": "2022-11-25T05:11:15.507Z"
   },
   {
    "duration": 2,
    "start_time": "2022-11-25T05:11:15.523Z"
   },
   {
    "duration": 17,
    "start_time": "2022-11-25T05:11:15.527Z"
   },
   {
    "duration": 17,
    "start_time": "2022-11-25T05:11:15.545Z"
   },
   {
    "duration": 213,
    "start_time": "2022-11-25T05:20:54.598Z"
   },
   {
    "duration": 44,
    "start_time": "2022-11-25T05:23:55.986Z"
   },
   {
    "duration": 69,
    "start_time": "2022-11-25T05:29:40.359Z"
   },
   {
    "duration": 31,
    "start_time": "2022-11-25T05:30:33.754Z"
   },
   {
    "duration": 21,
    "start_time": "2022-11-25T05:30:51.459Z"
   },
   {
    "duration": 13,
    "start_time": "2022-11-25T05:31:57.771Z"
   },
   {
    "duration": 37,
    "start_time": "2022-11-25T05:33:29.135Z"
   },
   {
    "duration": 23,
    "start_time": "2022-11-25T05:33:38.976Z"
   },
   {
    "duration": 23,
    "start_time": "2022-11-25T05:34:02.487Z"
   },
   {
    "duration": 19,
    "start_time": "2022-11-25T05:34:08.978Z"
   },
   {
    "duration": 65,
    "start_time": "2022-11-25T05:35:48.589Z"
   },
   {
    "duration": 36,
    "start_time": "2022-11-25T05:36:10.269Z"
   },
   {
    "duration": 28,
    "start_time": "2022-11-25T05:37:15.810Z"
   },
   {
    "duration": 6,
    "start_time": "2022-11-25T05:38:57.795Z"
   },
   {
    "duration": 19,
    "start_time": "2022-11-25T05:39:18.953Z"
   },
   {
    "duration": 6,
    "start_time": "2022-11-25T05:42:40.689Z"
   },
   {
    "duration": 8,
    "start_time": "2022-11-25T05:43:24.147Z"
   },
   {
    "duration": 7,
    "start_time": "2022-11-25T05:43:34.141Z"
   },
   {
    "duration": 22,
    "start_time": "2022-11-25T05:43:43.356Z"
   },
   {
    "duration": 53,
    "start_time": "2022-11-25T05:45:29.123Z"
   },
   {
    "duration": 15,
    "start_time": "2022-11-25T05:46:23.312Z"
   },
   {
    "duration": 8,
    "start_time": "2022-11-25T05:47:29.837Z"
   },
   {
    "duration": 5,
    "start_time": "2022-11-25T05:47:40.705Z"
   },
   {
    "duration": 20,
    "start_time": "2022-11-25T05:48:27.943Z"
   },
   {
    "duration": 21,
    "start_time": "2022-11-25T05:48:41.198Z"
   },
   {
    "duration": 9,
    "start_time": "2022-11-25T05:48:59.061Z"
   },
   {
    "duration": 15,
    "start_time": "2022-11-25T05:50:34.791Z"
   },
   {
    "duration": 17,
    "start_time": "2022-11-25T05:50:49.060Z"
   },
   {
    "duration": 117,
    "start_time": "2022-11-25T05:50:58.365Z"
   },
   {
    "duration": 25,
    "start_time": "2022-11-25T05:51:03.965Z"
   },
   {
    "duration": 1355,
    "start_time": "2022-11-25T05:51:13.796Z"
   },
   {
    "duration": 68,
    "start_time": "2022-11-25T05:51:15.153Z"
   },
   {
    "duration": 27,
    "start_time": "2022-11-25T05:51:15.223Z"
   },
   {
    "duration": 38,
    "start_time": "2022-11-25T05:51:15.252Z"
   },
   {
    "duration": 23,
    "start_time": "2022-11-25T05:51:15.292Z"
   },
   {
    "duration": 20,
    "start_time": "2022-11-25T05:51:15.316Z"
   },
   {
    "duration": 18,
    "start_time": "2022-11-25T05:51:15.337Z"
   },
   {
    "duration": 7,
    "start_time": "2022-11-25T05:51:15.357Z"
   },
   {
    "duration": 21,
    "start_time": "2022-11-25T05:51:15.365Z"
   },
   {
    "duration": 5,
    "start_time": "2022-11-25T05:51:15.388Z"
   },
   {
    "duration": 87,
    "start_time": "2022-11-25T05:51:15.394Z"
   },
   {
    "duration": 24,
    "start_time": "2022-11-25T05:51:15.483Z"
   },
   {
    "duration": 21,
    "start_time": "2022-11-25T05:51:15.509Z"
   },
   {
    "duration": 9,
    "start_time": "2022-11-25T05:51:15.534Z"
   },
   {
    "duration": 27,
    "start_time": "2022-11-25T05:51:15.544Z"
   },
   {
    "duration": 25,
    "start_time": "2022-11-25T05:51:15.573Z"
   },
   {
    "duration": 28,
    "start_time": "2022-11-25T05:51:15.600Z"
   },
   {
    "duration": 20,
    "start_time": "2022-11-25T05:51:15.630Z"
   },
   {
    "duration": 382,
    "start_time": "2022-11-25T05:51:15.651Z"
   },
   {
    "duration": 2,
    "start_time": "2022-11-25T05:51:16.035Z"
   },
   {
    "duration": 7,
    "start_time": "2022-11-25T05:51:16.039Z"
   },
   {
    "duration": 4,
    "start_time": "2022-11-25T05:51:16.048Z"
   },
   {
    "duration": 4,
    "start_time": "2022-11-25T05:51:16.053Z"
   },
   {
    "duration": 64,
    "start_time": "2022-11-25T05:51:16.059Z"
   },
   {
    "duration": 21,
    "start_time": "2022-11-25T05:51:16.125Z"
   },
   {
    "duration": 264,
    "start_time": "2022-11-25T05:51:16.148Z"
   },
   {
    "duration": 28,
    "start_time": "2022-11-25T05:51:16.414Z"
   },
   {
    "duration": 21,
    "start_time": "2022-11-25T06:18:03.568Z"
   },
   {
    "duration": 164,
    "start_time": "2022-11-25T06:18:23.784Z"
   },
   {
    "duration": 39,
    "start_time": "2022-11-25T06:31:30.663Z"
   },
   {
    "duration": 6,
    "start_time": "2022-11-25T06:31:56.783Z"
   },
   {
    "duration": 16,
    "start_time": "2022-11-25T06:41:16.117Z"
   },
   {
    "duration": 13,
    "start_time": "2022-11-25T06:41:29.661Z"
   },
   {
    "duration": 9,
    "start_time": "2022-11-25T06:42:35.719Z"
   },
   {
    "duration": 8,
    "start_time": "2022-11-25T06:42:56.718Z"
   },
   {
    "duration": 14,
    "start_time": "2022-11-25T06:43:56.459Z"
   },
   {
    "duration": 18,
    "start_time": "2022-11-25T06:44:07.822Z"
   },
   {
    "duration": 9,
    "start_time": "2022-11-25T06:44:21.653Z"
   },
   {
    "duration": 4,
    "start_time": "2022-11-25T07:53:00.869Z"
   },
   {
    "duration": 12,
    "start_time": "2022-11-25T07:55:47.981Z"
   },
   {
    "duration": 2081,
    "start_time": "2022-11-25T07:59:30.135Z"
   },
   {
    "duration": 44,
    "start_time": "2022-11-25T08:44:18.462Z"
   },
   {
    "duration": 4,
    "start_time": "2022-11-25T08:45:40.232Z"
   },
   {
    "duration": 27,
    "start_time": "2022-11-25T08:46:34.615Z"
   },
   {
    "duration": 7,
    "start_time": "2022-11-25T08:49:21.227Z"
   },
   {
    "duration": 18,
    "start_time": "2022-11-25T08:50:06.311Z"
   },
   {
    "duration": 15,
    "start_time": "2022-11-25T08:50:42.138Z"
   },
   {
    "duration": 15,
    "start_time": "2022-11-25T08:51:57.696Z"
   },
   {
    "duration": 41,
    "start_time": "2022-11-25T08:57:51.637Z"
   },
   {
    "duration": 1383,
    "start_time": "2022-11-25T08:58:04.517Z"
   },
   {
    "duration": 77,
    "start_time": "2022-11-25T08:58:05.902Z"
   },
   {
    "duration": 27,
    "start_time": "2022-11-25T08:58:05.980Z"
   },
   {
    "duration": 44,
    "start_time": "2022-11-25T08:58:06.009Z"
   },
   {
    "duration": 24,
    "start_time": "2022-11-25T08:58:06.055Z"
   },
   {
    "duration": 22,
    "start_time": "2022-11-25T08:58:06.081Z"
   },
   {
    "duration": 30,
    "start_time": "2022-11-25T08:58:06.122Z"
   },
   {
    "duration": 8,
    "start_time": "2022-11-25T08:58:06.154Z"
   },
   {
    "duration": 24,
    "start_time": "2022-11-25T08:58:06.164Z"
   },
   {
    "duration": 6,
    "start_time": "2022-11-25T08:58:06.190Z"
   },
   {
    "duration": 91,
    "start_time": "2022-11-25T08:58:06.198Z"
   },
   {
    "duration": 15,
    "start_time": "2022-11-25T08:58:06.291Z"
   },
   {
    "duration": 8,
    "start_time": "2022-11-25T08:58:06.327Z"
   },
   {
    "duration": 7,
    "start_time": "2022-11-25T08:58:06.340Z"
   },
   {
    "duration": 24,
    "start_time": "2022-11-25T08:58:06.349Z"
   },
   {
    "duration": 21,
    "start_time": "2022-11-25T08:58:06.375Z"
   },
   {
    "duration": 32,
    "start_time": "2022-11-25T08:58:06.398Z"
   },
   {
    "duration": 19,
    "start_time": "2022-11-25T08:58:06.434Z"
   },
   {
    "duration": 437,
    "start_time": "2022-11-25T08:58:06.454Z"
   },
   {
    "duration": 2,
    "start_time": "2022-11-25T08:58:06.893Z"
   },
   {
    "duration": 57,
    "start_time": "2022-11-25T08:58:06.896Z"
   },
   {
    "duration": 4,
    "start_time": "2022-11-25T08:58:06.954Z"
   },
   {
    "duration": 101,
    "start_time": "2022-11-25T08:58:06.960Z"
   },
   {
    "duration": 3,
    "start_time": "2022-11-25T08:58:07.063Z"
   },
   {
    "duration": 18,
    "start_time": "2022-11-25T08:58:07.068Z"
   },
   {
    "duration": 43,
    "start_time": "2022-11-25T08:58:07.088Z"
   },
   {
    "duration": 41,
    "start_time": "2022-11-25T08:58:07.133Z"
   },
   {
    "duration": 117,
    "start_time": "2022-11-25T09:01:00.795Z"
   },
   {
    "duration": 127,
    "start_time": "2022-11-25T09:01:07.511Z"
   },
   {
    "duration": 14,
    "start_time": "2022-11-25T09:02:34.975Z"
   },
   {
    "duration": 82,
    "start_time": "2022-11-25T09:03:35.789Z"
   },
   {
    "duration": 87,
    "start_time": "2022-11-25T09:05:18.186Z"
   },
   {
    "duration": 1356,
    "start_time": "2022-11-28T04:06:12.727Z"
   },
   {
    "duration": 319,
    "start_time": "2022-11-28T04:06:14.085Z"
   },
   {
    "duration": 51,
    "start_time": "2022-11-28T04:06:14.406Z"
   },
   {
    "duration": 36,
    "start_time": "2022-11-28T04:06:14.458Z"
   },
   {
    "duration": 21,
    "start_time": "2022-11-28T04:06:14.496Z"
   },
   {
    "duration": 34,
    "start_time": "2022-11-28T04:06:14.519Z"
   },
   {
    "duration": 20,
    "start_time": "2022-11-28T04:06:14.554Z"
   },
   {
    "duration": 8,
    "start_time": "2022-11-28T04:06:14.575Z"
   },
   {
    "duration": 23,
    "start_time": "2022-11-28T04:06:14.585Z"
   },
   {
    "duration": 6,
    "start_time": "2022-11-28T04:06:14.610Z"
   },
   {
    "duration": 85,
    "start_time": "2022-11-28T04:06:14.618Z"
   },
   {
    "duration": 14,
    "start_time": "2022-11-28T04:06:14.705Z"
   },
   {
    "duration": 12,
    "start_time": "2022-11-28T04:06:14.720Z"
   },
   {
    "duration": 19,
    "start_time": "2022-11-28T04:06:14.734Z"
   },
   {
    "duration": 27,
    "start_time": "2022-11-28T04:06:14.754Z"
   },
   {
    "duration": 20,
    "start_time": "2022-11-28T04:06:14.783Z"
   },
   {
    "duration": 8,
    "start_time": "2022-11-28T04:06:14.804Z"
   },
   {
    "duration": 21,
    "start_time": "2022-11-28T04:06:14.813Z"
   },
   {
    "duration": 346,
    "start_time": "2022-11-28T04:06:14.835Z"
   },
   {
    "duration": 2,
    "start_time": "2022-11-28T04:06:15.183Z"
   },
   {
    "duration": 78,
    "start_time": "2022-11-28T04:06:15.187Z"
   },
   {
    "duration": 3,
    "start_time": "2022-11-28T04:06:15.267Z"
   },
   {
    "duration": 38,
    "start_time": "2022-11-28T04:06:15.271Z"
   },
   {
    "duration": 3,
    "start_time": "2022-11-28T04:06:15.310Z"
   },
   {
    "duration": 13,
    "start_time": "2022-11-28T04:06:15.352Z"
   },
   {
    "duration": 17,
    "start_time": "2022-11-28T04:06:15.367Z"
   },
   {
    "duration": 213,
    "start_time": "2022-11-28T04:06:15.386Z"
   },
   {
    "duration": 86,
    "start_time": "2022-11-28T04:06:15.600Z"
   },
   {
    "duration": 7,
    "start_time": "2022-11-28T04:27:29.900Z"
   },
   {
    "duration": 150,
    "start_time": "2022-11-28T04:27:57.071Z"
   },
   {
    "duration": 6,
    "start_time": "2022-11-28T04:28:50.839Z"
   },
   {
    "duration": 19,
    "start_time": "2022-11-28T04:31:55.153Z"
   },
   {
    "duration": 24,
    "start_time": "2022-11-28T04:32:18.199Z"
   },
   {
    "duration": 10,
    "start_time": "2022-11-28T04:33:07.274Z"
   },
   {
    "duration": 7,
    "start_time": "2022-11-28T04:33:20.597Z"
   },
   {
    "duration": 20,
    "start_time": "2022-11-28T06:34:14.707Z"
   },
   {
    "duration": 133,
    "start_time": "2022-11-28T06:36:21.485Z"
   },
   {
    "duration": 56,
    "start_time": "2022-11-28T06:37:27.273Z"
   },
   {
    "duration": 82,
    "start_time": "2022-11-28T06:41:05.144Z"
   },
   {
    "duration": 60,
    "start_time": "2022-11-28T06:46:49.264Z"
   },
   {
    "duration": 71,
    "start_time": "2022-11-28T06:57:24.491Z"
   },
   {
    "duration": 53,
    "start_time": "2022-11-28T06:57:30.318Z"
   },
   {
    "duration": 8,
    "start_time": "2022-11-28T07:04:00.684Z"
   },
   {
    "duration": 12,
    "start_time": "2022-11-28T07:04:12.080Z"
   },
   {
    "duration": 8,
    "start_time": "2022-11-28T07:04:52.859Z"
   },
   {
    "duration": 1191,
    "start_time": "2022-11-28T07:35:51.002Z"
   },
   {
    "duration": 73,
    "start_time": "2022-11-28T07:35:52.195Z"
   },
   {
    "duration": 27,
    "start_time": "2022-11-28T07:35:52.269Z"
   },
   {
    "duration": 37,
    "start_time": "2022-11-28T07:35:52.298Z"
   },
   {
    "duration": 20,
    "start_time": "2022-11-28T07:35:52.337Z"
   },
   {
    "duration": 20,
    "start_time": "2022-11-28T07:35:52.359Z"
   },
   {
    "duration": 23,
    "start_time": "2022-11-28T07:35:52.381Z"
   },
   {
    "duration": 21,
    "start_time": "2022-11-28T07:35:52.407Z"
   },
   {
    "duration": 41,
    "start_time": "2022-11-28T07:35:52.430Z"
   },
   {
    "duration": 8,
    "start_time": "2022-11-28T07:35:52.473Z"
   },
   {
    "duration": 92,
    "start_time": "2022-11-28T07:35:52.483Z"
   },
   {
    "duration": 44,
    "start_time": "2022-11-28T07:35:52.577Z"
   },
   {
    "duration": 48,
    "start_time": "2022-11-28T07:35:52.622Z"
   },
   {
    "duration": 13,
    "start_time": "2022-11-28T07:35:52.673Z"
   },
   {
    "duration": 7,
    "start_time": "2022-11-28T07:35:52.688Z"
   },
   {
    "duration": 9,
    "start_time": "2022-11-28T07:35:52.696Z"
   },
   {
    "duration": 10,
    "start_time": "2022-11-28T07:35:52.707Z"
   },
   {
    "duration": 43,
    "start_time": "2022-11-28T07:35:52.718Z"
   },
   {
    "duration": 18,
    "start_time": "2022-11-28T07:35:52.763Z"
   },
   {
    "duration": 9,
    "start_time": "2022-11-28T07:35:52.783Z"
   },
   {
    "duration": 21,
    "start_time": "2022-11-28T07:35:52.794Z"
   },
   {
    "duration": 358,
    "start_time": "2022-11-28T07:35:52.816Z"
   },
   {
    "duration": 2,
    "start_time": "2022-11-28T07:35:53.176Z"
   },
   {
    "duration": 76,
    "start_time": "2022-11-28T07:35:53.179Z"
   },
   {
    "duration": 3,
    "start_time": "2022-11-28T07:35:53.257Z"
   },
   {
    "duration": 43,
    "start_time": "2022-11-28T07:35:53.262Z"
   },
   {
    "duration": 3,
    "start_time": "2022-11-28T07:35:53.307Z"
   },
   {
    "duration": 51,
    "start_time": "2022-11-28T07:35:53.312Z"
   },
   {
    "duration": 12,
    "start_time": "2022-11-28T07:35:53.365Z"
   },
   {
    "duration": 191,
    "start_time": "2022-11-28T07:35:53.378Z"
   },
   {
    "duration": 73,
    "start_time": "2022-11-28T07:35:53.571Z"
   },
   {
    "duration": 141,
    "start_time": "2022-11-28T07:35:53.652Z"
   },
   {
    "duration": 29,
    "start_time": "2022-11-28T07:36:35.204Z"
   },
   {
    "duration": 1210,
    "start_time": "2022-11-28T07:36:41.694Z"
   },
   {
    "duration": 74,
    "start_time": "2022-11-28T07:36:42.906Z"
   },
   {
    "duration": 27,
    "start_time": "2022-11-28T07:36:42.982Z"
   },
   {
    "duration": 38,
    "start_time": "2022-11-28T07:36:43.011Z"
   },
   {
    "duration": 23,
    "start_time": "2022-11-28T07:36:43.051Z"
   },
   {
    "duration": 21,
    "start_time": "2022-11-28T07:36:43.076Z"
   },
   {
    "duration": 20,
    "start_time": "2022-11-28T07:36:43.099Z"
   },
   {
    "duration": 35,
    "start_time": "2022-11-28T07:36:43.121Z"
   },
   {
    "duration": 20,
    "start_time": "2022-11-28T07:36:43.158Z"
   },
   {
    "duration": 6,
    "start_time": "2022-11-28T07:36:43.180Z"
   },
   {
    "duration": 38,
    "start_time": "2022-11-28T07:36:43.187Z"
   },
   {
    "duration": 69,
    "start_time": "2022-11-28T07:36:43.226Z"
   },
   {
    "duration": 35,
    "start_time": "2022-11-28T07:36:43.297Z"
   },
   {
    "duration": 29,
    "start_time": "2022-11-28T07:36:43.335Z"
   },
   {
    "duration": 6,
    "start_time": "2022-11-28T07:36:43.365Z"
   },
   {
    "duration": 10,
    "start_time": "2022-11-28T07:36:43.373Z"
   },
   {
    "duration": 13,
    "start_time": "2022-11-28T07:36:43.384Z"
   },
   {
    "duration": 21,
    "start_time": "2022-11-28T07:36:43.398Z"
   },
   {
    "duration": 40,
    "start_time": "2022-11-28T07:36:43.421Z"
   },
   {
    "duration": 8,
    "start_time": "2022-11-28T07:36:43.463Z"
   },
   {
    "duration": 18,
    "start_time": "2022-11-28T07:36:43.473Z"
   },
   {
    "duration": 342,
    "start_time": "2022-11-28T07:36:43.493Z"
   },
   {
    "duration": 2,
    "start_time": "2022-11-28T07:36:43.836Z"
   },
   {
    "duration": 46,
    "start_time": "2022-11-28T07:36:43.840Z"
   },
   {
    "duration": 3,
    "start_time": "2022-11-28T07:36:43.888Z"
   },
   {
    "duration": 88,
    "start_time": "2022-11-28T07:36:43.892Z"
   },
   {
    "duration": 3,
    "start_time": "2022-11-28T07:36:43.982Z"
   },
   {
    "duration": 20,
    "start_time": "2022-11-28T07:36:43.987Z"
   },
   {
    "duration": 15,
    "start_time": "2022-11-28T07:36:44.008Z"
   },
   {
    "duration": 203,
    "start_time": "2022-11-28T07:36:44.025Z"
   },
   {
    "duration": 92,
    "start_time": "2022-11-28T07:36:44.229Z"
   },
   {
    "duration": 141,
    "start_time": "2022-11-28T07:36:44.323Z"
   },
   {
    "duration": 161,
    "start_time": "2022-11-28T07:41:08.223Z"
   },
   {
    "duration": 131,
    "start_time": "2022-11-28T07:41:25.177Z"
   },
   {
    "duration": 148,
    "start_time": "2022-11-28T07:45:59.069Z"
   },
   {
    "duration": 8,
    "start_time": "2022-11-28T07:47:51.762Z"
   },
   {
    "duration": 1225,
    "start_time": "2022-11-28T07:48:05.568Z"
   },
   {
    "duration": 72,
    "start_time": "2022-11-28T07:48:06.795Z"
   },
   {
    "duration": 27,
    "start_time": "2022-11-28T07:48:06.869Z"
   },
   {
    "duration": 37,
    "start_time": "2022-11-28T07:48:06.898Z"
   },
   {
    "duration": 24,
    "start_time": "2022-11-28T07:48:06.937Z"
   },
   {
    "duration": 38,
    "start_time": "2022-11-28T07:48:06.963Z"
   },
   {
    "duration": 40,
    "start_time": "2022-11-28T07:48:07.003Z"
   },
   {
    "duration": 8,
    "start_time": "2022-11-28T07:48:07.045Z"
   },
   {
    "duration": 31,
    "start_time": "2022-11-28T07:48:07.055Z"
   },
   {
    "duration": 6,
    "start_time": "2022-11-28T07:48:07.088Z"
   },
   {
    "duration": 50,
    "start_time": "2022-11-28T07:48:07.095Z"
   },
   {
    "duration": 47,
    "start_time": "2022-11-28T07:48:07.147Z"
   },
   {
    "duration": 34,
    "start_time": "2022-11-28T07:48:07.195Z"
   },
   {
    "duration": 28,
    "start_time": "2022-11-28T07:48:07.232Z"
   },
   {
    "duration": 20,
    "start_time": "2022-11-28T07:48:07.262Z"
   },
   {
    "duration": 21,
    "start_time": "2022-11-28T07:48:07.284Z"
   },
   {
    "duration": 27,
    "start_time": "2022-11-28T07:48:07.307Z"
   },
   {
    "duration": 42,
    "start_time": "2022-11-28T07:48:07.336Z"
   },
   {
    "duration": 39,
    "start_time": "2022-11-28T07:48:07.380Z"
   },
   {
    "duration": 7,
    "start_time": "2022-11-28T07:48:07.421Z"
   },
   {
    "duration": 33,
    "start_time": "2022-11-28T07:48:07.430Z"
   },
   {
    "duration": 356,
    "start_time": "2022-11-28T07:48:07.464Z"
   },
   {
    "duration": 2,
    "start_time": "2022-11-28T07:48:07.821Z"
   },
   {
    "duration": 50,
    "start_time": "2022-11-28T07:48:07.825Z"
   },
   {
    "duration": 4,
    "start_time": "2022-11-28T07:48:07.877Z"
   },
   {
    "duration": 96,
    "start_time": "2022-11-28T07:48:07.883Z"
   },
   {
    "duration": 3,
    "start_time": "2022-11-28T07:48:07.981Z"
   },
   {
    "duration": 42,
    "start_time": "2022-11-28T07:48:07.985Z"
   },
   {
    "duration": 29,
    "start_time": "2022-11-28T07:48:08.029Z"
   },
   {
    "duration": 198,
    "start_time": "2022-11-28T07:48:08.060Z"
   },
   {
    "duration": 137,
    "start_time": "2022-11-28T07:48:08.259Z"
   },
   {
    "duration": 9,
    "start_time": "2022-11-28T07:48:08.398Z"
   },
   {
    "duration": 84,
    "start_time": "2022-11-28T07:48:08.408Z"
   },
   {
    "duration": 137,
    "start_time": "2022-11-28T07:48:08.494Z"
   },
   {
    "duration": 4,
    "start_time": "2022-11-28T07:48:33.366Z"
   },
   {
    "duration": 151,
    "start_time": "2022-11-28T07:48:44.855Z"
   },
   {
    "duration": 1423,
    "start_time": "2022-11-29T05:04:03.130Z"
   },
   {
    "duration": 339,
    "start_time": "2022-11-29T05:04:04.556Z"
   },
   {
    "duration": 54,
    "start_time": "2022-11-29T05:04:04.897Z"
   },
   {
    "duration": 39,
    "start_time": "2022-11-29T05:04:04.953Z"
   },
   {
    "duration": 22,
    "start_time": "2022-11-29T05:04:04.993Z"
   },
   {
    "duration": 37,
    "start_time": "2022-11-29T05:04:05.017Z"
   },
   {
    "duration": 17,
    "start_time": "2022-11-29T05:04:05.056Z"
   },
   {
    "duration": 11,
    "start_time": "2022-11-29T05:04:05.075Z"
   },
   {
    "duration": 22,
    "start_time": "2022-11-29T05:04:05.088Z"
   },
   {
    "duration": 6,
    "start_time": "2022-11-29T05:04:05.113Z"
   },
   {
    "duration": 62,
    "start_time": "2022-11-29T05:04:05.120Z"
   },
   {
    "duration": 45,
    "start_time": "2022-11-29T05:04:05.183Z"
   },
   {
    "duration": 61,
    "start_time": "2022-11-29T05:04:05.229Z"
   },
   {
    "duration": 14,
    "start_time": "2022-11-29T05:04:05.292Z"
   },
   {
    "duration": 9,
    "start_time": "2022-11-29T05:04:05.308Z"
   },
   {
    "duration": 8,
    "start_time": "2022-11-29T05:04:05.318Z"
   },
   {
    "duration": 28,
    "start_time": "2022-11-29T05:04:05.328Z"
   },
   {
    "duration": 26,
    "start_time": "2022-11-29T05:04:05.357Z"
   },
   {
    "duration": 23,
    "start_time": "2022-11-29T05:04:05.384Z"
   },
   {
    "duration": 8,
    "start_time": "2022-11-29T05:04:05.408Z"
   },
   {
    "duration": 20,
    "start_time": "2022-11-29T05:04:05.417Z"
   },
   {
    "duration": 333,
    "start_time": "2022-11-29T05:04:05.453Z"
   },
   {
    "duration": 2,
    "start_time": "2022-11-29T05:04:05.788Z"
   },
   {
    "duration": 85,
    "start_time": "2022-11-29T05:04:05.792Z"
   },
   {
    "duration": 4,
    "start_time": "2022-11-29T05:04:05.879Z"
   },
   {
    "duration": 89,
    "start_time": "2022-11-29T05:04:05.885Z"
   },
   {
    "duration": 2,
    "start_time": "2022-11-29T05:04:05.976Z"
   },
   {
    "duration": 22,
    "start_time": "2022-11-29T05:04:05.981Z"
   },
   {
    "duration": 15,
    "start_time": "2022-11-29T05:04:06.005Z"
   },
   {
    "duration": 186,
    "start_time": "2022-11-29T05:04:06.022Z"
   },
   {
    "duration": 151,
    "start_time": "2022-11-29T05:04:06.210Z"
   },
   {
    "duration": 9,
    "start_time": "2022-11-29T05:04:06.362Z"
   },
   {
    "duration": 147,
    "start_time": "2022-11-29T05:04:06.373Z"
   },
   {
    "duration": 84,
    "start_time": "2022-11-29T05:04:06.522Z"
   },
   {
    "duration": 140,
    "start_time": "2022-11-29T05:04:06.608Z"
   },
   {
    "duration": 1343,
    "start_time": "2022-11-30T03:42:37.283Z"
   },
   {
    "duration": 140,
    "start_time": "2022-11-30T03:42:38.629Z"
   },
   {
    "duration": 68,
    "start_time": "2022-11-30T03:42:38.770Z"
   },
   {
    "duration": 35,
    "start_time": "2022-11-30T03:42:38.839Z"
   },
   {
    "duration": 22,
    "start_time": "2022-11-30T03:42:38.875Z"
   },
   {
    "duration": 18,
    "start_time": "2022-11-30T03:42:38.899Z"
   },
   {
    "duration": 19,
    "start_time": "2022-11-30T03:42:38.919Z"
   },
   {
    "duration": 9,
    "start_time": "2022-11-30T03:42:38.940Z"
   },
   {
    "duration": 22,
    "start_time": "2022-11-30T03:42:38.950Z"
   },
   {
    "duration": 7,
    "start_time": "2022-11-30T03:42:38.998Z"
   },
   {
    "duration": 45,
    "start_time": "2022-11-30T03:42:39.007Z"
   },
   {
    "duration": 61,
    "start_time": "2022-11-30T03:42:39.054Z"
   },
   {
    "duration": 33,
    "start_time": "2022-11-30T03:42:39.116Z"
   },
   {
    "duration": 14,
    "start_time": "2022-11-30T03:42:39.152Z"
   },
   {
    "duration": 8,
    "start_time": "2022-11-30T03:42:39.167Z"
   },
   {
    "duration": 25,
    "start_time": "2022-11-30T03:42:39.176Z"
   },
   {
    "duration": 11,
    "start_time": "2022-11-30T03:42:39.202Z"
   },
   {
    "duration": 26,
    "start_time": "2022-11-30T03:42:39.214Z"
   },
   {
    "duration": 22,
    "start_time": "2022-11-30T03:42:39.241Z"
   },
   {
    "duration": 8,
    "start_time": "2022-11-30T03:42:39.264Z"
   },
   {
    "duration": 28,
    "start_time": "2022-11-30T03:42:39.273Z"
   },
   {
    "duration": 387,
    "start_time": "2022-11-30T03:42:39.302Z"
   },
   {
    "duration": 3,
    "start_time": "2022-11-30T03:42:39.690Z"
   },
   {
    "duration": 43,
    "start_time": "2022-11-30T03:42:39.694Z"
   },
   {
    "duration": 3,
    "start_time": "2022-11-30T03:42:39.738Z"
   },
   {
    "duration": 87,
    "start_time": "2022-11-30T03:42:39.742Z"
   },
   {
    "duration": 2,
    "start_time": "2022-11-30T03:42:39.831Z"
   },
   {
    "duration": 14,
    "start_time": "2022-11-30T03:42:39.835Z"
   },
   {
    "duration": 17,
    "start_time": "2022-11-30T03:42:39.851Z"
   },
   {
    "duration": 214,
    "start_time": "2022-11-30T03:42:39.869Z"
   },
   {
    "duration": 168,
    "start_time": "2022-11-30T03:42:40.084Z"
   },
   {
    "duration": 9,
    "start_time": "2022-11-30T03:42:40.254Z"
   },
   {
    "duration": 170,
    "start_time": "2022-11-30T03:42:40.265Z"
   },
   {
    "duration": 79,
    "start_time": "2022-11-30T03:42:40.436Z"
   },
   {
    "duration": 52,
    "start_time": "2022-11-30T03:42:40.517Z"
   },
   {
    "duration": 1417,
    "start_time": "2022-11-30T12:10:55.463Z"
   },
   {
    "duration": 316,
    "start_time": "2022-11-30T12:10:56.882Z"
   },
   {
    "duration": 52,
    "start_time": "2022-11-30T12:10:57.200Z"
   },
   {
    "duration": 38,
    "start_time": "2022-11-30T12:10:57.254Z"
   },
   {
    "duration": 26,
    "start_time": "2022-11-30T12:10:57.294Z"
   },
   {
    "duration": 28,
    "start_time": "2022-11-30T12:10:57.322Z"
   },
   {
    "duration": 21,
    "start_time": "2022-11-30T12:10:57.352Z"
   },
   {
    "duration": 8,
    "start_time": "2022-11-30T12:10:57.375Z"
   },
   {
    "duration": 28,
    "start_time": "2022-11-30T12:10:57.385Z"
   },
   {
    "duration": 7,
    "start_time": "2022-11-30T12:10:57.438Z"
   },
   {
    "duration": 41,
    "start_time": "2022-11-30T12:10:57.446Z"
   },
   {
    "duration": 65,
    "start_time": "2022-11-30T12:10:57.489Z"
   },
   {
    "duration": 35,
    "start_time": "2022-11-30T12:10:57.555Z"
   },
   {
    "duration": 15,
    "start_time": "2022-11-30T12:10:57.592Z"
   },
   {
    "duration": 7,
    "start_time": "2022-11-30T12:10:57.609Z"
   },
   {
    "duration": 6,
    "start_time": "2022-11-30T12:10:57.638Z"
   },
   {
    "duration": 8,
    "start_time": "2022-11-30T12:10:57.646Z"
   },
   {
    "duration": 21,
    "start_time": "2022-11-30T12:10:57.656Z"
   },
   {
    "duration": 25,
    "start_time": "2022-11-30T12:10:57.678Z"
   },
   {
    "duration": 34,
    "start_time": "2022-11-30T12:10:57.704Z"
   },
   {
    "duration": 16,
    "start_time": "2022-11-30T12:10:57.739Z"
   },
   {
    "duration": 398,
    "start_time": "2022-11-30T12:10:57.756Z"
   },
   {
    "duration": 3,
    "start_time": "2022-11-30T12:10:58.156Z"
   },
   {
    "duration": 79,
    "start_time": "2022-11-30T12:10:58.161Z"
   },
   {
    "duration": 3,
    "start_time": "2022-11-30T12:10:58.242Z"
   },
   {
    "duration": 39,
    "start_time": "2022-11-30T12:10:58.247Z"
   },
   {
    "duration": 3,
    "start_time": "2022-11-30T12:10:58.287Z"
   },
   {
    "duration": 51,
    "start_time": "2022-11-30T12:10:58.293Z"
   },
   {
    "duration": 22,
    "start_time": "2022-11-30T12:10:58.346Z"
   },
   {
    "duration": 200,
    "start_time": "2022-11-30T12:10:58.370Z"
   },
   {
    "duration": 174,
    "start_time": "2022-11-30T12:10:58.572Z"
   },
   {
    "duration": 9,
    "start_time": "2022-11-30T12:10:58.748Z"
   },
   {
    "duration": 233,
    "start_time": "2022-11-30T12:10:58.758Z"
   },
   {
    "duration": 94,
    "start_time": "2022-11-30T12:10:58.993Z"
   },
   {
    "duration": 134,
    "start_time": "2022-11-30T12:10:59.089Z"
   },
   {
    "duration": 39,
    "start_time": "2022-11-30T12:25:42.048Z"
   },
   {
    "duration": 17,
    "start_time": "2022-11-30T12:26:44.268Z"
   },
   {
    "duration": 16,
    "start_time": "2022-11-30T12:27:11.917Z"
   },
   {
    "duration": 10,
    "start_time": "2022-11-30T12:27:31.496Z"
   },
   {
    "duration": 1246,
    "start_time": "2022-11-30T12:29:32.449Z"
   },
   {
    "duration": 79,
    "start_time": "2022-11-30T12:29:33.697Z"
   },
   {
    "duration": 28,
    "start_time": "2022-11-30T12:29:33.778Z"
   },
   {
    "duration": 21,
    "start_time": "2022-11-30T12:29:33.808Z"
   },
   {
    "duration": 17,
    "start_time": "2022-11-30T12:29:33.831Z"
   },
   {
    "duration": 117,
    "start_time": "2022-11-30T12:29:33.851Z"
   },
   {
    "duration": 1,
    "start_time": "2022-11-30T12:29:33.970Z"
   },
   {
    "duration": 0,
    "start_time": "2022-11-30T12:29:33.972Z"
   },
   {
    "duration": 0,
    "start_time": "2022-11-30T12:29:33.973Z"
   },
   {
    "duration": 0,
    "start_time": "2022-11-30T12:29:33.975Z"
   },
   {
    "duration": 0,
    "start_time": "2022-11-30T12:29:33.976Z"
   },
   {
    "duration": 0,
    "start_time": "2022-11-30T12:29:33.977Z"
   },
   {
    "duration": 0,
    "start_time": "2022-11-30T12:29:33.979Z"
   },
   {
    "duration": 0,
    "start_time": "2022-11-30T12:29:33.981Z"
   },
   {
    "duration": 0,
    "start_time": "2022-11-30T12:29:33.982Z"
   },
   {
    "duration": 0,
    "start_time": "2022-11-30T12:29:33.983Z"
   },
   {
    "duration": 0,
    "start_time": "2022-11-30T12:29:33.985Z"
   },
   {
    "duration": 0,
    "start_time": "2022-11-30T12:29:33.986Z"
   },
   {
    "duration": 0,
    "start_time": "2022-11-30T12:29:33.987Z"
   },
   {
    "duration": 0,
    "start_time": "2022-11-30T12:29:33.989Z"
   },
   {
    "duration": 0,
    "start_time": "2022-11-30T12:29:33.990Z"
   },
   {
    "duration": 0,
    "start_time": "2022-11-30T12:29:33.991Z"
   },
   {
    "duration": 0,
    "start_time": "2022-11-30T12:29:33.993Z"
   },
   {
    "duration": 0,
    "start_time": "2022-11-30T12:29:33.995Z"
   },
   {
    "duration": 0,
    "start_time": "2022-11-30T12:29:33.996Z"
   },
   {
    "duration": 0,
    "start_time": "2022-11-30T12:29:34.038Z"
   },
   {
    "duration": 0,
    "start_time": "2022-11-30T12:29:34.039Z"
   },
   {
    "duration": 0,
    "start_time": "2022-11-30T12:29:34.041Z"
   },
   {
    "duration": 0,
    "start_time": "2022-11-30T12:29:34.043Z"
   },
   {
    "duration": 0,
    "start_time": "2022-11-30T12:29:34.044Z"
   },
   {
    "duration": 0,
    "start_time": "2022-11-30T12:29:34.045Z"
   },
   {
    "duration": 0,
    "start_time": "2022-11-30T12:29:34.046Z"
   },
   {
    "duration": 0,
    "start_time": "2022-11-30T12:29:34.047Z"
   },
   {
    "duration": 10,
    "start_time": "2022-11-30T12:29:49.308Z"
   },
   {
    "duration": 12,
    "start_time": "2022-11-30T12:30:30.098Z"
   },
   {
    "duration": 15,
    "start_time": "2022-11-30T12:31:00.411Z"
   },
   {
    "duration": 14,
    "start_time": "2022-11-30T12:31:14.814Z"
   },
   {
    "duration": 37,
    "start_time": "2022-11-30T12:31:58.943Z"
   },
   {
    "duration": 27,
    "start_time": "2022-11-30T12:32:15.318Z"
   },
   {
    "duration": 9,
    "start_time": "2022-11-30T12:32:33.228Z"
   },
   {
    "duration": 30,
    "start_time": "2022-11-30T12:32:38.786Z"
   },
   {
    "duration": 20,
    "start_time": "2022-11-30T12:32:44.610Z"
   },
   {
    "duration": 22,
    "start_time": "2022-11-30T12:33:01.388Z"
   },
   {
    "duration": 33,
    "start_time": "2022-11-30T12:33:23.013Z"
   },
   {
    "duration": 35,
    "start_time": "2022-11-30T12:33:29.305Z"
   },
   {
    "duration": 31,
    "start_time": "2022-11-30T12:33:55.517Z"
   },
   {
    "duration": 28,
    "start_time": "2022-11-30T12:34:03.357Z"
   },
   {
    "duration": 37,
    "start_time": "2022-11-30T12:34:08.892Z"
   },
   {
    "duration": 11,
    "start_time": "2022-11-30T12:36:41.620Z"
   },
   {
    "duration": 10,
    "start_time": "2022-11-30T12:36:53.935Z"
   },
   {
    "duration": 8,
    "start_time": "2022-11-30T12:37:11.677Z"
   },
   {
    "duration": 8,
    "start_time": "2022-11-30T12:37:32.740Z"
   },
   {
    "duration": 7,
    "start_time": "2022-11-30T12:37:37.811Z"
   },
   {
    "duration": 7,
    "start_time": "2022-11-30T12:37:45.684Z"
   },
   {
    "duration": 8,
    "start_time": "2022-11-30T12:37:57.730Z"
   },
   {
    "duration": 8,
    "start_time": "2022-11-30T12:38:06.980Z"
   },
   {
    "duration": 5,
    "start_time": "2022-11-30T12:38:22.241Z"
   },
   {
    "duration": 6,
    "start_time": "2022-11-30T12:39:11.298Z"
   },
   {
    "duration": 22,
    "start_time": "2022-11-30T12:39:21.774Z"
   },
   {
    "duration": 21,
    "start_time": "2022-11-30T12:47:48.539Z"
   },
   {
    "duration": 11,
    "start_time": "2022-11-30T12:48:05.970Z"
   },
   {
    "duration": 13,
    "start_time": "2022-11-30T12:48:12.241Z"
   },
   {
    "duration": 6,
    "start_time": "2022-11-30T12:48:46.409Z"
   },
   {
    "duration": 6,
    "start_time": "2022-11-30T12:49:17.605Z"
   },
   {
    "duration": 13,
    "start_time": "2022-11-30T12:49:32.679Z"
   },
   {
    "duration": 36,
    "start_time": "2022-11-30T12:53:02.622Z"
   },
   {
    "duration": 22,
    "start_time": "2022-11-30T12:53:31.648Z"
   },
   {
    "duration": 13,
    "start_time": "2022-11-30T12:53:43.320Z"
   },
   {
    "duration": 14,
    "start_time": "2022-11-30T12:55:22.336Z"
   },
   {
    "duration": 5,
    "start_time": "2022-11-30T12:56:24.460Z"
   },
   {
    "duration": 1356,
    "start_time": "2022-11-30T12:56:31.735Z"
   },
   {
    "duration": 89,
    "start_time": "2022-11-30T12:56:33.093Z"
   },
   {
    "duration": 29,
    "start_time": "2022-11-30T12:56:33.184Z"
   },
   {
    "duration": 19,
    "start_time": "2022-11-30T12:56:33.215Z"
   },
   {
    "duration": 15,
    "start_time": "2022-11-30T12:56:33.236Z"
   },
   {
    "duration": 29,
    "start_time": "2022-11-30T12:56:33.252Z"
   },
   {
    "duration": 27,
    "start_time": "2022-11-30T12:56:33.282Z"
   },
   {
    "duration": 40,
    "start_time": "2022-11-30T12:56:33.310Z"
   },
   {
    "duration": 22,
    "start_time": "2022-11-30T12:56:33.351Z"
   },
   {
    "duration": 30,
    "start_time": "2022-11-30T12:56:33.376Z"
   },
   {
    "duration": 31,
    "start_time": "2022-11-30T12:56:33.407Z"
   },
   {
    "duration": 8,
    "start_time": "2022-11-30T12:56:33.440Z"
   },
   {
    "duration": 22,
    "start_time": "2022-11-30T12:56:33.450Z"
   },
   {
    "duration": 27,
    "start_time": "2022-11-30T12:56:33.475Z"
   },
   {
    "duration": 12,
    "start_time": "2022-11-30T12:56:33.504Z"
   },
   {
    "duration": 46,
    "start_time": "2022-11-30T12:56:33.518Z"
   },
   {
    "duration": 45,
    "start_time": "2022-11-30T12:56:33.565Z"
   },
   {
    "duration": 12,
    "start_time": "2022-11-30T12:56:33.612Z"
   },
   {
    "duration": 136,
    "start_time": "2022-11-30T12:56:33.626Z"
   },
   {
    "duration": 0,
    "start_time": "2022-11-30T12:56:33.765Z"
   },
   {
    "duration": 0,
    "start_time": "2022-11-30T12:56:33.766Z"
   },
   {
    "duration": 0,
    "start_time": "2022-11-30T12:56:33.767Z"
   },
   {
    "duration": 0,
    "start_time": "2022-11-30T12:56:33.769Z"
   },
   {
    "duration": 0,
    "start_time": "2022-11-30T12:56:33.770Z"
   },
   {
    "duration": 0,
    "start_time": "2022-11-30T12:56:33.771Z"
   },
   {
    "duration": 0,
    "start_time": "2022-11-30T12:56:33.773Z"
   },
   {
    "duration": 0,
    "start_time": "2022-11-30T12:56:33.774Z"
   },
   {
    "duration": 0,
    "start_time": "2022-11-30T12:56:33.775Z"
   },
   {
    "duration": 0,
    "start_time": "2022-11-30T12:56:33.776Z"
   },
   {
    "duration": 0,
    "start_time": "2022-11-30T12:56:33.778Z"
   },
   {
    "duration": 0,
    "start_time": "2022-11-30T12:56:33.779Z"
   },
   {
    "duration": 0,
    "start_time": "2022-11-30T12:56:33.780Z"
   },
   {
    "duration": 0,
    "start_time": "2022-11-30T12:56:33.781Z"
   },
   {
    "duration": 0,
    "start_time": "2022-11-30T12:56:33.782Z"
   },
   {
    "duration": 0,
    "start_time": "2022-11-30T12:56:33.783Z"
   },
   {
    "duration": 0,
    "start_time": "2022-11-30T12:56:33.784Z"
   },
   {
    "duration": 0,
    "start_time": "2022-11-30T12:56:33.785Z"
   },
   {
    "duration": 0,
    "start_time": "2022-11-30T12:56:33.787Z"
   },
   {
    "duration": 0,
    "start_time": "2022-11-30T12:56:33.788Z"
   },
   {
    "duration": 0,
    "start_time": "2022-11-30T12:56:33.790Z"
   },
   {
    "duration": 0,
    "start_time": "2022-11-30T12:56:33.791Z"
   },
   {
    "duration": 0,
    "start_time": "2022-11-30T12:56:33.843Z"
   },
   {
    "duration": 0,
    "start_time": "2022-11-30T12:56:33.844Z"
   },
   {
    "duration": 0,
    "start_time": "2022-11-30T12:56:33.846Z"
   },
   {
    "duration": 0,
    "start_time": "2022-11-30T12:56:33.848Z"
   },
   {
    "duration": 17,
    "start_time": "2022-11-30T13:02:35.662Z"
   },
   {
    "duration": 16,
    "start_time": "2022-11-30T13:03:14.810Z"
   },
   {
    "duration": 42,
    "start_time": "2022-11-30T13:04:13.200Z"
   },
   {
    "duration": 43,
    "start_time": "2022-11-30T13:04:33.889Z"
   },
   {
    "duration": 6,
    "start_time": "2022-11-30T13:05:41.965Z"
   },
   {
    "duration": 10,
    "start_time": "2022-11-30T13:05:56.705Z"
   },
   {
    "duration": 14,
    "start_time": "2022-11-30T13:06:09.027Z"
   },
   {
    "duration": 15,
    "start_time": "2022-11-30T13:06:19.543Z"
   },
   {
    "duration": 9,
    "start_time": "2022-11-30T13:08:41.503Z"
   },
   {
    "duration": 10,
    "start_time": "2022-11-30T13:09:11.473Z"
   },
   {
    "duration": 8,
    "start_time": "2022-11-30T13:10:30.335Z"
   },
   {
    "duration": 8,
    "start_time": "2022-11-30T13:10:40.322Z"
   },
   {
    "duration": 9,
    "start_time": "2022-11-30T13:12:03.036Z"
   },
   {
    "duration": 10,
    "start_time": "2022-11-30T13:13:21.419Z"
   },
   {
    "duration": 8,
    "start_time": "2022-11-30T13:13:54.873Z"
   },
   {
    "duration": 11,
    "start_time": "2022-11-30T13:14:02.031Z"
   },
   {
    "duration": 9,
    "start_time": "2022-11-30T13:14:34.125Z"
   },
   {
    "duration": 8,
    "start_time": "2022-11-30T13:14:40.464Z"
   },
   {
    "duration": 7,
    "start_time": "2022-11-30T13:23:44.105Z"
   },
   {
    "duration": 10,
    "start_time": "2022-11-30T13:23:57.920Z"
   },
   {
    "duration": 23,
    "start_time": "2022-11-30T13:24:21.438Z"
   },
   {
    "duration": 22,
    "start_time": "2022-11-30T13:24:56.211Z"
   },
   {
    "duration": 14,
    "start_time": "2022-11-30T13:25:09.016Z"
   },
   {
    "duration": 11,
    "start_time": "2022-11-30T13:28:22.525Z"
   },
   {
    "duration": 9,
    "start_time": "2022-11-30T13:28:45.322Z"
   },
   {
    "duration": 10,
    "start_time": "2022-11-30T13:29:09.175Z"
   },
   {
    "duration": 9,
    "start_time": "2022-11-30T13:29:19.573Z"
   },
   {
    "duration": 10,
    "start_time": "2022-11-30T13:29:42.967Z"
   },
   {
    "duration": 9,
    "start_time": "2022-11-30T13:31:40.291Z"
   },
   {
    "duration": 13,
    "start_time": "2022-11-30T13:31:50.382Z"
   },
   {
    "duration": 12,
    "start_time": "2022-11-30T13:31:55.627Z"
   },
   {
    "duration": 11,
    "start_time": "2022-11-30T13:32:12.166Z"
   },
   {
    "duration": 12,
    "start_time": "2022-11-30T13:32:33.675Z"
   },
   {
    "duration": 11,
    "start_time": "2022-11-30T13:32:36.220Z"
   },
   {
    "duration": 13,
    "start_time": "2022-11-30T13:34:48.893Z"
   },
   {
    "duration": 21,
    "start_time": "2022-11-30T13:39:16.200Z"
   },
   {
    "duration": 21,
    "start_time": "2022-11-30T13:39:24.703Z"
   },
   {
    "duration": 26,
    "start_time": "2022-11-30T13:42:56.599Z"
   },
   {
    "duration": 1329,
    "start_time": "2022-11-30T13:44:47.186Z"
   },
   {
    "duration": 80,
    "start_time": "2022-11-30T13:44:48.517Z"
   },
   {
    "duration": 28,
    "start_time": "2022-11-30T13:44:48.599Z"
   },
   {
    "duration": 19,
    "start_time": "2022-11-30T13:44:48.629Z"
   },
   {
    "duration": 22,
    "start_time": "2022-11-30T13:44:48.650Z"
   },
   {
    "duration": 27,
    "start_time": "2022-11-30T13:44:48.674Z"
   },
   {
    "duration": 23,
    "start_time": "2022-11-30T13:44:48.703Z"
   },
   {
    "duration": 39,
    "start_time": "2022-11-30T13:44:48.728Z"
   },
   {
    "duration": 24,
    "start_time": "2022-11-30T13:44:48.769Z"
   },
   {
    "duration": 46,
    "start_time": "2022-11-30T13:44:48.796Z"
   },
   {
    "duration": 12,
    "start_time": "2022-11-30T13:44:48.844Z"
   },
   {
    "duration": 12,
    "start_time": "2022-11-30T13:44:48.858Z"
   },
   {
    "duration": 11,
    "start_time": "2022-11-30T13:44:48.872Z"
   },
   {
    "duration": 11,
    "start_time": "2022-11-30T13:44:48.884Z"
   },
   {
    "duration": 5,
    "start_time": "2022-11-30T13:44:48.896Z"
   },
   {
    "duration": 42,
    "start_time": "2022-11-30T13:44:48.903Z"
   },
   {
    "duration": 49,
    "start_time": "2022-11-30T13:44:48.947Z"
   },
   {
    "duration": 19,
    "start_time": "2022-11-30T13:44:48.999Z"
   },
   {
    "duration": 31,
    "start_time": "2022-11-30T13:44:49.038Z"
   },
   {
    "duration": 51,
    "start_time": "2022-11-30T13:44:49.071Z"
   },
   {
    "duration": 7,
    "start_time": "2022-11-30T13:44:49.138Z"
   },
   {
    "duration": 35,
    "start_time": "2022-11-30T13:44:49.147Z"
   },
   {
    "duration": 19,
    "start_time": "2022-11-30T13:44:49.184Z"
   },
   {
    "duration": 10,
    "start_time": "2022-11-30T13:44:49.206Z"
   },
   {
    "duration": 31,
    "start_time": "2022-11-30T13:44:49.218Z"
   },
   {
    "duration": 22,
    "start_time": "2022-11-30T13:44:49.251Z"
   },
   {
    "duration": 11,
    "start_time": "2022-11-30T13:44:49.275Z"
   },
   {
    "duration": 9,
    "start_time": "2022-11-30T13:44:49.290Z"
   },
   {
    "duration": 44,
    "start_time": "2022-11-30T13:44:49.300Z"
   },
   {
    "duration": 12,
    "start_time": "2022-11-30T13:44:49.346Z"
   },
   {
    "duration": 13,
    "start_time": "2022-11-30T13:44:49.360Z"
   },
   {
    "duration": 12,
    "start_time": "2022-11-30T13:44:49.376Z"
   },
   {
    "duration": 15,
    "start_time": "2022-11-30T13:44:49.391Z"
   },
   {
    "duration": 36,
    "start_time": "2022-11-30T13:44:49.408Z"
   },
   {
    "duration": 22,
    "start_time": "2022-11-30T13:44:49.446Z"
   },
   {
    "duration": 22,
    "start_time": "2022-11-30T13:44:49.470Z"
   },
   {
    "duration": 146,
    "start_time": "2022-11-30T13:44:49.494Z"
   },
   {
    "duration": 0,
    "start_time": "2022-11-30T13:44:49.642Z"
   },
   {
    "duration": 0,
    "start_time": "2022-11-30T13:44:49.644Z"
   },
   {
    "duration": 0,
    "start_time": "2022-11-30T13:44:49.646Z"
   },
   {
    "duration": 0,
    "start_time": "2022-11-30T13:44:49.647Z"
   },
   {
    "duration": 0,
    "start_time": "2022-11-30T13:44:49.648Z"
   },
   {
    "duration": 0,
    "start_time": "2022-11-30T13:44:49.649Z"
   },
   {
    "duration": 0,
    "start_time": "2022-11-30T13:44:49.651Z"
   },
   {
    "duration": 1,
    "start_time": "2022-11-30T13:44:49.652Z"
   },
   {
    "duration": 0,
    "start_time": "2022-11-30T13:44:49.654Z"
   },
   {
    "duration": 0,
    "start_time": "2022-11-30T13:44:49.656Z"
   },
   {
    "duration": 0,
    "start_time": "2022-11-30T13:44:49.658Z"
   },
   {
    "duration": 0,
    "start_time": "2022-11-30T13:44:49.659Z"
   },
   {
    "duration": 0,
    "start_time": "2022-11-30T13:44:49.661Z"
   },
   {
    "duration": 0,
    "start_time": "2022-11-30T13:44:49.662Z"
   },
   {
    "duration": 0,
    "start_time": "2022-11-30T13:44:49.664Z"
   },
   {
    "duration": 0,
    "start_time": "2022-11-30T13:44:49.665Z"
   },
   {
    "duration": 0,
    "start_time": "2022-11-30T13:44:49.666Z"
   },
   {
    "duration": 0,
    "start_time": "2022-11-30T13:44:49.668Z"
   },
   {
    "duration": 0,
    "start_time": "2022-11-30T13:44:49.669Z"
   },
   {
    "duration": 0,
    "start_time": "2022-11-30T13:44:49.671Z"
   },
   {
    "duration": 0,
    "start_time": "2022-11-30T13:44:49.672Z"
   },
   {
    "duration": 0,
    "start_time": "2022-11-30T13:44:49.674Z"
   },
   {
    "duration": 0,
    "start_time": "2022-11-30T13:44:49.675Z"
   },
   {
    "duration": 0,
    "start_time": "2022-11-30T13:44:49.677Z"
   },
   {
    "duration": 0,
    "start_time": "2022-11-30T13:44:49.678Z"
   },
   {
    "duration": 26,
    "start_time": "2022-11-30T13:47:17.389Z"
   },
   {
    "duration": 13,
    "start_time": "2022-11-30T13:51:12.171Z"
   },
   {
    "duration": 18,
    "start_time": "2022-11-30T13:51:17.412Z"
   },
   {
    "duration": 18,
    "start_time": "2022-11-30T13:51:34.197Z"
   },
   {
    "duration": 11,
    "start_time": "2022-11-30T13:51:42.576Z"
   },
   {
    "duration": 9,
    "start_time": "2022-11-30T13:53:21.268Z"
   },
   {
    "duration": 1383,
    "start_time": "2022-11-30T13:53:34.783Z"
   },
   {
    "duration": 85,
    "start_time": "2022-11-30T13:53:36.169Z"
   },
   {
    "duration": 27,
    "start_time": "2022-11-30T13:53:36.256Z"
   },
   {
    "duration": 20,
    "start_time": "2022-11-30T13:53:36.285Z"
   },
   {
    "duration": 28,
    "start_time": "2022-11-30T13:53:36.307Z"
   },
   {
    "duration": 14,
    "start_time": "2022-11-30T13:53:36.337Z"
   },
   {
    "duration": 16,
    "start_time": "2022-11-30T13:53:36.353Z"
   },
   {
    "duration": 33,
    "start_time": "2022-11-30T13:53:36.371Z"
   },
   {
    "duration": 53,
    "start_time": "2022-11-30T13:53:36.406Z"
   },
   {
    "duration": 35,
    "start_time": "2022-11-30T13:53:36.460Z"
   },
   {
    "duration": 14,
    "start_time": "2022-11-30T13:53:36.497Z"
   },
   {
    "duration": 37,
    "start_time": "2022-11-30T13:53:36.512Z"
   },
   {
    "duration": 9,
    "start_time": "2022-11-30T13:53:36.550Z"
   },
   {
    "duration": 11,
    "start_time": "2022-11-30T13:53:36.562Z"
   },
   {
    "duration": 8,
    "start_time": "2022-11-30T13:53:36.574Z"
   },
   {
    "duration": 16,
    "start_time": "2022-11-30T13:53:36.583Z"
   },
   {
    "duration": 68,
    "start_time": "2022-11-30T13:53:36.601Z"
   },
   {
    "duration": 13,
    "start_time": "2022-11-30T13:53:36.671Z"
   },
   {
    "duration": 20,
    "start_time": "2022-11-30T13:53:36.686Z"
   },
   {
    "duration": 66,
    "start_time": "2022-11-30T13:53:36.708Z"
   },
   {
    "duration": 5,
    "start_time": "2022-11-30T13:53:36.776Z"
   },
   {
    "duration": 18,
    "start_time": "2022-11-30T13:53:36.783Z"
   },
   {
    "duration": 8,
    "start_time": "2022-11-30T13:53:36.803Z"
   },
   {
    "duration": 31,
    "start_time": "2022-11-30T13:53:36.813Z"
   },
   {
    "duration": 12,
    "start_time": "2022-11-30T13:53:36.846Z"
   },
   {
    "duration": 14,
    "start_time": "2022-11-30T13:53:36.860Z"
   },
   {
    "duration": 8,
    "start_time": "2022-11-30T13:53:36.876Z"
   },
   {
    "duration": 14,
    "start_time": "2022-11-30T13:53:36.886Z"
   },
   {
    "duration": 54,
    "start_time": "2022-11-30T13:53:36.902Z"
   },
   {
    "duration": 13,
    "start_time": "2022-11-30T13:53:36.958Z"
   },
   {
    "duration": 10,
    "start_time": "2022-11-30T13:53:36.973Z"
   },
   {
    "duration": 18,
    "start_time": "2022-11-30T13:53:36.984Z"
   },
   {
    "duration": 46,
    "start_time": "2022-11-30T13:53:37.004Z"
   },
   {
    "duration": 11,
    "start_time": "2022-11-30T13:53:37.053Z"
   },
   {
    "duration": 24,
    "start_time": "2022-11-30T13:53:37.066Z"
   },
   {
    "duration": 54,
    "start_time": "2022-11-30T13:53:37.092Z"
   },
   {
    "duration": 19,
    "start_time": "2022-11-30T13:53:37.148Z"
   },
   {
    "duration": 26,
    "start_time": "2022-11-30T13:53:37.170Z"
   },
   {
    "duration": 140,
    "start_time": "2022-11-30T13:53:37.198Z"
   },
   {
    "duration": 0,
    "start_time": "2022-11-30T13:53:37.341Z"
   },
   {
    "duration": 0,
    "start_time": "2022-11-30T13:53:37.343Z"
   },
   {
    "duration": 0,
    "start_time": "2022-11-30T13:53:37.344Z"
   },
   {
    "duration": 0,
    "start_time": "2022-11-30T13:53:37.346Z"
   },
   {
    "duration": 0,
    "start_time": "2022-11-30T13:53:37.348Z"
   },
   {
    "duration": 0,
    "start_time": "2022-11-30T13:53:37.350Z"
   },
   {
    "duration": 0,
    "start_time": "2022-11-30T13:53:37.351Z"
   },
   {
    "duration": 0,
    "start_time": "2022-11-30T13:53:37.353Z"
   },
   {
    "duration": 0,
    "start_time": "2022-11-30T13:53:37.354Z"
   },
   {
    "duration": 0,
    "start_time": "2022-11-30T13:53:37.355Z"
   },
   {
    "duration": 0,
    "start_time": "2022-11-30T13:53:37.358Z"
   },
   {
    "duration": 0,
    "start_time": "2022-11-30T13:53:37.359Z"
   },
   {
    "duration": 1,
    "start_time": "2022-11-30T13:53:37.360Z"
   },
   {
    "duration": 0,
    "start_time": "2022-11-30T13:53:37.362Z"
   },
   {
    "duration": 0,
    "start_time": "2022-11-30T13:53:37.363Z"
   },
   {
    "duration": 0,
    "start_time": "2022-11-30T13:53:37.365Z"
   },
   {
    "duration": 0,
    "start_time": "2022-11-30T13:53:37.366Z"
   },
   {
    "duration": 0,
    "start_time": "2022-11-30T13:53:37.368Z"
   },
   {
    "duration": 0,
    "start_time": "2022-11-30T13:53:37.369Z"
   },
   {
    "duration": 0,
    "start_time": "2022-11-30T13:53:37.371Z"
   },
   {
    "duration": 0,
    "start_time": "2022-11-30T13:53:37.373Z"
   },
   {
    "duration": 0,
    "start_time": "2022-11-30T13:53:37.374Z"
   },
   {
    "duration": 0,
    "start_time": "2022-11-30T13:53:37.375Z"
   },
   {
    "duration": 0,
    "start_time": "2022-11-30T13:53:37.377Z"
   },
   {
    "duration": 0,
    "start_time": "2022-11-30T13:53:37.378Z"
   },
   {
    "duration": 10,
    "start_time": "2022-11-30T13:55:15.876Z"
   },
   {
    "duration": 12,
    "start_time": "2022-11-30T13:55:29.249Z"
   },
   {
    "duration": 12,
    "start_time": "2022-11-30T13:55:39.128Z"
   },
   {
    "duration": 244,
    "start_time": "2022-11-30T13:58:42.732Z"
   },
   {
    "duration": 276,
    "start_time": "2022-11-30T13:58:52.872Z"
   },
   {
    "duration": 210,
    "start_time": "2022-11-30T13:59:07.334Z"
   },
   {
    "duration": 372,
    "start_time": "2022-11-30T13:59:38.826Z"
   },
   {
    "duration": 212,
    "start_time": "2022-11-30T13:59:49.232Z"
   },
   {
    "duration": 212,
    "start_time": "2022-11-30T14:00:08.664Z"
   },
   {
    "duration": 146,
    "start_time": "2022-11-30T14:00:23.342Z"
   },
   {
    "duration": 149,
    "start_time": "2022-11-30T14:00:41.007Z"
   },
   {
    "duration": 15,
    "start_time": "2022-11-30T14:03:09.083Z"
   },
   {
    "duration": 8,
    "start_time": "2022-11-30T14:03:19.468Z"
   },
   {
    "duration": 7,
    "start_time": "2022-11-30T14:05:02.032Z"
   },
   {
    "duration": 79,
    "start_time": "2022-11-30T14:05:25.435Z"
   },
   {
    "duration": 9,
    "start_time": "2022-11-30T14:08:33.197Z"
   },
   {
    "duration": 5,
    "start_time": "2022-11-30T14:10:45.486Z"
   },
   {
    "duration": 6,
    "start_time": "2022-11-30T14:11:16.941Z"
   },
   {
    "duration": 141,
    "start_time": "2022-11-30T14:14:11.663Z"
   },
   {
    "duration": 129,
    "start_time": "2022-11-30T14:15:25.159Z"
   },
   {
    "duration": 131,
    "start_time": "2022-11-30T14:16:25.219Z"
   },
   {
    "duration": 49,
    "start_time": "2022-11-30T14:16:30.696Z"
   },
   {
    "duration": 10,
    "start_time": "2022-11-30T14:17:01.257Z"
   },
   {
    "duration": 16,
    "start_time": "2022-11-30T14:17:05.058Z"
   },
   {
    "duration": 1320,
    "start_time": "2022-12-01T04:33:59.843Z"
   },
   {
    "duration": 140,
    "start_time": "2022-12-01T04:34:01.165Z"
   },
   {
    "duration": 79,
    "start_time": "2022-12-01T04:34:01.307Z"
   },
   {
    "duration": 17,
    "start_time": "2022-12-01T04:34:01.388Z"
   },
   {
    "duration": 27,
    "start_time": "2022-12-01T04:34:01.406Z"
   },
   {
    "duration": 37,
    "start_time": "2022-12-01T04:34:01.434Z"
   },
   {
    "duration": 34,
    "start_time": "2022-12-01T04:34:01.473Z"
   },
   {
    "duration": 63,
    "start_time": "2022-12-01T04:34:01.508Z"
   },
   {
    "duration": 37,
    "start_time": "2022-12-01T04:34:01.574Z"
   },
   {
    "duration": 60,
    "start_time": "2022-12-01T04:34:01.614Z"
   },
   {
    "duration": 15,
    "start_time": "2022-12-01T04:34:01.676Z"
   },
   {
    "duration": 33,
    "start_time": "2022-12-01T04:34:01.693Z"
   },
   {
    "duration": 23,
    "start_time": "2022-12-01T04:34:01.728Z"
   },
   {
    "duration": 41,
    "start_time": "2022-12-01T04:34:01.753Z"
   },
   {
    "duration": 38,
    "start_time": "2022-12-01T04:34:01.796Z"
   },
   {
    "duration": 27,
    "start_time": "2022-12-01T04:34:01.836Z"
   },
   {
    "duration": 33,
    "start_time": "2022-12-01T04:34:01.864Z"
   },
   {
    "duration": 11,
    "start_time": "2022-12-01T04:34:01.898Z"
   },
   {
    "duration": 32,
    "start_time": "2022-12-01T04:34:01.910Z"
   },
   {
    "duration": 42,
    "start_time": "2022-12-01T04:34:01.944Z"
   },
   {
    "duration": 12,
    "start_time": "2022-12-01T04:34:01.988Z"
   },
   {
    "duration": 21,
    "start_time": "2022-12-01T04:34:02.002Z"
   },
   {
    "duration": 6,
    "start_time": "2022-12-01T04:34:02.025Z"
   },
   {
    "duration": 14,
    "start_time": "2022-12-01T04:34:02.032Z"
   },
   {
    "duration": 11,
    "start_time": "2022-12-01T04:34:02.047Z"
   },
   {
    "duration": 8,
    "start_time": "2022-12-01T04:34:02.059Z"
   },
   {
    "duration": 6,
    "start_time": "2022-12-01T04:34:02.069Z"
   },
   {
    "duration": 20,
    "start_time": "2022-12-01T04:34:02.078Z"
   },
   {
    "duration": 13,
    "start_time": "2022-12-01T04:34:02.099Z"
   },
   {
    "duration": 11,
    "start_time": "2022-12-01T04:34:02.113Z"
   },
   {
    "duration": 12,
    "start_time": "2022-12-01T04:34:02.125Z"
   },
   {
    "duration": 12,
    "start_time": "2022-12-01T04:34:02.139Z"
   },
   {
    "duration": 18,
    "start_time": "2022-12-01T04:34:02.152Z"
   },
   {
    "duration": 18,
    "start_time": "2022-12-01T04:34:02.172Z"
   },
   {
    "duration": 19,
    "start_time": "2022-12-01T04:34:02.196Z"
   },
   {
    "duration": 19,
    "start_time": "2022-12-01T04:34:02.216Z"
   },
   {
    "duration": 11,
    "start_time": "2022-12-01T04:34:02.236Z"
   },
   {
    "duration": 32,
    "start_time": "2022-12-01T04:34:02.248Z"
   },
   {
    "duration": 16,
    "start_time": "2022-12-01T04:34:02.282Z"
   },
   {
    "duration": 20,
    "start_time": "2022-12-01T04:34:02.299Z"
   },
   {
    "duration": 192,
    "start_time": "2022-12-01T04:34:02.321Z"
   },
   {
    "duration": 133,
    "start_time": "2022-12-01T04:34:02.515Z"
   },
   {
    "duration": 7,
    "start_time": "2022-12-01T04:34:02.650Z"
   },
   {
    "duration": 10,
    "start_time": "2022-12-01T04:34:02.658Z"
   },
   {
    "duration": 8,
    "start_time": "2022-12-01T04:34:02.670Z"
   },
   {
    "duration": 24,
    "start_time": "2022-12-01T04:34:02.679Z"
   },
   {
    "duration": 116,
    "start_time": "2022-12-01T04:34:02.704Z"
   },
   {
    "duration": 118,
    "start_time": "2022-12-01T04:34:02.822Z"
   },
   {
    "duration": 113,
    "start_time": "2022-12-01T04:34:02.941Z"
   },
   {
    "duration": 15,
    "start_time": "2022-12-01T04:34:03.055Z"
   },
   {
    "duration": 122,
    "start_time": "2022-12-01T04:34:03.071Z"
   },
   {
    "duration": 0,
    "start_time": "2022-12-01T04:34:03.197Z"
   },
   {
    "duration": 0,
    "start_time": "2022-12-01T04:34:03.199Z"
   },
   {
    "duration": 0,
    "start_time": "2022-12-01T04:34:03.200Z"
   },
   {
    "duration": 0,
    "start_time": "2022-12-01T04:34:03.202Z"
   },
   {
    "duration": 0,
    "start_time": "2022-12-01T04:34:03.203Z"
   },
   {
    "duration": 0,
    "start_time": "2022-12-01T04:34:03.204Z"
   },
   {
    "duration": 0,
    "start_time": "2022-12-01T04:34:03.206Z"
   },
   {
    "duration": 0,
    "start_time": "2022-12-01T04:34:03.207Z"
   },
   {
    "duration": 0,
    "start_time": "2022-12-01T04:34:03.208Z"
   },
   {
    "duration": 0,
    "start_time": "2022-12-01T04:34:03.210Z"
   },
   {
    "duration": 0,
    "start_time": "2022-12-01T04:34:03.211Z"
   },
   {
    "duration": 0,
    "start_time": "2022-12-01T04:34:03.212Z"
   },
   {
    "duration": 0,
    "start_time": "2022-12-01T04:34:03.213Z"
   },
   {
    "duration": 0,
    "start_time": "2022-12-01T04:34:03.215Z"
   },
   {
    "duration": 0,
    "start_time": "2022-12-01T04:34:03.217Z"
   },
   {
    "duration": 0,
    "start_time": "2022-12-01T04:34:03.218Z"
   },
   {
    "duration": 0,
    "start_time": "2022-12-01T04:34:03.219Z"
   },
   {
    "duration": 0,
    "start_time": "2022-12-01T04:34:03.220Z"
   },
   {
    "duration": 0,
    "start_time": "2022-12-01T04:34:03.222Z"
   },
   {
    "duration": 0,
    "start_time": "2022-12-01T04:34:03.223Z"
   },
   {
    "duration": 809,
    "start_time": "2022-12-01T04:47:18.481Z"
   },
   {
    "duration": 32,
    "start_time": "2022-12-01T04:52:05.678Z"
   },
   {
    "duration": 3,
    "start_time": "2022-12-01T04:52:37.282Z"
   },
   {
    "duration": 30,
    "start_time": "2022-12-01T04:52:45.391Z"
   },
   {
    "duration": 3,
    "start_time": "2022-12-01T04:52:54.349Z"
   },
   {
    "duration": 12,
    "start_time": "2022-12-01T04:53:06.930Z"
   },
   {
    "duration": 12,
    "start_time": "2022-12-01T04:53:09.267Z"
   },
   {
    "duration": 94,
    "start_time": "2022-12-01T04:53:35.789Z"
   },
   {
    "duration": 83,
    "start_time": "2022-12-01T04:53:46.776Z"
   },
   {
    "duration": 6,
    "start_time": "2022-12-01T04:54:10.523Z"
   },
   {
    "duration": 89,
    "start_time": "2022-12-01T04:54:12.991Z"
   },
   {
    "duration": 15,
    "start_time": "2022-12-01T04:54:35.930Z"
   },
   {
    "duration": 83,
    "start_time": "2022-12-01T04:55:50.971Z"
   },
   {
    "duration": 156,
    "start_time": "2022-12-01T04:56:26.991Z"
   },
   {
    "duration": 76,
    "start_time": "2022-12-01T04:57:01.244Z"
   },
   {
    "duration": 134,
    "start_time": "2022-12-01T04:57:34.897Z"
   },
   {
    "duration": 6,
    "start_time": "2022-12-01T04:58:05.320Z"
   },
   {
    "duration": 119,
    "start_time": "2022-12-01T04:58:09.744Z"
   },
   {
    "duration": 74,
    "start_time": "2022-12-01T04:58:26.740Z"
   },
   {
    "duration": 376,
    "start_time": "2022-12-01T04:58:45.394Z"
   },
   {
    "duration": 50,
    "start_time": "2022-12-01T05:05:40.613Z"
   },
   {
    "duration": 18,
    "start_time": "2022-12-01T05:06:13.804Z"
   },
   {
    "duration": 7,
    "start_time": "2022-12-01T05:06:53.912Z"
   },
   {
    "duration": 6,
    "start_time": "2022-12-01T05:07:18.350Z"
   },
   {
    "duration": 12,
    "start_time": "2022-12-01T05:07:47.072Z"
   },
   {
    "duration": 34,
    "start_time": "2022-12-01T05:09:20.374Z"
   },
   {
    "duration": 14,
    "start_time": "2022-12-01T05:09:36.961Z"
   },
   {
    "duration": 6,
    "start_time": "2022-12-01T05:10:37.336Z"
   },
   {
    "duration": 6,
    "start_time": "2022-12-01T05:10:53.723Z"
   },
   {
    "duration": 244,
    "start_time": "2022-12-01T05:34:57.686Z"
   },
   {
    "duration": 187,
    "start_time": "2022-12-01T05:36:14.269Z"
   },
   {
    "duration": 5,
    "start_time": "2022-12-01T05:46:55.629Z"
   },
   {
    "duration": 5,
    "start_time": "2022-12-01T05:50:41.659Z"
   },
   {
    "duration": 58,
    "start_time": "2022-12-01T05:52:03.973Z"
   },
   {
    "duration": 8,
    "start_time": "2022-12-01T05:52:11.001Z"
   },
   {
    "duration": 8,
    "start_time": "2022-12-01T05:52:24.178Z"
   },
   {
    "duration": 12,
    "start_time": "2022-12-01T05:53:14.274Z"
   },
   {
    "duration": 14,
    "start_time": "2022-12-01T05:53:50.031Z"
   },
   {
    "duration": 125,
    "start_time": "2022-12-01T05:53:53.501Z"
   },
   {
    "duration": 110,
    "start_time": "2022-12-01T05:55:49.321Z"
   },
   {
    "duration": 11,
    "start_time": "2022-12-01T05:57:07.622Z"
   },
   {
    "duration": 11,
    "start_time": "2022-12-01T05:57:21.756Z"
   },
   {
    "duration": 98,
    "start_time": "2022-12-01T05:57:33.013Z"
   },
   {
    "duration": 97,
    "start_time": "2022-12-01T05:57:59.804Z"
   },
   {
    "duration": 16,
    "start_time": "2022-12-01T05:58:35.139Z"
   },
   {
    "duration": 11,
    "start_time": "2022-12-01T05:58:53.643Z"
   },
   {
    "duration": 101,
    "start_time": "2022-12-01T05:58:58.264Z"
   },
   {
    "duration": 99,
    "start_time": "2022-12-01T05:59:04.854Z"
   },
   {
    "duration": 10,
    "start_time": "2022-12-01T05:59:40.450Z"
   },
   {
    "duration": 10,
    "start_time": "2022-12-01T05:59:53.987Z"
   },
   {
    "duration": 96,
    "start_time": "2022-12-01T05:59:57.971Z"
   },
   {
    "duration": 97,
    "start_time": "2022-12-01T06:00:09.140Z"
   },
   {
    "duration": 24,
    "start_time": "2022-12-01T06:00:57.042Z"
   },
   {
    "duration": 11,
    "start_time": "2022-12-01T06:05:02.156Z"
   },
   {
    "duration": 9,
    "start_time": "2022-12-01T06:05:08.219Z"
   },
   {
    "duration": 112,
    "start_time": "2022-12-01T06:05:33.500Z"
   },
   {
    "duration": 7,
    "start_time": "2022-12-01T06:07:19.912Z"
   },
   {
    "duration": 9,
    "start_time": "2022-12-01T06:07:48.746Z"
   },
   {
    "duration": 7,
    "start_time": "2022-12-01T06:08:04.871Z"
   },
   {
    "duration": 5,
    "start_time": "2022-12-01T06:08:17.454Z"
   },
   {
    "duration": 13,
    "start_time": "2022-12-01T06:08:40.149Z"
   },
   {
    "duration": 19,
    "start_time": "2022-12-01T06:09:06.484Z"
   },
   {
    "duration": 8,
    "start_time": "2022-12-01T06:09:45.533Z"
   },
   {
    "duration": 109,
    "start_time": "2022-12-01T06:10:03.134Z"
   },
   {
    "duration": 6,
    "start_time": "2022-12-01T06:10:19.126Z"
   },
   {
    "duration": 9,
    "start_time": "2022-12-01T06:11:32.889Z"
   },
   {
    "duration": 9,
    "start_time": "2022-12-01T06:11:39.863Z"
   },
   {
    "duration": 12,
    "start_time": "2022-12-01T06:11:52.225Z"
   },
   {
    "duration": 9,
    "start_time": "2022-12-01T06:12:21.958Z"
   },
   {
    "duration": 9,
    "start_time": "2022-12-01T06:12:34.434Z"
   },
   {
    "duration": 12,
    "start_time": "2022-12-01T06:12:49.547Z"
   },
   {
    "duration": 13,
    "start_time": "2022-12-01T06:13:05.078Z"
   },
   {
    "duration": 14,
    "start_time": "2022-12-01T06:13:59.488Z"
   },
   {
    "duration": 7,
    "start_time": "2022-12-01T06:14:35.232Z"
   },
   {
    "duration": 11,
    "start_time": "2022-12-01T06:14:49.918Z"
   },
   {
    "duration": 9,
    "start_time": "2022-12-01T06:14:59.255Z"
   },
   {
    "duration": 6,
    "start_time": "2022-12-01T06:15:19.871Z"
   },
   {
    "duration": 6,
    "start_time": "2022-12-01T06:15:30.637Z"
   },
   {
    "duration": 8,
    "start_time": "2022-12-01T06:15:50.496Z"
   },
   {
    "duration": 6,
    "start_time": "2022-12-01T06:16:14.368Z"
   },
   {
    "duration": 7,
    "start_time": "2022-12-01T06:16:26.379Z"
   },
   {
    "duration": 9,
    "start_time": "2022-12-01T06:16:42.801Z"
   },
   {
    "duration": 18,
    "start_time": "2022-12-01T06:17:39.998Z"
   },
   {
    "duration": 37,
    "start_time": "2022-12-01T06:18:48.154Z"
   },
   {
    "duration": 1537,
    "start_time": "2022-12-01T23:53:06.737Z"
   },
   {
    "duration": 165,
    "start_time": "2022-12-01T23:53:08.276Z"
   },
   {
    "duration": 81,
    "start_time": "2022-12-01T23:53:08.443Z"
   },
   {
    "duration": 20,
    "start_time": "2022-12-01T23:53:08.529Z"
   },
   {
    "duration": 19,
    "start_time": "2022-12-01T23:53:08.551Z"
   },
   {
    "duration": 41,
    "start_time": "2022-12-01T23:53:08.573Z"
   },
   {
    "duration": 35,
    "start_time": "2022-12-01T23:53:08.621Z"
   },
   {
    "duration": 50,
    "start_time": "2022-12-01T23:53:08.657Z"
   },
   {
    "duration": 26,
    "start_time": "2022-12-01T23:53:08.710Z"
   },
   {
    "duration": 90,
    "start_time": "2022-12-01T23:53:08.738Z"
   },
   {
    "duration": 57,
    "start_time": "2022-12-01T23:53:08.830Z"
   },
   {
    "duration": 48,
    "start_time": "2022-12-01T23:53:08.888Z"
   },
   {
    "duration": 22,
    "start_time": "2022-12-01T23:53:08.938Z"
   },
   {
    "duration": 23,
    "start_time": "2022-12-01T23:53:08.963Z"
   },
   {
    "duration": 18,
    "start_time": "2022-12-01T23:53:08.987Z"
   },
   {
    "duration": 44,
    "start_time": "2022-12-01T23:53:09.006Z"
   },
   {
    "duration": 62,
    "start_time": "2022-12-01T23:53:09.052Z"
   },
   {
    "duration": 17,
    "start_time": "2022-12-01T23:53:09.117Z"
   },
   {
    "duration": 34,
    "start_time": "2022-12-01T23:53:09.136Z"
   },
   {
    "duration": 51,
    "start_time": "2022-12-01T23:53:09.172Z"
   },
   {
    "duration": 11,
    "start_time": "2022-12-01T23:53:09.230Z"
   },
   {
    "duration": 31,
    "start_time": "2022-12-01T23:53:09.242Z"
   },
   {
    "duration": 25,
    "start_time": "2022-12-01T23:53:09.274Z"
   },
   {
    "duration": 22,
    "start_time": "2022-12-01T23:53:09.301Z"
   },
   {
    "duration": 21,
    "start_time": "2022-12-01T23:53:09.324Z"
   },
   {
    "duration": 23,
    "start_time": "2022-12-01T23:53:09.347Z"
   },
   {
    "duration": 10,
    "start_time": "2022-12-01T23:53:09.372Z"
   },
   {
    "duration": 31,
    "start_time": "2022-12-01T23:53:09.383Z"
   },
   {
    "duration": 36,
    "start_time": "2022-12-01T23:53:09.415Z"
   },
   {
    "duration": 19,
    "start_time": "2022-12-01T23:53:09.453Z"
   },
   {
    "duration": 28,
    "start_time": "2022-12-01T23:53:09.473Z"
   },
   {
    "duration": 27,
    "start_time": "2022-12-01T23:53:09.503Z"
   },
   {
    "duration": 47,
    "start_time": "2022-12-01T23:53:09.531Z"
   },
   {
    "duration": 21,
    "start_time": "2022-12-01T23:53:09.580Z"
   },
   {
    "duration": 30,
    "start_time": "2022-12-01T23:53:09.603Z"
   },
   {
    "duration": 19,
    "start_time": "2022-12-01T23:53:09.635Z"
   },
   {
    "duration": 11,
    "start_time": "2022-12-01T23:53:09.655Z"
   },
   {
    "duration": 17,
    "start_time": "2022-12-01T23:53:09.667Z"
   },
   {
    "duration": 8,
    "start_time": "2022-12-01T23:53:09.685Z"
   },
   {
    "duration": 41,
    "start_time": "2022-12-01T23:53:09.694Z"
   },
   {
    "duration": 203,
    "start_time": "2022-12-01T23:53:09.739Z"
   },
   {
    "duration": 160,
    "start_time": "2022-12-01T23:53:09.944Z"
   },
   {
    "duration": 10,
    "start_time": "2022-12-01T23:53:10.105Z"
   },
   {
    "duration": 29,
    "start_time": "2022-12-01T23:53:10.116Z"
   },
   {
    "duration": 9,
    "start_time": "2022-12-01T23:53:10.147Z"
   },
   {
    "duration": 12,
    "start_time": "2022-12-01T23:53:10.157Z"
   },
   {
    "duration": 126,
    "start_time": "2022-12-01T23:53:10.171Z"
   },
   {
    "duration": 125,
    "start_time": "2022-12-01T23:53:10.299Z"
   },
   {
    "duration": 120,
    "start_time": "2022-12-01T23:53:10.432Z"
   },
   {
    "duration": 14,
    "start_time": "2022-12-01T23:53:10.554Z"
   },
   {
    "duration": 190,
    "start_time": "2022-12-01T23:53:10.570Z"
   },
   {
    "duration": 12,
    "start_time": "2022-12-01T23:53:10.762Z"
   },
   {
    "duration": 16,
    "start_time": "2022-12-01T23:53:10.775Z"
   },
   {
    "duration": 152,
    "start_time": "2022-12-01T23:53:10.793Z"
   },
   {
    "duration": 15,
    "start_time": "2022-12-01T23:53:10.947Z"
   },
   {
    "duration": 126,
    "start_time": "2022-12-01T23:53:10.963Z"
   },
   {
    "duration": 11,
    "start_time": "2022-12-01T23:53:11.092Z"
   },
   {
    "duration": 150,
    "start_time": "2022-12-01T23:53:11.105Z"
   },
   {
    "duration": 15,
    "start_time": "2022-12-01T23:53:11.257Z"
   },
   {
    "duration": 124,
    "start_time": "2022-12-01T23:53:11.274Z"
   },
   {
    "duration": 38,
    "start_time": "2022-12-01T23:53:11.399Z"
   },
   {
    "duration": 9,
    "start_time": "2022-12-01T23:53:11.439Z"
   },
   {
    "duration": 137,
    "start_time": "2022-12-01T23:53:11.450Z"
   },
   {
    "duration": 7,
    "start_time": "2022-12-01T23:53:11.588Z"
   },
   {
    "duration": 26,
    "start_time": "2022-12-01T23:53:11.596Z"
   },
   {
    "duration": 8,
    "start_time": "2022-12-01T23:53:11.626Z"
   },
   {
    "duration": 15,
    "start_time": "2022-12-01T23:53:11.635Z"
   },
   {
    "duration": 17,
    "start_time": "2022-12-01T23:53:11.652Z"
   },
   {
    "duration": 26,
    "start_time": "2022-12-01T23:53:11.671Z"
   },
   {
    "duration": 26,
    "start_time": "2022-12-01T23:53:11.699Z"
   },
   {
    "duration": 124,
    "start_time": "2022-12-01T23:53:11.734Z"
   },
   {
    "duration": 7,
    "start_time": "2022-12-01T23:53:11.860Z"
   },
   {
    "duration": 16,
    "start_time": "2022-12-01T23:53:11.869Z"
   },
   {
    "duration": 13,
    "start_time": "2022-12-01T23:53:11.887Z"
   },
   {
    "duration": 45,
    "start_time": "2022-12-01T23:53:11.901Z"
   },
   {
    "duration": 13,
    "start_time": "2022-12-01T23:53:11.947Z"
   },
   {
    "duration": 11,
    "start_time": "2022-12-01T23:53:11.962Z"
   },
   {
    "duration": 18,
    "start_time": "2022-12-01T23:53:11.975Z"
   },
   {
    "duration": 23,
    "start_time": "2022-12-01T23:53:11.995Z"
   },
   {
    "duration": 12,
    "start_time": "2022-12-01T23:53:12.020Z"
   },
   {
    "duration": 22,
    "start_time": "2022-12-01T23:53:12.034Z"
   },
   {
    "duration": 28,
    "start_time": "2022-12-01T23:53:12.058Z"
   },
   {
    "duration": 58,
    "start_time": "2022-12-01T23:53:12.088Z"
   },
   {
    "duration": 25,
    "start_time": "2022-12-01T23:53:12.149Z"
   },
   {
    "duration": 11,
    "start_time": "2022-12-01T23:53:12.176Z"
   },
   {
    "duration": 12,
    "start_time": "2022-12-01T23:53:12.188Z"
   },
   {
    "duration": 15,
    "start_time": "2022-12-01T23:53:12.201Z"
   },
   {
    "duration": 42,
    "start_time": "2022-12-01T23:53:12.220Z"
   },
   {
    "duration": 27,
    "start_time": "2022-12-01T23:53:12.264Z"
   },
   {
    "duration": 31,
    "start_time": "2022-12-02T00:18:13.341Z"
   },
   {
    "duration": 35,
    "start_time": "2022-12-02T00:22:12.034Z"
   },
   {
    "duration": 14,
    "start_time": "2022-12-02T00:24:06.123Z"
   },
   {
    "duration": 13,
    "start_time": "2022-12-02T00:24:20.885Z"
   },
   {
    "duration": 8,
    "start_time": "2022-12-02T00:25:42.034Z"
   },
   {
    "duration": 16,
    "start_time": "2022-12-02T00:25:59.967Z"
   },
   {
    "duration": 8,
    "start_time": "2022-12-02T00:26:12.552Z"
   },
   {
    "duration": 5,
    "start_time": "2022-12-02T00:26:27.628Z"
   },
   {
    "duration": 23,
    "start_time": "2022-12-02T00:26:46.314Z"
   },
   {
    "duration": 4,
    "start_time": "2022-12-02T00:44:29.439Z"
   },
   {
    "duration": 1385,
    "start_time": "2022-12-02T04:29:39.559Z"
   },
   {
    "duration": 139,
    "start_time": "2022-12-02T04:29:40.946Z"
   },
   {
    "duration": 77,
    "start_time": "2022-12-02T04:29:41.087Z"
   },
   {
    "duration": 19,
    "start_time": "2022-12-02T04:29:41.166Z"
   },
   {
    "duration": 13,
    "start_time": "2022-12-02T04:29:41.187Z"
   },
   {
    "duration": 11,
    "start_time": "2022-12-02T04:29:41.201Z"
   },
   {
    "duration": 13,
    "start_time": "2022-12-02T04:29:41.214Z"
   },
   {
    "duration": 27,
    "start_time": "2022-12-02T04:29:41.229Z"
   },
   {
    "duration": 19,
    "start_time": "2022-12-02T04:29:41.258Z"
   },
   {
    "duration": 42,
    "start_time": "2022-12-02T04:29:41.279Z"
   },
   {
    "duration": 15,
    "start_time": "2022-12-02T04:29:41.324Z"
   },
   {
    "duration": 10,
    "start_time": "2022-12-02T04:29:41.342Z"
   },
   {
    "duration": 7,
    "start_time": "2022-12-02T04:29:41.354Z"
   },
   {
    "duration": 11,
    "start_time": "2022-12-02T04:29:41.363Z"
   },
   {
    "duration": 5,
    "start_time": "2022-12-02T04:29:41.376Z"
   },
   {
    "duration": 44,
    "start_time": "2022-12-02T04:29:41.383Z"
   },
   {
    "duration": 46,
    "start_time": "2022-12-02T04:29:41.429Z"
   },
   {
    "duration": 12,
    "start_time": "2022-12-02T04:29:41.477Z"
   },
   {
    "duration": 38,
    "start_time": "2022-12-02T04:29:41.491Z"
   },
   {
    "duration": 39,
    "start_time": "2022-12-02T04:29:41.531Z"
   },
   {
    "duration": 5,
    "start_time": "2022-12-02T04:29:41.571Z"
   },
   {
    "duration": 19,
    "start_time": "2022-12-02T04:29:41.578Z"
   },
   {
    "duration": 8,
    "start_time": "2022-12-02T04:29:41.615Z"
   },
   {
    "duration": 7,
    "start_time": "2022-12-02T04:29:41.624Z"
   },
   {
    "duration": 9,
    "start_time": "2022-12-02T04:29:41.633Z"
   },
   {
    "duration": 8,
    "start_time": "2022-12-02T04:29:41.644Z"
   },
   {
    "duration": 7,
    "start_time": "2022-12-02T04:29:41.653Z"
   },
   {
    "duration": 5,
    "start_time": "2022-12-02T04:29:41.665Z"
   },
   {
    "duration": 52,
    "start_time": "2022-12-02T04:29:41.672Z"
   },
   {
    "duration": 9,
    "start_time": "2022-12-02T04:29:41.726Z"
   },
   {
    "duration": 9,
    "start_time": "2022-12-02T04:29:41.737Z"
   },
   {
    "duration": 7,
    "start_time": "2022-12-02T04:29:41.748Z"
   },
   {
    "duration": 15,
    "start_time": "2022-12-02T04:29:41.756Z"
   },
   {
    "duration": 8,
    "start_time": "2022-12-02T04:29:41.772Z"
   },
   {
    "duration": 45,
    "start_time": "2022-12-02T04:29:41.782Z"
   },
   {
    "duration": 20,
    "start_time": "2022-12-02T04:29:41.829Z"
   },
   {
    "duration": 11,
    "start_time": "2022-12-02T04:29:41.851Z"
   },
   {
    "duration": 15,
    "start_time": "2022-12-02T04:29:41.863Z"
   },
   {
    "duration": 37,
    "start_time": "2022-12-02T04:29:41.880Z"
   },
   {
    "duration": 10,
    "start_time": "2022-12-02T04:29:41.919Z"
   },
   {
    "duration": 244,
    "start_time": "2022-12-02T04:29:41.930Z"
   },
   {
    "duration": 143,
    "start_time": "2022-12-02T04:29:42.176Z"
   },
   {
    "duration": 7,
    "start_time": "2022-12-02T04:29:42.320Z"
   },
   {
    "duration": 27,
    "start_time": "2022-12-02T04:29:42.328Z"
   },
   {
    "duration": 23,
    "start_time": "2022-12-02T04:29:42.357Z"
   },
   {
    "duration": 44,
    "start_time": "2022-12-02T04:29:42.382Z"
   },
   {
    "duration": 183,
    "start_time": "2022-12-02T04:29:42.428Z"
   },
   {
    "duration": 118,
    "start_time": "2022-12-02T04:29:42.613Z"
   },
   {
    "duration": 108,
    "start_time": "2022-12-02T04:29:42.733Z"
   },
   {
    "duration": 15,
    "start_time": "2022-12-02T04:29:42.842Z"
   },
   {
    "duration": 204,
    "start_time": "2022-12-02T04:29:42.859Z"
   },
   {
    "duration": 9,
    "start_time": "2022-12-02T04:29:43.064Z"
   },
   {
    "duration": 19,
    "start_time": "2022-12-02T04:29:43.074Z"
   },
   {
    "duration": 125,
    "start_time": "2022-12-02T04:29:43.095Z"
   },
   {
    "duration": 11,
    "start_time": "2022-12-02T04:29:43.221Z"
   },
   {
    "duration": 111,
    "start_time": "2022-12-02T04:29:43.234Z"
   },
   {
    "duration": 11,
    "start_time": "2022-12-02T04:29:43.346Z"
   },
   {
    "duration": 129,
    "start_time": "2022-12-02T04:29:43.359Z"
   },
   {
    "duration": 10,
    "start_time": "2022-12-02T04:29:43.489Z"
   },
   {
    "duration": 108,
    "start_time": "2022-12-02T04:29:43.501Z"
   },
   {
    "duration": 28,
    "start_time": "2022-12-02T04:29:43.610Z"
   },
   {
    "duration": 10,
    "start_time": "2022-12-02T04:29:43.639Z"
   },
   {
    "duration": 125,
    "start_time": "2022-12-02T04:29:43.650Z"
   },
   {
    "duration": 7,
    "start_time": "2022-12-02T04:29:43.777Z"
   },
   {
    "duration": 20,
    "start_time": "2022-12-02T04:29:43.786Z"
   },
   {
    "duration": 13,
    "start_time": "2022-12-02T04:29:43.808Z"
   },
   {
    "duration": 17,
    "start_time": "2022-12-02T04:29:43.822Z"
   },
   {
    "duration": 28,
    "start_time": "2022-12-02T04:29:43.841Z"
   },
   {
    "duration": 36,
    "start_time": "2022-12-02T04:29:43.870Z"
   },
   {
    "duration": 22,
    "start_time": "2022-12-02T04:29:43.908Z"
   },
   {
    "duration": 133,
    "start_time": "2022-12-02T04:29:43.931Z"
   },
   {
    "duration": 7,
    "start_time": "2022-12-02T04:29:44.065Z"
   },
   {
    "duration": 40,
    "start_time": "2022-12-02T04:29:44.074Z"
   },
   {
    "duration": 17,
    "start_time": "2022-12-02T04:29:44.115Z"
   },
   {
    "duration": 26,
    "start_time": "2022-12-02T04:29:44.134Z"
   },
   {
    "duration": 24,
    "start_time": "2022-12-02T04:29:44.162Z"
   },
   {
    "duration": 31,
    "start_time": "2022-12-02T04:29:44.188Z"
   },
   {
    "duration": 27,
    "start_time": "2022-12-02T04:29:44.220Z"
   },
   {
    "duration": 36,
    "start_time": "2022-12-02T04:29:44.248Z"
   },
   {
    "duration": 19,
    "start_time": "2022-12-02T04:29:44.286Z"
   },
   {
    "duration": 39,
    "start_time": "2022-12-02T04:29:44.307Z"
   },
   {
    "duration": 18,
    "start_time": "2022-12-02T04:29:44.352Z"
   },
   {
    "duration": 14,
    "start_time": "2022-12-02T04:29:44.372Z"
   },
   {
    "duration": 27,
    "start_time": "2022-12-02T04:29:44.387Z"
   },
   {
    "duration": 18,
    "start_time": "2022-12-02T04:29:44.416Z"
   },
   {
    "duration": 12,
    "start_time": "2022-12-02T04:29:44.436Z"
   },
   {
    "duration": 20,
    "start_time": "2022-12-02T04:29:44.449Z"
   },
   {
    "duration": 31,
    "start_time": "2022-12-02T04:29:44.470Z"
   },
   {
    "duration": 29,
    "start_time": "2022-12-02T04:29:44.502Z"
   },
   {
    "duration": 30,
    "start_time": "2022-12-02T04:29:44.533Z"
   },
   {
    "duration": 33,
    "start_time": "2022-12-02T04:29:44.564Z"
   },
   {
    "duration": 27,
    "start_time": "2022-12-02T04:29:44.598Z"
   },
   {
    "duration": 29,
    "start_time": "2022-12-02T04:29:44.627Z"
   },
   {
    "duration": 28,
    "start_time": "2022-12-02T04:29:44.658Z"
   },
   {
    "duration": 40,
    "start_time": "2022-12-02T04:29:44.687Z"
   },
   {
    "duration": 22,
    "start_time": "2022-12-02T04:29:44.728Z"
   },
   {
    "duration": 27,
    "start_time": "2022-12-02T04:29:44.751Z"
   },
   {
    "duration": 58,
    "start_time": "2022-12-02T04:29:44.780Z"
   },
   {
    "duration": 31,
    "start_time": "2022-12-02T04:29:44.840Z"
   },
   {
    "duration": 3,
    "start_time": "2022-12-02T04:32:23.572Z"
   },
   {
    "duration": 13,
    "start_time": "2022-12-02T04:32:57.527Z"
   },
   {
    "duration": 2,
    "start_time": "2022-12-02T04:34:59.173Z"
   },
   {
    "duration": 16,
    "start_time": "2022-12-02T04:37:39.809Z"
   },
   {
    "duration": 3,
    "start_time": "2022-12-02T04:38:17.453Z"
   },
   {
    "duration": 5,
    "start_time": "2022-12-02T04:38:50.592Z"
   },
   {
    "duration": 3,
    "start_time": "2022-12-02T04:39:09.553Z"
   },
   {
    "duration": 8,
    "start_time": "2022-12-02T04:39:20.245Z"
   },
   {
    "duration": 108,
    "start_time": "2022-12-02T04:39:45.194Z"
   },
   {
    "duration": 122,
    "start_time": "2022-12-02T04:40:12.715Z"
   },
   {
    "duration": 59,
    "start_time": "2022-12-02T04:40:56.710Z"
   },
   {
    "duration": 9,
    "start_time": "2022-12-02T04:41:24.630Z"
   },
   {
    "duration": 4,
    "start_time": "2022-12-02T04:44:02.692Z"
   },
   {
    "duration": 11,
    "start_time": "2022-12-02T04:44:21.488Z"
   },
   {
    "duration": 4,
    "start_time": "2022-12-02T04:44:45.485Z"
   },
   {
    "duration": 6,
    "start_time": "2022-12-02T04:45:38.734Z"
   },
   {
    "duration": 386,
    "start_time": "2022-12-02T04:45:59.468Z"
   },
   {
    "duration": 9,
    "start_time": "2022-12-02T04:46:23.711Z"
   },
   {
    "duration": 101,
    "start_time": "2022-12-02T04:47:00.474Z"
   },
   {
    "duration": 7,
    "start_time": "2022-12-02T04:48:27.133Z"
   },
   {
    "duration": 32,
    "start_time": "2022-12-02T04:48:40.065Z"
   },
   {
    "duration": 23,
    "start_time": "2022-12-02T04:49:16.964Z"
   },
   {
    "duration": 4,
    "start_time": "2022-12-02T04:50:04.794Z"
   },
   {
    "duration": 11,
    "start_time": "2022-12-02T04:50:16.528Z"
   },
   {
    "duration": 4,
    "start_time": "2022-12-02T04:50:27.603Z"
   },
   {
    "duration": 6,
    "start_time": "2022-12-02T04:50:38.159Z"
   },
   {
    "duration": 9,
    "start_time": "2022-12-02T04:51:26.615Z"
   },
   {
    "duration": 8,
    "start_time": "2022-12-02T04:51:36.385Z"
   },
   {
    "duration": 204,
    "start_time": "2022-12-02T04:52:52.656Z"
   },
   {
    "duration": 6,
    "start_time": "2022-12-02T04:53:28.828Z"
   },
   {
    "duration": 11,
    "start_time": "2022-12-02T04:55:20.419Z"
   },
   {
    "duration": 5,
    "start_time": "2022-12-02T04:55:46.410Z"
   },
   {
    "duration": 9,
    "start_time": "2022-12-02T04:56:05.131Z"
   },
   {
    "duration": 165,
    "start_time": "2022-12-02T04:56:56.593Z"
   },
   {
    "duration": 7,
    "start_time": "2022-12-02T04:57:17.213Z"
   },
   {
    "duration": 183,
    "start_time": "2022-12-02T04:57:34.525Z"
   },
   {
    "duration": 9,
    "start_time": "2022-12-02T04:57:44.462Z"
   },
   {
    "duration": 9,
    "start_time": "2022-12-02T04:58:15.565Z"
   },
   {
    "duration": 9,
    "start_time": "2022-12-02T04:58:27.256Z"
   },
   {
    "duration": 5,
    "start_time": "2022-12-02T05:03:08.015Z"
   },
   {
    "duration": 9,
    "start_time": "2022-12-02T05:03:32.181Z"
   },
   {
    "duration": 5,
    "start_time": "2022-12-02T05:03:44.242Z"
   },
   {
    "duration": 24,
    "start_time": "2022-12-02T05:04:06.993Z"
   },
   {
    "duration": 5,
    "start_time": "2022-12-02T05:04:46.663Z"
   },
   {
    "duration": 5,
    "start_time": "2022-12-02T05:05:27.880Z"
   },
   {
    "duration": 5,
    "start_time": "2022-12-02T05:05:57.931Z"
   },
   {
    "duration": 56,
    "start_time": "2022-12-02T05:06:37.980Z"
   },
   {
    "duration": 9,
    "start_time": "2022-12-02T05:06:56.083Z"
   },
   {
    "duration": 127,
    "start_time": "2022-12-02T05:07:10.220Z"
   },
   {
    "duration": 123,
    "start_time": "2022-12-02T05:07:33.652Z"
   },
   {
    "duration": 120,
    "start_time": "2022-12-02T05:18:53.914Z"
   },
   {
    "duration": 1261,
    "start_time": "2022-12-02T05:37:34.009Z"
   },
   {
    "duration": 74,
    "start_time": "2022-12-02T05:37:35.272Z"
   },
   {
    "duration": 27,
    "start_time": "2022-12-02T05:37:35.348Z"
   },
   {
    "duration": 17,
    "start_time": "2022-12-02T05:37:35.379Z"
   },
   {
    "duration": 12,
    "start_time": "2022-12-02T05:37:35.397Z"
   },
   {
    "duration": 11,
    "start_time": "2022-12-02T05:37:35.411Z"
   },
   {
    "duration": 31,
    "start_time": "2022-12-02T05:37:35.423Z"
   },
   {
    "duration": 32,
    "start_time": "2022-12-02T05:37:35.456Z"
   },
   {
    "duration": 19,
    "start_time": "2022-12-02T05:37:35.489Z"
   },
   {
    "duration": 30,
    "start_time": "2022-12-02T05:37:35.511Z"
   },
   {
    "duration": 10,
    "start_time": "2022-12-02T05:37:35.543Z"
   },
   {
    "duration": 31,
    "start_time": "2022-12-02T05:37:35.555Z"
   },
   {
    "duration": 49,
    "start_time": "2022-12-02T05:37:35.588Z"
   },
   {
    "duration": 12,
    "start_time": "2022-12-02T05:37:35.640Z"
   },
   {
    "duration": 6,
    "start_time": "2022-12-02T05:37:35.654Z"
   },
   {
    "duration": 18,
    "start_time": "2022-12-02T05:37:35.661Z"
   },
   {
    "duration": 39,
    "start_time": "2022-12-02T05:37:35.680Z"
   },
   {
    "duration": 11,
    "start_time": "2022-12-02T05:37:35.721Z"
   },
   {
    "duration": 19,
    "start_time": "2022-12-02T05:37:35.734Z"
   },
   {
    "duration": 38,
    "start_time": "2022-12-02T05:37:35.754Z"
   },
   {
    "duration": 24,
    "start_time": "2022-12-02T05:37:35.794Z"
   },
   {
    "duration": 19,
    "start_time": "2022-12-02T05:37:35.820Z"
   },
   {
    "duration": 9,
    "start_time": "2022-12-02T05:37:35.841Z"
   },
   {
    "duration": 7,
    "start_time": "2022-12-02T05:37:35.852Z"
   },
   {
    "duration": 9,
    "start_time": "2022-12-02T05:37:35.861Z"
   },
   {
    "duration": 8,
    "start_time": "2022-12-02T05:37:35.872Z"
   },
   {
    "duration": 42,
    "start_time": "2022-12-02T05:37:35.882Z"
   },
   {
    "duration": 8,
    "start_time": "2022-12-02T05:37:35.930Z"
   },
   {
    "duration": 19,
    "start_time": "2022-12-02T05:37:35.940Z"
   },
   {
    "duration": 12,
    "start_time": "2022-12-02T05:37:35.961Z"
   },
   {
    "duration": 41,
    "start_time": "2022-12-02T05:37:35.975Z"
   },
   {
    "duration": 12,
    "start_time": "2022-12-02T05:37:36.018Z"
   },
   {
    "duration": 33,
    "start_time": "2022-12-02T05:37:36.032Z"
   },
   {
    "duration": 11,
    "start_time": "2022-12-02T05:37:36.066Z"
   },
   {
    "duration": 23,
    "start_time": "2022-12-02T05:37:36.079Z"
   },
   {
    "duration": 30,
    "start_time": "2022-12-02T05:37:36.103Z"
   },
   {
    "duration": 11,
    "start_time": "2022-12-02T05:37:36.134Z"
   },
   {
    "duration": 18,
    "start_time": "2022-12-02T05:37:36.147Z"
   },
   {
    "duration": 8,
    "start_time": "2022-12-02T05:37:36.167Z"
   },
   {
    "duration": 42,
    "start_time": "2022-12-02T05:37:36.177Z"
   },
   {
    "duration": 266,
    "start_time": "2022-12-02T05:37:36.221Z"
   },
   {
    "duration": 144,
    "start_time": "2022-12-02T05:37:36.489Z"
   },
   {
    "duration": 7,
    "start_time": "2022-12-02T05:37:36.634Z"
   },
   {
    "duration": 9,
    "start_time": "2022-12-02T05:37:36.643Z"
   },
   {
    "duration": 6,
    "start_time": "2022-12-02T05:37:36.653Z"
   },
   {
    "duration": 7,
    "start_time": "2022-12-02T05:37:36.660Z"
   },
   {
    "duration": 152,
    "start_time": "2022-12-02T05:37:36.669Z"
   },
   {
    "duration": 125,
    "start_time": "2022-12-02T05:37:36.823Z"
   },
   {
    "duration": 117,
    "start_time": "2022-12-02T05:37:36.950Z"
   },
   {
    "duration": 15,
    "start_time": "2022-12-02T05:37:37.068Z"
   },
   {
    "duration": 191,
    "start_time": "2022-12-02T05:37:37.085Z"
   },
   {
    "duration": 9,
    "start_time": "2022-12-02T05:37:37.277Z"
   },
   {
    "duration": 30,
    "start_time": "2022-12-02T05:37:37.288Z"
   },
   {
    "duration": 137,
    "start_time": "2022-12-02T05:37:37.320Z"
   },
   {
    "duration": 12,
    "start_time": "2022-12-02T05:37:37.458Z"
   },
   {
    "duration": 124,
    "start_time": "2022-12-02T05:37:37.472Z"
   },
   {
    "duration": 20,
    "start_time": "2022-12-02T05:37:37.597Z"
   },
   {
    "duration": 121,
    "start_time": "2022-12-02T05:37:37.619Z"
   },
   {
    "duration": 11,
    "start_time": "2022-12-02T05:37:37.741Z"
   },
   {
    "duration": 134,
    "start_time": "2022-12-02T05:37:37.754Z"
   },
   {
    "duration": 35,
    "start_time": "2022-12-02T05:37:37.890Z"
   },
   {
    "duration": 9,
    "start_time": "2022-12-02T05:37:37.926Z"
   },
   {
    "duration": 132,
    "start_time": "2022-12-02T05:37:37.937Z"
   },
   {
    "duration": 8,
    "start_time": "2022-12-02T05:37:38.071Z"
   },
   {
    "duration": 11,
    "start_time": "2022-12-02T05:37:38.080Z"
   },
   {
    "duration": 23,
    "start_time": "2022-12-02T05:37:38.092Z"
   },
   {
    "duration": 5,
    "start_time": "2022-12-02T05:37:38.117Z"
   },
   {
    "duration": 17,
    "start_time": "2022-12-02T05:37:38.123Z"
   },
   {
    "duration": 17,
    "start_time": "2022-12-02T05:37:38.142Z"
   },
   {
    "duration": 14,
    "start_time": "2022-12-02T05:37:38.160Z"
   },
   {
    "duration": 142,
    "start_time": "2022-12-02T05:37:38.176Z"
   },
   {
    "duration": 6,
    "start_time": "2022-12-02T05:37:38.320Z"
   },
   {
    "duration": 14,
    "start_time": "2022-12-02T05:37:38.328Z"
   },
   {
    "duration": 14,
    "start_time": "2022-12-02T05:37:38.343Z"
   },
   {
    "duration": 11,
    "start_time": "2022-12-02T05:37:38.359Z"
   },
   {
    "duration": 45,
    "start_time": "2022-12-02T05:37:38.372Z"
   },
   {
    "duration": 9,
    "start_time": "2022-12-02T05:37:38.418Z"
   },
   {
    "duration": 19,
    "start_time": "2022-12-02T05:37:38.428Z"
   },
   {
    "duration": 16,
    "start_time": "2022-12-02T05:37:38.448Z"
   },
   {
    "duration": 7,
    "start_time": "2022-12-02T05:37:38.466Z"
   },
   {
    "duration": 10,
    "start_time": "2022-12-02T05:37:38.475Z"
   },
   {
    "duration": 4,
    "start_time": "2022-12-02T05:37:38.516Z"
   },
   {
    "duration": 11,
    "start_time": "2022-12-02T05:37:38.521Z"
   },
   {
    "duration": 12,
    "start_time": "2022-12-02T05:37:38.533Z"
   },
   {
    "duration": 7,
    "start_time": "2022-12-02T05:37:38.547Z"
   },
   {
    "duration": 10,
    "start_time": "2022-12-02T05:37:38.555Z"
   },
   {
    "duration": 10,
    "start_time": "2022-12-02T05:37:38.567Z"
   },
   {
    "duration": 46,
    "start_time": "2022-12-02T05:37:38.578Z"
   },
   {
    "duration": 29,
    "start_time": "2022-12-02T05:37:38.626Z"
   },
   {
    "duration": 31,
    "start_time": "2022-12-02T05:37:38.657Z"
   },
   {
    "duration": 55,
    "start_time": "2022-12-02T05:37:38.690Z"
   },
   {
    "duration": 14,
    "start_time": "2022-12-02T05:37:38.748Z"
   },
   {
    "duration": 11,
    "start_time": "2022-12-02T05:37:38.763Z"
   },
   {
    "duration": 8,
    "start_time": "2022-12-02T05:37:38.777Z"
   },
   {
    "duration": 41,
    "start_time": "2022-12-02T05:37:38.787Z"
   },
   {
    "duration": 14,
    "start_time": "2022-12-02T05:37:38.829Z"
   },
   {
    "duration": 5,
    "start_time": "2022-12-02T05:37:38.844Z"
   },
   {
    "duration": 19,
    "start_time": "2022-12-02T05:37:38.850Z"
   },
   {
    "duration": 7,
    "start_time": "2022-12-02T05:37:38.870Z"
   },
   {
    "duration": 7,
    "start_time": "2022-12-02T05:37:38.879Z"
   },
   {
    "duration": 37,
    "start_time": "2022-12-02T05:37:38.887Z"
   },
   {
    "duration": 2,
    "start_time": "2022-12-02T05:37:38.926Z"
   },
   {
    "duration": 23,
    "start_time": "2022-12-02T05:37:38.930Z"
   },
   {
    "duration": 5,
    "start_time": "2022-12-02T05:37:38.955Z"
   },
   {
    "duration": 11,
    "start_time": "2022-12-02T05:37:38.961Z"
   },
   {
    "duration": 7,
    "start_time": "2022-12-02T05:37:38.974Z"
   },
   {
    "duration": 14,
    "start_time": "2022-12-02T05:37:38.982Z"
   },
   {
    "duration": 136,
    "start_time": "2022-12-02T05:37:38.998Z"
   },
   {
    "duration": 136,
    "start_time": "2022-12-02T05:37:39.136Z"
   },
   {
    "duration": 8,
    "start_time": "2022-12-02T05:37:39.274Z"
   },
   {
    "duration": 11,
    "start_time": "2022-12-02T05:37:39.284Z"
   },
   {
    "duration": 26,
    "start_time": "2022-12-02T05:37:39.296Z"
   },
   {
    "duration": 8,
    "start_time": "2022-12-02T05:37:39.323Z"
   },
   {
    "duration": 93,
    "start_time": "2022-12-02T05:37:39.333Z"
   },
   {
    "duration": 400,
    "start_time": "2022-12-02T05:37:39.427Z"
   },
   {
    "duration": 8,
    "start_time": "2022-12-02T05:37:39.829Z"
   },
   {
    "duration": 115,
    "start_time": "2022-12-02T05:37:39.838Z"
   },
   {
    "duration": 7,
    "start_time": "2022-12-02T05:37:39.955Z"
   },
   {
    "duration": 19,
    "start_time": "2022-12-02T05:37:39.963Z"
   },
   {
    "duration": 42,
    "start_time": "2022-12-02T05:37:39.984Z"
   },
   {
    "duration": 4,
    "start_time": "2022-12-02T05:37:40.028Z"
   },
   {
    "duration": 16,
    "start_time": "2022-12-02T05:37:40.033Z"
   },
   {
    "duration": 8,
    "start_time": "2022-12-02T05:37:40.051Z"
   },
   {
    "duration": 25,
    "start_time": "2022-12-02T05:37:40.061Z"
   },
   {
    "duration": 11,
    "start_time": "2022-12-02T05:37:40.087Z"
   },
   {
    "duration": 15,
    "start_time": "2022-12-02T05:37:40.100Z"
   },
   {
    "duration": 132,
    "start_time": "2022-12-02T05:37:40.117Z"
   },
   {
    "duration": 6,
    "start_time": "2022-12-02T05:37:40.251Z"
   },
   {
    "duration": 13,
    "start_time": "2022-12-02T05:37:40.258Z"
   },
   {
    "duration": 6,
    "start_time": "2022-12-02T05:37:40.272Z"
   },
   {
    "duration": 10,
    "start_time": "2022-12-02T05:37:40.280Z"
   },
   {
    "duration": 207,
    "start_time": "2022-12-02T05:37:40.291Z"
   },
   {
    "duration": 6,
    "start_time": "2022-12-02T05:37:40.500Z"
   },
   {
    "duration": 192,
    "start_time": "2022-12-02T05:37:40.516Z"
   },
   {
    "duration": 8,
    "start_time": "2022-12-02T05:37:40.709Z"
   },
   {
    "duration": 10,
    "start_time": "2022-12-02T05:37:40.719Z"
   },
   {
    "duration": 12,
    "start_time": "2022-12-02T05:37:40.731Z"
   },
   {
    "duration": 9,
    "start_time": "2022-12-02T05:37:40.745Z"
   },
   {
    "duration": 12,
    "start_time": "2022-12-02T05:37:40.756Z"
   },
   {
    "duration": 8,
    "start_time": "2022-12-02T05:37:40.769Z"
   },
   {
    "duration": 39,
    "start_time": "2022-12-02T05:37:40.779Z"
   },
   {
    "duration": 5,
    "start_time": "2022-12-02T05:37:40.820Z"
   },
   {
    "duration": 8,
    "start_time": "2022-12-02T05:37:40.826Z"
   },
   {
    "duration": 5,
    "start_time": "2022-12-02T05:37:40.836Z"
   },
   {
    "duration": 10,
    "start_time": "2022-12-02T05:37:40.843Z"
   },
   {
    "duration": 144,
    "start_time": "2022-12-02T05:37:40.855Z"
   },
   {
    "duration": 133,
    "start_time": "2022-12-02T05:37:41.001Z"
   },
   {
    "duration": 114,
    "start_time": "2022-12-02T05:37:41.136Z"
   },
   {
    "duration": 10,
    "start_time": "2022-12-02T05:39:38.388Z"
   },
   {
    "duration": 4,
    "start_time": "2022-12-02T05:43:59.995Z"
   },
   {
    "duration": 1286,
    "start_time": "2022-12-02T05:44:07.800Z"
   },
   {
    "duration": 74,
    "start_time": "2022-12-02T05:44:09.088Z"
   },
   {
    "duration": 30,
    "start_time": "2022-12-02T05:44:09.163Z"
   },
   {
    "duration": 26,
    "start_time": "2022-12-02T05:44:09.195Z"
   },
   {
    "duration": 14,
    "start_time": "2022-12-02T05:44:09.224Z"
   },
   {
    "duration": 11,
    "start_time": "2022-12-02T05:44:09.240Z"
   },
   {
    "duration": 27,
    "start_time": "2022-12-02T05:44:09.253Z"
   },
   {
    "duration": 36,
    "start_time": "2022-12-02T05:44:09.281Z"
   },
   {
    "duration": 21,
    "start_time": "2022-12-02T05:44:09.319Z"
   },
   {
    "duration": 29,
    "start_time": "2022-12-02T05:44:09.342Z"
   },
   {
    "duration": 10,
    "start_time": "2022-12-02T05:44:09.373Z"
   },
   {
    "duration": 32,
    "start_time": "2022-12-02T05:44:09.385Z"
   },
   {
    "duration": 10,
    "start_time": "2022-12-02T05:44:09.419Z"
   },
   {
    "duration": 7,
    "start_time": "2022-12-02T05:44:09.433Z"
   },
   {
    "duration": 9,
    "start_time": "2022-12-02T05:44:09.442Z"
   },
   {
    "duration": 15,
    "start_time": "2022-12-02T05:44:09.453Z"
   },
   {
    "duration": 52,
    "start_time": "2022-12-02T05:44:09.469Z"
   },
   {
    "duration": 11,
    "start_time": "2022-12-02T05:44:09.523Z"
   },
   {
    "duration": 22,
    "start_time": "2022-12-02T05:44:09.535Z"
   },
   {
    "duration": 57,
    "start_time": "2022-12-02T05:44:09.559Z"
   },
   {
    "duration": 5,
    "start_time": "2022-12-02T05:44:09.618Z"
   },
   {
    "duration": 19,
    "start_time": "2022-12-02T05:44:09.624Z"
   },
   {
    "duration": 7,
    "start_time": "2022-12-02T05:44:09.644Z"
   },
   {
    "duration": 7,
    "start_time": "2022-12-02T05:44:09.653Z"
   },
   {
    "duration": 11,
    "start_time": "2022-12-02T05:44:09.661Z"
   },
   {
    "duration": 9,
    "start_time": "2022-12-02T05:44:09.674Z"
   },
   {
    "duration": 37,
    "start_time": "2022-12-02T05:44:09.685Z"
   },
   {
    "duration": 14,
    "start_time": "2022-12-02T05:44:09.724Z"
   },
   {
    "duration": 18,
    "start_time": "2022-12-02T05:44:09.740Z"
   },
   {
    "duration": 31,
    "start_time": "2022-12-02T05:44:09.759Z"
   },
   {
    "duration": 25,
    "start_time": "2022-12-02T05:44:09.792Z"
   },
   {
    "duration": 11,
    "start_time": "2022-12-02T05:44:09.818Z"
   },
   {
    "duration": 18,
    "start_time": "2022-12-02T05:44:09.830Z"
   },
   {
    "duration": 12,
    "start_time": "2022-12-02T05:44:09.850Z"
   },
   {
    "duration": 23,
    "start_time": "2022-12-02T05:44:09.864Z"
   },
   {
    "duration": 32,
    "start_time": "2022-12-02T05:44:09.889Z"
   },
   {
    "duration": 10,
    "start_time": "2022-12-02T05:44:09.923Z"
   },
   {
    "duration": 15,
    "start_time": "2022-12-02T05:44:09.935Z"
   },
   {
    "duration": 12,
    "start_time": "2022-12-02T05:44:09.951Z"
   },
   {
    "duration": 25,
    "start_time": "2022-12-02T05:44:09.964Z"
   },
   {
    "duration": 230,
    "start_time": "2022-12-02T05:44:09.994Z"
   },
   {
    "duration": 142,
    "start_time": "2022-12-02T05:44:10.225Z"
   },
   {
    "duration": 7,
    "start_time": "2022-12-02T05:44:10.369Z"
   },
   {
    "duration": 7,
    "start_time": "2022-12-02T05:44:10.377Z"
   },
   {
    "duration": 6,
    "start_time": "2022-12-02T05:44:10.386Z"
   },
   {
    "duration": 22,
    "start_time": "2022-12-02T05:44:10.394Z"
   },
   {
    "duration": 125,
    "start_time": "2022-12-02T05:44:10.417Z"
   },
   {
    "duration": 126,
    "start_time": "2022-12-02T05:44:10.544Z"
   },
   {
    "duration": 52,
    "start_time": "2022-12-02T05:44:10.672Z"
   },
   {
    "duration": 14,
    "start_time": "2022-12-02T05:44:10.726Z"
   },
   {
    "duration": 254,
    "start_time": "2022-12-02T05:44:10.742Z"
   },
   {
    "duration": 21,
    "start_time": "2022-12-02T05:44:10.998Z"
   },
   {
    "duration": 12,
    "start_time": "2022-12-02T05:44:11.021Z"
   },
   {
    "duration": 127,
    "start_time": "2022-12-02T05:44:11.035Z"
   },
   {
    "duration": 11,
    "start_time": "2022-12-02T05:44:11.164Z"
   },
   {
    "duration": 121,
    "start_time": "2022-12-02T05:44:11.177Z"
   },
   {
    "duration": 20,
    "start_time": "2022-12-02T05:44:11.300Z"
   },
   {
    "duration": 117,
    "start_time": "2022-12-02T05:44:11.322Z"
   },
   {
    "duration": 12,
    "start_time": "2022-12-02T05:44:11.440Z"
   },
   {
    "duration": 118,
    "start_time": "2022-12-02T05:44:11.454Z"
   },
   {
    "duration": 24,
    "start_time": "2022-12-02T05:44:11.574Z"
   },
   {
    "duration": 22,
    "start_time": "2022-12-02T05:44:11.600Z"
   },
   {
    "duration": 121,
    "start_time": "2022-12-02T05:44:11.624Z"
   },
   {
    "duration": 6,
    "start_time": "2022-12-02T05:44:11.747Z"
   },
   {
    "duration": 14,
    "start_time": "2022-12-02T05:44:11.755Z"
   },
   {
    "duration": 8,
    "start_time": "2022-12-02T05:44:11.770Z"
   },
   {
    "duration": 7,
    "start_time": "2022-12-02T05:44:11.779Z"
   },
   {
    "duration": 29,
    "start_time": "2022-12-02T05:44:11.787Z"
   },
   {
    "duration": 23,
    "start_time": "2022-12-02T05:44:11.817Z"
   },
   {
    "duration": 28,
    "start_time": "2022-12-02T05:44:11.841Z"
   },
   {
    "duration": 114,
    "start_time": "2022-12-02T05:44:11.871Z"
   },
   {
    "duration": 8,
    "start_time": "2022-12-02T05:44:11.987Z"
   },
   {
    "duration": 19,
    "start_time": "2022-12-02T05:44:11.996Z"
   },
   {
    "duration": 13,
    "start_time": "2022-12-02T05:44:12.017Z"
   },
   {
    "duration": 14,
    "start_time": "2022-12-02T05:44:12.032Z"
   },
   {
    "duration": 10,
    "start_time": "2022-12-02T05:44:12.048Z"
   },
   {
    "duration": 13,
    "start_time": "2022-12-02T05:44:12.060Z"
   },
   {
    "duration": 18,
    "start_time": "2022-12-02T05:44:12.075Z"
   },
   {
    "duration": 39,
    "start_time": "2022-12-02T05:44:12.094Z"
   },
   {
    "duration": 18,
    "start_time": "2022-12-02T05:44:12.135Z"
   },
   {
    "duration": 15,
    "start_time": "2022-12-02T05:44:12.155Z"
   },
   {
    "duration": 14,
    "start_time": "2022-12-02T05:44:12.172Z"
   },
   {
    "duration": 11,
    "start_time": "2022-12-02T05:44:12.187Z"
   },
   {
    "duration": 12,
    "start_time": "2022-12-02T05:44:12.200Z"
   },
   {
    "duration": 24,
    "start_time": "2022-12-02T05:44:12.215Z"
   },
   {
    "duration": 16,
    "start_time": "2022-12-02T05:44:12.241Z"
   },
   {
    "duration": 14,
    "start_time": "2022-12-02T05:44:12.258Z"
   },
   {
    "duration": 24,
    "start_time": "2022-12-02T05:44:12.273Z"
   },
   {
    "duration": 28,
    "start_time": "2022-12-02T05:44:12.299Z"
   },
   {
    "duration": 30,
    "start_time": "2022-12-02T05:44:12.328Z"
   },
   {
    "duration": 36,
    "start_time": "2022-12-02T05:44:12.359Z"
   },
   {
    "duration": 31,
    "start_time": "2022-12-02T05:44:12.397Z"
   },
   {
    "duration": 24,
    "start_time": "2022-12-02T05:44:12.430Z"
   },
   {
    "duration": 16,
    "start_time": "2022-12-02T05:44:12.456Z"
   },
   {
    "duration": 28,
    "start_time": "2022-12-02T05:44:12.473Z"
   },
   {
    "duration": 19,
    "start_time": "2022-12-02T05:44:12.502Z"
   },
   {
    "duration": 11,
    "start_time": "2022-12-02T05:44:12.522Z"
   },
   {
    "duration": 18,
    "start_time": "2022-12-02T05:44:12.535Z"
   },
   {
    "duration": 10,
    "start_time": "2022-12-02T05:44:12.555Z"
   },
   {
    "duration": 7,
    "start_time": "2022-12-02T05:44:12.567Z"
   },
   {
    "duration": 33,
    "start_time": "2022-12-02T05:44:12.575Z"
   },
   {
    "duration": 11,
    "start_time": "2022-12-02T05:44:12.610Z"
   },
   {
    "duration": 30,
    "start_time": "2022-12-02T05:44:12.622Z"
   },
   {
    "duration": 6,
    "start_time": "2022-12-02T05:44:12.654Z"
   },
   {
    "duration": 16,
    "start_time": "2022-12-02T05:44:12.662Z"
   },
   {
    "duration": 12,
    "start_time": "2022-12-02T05:44:12.680Z"
   },
   {
    "duration": 14,
    "start_time": "2022-12-02T05:44:12.694Z"
   },
   {
    "duration": 119,
    "start_time": "2022-12-02T05:44:12.710Z"
   },
   {
    "duration": 133,
    "start_time": "2022-12-02T05:44:12.831Z"
   },
   {
    "duration": 8,
    "start_time": "2022-12-02T05:44:12.966Z"
   },
   {
    "duration": 23,
    "start_time": "2022-12-02T05:44:12.976Z"
   },
   {
    "duration": 22,
    "start_time": "2022-12-02T05:44:13.001Z"
   },
   {
    "duration": 13,
    "start_time": "2022-12-02T05:44:13.025Z"
   },
   {
    "duration": 9,
    "start_time": "2022-12-02T05:44:13.039Z"
   },
   {
    "duration": 409,
    "start_time": "2022-12-02T05:44:13.049Z"
   },
   {
    "duration": 8,
    "start_time": "2022-12-02T05:44:13.460Z"
   },
   {
    "duration": 110,
    "start_time": "2022-12-02T05:44:13.470Z"
   },
   {
    "duration": 8,
    "start_time": "2022-12-02T05:44:13.582Z"
   },
   {
    "duration": 30,
    "start_time": "2022-12-02T05:44:13.591Z"
   },
   {
    "duration": 31,
    "start_time": "2022-12-02T05:44:13.622Z"
   },
   {
    "duration": 4,
    "start_time": "2022-12-02T05:44:13.655Z"
   },
   {
    "duration": 24,
    "start_time": "2022-12-02T05:44:13.666Z"
   },
   {
    "duration": 14,
    "start_time": "2022-12-02T05:44:13.692Z"
   },
   {
    "duration": 19,
    "start_time": "2022-12-02T05:44:13.708Z"
   },
   {
    "duration": 16,
    "start_time": "2022-12-02T05:44:13.728Z"
   },
   {
    "duration": 17,
    "start_time": "2022-12-02T05:44:13.745Z"
   },
   {
    "duration": 140,
    "start_time": "2022-12-02T05:44:13.763Z"
   },
   {
    "duration": 6,
    "start_time": "2022-12-02T05:44:13.904Z"
   },
   {
    "duration": 15,
    "start_time": "2022-12-02T05:44:13.916Z"
   },
   {
    "duration": 20,
    "start_time": "2022-12-02T05:44:13.932Z"
   },
   {
    "duration": 13,
    "start_time": "2022-12-02T05:44:13.953Z"
   },
   {
    "duration": 252,
    "start_time": "2022-12-02T05:44:13.968Z"
   },
   {
    "duration": 7,
    "start_time": "2022-12-02T05:44:14.222Z"
   },
   {
    "duration": 190,
    "start_time": "2022-12-02T05:44:14.231Z"
   },
   {
    "duration": 8,
    "start_time": "2022-12-02T05:44:14.422Z"
   },
   {
    "duration": 19,
    "start_time": "2022-12-02T05:44:14.431Z"
   },
   {
    "duration": 32,
    "start_time": "2022-12-02T05:44:14.451Z"
   },
   {
    "duration": 13,
    "start_time": "2022-12-02T05:44:14.485Z"
   },
   {
    "duration": 19,
    "start_time": "2022-12-02T05:44:14.499Z"
   },
   {
    "duration": 14,
    "start_time": "2022-12-02T05:44:14.519Z"
   },
   {
    "duration": 30,
    "start_time": "2022-12-02T05:44:14.534Z"
   },
   {
    "duration": 3,
    "start_time": "2022-12-02T05:44:14.566Z"
   },
   {
    "duration": 14,
    "start_time": "2022-12-02T05:44:14.571Z"
   },
   {
    "duration": 14,
    "start_time": "2022-12-02T05:44:14.586Z"
   },
   {
    "duration": 14,
    "start_time": "2022-12-02T05:44:14.601Z"
   },
   {
    "duration": 129,
    "start_time": "2022-12-02T05:44:14.617Z"
   },
   {
    "duration": 132,
    "start_time": "2022-12-02T05:44:14.748Z"
   },
   {
    "duration": 5,
    "start_time": "2022-12-02T05:44:14.882Z"
   },
   {
    "duration": 15,
    "start_time": "2022-12-02T06:09:02.068Z"
   },
   {
    "duration": 143,
    "start_time": "2022-12-02T06:58:12.868Z"
   },
   {
    "duration": 140,
    "start_time": "2022-12-02T07:00:33.435Z"
   },
   {
    "duration": 1461,
    "start_time": "2022-12-02T13:59:38.695Z"
   },
   {
    "duration": 143,
    "start_time": "2022-12-02T13:59:40.158Z"
   },
   {
    "duration": 78,
    "start_time": "2022-12-02T13:59:40.303Z"
   },
   {
    "duration": 19,
    "start_time": "2022-12-02T13:59:40.383Z"
   },
   {
    "duration": 19,
    "start_time": "2022-12-02T13:59:40.403Z"
   },
   {
    "duration": 43,
    "start_time": "2022-12-02T13:59:40.423Z"
   },
   {
    "duration": 23,
    "start_time": "2022-12-02T13:59:40.468Z"
   },
   {
    "duration": 60,
    "start_time": "2022-12-02T13:59:40.493Z"
   },
   {
    "duration": 33,
    "start_time": "2022-12-02T13:59:40.554Z"
   },
   {
    "duration": 37,
    "start_time": "2022-12-02T13:59:40.589Z"
   },
   {
    "duration": 22,
    "start_time": "2022-12-02T13:59:40.628Z"
   },
   {
    "duration": 16,
    "start_time": "2022-12-02T13:59:40.651Z"
   },
   {
    "duration": 39,
    "start_time": "2022-12-02T13:59:40.669Z"
   },
   {
    "duration": 19,
    "start_time": "2022-12-02T13:59:40.710Z"
   },
   {
    "duration": 26,
    "start_time": "2022-12-02T13:59:40.730Z"
   },
   {
    "duration": 30,
    "start_time": "2022-12-02T13:59:40.758Z"
   },
   {
    "duration": 71,
    "start_time": "2022-12-02T13:59:40.789Z"
   },
   {
    "duration": 12,
    "start_time": "2022-12-02T13:59:40.862Z"
   },
   {
    "duration": 31,
    "start_time": "2022-12-02T13:59:40.876Z"
   },
   {
    "duration": 51,
    "start_time": "2022-12-02T13:59:40.908Z"
   },
   {
    "duration": 4,
    "start_time": "2022-12-02T13:59:40.961Z"
   },
   {
    "duration": 29,
    "start_time": "2022-12-02T13:59:40.967Z"
   },
   {
    "duration": 19,
    "start_time": "2022-12-02T13:59:40.997Z"
   },
   {
    "duration": 46,
    "start_time": "2022-12-02T13:59:41.017Z"
   },
   {
    "duration": 26,
    "start_time": "2022-12-02T13:59:41.064Z"
   },
   {
    "duration": 12,
    "start_time": "2022-12-02T13:59:41.091Z"
   },
   {
    "duration": 22,
    "start_time": "2022-12-02T13:59:41.105Z"
   },
   {
    "duration": 20,
    "start_time": "2022-12-02T13:59:41.133Z"
   },
   {
    "duration": 32,
    "start_time": "2022-12-02T13:59:41.154Z"
   },
   {
    "duration": 16,
    "start_time": "2022-12-02T13:59:41.188Z"
   },
   {
    "duration": 28,
    "start_time": "2022-12-02T13:59:41.206Z"
   },
   {
    "duration": 46,
    "start_time": "2022-12-02T13:59:41.235Z"
   },
   {
    "duration": 31,
    "start_time": "2022-12-02T13:59:41.283Z"
   },
   {
    "duration": 34,
    "start_time": "2022-12-02T13:59:41.315Z"
   },
   {
    "duration": 42,
    "start_time": "2022-12-02T13:59:41.351Z"
   },
   {
    "duration": 23,
    "start_time": "2022-12-02T13:59:41.395Z"
   },
   {
    "duration": 11,
    "start_time": "2022-12-02T13:59:41.419Z"
   },
   {
    "duration": 17,
    "start_time": "2022-12-02T13:59:41.443Z"
   },
   {
    "duration": 28,
    "start_time": "2022-12-02T13:59:41.462Z"
   },
   {
    "duration": 24,
    "start_time": "2022-12-02T13:59:41.492Z"
   },
   {
    "duration": 216,
    "start_time": "2022-12-02T13:59:41.517Z"
   },
   {
    "duration": 155,
    "start_time": "2022-12-02T13:59:41.735Z"
   },
   {
    "duration": 6,
    "start_time": "2022-12-02T13:59:41.892Z"
   },
   {
    "duration": 28,
    "start_time": "2022-12-02T13:59:41.900Z"
   },
   {
    "duration": 45,
    "start_time": "2022-12-02T13:59:41.929Z"
   },
   {
    "duration": 18,
    "start_time": "2022-12-02T13:59:41.976Z"
   },
   {
    "duration": 163,
    "start_time": "2022-12-02T13:59:41.996Z"
   },
   {
    "duration": 139,
    "start_time": "2022-12-02T13:59:42.160Z"
   },
   {
    "duration": 55,
    "start_time": "2022-12-02T13:59:42.301Z"
   },
   {
    "duration": 15,
    "start_time": "2022-12-02T13:59:42.358Z"
   },
   {
    "duration": 344,
    "start_time": "2022-12-02T13:59:42.375Z"
   },
   {
    "duration": 30,
    "start_time": "2022-12-02T13:59:42.722Z"
   },
   {
    "duration": 33,
    "start_time": "2022-12-02T13:59:42.754Z"
   },
   {
    "duration": 144,
    "start_time": "2022-12-02T13:59:42.789Z"
   },
   {
    "duration": 19,
    "start_time": "2022-12-02T13:59:42.935Z"
   },
   {
    "duration": 134,
    "start_time": "2022-12-02T13:59:42.956Z"
   },
   {
    "duration": 16,
    "start_time": "2022-12-02T13:59:43.092Z"
   },
   {
    "duration": 142,
    "start_time": "2022-12-02T13:59:43.110Z"
   },
   {
    "duration": 13,
    "start_time": "2022-12-02T13:59:43.254Z"
   },
   {
    "duration": 125,
    "start_time": "2022-12-02T13:59:43.269Z"
   },
   {
    "duration": 25,
    "start_time": "2022-12-02T13:59:43.395Z"
   },
   {
    "duration": 31,
    "start_time": "2022-12-02T13:59:43.423Z"
   },
   {
    "duration": 134,
    "start_time": "2022-12-02T13:59:43.457Z"
   },
   {
    "duration": 7,
    "start_time": "2022-12-02T13:59:43.592Z"
   },
   {
    "duration": 11,
    "start_time": "2022-12-02T13:59:43.600Z"
   },
   {
    "duration": 28,
    "start_time": "2022-12-02T13:59:43.613Z"
   },
   {
    "duration": 17,
    "start_time": "2022-12-02T13:59:43.643Z"
   },
   {
    "duration": 15,
    "start_time": "2022-12-02T13:59:43.661Z"
   },
   {
    "duration": 26,
    "start_time": "2022-12-02T13:59:43.679Z"
   },
   {
    "duration": 8,
    "start_time": "2022-12-02T13:59:43.707Z"
   },
   {
    "duration": 133,
    "start_time": "2022-12-02T13:59:43.717Z"
   },
   {
    "duration": 6,
    "start_time": "2022-12-02T13:59:43.852Z"
   },
   {
    "duration": 23,
    "start_time": "2022-12-02T13:59:43.860Z"
   },
   {
    "duration": 13,
    "start_time": "2022-12-02T13:59:43.885Z"
   },
   {
    "duration": 15,
    "start_time": "2022-12-02T13:59:43.899Z"
   },
   {
    "duration": 11,
    "start_time": "2022-12-02T13:59:43.916Z"
   },
   {
    "duration": 17,
    "start_time": "2022-12-02T13:59:43.937Z"
   },
   {
    "duration": 52,
    "start_time": "2022-12-02T13:59:43.956Z"
   },
   {
    "duration": 16,
    "start_time": "2022-12-02T13:59:44.010Z"
   },
   {
    "duration": 18,
    "start_time": "2022-12-02T13:59:44.028Z"
   },
   {
    "duration": 20,
    "start_time": "2022-12-02T13:59:44.048Z"
   },
   {
    "duration": 11,
    "start_time": "2022-12-02T13:59:44.074Z"
   },
   {
    "duration": 17,
    "start_time": "2022-12-02T13:59:44.086Z"
   },
   {
    "duration": 22,
    "start_time": "2022-12-02T13:59:44.105Z"
   },
   {
    "duration": 36,
    "start_time": "2022-12-02T13:59:44.129Z"
   },
   {
    "duration": 12,
    "start_time": "2022-12-02T13:59:44.166Z"
   },
   {
    "duration": 17,
    "start_time": "2022-12-02T13:59:44.180Z"
   },
   {
    "duration": 22,
    "start_time": "2022-12-02T13:59:44.199Z"
   },
   {
    "duration": 32,
    "start_time": "2022-12-02T13:59:44.222Z"
   },
   {
    "duration": 32,
    "start_time": "2022-12-02T13:59:44.256Z"
   },
   {
    "duration": 57,
    "start_time": "2022-12-02T13:59:44.290Z"
   },
   {
    "duration": 15,
    "start_time": "2022-12-02T13:59:44.354Z"
   },
   {
    "duration": 17,
    "start_time": "2022-12-02T13:59:44.371Z"
   },
   {
    "duration": 35,
    "start_time": "2022-12-02T13:59:44.390Z"
   },
   {
    "duration": 31,
    "start_time": "2022-12-02T13:59:44.427Z"
   },
   {
    "duration": 11,
    "start_time": "2022-12-02T13:59:44.459Z"
   },
   {
    "duration": 33,
    "start_time": "2022-12-02T13:59:44.472Z"
   },
   {
    "duration": 26,
    "start_time": "2022-12-02T13:59:44.507Z"
   },
   {
    "duration": 22,
    "start_time": "2022-12-02T13:59:44.537Z"
   },
   {
    "duration": 9,
    "start_time": "2022-12-02T13:59:44.561Z"
   },
   {
    "duration": 28,
    "start_time": "2022-12-02T13:59:44.572Z"
   },
   {
    "duration": 10,
    "start_time": "2022-12-02T13:59:44.602Z"
   },
   {
    "duration": 19,
    "start_time": "2022-12-02T13:59:44.613Z"
   },
   {
    "duration": 26,
    "start_time": "2022-12-02T13:59:44.634Z"
   },
   {
    "duration": 15,
    "start_time": "2022-12-02T13:59:44.662Z"
   },
   {
    "duration": 12,
    "start_time": "2022-12-02T13:59:44.679Z"
   },
   {
    "duration": 24,
    "start_time": "2022-12-02T13:59:44.693Z"
   },
   {
    "duration": 134,
    "start_time": "2022-12-02T13:59:44.719Z"
   },
   {
    "duration": 140,
    "start_time": "2022-12-02T13:59:44.855Z"
   },
   {
    "duration": 9,
    "start_time": "2022-12-02T13:59:44.996Z"
   },
   {
    "duration": 26,
    "start_time": "2022-12-02T13:59:45.006Z"
   },
   {
    "duration": 32,
    "start_time": "2022-12-02T13:59:45.033Z"
   },
   {
    "duration": 7,
    "start_time": "2022-12-02T13:59:45.067Z"
   },
   {
    "duration": 16,
    "start_time": "2022-12-02T13:59:45.075Z"
   },
   {
    "duration": 407,
    "start_time": "2022-12-02T13:59:45.092Z"
   },
   {
    "duration": 8,
    "start_time": "2022-12-02T13:59:45.501Z"
   },
   {
    "duration": 165,
    "start_time": "2022-12-02T13:59:45.510Z"
   },
   {
    "duration": 7,
    "start_time": "2022-12-02T13:59:45.677Z"
   },
   {
    "duration": 46,
    "start_time": "2022-12-02T13:59:45.687Z"
   },
   {
    "duration": 51,
    "start_time": "2022-12-02T13:59:45.734Z"
   },
   {
    "duration": 30,
    "start_time": "2022-12-02T13:59:45.786Z"
   },
   {
    "duration": 64,
    "start_time": "2022-12-02T13:59:45.817Z"
   },
   {
    "duration": 27,
    "start_time": "2022-12-02T13:59:45.884Z"
   },
   {
    "duration": 43,
    "start_time": "2022-12-02T13:59:45.913Z"
   },
   {
    "duration": 39,
    "start_time": "2022-12-02T13:59:45.958Z"
   },
   {
    "duration": 41,
    "start_time": "2022-12-02T13:59:45.998Z"
   },
   {
    "duration": 209,
    "start_time": "2022-12-02T13:59:46.042Z"
   },
   {
    "duration": 7,
    "start_time": "2022-12-02T13:59:46.253Z"
   },
   {
    "duration": 44,
    "start_time": "2022-12-02T13:59:46.261Z"
   },
   {
    "duration": 47,
    "start_time": "2022-12-02T13:59:46.307Z"
   },
   {
    "duration": 27,
    "start_time": "2022-12-02T13:59:46.356Z"
   },
   {
    "duration": 304,
    "start_time": "2022-12-02T13:59:46.385Z"
   },
   {
    "duration": 7,
    "start_time": "2022-12-02T13:59:46.692Z"
   },
   {
    "duration": 251,
    "start_time": "2022-12-02T13:59:46.701Z"
   },
   {
    "duration": 8,
    "start_time": "2022-12-02T13:59:46.954Z"
   },
   {
    "duration": 25,
    "start_time": "2022-12-02T13:59:46.964Z"
   },
   {
    "duration": 38,
    "start_time": "2022-12-02T13:59:46.990Z"
   },
   {
    "duration": 43,
    "start_time": "2022-12-02T13:59:47.030Z"
   },
   {
    "duration": 31,
    "start_time": "2022-12-02T13:59:47.075Z"
   },
   {
    "duration": 48,
    "start_time": "2022-12-02T13:59:47.107Z"
   },
   {
    "duration": 74,
    "start_time": "2022-12-02T13:59:47.157Z"
   },
   {
    "duration": 24,
    "start_time": "2022-12-02T13:59:47.233Z"
   },
   {
    "duration": 38,
    "start_time": "2022-12-02T13:59:47.259Z"
   },
   {
    "duration": 33,
    "start_time": "2022-12-02T13:59:47.299Z"
   },
   {
    "duration": 41,
    "start_time": "2022-12-02T13:59:47.333Z"
   },
   {
    "duration": 181,
    "start_time": "2022-12-02T13:59:47.375Z"
   },
   {
    "duration": 136,
    "start_time": "2022-12-02T13:59:47.558Z"
   },
   {
    "duration": 6,
    "start_time": "2022-12-02T13:59:47.696Z"
   },
   {
    "duration": 29,
    "start_time": "2022-12-02T13:59:47.704Z"
   },
   {
    "duration": 1236,
    "start_time": "2022-12-03T09:04:18.357Z"
   },
   {
    "duration": 147,
    "start_time": "2022-12-03T09:04:19.594Z"
   },
   {
    "duration": 75,
    "start_time": "2022-12-03T09:04:19.743Z"
   },
   {
    "duration": 18,
    "start_time": "2022-12-03T09:04:19.819Z"
   },
   {
    "duration": 20,
    "start_time": "2022-12-03T09:04:19.838Z"
   },
   {
    "duration": 16,
    "start_time": "2022-12-03T09:04:19.860Z"
   },
   {
    "duration": 25,
    "start_time": "2022-12-03T09:04:19.878Z"
   },
   {
    "duration": 45,
    "start_time": "2022-12-03T09:04:19.904Z"
   },
   {
    "duration": 23,
    "start_time": "2022-12-03T09:04:19.950Z"
   },
   {
    "duration": 49,
    "start_time": "2022-12-03T09:04:19.977Z"
   },
   {
    "duration": 10,
    "start_time": "2022-12-03T09:04:20.028Z"
   },
   {
    "duration": 23,
    "start_time": "2022-12-03T09:04:20.040Z"
   },
   {
    "duration": 25,
    "start_time": "2022-12-03T09:04:20.065Z"
   },
   {
    "duration": 17,
    "start_time": "2022-12-03T09:04:20.092Z"
   },
   {
    "duration": 18,
    "start_time": "2022-12-03T09:04:20.111Z"
   },
   {
    "duration": 26,
    "start_time": "2022-12-03T09:04:20.130Z"
   },
   {
    "duration": 59,
    "start_time": "2022-12-03T09:04:20.157Z"
   },
   {
    "duration": 27,
    "start_time": "2022-12-03T09:04:20.218Z"
   },
   {
    "duration": 21,
    "start_time": "2022-12-03T09:04:20.246Z"
   },
   {
    "duration": 35,
    "start_time": "2022-12-03T09:04:20.269Z"
   },
   {
    "duration": 5,
    "start_time": "2022-12-03T09:04:20.306Z"
   },
   {
    "duration": 28,
    "start_time": "2022-12-03T09:04:20.313Z"
   },
   {
    "duration": 6,
    "start_time": "2022-12-03T09:04:20.343Z"
   },
   {
    "duration": 11,
    "start_time": "2022-12-03T09:04:20.351Z"
   },
   {
    "duration": 8,
    "start_time": "2022-12-03T09:04:20.363Z"
   },
   {
    "duration": 7,
    "start_time": "2022-12-03T09:04:20.373Z"
   },
   {
    "duration": 14,
    "start_time": "2022-12-03T09:04:20.382Z"
   },
   {
    "duration": 12,
    "start_time": "2022-12-03T09:04:20.400Z"
   },
   {
    "duration": 21,
    "start_time": "2022-12-03T09:04:20.413Z"
   },
   {
    "duration": 10,
    "start_time": "2022-12-03T09:04:20.436Z"
   },
   {
    "duration": 17,
    "start_time": "2022-12-03T09:04:20.448Z"
   },
   {
    "duration": 15,
    "start_time": "2022-12-03T09:04:20.466Z"
   },
   {
    "duration": 17,
    "start_time": "2022-12-03T09:04:20.482Z"
   },
   {
    "duration": 19,
    "start_time": "2022-12-03T09:04:20.500Z"
   },
   {
    "duration": 26,
    "start_time": "2022-12-03T09:04:20.520Z"
   },
   {
    "duration": 20,
    "start_time": "2022-12-03T09:04:20.548Z"
   },
   {
    "duration": 11,
    "start_time": "2022-12-03T09:04:20.570Z"
   },
   {
    "duration": 16,
    "start_time": "2022-12-03T09:04:20.583Z"
   },
   {
    "duration": 27,
    "start_time": "2022-12-03T09:04:20.600Z"
   },
   {
    "duration": 7,
    "start_time": "2022-12-03T09:04:20.629Z"
   },
   {
    "duration": 200,
    "start_time": "2022-12-03T09:04:20.638Z"
   },
   {
    "duration": 134,
    "start_time": "2022-12-03T09:04:20.839Z"
   },
   {
    "duration": 6,
    "start_time": "2022-12-03T09:04:20.975Z"
   },
   {
    "duration": 17,
    "start_time": "2022-12-03T09:04:20.982Z"
   },
   {
    "duration": 4,
    "start_time": "2022-12-03T09:04:21.001Z"
   },
   {
    "duration": 18,
    "start_time": "2022-12-03T09:04:21.006Z"
   },
   {
    "duration": 130,
    "start_time": "2022-12-03T09:04:21.026Z"
   },
   {
    "duration": 132,
    "start_time": "2022-12-03T09:04:21.158Z"
   },
   {
    "duration": 48,
    "start_time": "2022-12-03T09:04:21.292Z"
   },
   {
    "duration": 15,
    "start_time": "2022-12-03T09:04:21.342Z"
   },
   {
    "duration": 251,
    "start_time": "2022-12-03T09:04:21.358Z"
   },
   {
    "duration": 14,
    "start_time": "2022-12-03T09:04:21.611Z"
   },
   {
    "duration": 12,
    "start_time": "2022-12-03T09:04:21.627Z"
   },
   {
    "duration": 131,
    "start_time": "2022-12-03T09:04:21.641Z"
   },
   {
    "duration": 11,
    "start_time": "2022-12-03T09:04:21.774Z"
   },
   {
    "duration": 125,
    "start_time": "2022-12-03T09:04:21.787Z"
   },
   {
    "duration": 14,
    "start_time": "2022-12-03T09:04:21.914Z"
   },
   {
    "duration": 119,
    "start_time": "2022-12-03T09:04:21.929Z"
   },
   {
    "duration": 9,
    "start_time": "2022-12-03T09:04:22.050Z"
   },
   {
    "duration": 114,
    "start_time": "2022-12-03T09:04:22.061Z"
   },
   {
    "duration": 24,
    "start_time": "2022-12-03T09:04:22.177Z"
   },
   {
    "duration": 23,
    "start_time": "2022-12-03T09:04:22.203Z"
   },
   {
    "duration": 121,
    "start_time": "2022-12-03T09:04:22.228Z"
   },
   {
    "duration": 7,
    "start_time": "2022-12-03T09:04:22.351Z"
   },
   {
    "duration": 11,
    "start_time": "2022-12-03T09:04:22.359Z"
   },
   {
    "duration": 6,
    "start_time": "2022-12-03T09:04:22.372Z"
   },
   {
    "duration": 6,
    "start_time": "2022-12-03T09:04:22.379Z"
   },
   {
    "duration": 41,
    "start_time": "2022-12-03T09:04:22.386Z"
   },
   {
    "duration": 15,
    "start_time": "2022-12-03T09:04:22.429Z"
   },
   {
    "duration": 11,
    "start_time": "2022-12-03T09:04:22.445Z"
   },
   {
    "duration": 125,
    "start_time": "2022-12-03T09:04:22.458Z"
   },
   {
    "duration": 7,
    "start_time": "2022-12-03T09:04:22.585Z"
   },
   {
    "duration": 34,
    "start_time": "2022-12-03T09:04:22.593Z"
   },
   {
    "duration": 12,
    "start_time": "2022-12-03T09:04:22.628Z"
   },
   {
    "duration": 13,
    "start_time": "2022-12-03T09:04:22.642Z"
   },
   {
    "duration": 7,
    "start_time": "2022-12-03T09:04:22.656Z"
   },
   {
    "duration": 8,
    "start_time": "2022-12-03T09:04:22.665Z"
   },
   {
    "duration": 16,
    "start_time": "2022-12-03T09:04:22.675Z"
   },
   {
    "duration": 33,
    "start_time": "2022-12-03T09:04:22.693Z"
   },
   {
    "duration": 7,
    "start_time": "2022-12-03T09:04:22.727Z"
   },
   {
    "duration": 8,
    "start_time": "2022-12-03T09:04:22.735Z"
   },
   {
    "duration": 4,
    "start_time": "2022-12-03T09:04:22.749Z"
   },
   {
    "duration": 11,
    "start_time": "2022-12-03T09:04:22.754Z"
   },
   {
    "duration": 9,
    "start_time": "2022-12-03T09:04:22.766Z"
   },
   {
    "duration": 10,
    "start_time": "2022-12-03T09:04:22.777Z"
   },
   {
    "duration": 33,
    "start_time": "2022-12-03T09:04:22.789Z"
   },
   {
    "duration": 12,
    "start_time": "2022-12-03T09:04:22.823Z"
   },
   {
    "duration": 24,
    "start_time": "2022-12-03T09:04:22.837Z"
   },
   {
    "duration": 26,
    "start_time": "2022-12-03T09:04:22.863Z"
   },
   {
    "duration": 55,
    "start_time": "2022-12-03T09:04:22.891Z"
   },
   {
    "duration": 33,
    "start_time": "2022-12-03T09:04:22.947Z"
   },
   {
    "duration": 13,
    "start_time": "2022-12-03T09:04:22.981Z"
   },
   {
    "duration": 29,
    "start_time": "2022-12-03T09:04:22.995Z"
   },
   {
    "duration": 7,
    "start_time": "2022-12-03T09:04:23.025Z"
   },
   {
    "duration": 15,
    "start_time": "2022-12-03T09:04:23.034Z"
   },
   {
    "duration": 13,
    "start_time": "2022-12-03T09:04:23.050Z"
   },
   {
    "duration": 5,
    "start_time": "2022-12-03T09:04:23.065Z"
   },
   {
    "duration": 23,
    "start_time": "2022-12-03T09:04:23.071Z"
   },
   {
    "duration": 9,
    "start_time": "2022-12-03T09:04:23.096Z"
   },
   {
    "duration": 6,
    "start_time": "2022-12-03T09:04:23.121Z"
   },
   {
    "duration": 25,
    "start_time": "2022-12-03T09:04:23.129Z"
   },
   {
    "duration": 3,
    "start_time": "2022-12-03T09:04:23.155Z"
   },
   {
    "duration": 17,
    "start_time": "2022-12-03T09:04:23.160Z"
   },
   {
    "duration": 16,
    "start_time": "2022-12-03T09:04:23.179Z"
   },
   {
    "duration": 9,
    "start_time": "2022-12-03T09:04:23.197Z"
   },
   {
    "duration": 13,
    "start_time": "2022-12-03T09:04:23.207Z"
   },
   {
    "duration": 22,
    "start_time": "2022-12-03T09:04:23.221Z"
   },
   {
    "duration": 104,
    "start_time": "2022-12-03T09:04:23.244Z"
   },
   {
    "duration": 126,
    "start_time": "2022-12-03T09:04:23.349Z"
   },
   {
    "duration": 8,
    "start_time": "2022-12-03T09:04:23.477Z"
   },
   {
    "duration": 7,
    "start_time": "2022-12-03T09:04:23.487Z"
   },
   {
    "duration": 26,
    "start_time": "2022-12-03T09:04:23.495Z"
   },
   {
    "duration": 2,
    "start_time": "2022-12-03T09:04:23.523Z"
   },
   {
    "duration": 8,
    "start_time": "2022-12-03T09:04:23.527Z"
   },
   {
    "duration": 384,
    "start_time": "2022-12-03T09:04:23.537Z"
   },
   {
    "duration": 8,
    "start_time": "2022-12-03T09:04:23.922Z"
   },
   {
    "duration": 108,
    "start_time": "2022-12-03T09:04:23.932Z"
   },
   {
    "duration": 8,
    "start_time": "2022-12-03T09:04:24.042Z"
   },
   {
    "duration": 22,
    "start_time": "2022-12-03T09:04:24.051Z"
   },
   {
    "duration": 20,
    "start_time": "2022-12-03T09:04:24.075Z"
   },
   {
    "duration": 4,
    "start_time": "2022-12-03T09:04:24.096Z"
   },
   {
    "duration": 29,
    "start_time": "2022-12-03T09:04:24.120Z"
   },
   {
    "duration": 10,
    "start_time": "2022-12-03T09:04:24.151Z"
   },
   {
    "duration": 9,
    "start_time": "2022-12-03T09:04:24.162Z"
   },
   {
    "duration": 9,
    "start_time": "2022-12-03T09:04:24.173Z"
   },
   {
    "duration": 7,
    "start_time": "2022-12-03T09:04:24.184Z"
   },
   {
    "duration": 136,
    "start_time": "2022-12-03T09:04:24.193Z"
   },
   {
    "duration": 7,
    "start_time": "2022-12-03T09:04:24.331Z"
   },
   {
    "duration": 14,
    "start_time": "2022-12-03T09:04:24.340Z"
   },
   {
    "duration": 7,
    "start_time": "2022-12-03T09:04:24.355Z"
   },
   {
    "duration": 11,
    "start_time": "2022-12-03T09:04:24.363Z"
   },
   {
    "duration": 258,
    "start_time": "2022-12-03T09:04:24.375Z"
   },
   {
    "duration": 7,
    "start_time": "2022-12-03T09:04:24.635Z"
   },
   {
    "duration": 198,
    "start_time": "2022-12-03T09:04:24.644Z"
   },
   {
    "duration": 8,
    "start_time": "2022-12-03T09:04:24.844Z"
   },
   {
    "duration": 6,
    "start_time": "2022-12-03T09:04:24.854Z"
   },
   {
    "duration": 10,
    "start_time": "2022-12-03T09:04:24.862Z"
   },
   {
    "duration": 6,
    "start_time": "2022-12-03T09:04:24.874Z"
   },
   {
    "duration": 9,
    "start_time": "2022-12-03T09:04:24.882Z"
   },
   {
    "duration": 28,
    "start_time": "2022-12-03T09:04:24.893Z"
   },
   {
    "duration": 28,
    "start_time": "2022-12-03T09:04:24.923Z"
   },
   {
    "duration": 4,
    "start_time": "2022-12-03T09:04:24.952Z"
   },
   {
    "duration": 13,
    "start_time": "2022-12-03T09:04:24.958Z"
   },
   {
    "duration": 7,
    "start_time": "2022-12-03T09:04:24.972Z"
   },
   {
    "duration": 29,
    "start_time": "2022-12-03T09:04:24.980Z"
   },
   {
    "duration": 130,
    "start_time": "2022-12-03T09:04:25.010Z"
   },
   {
    "duration": 125,
    "start_time": "2022-12-03T09:04:25.142Z"
   },
   {
    "duration": 5,
    "start_time": "2022-12-03T09:04:25.268Z"
   },
   {
    "duration": 15,
    "start_time": "2022-12-03T09:04:25.274Z"
   },
   {
    "duration": 165,
    "start_time": "2022-12-03T09:13:58.552Z"
   },
   {
    "duration": 104,
    "start_time": "2022-12-03T09:14:08.076Z"
   },
   {
    "duration": 89,
    "start_time": "2022-12-03T09:34:03.462Z"
   },
   {
    "duration": 13,
    "start_time": "2022-12-03T10:04:17.450Z"
   },
   {
    "duration": 101,
    "start_time": "2022-12-03T10:12:06.156Z"
   },
   {
    "duration": 15,
    "start_time": "2022-12-03T10:14:14.056Z"
   },
   {
    "duration": 9,
    "start_time": "2022-12-03T10:15:08.313Z"
   },
   {
    "duration": 75,
    "start_time": "2022-12-03T10:15:38.433Z"
   },
   {
    "duration": 23,
    "start_time": "2022-12-03T10:16:10.478Z"
   },
   {
    "duration": 26,
    "start_time": "2022-12-03T10:16:21.257Z"
   },
   {
    "duration": 27,
    "start_time": "2022-12-03T10:16:58.958Z"
   },
   {
    "duration": 76,
    "start_time": "2022-12-03T10:17:01.409Z"
   },
   {
    "duration": 36,
    "start_time": "2022-12-03T10:19:19.260Z"
   },
   {
    "duration": 45,
    "start_time": "2022-12-03T10:19:32.611Z"
   },
   {
    "duration": 27,
    "start_time": "2022-12-03T10:19:36.435Z"
   },
   {
    "duration": 91,
    "start_time": "2022-12-03T10:19:41.284Z"
   },
   {
    "duration": 134,
    "start_time": "2022-12-03T10:19:54.459Z"
   },
   {
    "duration": 108,
    "start_time": "2022-12-03T10:20:04.960Z"
   },
   {
    "duration": 95,
    "start_time": "2022-12-03T10:20:08.410Z"
   },
   {
    "duration": 26,
    "start_time": "2022-12-03T10:31:08.240Z"
   },
   {
    "duration": 20,
    "start_time": "2022-12-03T10:31:42.992Z"
   },
   {
    "duration": 31,
    "start_time": "2022-12-03T10:32:53.166Z"
   },
   {
    "duration": 31,
    "start_time": "2022-12-03T10:33:03.566Z"
   },
   {
    "duration": 32,
    "start_time": "2022-12-03T10:33:53.243Z"
   },
   {
    "duration": 15,
    "start_time": "2022-12-03T10:34:01.392Z"
   },
   {
    "duration": 33,
    "start_time": "2022-12-03T10:44:13.147Z"
   },
   {
    "duration": 5,
    "start_time": "2022-12-03T10:47:44.799Z"
   },
   {
    "duration": 5,
    "start_time": "2022-12-03T10:47:46.749Z"
   },
   {
    "duration": 1376,
    "start_time": "2022-12-04T00:01:26.637Z"
   },
   {
    "duration": 137,
    "start_time": "2022-12-04T00:01:28.015Z"
   },
   {
    "duration": 96,
    "start_time": "2022-12-04T00:01:28.153Z"
   },
   {
    "duration": 18,
    "start_time": "2022-12-04T00:01:28.251Z"
   },
   {
    "duration": 12,
    "start_time": "2022-12-04T00:01:28.271Z"
   },
   {
    "duration": 11,
    "start_time": "2022-12-04T00:01:28.285Z"
   },
   {
    "duration": 13,
    "start_time": "2022-12-04T00:01:28.297Z"
   },
   {
    "duration": 26,
    "start_time": "2022-12-04T00:01:28.311Z"
   },
   {
    "duration": 21,
    "start_time": "2022-12-04T00:01:28.339Z"
   },
   {
    "duration": 29,
    "start_time": "2022-12-04T00:01:28.361Z"
   },
   {
    "duration": 31,
    "start_time": "2022-12-04T00:01:28.392Z"
   },
   {
    "duration": 7,
    "start_time": "2022-12-04T00:01:28.425Z"
   },
   {
    "duration": 7,
    "start_time": "2022-12-04T00:01:28.434Z"
   },
   {
    "duration": 8,
    "start_time": "2022-12-04T00:01:28.444Z"
   },
   {
    "duration": 5,
    "start_time": "2022-12-04T00:01:28.454Z"
   },
   {
    "duration": 12,
    "start_time": "2022-12-04T00:01:28.461Z"
   },
   {
    "duration": 71,
    "start_time": "2022-12-04T00:01:28.475Z"
   },
   {
    "duration": 10,
    "start_time": "2022-12-04T00:01:28.548Z"
   },
   {
    "duration": 16,
    "start_time": "2022-12-04T00:01:28.560Z"
   },
   {
    "duration": 56,
    "start_time": "2022-12-04T00:01:28.578Z"
   },
   {
    "duration": 5,
    "start_time": "2022-12-04T00:01:28.636Z"
   },
   {
    "duration": 15,
    "start_time": "2022-12-04T00:01:28.642Z"
   },
   {
    "duration": 6,
    "start_time": "2022-12-04T00:01:28.659Z"
   },
   {
    "duration": 5,
    "start_time": "2022-12-04T00:01:28.666Z"
   },
   {
    "duration": 12,
    "start_time": "2022-12-04T00:01:28.673Z"
   },
   {
    "duration": 31,
    "start_time": "2022-12-04T00:01:28.687Z"
   },
   {
    "duration": 6,
    "start_time": "2022-12-04T00:01:28.719Z"
   },
   {
    "duration": 18,
    "start_time": "2022-12-04T00:01:28.726Z"
   },
   {
    "duration": 16,
    "start_time": "2022-12-04T00:01:28.745Z"
   },
   {
    "duration": 9,
    "start_time": "2022-12-04T00:01:28.762Z"
   },
   {
    "duration": 9,
    "start_time": "2022-12-04T00:01:28.772Z"
   },
   {
    "duration": 10,
    "start_time": "2022-12-04T00:01:28.783Z"
   },
   {
    "duration": 29,
    "start_time": "2022-12-04T00:01:28.794Z"
   },
   {
    "duration": 69,
    "start_time": "2022-12-04T00:01:28.824Z"
   },
   {
    "duration": 22,
    "start_time": "2022-12-04T00:01:28.894Z"
   },
   {
    "duration": 20,
    "start_time": "2022-12-04T00:01:28.918Z"
   },
   {
    "duration": 24,
    "start_time": "2022-12-04T00:01:28.939Z"
   },
   {
    "duration": 8,
    "start_time": "2022-12-04T00:01:28.964Z"
   },
   {
    "duration": 42,
    "start_time": "2022-12-04T00:01:28.974Z"
   },
   {
    "duration": 9,
    "start_time": "2022-12-04T00:01:29.018Z"
   },
   {
    "duration": 8,
    "start_time": "2022-12-04T00:01:29.032Z"
   },
   {
    "duration": 212,
    "start_time": "2022-12-04T00:01:29.041Z"
   },
   {
    "duration": 135,
    "start_time": "2022-12-04T00:01:29.255Z"
   },
   {
    "duration": 25,
    "start_time": "2022-12-04T00:01:29.391Z"
   },
   {
    "duration": 11,
    "start_time": "2022-12-04T00:01:29.417Z"
   },
   {
    "duration": 4,
    "start_time": "2022-12-04T00:01:29.429Z"
   },
   {
    "duration": 5,
    "start_time": "2022-12-04T00:01:29.434Z"
   },
   {
    "duration": 131,
    "start_time": "2022-12-04T00:01:29.440Z"
   },
   {
    "duration": 122,
    "start_time": "2022-12-04T00:01:29.572Z"
   },
   {
    "duration": 51,
    "start_time": "2022-12-04T00:01:29.695Z"
   },
   {
    "duration": 13,
    "start_time": "2022-12-04T00:01:29.748Z"
   },
   {
    "duration": 238,
    "start_time": "2022-12-04T00:01:29.762Z"
   },
   {
    "duration": 13,
    "start_time": "2022-12-04T00:01:30.002Z"
   },
   {
    "duration": 24,
    "start_time": "2022-12-04T00:01:30.017Z"
   },
   {
    "duration": 123,
    "start_time": "2022-12-04T00:01:30.043Z"
   },
   {
    "duration": 12,
    "start_time": "2022-12-04T00:01:30.168Z"
   },
   {
    "duration": 117,
    "start_time": "2022-12-04T00:01:30.182Z"
   },
   {
    "duration": 17,
    "start_time": "2022-12-04T00:01:30.301Z"
   },
   {
    "duration": 119,
    "start_time": "2022-12-04T00:01:30.320Z"
   },
   {
    "duration": 11,
    "start_time": "2022-12-04T00:01:30.441Z"
   },
   {
    "duration": 119,
    "start_time": "2022-12-04T00:01:30.454Z"
   },
   {
    "duration": 29,
    "start_time": "2022-12-04T00:01:30.574Z"
   },
   {
    "duration": 24,
    "start_time": "2022-12-04T00:01:30.604Z"
   },
   {
    "duration": 29,
    "start_time": "2022-12-04T00:01:30.629Z"
   },
   {
    "duration": 129,
    "start_time": "2022-12-04T00:01:30.659Z"
   },
   {
    "duration": 117,
    "start_time": "2022-12-04T00:01:30.790Z"
   },
   {
    "duration": 0,
    "start_time": "2022-12-04T00:01:30.915Z"
   },
   {
    "duration": 0,
    "start_time": "2022-12-04T00:01:30.916Z"
   },
   {
    "duration": 0,
    "start_time": "2022-12-04T00:01:30.917Z"
   },
   {
    "duration": 0,
    "start_time": "2022-12-04T00:01:30.918Z"
   },
   {
    "duration": 0,
    "start_time": "2022-12-04T00:01:30.919Z"
   },
   {
    "duration": 0,
    "start_time": "2022-12-04T00:01:30.920Z"
   },
   {
    "duration": 0,
    "start_time": "2022-12-04T00:01:30.921Z"
   },
   {
    "duration": 0,
    "start_time": "2022-12-04T00:01:30.922Z"
   },
   {
    "duration": 0,
    "start_time": "2022-12-04T00:01:30.923Z"
   },
   {
    "duration": 0,
    "start_time": "2022-12-04T00:01:30.924Z"
   },
   {
    "duration": 1,
    "start_time": "2022-12-04T00:01:30.924Z"
   },
   {
    "duration": 0,
    "start_time": "2022-12-04T00:01:30.925Z"
   },
   {
    "duration": 0,
    "start_time": "2022-12-04T00:01:30.926Z"
   },
   {
    "duration": 0,
    "start_time": "2022-12-04T00:01:30.927Z"
   },
   {
    "duration": 0,
    "start_time": "2022-12-04T00:01:30.928Z"
   },
   {
    "duration": 0,
    "start_time": "2022-12-04T00:01:30.929Z"
   },
   {
    "duration": 0,
    "start_time": "2022-12-04T00:01:30.930Z"
   },
   {
    "duration": 0,
    "start_time": "2022-12-04T00:01:30.931Z"
   },
   {
    "duration": 0,
    "start_time": "2022-12-04T00:01:30.932Z"
   },
   {
    "duration": 0,
    "start_time": "2022-12-04T00:01:30.933Z"
   },
   {
    "duration": 0,
    "start_time": "2022-12-04T00:01:30.934Z"
   },
   {
    "duration": 0,
    "start_time": "2022-12-04T00:01:30.935Z"
   },
   {
    "duration": 0,
    "start_time": "2022-12-04T00:01:30.936Z"
   },
   {
    "duration": 0,
    "start_time": "2022-12-04T00:01:30.937Z"
   },
   {
    "duration": 0,
    "start_time": "2022-12-04T00:01:30.938Z"
   },
   {
    "duration": 0,
    "start_time": "2022-12-04T00:01:30.939Z"
   },
   {
    "duration": 0,
    "start_time": "2022-12-04T00:01:30.940Z"
   },
   {
    "duration": 1,
    "start_time": "2022-12-04T00:01:30.940Z"
   },
   {
    "duration": 0,
    "start_time": "2022-12-04T00:01:30.942Z"
   },
   {
    "duration": 0,
    "start_time": "2022-12-04T00:01:30.942Z"
   },
   {
    "duration": 0,
    "start_time": "2022-12-04T00:01:30.943Z"
   },
   {
    "duration": 0,
    "start_time": "2022-12-04T00:01:30.944Z"
   },
   {
    "duration": 0,
    "start_time": "2022-12-04T00:01:30.945Z"
   },
   {
    "duration": 1,
    "start_time": "2022-12-04T00:01:30.946Z"
   },
   {
    "duration": 0,
    "start_time": "2022-12-04T00:01:30.948Z"
   },
   {
    "duration": 0,
    "start_time": "2022-12-04T00:01:30.948Z"
   },
   {
    "duration": 0,
    "start_time": "2022-12-04T00:01:30.950Z"
   },
   {
    "duration": 0,
    "start_time": "2022-12-04T00:01:30.951Z"
   },
   {
    "duration": 0,
    "start_time": "2022-12-04T00:01:30.952Z"
   },
   {
    "duration": 0,
    "start_time": "2022-12-04T00:01:31.016Z"
   },
   {
    "duration": 0,
    "start_time": "2022-12-04T00:01:31.017Z"
   },
   {
    "duration": 0,
    "start_time": "2022-12-04T00:01:31.018Z"
   },
   {
    "duration": 0,
    "start_time": "2022-12-04T00:01:31.019Z"
   },
   {
    "duration": 0,
    "start_time": "2022-12-04T00:01:31.020Z"
   },
   {
    "duration": 0,
    "start_time": "2022-12-04T00:01:31.021Z"
   },
   {
    "duration": 0,
    "start_time": "2022-12-04T00:01:31.022Z"
   },
   {
    "duration": 0,
    "start_time": "2022-12-04T00:01:31.023Z"
   },
   {
    "duration": 0,
    "start_time": "2022-12-04T00:01:31.024Z"
   },
   {
    "duration": 0,
    "start_time": "2022-12-04T00:01:31.025Z"
   },
   {
    "duration": 0,
    "start_time": "2022-12-04T00:01:31.026Z"
   },
   {
    "duration": 0,
    "start_time": "2022-12-04T00:01:31.027Z"
   },
   {
    "duration": 0,
    "start_time": "2022-12-04T00:01:31.028Z"
   },
   {
    "duration": 0,
    "start_time": "2022-12-04T00:01:31.029Z"
   },
   {
    "duration": 0,
    "start_time": "2022-12-04T00:01:31.030Z"
   },
   {
    "duration": 0,
    "start_time": "2022-12-04T00:01:31.031Z"
   },
   {
    "duration": 0,
    "start_time": "2022-12-04T00:01:31.032Z"
   },
   {
    "duration": 0,
    "start_time": "2022-12-04T00:01:31.033Z"
   },
   {
    "duration": 0,
    "start_time": "2022-12-04T00:01:31.034Z"
   },
   {
    "duration": 0,
    "start_time": "2022-12-04T00:01:31.035Z"
   },
   {
    "duration": 0,
    "start_time": "2022-12-04T00:01:31.036Z"
   },
   {
    "duration": 0,
    "start_time": "2022-12-04T00:01:31.037Z"
   },
   {
    "duration": 0,
    "start_time": "2022-12-04T00:01:31.038Z"
   },
   {
    "duration": 0,
    "start_time": "2022-12-04T00:01:31.039Z"
   },
   {
    "duration": 0,
    "start_time": "2022-12-04T00:01:31.041Z"
   },
   {
    "duration": 0,
    "start_time": "2022-12-04T00:01:31.041Z"
   },
   {
    "duration": 0,
    "start_time": "2022-12-04T00:01:31.042Z"
   },
   {
    "duration": 0,
    "start_time": "2022-12-04T00:01:31.044Z"
   },
   {
    "duration": 0,
    "start_time": "2022-12-04T00:01:31.045Z"
   },
   {
    "duration": 1,
    "start_time": "2022-12-04T00:01:31.045Z"
   },
   {
    "duration": 0,
    "start_time": "2022-12-04T00:01:31.046Z"
   },
   {
    "duration": 0,
    "start_time": "2022-12-04T00:01:31.047Z"
   },
   {
    "duration": 0,
    "start_time": "2022-12-04T00:01:31.048Z"
   },
   {
    "duration": 0,
    "start_time": "2022-12-04T00:01:31.049Z"
   },
   {
    "duration": 0,
    "start_time": "2022-12-04T00:01:31.050Z"
   },
   {
    "duration": 0,
    "start_time": "2022-12-04T00:01:31.051Z"
   },
   {
    "duration": 0,
    "start_time": "2022-12-04T00:01:31.116Z"
   },
   {
    "duration": 0,
    "start_time": "2022-12-04T00:01:31.117Z"
   },
   {
    "duration": 0,
    "start_time": "2022-12-04T00:01:31.118Z"
   },
   {
    "duration": 0,
    "start_time": "2022-12-04T00:01:31.119Z"
   },
   {
    "duration": 0,
    "start_time": "2022-12-04T00:01:31.120Z"
   },
   {
    "duration": 0,
    "start_time": "2022-12-04T00:01:31.121Z"
   },
   {
    "duration": 0,
    "start_time": "2022-12-04T00:01:31.122Z"
   },
   {
    "duration": 0,
    "start_time": "2022-12-04T00:01:31.123Z"
   },
   {
    "duration": 0,
    "start_time": "2022-12-04T00:01:31.124Z"
   },
   {
    "duration": 0,
    "start_time": "2022-12-04T00:01:31.124Z"
   },
   {
    "duration": 0,
    "start_time": "2022-12-04T00:01:31.126Z"
   },
   {
    "duration": 0,
    "start_time": "2022-12-04T00:01:31.126Z"
   },
   {
    "duration": 20,
    "start_time": "2022-12-04T00:11:59.786Z"
   },
   {
    "duration": 15,
    "start_time": "2022-12-04T00:16:38.661Z"
   },
   {
    "duration": 22,
    "start_time": "2022-12-04T00:16:55.271Z"
   },
   {
    "duration": 23,
    "start_time": "2022-12-04T00:17:12.627Z"
   },
   {
    "duration": 11,
    "start_time": "2022-12-04T00:19:58.337Z"
   },
   {
    "duration": 9,
    "start_time": "2022-12-04T00:21:05.220Z"
   },
   {
    "duration": 8,
    "start_time": "2022-12-04T00:23:10.386Z"
   },
   {
    "duration": 7,
    "start_time": "2022-12-04T00:35:31.577Z"
   },
   {
    "duration": 1295,
    "start_time": "2022-12-04T00:36:04.883Z"
   },
   {
    "duration": 82,
    "start_time": "2022-12-04T00:36:06.180Z"
   },
   {
    "duration": 31,
    "start_time": "2022-12-04T00:36:06.265Z"
   },
   {
    "duration": 22,
    "start_time": "2022-12-04T00:36:06.299Z"
   },
   {
    "duration": 15,
    "start_time": "2022-12-04T00:36:06.323Z"
   },
   {
    "duration": 17,
    "start_time": "2022-12-04T00:36:06.340Z"
   },
   {
    "duration": 17,
    "start_time": "2022-12-04T00:36:06.359Z"
   },
   {
    "duration": 45,
    "start_time": "2022-12-04T00:36:06.378Z"
   },
   {
    "duration": 20,
    "start_time": "2022-12-04T00:36:06.424Z"
   },
   {
    "duration": 28,
    "start_time": "2022-12-04T00:36:06.446Z"
   },
   {
    "duration": 9,
    "start_time": "2022-12-04T00:36:06.475Z"
   },
   {
    "duration": 34,
    "start_time": "2022-12-04T00:36:06.486Z"
   },
   {
    "duration": 11,
    "start_time": "2022-12-04T00:36:06.522Z"
   },
   {
    "duration": 10,
    "start_time": "2022-12-04T00:36:06.534Z"
   },
   {
    "duration": 5,
    "start_time": "2022-12-04T00:36:06.545Z"
   },
   {
    "duration": 10,
    "start_time": "2022-12-04T00:36:06.552Z"
   },
   {
    "duration": 53,
    "start_time": "2022-12-04T00:36:06.563Z"
   },
   {
    "duration": 11,
    "start_time": "2022-12-04T00:36:06.617Z"
   },
   {
    "duration": 19,
    "start_time": "2022-12-04T00:36:06.629Z"
   },
   {
    "duration": 35,
    "start_time": "2022-12-04T00:36:06.649Z"
   },
   {
    "duration": 3,
    "start_time": "2022-12-04T00:36:06.686Z"
   },
   {
    "duration": 35,
    "start_time": "2022-12-04T00:36:06.691Z"
   },
   {
    "duration": 8,
    "start_time": "2022-12-04T00:36:06.727Z"
   },
   {
    "duration": 8,
    "start_time": "2022-12-04T00:36:06.736Z"
   },
   {
    "duration": 8,
    "start_time": "2022-12-04T00:36:06.745Z"
   },
   {
    "duration": 12,
    "start_time": "2022-12-04T00:36:06.754Z"
   },
   {
    "duration": 10,
    "start_time": "2022-12-04T00:36:06.768Z"
   },
   {
    "duration": 12,
    "start_time": "2022-12-04T00:36:06.782Z"
   },
   {
    "duration": 25,
    "start_time": "2022-12-04T00:36:06.796Z"
   },
   {
    "duration": 11,
    "start_time": "2022-12-04T00:36:06.823Z"
   },
   {
    "duration": 9,
    "start_time": "2022-12-04T00:36:06.835Z"
   },
   {
    "duration": 8,
    "start_time": "2022-12-04T00:36:06.846Z"
   },
   {
    "duration": 13,
    "start_time": "2022-12-04T00:36:06.855Z"
   },
   {
    "duration": 71,
    "start_time": "2022-12-04T00:36:06.869Z"
   },
   {
    "duration": 12,
    "start_time": "2022-12-04T00:36:06.942Z"
   },
   {
    "duration": 18,
    "start_time": "2022-12-04T00:36:06.955Z"
   },
   {
    "duration": 41,
    "start_time": "2022-12-04T00:36:06.975Z"
   },
   {
    "duration": 6,
    "start_time": "2022-12-04T00:36:07.017Z"
   },
   {
    "duration": 15,
    "start_time": "2022-12-04T00:36:07.024Z"
   },
   {
    "duration": 13,
    "start_time": "2022-12-04T00:36:07.041Z"
   },
   {
    "duration": 7,
    "start_time": "2022-12-04T00:36:07.056Z"
   },
   {
    "duration": 372,
    "start_time": "2022-12-04T00:36:07.065Z"
   },
   {
    "duration": 130,
    "start_time": "2022-12-04T00:36:07.438Z"
   },
   {
    "duration": 780,
    "start_time": "2022-12-04T00:36:07.569Z"
   },
   {
    "duration": 0,
    "start_time": "2022-12-04T00:36:08.353Z"
   },
   {
    "duration": 0,
    "start_time": "2022-12-04T00:36:08.355Z"
   },
   {
    "duration": 0,
    "start_time": "2022-12-04T00:36:08.356Z"
   },
   {
    "duration": 0,
    "start_time": "2022-12-04T00:36:08.358Z"
   },
   {
    "duration": 0,
    "start_time": "2022-12-04T00:36:08.359Z"
   },
   {
    "duration": 0,
    "start_time": "2022-12-04T00:36:08.361Z"
   },
   {
    "duration": 0,
    "start_time": "2022-12-04T00:36:08.362Z"
   },
   {
    "duration": 0,
    "start_time": "2022-12-04T00:36:08.363Z"
   },
   {
    "duration": 0,
    "start_time": "2022-12-04T00:36:08.365Z"
   },
   {
    "duration": 0,
    "start_time": "2022-12-04T00:36:08.366Z"
   },
   {
    "duration": 0,
    "start_time": "2022-12-04T00:36:08.367Z"
   },
   {
    "duration": 0,
    "start_time": "2022-12-04T00:36:08.369Z"
   },
   {
    "duration": 0,
    "start_time": "2022-12-04T00:36:08.370Z"
   },
   {
    "duration": 0,
    "start_time": "2022-12-04T00:36:08.372Z"
   },
   {
    "duration": 1,
    "start_time": "2022-12-04T00:36:08.373Z"
   },
   {
    "duration": 0,
    "start_time": "2022-12-04T00:36:08.375Z"
   },
   {
    "duration": 0,
    "start_time": "2022-12-04T00:36:08.376Z"
   },
   {
    "duration": 0,
    "start_time": "2022-12-04T00:36:08.377Z"
   },
   {
    "duration": 0,
    "start_time": "2022-12-04T00:36:08.379Z"
   },
   {
    "duration": 0,
    "start_time": "2022-12-04T00:36:08.380Z"
   },
   {
    "duration": 0,
    "start_time": "2022-12-04T00:36:08.382Z"
   },
   {
    "duration": 0,
    "start_time": "2022-12-04T00:36:08.383Z"
   },
   {
    "duration": 0,
    "start_time": "2022-12-04T00:36:08.385Z"
   },
   {
    "duration": 0,
    "start_time": "2022-12-04T00:36:08.386Z"
   },
   {
    "duration": 0,
    "start_time": "2022-12-04T00:36:08.388Z"
   },
   {
    "duration": 0,
    "start_time": "2022-12-04T00:36:08.389Z"
   },
   {
    "duration": 0,
    "start_time": "2022-12-04T00:36:08.390Z"
   },
   {
    "duration": 0,
    "start_time": "2022-12-04T00:36:08.416Z"
   },
   {
    "duration": 0,
    "start_time": "2022-12-04T00:36:08.417Z"
   },
   {
    "duration": 0,
    "start_time": "2022-12-04T00:36:08.419Z"
   },
   {
    "duration": 0,
    "start_time": "2022-12-04T00:36:08.420Z"
   },
   {
    "duration": 0,
    "start_time": "2022-12-04T00:36:08.421Z"
   },
   {
    "duration": 0,
    "start_time": "2022-12-04T00:36:08.422Z"
   },
   {
    "duration": 0,
    "start_time": "2022-12-04T00:36:08.423Z"
   },
   {
    "duration": 0,
    "start_time": "2022-12-04T00:36:08.424Z"
   },
   {
    "duration": 0,
    "start_time": "2022-12-04T00:36:08.425Z"
   },
   {
    "duration": 0,
    "start_time": "2022-12-04T00:36:08.426Z"
   },
   {
    "duration": 0,
    "start_time": "2022-12-04T00:36:08.427Z"
   },
   {
    "duration": 0,
    "start_time": "2022-12-04T00:36:08.428Z"
   },
   {
    "duration": 0,
    "start_time": "2022-12-04T00:36:08.430Z"
   },
   {
    "duration": 0,
    "start_time": "2022-12-04T00:36:08.431Z"
   },
   {
    "duration": 0,
    "start_time": "2022-12-04T00:36:08.433Z"
   },
   {
    "duration": 0,
    "start_time": "2022-12-04T00:36:08.434Z"
   },
   {
    "duration": 0,
    "start_time": "2022-12-04T00:36:08.435Z"
   },
   {
    "duration": 0,
    "start_time": "2022-12-04T00:36:08.436Z"
   },
   {
    "duration": 0,
    "start_time": "2022-12-04T00:36:08.437Z"
   },
   {
    "duration": 0,
    "start_time": "2022-12-04T00:36:08.437Z"
   },
   {
    "duration": 0,
    "start_time": "2022-12-04T00:36:08.439Z"
   },
   {
    "duration": 0,
    "start_time": "2022-12-04T00:36:08.440Z"
   },
   {
    "duration": 0,
    "start_time": "2022-12-04T00:36:08.441Z"
   },
   {
    "duration": 0,
    "start_time": "2022-12-04T00:36:08.442Z"
   },
   {
    "duration": 0,
    "start_time": "2022-12-04T00:36:08.443Z"
   },
   {
    "duration": 0,
    "start_time": "2022-12-04T00:36:08.445Z"
   },
   {
    "duration": 0,
    "start_time": "2022-12-04T00:36:08.445Z"
   },
   {
    "duration": 0,
    "start_time": "2022-12-04T00:36:08.447Z"
   },
   {
    "duration": 0,
    "start_time": "2022-12-04T00:36:08.448Z"
   },
   {
    "duration": 0,
    "start_time": "2022-12-04T00:36:08.449Z"
   },
   {
    "duration": 0,
    "start_time": "2022-12-04T00:36:08.450Z"
   },
   {
    "duration": 0,
    "start_time": "2022-12-04T00:36:08.515Z"
   },
   {
    "duration": 0,
    "start_time": "2022-12-04T00:36:08.516Z"
   },
   {
    "duration": 0,
    "start_time": "2022-12-04T00:36:08.517Z"
   },
   {
    "duration": 0,
    "start_time": "2022-12-04T00:36:08.518Z"
   },
   {
    "duration": 0,
    "start_time": "2022-12-04T00:36:08.520Z"
   },
   {
    "duration": 0,
    "start_time": "2022-12-04T00:36:08.521Z"
   },
   {
    "duration": 0,
    "start_time": "2022-12-04T00:36:08.522Z"
   },
   {
    "duration": 0,
    "start_time": "2022-12-04T00:36:08.523Z"
   },
   {
    "duration": 0,
    "start_time": "2022-12-04T00:36:08.524Z"
   },
   {
    "duration": 0,
    "start_time": "2022-12-04T00:36:08.525Z"
   },
   {
    "duration": 0,
    "start_time": "2022-12-04T00:36:08.526Z"
   },
   {
    "duration": 0,
    "start_time": "2022-12-04T00:36:08.528Z"
   },
   {
    "duration": 0,
    "start_time": "2022-12-04T00:36:08.529Z"
   },
   {
    "duration": 0,
    "start_time": "2022-12-04T00:36:08.530Z"
   },
   {
    "duration": 0,
    "start_time": "2022-12-04T00:36:08.531Z"
   },
   {
    "duration": 0,
    "start_time": "2022-12-04T00:36:08.532Z"
   },
   {
    "duration": 0,
    "start_time": "2022-12-04T00:36:08.533Z"
   },
   {
    "duration": 0,
    "start_time": "2022-12-04T00:36:08.534Z"
   },
   {
    "duration": 0,
    "start_time": "2022-12-04T00:36:08.535Z"
   },
   {
    "duration": 0,
    "start_time": "2022-12-04T00:36:08.537Z"
   },
   {
    "duration": 0,
    "start_time": "2022-12-04T00:36:08.538Z"
   },
   {
    "duration": 0,
    "start_time": "2022-12-04T00:36:08.539Z"
   },
   {
    "duration": 0,
    "start_time": "2022-12-04T00:36:08.540Z"
   },
   {
    "duration": 0,
    "start_time": "2022-12-04T00:36:08.540Z"
   },
   {
    "duration": 0,
    "start_time": "2022-12-04T00:36:08.542Z"
   },
   {
    "duration": 0,
    "start_time": "2022-12-04T00:36:08.543Z"
   },
   {
    "duration": 0,
    "start_time": "2022-12-04T00:36:08.544Z"
   },
   {
    "duration": 0,
    "start_time": "2022-12-04T00:36:08.545Z"
   },
   {
    "duration": 0,
    "start_time": "2022-12-04T00:36:08.546Z"
   },
   {
    "duration": 0,
    "start_time": "2022-12-04T00:36:08.547Z"
   },
   {
    "duration": 0,
    "start_time": "2022-12-04T00:36:08.548Z"
   },
   {
    "duration": 0,
    "start_time": "2022-12-04T00:36:08.549Z"
   },
   {
    "duration": 0,
    "start_time": "2022-12-04T00:36:08.550Z"
   },
   {
    "duration": 0,
    "start_time": "2022-12-04T00:36:08.551Z"
   },
   {
    "duration": 0,
    "start_time": "2022-12-04T00:36:08.552Z"
   },
   {
    "duration": 0,
    "start_time": "2022-12-04T00:36:08.615Z"
   },
   {
    "duration": 0,
    "start_time": "2022-12-04T00:36:08.616Z"
   },
   {
    "duration": 0,
    "start_time": "2022-12-04T00:36:08.617Z"
   },
   {
    "duration": 0,
    "start_time": "2022-12-04T00:36:08.618Z"
   },
   {
    "duration": 0,
    "start_time": "2022-12-04T00:36:08.619Z"
   },
   {
    "duration": 0,
    "start_time": "2022-12-04T00:36:08.620Z"
   },
   {
    "duration": 0,
    "start_time": "2022-12-04T00:36:08.621Z"
   },
   {
    "duration": 0,
    "start_time": "2022-12-04T00:36:08.623Z"
   },
   {
    "duration": 0,
    "start_time": "2022-12-04T00:36:08.624Z"
   },
   {
    "duration": 0,
    "start_time": "2022-12-04T00:36:08.625Z"
   },
   {
    "duration": 0,
    "start_time": "2022-12-04T00:36:08.626Z"
   },
   {
    "duration": 0,
    "start_time": "2022-12-04T00:36:08.627Z"
   },
   {
    "duration": 0,
    "start_time": "2022-12-04T00:36:08.628Z"
   },
   {
    "duration": 0,
    "start_time": "2022-12-04T00:36:08.629Z"
   },
   {
    "duration": 0,
    "start_time": "2022-12-04T00:36:08.630Z"
   },
   {
    "duration": 0,
    "start_time": "2022-12-04T00:36:08.631Z"
   },
   {
    "duration": 11,
    "start_time": "2022-12-04T00:37:14.329Z"
   },
   {
    "duration": 9,
    "start_time": "2022-12-04T00:38:21.154Z"
   },
   {
    "duration": 38,
    "start_time": "2022-12-04T00:38:33.964Z"
   },
   {
    "duration": 1253,
    "start_time": "2022-12-04T00:39:56.393Z"
   },
   {
    "duration": 75,
    "start_time": "2022-12-04T00:39:57.648Z"
   },
   {
    "duration": 28,
    "start_time": "2022-12-04T00:39:57.725Z"
   },
   {
    "duration": 18,
    "start_time": "2022-12-04T00:39:57.754Z"
   },
   {
    "duration": 26,
    "start_time": "2022-12-04T00:39:57.773Z"
   },
   {
    "duration": 22,
    "start_time": "2022-12-04T00:39:57.801Z"
   },
   {
    "duration": 24,
    "start_time": "2022-12-04T00:39:57.824Z"
   },
   {
    "duration": 40,
    "start_time": "2022-12-04T00:39:57.849Z"
   },
   {
    "duration": 19,
    "start_time": "2022-12-04T00:39:57.890Z"
   },
   {
    "duration": 27,
    "start_time": "2022-12-04T00:39:57.911Z"
   },
   {
    "duration": 10,
    "start_time": "2022-12-04T00:39:57.939Z"
   },
   {
    "duration": 9,
    "start_time": "2022-12-04T00:39:57.950Z"
   },
   {
    "duration": 6,
    "start_time": "2022-12-04T00:39:57.960Z"
   },
   {
    "duration": 9,
    "start_time": "2022-12-04T00:39:57.968Z"
   },
   {
    "duration": 9,
    "start_time": "2022-12-04T00:39:57.978Z"
   },
   {
    "duration": 33,
    "start_time": "2022-12-04T00:39:57.988Z"
   },
   {
    "duration": 31,
    "start_time": "2022-12-04T00:39:58.022Z"
   },
   {
    "duration": 12,
    "start_time": "2022-12-04T00:39:58.055Z"
   },
   {
    "duration": 23,
    "start_time": "2022-12-04T00:39:58.068Z"
   },
   {
    "duration": 56,
    "start_time": "2022-12-04T00:39:58.093Z"
   },
   {
    "duration": 4,
    "start_time": "2022-12-04T00:39:58.150Z"
   },
   {
    "duration": 18,
    "start_time": "2022-12-04T00:39:58.155Z"
   },
   {
    "duration": 7,
    "start_time": "2022-12-04T00:39:58.175Z"
   },
   {
    "duration": 6,
    "start_time": "2022-12-04T00:39:58.184Z"
   },
   {
    "duration": 28,
    "start_time": "2022-12-04T00:39:58.192Z"
   },
   {
    "duration": 7,
    "start_time": "2022-12-04T00:39:58.221Z"
   },
   {
    "duration": 9,
    "start_time": "2022-12-04T00:39:58.229Z"
   },
   {
    "duration": 16,
    "start_time": "2022-12-04T00:39:58.242Z"
   },
   {
    "duration": 22,
    "start_time": "2022-12-04T00:39:58.259Z"
   },
   {
    "duration": 15,
    "start_time": "2022-12-04T00:39:58.283Z"
   },
   {
    "duration": 16,
    "start_time": "2022-12-04T00:39:58.300Z"
   },
   {
    "duration": 8,
    "start_time": "2022-12-04T00:39:58.317Z"
   },
   {
    "duration": 15,
    "start_time": "2022-12-04T00:39:58.327Z"
   },
   {
    "duration": 81,
    "start_time": "2022-12-04T00:39:58.343Z"
   },
   {
    "duration": 12,
    "start_time": "2022-12-04T00:39:58.425Z"
   },
   {
    "duration": 31,
    "start_time": "2022-12-04T00:39:58.439Z"
   },
   {
    "duration": 24,
    "start_time": "2022-12-04T00:39:58.472Z"
   },
   {
    "duration": 0,
    "start_time": "2022-12-04T00:41:56.049Z"
   },
   {
    "duration": 0,
    "start_time": "2022-12-04T00:41:56.051Z"
   },
   {
    "duration": 0,
    "start_time": "2022-12-04T00:41:56.052Z"
   },
   {
    "duration": 0,
    "start_time": "2022-12-04T00:41:56.053Z"
   },
   {
    "duration": 1,
    "start_time": "2022-12-04T00:41:56.054Z"
   },
   {
    "duration": 0,
    "start_time": "2022-12-04T00:41:56.056Z"
   },
   {
    "duration": 0,
    "start_time": "2022-12-04T00:41:56.057Z"
   },
   {
    "duration": 0,
    "start_time": "2022-12-04T00:41:56.058Z"
   },
   {
    "duration": 0,
    "start_time": "2022-12-04T00:41:56.059Z"
   },
   {
    "duration": 0,
    "start_time": "2022-12-04T00:41:56.060Z"
   },
   {
    "duration": 0,
    "start_time": "2022-12-04T00:41:56.062Z"
   },
   {
    "duration": 0,
    "start_time": "2022-12-04T00:41:56.063Z"
   },
   {
    "duration": 0,
    "start_time": "2022-12-04T00:41:56.064Z"
   },
   {
    "duration": 0,
    "start_time": "2022-12-04T00:41:56.066Z"
   },
   {
    "duration": 0,
    "start_time": "2022-12-04T00:41:56.066Z"
   },
   {
    "duration": 0,
    "start_time": "2022-12-04T00:41:56.067Z"
   },
   {
    "duration": 1,
    "start_time": "2022-12-04T00:41:56.068Z"
   },
   {
    "duration": 0,
    "start_time": "2022-12-04T00:41:56.070Z"
   },
   {
    "duration": 0,
    "start_time": "2022-12-04T00:41:56.071Z"
   },
   {
    "duration": 0,
    "start_time": "2022-12-04T00:41:56.072Z"
   },
   {
    "duration": 0,
    "start_time": "2022-12-04T00:41:56.073Z"
   },
   {
    "duration": 0,
    "start_time": "2022-12-04T00:41:56.073Z"
   },
   {
    "duration": 0,
    "start_time": "2022-12-04T00:41:56.075Z"
   },
   {
    "duration": 0,
    "start_time": "2022-12-04T00:41:56.076Z"
   },
   {
    "duration": 0,
    "start_time": "2022-12-04T00:41:56.116Z"
   },
   {
    "duration": 0,
    "start_time": "2022-12-04T00:41:56.116Z"
   },
   {
    "duration": 0,
    "start_time": "2022-12-04T00:41:56.117Z"
   },
   {
    "duration": 0,
    "start_time": "2022-12-04T00:41:56.118Z"
   },
   {
    "duration": 0,
    "start_time": "2022-12-04T00:41:56.119Z"
   },
   {
    "duration": 0,
    "start_time": "2022-12-04T00:41:56.121Z"
   },
   {
    "duration": 0,
    "start_time": "2022-12-04T00:41:56.121Z"
   },
   {
    "duration": 0,
    "start_time": "2022-12-04T00:41:56.122Z"
   },
   {
    "duration": 0,
    "start_time": "2022-12-04T00:41:56.123Z"
   },
   {
    "duration": 0,
    "start_time": "2022-12-04T00:41:56.124Z"
   },
   {
    "duration": 0,
    "start_time": "2022-12-04T00:41:56.125Z"
   },
   {
    "duration": 0,
    "start_time": "2022-12-04T00:41:56.126Z"
   },
   {
    "duration": 0,
    "start_time": "2022-12-04T00:41:56.127Z"
   },
   {
    "duration": 0,
    "start_time": "2022-12-04T00:41:56.128Z"
   },
   {
    "duration": 0,
    "start_time": "2022-12-04T00:41:56.129Z"
   },
   {
    "duration": 0,
    "start_time": "2022-12-04T00:41:56.130Z"
   },
   {
    "duration": 0,
    "start_time": "2022-12-04T00:41:56.131Z"
   },
   {
    "duration": 0,
    "start_time": "2022-12-04T00:41:56.132Z"
   },
   {
    "duration": 0,
    "start_time": "2022-12-04T00:41:56.132Z"
   },
   {
    "duration": 0,
    "start_time": "2022-12-04T00:41:56.133Z"
   },
   {
    "duration": 0,
    "start_time": "2022-12-04T00:41:56.134Z"
   },
   {
    "duration": 0,
    "start_time": "2022-12-04T00:41:56.135Z"
   },
   {
    "duration": 0,
    "start_time": "2022-12-04T00:41:56.136Z"
   },
   {
    "duration": 0,
    "start_time": "2022-12-04T00:41:56.137Z"
   },
   {
    "duration": 0,
    "start_time": "2022-12-04T00:41:56.138Z"
   },
   {
    "duration": 0,
    "start_time": "2022-12-04T00:41:56.139Z"
   },
   {
    "duration": 0,
    "start_time": "2022-12-04T00:41:56.140Z"
   },
   {
    "duration": 0,
    "start_time": "2022-12-04T00:41:56.141Z"
   },
   {
    "duration": 0,
    "start_time": "2022-12-04T00:41:56.142Z"
   },
   {
    "duration": 0,
    "start_time": "2022-12-04T00:41:56.143Z"
   },
   {
    "duration": 0,
    "start_time": "2022-12-04T00:41:56.144Z"
   },
   {
    "duration": 0,
    "start_time": "2022-12-04T00:41:56.145Z"
   },
   {
    "duration": 0,
    "start_time": "2022-12-04T00:41:56.147Z"
   },
   {
    "duration": 0,
    "start_time": "2022-12-04T00:41:56.148Z"
   },
   {
    "duration": 0,
    "start_time": "2022-12-04T00:41:56.149Z"
   },
   {
    "duration": 0,
    "start_time": "2022-12-04T00:41:56.150Z"
   },
   {
    "duration": 0,
    "start_time": "2022-12-04T00:41:56.215Z"
   },
   {
    "duration": 0,
    "start_time": "2022-12-04T00:41:56.217Z"
   },
   {
    "duration": 0,
    "start_time": "2022-12-04T00:41:56.219Z"
   },
   {
    "duration": 0,
    "start_time": "2022-12-04T00:41:56.220Z"
   },
   {
    "duration": 0,
    "start_time": "2022-12-04T00:41:56.222Z"
   },
   {
    "duration": 0,
    "start_time": "2022-12-04T00:41:56.223Z"
   },
   {
    "duration": 0,
    "start_time": "2022-12-04T00:41:56.225Z"
   },
   {
    "duration": 0,
    "start_time": "2022-12-04T00:41:56.226Z"
   },
   {
    "duration": 0,
    "start_time": "2022-12-04T00:41:56.227Z"
   },
   {
    "duration": 0,
    "start_time": "2022-12-04T00:41:56.233Z"
   },
   {
    "duration": 0,
    "start_time": "2022-12-04T00:41:56.234Z"
   },
   {
    "duration": 0,
    "start_time": "2022-12-04T00:41:56.236Z"
   },
   {
    "duration": 0,
    "start_time": "2022-12-04T00:41:56.238Z"
   },
   {
    "duration": 0,
    "start_time": "2022-12-04T00:41:56.239Z"
   },
   {
    "duration": 0,
    "start_time": "2022-12-04T00:41:56.241Z"
   },
   {
    "duration": 0,
    "start_time": "2022-12-04T00:41:56.242Z"
   },
   {
    "duration": 0,
    "start_time": "2022-12-04T00:41:56.244Z"
   },
   {
    "duration": 0,
    "start_time": "2022-12-04T00:41:56.245Z"
   },
   {
    "duration": 0,
    "start_time": "2022-12-04T00:41:56.247Z"
   },
   {
    "duration": 0,
    "start_time": "2022-12-04T00:41:56.248Z"
   },
   {
    "duration": 0,
    "start_time": "2022-12-04T00:41:56.251Z"
   },
   {
    "duration": 0,
    "start_time": "2022-12-04T00:41:56.252Z"
   },
   {
    "duration": 0,
    "start_time": "2022-12-04T00:41:56.254Z"
   },
   {
    "duration": 1,
    "start_time": "2022-12-04T00:41:56.315Z"
   },
   {
    "duration": 0,
    "start_time": "2022-12-04T00:41:56.317Z"
   },
   {
    "duration": 0,
    "start_time": "2022-12-04T00:41:56.319Z"
   },
   {
    "duration": 0,
    "start_time": "2022-12-04T00:41:56.320Z"
   },
   {
    "duration": 0,
    "start_time": "2022-12-04T00:41:56.321Z"
   },
   {
    "duration": 0,
    "start_time": "2022-12-04T00:41:56.323Z"
   },
   {
    "duration": 0,
    "start_time": "2022-12-04T00:41:56.324Z"
   },
   {
    "duration": 0,
    "start_time": "2022-12-04T00:41:56.326Z"
   },
   {
    "duration": 0,
    "start_time": "2022-12-04T00:41:56.328Z"
   },
   {
    "duration": 1,
    "start_time": "2022-12-04T00:41:56.329Z"
   },
   {
    "duration": 0,
    "start_time": "2022-12-04T00:41:56.331Z"
   },
   {
    "duration": 0,
    "start_time": "2022-12-04T00:41:56.332Z"
   },
   {
    "duration": 0,
    "start_time": "2022-12-04T00:41:56.333Z"
   },
   {
    "duration": 0,
    "start_time": "2022-12-04T00:41:56.335Z"
   },
   {
    "duration": 0,
    "start_time": "2022-12-04T00:41:56.337Z"
   },
   {
    "duration": 0,
    "start_time": "2022-12-04T00:41:56.339Z"
   },
   {
    "duration": 0,
    "start_time": "2022-12-04T00:41:56.339Z"
   },
   {
    "duration": 0,
    "start_time": "2022-12-04T00:41:56.341Z"
   },
   {
    "duration": 0,
    "start_time": "2022-12-04T00:41:56.343Z"
   },
   {
    "duration": 0,
    "start_time": "2022-12-04T00:41:56.344Z"
   },
   {
    "duration": 0,
    "start_time": "2022-12-04T00:41:56.345Z"
   },
   {
    "duration": 0,
    "start_time": "2022-12-04T00:41:56.347Z"
   },
   {
    "duration": 0,
    "start_time": "2022-12-04T00:41:56.348Z"
   },
   {
    "duration": 0,
    "start_time": "2022-12-04T00:41:56.351Z"
   },
   {
    "duration": 0,
    "start_time": "2022-12-04T00:41:56.352Z"
   },
   {
    "duration": 0,
    "start_time": "2022-12-04T00:41:56.353Z"
   },
   {
    "duration": 0,
    "start_time": "2022-12-04T00:41:56.419Z"
   },
   {
    "duration": 0,
    "start_time": "2022-12-04T00:41:56.420Z"
   },
   {
    "duration": 0,
    "start_time": "2022-12-04T00:41:56.421Z"
   },
   {
    "duration": 0,
    "start_time": "2022-12-04T00:41:56.422Z"
   },
   {
    "duration": 0,
    "start_time": "2022-12-04T00:41:56.423Z"
   },
   {
    "duration": 0,
    "start_time": "2022-12-04T00:41:56.424Z"
   },
   {
    "duration": 0,
    "start_time": "2022-12-04T00:41:56.425Z"
   },
   {
    "duration": 5,
    "start_time": "2022-12-04T00:42:00.339Z"
   },
   {
    "duration": 117,
    "start_time": "2022-12-04T00:42:16.741Z"
   },
   {
    "duration": 48,
    "start_time": "2022-12-04T00:42:36.776Z"
   },
   {
    "duration": 63,
    "start_time": "2022-12-04T00:42:46.941Z"
   },
   {
    "duration": 13,
    "start_time": "2022-12-04T00:43:36.053Z"
   },
   {
    "duration": 1319,
    "start_time": "2022-12-04T00:43:55.687Z"
   },
   {
    "duration": 75,
    "start_time": "2022-12-04T00:43:57.008Z"
   },
   {
    "duration": 28,
    "start_time": "2022-12-04T00:43:57.084Z"
   },
   {
    "duration": 16,
    "start_time": "2022-12-04T00:43:57.115Z"
   },
   {
    "duration": 16,
    "start_time": "2022-12-04T00:43:57.132Z"
   },
   {
    "duration": 11,
    "start_time": "2022-12-04T00:43:57.150Z"
   },
   {
    "duration": 16,
    "start_time": "2022-12-04T00:43:57.162Z"
   },
   {
    "duration": 47,
    "start_time": "2022-12-04T00:43:57.179Z"
   },
   {
    "duration": 21,
    "start_time": "2022-12-04T00:43:57.228Z"
   },
   {
    "duration": 29,
    "start_time": "2022-12-04T00:43:57.251Z"
   },
   {
    "duration": 9,
    "start_time": "2022-12-04T00:43:57.282Z"
   },
   {
    "duration": 24,
    "start_time": "2022-12-04T00:43:57.292Z"
   },
   {
    "duration": 10,
    "start_time": "2022-12-04T00:43:57.318Z"
   },
   {
    "duration": 13,
    "start_time": "2022-12-04T00:43:57.330Z"
   },
   {
    "duration": 7,
    "start_time": "2022-12-04T00:43:57.345Z"
   },
   {
    "duration": 20,
    "start_time": "2022-12-04T00:43:57.353Z"
   },
   {
    "duration": 61,
    "start_time": "2022-12-04T00:43:57.374Z"
   },
   {
    "duration": 11,
    "start_time": "2022-12-04T00:43:57.437Z"
   },
   {
    "duration": 21,
    "start_time": "2022-12-04T00:43:57.450Z"
   },
   {
    "duration": 50,
    "start_time": "2022-12-04T00:43:57.473Z"
   },
   {
    "duration": 4,
    "start_time": "2022-12-04T00:43:57.525Z"
   },
   {
    "duration": 14,
    "start_time": "2022-12-04T00:43:57.531Z"
   },
   {
    "duration": 7,
    "start_time": "2022-12-04T00:43:57.547Z"
   },
   {
    "duration": 6,
    "start_time": "2022-12-04T00:43:57.555Z"
   },
   {
    "duration": 11,
    "start_time": "2022-12-04T00:43:57.563Z"
   },
   {
    "duration": 6,
    "start_time": "2022-12-04T00:43:57.575Z"
   },
   {
    "duration": 8,
    "start_time": "2022-12-04T00:43:57.616Z"
   },
   {
    "duration": 8,
    "start_time": "2022-12-04T00:43:57.628Z"
   },
   {
    "duration": 15,
    "start_time": "2022-12-04T00:43:57.637Z"
   },
   {
    "duration": 7,
    "start_time": "2022-12-04T00:43:57.653Z"
   },
   {
    "duration": 10,
    "start_time": "2022-12-04T00:43:57.661Z"
   },
   {
    "duration": 9,
    "start_time": "2022-12-04T00:43:57.673Z"
   },
   {
    "duration": 41,
    "start_time": "2022-12-04T00:43:57.683Z"
   },
   {
    "duration": 69,
    "start_time": "2022-12-04T00:43:57.726Z"
   },
   {
    "duration": 22,
    "start_time": "2022-12-04T00:43:57.797Z"
   },
   {
    "duration": 19,
    "start_time": "2022-12-04T00:43:57.820Z"
   },
   {
    "duration": 25,
    "start_time": "2022-12-04T00:43:57.841Z"
   },
   {
    "duration": 6,
    "start_time": "2022-12-04T00:43:57.867Z"
   },
   {
    "duration": 14,
    "start_time": "2022-12-04T00:43:57.875Z"
   },
   {
    "duration": 32,
    "start_time": "2022-12-04T00:43:57.890Z"
   },
   {
    "duration": 8,
    "start_time": "2022-12-04T00:43:57.924Z"
   },
   {
    "duration": 196,
    "start_time": "2022-12-04T00:43:57.933Z"
   },
   {
    "duration": 126,
    "start_time": "2022-12-04T00:43:58.130Z"
   },
   {
    "duration": 837,
    "start_time": "2022-12-04T00:43:58.257Z"
   },
   {
    "duration": 0,
    "start_time": "2022-12-04T00:43:59.098Z"
   },
   {
    "duration": 0,
    "start_time": "2022-12-04T00:43:59.099Z"
   },
   {
    "duration": 0,
    "start_time": "2022-12-04T00:43:59.100Z"
   },
   {
    "duration": 0,
    "start_time": "2022-12-04T00:43:59.101Z"
   },
   {
    "duration": 0,
    "start_time": "2022-12-04T00:43:59.103Z"
   },
   {
    "duration": 0,
    "start_time": "2022-12-04T00:43:59.104Z"
   },
   {
    "duration": 0,
    "start_time": "2022-12-04T00:43:59.105Z"
   },
   {
    "duration": 0,
    "start_time": "2022-12-04T00:43:59.106Z"
   },
   {
    "duration": 0,
    "start_time": "2022-12-04T00:43:59.107Z"
   },
   {
    "duration": 0,
    "start_time": "2022-12-04T00:43:59.109Z"
   },
   {
    "duration": 0,
    "start_time": "2022-12-04T00:43:59.110Z"
   },
   {
    "duration": 0,
    "start_time": "2022-12-04T00:43:59.111Z"
   },
   {
    "duration": 0,
    "start_time": "2022-12-04T00:43:59.112Z"
   },
   {
    "duration": 0,
    "start_time": "2022-12-04T00:43:59.113Z"
   },
   {
    "duration": 0,
    "start_time": "2022-12-04T00:43:59.114Z"
   },
   {
    "duration": 0,
    "start_time": "2022-12-04T00:43:59.115Z"
   },
   {
    "duration": 0,
    "start_time": "2022-12-04T00:43:59.116Z"
   },
   {
    "duration": 0,
    "start_time": "2022-12-04T00:43:59.117Z"
   },
   {
    "duration": 0,
    "start_time": "2022-12-04T00:43:59.118Z"
   },
   {
    "duration": 0,
    "start_time": "2022-12-04T00:43:59.119Z"
   },
   {
    "duration": 0,
    "start_time": "2022-12-04T00:43:59.120Z"
   },
   {
    "duration": 0,
    "start_time": "2022-12-04T00:43:59.121Z"
   },
   {
    "duration": 0,
    "start_time": "2022-12-04T00:43:59.122Z"
   },
   {
    "duration": 0,
    "start_time": "2022-12-04T00:43:59.123Z"
   },
   {
    "duration": 0,
    "start_time": "2022-12-04T00:43:59.125Z"
   },
   {
    "duration": 0,
    "start_time": "2022-12-04T00:43:59.126Z"
   },
   {
    "duration": 0,
    "start_time": "2022-12-04T00:43:59.127Z"
   },
   {
    "duration": 0,
    "start_time": "2022-12-04T00:43:59.127Z"
   },
   {
    "duration": 0,
    "start_time": "2022-12-04T00:43:59.128Z"
   },
   {
    "duration": 0,
    "start_time": "2022-12-04T00:43:59.129Z"
   },
   {
    "duration": 0,
    "start_time": "2022-12-04T00:43:59.130Z"
   },
   {
    "duration": 0,
    "start_time": "2022-12-04T00:43:59.131Z"
   },
   {
    "duration": 0,
    "start_time": "2022-12-04T00:43:59.132Z"
   },
   {
    "duration": 0,
    "start_time": "2022-12-04T00:43:59.133Z"
   },
   {
    "duration": 0,
    "start_time": "2022-12-04T00:43:59.134Z"
   },
   {
    "duration": 0,
    "start_time": "2022-12-04T00:43:59.135Z"
   },
   {
    "duration": 0,
    "start_time": "2022-12-04T00:43:59.136Z"
   },
   {
    "duration": 0,
    "start_time": "2022-12-04T00:43:59.138Z"
   },
   {
    "duration": 0,
    "start_time": "2022-12-04T00:43:59.139Z"
   },
   {
    "duration": 0,
    "start_time": "2022-12-04T00:43:59.140Z"
   },
   {
    "duration": 0,
    "start_time": "2022-12-04T00:43:59.141Z"
   },
   {
    "duration": 0,
    "start_time": "2022-12-04T00:43:59.142Z"
   },
   {
    "duration": 0,
    "start_time": "2022-12-04T00:43:59.143Z"
   },
   {
    "duration": 0,
    "start_time": "2022-12-04T00:43:59.144Z"
   },
   {
    "duration": 0,
    "start_time": "2022-12-04T00:43:59.145Z"
   },
   {
    "duration": 0,
    "start_time": "2022-12-04T00:43:59.146Z"
   },
   {
    "duration": 0,
    "start_time": "2022-12-04T00:43:59.147Z"
   },
   {
    "duration": 0,
    "start_time": "2022-12-04T00:43:59.148Z"
   },
   {
    "duration": 0,
    "start_time": "2022-12-04T00:43:59.149Z"
   },
   {
    "duration": 0,
    "start_time": "2022-12-04T00:43:59.150Z"
   },
   {
    "duration": 0,
    "start_time": "2022-12-04T00:43:59.151Z"
   },
   {
    "duration": 0,
    "start_time": "2022-12-04T00:43:59.152Z"
   },
   {
    "duration": 0,
    "start_time": "2022-12-04T00:43:59.153Z"
   },
   {
    "duration": 0,
    "start_time": "2022-12-04T00:43:59.215Z"
   },
   {
    "duration": 0,
    "start_time": "2022-12-04T00:43:59.217Z"
   },
   {
    "duration": 0,
    "start_time": "2022-12-04T00:43:59.218Z"
   },
   {
    "duration": 0,
    "start_time": "2022-12-04T00:43:59.219Z"
   },
   {
    "duration": 0,
    "start_time": "2022-12-04T00:43:59.220Z"
   },
   {
    "duration": 0,
    "start_time": "2022-12-04T00:43:59.221Z"
   },
   {
    "duration": 0,
    "start_time": "2022-12-04T00:43:59.222Z"
   },
   {
    "duration": 0,
    "start_time": "2022-12-04T00:43:59.223Z"
   },
   {
    "duration": 0,
    "start_time": "2022-12-04T00:43:59.224Z"
   },
   {
    "duration": 0,
    "start_time": "2022-12-04T00:43:59.225Z"
   },
   {
    "duration": 0,
    "start_time": "2022-12-04T00:43:59.226Z"
   },
   {
    "duration": 0,
    "start_time": "2022-12-04T00:43:59.227Z"
   },
   {
    "duration": 0,
    "start_time": "2022-12-04T00:43:59.228Z"
   },
   {
    "duration": 0,
    "start_time": "2022-12-04T00:43:59.229Z"
   },
   {
    "duration": 0,
    "start_time": "2022-12-04T00:43:59.229Z"
   },
   {
    "duration": 0,
    "start_time": "2022-12-04T00:43:59.230Z"
   },
   {
    "duration": 0,
    "start_time": "2022-12-04T00:43:59.231Z"
   },
   {
    "duration": 0,
    "start_time": "2022-12-04T00:43:59.232Z"
   },
   {
    "duration": 0,
    "start_time": "2022-12-04T00:43:59.233Z"
   },
   {
    "duration": 0,
    "start_time": "2022-12-04T00:43:59.234Z"
   },
   {
    "duration": 0,
    "start_time": "2022-12-04T00:43:59.235Z"
   },
   {
    "duration": 0,
    "start_time": "2022-12-04T00:43:59.236Z"
   },
   {
    "duration": 0,
    "start_time": "2022-12-04T00:43:59.237Z"
   },
   {
    "duration": 0,
    "start_time": "2022-12-04T00:43:59.238Z"
   },
   {
    "duration": 0,
    "start_time": "2022-12-04T00:43:59.239Z"
   },
   {
    "duration": 0,
    "start_time": "2022-12-04T00:43:59.240Z"
   },
   {
    "duration": 0,
    "start_time": "2022-12-04T00:43:59.241Z"
   },
   {
    "duration": 0,
    "start_time": "2022-12-04T00:43:59.242Z"
   },
   {
    "duration": 0,
    "start_time": "2022-12-04T00:43:59.243Z"
   },
   {
    "duration": 0,
    "start_time": "2022-12-04T00:43:59.245Z"
   },
   {
    "duration": 0,
    "start_time": "2022-12-04T00:43:59.246Z"
   },
   {
    "duration": 0,
    "start_time": "2022-12-04T00:43:59.248Z"
   },
   {
    "duration": 0,
    "start_time": "2022-12-04T00:43:59.249Z"
   },
   {
    "duration": 0,
    "start_time": "2022-12-04T00:43:59.250Z"
   },
   {
    "duration": 0,
    "start_time": "2022-12-04T00:43:59.316Z"
   },
   {
    "duration": 0,
    "start_time": "2022-12-04T00:43:59.318Z"
   },
   {
    "duration": 0,
    "start_time": "2022-12-04T00:43:59.319Z"
   },
   {
    "duration": 0,
    "start_time": "2022-12-04T00:43:59.320Z"
   },
   {
    "duration": 0,
    "start_time": "2022-12-04T00:43:59.321Z"
   },
   {
    "duration": 0,
    "start_time": "2022-12-04T00:43:59.322Z"
   },
   {
    "duration": 0,
    "start_time": "2022-12-04T00:43:59.323Z"
   },
   {
    "duration": 0,
    "start_time": "2022-12-04T00:43:59.324Z"
   },
   {
    "duration": 0,
    "start_time": "2022-12-04T00:43:59.325Z"
   },
   {
    "duration": 0,
    "start_time": "2022-12-04T00:43:59.326Z"
   },
   {
    "duration": 0,
    "start_time": "2022-12-04T00:43:59.327Z"
   },
   {
    "duration": 0,
    "start_time": "2022-12-04T00:43:59.328Z"
   },
   {
    "duration": 0,
    "start_time": "2022-12-04T00:43:59.329Z"
   },
   {
    "duration": 0,
    "start_time": "2022-12-04T00:43:59.330Z"
   },
   {
    "duration": 0,
    "start_time": "2022-12-04T00:43:59.331Z"
   },
   {
    "duration": 0,
    "start_time": "2022-12-04T00:43:59.332Z"
   },
   {
    "duration": 0,
    "start_time": "2022-12-04T00:43:59.333Z"
   },
   {
    "duration": 0,
    "start_time": "2022-12-04T00:43:59.335Z"
   },
   {
    "duration": 0,
    "start_time": "2022-12-04T00:43:59.335Z"
   },
   {
    "duration": 0,
    "start_time": "2022-12-04T00:43:59.336Z"
   },
   {
    "duration": 0,
    "start_time": "2022-12-04T00:43:59.337Z"
   },
   {
    "duration": 0,
    "start_time": "2022-12-04T00:43:59.339Z"
   },
   {
    "duration": 169,
    "start_time": "2022-12-04T00:59:11.347Z"
   },
   {
    "duration": 19,
    "start_time": "2022-12-04T01:07:32.833Z"
   },
   {
    "duration": 98,
    "start_time": "2022-12-04T01:10:17.506Z"
   },
   {
    "duration": 182,
    "start_time": "2022-12-04T01:10:30.763Z"
   },
   {
    "duration": 98,
    "start_time": "2022-12-04T01:11:29.464Z"
   },
   {
    "duration": 102,
    "start_time": "2022-12-04T01:11:36.927Z"
   },
   {
    "duration": 107,
    "start_time": "2022-12-04T01:12:20.827Z"
   },
   {
    "duration": 845,
    "start_time": "2022-12-04T01:14:51.384Z"
   },
   {
    "duration": 8,
    "start_time": "2022-12-04T01:17:16.459Z"
   },
   {
    "duration": 16,
    "start_time": "2022-12-04T01:17:55.811Z"
   },
   {
    "duration": 955,
    "start_time": "2022-12-04T01:18:14.855Z"
   },
   {
    "duration": 806,
    "start_time": "2022-12-04T01:18:43.390Z"
   },
   {
    "duration": 9,
    "start_time": "2022-12-04T01:20:07.865Z"
   },
   {
    "duration": 1301,
    "start_time": "2022-12-04T01:27:20.987Z"
   },
   {
    "duration": 139,
    "start_time": "2022-12-04T01:27:22.290Z"
   },
   {
    "duration": 84,
    "start_time": "2022-12-04T01:27:22.431Z"
   },
   {
    "duration": 17,
    "start_time": "2022-12-04T01:27:22.517Z"
   },
   {
    "duration": 12,
    "start_time": "2022-12-04T01:27:22.536Z"
   },
   {
    "duration": 15,
    "start_time": "2022-12-04T01:27:22.550Z"
   },
   {
    "duration": 23,
    "start_time": "2022-12-04T01:27:22.566Z"
   },
   {
    "duration": 43,
    "start_time": "2022-12-04T01:27:22.590Z"
   },
   {
    "duration": 21,
    "start_time": "2022-12-04T01:27:22.634Z"
   },
   {
    "duration": 28,
    "start_time": "2022-12-04T01:27:22.656Z"
   },
   {
    "duration": 32,
    "start_time": "2022-12-04T01:27:22.685Z"
   },
   {
    "duration": 21,
    "start_time": "2022-12-04T01:27:22.719Z"
   },
   {
    "duration": 12,
    "start_time": "2022-12-04T01:27:22.742Z"
   },
   {
    "duration": 9,
    "start_time": "2022-12-04T01:27:22.756Z"
   },
   {
    "duration": 7,
    "start_time": "2022-12-04T01:27:22.766Z"
   },
   {
    "duration": 17,
    "start_time": "2022-12-04T01:27:22.775Z"
   },
   {
    "duration": 41,
    "start_time": "2022-12-04T01:27:22.793Z"
   },
   {
    "duration": 11,
    "start_time": "2022-12-04T01:27:22.836Z"
   },
   {
    "duration": 15,
    "start_time": "2022-12-04T01:27:22.848Z"
   },
   {
    "duration": 51,
    "start_time": "2022-12-04T01:27:22.865Z"
   },
   {
    "duration": 3,
    "start_time": "2022-12-04T01:27:22.918Z"
   },
   {
    "duration": 16,
    "start_time": "2022-12-04T01:27:22.923Z"
   },
   {
    "duration": 12,
    "start_time": "2022-12-04T01:27:22.940Z"
   },
   {
    "duration": 15,
    "start_time": "2022-12-04T01:27:22.954Z"
   },
   {
    "duration": 13,
    "start_time": "2022-12-04T01:27:22.970Z"
   },
   {
    "duration": 19,
    "start_time": "2022-12-04T01:27:22.985Z"
   },
   {
    "duration": 19,
    "start_time": "2022-12-04T01:27:23.006Z"
   },
   {
    "duration": 13,
    "start_time": "2022-12-04T01:27:23.026Z"
   },
   {
    "duration": 18,
    "start_time": "2022-12-04T01:27:23.040Z"
   },
   {
    "duration": 9,
    "start_time": "2022-12-04T01:27:23.059Z"
   },
   {
    "duration": 13,
    "start_time": "2022-12-04T01:27:23.069Z"
   },
   {
    "duration": 11,
    "start_time": "2022-12-04T01:27:23.083Z"
   },
   {
    "duration": 24,
    "start_time": "2022-12-04T01:27:23.095Z"
   },
   {
    "duration": 71,
    "start_time": "2022-12-04T01:27:23.121Z"
   },
   {
    "duration": 11,
    "start_time": "2022-12-04T01:27:23.193Z"
   },
   {
    "duration": 29,
    "start_time": "2022-12-04T01:27:23.205Z"
   },
   {
    "duration": 24,
    "start_time": "2022-12-04T01:27:23.235Z"
   },
   {
    "duration": 5,
    "start_time": "2022-12-04T01:27:23.260Z"
   },
   {
    "duration": 13,
    "start_time": "2022-12-04T01:27:23.267Z"
   },
   {
    "duration": 15,
    "start_time": "2022-12-04T01:27:23.281Z"
   },
   {
    "duration": 18,
    "start_time": "2022-12-04T01:27:23.301Z"
   },
   {
    "duration": 195,
    "start_time": "2022-12-04T01:27:23.321Z"
   },
   {
    "duration": 103,
    "start_time": "2022-12-04T01:27:23.517Z"
   },
   {
    "duration": 1295,
    "start_time": "2022-12-04T01:28:33.827Z"
   },
   {
    "duration": 137,
    "start_time": "2022-12-04T01:28:35.124Z"
   },
   {
    "duration": 84,
    "start_time": "2022-12-04T01:28:35.263Z"
   },
   {
    "duration": 17,
    "start_time": "2022-12-04T01:28:35.349Z"
   },
   {
    "duration": 13,
    "start_time": "2022-12-04T01:28:35.368Z"
   },
   {
    "duration": 12,
    "start_time": "2022-12-04T01:28:35.382Z"
   },
   {
    "duration": 14,
    "start_time": "2022-12-04T01:28:35.395Z"
   },
   {
    "duration": 29,
    "start_time": "2022-12-04T01:28:35.410Z"
   },
   {
    "duration": 22,
    "start_time": "2022-12-04T01:28:35.441Z"
   },
   {
    "duration": 51,
    "start_time": "2022-12-04T01:28:35.465Z"
   },
   {
    "duration": 10,
    "start_time": "2022-12-04T01:28:35.518Z"
   },
   {
    "duration": 14,
    "start_time": "2022-12-04T01:28:35.531Z"
   },
   {
    "duration": 9,
    "start_time": "2022-12-04T01:28:35.547Z"
   },
   {
    "duration": 16,
    "start_time": "2022-12-04T01:28:35.558Z"
   },
   {
    "duration": 17,
    "start_time": "2022-12-04T01:28:35.576Z"
   },
   {
    "duration": 24,
    "start_time": "2022-12-04T01:28:35.595Z"
   },
   {
    "duration": 47,
    "start_time": "2022-12-04T01:28:35.620Z"
   },
   {
    "duration": 11,
    "start_time": "2022-12-04T01:28:35.669Z"
   },
   {
    "duration": 23,
    "start_time": "2022-12-04T01:28:35.681Z"
   },
   {
    "duration": 41,
    "start_time": "2022-12-04T01:28:35.715Z"
   },
   {
    "duration": 5,
    "start_time": "2022-12-04T01:28:35.758Z"
   },
   {
    "duration": 28,
    "start_time": "2022-12-04T01:28:35.764Z"
   },
   {
    "duration": 23,
    "start_time": "2022-12-04T01:28:35.793Z"
   },
   {
    "duration": 6,
    "start_time": "2022-12-04T01:28:35.818Z"
   },
   {
    "duration": 9,
    "start_time": "2022-12-04T01:28:35.826Z"
   },
   {
    "duration": 6,
    "start_time": "2022-12-04T01:28:35.837Z"
   },
   {
    "duration": 6,
    "start_time": "2022-12-04T01:28:35.845Z"
   },
   {
    "duration": 6,
    "start_time": "2022-12-04T01:28:35.855Z"
   },
   {
    "duration": 54,
    "start_time": "2022-12-04T01:28:35.862Z"
   },
   {
    "duration": 9,
    "start_time": "2022-12-04T01:28:35.918Z"
   },
   {
    "duration": 16,
    "start_time": "2022-12-04T01:28:35.928Z"
   },
   {
    "duration": 15,
    "start_time": "2022-12-04T01:28:35.945Z"
   },
   {
    "duration": 17,
    "start_time": "2022-12-04T01:28:35.962Z"
   },
   {
    "duration": 90,
    "start_time": "2022-12-04T01:28:35.981Z"
   },
   {
    "duration": 11,
    "start_time": "2022-12-04T01:28:36.073Z"
   },
   {
    "duration": 36,
    "start_time": "2022-12-04T01:28:36.086Z"
   },
   {
    "duration": 33,
    "start_time": "2022-12-04T01:28:36.123Z"
   },
   {
    "duration": 7,
    "start_time": "2022-12-04T01:28:36.158Z"
   },
   {
    "duration": 13,
    "start_time": "2022-12-04T01:28:36.166Z"
   },
   {
    "duration": 39,
    "start_time": "2022-12-04T01:28:36.181Z"
   },
   {
    "duration": 12,
    "start_time": "2022-12-04T01:28:36.222Z"
   },
   {
    "duration": 236,
    "start_time": "2022-12-04T01:28:36.236Z"
   },
   {
    "duration": 119,
    "start_time": "2022-12-04T01:28:36.473Z"
   },
   {
    "duration": 781,
    "start_time": "2022-12-04T01:28:36.594Z"
   },
   {
    "duration": 0,
    "start_time": "2022-12-04T01:28:37.379Z"
   },
   {
    "duration": 0,
    "start_time": "2022-12-04T01:28:37.380Z"
   },
   {
    "duration": 0,
    "start_time": "2022-12-04T01:28:37.381Z"
   },
   {
    "duration": 0,
    "start_time": "2022-12-04T01:28:37.381Z"
   },
   {
    "duration": 0,
    "start_time": "2022-12-04T01:28:37.383Z"
   },
   {
    "duration": 0,
    "start_time": "2022-12-04T01:28:37.384Z"
   },
   {
    "duration": 0,
    "start_time": "2022-12-04T01:28:37.385Z"
   },
   {
    "duration": 0,
    "start_time": "2022-12-04T01:28:37.386Z"
   },
   {
    "duration": 0,
    "start_time": "2022-12-04T01:28:37.387Z"
   },
   {
    "duration": 0,
    "start_time": "2022-12-04T01:28:37.388Z"
   },
   {
    "duration": 0,
    "start_time": "2022-12-04T01:28:37.389Z"
   },
   {
    "duration": 0,
    "start_time": "2022-12-04T01:28:37.389Z"
   },
   {
    "duration": 1,
    "start_time": "2022-12-04T01:28:37.390Z"
   },
   {
    "duration": 0,
    "start_time": "2022-12-04T01:28:37.392Z"
   },
   {
    "duration": 0,
    "start_time": "2022-12-04T01:28:37.392Z"
   },
   {
    "duration": 0,
    "start_time": "2022-12-04T01:28:37.394Z"
   },
   {
    "duration": 0,
    "start_time": "2022-12-04T01:28:37.395Z"
   },
   {
    "duration": 0,
    "start_time": "2022-12-04T01:28:37.397Z"
   },
   {
    "duration": 0,
    "start_time": "2022-12-04T01:28:37.399Z"
   },
   {
    "duration": 0,
    "start_time": "2022-12-04T01:28:37.400Z"
   },
   {
    "duration": 0,
    "start_time": "2022-12-04T01:28:37.402Z"
   },
   {
    "duration": 0,
    "start_time": "2022-12-04T01:28:37.403Z"
   },
   {
    "duration": 0,
    "start_time": "2022-12-04T01:28:37.405Z"
   },
   {
    "duration": 0,
    "start_time": "2022-12-04T01:28:37.406Z"
   },
   {
    "duration": 0,
    "start_time": "2022-12-04T01:28:37.407Z"
   },
   {
    "duration": 0,
    "start_time": "2022-12-04T01:28:37.409Z"
   },
   {
    "duration": 0,
    "start_time": "2022-12-04T01:28:37.410Z"
   },
   {
    "duration": 0,
    "start_time": "2022-12-04T01:28:37.412Z"
   },
   {
    "duration": 0,
    "start_time": "2022-12-04T01:28:37.413Z"
   },
   {
    "duration": 0,
    "start_time": "2022-12-04T01:28:37.415Z"
   },
   {
    "duration": 0,
    "start_time": "2022-12-04T01:28:37.416Z"
   },
   {
    "duration": 0,
    "start_time": "2022-12-04T01:28:37.417Z"
   },
   {
    "duration": 0,
    "start_time": "2022-12-04T01:28:37.419Z"
   },
   {
    "duration": 0,
    "start_time": "2022-12-04T01:28:37.420Z"
   },
   {
    "duration": 0,
    "start_time": "2022-12-04T01:28:37.422Z"
   },
   {
    "duration": 0,
    "start_time": "2022-12-04T01:28:37.423Z"
   },
   {
    "duration": 0,
    "start_time": "2022-12-04T01:28:37.424Z"
   },
   {
    "duration": 0,
    "start_time": "2022-12-04T01:28:37.427Z"
   },
   {
    "duration": 0,
    "start_time": "2022-12-04T01:28:37.429Z"
   },
   {
    "duration": 0,
    "start_time": "2022-12-04T01:28:37.431Z"
   },
   {
    "duration": 0,
    "start_time": "2022-12-04T01:28:37.432Z"
   },
   {
    "duration": 0,
    "start_time": "2022-12-04T01:28:37.433Z"
   },
   {
    "duration": 0,
    "start_time": "2022-12-04T01:28:37.434Z"
   },
   {
    "duration": 0,
    "start_time": "2022-12-04T01:28:37.435Z"
   },
   {
    "duration": 0,
    "start_time": "2022-12-04T01:28:37.436Z"
   },
   {
    "duration": 0,
    "start_time": "2022-12-04T01:28:37.437Z"
   },
   {
    "duration": 0,
    "start_time": "2022-12-04T01:28:37.438Z"
   },
   {
    "duration": 0,
    "start_time": "2022-12-04T01:28:37.439Z"
   },
   {
    "duration": 0,
    "start_time": "2022-12-04T01:28:37.440Z"
   },
   {
    "duration": 0,
    "start_time": "2022-12-04T01:28:37.441Z"
   },
   {
    "duration": 0,
    "start_time": "2022-12-04T01:28:37.443Z"
   },
   {
    "duration": 0,
    "start_time": "2022-12-04T01:28:37.444Z"
   },
   {
    "duration": 0,
    "start_time": "2022-12-04T01:28:37.446Z"
   },
   {
    "duration": 0,
    "start_time": "2022-12-04T01:28:37.447Z"
   },
   {
    "duration": 0,
    "start_time": "2022-12-04T01:28:37.448Z"
   },
   {
    "duration": 0,
    "start_time": "2022-12-04T01:28:37.449Z"
   },
   {
    "duration": 0,
    "start_time": "2022-12-04T01:28:37.450Z"
   },
   {
    "duration": 0,
    "start_time": "2022-12-04T01:28:37.452Z"
   },
   {
    "duration": 0,
    "start_time": "2022-12-04T01:28:37.453Z"
   },
   {
    "duration": 0,
    "start_time": "2022-12-04T01:28:37.454Z"
   },
   {
    "duration": 1,
    "start_time": "2022-12-04T01:28:37.455Z"
   },
   {
    "duration": 0,
    "start_time": "2022-12-04T01:28:37.516Z"
   },
   {
    "duration": 0,
    "start_time": "2022-12-04T01:28:37.517Z"
   },
   {
    "duration": 0,
    "start_time": "2022-12-04T01:28:37.518Z"
   },
   {
    "duration": 0,
    "start_time": "2022-12-04T01:28:37.519Z"
   },
   {
    "duration": 0,
    "start_time": "2022-12-04T01:28:37.521Z"
   },
   {
    "duration": 0,
    "start_time": "2022-12-04T01:28:37.522Z"
   },
   {
    "duration": 0,
    "start_time": "2022-12-04T01:28:37.523Z"
   },
   {
    "duration": 0,
    "start_time": "2022-12-04T01:28:37.524Z"
   },
   {
    "duration": 0,
    "start_time": "2022-12-04T01:28:37.525Z"
   },
   {
    "duration": 0,
    "start_time": "2022-12-04T01:28:37.525Z"
   },
   {
    "duration": 0,
    "start_time": "2022-12-04T01:28:37.527Z"
   },
   {
    "duration": 0,
    "start_time": "2022-12-04T01:28:37.528Z"
   },
   {
    "duration": 0,
    "start_time": "2022-12-04T01:28:37.529Z"
   },
   {
    "duration": 0,
    "start_time": "2022-12-04T01:28:37.530Z"
   },
   {
    "duration": 0,
    "start_time": "2022-12-04T01:28:37.530Z"
   },
   {
    "duration": 0,
    "start_time": "2022-12-04T01:28:37.531Z"
   },
   {
    "duration": 0,
    "start_time": "2022-12-04T01:28:37.532Z"
   },
   {
    "duration": 0,
    "start_time": "2022-12-04T01:28:37.533Z"
   },
   {
    "duration": 0,
    "start_time": "2022-12-04T01:28:37.534Z"
   },
   {
    "duration": 0,
    "start_time": "2022-12-04T01:28:37.535Z"
   },
   {
    "duration": 0,
    "start_time": "2022-12-04T01:28:37.536Z"
   },
   {
    "duration": 0,
    "start_time": "2022-12-04T01:28:37.537Z"
   },
   {
    "duration": 0,
    "start_time": "2022-12-04T01:28:37.537Z"
   },
   {
    "duration": 0,
    "start_time": "2022-12-04T01:28:37.538Z"
   },
   {
    "duration": 0,
    "start_time": "2022-12-04T01:28:37.539Z"
   },
   {
    "duration": 0,
    "start_time": "2022-12-04T01:28:37.540Z"
   },
   {
    "duration": 0,
    "start_time": "2022-12-04T01:28:37.541Z"
   },
   {
    "duration": 1,
    "start_time": "2022-12-04T01:28:37.541Z"
   },
   {
    "duration": 1,
    "start_time": "2022-12-04T01:28:37.542Z"
   },
   {
    "duration": 0,
    "start_time": "2022-12-04T01:28:37.544Z"
   },
   {
    "duration": 0,
    "start_time": "2022-12-04T01:28:37.545Z"
   },
   {
    "duration": 0,
    "start_time": "2022-12-04T01:28:37.546Z"
   },
   {
    "duration": 0,
    "start_time": "2022-12-04T01:28:37.547Z"
   },
   {
    "duration": 0,
    "start_time": "2022-12-04T01:28:37.548Z"
   },
   {
    "duration": 0,
    "start_time": "2022-12-04T01:28:37.549Z"
   },
   {
    "duration": 0,
    "start_time": "2022-12-04T01:28:37.550Z"
   },
   {
    "duration": 0,
    "start_time": "2022-12-04T01:28:37.616Z"
   },
   {
    "duration": 0,
    "start_time": "2022-12-04T01:28:37.617Z"
   },
   {
    "duration": 0,
    "start_time": "2022-12-04T01:28:37.618Z"
   },
   {
    "duration": 0,
    "start_time": "2022-12-04T01:28:37.619Z"
   },
   {
    "duration": 0,
    "start_time": "2022-12-04T01:28:37.620Z"
   },
   {
    "duration": 0,
    "start_time": "2022-12-04T01:28:37.621Z"
   },
   {
    "duration": 0,
    "start_time": "2022-12-04T01:28:37.622Z"
   },
   {
    "duration": 0,
    "start_time": "2022-12-04T01:28:37.624Z"
   },
   {
    "duration": 0,
    "start_time": "2022-12-04T01:28:37.624Z"
   },
   {
    "duration": 0,
    "start_time": "2022-12-04T01:28:37.626Z"
   },
   {
    "duration": 0,
    "start_time": "2022-12-04T01:28:37.627Z"
   },
   {
    "duration": 0,
    "start_time": "2022-12-04T01:28:37.628Z"
   },
   {
    "duration": 1258,
    "start_time": "2022-12-04T01:50:58.214Z"
   },
   {
    "duration": 73,
    "start_time": "2022-12-04T01:50:59.474Z"
   },
   {
    "duration": 28,
    "start_time": "2022-12-04T01:50:59.548Z"
   },
   {
    "duration": 17,
    "start_time": "2022-12-04T01:50:59.577Z"
   },
   {
    "duration": 12,
    "start_time": "2022-12-04T01:50:59.595Z"
   },
   {
    "duration": 10,
    "start_time": "2022-12-04T01:50:59.608Z"
   },
   {
    "duration": 15,
    "start_time": "2022-12-04T01:50:59.620Z"
   },
   {
    "duration": 27,
    "start_time": "2022-12-04T01:50:59.636Z"
   },
   {
    "duration": 20,
    "start_time": "2022-12-04T01:50:59.664Z"
   },
   {
    "duration": 48,
    "start_time": "2022-12-04T01:50:59.686Z"
   },
   {
    "duration": 9,
    "start_time": "2022-12-04T01:50:59.736Z"
   },
   {
    "duration": 10,
    "start_time": "2022-12-04T01:50:59.746Z"
   },
   {
    "duration": 10,
    "start_time": "2022-12-04T01:50:59.757Z"
   },
   {
    "duration": 8,
    "start_time": "2022-12-04T01:50:59.768Z"
   },
   {
    "duration": 5,
    "start_time": "2022-12-04T01:50:59.777Z"
   },
   {
    "duration": 33,
    "start_time": "2022-12-04T01:50:59.783Z"
   },
   {
    "duration": 30,
    "start_time": "2022-12-04T01:50:59.817Z"
   },
   {
    "duration": 11,
    "start_time": "2022-12-04T01:50:59.848Z"
   },
   {
    "duration": 17,
    "start_time": "2022-12-04T01:50:59.861Z"
   },
   {
    "duration": 62,
    "start_time": "2022-12-04T01:50:59.879Z"
   },
   {
    "duration": 4,
    "start_time": "2022-12-04T01:50:59.943Z"
   },
   {
    "duration": 14,
    "start_time": "2022-12-04T01:50:59.949Z"
   },
   {
    "duration": 8,
    "start_time": "2022-12-04T01:50:59.965Z"
   },
   {
    "duration": 8,
    "start_time": "2022-12-04T01:50:59.975Z"
   },
   {
    "duration": 33,
    "start_time": "2022-12-04T01:50:59.984Z"
   },
   {
    "duration": 22,
    "start_time": "2022-12-04T01:51:00.019Z"
   },
   {
    "duration": 7,
    "start_time": "2022-12-04T01:51:00.042Z"
   },
   {
    "duration": 7,
    "start_time": "2022-12-04T01:51:00.053Z"
   },
   {
    "duration": 29,
    "start_time": "2022-12-04T01:51:00.061Z"
   },
   {
    "duration": 15,
    "start_time": "2022-12-04T01:51:00.092Z"
   },
   {
    "duration": 19,
    "start_time": "2022-12-04T01:51:00.109Z"
   },
   {
    "duration": 11,
    "start_time": "2022-12-04T01:51:00.129Z"
   },
   {
    "duration": 11,
    "start_time": "2022-12-04T01:51:00.141Z"
   },
   {
    "duration": 73,
    "start_time": "2022-12-04T01:51:00.154Z"
   },
   {
    "duration": 10,
    "start_time": "2022-12-04T01:51:00.229Z"
   },
   {
    "duration": 30,
    "start_time": "2022-12-04T01:51:00.241Z"
   },
   {
    "duration": 22,
    "start_time": "2022-12-04T01:51:00.272Z"
   },
   {
    "duration": 22,
    "start_time": "2022-12-04T01:51:00.295Z"
   },
   {
    "duration": 29,
    "start_time": "2022-12-04T01:51:00.319Z"
   },
   {
    "duration": 9,
    "start_time": "2022-12-04T01:51:00.350Z"
   },
   {
    "duration": 24,
    "start_time": "2022-12-04T01:51:00.360Z"
   },
   {
    "duration": 222,
    "start_time": "2022-12-04T01:51:00.385Z"
   },
   {
    "duration": 129,
    "start_time": "2022-12-04T01:51:00.608Z"
   },
   {
    "duration": 17,
    "start_time": "2022-12-04T01:51:00.739Z"
   },
   {
    "duration": 19,
    "start_time": "2022-12-04T01:51:00.758Z"
   },
   {
    "duration": 28,
    "start_time": "2022-12-04T01:51:00.778Z"
   },
   {
    "duration": 45,
    "start_time": "2022-12-04T01:51:00.807Z"
   },
   {
    "duration": 148,
    "start_time": "2022-12-04T01:51:00.854Z"
   },
   {
    "duration": 113,
    "start_time": "2022-12-04T01:51:01.003Z"
   },
   {
    "duration": 43,
    "start_time": "2022-12-04T01:51:01.117Z"
   },
   {
    "duration": 27,
    "start_time": "2022-12-04T01:51:01.161Z"
   },
   {
    "duration": 250,
    "start_time": "2022-12-04T01:51:01.189Z"
   },
   {
    "duration": 5,
    "start_time": "2022-12-04T01:51:01.440Z"
   },
   {
    "duration": 30,
    "start_time": "2022-12-04T01:51:01.447Z"
   },
   {
    "duration": 120,
    "start_time": "2022-12-04T01:51:01.479Z"
   },
   {
    "duration": 17,
    "start_time": "2022-12-04T01:51:01.600Z"
   },
   {
    "duration": 115,
    "start_time": "2022-12-04T01:51:01.618Z"
   },
   {
    "duration": 11,
    "start_time": "2022-12-04T01:51:01.736Z"
   },
   {
    "duration": 110,
    "start_time": "2022-12-04T01:51:01.748Z"
   },
   {
    "duration": 10,
    "start_time": "2022-12-04T01:51:01.859Z"
   },
   {
    "duration": 133,
    "start_time": "2022-12-04T01:51:01.871Z"
   },
   {
    "duration": 28,
    "start_time": "2022-12-04T01:51:02.005Z"
   },
   {
    "duration": 12,
    "start_time": "2022-12-04T01:51:02.034Z"
   },
   {
    "duration": 20,
    "start_time": "2022-12-04T01:51:02.048Z"
   },
   {
    "duration": 140,
    "start_time": "2022-12-04T01:51:02.070Z"
   },
   {
    "duration": 111,
    "start_time": "2022-12-04T01:51:02.215Z"
   },
   {
    "duration": 0,
    "start_time": "2022-12-04T01:51:02.331Z"
   },
   {
    "duration": 0,
    "start_time": "2022-12-04T01:51:02.333Z"
   },
   {
    "duration": 0,
    "start_time": "2022-12-04T01:51:02.334Z"
   },
   {
    "duration": 0,
    "start_time": "2022-12-04T01:51:02.336Z"
   },
   {
    "duration": 0,
    "start_time": "2022-12-04T01:51:02.337Z"
   },
   {
    "duration": 0,
    "start_time": "2022-12-04T01:51:02.338Z"
   },
   {
    "duration": 0,
    "start_time": "2022-12-04T01:51:02.340Z"
   },
   {
    "duration": 0,
    "start_time": "2022-12-04T01:51:02.341Z"
   },
   {
    "duration": 0,
    "start_time": "2022-12-04T01:51:02.343Z"
   },
   {
    "duration": 0,
    "start_time": "2022-12-04T01:51:02.344Z"
   },
   {
    "duration": 0,
    "start_time": "2022-12-04T01:51:02.346Z"
   },
   {
    "duration": 0,
    "start_time": "2022-12-04T01:51:02.348Z"
   },
   {
    "duration": 0,
    "start_time": "2022-12-04T01:51:02.349Z"
   },
   {
    "duration": 0,
    "start_time": "2022-12-04T01:51:02.350Z"
   },
   {
    "duration": 0,
    "start_time": "2022-12-04T01:51:02.351Z"
   },
   {
    "duration": 0,
    "start_time": "2022-12-04T01:51:02.352Z"
   },
   {
    "duration": 0,
    "start_time": "2022-12-04T01:51:02.353Z"
   },
   {
    "duration": 0,
    "start_time": "2022-12-04T01:51:02.354Z"
   },
   {
    "duration": 0,
    "start_time": "2022-12-04T01:51:02.355Z"
   },
   {
    "duration": 0,
    "start_time": "2022-12-04T01:51:02.356Z"
   },
   {
    "duration": 0,
    "start_time": "2022-12-04T01:51:02.357Z"
   },
   {
    "duration": 0,
    "start_time": "2022-12-04T01:51:02.358Z"
   },
   {
    "duration": 0,
    "start_time": "2022-12-04T01:51:02.359Z"
   },
   {
    "duration": 0,
    "start_time": "2022-12-04T01:51:02.360Z"
   },
   {
    "duration": 0,
    "start_time": "2022-12-04T01:51:02.361Z"
   },
   {
    "duration": 0,
    "start_time": "2022-12-04T01:51:02.362Z"
   },
   {
    "duration": 0,
    "start_time": "2022-12-04T01:51:02.416Z"
   },
   {
    "duration": 0,
    "start_time": "2022-12-04T01:51:02.418Z"
   },
   {
    "duration": 0,
    "start_time": "2022-12-04T01:51:02.419Z"
   },
   {
    "duration": 0,
    "start_time": "2022-12-04T01:51:02.420Z"
   },
   {
    "duration": 0,
    "start_time": "2022-12-04T01:51:02.420Z"
   },
   {
    "duration": 0,
    "start_time": "2022-12-04T01:51:02.422Z"
   },
   {
    "duration": 0,
    "start_time": "2022-12-04T01:51:02.423Z"
   },
   {
    "duration": 0,
    "start_time": "2022-12-04T01:51:02.424Z"
   },
   {
    "duration": 0,
    "start_time": "2022-12-04T01:51:02.425Z"
   },
   {
    "duration": 0,
    "start_time": "2022-12-04T01:51:02.426Z"
   },
   {
    "duration": 0,
    "start_time": "2022-12-04T01:51:02.427Z"
   },
   {
    "duration": 0,
    "start_time": "2022-12-04T01:51:02.428Z"
   },
   {
    "duration": 0,
    "start_time": "2022-12-04T01:51:02.430Z"
   },
   {
    "duration": 0,
    "start_time": "2022-12-04T01:51:02.431Z"
   },
   {
    "duration": 0,
    "start_time": "2022-12-04T01:51:02.432Z"
   },
   {
    "duration": 0,
    "start_time": "2022-12-04T01:51:02.433Z"
   },
   {
    "duration": 0,
    "start_time": "2022-12-04T01:51:02.434Z"
   },
   {
    "duration": 0,
    "start_time": "2022-12-04T01:51:02.435Z"
   },
   {
    "duration": 0,
    "start_time": "2022-12-04T01:51:02.436Z"
   },
   {
    "duration": 0,
    "start_time": "2022-12-04T01:51:02.437Z"
   },
   {
    "duration": 0,
    "start_time": "2022-12-04T01:51:02.438Z"
   },
   {
    "duration": 0,
    "start_time": "2022-12-04T01:51:02.439Z"
   },
   {
    "duration": 0,
    "start_time": "2022-12-04T01:51:02.440Z"
   },
   {
    "duration": 0,
    "start_time": "2022-12-04T01:51:02.441Z"
   },
   {
    "duration": 0,
    "start_time": "2022-12-04T01:51:02.443Z"
   },
   {
    "duration": 0,
    "start_time": "2022-12-04T01:51:02.444Z"
   },
   {
    "duration": 0,
    "start_time": "2022-12-04T01:51:02.444Z"
   },
   {
    "duration": 0,
    "start_time": "2022-12-04T01:51:02.445Z"
   },
   {
    "duration": 0,
    "start_time": "2022-12-04T01:51:02.446Z"
   },
   {
    "duration": 0,
    "start_time": "2022-12-04T01:51:02.447Z"
   },
   {
    "duration": 0,
    "start_time": "2022-12-04T01:51:02.448Z"
   },
   {
    "duration": 0,
    "start_time": "2022-12-04T01:51:02.449Z"
   },
   {
    "duration": 0,
    "start_time": "2022-12-04T01:51:02.450Z"
   },
   {
    "duration": 0,
    "start_time": "2022-12-04T01:51:02.451Z"
   },
   {
    "duration": 0,
    "start_time": "2022-12-04T01:51:02.452Z"
   },
   {
    "duration": 0,
    "start_time": "2022-12-04T01:51:02.453Z"
   },
   {
    "duration": 0,
    "start_time": "2022-12-04T01:51:02.454Z"
   },
   {
    "duration": 0,
    "start_time": "2022-12-04T01:51:02.516Z"
   },
   {
    "duration": 0,
    "start_time": "2022-12-04T01:51:02.517Z"
   },
   {
    "duration": 0,
    "start_time": "2022-12-04T01:51:02.518Z"
   },
   {
    "duration": 0,
    "start_time": "2022-12-04T01:51:02.519Z"
   },
   {
    "duration": 0,
    "start_time": "2022-12-04T01:51:02.520Z"
   },
   {
    "duration": 0,
    "start_time": "2022-12-04T01:51:02.521Z"
   },
   {
    "duration": 0,
    "start_time": "2022-12-04T01:51:02.522Z"
   },
   {
    "duration": 0,
    "start_time": "2022-12-04T01:51:02.523Z"
   },
   {
    "duration": 0,
    "start_time": "2022-12-04T01:51:02.524Z"
   },
   {
    "duration": 0,
    "start_time": "2022-12-04T01:51:02.525Z"
   },
   {
    "duration": 0,
    "start_time": "2022-12-04T01:51:02.525Z"
   },
   {
    "duration": 0,
    "start_time": "2022-12-04T01:51:02.526Z"
   },
   {
    "duration": 0,
    "start_time": "2022-12-04T01:51:02.527Z"
   },
   {
    "duration": 0,
    "start_time": "2022-12-04T01:51:02.528Z"
   },
   {
    "duration": 0,
    "start_time": "2022-12-04T01:51:02.529Z"
   },
   {
    "duration": 0,
    "start_time": "2022-12-04T01:51:02.530Z"
   },
   {
    "duration": 0,
    "start_time": "2022-12-04T01:51:02.531Z"
   },
   {
    "duration": 0,
    "start_time": "2022-12-04T01:51:02.532Z"
   },
   {
    "duration": 0,
    "start_time": "2022-12-04T01:51:02.533Z"
   },
   {
    "duration": 0,
    "start_time": "2022-12-04T01:51:02.534Z"
   },
   {
    "duration": 0,
    "start_time": "2022-12-04T01:51:02.535Z"
   },
   {
    "duration": 0,
    "start_time": "2022-12-04T01:51:02.536Z"
   },
   {
    "duration": 0,
    "start_time": "2022-12-04T01:51:02.537Z"
   },
   {
    "duration": 0,
    "start_time": "2022-12-04T01:51:02.538Z"
   },
   {
    "duration": 131,
    "start_time": "2022-12-04T01:54:57.330Z"
   },
   {
    "duration": 5,
    "start_time": "2022-12-04T02:13:41.688Z"
   },
   {
    "duration": 8,
    "start_time": "2022-12-04T02:15:52.885Z"
   },
   {
    "duration": 5,
    "start_time": "2022-12-04T02:15:57.898Z"
   },
   {
    "duration": 29,
    "start_time": "2022-12-04T02:34:20.234Z"
   },
   {
    "duration": 14,
    "start_time": "2022-12-04T02:34:54.512Z"
   },
   {
    "duration": 13,
    "start_time": "2022-12-04T02:35:09.937Z"
   },
   {
    "duration": 5,
    "start_time": "2022-12-04T02:35:29.853Z"
   },
   {
    "duration": 5,
    "start_time": "2022-12-04T02:37:13.347Z"
   },
   {
    "duration": 15,
    "start_time": "2022-12-04T02:45:27.063Z"
   },
   {
    "duration": 13,
    "start_time": "2022-12-04T02:45:44.547Z"
   },
   {
    "duration": 5,
    "start_time": "2022-12-04T02:45:58.912Z"
   },
   {
    "duration": 39,
    "start_time": "2022-12-04T02:53:23.428Z"
   },
   {
    "duration": 5,
    "start_time": "2022-12-04T02:54:52.198Z"
   },
   {
    "duration": 15,
    "start_time": "2022-12-04T02:55:02.406Z"
   },
   {
    "duration": 661,
    "start_time": "2022-12-04T02:55:30.887Z"
   },
   {
    "duration": 572,
    "start_time": "2022-12-04T02:55:55.504Z"
   },
   {
    "duration": 5,
    "start_time": "2022-12-04T02:59:52.671Z"
   },
   {
    "duration": 198,
    "start_time": "2022-12-04T03:00:02.254Z"
   },
   {
    "duration": 193,
    "start_time": "2022-12-04T03:00:14.349Z"
   },
   {
    "duration": 226,
    "start_time": "2022-12-04T03:00:25.818Z"
   },
   {
    "duration": 238,
    "start_time": "2022-12-04T03:01:26.012Z"
   },
   {
    "duration": 1231,
    "start_time": "2022-12-04T03:08:01.901Z"
   },
   {
    "duration": 75,
    "start_time": "2022-12-04T03:08:03.134Z"
   },
   {
    "duration": 28,
    "start_time": "2022-12-04T03:08:03.210Z"
   },
   {
    "duration": 18,
    "start_time": "2022-12-04T03:08:03.240Z"
   },
   {
    "duration": 13,
    "start_time": "2022-12-04T03:08:03.259Z"
   },
   {
    "duration": 11,
    "start_time": "2022-12-04T03:08:03.273Z"
   },
   {
    "duration": 12,
    "start_time": "2022-12-04T03:08:03.286Z"
   },
   {
    "duration": 35,
    "start_time": "2022-12-04T03:08:03.299Z"
   },
   {
    "duration": 20,
    "start_time": "2022-12-04T03:08:03.335Z"
   },
   {
    "duration": 27,
    "start_time": "2022-12-04T03:08:03.357Z"
   },
   {
    "duration": 9,
    "start_time": "2022-12-04T03:08:03.385Z"
   },
   {
    "duration": 7,
    "start_time": "2022-12-04T03:08:03.415Z"
   },
   {
    "duration": 17,
    "start_time": "2022-12-04T03:08:03.423Z"
   },
   {
    "duration": 15,
    "start_time": "2022-12-04T03:08:03.441Z"
   },
   {
    "duration": 23,
    "start_time": "2022-12-04T03:08:03.457Z"
   },
   {
    "duration": 20,
    "start_time": "2022-12-04T03:08:03.482Z"
   },
   {
    "duration": 56,
    "start_time": "2022-12-04T03:08:03.503Z"
   },
   {
    "duration": 11,
    "start_time": "2022-12-04T03:08:03.560Z"
   },
   {
    "duration": 22,
    "start_time": "2022-12-04T03:08:03.573Z"
   },
   {
    "duration": 42,
    "start_time": "2022-12-04T03:08:03.597Z"
   },
   {
    "duration": 4,
    "start_time": "2022-12-04T03:08:03.641Z"
   },
   {
    "duration": 24,
    "start_time": "2022-12-04T03:08:03.646Z"
   },
   {
    "duration": 14,
    "start_time": "2022-12-04T03:08:03.671Z"
   },
   {
    "duration": 9,
    "start_time": "2022-12-04T03:08:03.687Z"
   },
   {
    "duration": 17,
    "start_time": "2022-12-04T03:08:03.697Z"
   },
   {
    "duration": 16,
    "start_time": "2022-12-04T03:08:03.716Z"
   },
   {
    "duration": 13,
    "start_time": "2022-12-04T03:08:03.734Z"
   },
   {
    "duration": 11,
    "start_time": "2022-12-04T03:08:03.751Z"
   },
   {
    "duration": 18,
    "start_time": "2022-12-04T03:08:03.764Z"
   },
   {
    "duration": 13,
    "start_time": "2022-12-04T03:08:03.784Z"
   },
   {
    "duration": 12,
    "start_time": "2022-12-04T03:08:03.799Z"
   },
   {
    "duration": 13,
    "start_time": "2022-12-04T03:08:03.813Z"
   },
   {
    "duration": 13,
    "start_time": "2022-12-04T03:08:03.827Z"
   },
   {
    "duration": 72,
    "start_time": "2022-12-04T03:08:03.842Z"
   },
   {
    "duration": 11,
    "start_time": "2022-12-04T03:08:03.916Z"
   },
   {
    "duration": 20,
    "start_time": "2022-12-04T03:08:03.928Z"
   },
   {
    "duration": 18,
    "start_time": "2022-12-04T03:08:03.949Z"
   },
   {
    "duration": 6,
    "start_time": "2022-12-04T03:08:03.969Z"
   },
   {
    "duration": 42,
    "start_time": "2022-12-04T03:08:03.976Z"
   },
   {
    "duration": 9,
    "start_time": "2022-12-04T03:08:04.019Z"
   },
   {
    "duration": 7,
    "start_time": "2022-12-04T03:08:04.029Z"
   },
   {
    "duration": 214,
    "start_time": "2022-12-04T03:08:04.037Z"
   },
   {
    "duration": 142,
    "start_time": "2022-12-04T03:08:04.252Z"
   },
   {
    "duration": 24,
    "start_time": "2022-12-04T03:08:04.396Z"
   },
   {
    "duration": 11,
    "start_time": "2022-12-04T03:08:04.421Z"
   },
   {
    "duration": 4,
    "start_time": "2022-12-04T03:08:04.433Z"
   },
   {
    "duration": 8,
    "start_time": "2022-12-04T03:08:04.438Z"
   },
   {
    "duration": 130,
    "start_time": "2022-12-04T03:08:04.447Z"
   },
   {
    "duration": 118,
    "start_time": "2022-12-04T03:08:04.578Z"
   },
   {
    "duration": 48,
    "start_time": "2022-12-04T03:08:04.698Z"
   },
   {
    "duration": 15,
    "start_time": "2022-12-04T03:08:04.747Z"
   },
   {
    "duration": 231,
    "start_time": "2022-12-04T03:08:04.763Z"
   },
   {
    "duration": 5,
    "start_time": "2022-12-04T03:08:04.996Z"
   },
   {
    "duration": 24,
    "start_time": "2022-12-04T03:08:05.002Z"
   },
   {
    "duration": 124,
    "start_time": "2022-12-04T03:08:05.028Z"
   },
   {
    "duration": 12,
    "start_time": "2022-12-04T03:08:05.153Z"
   },
   {
    "duration": 113,
    "start_time": "2022-12-04T03:08:05.166Z"
   },
   {
    "duration": 13,
    "start_time": "2022-12-04T03:08:05.281Z"
   },
   {
    "duration": 120,
    "start_time": "2022-12-04T03:08:05.295Z"
   },
   {
    "duration": 10,
    "start_time": "2022-12-04T03:08:05.417Z"
   },
   {
    "duration": 119,
    "start_time": "2022-12-04T03:08:05.429Z"
   },
   {
    "duration": 27,
    "start_time": "2022-12-04T03:08:05.550Z"
   },
   {
    "duration": 13,
    "start_time": "2022-12-04T03:08:05.578Z"
   },
   {
    "duration": 23,
    "start_time": "2022-12-04T03:08:05.592Z"
   },
   {
    "duration": 12,
    "start_time": "2022-12-04T03:08:05.617Z"
   },
   {
    "duration": 5,
    "start_time": "2022-12-04T03:08:05.631Z"
   },
   {
    "duration": 232,
    "start_time": "2022-12-04T03:08:05.637Z"
   },
   {
    "duration": 9,
    "start_time": "2022-12-04T03:08:05.871Z"
   },
   {
    "duration": 129,
    "start_time": "2022-12-04T03:08:05.881Z"
   },
   {
    "duration": 115,
    "start_time": "2022-12-04T03:08:06.015Z"
   },
   {
    "duration": 0,
    "start_time": "2022-12-04T03:08:06.135Z"
   },
   {
    "duration": 0,
    "start_time": "2022-12-04T03:08:06.136Z"
   },
   {
    "duration": 0,
    "start_time": "2022-12-04T03:08:06.137Z"
   },
   {
    "duration": 0,
    "start_time": "2022-12-04T03:08:06.137Z"
   },
   {
    "duration": 0,
    "start_time": "2022-12-04T03:08:06.139Z"
   },
   {
    "duration": 0,
    "start_time": "2022-12-04T03:08:06.140Z"
   },
   {
    "duration": 0,
    "start_time": "2022-12-04T03:08:06.141Z"
   },
   {
    "duration": 0,
    "start_time": "2022-12-04T03:08:06.142Z"
   },
   {
    "duration": 0,
    "start_time": "2022-12-04T03:08:06.144Z"
   },
   {
    "duration": 0,
    "start_time": "2022-12-04T03:08:06.145Z"
   },
   {
    "duration": 0,
    "start_time": "2022-12-04T03:08:06.146Z"
   },
   {
    "duration": 0,
    "start_time": "2022-12-04T03:08:06.147Z"
   },
   {
    "duration": 0,
    "start_time": "2022-12-04T03:08:06.148Z"
   },
   {
    "duration": 0,
    "start_time": "2022-12-04T03:08:06.149Z"
   },
   {
    "duration": 0,
    "start_time": "2022-12-04T03:08:06.151Z"
   },
   {
    "duration": 0,
    "start_time": "2022-12-04T03:08:06.151Z"
   },
   {
    "duration": 0,
    "start_time": "2022-12-04T03:08:06.153Z"
   },
   {
    "duration": 0,
    "start_time": "2022-12-04T03:08:06.154Z"
   },
   {
    "duration": 0,
    "start_time": "2022-12-04T03:08:06.155Z"
   },
   {
    "duration": 0,
    "start_time": "2022-12-04T03:08:06.156Z"
   },
   {
    "duration": 0,
    "start_time": "2022-12-04T03:08:06.157Z"
   },
   {
    "duration": 0,
    "start_time": "2022-12-04T03:08:06.158Z"
   },
   {
    "duration": 0,
    "start_time": "2022-12-04T03:08:06.159Z"
   },
   {
    "duration": 0,
    "start_time": "2022-12-04T03:08:06.160Z"
   },
   {
    "duration": 0,
    "start_time": "2022-12-04T03:08:06.161Z"
   },
   {
    "duration": 0,
    "start_time": "2022-12-04T03:08:06.161Z"
   },
   {
    "duration": 0,
    "start_time": "2022-12-04T03:08:06.163Z"
   },
   {
    "duration": 0,
    "start_time": "2022-12-04T03:08:06.164Z"
   },
   {
    "duration": 1,
    "start_time": "2022-12-04T03:08:06.164Z"
   },
   {
    "duration": 0,
    "start_time": "2022-12-04T03:08:06.220Z"
   },
   {
    "duration": 0,
    "start_time": "2022-12-04T03:08:06.221Z"
   },
   {
    "duration": 0,
    "start_time": "2022-12-04T03:08:06.223Z"
   },
   {
    "duration": 0,
    "start_time": "2022-12-04T03:08:06.225Z"
   },
   {
    "duration": 0,
    "start_time": "2022-12-04T03:08:06.226Z"
   },
   {
    "duration": 0,
    "start_time": "2022-12-04T03:08:06.228Z"
   },
   {
    "duration": 0,
    "start_time": "2022-12-04T03:08:06.230Z"
   },
   {
    "duration": 0,
    "start_time": "2022-12-04T03:08:06.231Z"
   },
   {
    "duration": 0,
    "start_time": "2022-12-04T03:08:06.232Z"
   },
   {
    "duration": 0,
    "start_time": "2022-12-04T03:08:06.234Z"
   },
   {
    "duration": 0,
    "start_time": "2022-12-04T03:08:06.235Z"
   },
   {
    "duration": 0,
    "start_time": "2022-12-04T03:08:06.237Z"
   },
   {
    "duration": 0,
    "start_time": "2022-12-04T03:08:06.238Z"
   },
   {
    "duration": 0,
    "start_time": "2022-12-04T03:08:06.239Z"
   },
   {
    "duration": 0,
    "start_time": "2022-12-04T03:08:06.241Z"
   },
   {
    "duration": 0,
    "start_time": "2022-12-04T03:08:06.242Z"
   },
   {
    "duration": 0,
    "start_time": "2022-12-04T03:08:06.244Z"
   },
   {
    "duration": 0,
    "start_time": "2022-12-04T03:08:06.245Z"
   },
   {
    "duration": 0,
    "start_time": "2022-12-04T03:08:06.247Z"
   },
   {
    "duration": 1,
    "start_time": "2022-12-04T03:08:06.248Z"
   },
   {
    "duration": 0,
    "start_time": "2022-12-04T03:08:06.250Z"
   },
   {
    "duration": 0,
    "start_time": "2022-12-04T03:08:06.251Z"
   },
   {
    "duration": 0,
    "start_time": "2022-12-04T03:08:06.253Z"
   },
   {
    "duration": 0,
    "start_time": "2022-12-04T03:08:06.254Z"
   },
   {
    "duration": 0,
    "start_time": "2022-12-04T03:08:06.320Z"
   },
   {
    "duration": 0,
    "start_time": "2022-12-04T03:08:06.321Z"
   },
   {
    "duration": 0,
    "start_time": "2022-12-04T03:08:06.323Z"
   },
   {
    "duration": 0,
    "start_time": "2022-12-04T03:08:06.324Z"
   },
   {
    "duration": 1,
    "start_time": "2022-12-04T03:08:06.325Z"
   },
   {
    "duration": 0,
    "start_time": "2022-12-04T03:08:06.327Z"
   },
   {
    "duration": 0,
    "start_time": "2022-12-04T03:08:06.328Z"
   },
   {
    "duration": 0,
    "start_time": "2022-12-04T03:08:06.330Z"
   },
   {
    "duration": 0,
    "start_time": "2022-12-04T03:08:06.331Z"
   },
   {
    "duration": 0,
    "start_time": "2022-12-04T03:08:06.332Z"
   },
   {
    "duration": 0,
    "start_time": "2022-12-04T03:08:06.333Z"
   },
   {
    "duration": 0,
    "start_time": "2022-12-04T03:08:06.335Z"
   },
   {
    "duration": 0,
    "start_time": "2022-12-04T03:08:06.341Z"
   },
   {
    "duration": 0,
    "start_time": "2022-12-04T03:08:06.342Z"
   },
   {
    "duration": 0,
    "start_time": "2022-12-04T03:08:06.343Z"
   },
   {
    "duration": 0,
    "start_time": "2022-12-04T03:08:06.344Z"
   },
   {
    "duration": 0,
    "start_time": "2022-12-04T03:08:06.345Z"
   },
   {
    "duration": 0,
    "start_time": "2022-12-04T03:08:06.346Z"
   },
   {
    "duration": 0,
    "start_time": "2022-12-04T03:08:06.348Z"
   },
   {
    "duration": 0,
    "start_time": "2022-12-04T03:08:06.349Z"
   },
   {
    "duration": 0,
    "start_time": "2022-12-04T03:08:06.350Z"
   },
   {
    "duration": 0,
    "start_time": "2022-12-04T03:08:06.351Z"
   },
   {
    "duration": 0,
    "start_time": "2022-12-04T03:08:06.353Z"
   },
   {
    "duration": 0,
    "start_time": "2022-12-04T03:08:06.355Z"
   },
   {
    "duration": 0,
    "start_time": "2022-12-04T03:08:06.356Z"
   },
   {
    "duration": 0,
    "start_time": "2022-12-04T03:08:06.357Z"
   },
   {
    "duration": 0,
    "start_time": "2022-12-04T03:08:06.415Z"
   },
   {
    "duration": 0,
    "start_time": "2022-12-04T03:08:06.417Z"
   },
   {
    "duration": 0,
    "start_time": "2022-12-04T03:08:06.418Z"
   },
   {
    "duration": 0,
    "start_time": "2022-12-04T03:08:06.419Z"
   },
   {
    "duration": 0,
    "start_time": "2022-12-04T03:08:06.420Z"
   },
   {
    "duration": 0,
    "start_time": "2022-12-04T03:08:06.422Z"
   },
   {
    "duration": 0,
    "start_time": "2022-12-04T03:08:06.423Z"
   },
   {
    "duration": 0,
    "start_time": "2022-12-04T03:08:06.425Z"
   },
   {
    "duration": 10,
    "start_time": "2022-12-04T03:11:38.470Z"
   },
   {
    "duration": 17,
    "start_time": "2022-12-04T03:13:51.163Z"
   },
   {
    "duration": 1241,
    "start_time": "2022-12-04T03:14:01.315Z"
   },
   {
    "duration": 79,
    "start_time": "2022-12-04T03:14:02.558Z"
   },
   {
    "duration": 31,
    "start_time": "2022-12-04T03:14:02.639Z"
   },
   {
    "duration": 16,
    "start_time": "2022-12-04T03:14:02.672Z"
   },
   {
    "duration": 13,
    "start_time": "2022-12-04T03:14:02.690Z"
   },
   {
    "duration": 12,
    "start_time": "2022-12-04T03:14:02.704Z"
   },
   {
    "duration": 13,
    "start_time": "2022-12-04T03:14:02.717Z"
   },
   {
    "duration": 26,
    "start_time": "2022-12-04T03:14:02.731Z"
   },
   {
    "duration": 21,
    "start_time": "2022-12-04T03:14:02.758Z"
   },
   {
    "duration": 44,
    "start_time": "2022-12-04T03:14:02.780Z"
   },
   {
    "duration": 9,
    "start_time": "2022-12-04T03:14:02.825Z"
   },
   {
    "duration": 13,
    "start_time": "2022-12-04T03:14:02.836Z"
   },
   {
    "duration": 8,
    "start_time": "2022-12-04T03:14:02.850Z"
   },
   {
    "duration": 7,
    "start_time": "2022-12-04T03:14:02.860Z"
   },
   {
    "duration": 5,
    "start_time": "2022-12-04T03:14:02.868Z"
   },
   {
    "duration": 12,
    "start_time": "2022-12-04T03:14:02.874Z"
   },
   {
    "duration": 53,
    "start_time": "2022-12-04T03:14:02.887Z"
   },
   {
    "duration": 10,
    "start_time": "2022-12-04T03:14:02.941Z"
   },
   {
    "duration": 15,
    "start_time": "2022-12-04T03:14:02.953Z"
   },
   {
    "duration": 55,
    "start_time": "2022-12-04T03:14:02.970Z"
   },
   {
    "duration": 4,
    "start_time": "2022-12-04T03:14:03.026Z"
   },
   {
    "duration": 23,
    "start_time": "2022-12-04T03:14:03.031Z"
   },
   {
    "duration": 6,
    "start_time": "2022-12-04T03:14:03.056Z"
   },
   {
    "duration": 6,
    "start_time": "2022-12-04T03:14:03.063Z"
   },
   {
    "duration": 11,
    "start_time": "2022-12-04T03:14:03.070Z"
   },
   {
    "duration": 7,
    "start_time": "2022-12-04T03:14:03.082Z"
   },
   {
    "duration": 26,
    "start_time": "2022-12-04T03:14:03.090Z"
   },
   {
    "duration": 6,
    "start_time": "2022-12-04T03:14:03.118Z"
   },
   {
    "duration": 20,
    "start_time": "2022-12-04T03:14:03.125Z"
   },
   {
    "duration": 14,
    "start_time": "2022-12-04T03:14:03.147Z"
   },
   {
    "duration": 10,
    "start_time": "2022-12-04T03:14:03.162Z"
   },
   {
    "duration": 10,
    "start_time": "2022-12-04T03:14:03.174Z"
   },
   {
    "duration": 11,
    "start_time": "2022-12-04T03:14:03.185Z"
   },
   {
    "duration": 68,
    "start_time": "2022-12-04T03:14:03.215Z"
   },
   {
    "duration": 12,
    "start_time": "2022-12-04T03:14:03.284Z"
   },
   {
    "duration": 37,
    "start_time": "2022-12-04T03:14:03.297Z"
   },
   {
    "duration": 18,
    "start_time": "2022-12-04T03:14:03.336Z"
   },
   {
    "duration": 6,
    "start_time": "2022-12-04T03:14:03.356Z"
   },
   {
    "duration": 16,
    "start_time": "2022-12-04T03:14:03.363Z"
   },
   {
    "duration": 36,
    "start_time": "2022-12-04T03:14:03.380Z"
   },
   {
    "duration": 8,
    "start_time": "2022-12-04T03:14:03.420Z"
   },
   {
    "duration": 206,
    "start_time": "2022-12-04T03:14:03.430Z"
   },
   {
    "duration": 137,
    "start_time": "2022-12-04T03:14:03.638Z"
   },
   {
    "duration": 18,
    "start_time": "2022-12-04T03:14:03.777Z"
   },
   {
    "duration": 30,
    "start_time": "2022-12-04T03:14:03.797Z"
   },
   {
    "duration": 4,
    "start_time": "2022-12-04T03:14:03.828Z"
   },
   {
    "duration": 9,
    "start_time": "2022-12-04T03:14:03.834Z"
   },
   {
    "duration": 129,
    "start_time": "2022-12-04T03:14:03.845Z"
   },
   {
    "duration": 129,
    "start_time": "2022-12-04T03:14:03.976Z"
   },
   {
    "duration": 49,
    "start_time": "2022-12-04T03:14:04.106Z"
   },
   {
    "duration": 17,
    "start_time": "2022-12-04T03:14:04.157Z"
   },
   {
    "duration": 245,
    "start_time": "2022-12-04T03:14:04.176Z"
   },
   {
    "duration": 5,
    "start_time": "2022-12-04T03:14:04.423Z"
   },
   {
    "duration": 14,
    "start_time": "2022-12-04T03:14:04.429Z"
   },
   {
    "duration": 132,
    "start_time": "2022-12-04T03:14:04.444Z"
   },
   {
    "duration": 12,
    "start_time": "2022-12-04T03:14:04.577Z"
   },
   {
    "duration": 112,
    "start_time": "2022-12-04T03:14:04.591Z"
   },
   {
    "duration": 21,
    "start_time": "2022-12-04T03:14:04.705Z"
   },
   {
    "duration": 110,
    "start_time": "2022-12-04T03:14:04.728Z"
   },
   {
    "duration": 11,
    "start_time": "2022-12-04T03:14:04.839Z"
   },
   {
    "duration": 114,
    "start_time": "2022-12-04T03:14:04.851Z"
   },
   {
    "duration": 27,
    "start_time": "2022-12-04T03:14:04.967Z"
   },
   {
    "duration": 29,
    "start_time": "2022-12-04T03:14:04.995Z"
   },
   {
    "duration": 4,
    "start_time": "2022-12-04T03:14:05.026Z"
   },
   {
    "duration": 17,
    "start_time": "2022-12-04T03:14:05.031Z"
   },
   {
    "duration": 4,
    "start_time": "2022-12-04T03:14:05.050Z"
   },
   {
    "duration": 244,
    "start_time": "2022-12-04T03:14:05.055Z"
   },
   {
    "duration": 19,
    "start_time": "2022-12-04T03:14:05.301Z"
   },
   {
    "duration": 123,
    "start_time": "2022-12-04T03:14:05.321Z"
   },
   {
    "duration": 17,
    "start_time": "2022-12-04T03:14:05.445Z"
   },
   {
    "duration": 1402,
    "start_time": "2022-12-04T03:14:05.463Z"
   },
   {
    "duration": 0,
    "start_time": "2022-12-04T03:14:06.868Z"
   },
   {
    "duration": 0,
    "start_time": "2022-12-04T03:14:06.869Z"
   },
   {
    "duration": 0,
    "start_time": "2022-12-04T03:14:06.871Z"
   },
   {
    "duration": 0,
    "start_time": "2022-12-04T03:14:06.872Z"
   },
   {
    "duration": 0,
    "start_time": "2022-12-04T03:14:06.873Z"
   },
   {
    "duration": 0,
    "start_time": "2022-12-04T03:14:06.874Z"
   },
   {
    "duration": 0,
    "start_time": "2022-12-04T03:14:06.876Z"
   },
   {
    "duration": 0,
    "start_time": "2022-12-04T03:14:06.877Z"
   },
   {
    "duration": 0,
    "start_time": "2022-12-04T03:14:06.878Z"
   },
   {
    "duration": 0,
    "start_time": "2022-12-04T03:14:06.879Z"
   },
   {
    "duration": 0,
    "start_time": "2022-12-04T03:14:06.880Z"
   },
   {
    "duration": 0,
    "start_time": "2022-12-04T03:14:06.881Z"
   },
   {
    "duration": 0,
    "start_time": "2022-12-04T03:14:06.883Z"
   },
   {
    "duration": 0,
    "start_time": "2022-12-04T03:14:06.884Z"
   },
   {
    "duration": 0,
    "start_time": "2022-12-04T03:14:06.885Z"
   },
   {
    "duration": 0,
    "start_time": "2022-12-04T03:14:06.886Z"
   },
   {
    "duration": 0,
    "start_time": "2022-12-04T03:14:06.887Z"
   },
   {
    "duration": 0,
    "start_time": "2022-12-04T03:14:06.888Z"
   },
   {
    "duration": 0,
    "start_time": "2022-12-04T03:14:06.889Z"
   },
   {
    "duration": 0,
    "start_time": "2022-12-04T03:14:06.890Z"
   },
   {
    "duration": 0,
    "start_time": "2022-12-04T03:14:06.891Z"
   },
   {
    "duration": 0,
    "start_time": "2022-12-04T03:14:06.893Z"
   },
   {
    "duration": 0,
    "start_time": "2022-12-04T03:14:06.894Z"
   },
   {
    "duration": 0,
    "start_time": "2022-12-04T03:14:06.895Z"
   },
   {
    "duration": 0,
    "start_time": "2022-12-04T03:14:06.896Z"
   },
   {
    "duration": 0,
    "start_time": "2022-12-04T03:14:06.897Z"
   },
   {
    "duration": 0,
    "start_time": "2022-12-04T03:14:06.898Z"
   },
   {
    "duration": 0,
    "start_time": "2022-12-04T03:14:06.899Z"
   },
   {
    "duration": 0,
    "start_time": "2022-12-04T03:14:06.900Z"
   },
   {
    "duration": 0,
    "start_time": "2022-12-04T03:14:06.900Z"
   },
   {
    "duration": 0,
    "start_time": "2022-12-04T03:14:06.901Z"
   },
   {
    "duration": 0,
    "start_time": "2022-12-04T03:14:06.902Z"
   },
   {
    "duration": 0,
    "start_time": "2022-12-04T03:14:06.904Z"
   },
   {
    "duration": 0,
    "start_time": "2022-12-04T03:14:06.915Z"
   },
   {
    "duration": 0,
    "start_time": "2022-12-04T03:14:06.916Z"
   },
   {
    "duration": 0,
    "start_time": "2022-12-04T03:14:06.917Z"
   },
   {
    "duration": 0,
    "start_time": "2022-12-04T03:14:06.918Z"
   },
   {
    "duration": 0,
    "start_time": "2022-12-04T03:14:06.919Z"
   },
   {
    "duration": 0,
    "start_time": "2022-12-04T03:14:06.920Z"
   },
   {
    "duration": 0,
    "start_time": "2022-12-04T03:14:06.921Z"
   },
   {
    "duration": 0,
    "start_time": "2022-12-04T03:14:06.922Z"
   },
   {
    "duration": 0,
    "start_time": "2022-12-04T03:14:06.922Z"
   },
   {
    "duration": 0,
    "start_time": "2022-12-04T03:14:06.923Z"
   },
   {
    "duration": 0,
    "start_time": "2022-12-04T03:14:06.924Z"
   },
   {
    "duration": 0,
    "start_time": "2022-12-04T03:14:06.925Z"
   },
   {
    "duration": 0,
    "start_time": "2022-12-04T03:14:06.926Z"
   },
   {
    "duration": 0,
    "start_time": "2022-12-04T03:14:06.927Z"
   },
   {
    "duration": 0,
    "start_time": "2022-12-04T03:14:06.928Z"
   },
   {
    "duration": 0,
    "start_time": "2022-12-04T03:14:06.929Z"
   },
   {
    "duration": 0,
    "start_time": "2022-12-04T03:14:06.930Z"
   },
   {
    "duration": 0,
    "start_time": "2022-12-04T03:14:06.931Z"
   },
   {
    "duration": 0,
    "start_time": "2022-12-04T03:14:06.932Z"
   },
   {
    "duration": 0,
    "start_time": "2022-12-04T03:14:06.933Z"
   },
   {
    "duration": 0,
    "start_time": "2022-12-04T03:14:06.934Z"
   },
   {
    "duration": 0,
    "start_time": "2022-12-04T03:14:06.935Z"
   },
   {
    "duration": 0,
    "start_time": "2022-12-04T03:14:06.936Z"
   },
   {
    "duration": 0,
    "start_time": "2022-12-04T03:14:06.937Z"
   },
   {
    "duration": 0,
    "start_time": "2022-12-04T03:14:06.938Z"
   },
   {
    "duration": 0,
    "start_time": "2022-12-04T03:14:06.938Z"
   },
   {
    "duration": 0,
    "start_time": "2022-12-04T03:14:06.940Z"
   },
   {
    "duration": 0,
    "start_time": "2022-12-04T03:14:06.941Z"
   },
   {
    "duration": 0,
    "start_time": "2022-12-04T03:14:06.942Z"
   },
   {
    "duration": 0,
    "start_time": "2022-12-04T03:14:06.943Z"
   },
   {
    "duration": 0,
    "start_time": "2022-12-04T03:14:06.943Z"
   },
   {
    "duration": 0,
    "start_time": "2022-12-04T03:14:06.944Z"
   },
   {
    "duration": 0,
    "start_time": "2022-12-04T03:14:06.946Z"
   },
   {
    "duration": 0,
    "start_time": "2022-12-04T03:14:06.947Z"
   },
   {
    "duration": 0,
    "start_time": "2022-12-04T03:14:06.948Z"
   },
   {
    "duration": 0,
    "start_time": "2022-12-04T03:14:06.949Z"
   },
   {
    "duration": 0,
    "start_time": "2022-12-04T03:14:06.950Z"
   },
   {
    "duration": 0,
    "start_time": "2022-12-04T03:14:06.951Z"
   },
   {
    "duration": 0,
    "start_time": "2022-12-04T03:14:07.016Z"
   },
   {
    "duration": 0,
    "start_time": "2022-12-04T03:14:07.017Z"
   },
   {
    "duration": 0,
    "start_time": "2022-12-04T03:14:07.017Z"
   },
   {
    "duration": 0,
    "start_time": "2022-12-04T03:14:07.018Z"
   },
   {
    "duration": 0,
    "start_time": "2022-12-04T03:14:07.019Z"
   },
   {
    "duration": 0,
    "start_time": "2022-12-04T03:14:07.020Z"
   },
   {
    "duration": 0,
    "start_time": "2022-12-04T03:14:07.021Z"
   },
   {
    "duration": 0,
    "start_time": "2022-12-04T03:14:07.022Z"
   },
   {
    "duration": 0,
    "start_time": "2022-12-04T03:14:07.023Z"
   },
   {
    "duration": 0,
    "start_time": "2022-12-04T03:14:07.024Z"
   },
   {
    "duration": 0,
    "start_time": "2022-12-04T03:14:07.025Z"
   },
   {
    "duration": 0,
    "start_time": "2022-12-04T03:14:07.026Z"
   },
   {
    "duration": 0,
    "start_time": "2022-12-04T03:14:07.027Z"
   },
   {
    "duration": 0,
    "start_time": "2022-12-04T03:14:07.028Z"
   },
   {
    "duration": 0,
    "start_time": "2022-12-04T03:14:07.029Z"
   },
   {
    "duration": 13,
    "start_time": "2022-12-04T03:15:58.861Z"
   },
   {
    "duration": 12,
    "start_time": "2022-12-04T03:25:23.906Z"
   },
   {
    "duration": 9,
    "start_time": "2022-12-04T03:25:26.286Z"
   },
   {
    "duration": 10,
    "start_time": "2022-12-04T03:25:37.516Z"
   },
   {
    "duration": 1196,
    "start_time": "2022-12-04T03:25:58.517Z"
   },
   {
    "duration": 72,
    "start_time": "2022-12-04T03:25:59.715Z"
   },
   {
    "duration": 32,
    "start_time": "2022-12-04T03:25:59.788Z"
   },
   {
    "duration": 16,
    "start_time": "2022-12-04T03:25:59.821Z"
   },
   {
    "duration": 12,
    "start_time": "2022-12-04T03:25:59.839Z"
   },
   {
    "duration": 11,
    "start_time": "2022-12-04T03:25:59.852Z"
   },
   {
    "duration": 12,
    "start_time": "2022-12-04T03:25:59.865Z"
   },
   {
    "duration": 46,
    "start_time": "2022-12-04T03:25:59.878Z"
   },
   {
    "duration": 18,
    "start_time": "2022-12-04T03:25:59.926Z"
   },
   {
    "duration": 26,
    "start_time": "2022-12-04T03:25:59.945Z"
   },
   {
    "duration": 9,
    "start_time": "2022-12-04T03:25:59.972Z"
   },
   {
    "duration": 34,
    "start_time": "2022-12-04T03:25:59.982Z"
   },
   {
    "duration": 5,
    "start_time": "2022-12-04T03:26:00.018Z"
   },
   {
    "duration": 13,
    "start_time": "2022-12-04T03:26:00.025Z"
   },
   {
    "duration": 9,
    "start_time": "2022-12-04T03:26:00.039Z"
   },
   {
    "duration": 19,
    "start_time": "2022-12-04T03:26:00.049Z"
   },
   {
    "duration": 33,
    "start_time": "2022-12-04T03:26:00.069Z"
   },
   {
    "duration": 21,
    "start_time": "2022-12-04T03:26:00.103Z"
   },
   {
    "duration": 18,
    "start_time": "2022-12-04T03:26:00.126Z"
   },
   {
    "duration": 37,
    "start_time": "2022-12-04T03:26:00.145Z"
   },
   {
    "duration": 4,
    "start_time": "2022-12-04T03:26:00.183Z"
   },
   {
    "duration": 33,
    "start_time": "2022-12-04T03:26:00.189Z"
   },
   {
    "duration": 19,
    "start_time": "2022-12-04T03:26:00.224Z"
   },
   {
    "duration": 19,
    "start_time": "2022-12-04T03:26:00.244Z"
   },
   {
    "duration": 30,
    "start_time": "2022-12-04T03:26:00.265Z"
   },
   {
    "duration": 9,
    "start_time": "2022-12-04T03:26:00.297Z"
   },
   {
    "duration": 33,
    "start_time": "2022-12-04T03:26:00.307Z"
   },
   {
    "duration": 21,
    "start_time": "2022-12-04T03:26:00.342Z"
   },
   {
    "duration": 41,
    "start_time": "2022-12-04T03:26:00.364Z"
   },
   {
    "duration": 17,
    "start_time": "2022-12-04T03:26:00.407Z"
   },
   {
    "duration": 33,
    "start_time": "2022-12-04T03:26:00.425Z"
   },
   {
    "duration": 38,
    "start_time": "2022-12-04T03:26:00.459Z"
   },
   {
    "duration": 44,
    "start_time": "2022-12-04T03:26:00.498Z"
   },
   {
    "duration": 100,
    "start_time": "2022-12-04T03:26:00.543Z"
   },
   {
    "duration": 11,
    "start_time": "2022-12-04T03:26:00.645Z"
   },
   {
    "duration": 47,
    "start_time": "2022-12-04T03:26:00.658Z"
   },
   {
    "duration": 42,
    "start_time": "2022-12-04T03:26:00.706Z"
   },
   {
    "duration": 16,
    "start_time": "2022-12-04T03:26:00.750Z"
   },
   {
    "duration": 56,
    "start_time": "2022-12-04T03:26:00.768Z"
   },
   {
    "duration": 29,
    "start_time": "2022-12-04T03:26:00.826Z"
   },
   {
    "duration": 17,
    "start_time": "2022-12-04T03:26:00.860Z"
   },
   {
    "duration": 219,
    "start_time": "2022-12-04T03:26:00.879Z"
   },
   {
    "duration": 136,
    "start_time": "2022-12-04T03:26:01.100Z"
   },
   {
    "duration": 16,
    "start_time": "2022-12-04T03:26:01.238Z"
   },
   {
    "duration": 16,
    "start_time": "2022-12-04T03:26:01.255Z"
   },
   {
    "duration": 27,
    "start_time": "2022-12-04T03:26:01.272Z"
   },
   {
    "duration": 27,
    "start_time": "2022-12-04T03:26:01.300Z"
   },
   {
    "duration": 143,
    "start_time": "2022-12-04T03:26:01.329Z"
   },
   {
    "duration": 114,
    "start_time": "2022-12-04T03:26:01.473Z"
   },
   {
    "duration": 52,
    "start_time": "2022-12-04T03:26:01.589Z"
   },
   {
    "duration": 17,
    "start_time": "2022-12-04T03:26:01.643Z"
   },
   {
    "duration": 261,
    "start_time": "2022-12-04T03:26:01.661Z"
   },
   {
    "duration": 6,
    "start_time": "2022-12-04T03:26:01.924Z"
   },
   {
    "duration": 73,
    "start_time": "2022-12-04T03:26:01.931Z"
   },
   {
    "duration": 171,
    "start_time": "2022-12-04T03:26:02.006Z"
   },
   {
    "duration": 13,
    "start_time": "2022-12-04T03:26:02.179Z"
   },
   {
    "duration": 108,
    "start_time": "2022-12-04T03:26:02.193Z"
   },
   {
    "duration": 17,
    "start_time": "2022-12-04T03:26:02.302Z"
   },
   {
    "duration": 120,
    "start_time": "2022-12-04T03:26:02.321Z"
   },
   {
    "duration": 10,
    "start_time": "2022-12-04T03:26:02.443Z"
   },
   {
    "duration": 126,
    "start_time": "2022-12-04T03:26:02.455Z"
   },
   {
    "duration": 40,
    "start_time": "2022-12-04T03:26:02.582Z"
   },
   {
    "duration": 13,
    "start_time": "2022-12-04T03:26:02.624Z"
   },
   {
    "duration": 4,
    "start_time": "2022-12-04T03:26:02.638Z"
   },
   {
    "duration": 14,
    "start_time": "2022-12-04T03:26:02.644Z"
   },
   {
    "duration": 5,
    "start_time": "2022-12-04T03:26:02.659Z"
   },
   {
    "duration": 231,
    "start_time": "2022-12-04T03:26:02.665Z"
   },
   {
    "duration": 19,
    "start_time": "2022-12-04T03:26:02.897Z"
   },
   {
    "duration": 125,
    "start_time": "2022-12-04T03:26:02.917Z"
   },
   {
    "duration": 13,
    "start_time": "2022-12-04T03:26:03.044Z"
   },
   {
    "duration": 11,
    "start_time": "2022-12-04T03:26:03.058Z"
   },
   {
    "duration": 12,
    "start_time": "2022-12-04T03:26:03.071Z"
   },
   {
    "duration": 11,
    "start_time": "2022-12-04T03:26:03.085Z"
   },
   {
    "duration": 21,
    "start_time": "2022-12-04T03:26:03.097Z"
   },
   {
    "duration": 24,
    "start_time": "2022-12-04T03:26:03.119Z"
   },
   {
    "duration": 27,
    "start_time": "2022-12-04T03:26:03.144Z"
   },
   {
    "duration": 25,
    "start_time": "2022-12-04T03:26:03.173Z"
   },
   {
    "duration": 146,
    "start_time": "2022-12-04T03:26:03.200Z"
   },
   {
    "duration": 6,
    "start_time": "2022-12-04T03:26:03.348Z"
   },
   {
    "duration": 146,
    "start_time": "2022-12-04T03:26:03.356Z"
   },
   {
    "duration": 0,
    "start_time": "2022-12-04T03:26:03.504Z"
   },
   {
    "duration": 0,
    "start_time": "2022-12-04T03:26:03.506Z"
   },
   {
    "duration": 0,
    "start_time": "2022-12-04T03:26:03.507Z"
   },
   {
    "duration": 0,
    "start_time": "2022-12-04T03:26:03.517Z"
   },
   {
    "duration": 0,
    "start_time": "2022-12-04T03:26:03.519Z"
   },
   {
    "duration": 0,
    "start_time": "2022-12-04T03:26:03.520Z"
   },
   {
    "duration": 0,
    "start_time": "2022-12-04T03:26:03.522Z"
   },
   {
    "duration": 0,
    "start_time": "2022-12-04T03:26:03.524Z"
   },
   {
    "duration": 0,
    "start_time": "2022-12-04T03:26:03.526Z"
   },
   {
    "duration": 0,
    "start_time": "2022-12-04T03:26:03.527Z"
   },
   {
    "duration": 0,
    "start_time": "2022-12-04T03:26:03.528Z"
   },
   {
    "duration": 0,
    "start_time": "2022-12-04T03:26:03.530Z"
   },
   {
    "duration": 0,
    "start_time": "2022-12-04T03:26:03.532Z"
   },
   {
    "duration": 0,
    "start_time": "2022-12-04T03:26:03.534Z"
   },
   {
    "duration": 0,
    "start_time": "2022-12-04T03:26:03.535Z"
   },
   {
    "duration": 0,
    "start_time": "2022-12-04T03:26:03.537Z"
   },
   {
    "duration": 0,
    "start_time": "2022-12-04T03:26:03.538Z"
   },
   {
    "duration": 0,
    "start_time": "2022-12-04T03:26:03.540Z"
   },
   {
    "duration": 0,
    "start_time": "2022-12-04T03:26:03.542Z"
   },
   {
    "duration": 0,
    "start_time": "2022-12-04T03:26:03.543Z"
   },
   {
    "duration": 0,
    "start_time": "2022-12-04T03:26:03.544Z"
   },
   {
    "duration": 0,
    "start_time": "2022-12-04T03:26:03.546Z"
   },
   {
    "duration": 0,
    "start_time": "2022-12-04T03:26:03.547Z"
   },
   {
    "duration": 0,
    "start_time": "2022-12-04T03:26:03.549Z"
   },
   {
    "duration": 0,
    "start_time": "2022-12-04T03:26:03.550Z"
   },
   {
    "duration": 0,
    "start_time": "2022-12-04T03:26:03.552Z"
   },
   {
    "duration": 0,
    "start_time": "2022-12-04T03:26:03.553Z"
   },
   {
    "duration": 0,
    "start_time": "2022-12-04T03:26:03.554Z"
   },
   {
    "duration": 0,
    "start_time": "2022-12-04T03:26:03.556Z"
   },
   {
    "duration": 0,
    "start_time": "2022-12-04T03:26:03.557Z"
   },
   {
    "duration": 0,
    "start_time": "2022-12-04T03:26:03.558Z"
   },
   {
    "duration": 0,
    "start_time": "2022-12-04T03:26:03.618Z"
   },
   {
    "duration": 0,
    "start_time": "2022-12-04T03:26:03.619Z"
   },
   {
    "duration": 0,
    "start_time": "2022-12-04T03:26:03.620Z"
   },
   {
    "duration": 0,
    "start_time": "2022-12-04T03:26:03.621Z"
   },
   {
    "duration": 1,
    "start_time": "2022-12-04T03:26:03.622Z"
   },
   {
    "duration": 0,
    "start_time": "2022-12-04T03:26:03.623Z"
   },
   {
    "duration": 0,
    "start_time": "2022-12-04T03:26:03.625Z"
   },
   {
    "duration": 0,
    "start_time": "2022-12-04T03:26:03.626Z"
   },
   {
    "duration": 0,
    "start_time": "2022-12-04T03:26:03.628Z"
   },
   {
    "duration": 0,
    "start_time": "2022-12-04T03:26:03.629Z"
   },
   {
    "duration": 0,
    "start_time": "2022-12-04T03:26:03.630Z"
   },
   {
    "duration": 0,
    "start_time": "2022-12-04T03:26:03.632Z"
   },
   {
    "duration": 0,
    "start_time": "2022-12-04T03:26:03.633Z"
   },
   {
    "duration": 0,
    "start_time": "2022-12-04T03:26:03.634Z"
   },
   {
    "duration": 0,
    "start_time": "2022-12-04T03:26:03.635Z"
   },
   {
    "duration": 0,
    "start_time": "2022-12-04T03:26:03.637Z"
   },
   {
    "duration": 0,
    "start_time": "2022-12-04T03:26:03.638Z"
   },
   {
    "duration": 1,
    "start_time": "2022-12-04T03:26:03.638Z"
   },
   {
    "duration": 0,
    "start_time": "2022-12-04T03:26:03.639Z"
   },
   {
    "duration": 0,
    "start_time": "2022-12-04T03:26:03.640Z"
   },
   {
    "duration": 0,
    "start_time": "2022-12-04T03:26:03.642Z"
   },
   {
    "duration": 0,
    "start_time": "2022-12-04T03:26:03.643Z"
   },
   {
    "duration": 0,
    "start_time": "2022-12-04T03:26:03.644Z"
   },
   {
    "duration": 0,
    "start_time": "2022-12-04T03:26:03.645Z"
   },
   {
    "duration": 0,
    "start_time": "2022-12-04T03:26:03.646Z"
   },
   {
    "duration": 0,
    "start_time": "2022-12-04T03:26:03.648Z"
   },
   {
    "duration": 0,
    "start_time": "2022-12-04T03:26:03.648Z"
   },
   {
    "duration": 0,
    "start_time": "2022-12-04T03:26:03.649Z"
   },
   {
    "duration": 0,
    "start_time": "2022-12-04T03:26:03.650Z"
   },
   {
    "duration": 0,
    "start_time": "2022-12-04T03:26:03.651Z"
   },
   {
    "duration": 0,
    "start_time": "2022-12-04T03:26:03.652Z"
   },
   {
    "duration": 0,
    "start_time": "2022-12-04T03:26:03.653Z"
   },
   {
    "duration": 0,
    "start_time": "2022-12-04T03:26:03.716Z"
   },
   {
    "duration": 0,
    "start_time": "2022-12-04T03:26:03.717Z"
   },
   {
    "duration": 0,
    "start_time": "2022-12-04T03:26:03.718Z"
   },
   {
    "duration": 0,
    "start_time": "2022-12-04T03:26:03.719Z"
   },
   {
    "duration": 0,
    "start_time": "2022-12-04T03:26:03.720Z"
   },
   {
    "duration": 0,
    "start_time": "2022-12-04T03:26:03.721Z"
   },
   {
    "duration": 0,
    "start_time": "2022-12-04T03:26:03.723Z"
   },
   {
    "duration": 0,
    "start_time": "2022-12-04T03:26:03.724Z"
   },
   {
    "duration": 0,
    "start_time": "2022-12-04T03:26:03.725Z"
   },
   {
    "duration": 0,
    "start_time": "2022-12-04T03:26:03.727Z"
   },
   {
    "duration": 0,
    "start_time": "2022-12-04T03:26:03.729Z"
   },
   {
    "duration": 0,
    "start_time": "2022-12-04T03:26:03.730Z"
   },
   {
    "duration": 0,
    "start_time": "2022-12-04T03:26:03.731Z"
   },
   {
    "duration": 0,
    "start_time": "2022-12-04T03:26:03.733Z"
   },
   {
    "duration": 0,
    "start_time": "2022-12-04T03:26:03.734Z"
   },
   {
    "duration": 1412,
    "start_time": "2022-12-04T07:47:24.483Z"
   },
   {
    "duration": 317,
    "start_time": "2022-12-04T07:47:25.897Z"
   },
   {
    "duration": 56,
    "start_time": "2022-12-04T07:47:26.215Z"
   },
   {
    "duration": 17,
    "start_time": "2022-12-04T07:47:26.273Z"
   },
   {
    "duration": 14,
    "start_time": "2022-12-04T07:47:26.291Z"
   },
   {
    "duration": 11,
    "start_time": "2022-12-04T07:47:26.306Z"
   },
   {
    "duration": 12,
    "start_time": "2022-12-04T07:47:26.318Z"
   },
   {
    "duration": 26,
    "start_time": "2022-12-04T07:47:26.331Z"
   },
   {
    "duration": 19,
    "start_time": "2022-12-04T07:47:26.359Z"
   },
   {
    "duration": 28,
    "start_time": "2022-12-04T07:47:26.404Z"
   },
   {
    "duration": 9,
    "start_time": "2022-12-04T07:47:26.434Z"
   },
   {
    "duration": 8,
    "start_time": "2022-12-04T07:47:26.445Z"
   },
   {
    "duration": 7,
    "start_time": "2022-12-04T07:47:26.454Z"
   },
   {
    "duration": 8,
    "start_time": "2022-12-04T07:47:26.463Z"
   },
   {
    "duration": 35,
    "start_time": "2022-12-04T07:47:26.472Z"
   },
   {
    "duration": 10,
    "start_time": "2022-12-04T07:47:26.509Z"
   },
   {
    "duration": 31,
    "start_time": "2022-12-04T07:47:26.521Z"
   },
   {
    "duration": 10,
    "start_time": "2022-12-04T07:47:26.554Z"
   },
   {
    "duration": 46,
    "start_time": "2022-12-04T07:47:26.566Z"
   },
   {
    "duration": 35,
    "start_time": "2022-12-04T07:47:26.614Z"
   },
   {
    "duration": 5,
    "start_time": "2022-12-04T07:47:26.651Z"
   },
   {
    "duration": 13,
    "start_time": "2022-12-04T07:47:26.657Z"
   },
   {
    "duration": 34,
    "start_time": "2022-12-04T07:47:26.671Z"
   },
   {
    "duration": 6,
    "start_time": "2022-12-04T07:47:26.707Z"
   },
   {
    "duration": 7,
    "start_time": "2022-12-04T07:47:26.715Z"
   },
   {
    "duration": 7,
    "start_time": "2022-12-04T07:47:26.724Z"
   },
   {
    "duration": 10,
    "start_time": "2022-12-04T07:47:26.732Z"
   },
   {
    "duration": 5,
    "start_time": "2022-12-04T07:47:26.747Z"
   },
   {
    "duration": 18,
    "start_time": "2022-12-04T07:47:26.754Z"
   },
   {
    "duration": 9,
    "start_time": "2022-12-04T07:47:26.805Z"
   },
   {
    "duration": 8,
    "start_time": "2022-12-04T07:47:26.816Z"
   },
   {
    "duration": 8,
    "start_time": "2022-12-04T07:47:26.825Z"
   },
   {
    "duration": 11,
    "start_time": "2022-12-04T07:47:26.835Z"
   },
   {
    "duration": 95,
    "start_time": "2022-12-04T07:47:26.848Z"
   },
   {
    "duration": 11,
    "start_time": "2022-12-04T07:47:26.945Z"
   },
   {
    "duration": 27,
    "start_time": "2022-12-04T07:47:26.957Z"
   },
   {
    "duration": 33,
    "start_time": "2022-12-04T07:47:26.986Z"
   },
   {
    "duration": 7,
    "start_time": "2022-12-04T07:47:27.020Z"
   },
   {
    "duration": 18,
    "start_time": "2022-12-04T07:47:27.028Z"
   },
   {
    "duration": 8,
    "start_time": "2022-12-04T07:47:27.047Z"
   },
   {
    "duration": 7,
    "start_time": "2022-12-04T07:47:27.056Z"
   },
   {
    "duration": 237,
    "start_time": "2022-12-04T07:47:27.065Z"
   },
   {
    "duration": 162,
    "start_time": "2022-12-04T07:47:27.304Z"
   },
   {
    "duration": 15,
    "start_time": "2022-12-04T07:47:27.468Z"
   },
   {
    "duration": 23,
    "start_time": "2022-12-04T07:47:27.484Z"
   },
   {
    "duration": 4,
    "start_time": "2022-12-04T07:47:27.509Z"
   },
   {
    "duration": 12,
    "start_time": "2022-12-04T07:47:27.514Z"
   },
   {
    "duration": 126,
    "start_time": "2022-12-04T07:47:27.527Z"
   },
   {
    "duration": 130,
    "start_time": "2022-12-04T07:47:27.655Z"
   },
   {
    "duration": 62,
    "start_time": "2022-12-04T07:47:27.786Z"
   },
   {
    "duration": 18,
    "start_time": "2022-12-04T07:47:27.850Z"
   },
   {
    "duration": 275,
    "start_time": "2022-12-04T07:47:27.870Z"
   },
   {
    "duration": 6,
    "start_time": "2022-12-04T07:47:28.147Z"
   },
   {
    "duration": 20,
    "start_time": "2022-12-04T07:47:28.154Z"
   },
   {
    "duration": 251,
    "start_time": "2022-12-04T07:47:28.176Z"
   },
   {
    "duration": 13,
    "start_time": "2022-12-04T07:47:28.429Z"
   },
   {
    "duration": 134,
    "start_time": "2022-12-04T07:47:28.444Z"
   },
   {
    "duration": 13,
    "start_time": "2022-12-04T07:47:28.580Z"
   },
   {
    "duration": 113,
    "start_time": "2022-12-04T07:47:28.605Z"
   },
   {
    "duration": 12,
    "start_time": "2022-12-04T07:47:28.719Z"
   },
   {
    "duration": 130,
    "start_time": "2022-12-04T07:47:28.732Z"
   },
   {
    "duration": 28,
    "start_time": "2022-12-04T07:47:28.864Z"
   },
   {
    "duration": 21,
    "start_time": "2022-12-04T07:47:28.894Z"
   },
   {
    "duration": 5,
    "start_time": "2022-12-04T07:47:28.916Z"
   },
   {
    "duration": 14,
    "start_time": "2022-12-04T07:47:28.922Z"
   },
   {
    "duration": 5,
    "start_time": "2022-12-04T07:47:28.937Z"
   },
   {
    "duration": 280,
    "start_time": "2022-12-04T07:47:28.943Z"
   },
   {
    "duration": 11,
    "start_time": "2022-12-04T07:47:29.225Z"
   },
   {
    "duration": 145,
    "start_time": "2022-12-04T07:47:29.237Z"
   },
   {
    "duration": 20,
    "start_time": "2022-12-04T07:47:29.384Z"
   },
   {
    "duration": 8,
    "start_time": "2022-12-04T07:47:29.406Z"
   },
   {
    "duration": 14,
    "start_time": "2022-12-04T07:47:29.415Z"
   },
   {
    "duration": 6,
    "start_time": "2022-12-04T07:47:29.430Z"
   },
   {
    "duration": 5,
    "start_time": "2022-12-04T07:47:29.437Z"
   },
   {
    "duration": 14,
    "start_time": "2022-12-04T07:47:29.444Z"
   },
   {
    "duration": 17,
    "start_time": "2022-12-04T07:47:29.459Z"
   },
   {
    "duration": 32,
    "start_time": "2022-12-04T07:47:29.478Z"
   },
   {
    "duration": 147,
    "start_time": "2022-12-04T07:47:29.511Z"
   },
   {
    "duration": 6,
    "start_time": "2022-12-04T07:47:29.660Z"
   },
   {
    "duration": 151,
    "start_time": "2022-12-04T07:47:29.667Z"
   },
   {
    "duration": 0,
    "start_time": "2022-12-04T07:47:29.823Z"
   },
   {
    "duration": 0,
    "start_time": "2022-12-04T07:47:29.824Z"
   },
   {
    "duration": 0,
    "start_time": "2022-12-04T07:47:29.826Z"
   },
   {
    "duration": 0,
    "start_time": "2022-12-04T07:47:29.827Z"
   },
   {
    "duration": 0,
    "start_time": "2022-12-04T07:47:29.829Z"
   },
   {
    "duration": 0,
    "start_time": "2022-12-04T07:47:29.830Z"
   },
   {
    "duration": 0,
    "start_time": "2022-12-04T07:47:29.831Z"
   },
   {
    "duration": 0,
    "start_time": "2022-12-04T07:47:29.833Z"
   },
   {
    "duration": 0,
    "start_time": "2022-12-04T07:47:29.834Z"
   },
   {
    "duration": 0,
    "start_time": "2022-12-04T07:47:29.835Z"
   },
   {
    "duration": 0,
    "start_time": "2022-12-04T07:47:29.837Z"
   },
   {
    "duration": 0,
    "start_time": "2022-12-04T07:47:29.838Z"
   },
   {
    "duration": 0,
    "start_time": "2022-12-04T07:47:29.839Z"
   },
   {
    "duration": 0,
    "start_time": "2022-12-04T07:47:29.840Z"
   },
   {
    "duration": 0,
    "start_time": "2022-12-04T07:47:29.842Z"
   },
   {
    "duration": 0,
    "start_time": "2022-12-04T07:47:29.843Z"
   },
   {
    "duration": 0,
    "start_time": "2022-12-04T07:47:29.844Z"
   },
   {
    "duration": 0,
    "start_time": "2022-12-04T07:47:29.845Z"
   },
   {
    "duration": 0,
    "start_time": "2022-12-04T07:47:29.846Z"
   },
   {
    "duration": 0,
    "start_time": "2022-12-04T07:47:29.847Z"
   },
   {
    "duration": 0,
    "start_time": "2022-12-04T07:47:29.849Z"
   },
   {
    "duration": 0,
    "start_time": "2022-12-04T07:47:29.850Z"
   },
   {
    "duration": 0,
    "start_time": "2022-12-04T07:47:29.850Z"
   },
   {
    "duration": 0,
    "start_time": "2022-12-04T07:47:29.852Z"
   },
   {
    "duration": 0,
    "start_time": "2022-12-04T07:47:29.853Z"
   },
   {
    "duration": 0,
    "start_time": "2022-12-04T07:47:29.853Z"
   },
   {
    "duration": 0,
    "start_time": "2022-12-04T07:47:29.904Z"
   },
   {
    "duration": 0,
    "start_time": "2022-12-04T07:47:29.905Z"
   },
   {
    "duration": 0,
    "start_time": "2022-12-04T07:47:29.906Z"
   },
   {
    "duration": 0,
    "start_time": "2022-12-04T07:47:29.908Z"
   },
   {
    "duration": 0,
    "start_time": "2022-12-04T07:47:29.909Z"
   },
   {
    "duration": 0,
    "start_time": "2022-12-04T07:47:29.910Z"
   },
   {
    "duration": 0,
    "start_time": "2022-12-04T07:47:29.911Z"
   },
   {
    "duration": 0,
    "start_time": "2022-12-04T07:47:29.912Z"
   },
   {
    "duration": 0,
    "start_time": "2022-12-04T07:47:29.913Z"
   },
   {
    "duration": 0,
    "start_time": "2022-12-04T07:47:29.914Z"
   },
   {
    "duration": 0,
    "start_time": "2022-12-04T07:47:29.915Z"
   },
   {
    "duration": 0,
    "start_time": "2022-12-04T07:47:29.916Z"
   },
   {
    "duration": 0,
    "start_time": "2022-12-04T07:47:29.918Z"
   },
   {
    "duration": 0,
    "start_time": "2022-12-04T07:47:29.919Z"
   },
   {
    "duration": 0,
    "start_time": "2022-12-04T07:47:29.920Z"
   },
   {
    "duration": 0,
    "start_time": "2022-12-04T07:47:29.921Z"
   },
   {
    "duration": 0,
    "start_time": "2022-12-04T07:47:29.922Z"
   },
   {
    "duration": 0,
    "start_time": "2022-12-04T07:47:29.923Z"
   },
   {
    "duration": 0,
    "start_time": "2022-12-04T07:47:29.924Z"
   },
   {
    "duration": 0,
    "start_time": "2022-12-04T07:47:29.925Z"
   },
   {
    "duration": 0,
    "start_time": "2022-12-04T07:47:29.926Z"
   },
   {
    "duration": 0,
    "start_time": "2022-12-04T07:47:29.928Z"
   },
   {
    "duration": 0,
    "start_time": "2022-12-04T07:47:29.928Z"
   },
   {
    "duration": 0,
    "start_time": "2022-12-04T07:47:29.930Z"
   },
   {
    "duration": 0,
    "start_time": "2022-12-04T07:47:29.931Z"
   },
   {
    "duration": 0,
    "start_time": "2022-12-04T07:47:29.932Z"
   },
   {
    "duration": 0,
    "start_time": "2022-12-04T07:47:29.936Z"
   },
   {
    "duration": 0,
    "start_time": "2022-12-04T07:47:29.937Z"
   },
   {
    "duration": 0,
    "start_time": "2022-12-04T07:47:29.938Z"
   },
   {
    "duration": 0,
    "start_time": "2022-12-04T07:47:29.939Z"
   },
   {
    "duration": 0,
    "start_time": "2022-12-04T07:47:29.940Z"
   },
   {
    "duration": 0,
    "start_time": "2022-12-04T07:47:29.941Z"
   },
   {
    "duration": 0,
    "start_time": "2022-12-04T07:47:29.941Z"
   },
   {
    "duration": 0,
    "start_time": "2022-12-04T07:47:29.942Z"
   },
   {
    "duration": 0,
    "start_time": "2022-12-04T07:47:29.943Z"
   },
   {
    "duration": 0,
    "start_time": "2022-12-04T07:47:30.005Z"
   },
   {
    "duration": 0,
    "start_time": "2022-12-04T07:47:30.006Z"
   },
   {
    "duration": 0,
    "start_time": "2022-12-04T07:47:30.007Z"
   },
   {
    "duration": 0,
    "start_time": "2022-12-04T07:47:30.008Z"
   },
   {
    "duration": 0,
    "start_time": "2022-12-04T07:47:30.009Z"
   },
   {
    "duration": 0,
    "start_time": "2022-12-04T07:47:30.010Z"
   },
   {
    "duration": 0,
    "start_time": "2022-12-04T07:47:30.011Z"
   },
   {
    "duration": 0,
    "start_time": "2022-12-04T07:47:30.012Z"
   },
   {
    "duration": 0,
    "start_time": "2022-12-04T07:47:30.013Z"
   },
   {
    "duration": 0,
    "start_time": "2022-12-04T07:47:30.015Z"
   },
   {
    "duration": 0,
    "start_time": "2022-12-04T07:47:30.016Z"
   },
   {
    "duration": 0,
    "start_time": "2022-12-04T07:47:30.018Z"
   },
   {
    "duration": 0,
    "start_time": "2022-12-04T07:47:30.020Z"
   },
   {
    "duration": 0,
    "start_time": "2022-12-04T07:47:30.021Z"
   },
   {
    "duration": 0,
    "start_time": "2022-12-04T07:47:30.023Z"
   },
   {
    "duration": 0,
    "start_time": "2022-12-04T07:47:30.025Z"
   },
   {
    "duration": 0,
    "start_time": "2022-12-04T07:47:30.026Z"
   },
   {
    "duration": 38,
    "start_time": "2022-12-04T07:55:09.806Z"
   },
   {
    "duration": 20,
    "start_time": "2022-12-04T08:16:11.336Z"
   },
   {
    "duration": 1156,
    "start_time": "2022-12-04T08:21:27.176Z"
   },
   {
    "duration": 44,
    "start_time": "2022-12-04T08:27:19.552Z"
   },
   {
    "duration": 159,
    "start_time": "2022-12-04T08:34:48.266Z"
   },
   {
    "duration": 87,
    "start_time": "2022-12-04T08:36:25.663Z"
   },
   {
    "duration": 1286,
    "start_time": "2022-12-04T08:37:21.000Z"
   },
   {
    "duration": 76,
    "start_time": "2022-12-04T08:37:22.287Z"
   },
   {
    "duration": 26,
    "start_time": "2022-12-04T08:37:22.365Z"
   },
   {
    "duration": 18,
    "start_time": "2022-12-04T08:37:22.392Z"
   },
   {
    "duration": 13,
    "start_time": "2022-12-04T08:37:22.412Z"
   },
   {
    "duration": 17,
    "start_time": "2022-12-04T08:37:22.427Z"
   },
   {
    "duration": 18,
    "start_time": "2022-12-04T08:37:22.446Z"
   },
   {
    "duration": 46,
    "start_time": "2022-12-04T08:37:22.466Z"
   },
   {
    "duration": 21,
    "start_time": "2022-12-04T08:37:22.513Z"
   },
   {
    "duration": 29,
    "start_time": "2022-12-04T08:37:22.536Z"
   },
   {
    "duration": 10,
    "start_time": "2022-12-04T08:37:22.567Z"
   },
   {
    "duration": 33,
    "start_time": "2022-12-04T08:37:22.578Z"
   },
   {
    "duration": 10,
    "start_time": "2022-12-04T08:37:22.612Z"
   },
   {
    "duration": 23,
    "start_time": "2022-12-04T08:37:22.624Z"
   },
   {
    "duration": 12,
    "start_time": "2022-12-04T08:37:22.649Z"
   },
   {
    "duration": 22,
    "start_time": "2022-12-04T08:37:22.663Z"
   },
   {
    "duration": 44,
    "start_time": "2022-12-04T08:37:22.687Z"
   },
   {
    "duration": 11,
    "start_time": "2022-12-04T08:37:22.733Z"
   },
   {
    "duration": 29,
    "start_time": "2022-12-04T08:37:22.746Z"
   },
   {
    "duration": 43,
    "start_time": "2022-12-04T08:37:22.777Z"
   },
   {
    "duration": 5,
    "start_time": "2022-12-04T08:37:22.822Z"
   },
   {
    "duration": 20,
    "start_time": "2022-12-04T08:37:22.829Z"
   },
   {
    "duration": 8,
    "start_time": "2022-12-04T08:37:22.851Z"
   },
   {
    "duration": 12,
    "start_time": "2022-12-04T08:37:22.861Z"
   },
   {
    "duration": 35,
    "start_time": "2022-12-04T08:37:22.875Z"
   },
   {
    "duration": 23,
    "start_time": "2022-12-04T08:37:22.912Z"
   },
   {
    "duration": 23,
    "start_time": "2022-12-04T08:37:22.936Z"
   },
   {
    "duration": 5,
    "start_time": "2022-12-04T08:37:22.961Z"
   },
   {
    "duration": 26,
    "start_time": "2022-12-04T08:37:22.968Z"
   },
   {
    "duration": 12,
    "start_time": "2022-12-04T08:37:22.995Z"
   },
   {
    "duration": 18,
    "start_time": "2022-12-04T08:37:23.008Z"
   },
   {
    "duration": 26,
    "start_time": "2022-12-04T08:37:23.027Z"
   },
   {
    "duration": 17,
    "start_time": "2022-12-04T08:37:23.054Z"
   },
   {
    "duration": 84,
    "start_time": "2022-12-04T08:37:23.072Z"
   },
   {
    "duration": 11,
    "start_time": "2022-12-04T08:37:23.157Z"
   },
   {
    "duration": 36,
    "start_time": "2022-12-04T08:37:23.170Z"
   },
   {
    "duration": 19,
    "start_time": "2022-12-04T08:37:23.208Z"
   },
   {
    "duration": 7,
    "start_time": "2022-12-04T08:37:23.228Z"
   },
   {
    "duration": 27,
    "start_time": "2022-12-04T08:37:23.236Z"
   },
   {
    "duration": 8,
    "start_time": "2022-12-04T08:37:23.264Z"
   },
   {
    "duration": 9,
    "start_time": "2022-12-04T08:37:23.277Z"
   },
   {
    "duration": 211,
    "start_time": "2022-12-04T08:37:23.305Z"
   },
   {
    "duration": 156,
    "start_time": "2022-12-04T08:37:23.518Z"
   },
   {
    "duration": 17,
    "start_time": "2022-12-04T08:37:23.676Z"
   },
   {
    "duration": 21,
    "start_time": "2022-12-04T08:37:23.695Z"
   },
   {
    "duration": 11,
    "start_time": "2022-12-04T08:37:23.718Z"
   },
   {
    "duration": 7,
    "start_time": "2022-12-04T08:37:23.731Z"
   },
   {
    "duration": 136,
    "start_time": "2022-12-04T08:37:23.739Z"
   },
   {
    "duration": 118,
    "start_time": "2022-12-04T08:37:23.877Z"
   },
   {
    "duration": 48,
    "start_time": "2022-12-04T08:37:23.997Z"
   },
   {
    "duration": 12,
    "start_time": "2022-12-04T08:37:24.047Z"
   },
   {
    "duration": 245,
    "start_time": "2022-12-04T08:37:24.061Z"
   },
   {
    "duration": 5,
    "start_time": "2022-12-04T08:37:24.308Z"
   },
   {
    "duration": 29,
    "start_time": "2022-12-04T08:37:24.314Z"
   },
   {
    "duration": 131,
    "start_time": "2022-12-04T08:37:24.344Z"
   },
   {
    "duration": 12,
    "start_time": "2022-12-04T08:37:24.477Z"
   },
   {
    "duration": 124,
    "start_time": "2022-12-04T08:37:24.490Z"
   },
   {
    "duration": 13,
    "start_time": "2022-12-04T08:37:24.616Z"
   },
   {
    "duration": 122,
    "start_time": "2022-12-04T08:37:24.630Z"
   },
   {
    "duration": 10,
    "start_time": "2022-12-04T08:37:24.754Z"
   },
   {
    "duration": 119,
    "start_time": "2022-12-04T08:37:24.766Z"
   },
   {
    "duration": 33,
    "start_time": "2022-12-04T08:37:24.887Z"
   },
   {
    "duration": 14,
    "start_time": "2022-12-04T08:37:24.922Z"
   },
   {
    "duration": 26,
    "start_time": "2022-12-04T08:37:24.940Z"
   },
   {
    "duration": 30,
    "start_time": "2022-12-04T08:37:24.967Z"
   },
   {
    "duration": 11,
    "start_time": "2022-12-04T08:37:24.998Z"
   },
   {
    "duration": 229,
    "start_time": "2022-12-04T08:37:25.010Z"
   },
   {
    "duration": 9,
    "start_time": "2022-12-04T08:37:25.241Z"
   },
   {
    "duration": 128,
    "start_time": "2022-12-04T08:37:25.251Z"
   },
   {
    "duration": 11,
    "start_time": "2022-12-04T08:37:25.380Z"
   },
   {
    "duration": 17,
    "start_time": "2022-12-04T08:37:25.392Z"
   },
   {
    "duration": 11,
    "start_time": "2022-12-04T08:37:25.411Z"
   },
   {
    "duration": 22,
    "start_time": "2022-12-04T08:37:25.423Z"
   },
   {
    "duration": 19,
    "start_time": "2022-12-04T08:37:25.447Z"
   },
   {
    "duration": 39,
    "start_time": "2022-12-04T08:37:25.468Z"
   },
   {
    "duration": 24,
    "start_time": "2022-12-04T08:37:25.509Z"
   },
   {
    "duration": 16,
    "start_time": "2022-12-04T08:37:25.535Z"
   },
   {
    "duration": 141,
    "start_time": "2022-12-04T08:37:25.552Z"
   },
   {
    "duration": 6,
    "start_time": "2022-12-04T08:37:25.694Z"
   },
   {
    "duration": 103,
    "start_time": "2022-12-04T08:37:25.704Z"
   },
   {
    "duration": 15,
    "start_time": "2022-12-04T08:37:25.809Z"
   },
   {
    "duration": 13,
    "start_time": "2022-12-04T08:37:25.825Z"
   },
   {
    "duration": 9,
    "start_time": "2022-12-04T08:37:25.839Z"
   },
   {
    "duration": 10,
    "start_time": "2022-12-04T08:37:25.849Z"
   },
   {
    "duration": 9,
    "start_time": "2022-12-04T08:37:25.861Z"
   },
   {
    "duration": 36,
    "start_time": "2022-12-04T08:37:25.872Z"
   },
   {
    "duration": 14,
    "start_time": "2022-12-04T08:37:25.910Z"
   },
   {
    "duration": 7,
    "start_time": "2022-12-04T08:37:25.925Z"
   },
   {
    "duration": 8,
    "start_time": "2022-12-04T08:37:25.933Z"
   },
   {
    "duration": 4,
    "start_time": "2022-12-04T08:37:25.943Z"
   },
   {
    "duration": 7,
    "start_time": "2022-12-04T08:37:25.949Z"
   },
   {
    "duration": 8,
    "start_time": "2022-12-04T08:37:25.957Z"
   },
   {
    "duration": 38,
    "start_time": "2022-12-04T08:37:25.967Z"
   },
   {
    "duration": 10,
    "start_time": "2022-12-04T08:37:26.007Z"
   },
   {
    "duration": 11,
    "start_time": "2022-12-04T08:37:26.018Z"
   },
   {
    "duration": 28,
    "start_time": "2022-12-04T08:37:26.031Z"
   },
   {
    "duration": 64,
    "start_time": "2022-12-04T08:37:26.061Z"
   },
   {
    "duration": 36,
    "start_time": "2022-12-04T08:37:26.127Z"
   },
   {
    "duration": 51,
    "start_time": "2022-12-04T08:37:26.165Z"
   },
   {
    "duration": 13,
    "start_time": "2022-12-04T08:37:26.217Z"
   },
   {
    "duration": 12,
    "start_time": "2022-12-04T08:37:26.232Z"
   },
   {
    "duration": 10,
    "start_time": "2022-12-04T08:37:26.245Z"
   },
   {
    "duration": 49,
    "start_time": "2022-12-04T08:37:26.256Z"
   },
   {
    "duration": 7,
    "start_time": "2022-12-04T08:37:26.306Z"
   },
   {
    "duration": 5,
    "start_time": "2022-12-04T08:37:26.315Z"
   },
   {
    "duration": 18,
    "start_time": "2022-12-04T08:37:26.321Z"
   },
   {
    "duration": 9,
    "start_time": "2022-12-04T08:37:26.340Z"
   },
   {
    "duration": 5,
    "start_time": "2022-12-04T08:37:26.350Z"
   },
   {
    "duration": 14,
    "start_time": "2022-12-04T08:37:26.356Z"
   },
   {
    "duration": 2,
    "start_time": "2022-12-04T08:37:26.372Z"
   },
   {
    "duration": 41,
    "start_time": "2022-12-04T08:37:26.376Z"
   },
   {
    "duration": 4,
    "start_time": "2022-12-04T08:37:26.419Z"
   },
   {
    "duration": 7,
    "start_time": "2022-12-04T08:37:26.425Z"
   },
   {
    "duration": 5,
    "start_time": "2022-12-04T08:37:26.434Z"
   },
   {
    "duration": 16,
    "start_time": "2022-12-04T08:37:26.441Z"
   },
   {
    "duration": 121,
    "start_time": "2022-12-04T08:37:26.458Z"
   },
   {
    "duration": 211,
    "start_time": "2022-12-04T08:37:26.581Z"
   },
   {
    "duration": 13,
    "start_time": "2022-12-04T08:37:26.793Z"
   },
   {
    "duration": 5,
    "start_time": "2022-12-04T08:37:26.808Z"
   },
   {
    "duration": 14,
    "start_time": "2022-12-04T08:37:26.814Z"
   },
   {
    "duration": 3,
    "start_time": "2022-12-04T08:37:26.829Z"
   },
   {
    "duration": 6,
    "start_time": "2022-12-04T08:37:26.839Z"
   },
   {
    "duration": 429,
    "start_time": "2022-12-04T08:37:26.846Z"
   },
   {
    "duration": 15,
    "start_time": "2022-12-04T08:37:27.277Z"
   },
   {
    "duration": 186,
    "start_time": "2022-12-04T08:37:27.294Z"
   },
   {
    "duration": 23,
    "start_time": "2022-12-04T08:37:27.482Z"
   },
   {
    "duration": 61,
    "start_time": "2022-12-04T08:37:27.507Z"
   },
   {
    "duration": 73,
    "start_time": "2022-12-04T08:37:27.570Z"
   },
   {
    "duration": 9,
    "start_time": "2022-12-04T08:37:27.644Z"
   },
   {
    "duration": 51,
    "start_time": "2022-12-04T08:37:27.654Z"
   },
   {
    "duration": 33,
    "start_time": "2022-12-04T08:37:27.706Z"
   },
   {
    "duration": 21,
    "start_time": "2022-12-04T08:37:27.741Z"
   },
   {
    "duration": 50,
    "start_time": "2022-12-04T08:37:27.764Z"
   },
   {
    "duration": 47,
    "start_time": "2022-12-04T08:37:27.815Z"
   },
   {
    "duration": 148,
    "start_time": "2022-12-04T08:37:27.864Z"
   },
   {
    "duration": 6,
    "start_time": "2022-12-04T08:37:28.014Z"
   },
   {
    "duration": 48,
    "start_time": "2022-12-04T08:37:28.021Z"
   },
   {
    "duration": 32,
    "start_time": "2022-12-04T08:37:28.071Z"
   },
   {
    "duration": 42,
    "start_time": "2022-12-04T08:37:28.105Z"
   },
   {
    "duration": 190,
    "start_time": "2022-12-04T08:37:28.149Z"
   },
   {
    "duration": 8,
    "start_time": "2022-12-04T08:37:28.340Z"
   },
   {
    "duration": 221,
    "start_time": "2022-12-04T08:37:28.349Z"
   },
   {
    "duration": 7,
    "start_time": "2022-12-04T08:37:28.572Z"
   },
   {
    "duration": 24,
    "start_time": "2022-12-04T08:37:28.581Z"
   },
   {
    "duration": 28,
    "start_time": "2022-12-04T08:37:28.606Z"
   },
   {
    "duration": 12,
    "start_time": "2022-12-04T08:37:28.636Z"
   },
   {
    "duration": 46,
    "start_time": "2022-12-04T08:37:28.649Z"
   },
   {
    "duration": 27,
    "start_time": "2022-12-04T08:37:28.697Z"
   },
   {
    "duration": 31,
    "start_time": "2022-12-04T08:37:28.726Z"
   },
   {
    "duration": 15,
    "start_time": "2022-12-04T08:37:28.759Z"
   },
   {
    "duration": 26,
    "start_time": "2022-12-04T08:37:28.776Z"
   },
   {
    "duration": 10,
    "start_time": "2022-12-04T08:37:28.803Z"
   },
   {
    "duration": 35,
    "start_time": "2022-12-04T08:37:28.815Z"
   },
   {
    "duration": 107,
    "start_time": "2022-12-04T08:37:28.852Z"
   },
   {
    "duration": 126,
    "start_time": "2022-12-04T08:37:28.960Z"
   },
   {
    "duration": 4,
    "start_time": "2022-12-04T08:37:29.088Z"
   },
   {
    "duration": 39,
    "start_time": "2022-12-04T08:37:29.094Z"
   },
   {
    "duration": 8,
    "start_time": "2022-12-04T09:14:57.150Z"
   },
   {
    "duration": 10,
    "start_time": "2022-12-04T09:15:16.371Z"
   },
   {
    "duration": 7,
    "start_time": "2022-12-04T09:15:27.717Z"
   },
   {
    "duration": 7,
    "start_time": "2022-12-04T09:16:07.033Z"
   },
   {
    "duration": 5,
    "start_time": "2022-12-04T09:17:05.742Z"
   },
   {
    "duration": 7,
    "start_time": "2022-12-04T09:17:33.281Z"
   },
   {
    "duration": 1361,
    "start_time": "2022-12-04T09:19:44.872Z"
   },
   {
    "duration": 85,
    "start_time": "2022-12-04T09:19:46.235Z"
   },
   {
    "duration": 25,
    "start_time": "2022-12-04T09:19:46.322Z"
   },
   {
    "duration": 19,
    "start_time": "2022-12-04T09:19:46.349Z"
   },
   {
    "duration": 15,
    "start_time": "2022-12-04T09:19:46.370Z"
   },
   {
    "duration": 18,
    "start_time": "2022-12-04T09:19:46.387Z"
   },
   {
    "duration": 20,
    "start_time": "2022-12-04T09:19:46.408Z"
   },
   {
    "duration": 29,
    "start_time": "2022-12-04T09:19:46.430Z"
   },
   {
    "duration": 45,
    "start_time": "2022-12-04T09:19:46.461Z"
   },
   {
    "duration": 29,
    "start_time": "2022-12-04T09:19:46.508Z"
   },
   {
    "duration": 9,
    "start_time": "2022-12-04T09:19:46.539Z"
   },
   {
    "duration": 9,
    "start_time": "2022-12-04T09:19:46.550Z"
   },
   {
    "duration": 6,
    "start_time": "2022-12-04T09:19:46.561Z"
   },
   {
    "duration": 33,
    "start_time": "2022-12-04T09:19:46.571Z"
   },
   {
    "duration": 6,
    "start_time": "2022-12-04T09:19:46.606Z"
   },
   {
    "duration": 18,
    "start_time": "2022-12-04T09:19:46.613Z"
   },
   {
    "duration": 36,
    "start_time": "2022-12-04T09:19:46.633Z"
   },
   {
    "duration": 35,
    "start_time": "2022-12-04T09:19:46.670Z"
   },
   {
    "duration": 26,
    "start_time": "2022-12-04T09:19:46.706Z"
   },
   {
    "duration": 51,
    "start_time": "2022-12-04T09:19:46.734Z"
   },
   {
    "duration": 4,
    "start_time": "2022-12-04T09:19:46.786Z"
   },
   {
    "duration": 24,
    "start_time": "2022-12-04T09:19:46.791Z"
   },
   {
    "duration": 8,
    "start_time": "2022-12-04T09:19:46.816Z"
   },
   {
    "duration": 6,
    "start_time": "2022-12-04T09:19:46.825Z"
   },
   {
    "duration": 9,
    "start_time": "2022-12-04T09:19:46.833Z"
   },
   {
    "duration": 8,
    "start_time": "2022-12-04T09:19:46.843Z"
   },
   {
    "duration": 7,
    "start_time": "2022-12-04T09:19:46.852Z"
   },
   {
    "duration": 45,
    "start_time": "2022-12-04T09:19:46.861Z"
   },
   {
    "duration": 13,
    "start_time": "2022-12-04T09:19:46.908Z"
   },
   {
    "duration": 13,
    "start_time": "2022-12-04T09:19:46.923Z"
   },
   {
    "duration": 22,
    "start_time": "2022-12-04T09:19:46.937Z"
   },
   {
    "duration": 12,
    "start_time": "2022-12-04T09:19:46.960Z"
   },
   {
    "duration": 33,
    "start_time": "2022-12-04T09:19:46.974Z"
   },
   {
    "duration": 73,
    "start_time": "2022-12-04T09:19:47.009Z"
   },
   {
    "duration": 22,
    "start_time": "2022-12-04T09:19:47.083Z"
   },
   {
    "duration": 23,
    "start_time": "2022-12-04T09:19:47.107Z"
   },
   {
    "duration": 22,
    "start_time": "2022-12-04T09:19:47.132Z"
   },
   {
    "duration": 7,
    "start_time": "2022-12-04T09:19:47.155Z"
   },
   {
    "duration": 48,
    "start_time": "2022-12-04T09:19:47.163Z"
   },
   {
    "duration": 9,
    "start_time": "2022-12-04T09:19:47.213Z"
   },
   {
    "duration": 18,
    "start_time": "2022-12-04T09:19:47.227Z"
   },
   {
    "duration": 285,
    "start_time": "2022-12-04T09:19:47.246Z"
   },
   {
    "duration": 161,
    "start_time": "2022-12-04T09:19:47.533Z"
   },
   {
    "duration": 19,
    "start_time": "2022-12-04T09:19:47.696Z"
   },
   {
    "duration": 11,
    "start_time": "2022-12-04T09:19:47.717Z"
   },
   {
    "duration": 20,
    "start_time": "2022-12-04T09:19:47.729Z"
   },
   {
    "duration": 21,
    "start_time": "2022-12-04T09:19:47.751Z"
   },
   {
    "duration": 134,
    "start_time": "2022-12-04T09:19:47.773Z"
   },
   {
    "duration": 120,
    "start_time": "2022-12-04T09:19:47.908Z"
   },
   {
    "duration": 45,
    "start_time": "2022-12-04T09:19:48.030Z"
   },
   {
    "duration": 32,
    "start_time": "2022-12-04T09:19:48.077Z"
   },
   {
    "duration": 273,
    "start_time": "2022-12-04T09:19:48.111Z"
   },
   {
    "duration": 6,
    "start_time": "2022-12-04T09:19:48.386Z"
   },
   {
    "duration": 19,
    "start_time": "2022-12-04T09:19:48.393Z"
   },
   {
    "duration": 140,
    "start_time": "2022-12-04T09:19:48.414Z"
   },
   {
    "duration": 13,
    "start_time": "2022-12-04T09:19:48.555Z"
   },
   {
    "duration": 121,
    "start_time": "2022-12-04T09:19:48.569Z"
   },
   {
    "duration": 16,
    "start_time": "2022-12-04T09:19:48.692Z"
   },
   {
    "duration": 124,
    "start_time": "2022-12-04T09:19:48.709Z"
   },
   {
    "duration": 11,
    "start_time": "2022-12-04T09:19:48.835Z"
   },
   {
    "duration": 122,
    "start_time": "2022-12-04T09:19:48.848Z"
   },
   {
    "duration": 37,
    "start_time": "2022-12-04T09:19:48.972Z"
   },
   {
    "duration": 12,
    "start_time": "2022-12-04T09:19:49.012Z"
   },
   {
    "duration": 5,
    "start_time": "2022-12-04T09:19:49.026Z"
   },
   {
    "duration": 31,
    "start_time": "2022-12-04T09:19:49.033Z"
   },
   {
    "duration": 8,
    "start_time": "2022-12-04T09:19:49.066Z"
   },
   {
    "duration": 287,
    "start_time": "2022-12-04T09:19:49.076Z"
   },
   {
    "duration": 10,
    "start_time": "2022-12-04T09:19:49.365Z"
   },
   {
    "duration": 139,
    "start_time": "2022-12-04T09:19:49.377Z"
   },
   {
    "duration": 11,
    "start_time": "2022-12-04T09:19:49.517Z"
   },
   {
    "duration": 9,
    "start_time": "2022-12-04T09:19:49.530Z"
   },
   {
    "duration": 11,
    "start_time": "2022-12-04T09:19:49.540Z"
   },
   {
    "duration": 6,
    "start_time": "2022-12-04T09:19:49.552Z"
   },
   {
    "duration": 10,
    "start_time": "2022-12-04T09:19:49.560Z"
   },
   {
    "duration": 40,
    "start_time": "2022-12-04T09:19:49.571Z"
   },
   {
    "duration": 19,
    "start_time": "2022-12-04T09:19:49.612Z"
   },
   {
    "duration": 10,
    "start_time": "2022-12-04T09:19:49.633Z"
   },
   {
    "duration": 152,
    "start_time": "2022-12-04T09:19:49.644Z"
   },
   {
    "duration": 13,
    "start_time": "2022-12-04T09:19:49.797Z"
   },
   {
    "duration": 106,
    "start_time": "2022-12-04T09:19:49.811Z"
   },
   {
    "duration": 15,
    "start_time": "2022-12-04T09:19:49.918Z"
   },
   {
    "duration": 13,
    "start_time": "2022-12-04T09:19:49.935Z"
   },
   {
    "duration": 9,
    "start_time": "2022-12-04T09:19:49.949Z"
   },
   {
    "duration": 7,
    "start_time": "2022-12-04T09:19:49.960Z"
   },
   {
    "duration": 38,
    "start_time": "2022-12-04T09:19:49.969Z"
   },
   {
    "duration": 14,
    "start_time": "2022-12-04T09:19:50.009Z"
   },
   {
    "duration": 22,
    "start_time": "2022-12-04T09:19:50.025Z"
   },
   {
    "duration": 10,
    "start_time": "2022-12-04T09:19:50.049Z"
   },
   {
    "duration": 12,
    "start_time": "2022-12-04T09:19:50.061Z"
   },
   {
    "duration": 30,
    "start_time": "2022-12-04T09:19:50.075Z"
   },
   {
    "duration": 7,
    "start_time": "2022-12-04T09:19:50.106Z"
   },
   {
    "duration": 15,
    "start_time": "2022-12-04T09:19:50.115Z"
   },
   {
    "duration": 10,
    "start_time": "2022-12-04T09:19:50.132Z"
   },
   {
    "duration": 8,
    "start_time": "2022-12-04T09:19:50.144Z"
   },
   {
    "duration": 15,
    "start_time": "2022-12-04T09:19:50.154Z"
   },
   {
    "duration": 45,
    "start_time": "2022-12-04T09:19:50.171Z"
   },
   {
    "duration": 31,
    "start_time": "2022-12-04T09:19:50.217Z"
   },
   {
    "duration": 33,
    "start_time": "2022-12-04T09:19:50.250Z"
   },
   {
    "duration": 52,
    "start_time": "2022-12-04T09:19:50.284Z"
   },
   {
    "duration": 12,
    "start_time": "2022-12-04T09:19:50.338Z"
   },
   {
    "duration": 12,
    "start_time": "2022-12-04T09:19:50.351Z"
   },
   {
    "duration": 10,
    "start_time": "2022-12-04T09:19:50.364Z"
   },
   {
    "duration": 40,
    "start_time": "2022-12-04T09:19:50.375Z"
   },
   {
    "duration": 10,
    "start_time": "2022-12-04T09:19:50.417Z"
   },
   {
    "duration": 5,
    "start_time": "2022-12-04T09:19:50.428Z"
   },
   {
    "duration": 14,
    "start_time": "2022-12-04T09:19:50.435Z"
   },
   {
    "duration": 5,
    "start_time": "2022-12-04T09:19:50.451Z"
   },
   {
    "duration": 8,
    "start_time": "2022-12-04T09:19:50.457Z"
   },
   {
    "duration": 42,
    "start_time": "2022-12-04T09:19:50.466Z"
   },
   {
    "duration": 4,
    "start_time": "2022-12-04T09:19:50.510Z"
   },
   {
    "duration": 20,
    "start_time": "2022-12-04T09:19:50.516Z"
   },
   {
    "duration": 6,
    "start_time": "2022-12-04T09:19:50.538Z"
   },
   {
    "duration": 7,
    "start_time": "2022-12-04T09:19:50.546Z"
   },
   {
    "duration": 10,
    "start_time": "2022-12-04T09:19:50.555Z"
   },
   {
    "duration": 13,
    "start_time": "2022-12-04T09:19:50.567Z"
   },
   {
    "duration": 128,
    "start_time": "2022-12-04T09:19:50.582Z"
   },
   {
    "duration": 212,
    "start_time": "2022-12-04T09:19:50.711Z"
   },
   {
    "duration": 8,
    "start_time": "2022-12-04T09:19:50.925Z"
   },
   {
    "duration": 9,
    "start_time": "2022-12-04T09:19:50.934Z"
   },
   {
    "duration": 16,
    "start_time": "2022-12-04T09:19:50.944Z"
   },
   {
    "duration": 3,
    "start_time": "2022-12-04T09:19:50.961Z"
   },
   {
    "duration": 7,
    "start_time": "2022-12-04T09:19:50.970Z"
   },
   {
    "duration": 435,
    "start_time": "2022-12-04T09:19:50.978Z"
   },
   {
    "duration": 7,
    "start_time": "2022-12-04T09:19:51.414Z"
   },
   {
    "duration": 132,
    "start_time": "2022-12-04T09:19:51.423Z"
   },
   {
    "duration": 8,
    "start_time": "2022-12-04T09:19:51.556Z"
   },
   {
    "duration": 21,
    "start_time": "2022-12-04T09:19:51.566Z"
   },
   {
    "duration": 36,
    "start_time": "2022-12-04T09:19:51.588Z"
   },
   {
    "duration": 4,
    "start_time": "2022-12-04T09:19:51.625Z"
   },
   {
    "duration": 24,
    "start_time": "2022-12-04T09:19:51.631Z"
   },
   {
    "duration": 18,
    "start_time": "2022-12-04T09:19:51.657Z"
   },
   {
    "duration": 14,
    "start_time": "2022-12-04T09:19:51.678Z"
   },
   {
    "duration": 21,
    "start_time": "2022-12-04T09:19:51.695Z"
   },
   {
    "duration": 19,
    "start_time": "2022-12-04T09:19:51.718Z"
   },
   {
    "duration": 140,
    "start_time": "2022-12-04T09:19:51.739Z"
   },
   {
    "duration": 8,
    "start_time": "2022-12-04T09:19:51.881Z"
   },
   {
    "duration": 31,
    "start_time": "2022-12-04T09:19:51.891Z"
   },
   {
    "duration": 14,
    "start_time": "2022-12-04T09:19:51.923Z"
   },
   {
    "duration": 25,
    "start_time": "2022-12-04T09:19:51.939Z"
   },
   {
    "duration": 178,
    "start_time": "2022-12-04T09:19:51.965Z"
   },
   {
    "duration": 8,
    "start_time": "2022-12-04T09:19:52.146Z"
   },
   {
    "duration": 226,
    "start_time": "2022-12-04T09:19:52.156Z"
   },
   {
    "duration": 8,
    "start_time": "2022-12-04T09:19:52.383Z"
   },
   {
    "duration": 17,
    "start_time": "2022-12-04T09:19:52.393Z"
   },
   {
    "duration": 13,
    "start_time": "2022-12-04T09:19:52.411Z"
   },
   {
    "duration": 18,
    "start_time": "2022-12-04T09:19:52.426Z"
   },
   {
    "duration": 11,
    "start_time": "2022-12-04T09:19:52.446Z"
   },
   {
    "duration": 5,
    "start_time": "2022-12-04T09:19:52.459Z"
   },
   {
    "duration": 30,
    "start_time": "2022-12-04T09:19:52.465Z"
   },
   {
    "duration": 9,
    "start_time": "2022-12-04T09:19:52.497Z"
   },
   {
    "duration": 14,
    "start_time": "2022-12-04T09:19:52.507Z"
   },
   {
    "duration": 9,
    "start_time": "2022-12-04T09:19:52.523Z"
   },
   {
    "duration": 10,
    "start_time": "2022-12-04T09:19:52.534Z"
   },
   {
    "duration": 107,
    "start_time": "2022-12-04T09:19:52.546Z"
   },
   {
    "duration": 140,
    "start_time": "2022-12-04T09:19:52.655Z"
   },
   {
    "duration": 9,
    "start_time": "2022-12-04T09:19:52.797Z"
   },
   {
    "duration": 11,
    "start_time": "2022-12-04T09:19:52.808Z"
   },
   {
    "duration": 12,
    "start_time": "2022-12-04T09:19:52.820Z"
   },
   {
    "duration": 8,
    "start_time": "2022-12-04T09:19:52.834Z"
   },
   {
    "duration": 16,
    "start_time": "2022-12-04T09:31:34.207Z"
   },
   {
    "duration": 12,
    "start_time": "2022-12-04T09:34:11.798Z"
   },
   {
    "duration": 279,
    "start_time": "2022-12-04T09:35:14.855Z"
   },
   {
    "duration": 13,
    "start_time": "2022-12-04T09:35:38.496Z"
   },
   {
    "duration": 15,
    "start_time": "2022-12-04T09:36:03.020Z"
   },
   {
    "duration": 8,
    "start_time": "2022-12-04T09:37:05.836Z"
   },
   {
    "duration": 11,
    "start_time": "2022-12-04T09:37:32.955Z"
   },
   {
    "duration": 22,
    "start_time": "2022-12-04T09:37:54.125Z"
   },
   {
    "duration": 157,
    "start_time": "2022-12-04T09:51:58.199Z"
   },
   {
    "duration": 1143,
    "start_time": "2022-12-04T09:55:32.288Z"
   },
   {
    "duration": 7,
    "start_time": "2022-12-04T09:58:56.431Z"
   },
   {
    "duration": 8,
    "start_time": "2022-12-04T09:59:59.313Z"
   },
   {
    "duration": 7,
    "start_time": "2022-12-04T10:00:04.870Z"
   },
   {
    "duration": 1109,
    "start_time": "2022-12-04T10:02:09.407Z"
   },
   {
    "duration": 10,
    "start_time": "2022-12-04T10:02:34.171Z"
   },
   {
    "duration": 3,
    "start_time": "2022-12-04T10:03:25.982Z"
   },
   {
    "duration": 4,
    "start_time": "2022-12-04T10:03:51.174Z"
   },
   {
    "duration": 12,
    "start_time": "2022-12-04T10:05:59.347Z"
   },
   {
    "duration": 16,
    "start_time": "2022-12-04T10:06:46.505Z"
   },
   {
    "duration": 12,
    "start_time": "2022-12-04T10:07:44.563Z"
   },
   {
    "duration": 75,
    "start_time": "2022-12-04T10:08:01.178Z"
   },
   {
    "duration": 16,
    "start_time": "2022-12-04T10:08:07.470Z"
   },
   {
    "duration": 11,
    "start_time": "2022-12-04T10:09:24.014Z"
   },
   {
    "duration": 1256,
    "start_time": "2022-12-04T10:50:40.741Z"
   },
   {
    "duration": 73,
    "start_time": "2022-12-04T10:50:41.999Z"
   },
   {
    "duration": 25,
    "start_time": "2022-12-04T10:50:42.074Z"
   },
   {
    "duration": 18,
    "start_time": "2022-12-04T10:50:42.102Z"
   },
   {
    "duration": 13,
    "start_time": "2022-12-04T10:50:42.122Z"
   },
   {
    "duration": 26,
    "start_time": "2022-12-04T10:50:42.136Z"
   },
   {
    "duration": 20,
    "start_time": "2022-12-04T10:50:42.164Z"
   },
   {
    "duration": 42,
    "start_time": "2022-12-04T10:50:42.186Z"
   },
   {
    "duration": 21,
    "start_time": "2022-12-04T10:50:42.230Z"
   },
   {
    "duration": 29,
    "start_time": "2022-12-04T10:50:42.253Z"
   },
   {
    "duration": 30,
    "start_time": "2022-12-04T10:50:42.283Z"
   },
   {
    "duration": 14,
    "start_time": "2022-12-04T10:50:42.314Z"
   },
   {
    "duration": 8,
    "start_time": "2022-12-04T10:50:42.329Z"
   },
   {
    "duration": 9,
    "start_time": "2022-12-04T10:50:42.339Z"
   },
   {
    "duration": 8,
    "start_time": "2022-12-04T10:50:42.349Z"
   },
   {
    "duration": 13,
    "start_time": "2022-12-04T10:50:42.358Z"
   },
   {
    "duration": 50,
    "start_time": "2022-12-04T10:50:42.372Z"
   },
   {
    "duration": 11,
    "start_time": "2022-12-04T10:50:42.424Z"
   },
   {
    "duration": 18,
    "start_time": "2022-12-04T10:50:42.437Z"
   },
   {
    "duration": 58,
    "start_time": "2022-12-04T10:50:42.456Z"
   },
   {
    "duration": 5,
    "start_time": "2022-12-04T10:50:42.515Z"
   },
   {
    "duration": 16,
    "start_time": "2022-12-04T10:50:42.521Z"
   },
   {
    "duration": 7,
    "start_time": "2022-12-04T10:50:42.538Z"
   },
   {
    "duration": 6,
    "start_time": "2022-12-04T10:50:42.547Z"
   },
   {
    "duration": 11,
    "start_time": "2022-12-04T10:50:42.554Z"
   },
   {
    "duration": 7,
    "start_time": "2022-12-04T10:50:42.566Z"
   },
   {
    "duration": 35,
    "start_time": "2022-12-04T10:50:42.575Z"
   },
   {
    "duration": 6,
    "start_time": "2022-12-04T10:50:42.614Z"
   },
   {
    "duration": 15,
    "start_time": "2022-12-04T10:50:42.622Z"
   },
   {
    "duration": 9,
    "start_time": "2022-12-04T10:50:42.638Z"
   },
   {
    "duration": 14,
    "start_time": "2022-12-04T10:50:42.649Z"
   },
   {
    "duration": 8,
    "start_time": "2022-12-04T10:50:42.664Z"
   },
   {
    "duration": 42,
    "start_time": "2022-12-04T10:50:42.674Z"
   },
   {
    "duration": 70,
    "start_time": "2022-12-04T10:50:42.717Z"
   },
   {
    "duration": 24,
    "start_time": "2022-12-04T10:50:42.789Z"
   },
   {
    "duration": 20,
    "start_time": "2022-12-04T10:50:42.815Z"
   },
   {
    "duration": 19,
    "start_time": "2022-12-04T10:50:42.837Z"
   },
   {
    "duration": 8,
    "start_time": "2022-12-04T10:50:42.857Z"
   },
   {
    "duration": 45,
    "start_time": "2022-12-04T10:50:42.866Z"
   },
   {
    "duration": 8,
    "start_time": "2022-12-04T10:50:42.913Z"
   },
   {
    "duration": 9,
    "start_time": "2022-12-04T10:50:42.922Z"
   },
   {
    "duration": 217,
    "start_time": "2022-12-04T10:50:42.933Z"
   },
   {
    "duration": 141,
    "start_time": "2022-12-04T10:50:43.152Z"
   },
   {
    "duration": 21,
    "start_time": "2022-12-04T10:50:43.294Z"
   },
   {
    "duration": 12,
    "start_time": "2022-12-04T10:50:43.316Z"
   },
   {
    "duration": 4,
    "start_time": "2022-12-04T10:50:43.329Z"
   },
   {
    "duration": 8,
    "start_time": "2022-12-04T10:50:43.335Z"
   },
   {
    "duration": 141,
    "start_time": "2022-12-04T10:50:43.344Z"
   },
   {
    "duration": 124,
    "start_time": "2022-12-04T10:50:43.487Z"
   },
   {
    "duration": 44,
    "start_time": "2022-12-04T10:50:43.613Z"
   },
   {
    "duration": 16,
    "start_time": "2022-12-04T10:50:43.659Z"
   },
   {
    "duration": 268,
    "start_time": "2022-12-04T10:50:43.677Z"
   },
   {
    "duration": 6,
    "start_time": "2022-12-04T10:50:43.947Z"
   },
   {
    "duration": 18,
    "start_time": "2022-12-04T10:50:43.954Z"
   },
   {
    "duration": 132,
    "start_time": "2022-12-04T10:50:43.974Z"
   },
   {
    "duration": 14,
    "start_time": "2022-12-04T10:50:44.108Z"
   },
   {
    "duration": 144,
    "start_time": "2022-12-04T10:50:44.123Z"
   },
   {
    "duration": 12,
    "start_time": "2022-12-04T10:50:44.269Z"
   },
   {
    "duration": 121,
    "start_time": "2022-12-04T10:50:44.283Z"
   },
   {
    "duration": 11,
    "start_time": "2022-12-04T10:50:44.406Z"
   },
   {
    "duration": 132,
    "start_time": "2022-12-04T10:50:44.418Z"
   },
   {
    "duration": 32,
    "start_time": "2022-12-04T10:50:44.552Z"
   },
   {
    "duration": 26,
    "start_time": "2022-12-04T10:50:44.586Z"
   },
   {
    "duration": 8,
    "start_time": "2022-12-04T10:50:44.614Z"
   },
   {
    "duration": 16,
    "start_time": "2022-12-04T10:50:44.623Z"
   },
   {
    "duration": 5,
    "start_time": "2022-12-04T10:50:44.641Z"
   },
   {
    "duration": 248,
    "start_time": "2022-12-04T10:50:44.647Z"
   },
   {
    "duration": 9,
    "start_time": "2022-12-04T10:50:44.904Z"
   },
   {
    "duration": 134,
    "start_time": "2022-12-04T10:50:44.915Z"
   },
   {
    "duration": 13,
    "start_time": "2022-12-04T10:50:45.050Z"
   },
   {
    "duration": 8,
    "start_time": "2022-12-04T10:50:45.064Z"
   },
   {
    "duration": 11,
    "start_time": "2022-12-04T10:50:45.074Z"
   },
   {
    "duration": 7,
    "start_time": "2022-12-04T10:50:45.105Z"
   },
   {
    "duration": 8,
    "start_time": "2022-12-04T10:50:45.114Z"
   },
   {
    "duration": 17,
    "start_time": "2022-12-04T10:50:45.124Z"
   },
   {
    "duration": 16,
    "start_time": "2022-12-04T10:50:45.142Z"
   },
   {
    "duration": 13,
    "start_time": "2022-12-04T10:50:45.160Z"
   },
   {
    "duration": 159,
    "start_time": "2022-12-04T10:50:45.175Z"
   },
   {
    "duration": 6,
    "start_time": "2022-12-04T10:50:45.335Z"
   },
   {
    "duration": 121,
    "start_time": "2022-12-04T10:50:45.342Z"
   },
   {
    "duration": 15,
    "start_time": "2022-12-04T10:50:45.464Z"
   },
   {
    "duration": 21,
    "start_time": "2022-12-04T10:50:45.486Z"
   },
   {
    "duration": 16,
    "start_time": "2022-12-04T10:50:45.509Z"
   },
   {
    "duration": 7,
    "start_time": "2022-12-04T10:50:45.527Z"
   },
   {
    "duration": 9,
    "start_time": "2022-12-04T10:50:45.536Z"
   },
   {
    "duration": 16,
    "start_time": "2022-12-04T10:50:45.546Z"
   },
   {
    "duration": 21,
    "start_time": "2022-12-04T10:50:45.564Z"
   },
   {
    "duration": 23,
    "start_time": "2022-12-04T10:50:45.586Z"
   },
   {
    "duration": 8,
    "start_time": "2022-12-04T10:50:45.611Z"
   },
   {
    "duration": 4,
    "start_time": "2022-12-04T10:50:45.621Z"
   },
   {
    "duration": 8,
    "start_time": "2022-12-04T10:50:45.627Z"
   },
   {
    "duration": 13,
    "start_time": "2022-12-04T10:50:45.636Z"
   },
   {
    "duration": 9,
    "start_time": "2022-12-04T10:50:45.650Z"
   },
   {
    "duration": 8,
    "start_time": "2022-12-04T10:50:45.661Z"
   },
   {
    "duration": 40,
    "start_time": "2022-12-04T10:50:45.670Z"
   },
   {
    "duration": 27,
    "start_time": "2022-12-04T10:50:45.711Z"
   },
   {
    "duration": 28,
    "start_time": "2022-12-04T10:50:45.739Z"
   },
   {
    "duration": 51,
    "start_time": "2022-12-04T10:50:45.769Z"
   },
   {
    "duration": 38,
    "start_time": "2022-12-04T10:50:45.822Z"
   },
   {
    "duration": 15,
    "start_time": "2022-12-04T10:50:45.862Z"
   },
   {
    "duration": 35,
    "start_time": "2022-12-04T10:50:45.879Z"
   },
   {
    "duration": 7,
    "start_time": "2022-12-04T10:50:45.916Z"
   },
   {
    "duration": 19,
    "start_time": "2022-12-04T10:50:45.924Z"
   },
   {
    "duration": 7,
    "start_time": "2022-12-04T10:50:45.944Z"
   },
   {
    "duration": 7,
    "start_time": "2022-12-04T10:50:45.953Z"
   },
   {
    "duration": 20,
    "start_time": "2022-12-04T10:50:45.962Z"
   },
   {
    "duration": 6,
    "start_time": "2022-12-04T10:50:45.984Z"
   },
   {
    "duration": 2,
    "start_time": "2022-12-04T10:50:46.005Z"
   },
   {
    "duration": 16,
    "start_time": "2022-12-04T10:50:46.009Z"
   },
   {
    "duration": 3,
    "start_time": "2022-12-04T10:50:46.026Z"
   },
   {
    "duration": 20,
    "start_time": "2022-12-04T10:50:46.030Z"
   },
   {
    "duration": 4,
    "start_time": "2022-12-04T10:50:46.051Z"
   },
   {
    "duration": 10,
    "start_time": "2022-12-04T10:50:46.056Z"
   },
   {
    "duration": 5,
    "start_time": "2022-12-04T10:50:46.067Z"
   },
   {
    "duration": 11,
    "start_time": "2022-12-04T10:50:46.073Z"
   },
   {
    "duration": 137,
    "start_time": "2022-12-04T10:50:46.086Z"
   },
   {
    "duration": 218,
    "start_time": "2022-12-04T10:50:46.225Z"
   },
   {
    "duration": 9,
    "start_time": "2022-12-04T10:50:46.445Z"
   },
   {
    "duration": 5,
    "start_time": "2022-12-04T10:50:46.456Z"
   },
   {
    "duration": 14,
    "start_time": "2022-12-04T10:50:46.463Z"
   },
   {
    "duration": 3,
    "start_time": "2022-12-04T10:50:46.479Z"
   },
   {
    "duration": 6,
    "start_time": "2022-12-04T10:50:46.505Z"
   },
   {
    "duration": 410,
    "start_time": "2022-12-04T10:50:46.513Z"
   },
   {
    "duration": 9,
    "start_time": "2022-12-04T10:50:46.925Z"
   },
   {
    "duration": 115,
    "start_time": "2022-12-04T10:50:46.936Z"
   },
   {
    "duration": 7,
    "start_time": "2022-12-04T10:50:47.053Z"
   },
   {
    "duration": 20,
    "start_time": "2022-12-04T10:50:47.061Z"
   },
   {
    "duration": 39,
    "start_time": "2022-12-04T10:50:47.082Z"
   },
   {
    "duration": 4,
    "start_time": "2022-12-04T10:50:47.123Z"
   },
   {
    "duration": 16,
    "start_time": "2022-12-04T10:50:47.129Z"
   },
   {
    "duration": 5,
    "start_time": "2022-12-04T10:50:47.146Z"
   },
   {
    "duration": 8,
    "start_time": "2022-12-04T10:50:47.153Z"
   },
   {
    "duration": 9,
    "start_time": "2022-12-04T10:50:47.162Z"
   },
   {
    "duration": 12,
    "start_time": "2022-12-04T10:50:47.172Z"
   },
   {
    "duration": 125,
    "start_time": "2022-12-04T10:50:47.186Z"
   },
   {
    "duration": 0,
    "start_time": "2022-12-04T10:50:47.313Z"
   },
   {
    "duration": 0,
    "start_time": "2022-12-04T10:50:47.314Z"
   },
   {
    "duration": 0,
    "start_time": "2022-12-04T10:50:47.315Z"
   },
   {
    "duration": 0,
    "start_time": "2022-12-04T10:50:47.316Z"
   },
   {
    "duration": 0,
    "start_time": "2022-12-04T10:50:47.317Z"
   },
   {
    "duration": 0,
    "start_time": "2022-12-04T10:50:47.318Z"
   },
   {
    "duration": 0,
    "start_time": "2022-12-04T10:50:47.318Z"
   },
   {
    "duration": 0,
    "start_time": "2022-12-04T10:50:47.319Z"
   },
   {
    "duration": 0,
    "start_time": "2022-12-04T10:50:47.320Z"
   },
   {
    "duration": 0,
    "start_time": "2022-12-04T10:50:47.321Z"
   },
   {
    "duration": 0,
    "start_time": "2022-12-04T10:50:47.322Z"
   },
   {
    "duration": 0,
    "start_time": "2022-12-04T10:50:47.323Z"
   },
   {
    "duration": 0,
    "start_time": "2022-12-04T10:50:47.324Z"
   },
   {
    "duration": 0,
    "start_time": "2022-12-04T10:50:47.325Z"
   },
   {
    "duration": 0,
    "start_time": "2022-12-04T10:50:47.326Z"
   },
   {
    "duration": 0,
    "start_time": "2022-12-04T10:50:47.327Z"
   },
   {
    "duration": 0,
    "start_time": "2022-12-04T10:50:47.328Z"
   },
   {
    "duration": 0,
    "start_time": "2022-12-04T10:50:47.329Z"
   },
   {
    "duration": 0,
    "start_time": "2022-12-04T10:50:47.330Z"
   },
   {
    "duration": 0,
    "start_time": "2022-12-04T10:50:47.331Z"
   },
   {
    "duration": 0,
    "start_time": "2022-12-04T10:50:47.332Z"
   },
   {
    "duration": 0,
    "start_time": "2022-12-04T10:50:47.333Z"
   },
   {
    "duration": 0,
    "start_time": "2022-12-04T10:50:47.334Z"
   },
   {
    "duration": 0,
    "start_time": "2022-12-04T10:50:47.335Z"
   },
   {
    "duration": 0,
    "start_time": "2022-12-04T10:50:47.336Z"
   },
   {
    "duration": 30,
    "start_time": "2022-12-04T10:51:18.339Z"
   },
   {
    "duration": 8,
    "start_time": "2022-12-04T10:55:29.606Z"
   },
   {
    "duration": 14,
    "start_time": "2022-12-04T10:57:38.247Z"
   },
   {
    "duration": 14,
    "start_time": "2022-12-04T11:02:43.829Z"
   },
   {
    "duration": 9,
    "start_time": "2022-12-04T11:03:41.872Z"
   },
   {
    "duration": 5,
    "start_time": "2022-12-04T11:03:55.088Z"
   },
   {
    "duration": 5,
    "start_time": "2022-12-04T11:05:40.726Z"
   },
   {
    "duration": 6,
    "start_time": "2022-12-04T11:06:00.023Z"
   },
   {
    "duration": 1360,
    "start_time": "2022-12-04T11:06:15.577Z"
   },
   {
    "duration": 76,
    "start_time": "2022-12-04T11:06:16.938Z"
   },
   {
    "duration": 25,
    "start_time": "2022-12-04T11:06:17.017Z"
   },
   {
    "duration": 23,
    "start_time": "2022-12-04T11:06:17.044Z"
   },
   {
    "duration": 19,
    "start_time": "2022-12-04T11:06:17.069Z"
   },
   {
    "duration": 15,
    "start_time": "2022-12-04T11:06:17.090Z"
   },
   {
    "duration": 16,
    "start_time": "2022-12-04T11:06:17.107Z"
   },
   {
    "duration": 31,
    "start_time": "2022-12-04T11:06:17.125Z"
   },
   {
    "duration": 48,
    "start_time": "2022-12-04T11:06:17.158Z"
   },
   {
    "duration": 34,
    "start_time": "2022-12-04T11:06:17.209Z"
   },
   {
    "duration": 11,
    "start_time": "2022-12-04T11:06:17.245Z"
   },
   {
    "duration": 14,
    "start_time": "2022-12-04T11:06:17.258Z"
   },
   {
    "duration": 35,
    "start_time": "2022-12-04T11:06:17.273Z"
   },
   {
    "duration": 17,
    "start_time": "2022-12-04T11:06:17.311Z"
   },
   {
    "duration": 8,
    "start_time": "2022-12-04T11:06:17.330Z"
   },
   {
    "duration": 23,
    "start_time": "2022-12-04T11:06:17.341Z"
   },
   {
    "duration": 58,
    "start_time": "2022-12-04T11:06:17.368Z"
   },
   {
    "duration": 14,
    "start_time": "2022-12-04T11:06:17.428Z"
   },
   {
    "duration": 39,
    "start_time": "2022-12-04T11:06:17.445Z"
   },
   {
    "duration": 70,
    "start_time": "2022-12-04T11:06:17.486Z"
   },
   {
    "duration": 5,
    "start_time": "2022-12-04T11:06:17.558Z"
   },
   {
    "duration": 42,
    "start_time": "2022-12-04T11:06:17.565Z"
   },
   {
    "duration": 35,
    "start_time": "2022-12-04T11:06:17.609Z"
   },
   {
    "duration": 19,
    "start_time": "2022-12-04T11:06:17.646Z"
   },
   {
    "duration": 27,
    "start_time": "2022-12-04T11:06:17.667Z"
   },
   {
    "duration": 35,
    "start_time": "2022-12-04T11:06:17.696Z"
   },
   {
    "duration": 26,
    "start_time": "2022-12-04T11:06:17.732Z"
   },
   {
    "duration": 26,
    "start_time": "2022-12-04T11:06:17.762Z"
   },
   {
    "duration": 28,
    "start_time": "2022-12-04T11:06:17.790Z"
   },
   {
    "duration": 25,
    "start_time": "2022-12-04T11:06:17.820Z"
   },
   {
    "duration": 29,
    "start_time": "2022-12-04T11:06:17.846Z"
   },
   {
    "duration": 19,
    "start_time": "2022-12-04T11:06:17.877Z"
   },
   {
    "duration": 63,
    "start_time": "2022-12-04T11:06:17.898Z"
   },
   {
    "duration": 89,
    "start_time": "2022-12-04T11:06:17.962Z"
   },
   {
    "duration": 11,
    "start_time": "2022-12-04T11:06:18.053Z"
   },
   {
    "duration": 31,
    "start_time": "2022-12-04T11:06:18.066Z"
   },
   {
    "duration": 20,
    "start_time": "2022-12-04T11:06:18.105Z"
   },
   {
    "duration": 11,
    "start_time": "2022-12-04T11:06:18.127Z"
   },
   {
    "duration": 28,
    "start_time": "2022-12-04T11:06:18.140Z"
   },
   {
    "duration": 40,
    "start_time": "2022-12-04T11:06:18.170Z"
   },
   {
    "duration": 10,
    "start_time": "2022-12-04T11:06:18.212Z"
   },
   {
    "duration": 266,
    "start_time": "2022-12-04T11:06:18.224Z"
   },
   {
    "duration": 149,
    "start_time": "2022-12-04T11:06:18.492Z"
   },
   {
    "duration": 16,
    "start_time": "2022-12-04T11:06:18.643Z"
   },
   {
    "duration": 12,
    "start_time": "2022-12-04T11:06:18.661Z"
   },
   {
    "duration": 32,
    "start_time": "2022-12-04T11:06:18.674Z"
   },
   {
    "duration": 9,
    "start_time": "2022-12-04T11:06:18.708Z"
   },
   {
    "duration": 140,
    "start_time": "2022-12-04T11:06:18.719Z"
   },
   {
    "duration": 143,
    "start_time": "2022-12-04T11:06:18.861Z"
   },
   {
    "duration": 72,
    "start_time": "2022-12-04T11:06:19.007Z"
   },
   {
    "duration": 38,
    "start_time": "2022-12-04T11:06:19.082Z"
   },
   {
    "duration": 268,
    "start_time": "2022-12-04T11:06:19.122Z"
   },
   {
    "duration": 15,
    "start_time": "2022-12-04T11:06:19.392Z"
   },
   {
    "duration": 27,
    "start_time": "2022-12-04T11:06:19.409Z"
   },
   {
    "duration": 142,
    "start_time": "2022-12-04T11:06:19.438Z"
   },
   {
    "duration": 26,
    "start_time": "2022-12-04T11:06:19.582Z"
   },
   {
    "duration": 119,
    "start_time": "2022-12-04T11:06:19.610Z"
   },
   {
    "duration": 12,
    "start_time": "2022-12-04T11:06:19.731Z"
   },
   {
    "duration": 132,
    "start_time": "2022-12-04T11:06:19.744Z"
   },
   {
    "duration": 26,
    "start_time": "2022-12-04T11:06:19.879Z"
   },
   {
    "duration": 130,
    "start_time": "2022-12-04T11:06:19.907Z"
   },
   {
    "duration": 33,
    "start_time": "2022-12-04T11:06:20.039Z"
   },
   {
    "duration": 32,
    "start_time": "2022-12-04T11:06:20.074Z"
   },
   {
    "duration": 15,
    "start_time": "2022-12-04T11:06:20.108Z"
   },
   {
    "duration": 21,
    "start_time": "2022-12-04T11:06:20.125Z"
   },
   {
    "duration": 6,
    "start_time": "2022-12-04T11:06:20.148Z"
   },
   {
    "duration": 276,
    "start_time": "2022-12-04T11:06:20.155Z"
   },
   {
    "duration": 11,
    "start_time": "2022-12-04T11:06:20.433Z"
   },
   {
    "duration": 153,
    "start_time": "2022-12-04T11:06:20.445Z"
   },
   {
    "duration": 13,
    "start_time": "2022-12-04T11:06:20.604Z"
   },
   {
    "duration": 8,
    "start_time": "2022-12-04T11:06:20.619Z"
   },
   {
    "duration": 12,
    "start_time": "2022-12-04T11:06:20.629Z"
   },
   {
    "duration": 7,
    "start_time": "2022-12-04T11:06:20.643Z"
   },
   {
    "duration": 11,
    "start_time": "2022-12-04T11:06:20.652Z"
   },
   {
    "duration": 51,
    "start_time": "2022-12-04T11:06:20.665Z"
   },
   {
    "duration": 20,
    "start_time": "2022-12-04T11:06:20.718Z"
   },
   {
    "duration": 10,
    "start_time": "2022-12-04T11:06:20.740Z"
   },
   {
    "duration": 156,
    "start_time": "2022-12-04T11:06:20.752Z"
   },
   {
    "duration": 7,
    "start_time": "2022-12-04T11:06:20.909Z"
   },
   {
    "duration": 171,
    "start_time": "2022-12-04T11:06:20.918Z"
   },
   {
    "duration": 30,
    "start_time": "2022-12-04T11:06:21.091Z"
   },
   {
    "duration": 14,
    "start_time": "2022-12-04T11:06:21.128Z"
   },
   {
    "duration": 11,
    "start_time": "2022-12-04T11:06:21.144Z"
   },
   {
    "duration": 12,
    "start_time": "2022-12-04T11:06:21.157Z"
   },
   {
    "duration": 40,
    "start_time": "2022-12-04T11:06:21.171Z"
   },
   {
    "duration": 13,
    "start_time": "2022-12-04T11:06:21.213Z"
   },
   {
    "duration": 17,
    "start_time": "2022-12-04T11:06:21.228Z"
   },
   {
    "duration": 7,
    "start_time": "2022-12-04T11:06:21.247Z"
   },
   {
    "duration": 12,
    "start_time": "2022-12-04T11:06:21.255Z"
   },
   {
    "duration": 6,
    "start_time": "2022-12-04T11:06:21.269Z"
   },
   {
    "duration": 34,
    "start_time": "2022-12-04T11:06:21.276Z"
   },
   {
    "duration": 11,
    "start_time": "2022-12-04T11:06:21.312Z"
   },
   {
    "duration": 13,
    "start_time": "2022-12-04T11:06:21.325Z"
   },
   {
    "duration": 9,
    "start_time": "2022-12-04T11:06:21.340Z"
   },
   {
    "duration": 28,
    "start_time": "2022-12-04T11:06:21.352Z"
   },
   {
    "duration": 58,
    "start_time": "2022-12-04T11:06:21.383Z"
   },
   {
    "duration": 61,
    "start_time": "2022-12-04T11:06:21.444Z"
   },
   {
    "duration": 52,
    "start_time": "2022-12-04T11:06:21.507Z"
   },
   {
    "duration": 69,
    "start_time": "2022-12-04T11:06:21.565Z"
   },
   {
    "duration": 14,
    "start_time": "2022-12-04T11:06:21.637Z"
   },
   {
    "duration": 12,
    "start_time": "2022-12-04T11:06:21.652Z"
   },
   {
    "duration": 8,
    "start_time": "2022-12-04T11:06:21.665Z"
   },
   {
    "duration": 54,
    "start_time": "2022-12-04T11:06:21.675Z"
   },
   {
    "duration": 11,
    "start_time": "2022-12-04T11:06:21.731Z"
   },
   {
    "duration": 6,
    "start_time": "2022-12-04T11:06:21.743Z"
   },
   {
    "duration": 36,
    "start_time": "2022-12-04T11:06:21.751Z"
   },
   {
    "duration": 16,
    "start_time": "2022-12-04T11:06:21.789Z"
   },
   {
    "duration": 6,
    "start_time": "2022-12-04T11:06:21.806Z"
   },
   {
    "duration": 17,
    "start_time": "2022-12-04T11:06:21.813Z"
   },
   {
    "duration": 3,
    "start_time": "2022-12-04T11:06:21.832Z"
   },
   {
    "duration": 16,
    "start_time": "2022-12-04T11:06:21.836Z"
   },
   {
    "duration": 6,
    "start_time": "2022-12-04T11:06:21.854Z"
   },
   {
    "duration": 10,
    "start_time": "2022-12-04T11:06:21.861Z"
   },
   {
    "duration": 32,
    "start_time": "2022-12-04T11:06:21.873Z"
   },
   {
    "duration": 16,
    "start_time": "2022-12-04T11:06:21.907Z"
   },
   {
    "duration": 149,
    "start_time": "2022-12-04T11:06:21.925Z"
   },
   {
    "duration": 233,
    "start_time": "2022-12-04T11:06:22.075Z"
   },
   {
    "duration": 10,
    "start_time": "2022-12-04T11:06:22.310Z"
   },
   {
    "duration": 13,
    "start_time": "2022-12-04T11:06:22.321Z"
   },
   {
    "duration": 27,
    "start_time": "2022-12-04T11:06:22.336Z"
   },
   {
    "duration": 4,
    "start_time": "2022-12-04T11:06:22.365Z"
   },
   {
    "duration": 12,
    "start_time": "2022-12-04T11:06:22.371Z"
   },
   {
    "duration": 430,
    "start_time": "2022-12-04T11:06:22.385Z"
   },
   {
    "duration": 9,
    "start_time": "2022-12-04T11:06:22.817Z"
   },
   {
    "duration": 136,
    "start_time": "2022-12-04T11:06:22.828Z"
   },
   {
    "duration": 10,
    "start_time": "2022-12-04T11:06:22.966Z"
   },
   {
    "duration": 43,
    "start_time": "2022-12-04T11:06:22.978Z"
   },
   {
    "duration": 42,
    "start_time": "2022-12-04T11:06:23.023Z"
   },
   {
    "duration": 5,
    "start_time": "2022-12-04T11:06:23.068Z"
   },
   {
    "duration": 41,
    "start_time": "2022-12-04T11:06:23.075Z"
   },
   {
    "duration": 5,
    "start_time": "2022-12-04T11:06:23.118Z"
   },
   {
    "duration": 11,
    "start_time": "2022-12-04T11:06:23.125Z"
   },
   {
    "duration": 11,
    "start_time": "2022-12-04T11:06:23.138Z"
   },
   {
    "duration": 9,
    "start_time": "2022-12-04T11:06:23.151Z"
   },
   {
    "duration": 161,
    "start_time": "2022-12-04T11:06:23.162Z"
   },
   {
    "duration": 6,
    "start_time": "2022-12-04T11:06:23.325Z"
   },
   {
    "duration": 14,
    "start_time": "2022-12-04T11:06:23.332Z"
   },
   {
    "duration": 14,
    "start_time": "2022-12-04T11:06:23.348Z"
   },
   {
    "duration": 14,
    "start_time": "2022-12-04T11:06:23.364Z"
   },
   {
    "duration": 233,
    "start_time": "2022-12-04T11:06:23.380Z"
   },
   {
    "duration": 8,
    "start_time": "2022-12-04T11:06:23.614Z"
   },
   {
    "duration": 222,
    "start_time": "2022-12-04T11:06:23.628Z"
   },
   {
    "duration": 8,
    "start_time": "2022-12-04T11:06:23.851Z"
   },
   {
    "duration": 12,
    "start_time": "2022-12-04T11:06:23.861Z"
   },
   {
    "duration": 13,
    "start_time": "2022-12-04T11:06:23.875Z"
   },
   {
    "duration": 5,
    "start_time": "2022-12-04T11:06:23.905Z"
   },
   {
    "duration": 18,
    "start_time": "2022-12-04T11:06:23.912Z"
   },
   {
    "duration": 8,
    "start_time": "2022-12-04T11:06:23.932Z"
   },
   {
    "duration": 34,
    "start_time": "2022-12-04T11:06:23.942Z"
   },
   {
    "duration": 4,
    "start_time": "2022-12-04T11:06:23.978Z"
   },
   {
    "duration": 33,
    "start_time": "2022-12-04T11:06:23.984Z"
   },
   {
    "duration": 8,
    "start_time": "2022-12-04T11:06:24.019Z"
   },
   {
    "duration": 19,
    "start_time": "2022-12-04T11:06:24.029Z"
   },
   {
    "duration": 138,
    "start_time": "2022-12-04T11:06:24.050Z"
   },
   {
    "duration": 162,
    "start_time": "2022-12-04T11:06:24.191Z"
   },
   {
    "duration": 6,
    "start_time": "2022-12-04T11:06:24.355Z"
   },
   {
    "duration": 17,
    "start_time": "2022-12-04T11:06:24.363Z"
   },
   {
    "duration": 11,
    "start_time": "2022-12-04T11:06:24.381Z"
   },
   {
    "duration": 5,
    "start_time": "2022-12-04T11:06:24.404Z"
   },
   {
    "duration": 156,
    "start_time": "2022-12-04T11:06:24.411Z"
   },
   {
    "duration": 13,
    "start_time": "2022-12-04T11:16:16.724Z"
   },
   {
    "duration": 14,
    "start_time": "2022-12-04T11:16:46.070Z"
   },
   {
    "duration": 5,
    "start_time": "2022-12-04T11:16:59.810Z"
   },
   {
    "duration": 6,
    "start_time": "2022-12-04T11:17:02.746Z"
   },
   {
    "duration": 186,
    "start_time": "2022-12-04T11:48:21.124Z"
   },
   {
    "duration": 1413,
    "start_time": "2022-12-04T11:48:30.701Z"
   },
   {
    "duration": 87,
    "start_time": "2022-12-04T11:48:32.116Z"
   },
   {
    "duration": 26,
    "start_time": "2022-12-04T11:48:32.205Z"
   },
   {
    "duration": 28,
    "start_time": "2022-12-04T11:48:32.233Z"
   },
   {
    "duration": 16,
    "start_time": "2022-12-04T11:48:32.263Z"
   },
   {
    "duration": 25,
    "start_time": "2022-12-04T11:48:32.281Z"
   },
   {
    "duration": 15,
    "start_time": "2022-12-04T11:48:32.308Z"
   },
   {
    "duration": 30,
    "start_time": "2022-12-04T11:48:32.325Z"
   },
   {
    "duration": 49,
    "start_time": "2022-12-04T11:48:32.356Z"
   },
   {
    "duration": 30,
    "start_time": "2022-12-04T11:48:32.407Z"
   },
   {
    "duration": 11,
    "start_time": "2022-12-04T11:48:32.438Z"
   },
   {
    "duration": 12,
    "start_time": "2022-12-04T11:48:32.451Z"
   },
   {
    "duration": 16,
    "start_time": "2022-12-04T11:48:32.464Z"
   },
   {
    "duration": 30,
    "start_time": "2022-12-04T11:48:32.481Z"
   },
   {
    "duration": 14,
    "start_time": "2022-12-04T11:48:32.512Z"
   },
   {
    "duration": 38,
    "start_time": "2022-12-04T11:48:32.528Z"
   },
   {
    "duration": 36,
    "start_time": "2022-12-04T11:48:32.568Z"
   },
   {
    "duration": 12,
    "start_time": "2022-12-04T11:48:32.606Z"
   },
   {
    "duration": 22,
    "start_time": "2022-12-04T11:48:32.619Z"
   },
   {
    "duration": 40,
    "start_time": "2022-12-04T11:48:32.643Z"
   },
   {
    "duration": 5,
    "start_time": "2022-12-04T11:48:32.705Z"
   },
   {
    "duration": 16,
    "start_time": "2022-12-04T11:48:32.712Z"
   },
   {
    "duration": 11,
    "start_time": "2022-12-04T11:48:32.730Z"
   },
   {
    "duration": 9,
    "start_time": "2022-12-04T11:48:32.743Z"
   },
   {
    "duration": 11,
    "start_time": "2022-12-04T11:48:32.753Z"
   },
   {
    "duration": 11,
    "start_time": "2022-12-04T11:48:32.804Z"
   },
   {
    "duration": 20,
    "start_time": "2022-12-04T11:48:32.817Z"
   },
   {
    "duration": 10,
    "start_time": "2022-12-04T11:48:32.843Z"
   },
   {
    "duration": 16,
    "start_time": "2022-12-04T11:48:32.855Z"
   },
   {
    "duration": 36,
    "start_time": "2022-12-04T11:48:32.873Z"
   },
   {
    "duration": 11,
    "start_time": "2022-12-04T11:48:32.911Z"
   },
   {
    "duration": 15,
    "start_time": "2022-12-04T11:48:32.923Z"
   },
   {
    "duration": 19,
    "start_time": "2022-12-04T11:48:32.940Z"
   },
   {
    "duration": 96,
    "start_time": "2022-12-04T11:48:32.962Z"
   },
   {
    "duration": 12,
    "start_time": "2022-12-04T11:48:33.060Z"
   },
   {
    "duration": 39,
    "start_time": "2022-12-04T11:48:33.074Z"
   },
   {
    "duration": 32,
    "start_time": "2022-12-04T11:48:33.115Z"
   },
   {
    "duration": 12,
    "start_time": "2022-12-04T11:48:33.150Z"
   },
   {
    "duration": 55,
    "start_time": "2022-12-04T11:48:33.164Z"
   },
   {
    "duration": 12,
    "start_time": "2022-12-04T11:48:33.221Z"
   },
   {
    "duration": 12,
    "start_time": "2022-12-04T11:48:33.235Z"
   },
   {
    "duration": 271,
    "start_time": "2022-12-04T11:48:33.249Z"
   },
   {
    "duration": 157,
    "start_time": "2022-12-04T11:48:33.522Z"
   },
   {
    "duration": 25,
    "start_time": "2022-12-04T11:48:33.680Z"
   },
   {
    "duration": 15,
    "start_time": "2022-12-04T11:48:33.706Z"
   },
   {
    "duration": 5,
    "start_time": "2022-12-04T11:48:33.723Z"
   },
   {
    "duration": 8,
    "start_time": "2022-12-04T11:48:33.730Z"
   },
   {
    "duration": 174,
    "start_time": "2022-12-04T11:48:33.740Z"
   },
   {
    "duration": 151,
    "start_time": "2022-12-04T11:48:33.916Z"
   },
   {
    "duration": 53,
    "start_time": "2022-12-04T11:48:34.069Z"
   },
   {
    "duration": 19,
    "start_time": "2022-12-04T11:48:34.124Z"
   },
   {
    "duration": 287,
    "start_time": "2022-12-04T11:48:34.145Z"
   },
   {
    "duration": 7,
    "start_time": "2022-12-04T11:48:34.433Z"
   },
   {
    "duration": 17,
    "start_time": "2022-12-04T11:48:34.442Z"
   },
   {
    "duration": 149,
    "start_time": "2022-12-04T11:48:34.460Z"
   },
   {
    "duration": 20,
    "start_time": "2022-12-04T11:48:34.610Z"
   },
   {
    "duration": 130,
    "start_time": "2022-12-04T11:48:34.633Z"
   },
   {
    "duration": 13,
    "start_time": "2022-12-04T11:48:34.764Z"
   },
   {
    "duration": 128,
    "start_time": "2022-12-04T11:48:34.779Z"
   },
   {
    "duration": 16,
    "start_time": "2022-12-04T11:48:34.909Z"
   },
   {
    "duration": 143,
    "start_time": "2022-12-04T11:48:34.927Z"
   },
   {
    "duration": 51,
    "start_time": "2022-12-04T11:48:35.073Z"
   },
   {
    "duration": 19,
    "start_time": "2022-12-04T11:48:35.127Z"
   },
   {
    "duration": 5,
    "start_time": "2022-12-04T11:48:35.149Z"
   },
   {
    "duration": 26,
    "start_time": "2022-12-04T11:48:35.156Z"
   },
   {
    "duration": 24,
    "start_time": "2022-12-04T11:48:35.183Z"
   },
   {
    "duration": 243,
    "start_time": "2022-12-04T11:48:35.209Z"
   },
   {
    "duration": 10,
    "start_time": "2022-12-04T11:48:35.454Z"
   },
   {
    "duration": 151,
    "start_time": "2022-12-04T11:48:35.466Z"
   },
   {
    "duration": 18,
    "start_time": "2022-12-04T11:48:35.620Z"
   },
   {
    "duration": 10,
    "start_time": "2022-12-04T11:48:35.640Z"
   },
   {
    "duration": 14,
    "start_time": "2022-12-04T11:48:35.653Z"
   },
   {
    "duration": 37,
    "start_time": "2022-12-04T11:48:35.669Z"
   },
   {
    "duration": 7,
    "start_time": "2022-12-04T11:48:35.708Z"
   },
   {
    "duration": 19,
    "start_time": "2022-12-04T11:48:35.717Z"
   },
   {
    "duration": 17,
    "start_time": "2022-12-04T11:48:35.738Z"
   },
   {
    "duration": 11,
    "start_time": "2022-12-04T11:48:35.756Z"
   },
   {
    "duration": 160,
    "start_time": "2022-12-04T11:48:35.768Z"
   },
   {
    "duration": 7,
    "start_time": "2022-12-04T11:48:35.929Z"
   },
   {
    "duration": 193,
    "start_time": "2022-12-04T11:48:35.938Z"
   },
   {
    "duration": 23,
    "start_time": "2022-12-04T11:48:36.133Z"
   },
   {
    "duration": 16,
    "start_time": "2022-12-04T11:48:36.165Z"
   },
   {
    "duration": 26,
    "start_time": "2022-12-04T11:48:36.182Z"
   },
   {
    "duration": 21,
    "start_time": "2022-12-04T11:48:36.210Z"
   },
   {
    "duration": 25,
    "start_time": "2022-12-04T11:48:36.233Z"
   },
   {
    "duration": 27,
    "start_time": "2022-12-04T11:48:36.260Z"
   },
   {
    "duration": 16,
    "start_time": "2022-12-04T11:48:36.288Z"
   },
   {
    "duration": 26,
    "start_time": "2022-12-04T11:48:36.305Z"
   },
   {
    "duration": 22,
    "start_time": "2022-12-04T11:48:36.333Z"
   },
   {
    "duration": 15,
    "start_time": "2022-12-04T11:48:36.356Z"
   },
   {
    "duration": 18,
    "start_time": "2022-12-04T11:48:36.372Z"
   },
   {
    "duration": 26,
    "start_time": "2022-12-04T11:48:36.392Z"
   },
   {
    "duration": 17,
    "start_time": "2022-12-04T11:48:36.419Z"
   },
   {
    "duration": 34,
    "start_time": "2022-12-04T11:48:36.438Z"
   },
   {
    "duration": 32,
    "start_time": "2022-12-04T11:48:36.474Z"
   },
   {
    "duration": 65,
    "start_time": "2022-12-04T11:48:36.509Z"
   },
   {
    "duration": 74,
    "start_time": "2022-12-04T11:48:36.576Z"
   },
   {
    "duration": 154,
    "start_time": "2022-12-04T11:48:36.652Z"
   },
   {
    "duration": 52,
    "start_time": "2022-12-04T11:48:36.808Z"
   },
   {
    "duration": 61,
    "start_time": "2022-12-04T11:48:36.862Z"
   },
   {
    "duration": 17,
    "start_time": "2022-12-04T11:48:36.925Z"
   },
   {
    "duration": 9,
    "start_time": "2022-12-04T11:48:36.944Z"
   },
   {
    "duration": 78,
    "start_time": "2022-12-04T11:48:36.955Z"
   },
   {
    "duration": 11,
    "start_time": "2022-12-04T11:48:37.036Z"
   },
   {
    "duration": 60,
    "start_time": "2022-12-04T11:48:37.049Z"
   },
   {
    "duration": 26,
    "start_time": "2022-12-04T11:48:37.111Z"
   },
   {
    "duration": 6,
    "start_time": "2022-12-04T11:48:37.139Z"
   },
   {
    "duration": 5,
    "start_time": "2022-12-04T11:48:37.147Z"
   },
   {
    "duration": 60,
    "start_time": "2022-12-04T11:48:37.154Z"
   },
   {
    "duration": 3,
    "start_time": "2022-12-04T11:48:37.216Z"
   },
   {
    "duration": 20,
    "start_time": "2022-12-04T11:48:37.220Z"
   },
   {
    "duration": 7,
    "start_time": "2022-12-04T11:48:37.241Z"
   },
   {
    "duration": 7,
    "start_time": "2022-12-04T11:48:37.251Z"
   },
   {
    "duration": 5,
    "start_time": "2022-12-04T11:48:37.260Z"
   },
   {
    "duration": 13,
    "start_time": "2022-12-04T11:48:37.266Z"
   },
   {
    "duration": 165,
    "start_time": "2022-12-04T11:48:37.281Z"
   },
   {
    "duration": 324,
    "start_time": "2022-12-04T11:48:37.447Z"
   },
   {
    "duration": 14,
    "start_time": "2022-12-04T11:48:37.773Z"
   },
   {
    "duration": 18,
    "start_time": "2022-12-04T11:48:37.789Z"
   },
   {
    "duration": 14,
    "start_time": "2022-12-04T11:48:37.809Z"
   },
   {
    "duration": 5,
    "start_time": "2022-12-04T11:48:37.825Z"
   },
   {
    "duration": 8,
    "start_time": "2022-12-04T11:48:37.832Z"
   },
   {
    "duration": 463,
    "start_time": "2022-12-04T11:48:37.842Z"
   },
   {
    "duration": 9,
    "start_time": "2022-12-04T11:48:38.307Z"
   },
   {
    "duration": 150,
    "start_time": "2022-12-04T11:48:38.317Z"
   },
   {
    "duration": 13,
    "start_time": "2022-12-04T11:48:38.470Z"
   },
   {
    "duration": 41,
    "start_time": "2022-12-04T11:48:38.485Z"
   },
   {
    "duration": 27,
    "start_time": "2022-12-04T11:48:38.527Z"
   },
   {
    "duration": 5,
    "start_time": "2022-12-04T11:48:38.556Z"
   },
   {
    "duration": 23,
    "start_time": "2022-12-04T11:48:38.563Z"
   },
   {
    "duration": 6,
    "start_time": "2022-12-04T11:48:38.605Z"
   },
   {
    "duration": 13,
    "start_time": "2022-12-04T11:48:38.613Z"
   },
   {
    "duration": 15,
    "start_time": "2022-12-04T11:48:38.628Z"
   },
   {
    "duration": 9,
    "start_time": "2022-12-04T11:48:38.645Z"
   },
   {
    "duration": 178,
    "start_time": "2022-12-04T11:48:38.656Z"
   },
   {
    "duration": 7,
    "start_time": "2022-12-04T11:48:38.836Z"
   },
   {
    "duration": 16,
    "start_time": "2022-12-04T11:48:38.845Z"
   },
   {
    "duration": 8,
    "start_time": "2022-12-04T11:48:38.864Z"
   },
   {
    "duration": 32,
    "start_time": "2022-12-04T11:48:38.874Z"
   },
   {
    "duration": 202,
    "start_time": "2022-12-04T11:48:38.908Z"
   },
   {
    "duration": 10,
    "start_time": "2022-12-04T11:48:39.113Z"
   },
   {
    "duration": 221,
    "start_time": "2022-12-04T11:48:39.125Z"
   },
   {
    "duration": 8,
    "start_time": "2022-12-04T11:48:39.348Z"
   },
   {
    "duration": 9,
    "start_time": "2022-12-04T11:48:39.358Z"
   },
   {
    "duration": 13,
    "start_time": "2022-12-04T11:48:39.369Z"
   },
   {
    "duration": 25,
    "start_time": "2022-12-04T11:48:39.384Z"
   },
   {
    "duration": 13,
    "start_time": "2022-12-04T11:48:39.411Z"
   },
   {
    "duration": 7,
    "start_time": "2022-12-04T11:48:39.426Z"
   },
   {
    "duration": 45,
    "start_time": "2022-12-04T11:48:39.435Z"
   },
   {
    "duration": 26,
    "start_time": "2022-12-04T11:48:39.482Z"
   },
   {
    "duration": 8,
    "start_time": "2022-12-04T11:48:39.510Z"
   },
   {
    "duration": 11,
    "start_time": "2022-12-04T11:48:39.519Z"
   },
   {
    "duration": 11,
    "start_time": "2022-12-04T11:48:39.532Z"
   },
   {
    "duration": 134,
    "start_time": "2022-12-04T11:48:39.545Z"
   },
   {
    "duration": 151,
    "start_time": "2022-12-04T11:48:39.681Z"
   },
   {
    "duration": 6,
    "start_time": "2022-12-04T11:48:39.834Z"
   },
   {
    "duration": 20,
    "start_time": "2022-12-04T11:48:39.842Z"
   },
   {
    "duration": 22,
    "start_time": "2022-12-04T11:48:39.864Z"
   },
   {
    "duration": 7,
    "start_time": "2022-12-04T11:48:39.888Z"
   },
   {
    "duration": 6,
    "start_time": "2022-12-04T11:48:39.906Z"
   },
   {
    "duration": 7,
    "start_time": "2022-12-04T11:48:39.914Z"
   },
   {
    "duration": 5,
    "start_time": "2022-12-04T14:05:28.040Z"
   },
   {
    "duration": 1474,
    "start_time": "2022-12-04T14:29:59.826Z"
   },
   {
    "duration": 103,
    "start_time": "2022-12-04T14:30:01.305Z"
   },
   {
    "duration": 44,
    "start_time": "2022-12-04T14:30:01.411Z"
   },
   {
    "duration": 32,
    "start_time": "2022-12-04T14:30:01.458Z"
   },
   {
    "duration": 26,
    "start_time": "2022-12-04T14:30:01.492Z"
   },
   {
    "duration": 90,
    "start_time": "2022-12-04T14:30:01.520Z"
   },
   {
    "duration": 44,
    "start_time": "2022-12-04T14:30:01.612Z"
   },
   {
    "duration": 72,
    "start_time": "2022-12-04T14:30:01.658Z"
   },
   {
    "duration": 25,
    "start_time": "2022-12-04T14:30:01.733Z"
   },
   {
    "duration": 62,
    "start_time": "2022-12-04T14:30:01.761Z"
   },
   {
    "duration": 11,
    "start_time": "2022-12-04T14:30:01.826Z"
   },
   {
    "duration": 31,
    "start_time": "2022-12-04T14:30:01.839Z"
   },
   {
    "duration": 28,
    "start_time": "2022-12-04T14:30:01.871Z"
   },
   {
    "duration": 31,
    "start_time": "2022-12-04T14:30:01.901Z"
   },
   {
    "duration": 6,
    "start_time": "2022-12-04T14:30:01.933Z"
   },
   {
    "duration": 35,
    "start_time": "2022-12-04T14:30:01.941Z"
   },
   {
    "duration": 59,
    "start_time": "2022-12-04T14:30:01.978Z"
   },
   {
    "duration": 13,
    "start_time": "2022-12-04T14:30:02.039Z"
   },
   {
    "duration": 21,
    "start_time": "2022-12-04T14:30:02.054Z"
   },
   {
    "duration": 65,
    "start_time": "2022-12-04T14:30:02.077Z"
   },
   {
    "duration": 7,
    "start_time": "2022-12-04T14:30:02.143Z"
   },
   {
    "duration": 21,
    "start_time": "2022-12-04T14:30:02.152Z"
   },
   {
    "duration": 13,
    "start_time": "2022-12-04T14:30:02.176Z"
   },
   {
    "duration": 19,
    "start_time": "2022-12-04T14:30:02.191Z"
   },
   {
    "duration": 26,
    "start_time": "2022-12-04T14:30:02.214Z"
   },
   {
    "duration": 11,
    "start_time": "2022-12-04T14:30:02.242Z"
   },
   {
    "duration": 10,
    "start_time": "2022-12-04T14:30:02.255Z"
   },
   {
    "duration": 7,
    "start_time": "2022-12-04T14:30:02.269Z"
   },
   {
    "duration": 44,
    "start_time": "2022-12-04T14:30:02.278Z"
   },
   {
    "duration": 13,
    "start_time": "2022-12-04T14:30:02.325Z"
   },
   {
    "duration": 25,
    "start_time": "2022-12-04T14:30:02.340Z"
   },
   {
    "duration": 16,
    "start_time": "2022-12-04T14:30:02.367Z"
   },
   {
    "duration": 35,
    "start_time": "2022-12-04T14:30:02.385Z"
   },
   {
    "duration": 114,
    "start_time": "2022-12-04T14:30:02.423Z"
   },
   {
    "duration": 15,
    "start_time": "2022-12-04T14:30:02.538Z"
   },
   {
    "duration": 29,
    "start_time": "2022-12-04T14:30:02.554Z"
   },
   {
    "duration": 46,
    "start_time": "2022-12-04T14:30:02.585Z"
   },
   {
    "duration": 14,
    "start_time": "2022-12-04T14:30:02.633Z"
   },
   {
    "duration": 25,
    "start_time": "2022-12-04T14:30:02.649Z"
   },
   {
    "duration": 30,
    "start_time": "2022-12-04T14:30:02.676Z"
   },
   {
    "duration": 11,
    "start_time": "2022-12-04T14:30:02.709Z"
   },
   {
    "duration": 260,
    "start_time": "2022-12-04T14:30:02.723Z"
   },
   {
    "duration": 166,
    "start_time": "2022-12-04T14:30:02.984Z"
   },
   {
    "duration": 18,
    "start_time": "2022-12-04T14:30:03.151Z"
   },
   {
    "duration": 12,
    "start_time": "2022-12-04T14:30:03.171Z"
   },
   {
    "duration": 37,
    "start_time": "2022-12-04T14:30:03.184Z"
   },
   {
    "duration": 8,
    "start_time": "2022-12-04T14:30:03.223Z"
   },
   {
    "duration": 150,
    "start_time": "2022-12-04T14:30:03.232Z"
   },
   {
    "duration": 154,
    "start_time": "2022-12-04T14:30:03.384Z"
   },
   {
    "duration": 44,
    "start_time": "2022-12-04T14:30:03.540Z"
   },
   {
    "duration": 23,
    "start_time": "2022-12-04T14:30:03.585Z"
   },
   {
    "duration": 281,
    "start_time": "2022-12-04T14:30:03.610Z"
   },
   {
    "duration": 14,
    "start_time": "2022-12-04T14:30:03.893Z"
   },
   {
    "duration": 19,
    "start_time": "2022-12-04T14:30:03.910Z"
   },
   {
    "duration": 146,
    "start_time": "2022-12-04T14:30:03.931Z"
   },
   {
    "duration": 14,
    "start_time": "2022-12-04T14:30:04.079Z"
   },
   {
    "duration": 159,
    "start_time": "2022-12-04T14:30:04.105Z"
   },
   {
    "duration": 15,
    "start_time": "2022-12-04T14:30:04.265Z"
   },
   {
    "duration": 178,
    "start_time": "2022-12-04T14:30:04.282Z"
   },
   {
    "duration": 11,
    "start_time": "2022-12-04T14:30:04.462Z"
   },
   {
    "duration": 137,
    "start_time": "2022-12-04T14:30:04.475Z"
   },
   {
    "duration": 34,
    "start_time": "2022-12-04T14:30:04.615Z"
   },
   {
    "duration": 14,
    "start_time": "2022-12-04T14:30:04.651Z"
   },
   {
    "duration": 9,
    "start_time": "2022-12-04T14:30:04.667Z"
   },
   {
    "duration": 42,
    "start_time": "2022-12-04T14:30:04.677Z"
   },
   {
    "duration": 6,
    "start_time": "2022-12-04T14:30:04.721Z"
   },
   {
    "duration": 286,
    "start_time": "2022-12-04T14:30:04.729Z"
   },
   {
    "duration": 13,
    "start_time": "2022-12-04T14:30:05.018Z"
   },
   {
    "duration": 146,
    "start_time": "2022-12-04T14:30:05.033Z"
   },
   {
    "duration": 11,
    "start_time": "2022-12-04T14:30:05.181Z"
   },
   {
    "duration": 17,
    "start_time": "2022-12-04T14:30:05.204Z"
   },
   {
    "duration": 19,
    "start_time": "2022-12-04T14:30:05.223Z"
   },
   {
    "duration": 23,
    "start_time": "2022-12-04T14:30:05.244Z"
   },
   {
    "duration": 14,
    "start_time": "2022-12-04T14:30:05.269Z"
   },
   {
    "duration": 46,
    "start_time": "2022-12-04T14:30:05.285Z"
   },
   {
    "duration": 19,
    "start_time": "2022-12-04T14:30:05.332Z"
   },
   {
    "duration": 10,
    "start_time": "2022-12-04T14:30:05.353Z"
   },
   {
    "duration": 157,
    "start_time": "2022-12-04T14:30:05.364Z"
   },
   {
    "duration": 12,
    "start_time": "2022-12-04T14:30:05.525Z"
   },
   {
    "duration": 147,
    "start_time": "2022-12-04T14:30:05.539Z"
   },
   {
    "duration": 41,
    "start_time": "2022-12-04T14:30:05.688Z"
   },
   {
    "duration": 14,
    "start_time": "2022-12-04T14:30:05.737Z"
   },
   {
    "duration": 11,
    "start_time": "2022-12-04T14:30:05.753Z"
   },
   {
    "duration": 12,
    "start_time": "2022-12-04T14:30:05.765Z"
   },
   {
    "duration": 27,
    "start_time": "2022-12-04T14:30:05.779Z"
   },
   {
    "duration": 31,
    "start_time": "2022-12-04T14:30:05.807Z"
   },
   {
    "duration": 18,
    "start_time": "2022-12-04T14:30:05.841Z"
   },
   {
    "duration": 9,
    "start_time": "2022-12-04T14:30:05.861Z"
   },
   {
    "duration": 13,
    "start_time": "2022-12-04T14:30:05.872Z"
   },
   {
    "duration": 6,
    "start_time": "2022-12-04T14:30:05.905Z"
   },
   {
    "duration": 23,
    "start_time": "2022-12-04T14:30:05.913Z"
   },
   {
    "duration": 12,
    "start_time": "2022-12-04T14:30:05.938Z"
   },
   {
    "duration": 7,
    "start_time": "2022-12-04T14:30:05.951Z"
   },
   {
    "duration": 7,
    "start_time": "2022-12-04T14:30:05.960Z"
   },
   {
    "duration": 11,
    "start_time": "2022-12-04T14:30:05.969Z"
   },
   {
    "duration": 49,
    "start_time": "2022-12-04T14:30:05.982Z"
   },
   {
    "duration": 32,
    "start_time": "2022-12-04T14:30:06.033Z"
   },
   {
    "duration": 56,
    "start_time": "2022-12-04T14:30:06.067Z"
   },
   {
    "duration": 40,
    "start_time": "2022-12-04T14:30:06.125Z"
   },
   {
    "duration": 13,
    "start_time": "2022-12-04T14:30:06.167Z"
   },
   {
    "duration": 40,
    "start_time": "2022-12-04T14:30:06.182Z"
   },
   {
    "duration": 11,
    "start_time": "2022-12-04T14:30:06.223Z"
   },
   {
    "duration": 21,
    "start_time": "2022-12-04T14:30:06.236Z"
   },
   {
    "duration": 9,
    "start_time": "2022-12-04T14:30:06.259Z"
   },
   {
    "duration": 13,
    "start_time": "2022-12-04T14:30:06.270Z"
   },
   {
    "duration": 40,
    "start_time": "2022-12-04T14:30:06.284Z"
   },
   {
    "duration": 8,
    "start_time": "2022-12-04T14:30:06.326Z"
   },
   {
    "duration": 10,
    "start_time": "2022-12-04T14:30:06.336Z"
   },
   {
    "duration": 27,
    "start_time": "2022-12-04T14:30:06.349Z"
   },
   {
    "duration": 6,
    "start_time": "2022-12-04T14:30:06.379Z"
   },
   {
    "duration": 37,
    "start_time": "2022-12-04T14:30:06.387Z"
   },
   {
    "duration": 7,
    "start_time": "2022-12-04T14:30:06.426Z"
   },
   {
    "duration": 8,
    "start_time": "2022-12-04T14:30:06.435Z"
   },
   {
    "duration": 10,
    "start_time": "2022-12-04T14:30:06.445Z"
   },
   {
    "duration": 12,
    "start_time": "2022-12-04T14:30:06.457Z"
   },
   {
    "duration": 152,
    "start_time": "2022-12-04T14:30:06.471Z"
   },
   {
    "duration": 243,
    "start_time": "2022-12-04T14:30:06.625Z"
   },
   {
    "duration": 9,
    "start_time": "2022-12-04T14:30:06.869Z"
   },
   {
    "duration": 9,
    "start_time": "2022-12-04T14:30:06.881Z"
   },
   {
    "duration": 34,
    "start_time": "2022-12-04T14:30:06.891Z"
   },
   {
    "duration": 4,
    "start_time": "2022-12-04T14:30:06.927Z"
   },
   {
    "duration": 8,
    "start_time": "2022-12-04T14:30:06.934Z"
   },
   {
    "duration": 475,
    "start_time": "2022-12-04T14:30:06.945Z"
   },
   {
    "duration": 9,
    "start_time": "2022-12-04T14:30:07.422Z"
   },
   {
    "duration": 152,
    "start_time": "2022-12-04T14:30:07.432Z"
   },
   {
    "duration": 9,
    "start_time": "2022-12-04T14:30:07.586Z"
   },
   {
    "duration": 53,
    "start_time": "2022-12-04T14:30:07.597Z"
   },
   {
    "duration": 29,
    "start_time": "2022-12-04T14:30:07.652Z"
   },
   {
    "duration": 18,
    "start_time": "2022-12-04T14:30:07.683Z"
   },
   {
    "duration": 39,
    "start_time": "2022-12-04T14:30:07.702Z"
   },
   {
    "duration": 26,
    "start_time": "2022-12-04T14:30:07.743Z"
   },
   {
    "duration": 29,
    "start_time": "2022-12-04T14:30:07.772Z"
   },
   {
    "duration": 41,
    "start_time": "2022-12-04T14:30:07.803Z"
   },
   {
    "duration": 10,
    "start_time": "2022-12-04T14:30:07.846Z"
   },
   {
    "duration": 145,
    "start_time": "2022-12-04T14:30:07.858Z"
   },
   {
    "duration": 12,
    "start_time": "2022-12-04T14:30:08.006Z"
   },
   {
    "duration": 23,
    "start_time": "2022-12-04T14:30:08.020Z"
   },
   {
    "duration": 6,
    "start_time": "2022-12-04T14:30:08.046Z"
   },
   {
    "duration": 12,
    "start_time": "2022-12-04T14:30:08.055Z"
   },
   {
    "duration": 226,
    "start_time": "2022-12-04T14:30:08.069Z"
   },
   {
    "duration": 27,
    "start_time": "2022-12-04T14:30:08.297Z"
   },
   {
    "duration": 239,
    "start_time": "2022-12-04T14:30:08.326Z"
   },
   {
    "duration": 7,
    "start_time": "2022-12-04T14:30:08.567Z"
   },
   {
    "duration": 12,
    "start_time": "2022-12-04T14:30:08.576Z"
   },
   {
    "duration": 21,
    "start_time": "2022-12-04T14:30:08.590Z"
   },
   {
    "duration": 15,
    "start_time": "2022-12-04T14:30:08.613Z"
   },
   {
    "duration": 12,
    "start_time": "2022-12-04T14:30:08.630Z"
   },
   {
    "duration": 5,
    "start_time": "2022-12-04T14:30:08.645Z"
   },
   {
    "duration": 62,
    "start_time": "2022-12-04T14:30:08.652Z"
   },
   {
    "duration": 5,
    "start_time": "2022-12-04T14:30:08.720Z"
   },
   {
    "duration": 9,
    "start_time": "2022-12-04T14:30:08.726Z"
   },
   {
    "duration": 6,
    "start_time": "2022-12-04T14:30:08.736Z"
   },
   {
    "duration": 18,
    "start_time": "2022-12-04T14:30:08.744Z"
   },
   {
    "duration": 119,
    "start_time": "2022-12-04T14:30:08.763Z"
   },
   {
    "duration": 151,
    "start_time": "2022-12-04T14:30:08.884Z"
   },
   {
    "duration": 5,
    "start_time": "2022-12-04T14:30:09.037Z"
   },
   {
    "duration": 13,
    "start_time": "2022-12-04T14:30:09.043Z"
   },
   {
    "duration": 8,
    "start_time": "2022-12-04T14:30:09.057Z"
   },
   {
    "duration": 7,
    "start_time": "2022-12-04T14:30:09.067Z"
   },
   {
    "duration": 30,
    "start_time": "2022-12-04T14:30:09.075Z"
   },
   {
    "duration": 21,
    "start_time": "2022-12-04T14:30:09.108Z"
   },
   {
    "duration": 1363,
    "start_time": "2022-12-04T14:46:08.345Z"
   },
   {
    "duration": 82,
    "start_time": "2022-12-04T14:46:09.710Z"
   },
   {
    "duration": 30,
    "start_time": "2022-12-04T14:46:09.794Z"
   },
   {
    "duration": 34,
    "start_time": "2022-12-04T14:46:09.826Z"
   },
   {
    "duration": 39,
    "start_time": "2022-12-04T14:46:09.862Z"
   },
   {
    "duration": 27,
    "start_time": "2022-12-04T14:46:09.903Z"
   },
   {
    "duration": 62,
    "start_time": "2022-12-04T14:46:09.932Z"
   },
   {
    "duration": 60,
    "start_time": "2022-12-04T14:46:09.996Z"
   },
   {
    "duration": 33,
    "start_time": "2022-12-04T14:46:10.058Z"
   },
   {
    "duration": 47,
    "start_time": "2022-12-04T14:46:10.095Z"
   },
   {
    "duration": 17,
    "start_time": "2022-12-04T14:46:10.144Z"
   },
   {
    "duration": 41,
    "start_time": "2022-12-04T14:46:10.163Z"
   },
   {
    "duration": 35,
    "start_time": "2022-12-04T14:46:10.208Z"
   },
   {
    "duration": 24,
    "start_time": "2022-12-04T14:46:10.244Z"
   },
   {
    "duration": 26,
    "start_time": "2022-12-04T14:46:10.269Z"
   },
   {
    "duration": 32,
    "start_time": "2022-12-04T14:46:10.296Z"
   },
   {
    "duration": 41,
    "start_time": "2022-12-04T14:46:10.329Z"
   },
   {
    "duration": 15,
    "start_time": "2022-12-04T14:46:10.372Z"
   },
   {
    "duration": 55,
    "start_time": "2022-12-04T14:46:10.388Z"
   },
   {
    "duration": 39,
    "start_time": "2022-12-04T14:46:10.445Z"
   },
   {
    "duration": 4,
    "start_time": "2022-12-04T14:46:10.485Z"
   },
   {
    "duration": 36,
    "start_time": "2022-12-04T14:46:10.491Z"
   },
   {
    "duration": 25,
    "start_time": "2022-12-04T14:46:10.529Z"
   },
   {
    "duration": 30,
    "start_time": "2022-12-04T14:46:10.555Z"
   },
   {
    "duration": 18,
    "start_time": "2022-12-04T14:46:10.586Z"
   },
   {
    "duration": 30,
    "start_time": "2022-12-04T14:46:10.607Z"
   },
   {
    "duration": 41,
    "start_time": "2022-12-04T14:46:10.638Z"
   },
   {
    "duration": 15,
    "start_time": "2022-12-04T14:46:10.683Z"
   },
   {
    "duration": 34,
    "start_time": "2022-12-04T14:46:10.700Z"
   },
   {
    "duration": 35,
    "start_time": "2022-12-04T14:46:10.736Z"
   },
   {
    "duration": 11,
    "start_time": "2022-12-04T14:46:10.773Z"
   },
   {
    "duration": 32,
    "start_time": "2022-12-04T14:46:10.785Z"
   },
   {
    "duration": 31,
    "start_time": "2022-12-04T14:46:10.819Z"
   },
   {
    "duration": 115,
    "start_time": "2022-12-04T14:46:10.852Z"
   },
   {
    "duration": 17,
    "start_time": "2022-12-04T14:46:10.969Z"
   },
   {
    "duration": 56,
    "start_time": "2022-12-04T14:46:10.987Z"
   },
   {
    "duration": 28,
    "start_time": "2022-12-04T14:46:11.045Z"
   },
   {
    "duration": 9,
    "start_time": "2022-12-04T14:46:11.075Z"
   },
   {
    "duration": 62,
    "start_time": "2022-12-04T14:46:11.086Z"
   },
   {
    "duration": 13,
    "start_time": "2022-12-04T14:46:11.151Z"
   },
   {
    "duration": 22,
    "start_time": "2022-12-04T14:46:11.166Z"
   },
   {
    "duration": 266,
    "start_time": "2022-12-04T14:46:11.190Z"
   },
   {
    "duration": 173,
    "start_time": "2022-12-04T14:46:11.458Z"
   },
   {
    "duration": 17,
    "start_time": "2022-12-04T14:46:11.633Z"
   },
   {
    "duration": 23,
    "start_time": "2022-12-04T14:46:11.651Z"
   },
   {
    "duration": 22,
    "start_time": "2022-12-04T14:46:11.676Z"
   },
   {
    "duration": 25,
    "start_time": "2022-12-04T14:46:11.700Z"
   },
   {
    "duration": 183,
    "start_time": "2022-12-04T14:46:11.726Z"
   },
   {
    "duration": 151,
    "start_time": "2022-12-04T14:46:11.912Z"
   },
   {
    "duration": 59,
    "start_time": "2022-12-04T14:46:12.065Z"
   },
   {
    "duration": 18,
    "start_time": "2022-12-04T14:46:12.126Z"
   },
   {
    "duration": 298,
    "start_time": "2022-12-04T14:46:12.147Z"
   },
   {
    "duration": 5,
    "start_time": "2022-12-04T14:46:12.447Z"
   },
   {
    "duration": 36,
    "start_time": "2022-12-04T14:46:12.454Z"
   },
   {
    "duration": 157,
    "start_time": "2022-12-04T14:46:12.491Z"
   },
   {
    "duration": 12,
    "start_time": "2022-12-04T14:46:12.650Z"
   },
   {
    "duration": 133,
    "start_time": "2022-12-04T14:46:12.663Z"
   },
   {
    "duration": 23,
    "start_time": "2022-12-04T14:46:12.797Z"
   },
   {
    "duration": 145,
    "start_time": "2022-12-04T14:46:12.822Z"
   },
   {
    "duration": 12,
    "start_time": "2022-12-04T14:46:12.970Z"
   },
   {
    "duration": 158,
    "start_time": "2022-12-04T14:46:12.984Z"
   },
   {
    "duration": 31,
    "start_time": "2022-12-04T14:46:13.143Z"
   },
   {
    "duration": 31,
    "start_time": "2022-12-04T14:46:13.176Z"
   },
   {
    "duration": 26,
    "start_time": "2022-12-04T14:46:13.209Z"
   },
   {
    "duration": 29,
    "start_time": "2022-12-04T14:46:13.237Z"
   },
   {
    "duration": 28,
    "start_time": "2022-12-04T14:46:13.268Z"
   },
   {
    "duration": 275,
    "start_time": "2022-12-04T14:46:13.297Z"
   },
   {
    "duration": 11,
    "start_time": "2022-12-04T14:46:13.574Z"
   },
   {
    "duration": 169,
    "start_time": "2022-12-04T14:46:13.587Z"
   },
   {
    "duration": 13,
    "start_time": "2022-12-04T14:46:13.757Z"
   },
   {
    "duration": 24,
    "start_time": "2022-12-04T14:46:13.771Z"
   },
   {
    "duration": 50,
    "start_time": "2022-12-04T14:46:13.797Z"
   },
   {
    "duration": 11,
    "start_time": "2022-12-04T14:46:13.848Z"
   },
   {
    "duration": 24,
    "start_time": "2022-12-04T14:46:13.862Z"
   },
   {
    "duration": 57,
    "start_time": "2022-12-04T14:46:13.888Z"
   },
   {
    "duration": 39,
    "start_time": "2022-12-04T14:46:13.946Z"
   },
   {
    "duration": 50,
    "start_time": "2022-12-04T14:46:13.987Z"
   },
   {
    "duration": 168,
    "start_time": "2022-12-04T14:46:14.039Z"
   },
   {
    "duration": 9,
    "start_time": "2022-12-04T14:46:14.210Z"
   },
   {
    "duration": 125,
    "start_time": "2022-12-04T14:46:14.221Z"
   },
   {
    "duration": 17,
    "start_time": "2022-12-04T14:46:14.348Z"
   },
   {
    "duration": 22,
    "start_time": "2022-12-04T14:46:14.371Z"
   },
   {
    "duration": 32,
    "start_time": "2022-12-04T14:46:14.394Z"
   },
   {
    "duration": 35,
    "start_time": "2022-12-04T14:46:14.428Z"
   },
   {
    "duration": 30,
    "start_time": "2022-12-04T14:46:14.465Z"
   },
   {
    "duration": 46,
    "start_time": "2022-12-04T14:46:14.497Z"
   },
   {
    "duration": 23,
    "start_time": "2022-12-04T14:46:14.545Z"
   },
   {
    "duration": 30,
    "start_time": "2022-12-04T14:46:14.569Z"
   },
   {
    "duration": 33,
    "start_time": "2022-12-04T14:46:14.601Z"
   },
   {
    "duration": 16,
    "start_time": "2022-12-04T14:46:14.636Z"
   },
   {
    "duration": 22,
    "start_time": "2022-12-04T14:46:14.654Z"
   },
   {
    "duration": 36,
    "start_time": "2022-12-04T14:46:14.678Z"
   },
   {
    "duration": 21,
    "start_time": "2022-12-04T14:46:14.716Z"
   },
   {
    "duration": 29,
    "start_time": "2022-12-04T14:46:14.738Z"
   },
   {
    "duration": 28,
    "start_time": "2022-12-04T14:46:14.768Z"
   },
   {
    "duration": 57,
    "start_time": "2022-12-04T14:46:14.797Z"
   },
   {
    "duration": 31,
    "start_time": "2022-12-04T14:46:14.856Z"
   },
   {
    "duration": 43,
    "start_time": "2022-12-04T14:46:14.889Z"
   },
   {
    "duration": 39,
    "start_time": "2022-12-04T14:46:14.937Z"
   },
   {
    "duration": 13,
    "start_time": "2022-12-04T14:46:14.977Z"
   },
   {
    "duration": 51,
    "start_time": "2022-12-04T14:46:14.992Z"
   },
   {
    "duration": 22,
    "start_time": "2022-12-04T14:46:15.045Z"
   },
   {
    "duration": 33,
    "start_time": "2022-12-04T14:46:15.069Z"
   },
   {
    "duration": 60,
    "start_time": "2022-12-04T14:46:15.104Z"
   },
   {
    "duration": 41,
    "start_time": "2022-12-04T14:46:15.165Z"
   },
   {
    "duration": 58,
    "start_time": "2022-12-04T14:46:15.209Z"
   },
   {
    "duration": 41,
    "start_time": "2022-12-04T14:46:15.268Z"
   },
   {
    "duration": 7,
    "start_time": "2022-12-04T14:46:15.311Z"
   },
   {
    "duration": 59,
    "start_time": "2022-12-04T14:46:15.321Z"
   },
   {
    "duration": 9,
    "start_time": "2022-12-04T14:46:15.382Z"
   },
   {
    "duration": 55,
    "start_time": "2022-12-04T14:46:15.394Z"
   },
   {
    "duration": 4,
    "start_time": "2022-12-04T14:46:15.452Z"
   },
   {
    "duration": 30,
    "start_time": "2022-12-04T14:46:15.458Z"
   },
   {
    "duration": 30,
    "start_time": "2022-12-04T14:46:15.490Z"
   },
   {
    "duration": 47,
    "start_time": "2022-12-04T14:46:15.522Z"
   },
   {
    "duration": 157,
    "start_time": "2022-12-04T14:46:15.571Z"
   },
   {
    "duration": 241,
    "start_time": "2022-12-04T14:46:15.730Z"
   },
   {
    "duration": 9,
    "start_time": "2022-12-04T14:46:15.973Z"
   },
   {
    "duration": 43,
    "start_time": "2022-12-04T14:46:15.983Z"
   },
   {
    "duration": 19,
    "start_time": "2022-12-04T14:46:16.028Z"
   },
   {
    "duration": 23,
    "start_time": "2022-12-04T14:46:16.048Z"
   },
   {
    "duration": 15,
    "start_time": "2022-12-04T14:46:16.072Z"
   },
   {
    "duration": 480,
    "start_time": "2022-12-04T14:46:16.088Z"
   },
   {
    "duration": 8,
    "start_time": "2022-12-04T14:46:16.569Z"
   },
   {
    "duration": 158,
    "start_time": "2022-12-04T14:46:16.578Z"
   },
   {
    "duration": 8,
    "start_time": "2022-12-04T14:46:16.738Z"
   },
   {
    "duration": 55,
    "start_time": "2022-12-04T14:46:16.747Z"
   },
   {
    "duration": 78,
    "start_time": "2022-12-04T14:46:16.804Z"
   },
   {
    "duration": 42,
    "start_time": "2022-12-04T14:46:16.884Z"
   },
   {
    "duration": 22,
    "start_time": "2022-12-04T14:46:16.927Z"
   },
   {
    "duration": 41,
    "start_time": "2022-12-04T14:46:16.951Z"
   },
   {
    "duration": 55,
    "start_time": "2022-12-04T14:46:16.994Z"
   },
   {
    "duration": 83,
    "start_time": "2022-12-04T14:46:17.051Z"
   },
   {
    "duration": 47,
    "start_time": "2022-12-04T14:46:17.136Z"
   },
   {
    "duration": 192,
    "start_time": "2022-12-04T14:46:17.185Z"
   },
   {
    "duration": 10,
    "start_time": "2022-12-04T14:46:17.379Z"
   },
   {
    "duration": 82,
    "start_time": "2022-12-04T14:46:17.391Z"
   },
   {
    "duration": 79,
    "start_time": "2022-12-04T14:46:17.475Z"
   },
   {
    "duration": 51,
    "start_time": "2022-12-04T14:46:17.556Z"
   },
   {
    "duration": 273,
    "start_time": "2022-12-04T14:46:17.609Z"
   },
   {
    "duration": 8,
    "start_time": "2022-12-04T14:46:17.884Z"
   },
   {
    "duration": 239,
    "start_time": "2022-12-04T14:46:17.905Z"
   },
   {
    "duration": 10,
    "start_time": "2022-12-04T14:46:18.146Z"
   },
   {
    "duration": 37,
    "start_time": "2022-12-04T14:46:18.158Z"
   },
   {
    "duration": 114,
    "start_time": "2022-12-04T14:46:18.197Z"
   },
   {
    "duration": 53,
    "start_time": "2022-12-04T14:46:18.313Z"
   },
   {
    "duration": 42,
    "start_time": "2022-12-04T14:46:18.367Z"
   },
   {
    "duration": 58,
    "start_time": "2022-12-04T14:46:18.411Z"
   },
   {
    "duration": 100,
    "start_time": "2022-12-04T14:46:18.471Z"
   },
   {
    "duration": 60,
    "start_time": "2022-12-04T14:46:18.574Z"
   },
   {
    "duration": 62,
    "start_time": "2022-12-04T14:46:18.635Z"
   },
   {
    "duration": 57,
    "start_time": "2022-12-04T14:46:18.698Z"
   },
   {
    "duration": 116,
    "start_time": "2022-12-04T14:46:18.757Z"
   },
   {
    "duration": 194,
    "start_time": "2022-12-04T14:46:18.875Z"
   },
   {
    "duration": 177,
    "start_time": "2022-12-04T14:46:19.071Z"
   },
   {
    "duration": 6,
    "start_time": "2022-12-04T14:46:19.251Z"
   },
   {
    "duration": 123,
    "start_time": "2022-12-04T14:46:19.259Z"
   },
   {
    "duration": 83,
    "start_time": "2022-12-04T14:46:19.385Z"
   },
   {
    "duration": 59,
    "start_time": "2022-12-04T14:46:19.469Z"
   },
   {
    "duration": 88,
    "start_time": "2022-12-04T14:46:19.529Z"
   },
   {
    "duration": 84,
    "start_time": "2022-12-04T14:46:19.619Z"
   },
   {
    "duration": 1488,
    "start_time": "2022-12-04T19:40:01.689Z"
   },
   {
    "duration": 75,
    "start_time": "2022-12-04T19:40:03.179Z"
   },
   {
    "duration": 28,
    "start_time": "2022-12-04T19:40:03.256Z"
   },
   {
    "duration": 28,
    "start_time": "2022-12-04T19:40:03.287Z"
   },
   {
    "duration": 17,
    "start_time": "2022-12-04T19:40:03.317Z"
   },
   {
    "duration": 13,
    "start_time": "2022-12-04T19:40:03.336Z"
   },
   {
    "duration": 15,
    "start_time": "2022-12-04T19:40:03.351Z"
   },
   {
    "duration": 59,
    "start_time": "2022-12-04T19:40:03.368Z"
   },
   {
    "duration": 22,
    "start_time": "2022-12-04T19:40:03.430Z"
   },
   {
    "duration": 30,
    "start_time": "2022-12-04T19:40:03.455Z"
   },
   {
    "duration": 13,
    "start_time": "2022-12-04T19:40:03.487Z"
   },
   {
    "duration": 38,
    "start_time": "2022-12-04T19:40:03.502Z"
   },
   {
    "duration": 8,
    "start_time": "2022-12-04T19:40:03.542Z"
   },
   {
    "duration": 17,
    "start_time": "2022-12-04T19:40:03.551Z"
   },
   {
    "duration": 13,
    "start_time": "2022-12-04T19:40:03.570Z"
   },
   {
    "duration": 14,
    "start_time": "2022-12-04T19:40:03.585Z"
   },
   {
    "duration": 50,
    "start_time": "2022-12-04T19:40:03.601Z"
   },
   {
    "duration": 12,
    "start_time": "2022-12-04T19:40:03.652Z"
   },
   {
    "duration": 30,
    "start_time": "2022-12-04T19:40:03.665Z"
   },
   {
    "duration": 74,
    "start_time": "2022-12-04T19:40:03.697Z"
   },
   {
    "duration": 5,
    "start_time": "2022-12-04T19:40:03.773Z"
   },
   {
    "duration": 28,
    "start_time": "2022-12-04T19:40:03.779Z"
   },
   {
    "duration": 10,
    "start_time": "2022-12-04T19:40:03.809Z"
   },
   {
    "duration": 17,
    "start_time": "2022-12-04T19:40:03.822Z"
   },
   {
    "duration": 19,
    "start_time": "2022-12-04T19:40:03.841Z"
   },
   {
    "duration": 35,
    "start_time": "2022-12-04T19:40:03.862Z"
   },
   {
    "duration": 21,
    "start_time": "2022-12-04T19:40:03.899Z"
   },
   {
    "duration": 26,
    "start_time": "2022-12-04T19:40:03.925Z"
   },
   {
    "duration": 35,
    "start_time": "2022-12-04T19:40:03.953Z"
   },
   {
    "duration": 56,
    "start_time": "2022-12-04T19:40:03.989Z"
   },
   {
    "duration": 25,
    "start_time": "2022-12-04T19:40:04.047Z"
   },
   {
    "duration": 25,
    "start_time": "2022-12-04T19:40:04.074Z"
   },
   {
    "duration": 138,
    "start_time": "2022-12-04T19:40:04.101Z"
   },
   {
    "duration": 122,
    "start_time": "2022-12-04T19:40:04.242Z"
   },
   {
    "duration": 14,
    "start_time": "2022-12-04T19:40:04.366Z"
   },
   {
    "duration": 44,
    "start_time": "2022-12-04T19:40:04.382Z"
   },
   {
    "duration": 21,
    "start_time": "2022-12-04T19:40:04.435Z"
   },
   {
    "duration": 9,
    "start_time": "2022-12-04T19:40:04.457Z"
   },
   {
    "duration": 24,
    "start_time": "2022-12-04T19:40:04.468Z"
   },
   {
    "duration": 16,
    "start_time": "2022-12-04T19:40:04.495Z"
   },
   {
    "duration": 30,
    "start_time": "2022-12-04T19:40:04.513Z"
   },
   {
    "duration": 263,
    "start_time": "2022-12-04T19:40:04.545Z"
   },
   {
    "duration": 154,
    "start_time": "2022-12-04T19:40:04.809Z"
   },
   {
    "duration": 17,
    "start_time": "2022-12-04T19:40:04.964Z"
   },
   {
    "duration": 13,
    "start_time": "2022-12-04T19:40:04.983Z"
   },
   {
    "duration": 7,
    "start_time": "2022-12-04T19:40:04.997Z"
   },
   {
    "duration": 31,
    "start_time": "2022-12-04T19:40:05.005Z"
   },
   {
    "duration": 154,
    "start_time": "2022-12-04T19:40:05.038Z"
   },
   {
    "duration": 131,
    "start_time": "2022-12-04T19:40:05.194Z"
   },
   {
    "duration": 75,
    "start_time": "2022-12-04T19:40:05.327Z"
   },
   {
    "duration": 40,
    "start_time": "2022-12-04T19:40:05.404Z"
   },
   {
    "duration": 273,
    "start_time": "2022-12-04T19:40:05.446Z"
   },
   {
    "duration": 17,
    "start_time": "2022-12-04T19:40:05.720Z"
   },
   {
    "duration": 18,
    "start_time": "2022-12-04T19:40:05.739Z"
   },
   {
    "duration": 163,
    "start_time": "2022-12-04T19:40:05.759Z"
   },
   {
    "duration": 17,
    "start_time": "2022-12-04T19:40:05.923Z"
   },
   {
    "duration": 140,
    "start_time": "2022-12-04T19:40:05.941Z"
   },
   {
    "duration": 13,
    "start_time": "2022-12-04T19:40:06.083Z"
   },
   {
    "duration": 149,
    "start_time": "2022-12-04T19:40:06.098Z"
   },
   {
    "duration": 13,
    "start_time": "2022-12-04T19:40:06.249Z"
   },
   {
    "duration": 141,
    "start_time": "2022-12-04T19:40:06.264Z"
   },
   {
    "duration": 39,
    "start_time": "2022-12-04T19:40:06.408Z"
   },
   {
    "duration": 17,
    "start_time": "2022-12-04T19:40:06.450Z"
   },
   {
    "duration": 12,
    "start_time": "2022-12-04T19:40:06.468Z"
   },
   {
    "duration": 25,
    "start_time": "2022-12-04T19:40:06.482Z"
   },
   {
    "duration": 14,
    "start_time": "2022-12-04T19:40:06.509Z"
   },
   {
    "duration": 292,
    "start_time": "2022-12-04T19:40:06.535Z"
   },
   {
    "duration": 13,
    "start_time": "2022-12-04T19:40:06.835Z"
   },
   {
    "duration": 160,
    "start_time": "2022-12-04T19:40:06.849Z"
   },
   {
    "duration": 13,
    "start_time": "2022-12-04T19:40:07.011Z"
   },
   {
    "duration": 17,
    "start_time": "2022-12-04T19:40:07.026Z"
   },
   {
    "duration": 17,
    "start_time": "2022-12-04T19:40:07.045Z"
   },
   {
    "duration": 21,
    "start_time": "2022-12-04T19:40:07.064Z"
   },
   {
    "duration": 44,
    "start_time": "2022-12-04T19:40:07.087Z"
   },
   {
    "duration": 31,
    "start_time": "2022-12-04T19:40:07.134Z"
   },
   {
    "duration": 55,
    "start_time": "2022-12-04T19:40:07.167Z"
   },
   {
    "duration": 38,
    "start_time": "2022-12-04T19:40:07.224Z"
   },
   {
    "duration": 164,
    "start_time": "2022-12-04T19:40:07.264Z"
   },
   {
    "duration": 8,
    "start_time": "2022-12-04T19:40:07.430Z"
   },
   {
    "duration": 116,
    "start_time": "2022-12-04T19:40:07.441Z"
   },
   {
    "duration": 16,
    "start_time": "2022-12-04T19:40:07.559Z"
   },
   {
    "duration": 22,
    "start_time": "2022-12-04T19:40:07.582Z"
   },
   {
    "duration": 16,
    "start_time": "2022-12-04T19:40:07.606Z"
   },
   {
    "duration": 16,
    "start_time": "2022-12-04T19:40:07.624Z"
   },
   {
    "duration": 20,
    "start_time": "2022-12-04T19:40:07.641Z"
   },
   {
    "duration": 16,
    "start_time": "2022-12-04T19:40:07.663Z"
   },
   {
    "duration": 17,
    "start_time": "2022-12-04T19:40:07.681Z"
   },
   {
    "duration": 12,
    "start_time": "2022-12-04T19:40:07.700Z"
   },
   {
    "duration": 11,
    "start_time": "2022-12-04T19:40:07.734Z"
   },
   {
    "duration": 17,
    "start_time": "2022-12-04T19:40:07.747Z"
   },
   {
    "duration": 10,
    "start_time": "2022-12-04T19:40:07.766Z"
   },
   {
    "duration": 19,
    "start_time": "2022-12-04T19:40:07.778Z"
   },
   {
    "duration": 19,
    "start_time": "2022-12-04T19:40:07.799Z"
   },
   {
    "duration": 23,
    "start_time": "2022-12-04T19:40:07.820Z"
   },
   {
    "duration": 16,
    "start_time": "2022-12-04T19:40:07.845Z"
   },
   {
    "duration": 46,
    "start_time": "2022-12-04T19:40:07.863Z"
   },
   {
    "duration": 32,
    "start_time": "2022-12-04T19:40:07.911Z"
   },
   {
    "duration": 32,
    "start_time": "2022-12-04T19:40:07.945Z"
   },
   {
    "duration": 65,
    "start_time": "2022-12-04T19:40:07.979Z"
   },
   {
    "duration": 15,
    "start_time": "2022-12-04T19:40:08.046Z"
   },
   {
    "duration": 12,
    "start_time": "2022-12-04T19:40:08.063Z"
   },
   {
    "duration": 8,
    "start_time": "2022-12-04T19:40:08.076Z"
   },
   {
    "duration": 22,
    "start_time": "2022-12-04T19:40:08.086Z"
   },
   {
    "duration": 32,
    "start_time": "2022-12-04T19:40:08.109Z"
   },
   {
    "duration": 5,
    "start_time": "2022-12-04T19:40:08.143Z"
   },
   {
    "duration": 17,
    "start_time": "2022-12-04T19:40:08.149Z"
   },
   {
    "duration": 19,
    "start_time": "2022-12-04T19:40:08.167Z"
   },
   {
    "duration": 12,
    "start_time": "2022-12-04T19:40:08.188Z"
   },
   {
    "duration": 27,
    "start_time": "2022-12-04T19:40:08.202Z"
   },
   {
    "duration": 20,
    "start_time": "2022-12-04T19:40:08.234Z"
   },
   {
    "duration": 20,
    "start_time": "2022-12-04T19:40:08.256Z"
   },
   {
    "duration": 16,
    "start_time": "2022-12-04T19:40:08.278Z"
   },
   {
    "duration": 11,
    "start_time": "2022-12-04T19:40:08.296Z"
   },
   {
    "duration": 6,
    "start_time": "2022-12-04T19:40:08.308Z"
   },
   {
    "duration": 13,
    "start_time": "2022-12-04T19:40:08.316Z"
   },
   {
    "duration": 140,
    "start_time": "2022-12-04T19:40:08.332Z"
   },
   {
    "duration": 235,
    "start_time": "2022-12-04T19:40:08.473Z"
   },
   {
    "duration": 8,
    "start_time": "2022-12-04T19:40:08.710Z"
   },
   {
    "duration": 17,
    "start_time": "2022-12-04T19:40:08.720Z"
   },
   {
    "duration": 18,
    "start_time": "2022-12-04T19:40:08.739Z"
   },
   {
    "duration": 6,
    "start_time": "2022-12-04T19:40:08.759Z"
   },
   {
    "duration": 15,
    "start_time": "2022-12-04T19:40:08.767Z"
   },
   {
    "duration": 459,
    "start_time": "2022-12-04T19:40:08.784Z"
   },
   {
    "duration": 9,
    "start_time": "2022-12-04T19:40:09.245Z"
   },
   {
    "duration": 121,
    "start_time": "2022-12-04T19:40:09.255Z"
   },
   {
    "duration": 8,
    "start_time": "2022-12-04T19:40:09.377Z"
   },
   {
    "duration": 36,
    "start_time": "2022-12-04T19:40:09.386Z"
   },
   {
    "duration": 32,
    "start_time": "2022-12-04T19:40:09.424Z"
   },
   {
    "duration": 8,
    "start_time": "2022-12-04T19:40:09.458Z"
   },
   {
    "duration": 40,
    "start_time": "2022-12-04T19:40:09.468Z"
   },
   {
    "duration": 11,
    "start_time": "2022-12-04T19:40:09.510Z"
   },
   {
    "duration": 18,
    "start_time": "2022-12-04T19:40:09.522Z"
   },
   {
    "duration": 18,
    "start_time": "2022-12-04T19:40:09.542Z"
   },
   {
    "duration": 26,
    "start_time": "2022-12-04T19:40:09.561Z"
   },
   {
    "duration": 153,
    "start_time": "2022-12-04T19:40:09.589Z"
   },
   {
    "duration": 6,
    "start_time": "2022-12-04T19:40:09.745Z"
   },
   {
    "duration": 22,
    "start_time": "2022-12-04T19:40:09.753Z"
   },
   {
    "duration": 14,
    "start_time": "2022-12-04T19:40:09.777Z"
   },
   {
    "duration": 19,
    "start_time": "2022-12-04T19:40:09.793Z"
   },
   {
    "duration": 186,
    "start_time": "2022-12-04T19:40:09.813Z"
   },
   {
    "duration": 8,
    "start_time": "2022-12-04T19:40:10.001Z"
   },
   {
    "duration": 212,
    "start_time": "2022-12-04T19:40:10.010Z"
   },
   {
    "duration": 16,
    "start_time": "2022-12-04T19:40:10.224Z"
   },
   {
    "duration": 25,
    "start_time": "2022-12-04T19:40:10.242Z"
   },
   {
    "duration": 21,
    "start_time": "2022-12-04T19:40:10.269Z"
   },
   {
    "duration": 30,
    "start_time": "2022-12-04T19:40:10.292Z"
   },
   {
    "duration": 20,
    "start_time": "2022-12-04T19:40:10.324Z"
   },
   {
    "duration": 6,
    "start_time": "2022-12-04T19:40:10.346Z"
   },
   {
    "duration": 42,
    "start_time": "2022-12-04T19:40:10.354Z"
   },
   {
    "duration": 5,
    "start_time": "2022-12-04T19:40:10.398Z"
   },
   {
    "duration": 18,
    "start_time": "2022-12-04T19:40:10.404Z"
   },
   {
    "duration": 22,
    "start_time": "2022-12-04T19:40:10.424Z"
   },
   {
    "duration": 23,
    "start_time": "2022-12-04T19:40:10.448Z"
   },
   {
    "duration": 174,
    "start_time": "2022-12-04T19:40:10.473Z"
   },
   {
    "duration": 150,
    "start_time": "2022-12-04T19:40:10.649Z"
   },
   {
    "duration": 4,
    "start_time": "2022-12-04T19:40:10.802Z"
   },
   {
    "duration": 16,
    "start_time": "2022-12-04T19:40:10.808Z"
   },
   {
    "duration": 15,
    "start_time": "2022-12-04T19:40:10.826Z"
   },
   {
    "duration": 19,
    "start_time": "2022-12-04T19:40:10.842Z"
   },
   {
    "duration": 16,
    "start_time": "2022-12-04T19:40:10.863Z"
   },
   {
    "duration": 35,
    "start_time": "2022-12-04T19:40:10.880Z"
   },
   {
    "duration": 5,
    "start_time": "2022-12-04T20:15:06.931Z"
   },
   {
    "duration": 1129,
    "start_time": "2022-12-04T20:19:29.887Z"
   },
   {
    "duration": 1056,
    "start_time": "2022-12-04T20:20:34.846Z"
   }
  ],
  "kernelspec": {
   "display_name": "Python 3 (ipykernel)",
   "language": "python",
   "name": "python3"
  },
  "language_info": {
   "codemirror_mode": {
    "name": "ipython",
    "version": 3
   },
   "file_extension": ".py",
   "mimetype": "text/x-python",
   "name": "python",
   "nbconvert_exporter": "python",
   "pygments_lexer": "ipython3",
   "version": "3.9.12"
  },
  "toc": {
   "base_numbering": 1,
   "nav_menu": {},
   "number_sections": true,
   "sideBar": true,
   "skip_h1_title": true,
   "title_cell": "Table of Contents",
   "title_sidebar": "Contents",
   "toc_cell": false,
   "toc_position": {},
   "toc_section_display": true,
   "toc_window_display": false
  }
 },
 "nbformat": 4,
 "nbformat_minor": 2
}
