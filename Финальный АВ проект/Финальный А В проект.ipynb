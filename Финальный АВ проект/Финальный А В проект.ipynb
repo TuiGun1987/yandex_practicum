{
 "cells": [
  {
   "cell_type": "markdown",
   "id": "effad092",
   "metadata": {},
   "source": [
    "# A/B тестирование"
   ]
  },
  {
   "cell_type": "markdown",
   "id": "62eccc72",
   "metadata": {},
   "source": [
    "## Постановка задачи."
   ]
  },
  {
   "cell_type": "markdown",
   "id": "8d7cfa11",
   "metadata": {},
   "source": [
    "**Задача** — провести оценку результатов A/B-теста. В вашем распоряжении есть датасет с действиями пользователей, техническое задание и несколько вспомогательных датасетов.\n",
    "\n",
    "- Оцените корректность проведения теста\n",
    "- Проанализируйте результаты теста\n",
    "\n",
    "Чтобы оценить корректность проведения теста, проверьте:\n",
    "\n",
    "- пересечение тестовой аудитории с конкурирующим тестом,\n",
    "- совпадение теста и маркетинговых событий, другие проблемы временных границ теста."
   ]
  },
  {
   "cell_type": "markdown",
   "id": "1829a839",
   "metadata": {},
   "source": [
    "## Техническое задание."
   ]
  },
  {
   "cell_type": "markdown",
   "id": "bca05c97",
   "metadata": {},
   "source": [
    "- Название теста: `recommender_system_test`;\n",
    "- группы: А — контрольная, B — новая платёжная воронка;\n",
    "- дата запуска: 2020-12-07;\n",
    "- дата остановки набора новых пользователей: 2020-12-21;\n",
    "- дата остановки: 2021-01-04;\n",
    "- аудитория: 15% новых пользователей из региона EU;\n",
    "- назначение теста: тестирование изменений, связанных с внедрением улучшенной рекомендательной системы;\n",
    "- ожидаемое количество участников теста: 6000.\n",
    "- ожидаемый эффект: за 14 дней с момента регистрации пользователи покажут улучшение каждой метрики не менее, чем на 10%:\n",
    "    - конверсии в просмотр карточек товаров — событие `product_page`,\n",
    "    - просмотры корзины — `product_cart`,\n",
    "    - покупки — `purchase`."
   ]
  },
  {
   "cell_type": "markdown",
   "id": "b6641cdc",
   "metadata": {},
   "source": [
    "## Данные и их описание."
   ]
  },
  {
   "cell_type": "markdown",
   "id": "1ee3dcc6",
   "metadata": {},
   "source": [
    "Нам даны 4 данных."
   ]
  },
  {
   "cell_type": "markdown",
   "id": "106c7530",
   "metadata": {},
   "source": [
    "`ab_project_marketing_events.csv` — календарь маркетинговых событий на 2020 год.\n",
    "\n",
    "Структура файла:\n",
    "\n",
    "- `name` — название маркетингового события;\n",
    "- `regions` — регионы, в которых будет проводиться рекламная кампания;\n",
    "- `start_dt` — дата начала кампании;\n",
    "- `finish_dt` — дата завершения кампании.\n",
    "\n",
    "`final_ab_new_users.csv` — пользователи, зарегистрировавшиеся с 7 по 21 декабря 2020 года.\n",
    "\n",
    "Структура файла:\n",
    "\n",
    "- `user_id` — идентификатор пользователя;\n",
    "- `first_date` — дата регистрации;\n",
    "- `region` — регион пользователя;\n",
    "- `device` — устройство, с которого происходила регистрация.\n",
    "\n",
    "`final_ab_events.csv` — действия новых пользователей в период с 7 декабря 2020 по 4 января 2021 года.\n",
    "\n",
    "Структура файла:\n",
    "\n",
    "- `user_id` — идентификатор пользователя;\n",
    "- `event_dt` — дата и время покупки;\n",
    "- `event_name` — тип события;\n",
    "- `details` — дополнительные данные о событии. Например, для покупок, `purchase,` в этом поле хранится стоимость покупки в долларах.\n",
    "\n",
    "`final_ab_participants.csv` — таблица участников тестов.\n",
    "\n",
    "Структура файла:\n",
    "\n",
    "- `user_id` — идентификатор пользователя;\n",
    "- `ab_test` — название теста;\n",
    "- `group` — группа пользователя."
   ]
  },
  {
   "cell_type": "markdown",
   "id": "55cbb9a9",
   "metadata": {},
   "source": [
    "## Загрузка данных и изучение общей информации."
   ]
  },
  {
   "cell_type": "code",
   "execution_count": 1,
   "id": "d7eebebd",
   "metadata": {},
   "outputs": [
    {
     "name": "stdout",
     "output_type": "stream",
     "text": [
      "Note: you may need to restart the kernel to use updated packages.\n"
     ]
    }
   ],
   "source": [
    "#Загрузим библиотеки, которые понадобятся\n",
    "\n",
    "import pandas as pd\n",
    "import numpy as np\n",
    "import math as mth\n",
    "from scipy import stats as st\n",
    "import matplotlib.pyplot as plt \n",
    "import matplotlib as mpl\n",
    "from plotly.subplots import make_subplots\n",
    "import plotly.express as px\n",
    "from plotly import graph_objects as go\n",
    "import seaborn as sns \n",
    "from numpy import median\n",
    "from datetime import datetime, timedelta\n",
    "%pip install -U kaleido -q\n",
    "import plotly.io as pio\n",
    "pio.renderers.default = \"png\""
   ]
  },
  {
   "cell_type": "code",
   "execution_count": 2,
   "id": "42b3cd80",
   "metadata": {},
   "outputs": [],
   "source": [
    "import os\n",
    "pth1 = '/Users/alexbay/Desktop/Финальный АВ проект/'\n",
    "pth2 = '/datasets/'\n",
    "if os.path.exists(pth1):\n",
    "    events = pd.read_csv(pth1 + 'final_ab_events.csv')\n",
    "    marketing_events = pd.read_csv(pth1 + 'ab_project_marketing_events.csv')\n",
    "    users = pd.read_csv(pth1 + 'final_ab_new_users.csv')\n",
    "    participants = pd.read_csv(pth1 + 'final_ab_participants.csv')\n",
    "elif os.path.exists(pth2):\n",
    "    events = pd.read_csv(pth2 + 'final_ab_events.csv')\n",
    "    marketing_events = pd.read_csv(pth2 + 'ab_project_marketing_events.csv')\n",
    "    users = pd.read_csv(pth2 + 'final_ab_new_users.csv')\n",
    "    participants = pd.read_csv(pth2 + 'final_ab_participants.csv')\n",
    "else:\n",
    "    print('Something is wrong') "
   ]
  },
  {
   "cell_type": "markdown",
   "id": "6c4f41d4",
   "metadata": {},
   "source": [
    "### Изучаем данные"
   ]
  },
  {
   "cell_type": "markdown",
   "id": "f4403bd8",
   "metadata": {},
   "source": [
    "**Смотрим датасет \"events\"**. Действия новых пользователей в период с 7 декабря 2020 по 4 января 2021 года."
   ]
  },
  {
   "cell_type": "code",
   "execution_count": 3,
   "id": "b8fcc7b4",
   "metadata": {},
   "outputs": [
    {
     "name": "stdout",
     "output_type": "stream",
     "text": [
      "<class 'pandas.core.frame.DataFrame'>\n",
      "RangeIndex: 440317 entries, 0 to 440316\n",
      "Data columns (total 4 columns):\n",
      " #   Column      Non-Null Count   Dtype  \n",
      "---  ------      --------------   -----  \n",
      " 0   user_id     440317 non-null  object \n",
      " 1   event_dt    440317 non-null  object \n",
      " 2   event_name  440317 non-null  object \n",
      " 3   details     62740 non-null   float64\n",
      "dtypes: float64(1), object(3)\n",
      "memory usage: 13.4+ MB\n"
     ]
    }
   ],
   "source": [
    "events.info()"
   ]
  },
  {
   "cell_type": "markdown",
   "id": "bfb0b78f",
   "metadata": {},
   "source": [
    "Нужно поменять тип в столбце \"event_dt\""
   ]
  },
  {
   "cell_type": "code",
   "execution_count": 4,
   "id": "8fe9f8b7",
   "metadata": {},
   "outputs": [
    {
     "data": {
      "text/html": [
       "<div>\n",
       "<style scoped>\n",
       "    .dataframe tbody tr th:only-of-type {\n",
       "        vertical-align: middle;\n",
       "    }\n",
       "\n",
       "    .dataframe tbody tr th {\n",
       "        vertical-align: top;\n",
       "    }\n",
       "\n",
       "    .dataframe thead th {\n",
       "        text-align: right;\n",
       "    }\n",
       "</style>\n",
       "<table border=\"1\" class=\"dataframe\">\n",
       "  <thead>\n",
       "    <tr style=\"text-align: right;\">\n",
       "      <th></th>\n",
       "      <th>user_id</th>\n",
       "      <th>event_dt</th>\n",
       "      <th>event_name</th>\n",
       "      <th>details</th>\n",
       "    </tr>\n",
       "  </thead>\n",
       "  <tbody>\n",
       "    <tr>\n",
       "      <th>0</th>\n",
       "      <td>E1BDDCE0DAFA2679</td>\n",
       "      <td>2020-12-07 20:22:03</td>\n",
       "      <td>purchase</td>\n",
       "      <td>99.99</td>\n",
       "    </tr>\n",
       "    <tr>\n",
       "      <th>1</th>\n",
       "      <td>7B6452F081F49504</td>\n",
       "      <td>2020-12-07 09:22:53</td>\n",
       "      <td>purchase</td>\n",
       "      <td>9.99</td>\n",
       "    </tr>\n",
       "    <tr>\n",
       "      <th>2</th>\n",
       "      <td>9CD9F34546DF254C</td>\n",
       "      <td>2020-12-07 12:59:29</td>\n",
       "      <td>purchase</td>\n",
       "      <td>4.99</td>\n",
       "    </tr>\n",
       "    <tr>\n",
       "      <th>3</th>\n",
       "      <td>96F27A054B191457</td>\n",
       "      <td>2020-12-07 04:02:40</td>\n",
       "      <td>purchase</td>\n",
       "      <td>4.99</td>\n",
       "    </tr>\n",
       "    <tr>\n",
       "      <th>4</th>\n",
       "      <td>1FD7660FDF94CA1F</td>\n",
       "      <td>2020-12-07 10:15:09</td>\n",
       "      <td>purchase</td>\n",
       "      <td>4.99</td>\n",
       "    </tr>\n",
       "  </tbody>\n",
       "</table>\n",
       "</div>"
      ],
      "text/plain": [
       "            user_id             event_dt event_name  details\n",
       "0  E1BDDCE0DAFA2679  2020-12-07 20:22:03   purchase    99.99\n",
       "1  7B6452F081F49504  2020-12-07 09:22:53   purchase     9.99\n",
       "2  9CD9F34546DF254C  2020-12-07 12:59:29   purchase     4.99\n",
       "3  96F27A054B191457  2020-12-07 04:02:40   purchase     4.99\n",
       "4  1FD7660FDF94CA1F  2020-12-07 10:15:09   purchase     4.99"
      ]
     },
     "execution_count": 4,
     "metadata": {},
     "output_type": "execute_result"
    }
   ],
   "source": [
    "events.head()"
   ]
  },
  {
   "cell_type": "code",
   "execution_count": 5,
   "id": "bd1512f1",
   "metadata": {},
   "outputs": [
    {
     "data": {
      "text/plain": [
       "user_id            0\n",
       "event_dt           0\n",
       "event_name         0\n",
       "details       377577\n",
       "dtype: int64"
      ]
     },
     "execution_count": 5,
     "metadata": {},
     "output_type": "execute_result"
    }
   ],
   "source": [
    "events.isna().sum()"
   ]
  },
  {
   "cell_type": "code",
   "execution_count": 6,
   "id": "c03e9332",
   "metadata": {},
   "outputs": [
    {
     "data": {
      "text/plain": [
       "user_id        0.000000\n",
       "event_dt       0.000000\n",
       "event_name     0.000000\n",
       "details       85.751175\n",
       "dtype: float64"
      ]
     },
     "execution_count": 6,
     "metadata": {},
     "output_type": "execute_result"
    }
   ],
   "source": [
    "events.isna().sum()*100/len(events)"
   ]
  },
  {
   "cell_type": "markdown",
   "id": "9fe7bb67",
   "metadata": {},
   "source": [
    "Пропуски есть в столбце \"details\" их 85.75%"
   ]
  },
  {
   "cell_type": "code",
   "execution_count": 7,
   "id": "959a3c8d",
   "metadata": {},
   "outputs": [
    {
     "name": "stdout",
     "output_type": "stream",
     "text": [
      "A3917F81482141F2    36\n",
      "D6477068EF132236    32\n",
      "8AEB716C4CD82CA7    32\n",
      "590DACD07A839BC3    32\n",
      "3356239C0DC75E2A    32\n",
      "                    ..\n",
      "B80297D6570EA5FE     1\n",
      "D2656A48DD3C4EEE     1\n",
      "83E9CFC64D61108E     1\n",
      "30C9930817226A34     1\n",
      "F7DC611E716A9F76     1\n",
      "Name: user_id, Length: 58703, dtype: int64\n",
      "2020-12-23 02:37:24    10\n",
      "2020-12-14 18:54:55    10\n",
      "2020-12-20 02:51:18     9\n",
      "2020-12-24 00:54:52     9\n",
      "2020-12-13 06:00:54     9\n",
      "                       ..\n",
      "2020-12-18 10:54:12     1\n",
      "2020-12-18 19:31:57     1\n",
      "2020-12-18 09:04:49     1\n",
      "2020-12-18 16:53:52     1\n",
      "2020-12-30 10:59:09     1\n",
      "Name: event_dt, Length: 267268, dtype: int64\n",
      "login           189552\n",
      "product_page    125563\n",
      "purchase         62740\n",
      "product_cart     62462\n",
      "Name: event_name, dtype: int64\n",
      "4.99      46362\n",
      "9.99       9530\n",
      "99.99      5631\n",
      "499.99     1217\n",
      "Name: details, dtype: int64\n"
     ]
    }
   ],
   "source": [
    "for row in events:\n",
    "    print(events[row].value_counts())"
   ]
  },
  {
   "cell_type": "markdown",
   "id": "05f9a5ea",
   "metadata": {},
   "source": [
    "Самый активный пользователь - \"A3917F81482141F2\". У него 36 действий. Больше всего активности в 14 и 23 декабря, по 10. В типах больше всего \"login\" 189552 действий. В дополнительных данных больше всего действий у \"4.99\" - 46362, видимо это какая-то цена."
   ]
  },
  {
   "cell_type": "code",
   "execution_count": 8,
   "id": "f462536a",
   "metadata": {},
   "outputs": [
    {
     "data": {
      "text/plain": [
       "0"
      ]
     },
     "execution_count": 8,
     "metadata": {},
     "output_type": "execute_result"
    }
   ],
   "source": [
    "events.duplicated().sum()"
   ]
  },
  {
   "cell_type": "markdown",
   "id": "e05e9ba5",
   "metadata": {},
   "source": [
    "Дубликатов нет."
   ]
  },
  {
   "cell_type": "code",
   "execution_count": 9,
   "id": "4f6ffd35",
   "metadata": {},
   "outputs": [
    {
     "data": {
      "text/html": [
       "<div>\n",
       "<style scoped>\n",
       "    .dataframe tbody tr th:only-of-type {\n",
       "        vertical-align: middle;\n",
       "    }\n",
       "\n",
       "    .dataframe tbody tr th {\n",
       "        vertical-align: top;\n",
       "    }\n",
       "\n",
       "    .dataframe thead th {\n",
       "        text-align: right;\n",
       "    }\n",
       "</style>\n",
       "<table border=\"1\" class=\"dataframe\">\n",
       "  <thead>\n",
       "    <tr style=\"text-align: right;\">\n",
       "      <th></th>\n",
       "      <th>count</th>\n",
       "      <th>mean</th>\n",
       "      <th>std</th>\n",
       "      <th>min</th>\n",
       "      <th>25%</th>\n",
       "      <th>50%</th>\n",
       "      <th>75%</th>\n",
       "      <th>max</th>\n",
       "    </tr>\n",
       "  </thead>\n",
       "  <tbody>\n",
       "    <tr>\n",
       "      <th>details</th>\n",
       "      <td>62740.0</td>\n",
       "      <td>23.877631</td>\n",
       "      <td>72.180465</td>\n",
       "      <td>4.99</td>\n",
       "      <td>4.99</td>\n",
       "      <td>4.99</td>\n",
       "      <td>9.99</td>\n",
       "      <td>499.99</td>\n",
       "    </tr>\n",
       "  </tbody>\n",
       "</table>\n",
       "</div>"
      ],
      "text/plain": [
       "           count       mean        std   min   25%   50%   75%     max\n",
       "details  62740.0  23.877631  72.180465  4.99  4.99  4.99  9.99  499.99"
      ]
     },
     "execution_count": 9,
     "metadata": {},
     "output_type": "execute_result"
    }
   ],
   "source": [
    "events.describe().T"
   ]
  },
  {
   "cell_type": "markdown",
   "id": "29a80108",
   "metadata": {},
   "source": [
    "В столбце \"details\" максимальное значение 499.99 а минимальное значение 4.99. Значит пользователей покупали больше всего самый дешевый товар."
   ]
  },
  {
   "cell_type": "markdown",
   "id": "07d2dc62",
   "metadata": {},
   "source": [
    "**Смотрим датасет \"marketing_events\".** календарь маркетинговых событий на 2020 год."
   ]
  },
  {
   "cell_type": "code",
   "execution_count": 10,
   "id": "d45e60b1",
   "metadata": {},
   "outputs": [
    {
     "name": "stdout",
     "output_type": "stream",
     "text": [
      "<class 'pandas.core.frame.DataFrame'>\n",
      "RangeIndex: 14 entries, 0 to 13\n",
      "Data columns (total 4 columns):\n",
      " #   Column     Non-Null Count  Dtype \n",
      "---  ------     --------------  ----- \n",
      " 0   name       14 non-null     object\n",
      " 1   regions    14 non-null     object\n",
      " 2   start_dt   14 non-null     object\n",
      " 3   finish_dt  14 non-null     object\n",
      "dtypes: object(4)\n",
      "memory usage: 576.0+ bytes\n"
     ]
    }
   ],
   "source": [
    "marketing_events.info()"
   ]
  },
  {
   "cell_type": "markdown",
   "id": "08f12739",
   "metadata": {},
   "source": [
    "Нужно поменять тип в столбцах \"start_dt\" и \"finish_dt\"."
   ]
  },
  {
   "cell_type": "code",
   "execution_count": 11,
   "id": "cb6832c1",
   "metadata": {},
   "outputs": [
    {
     "data": {
      "text/html": [
       "<div>\n",
       "<style scoped>\n",
       "    .dataframe tbody tr th:only-of-type {\n",
       "        vertical-align: middle;\n",
       "    }\n",
       "\n",
       "    .dataframe tbody tr th {\n",
       "        vertical-align: top;\n",
       "    }\n",
       "\n",
       "    .dataframe thead th {\n",
       "        text-align: right;\n",
       "    }\n",
       "</style>\n",
       "<table border=\"1\" class=\"dataframe\">\n",
       "  <thead>\n",
       "    <tr style=\"text-align: right;\">\n",
       "      <th></th>\n",
       "      <th>name</th>\n",
       "      <th>regions</th>\n",
       "      <th>start_dt</th>\n",
       "      <th>finish_dt</th>\n",
       "    </tr>\n",
       "  </thead>\n",
       "  <tbody>\n",
       "    <tr>\n",
       "      <th>0</th>\n",
       "      <td>Christmas&amp;New Year Promo</td>\n",
       "      <td>EU, N.America</td>\n",
       "      <td>2020-12-25</td>\n",
       "      <td>2021-01-03</td>\n",
       "    </tr>\n",
       "    <tr>\n",
       "      <th>1</th>\n",
       "      <td>St. Valentine's Day Giveaway</td>\n",
       "      <td>EU, CIS, APAC, N.America</td>\n",
       "      <td>2020-02-14</td>\n",
       "      <td>2020-02-16</td>\n",
       "    </tr>\n",
       "    <tr>\n",
       "      <th>2</th>\n",
       "      <td>St. Patric's Day Promo</td>\n",
       "      <td>EU, N.America</td>\n",
       "      <td>2020-03-17</td>\n",
       "      <td>2020-03-19</td>\n",
       "    </tr>\n",
       "    <tr>\n",
       "      <th>3</th>\n",
       "      <td>Easter Promo</td>\n",
       "      <td>EU, CIS, APAC, N.America</td>\n",
       "      <td>2020-04-12</td>\n",
       "      <td>2020-04-19</td>\n",
       "    </tr>\n",
       "    <tr>\n",
       "      <th>4</th>\n",
       "      <td>4th of July Promo</td>\n",
       "      <td>N.America</td>\n",
       "      <td>2020-07-04</td>\n",
       "      <td>2020-07-11</td>\n",
       "    </tr>\n",
       "  </tbody>\n",
       "</table>\n",
       "</div>"
      ],
      "text/plain": [
       "                           name                   regions    start_dt  \\\n",
       "0      Christmas&New Year Promo             EU, N.America  2020-12-25   \n",
       "1  St. Valentine's Day Giveaway  EU, CIS, APAC, N.America  2020-02-14   \n",
       "2        St. Patric's Day Promo             EU, N.America  2020-03-17   \n",
       "3                  Easter Promo  EU, CIS, APAC, N.America  2020-04-12   \n",
       "4             4th of July Promo                 N.America  2020-07-04   \n",
       "\n",
       "    finish_dt  \n",
       "0  2021-01-03  \n",
       "1  2020-02-16  \n",
       "2  2020-03-19  \n",
       "3  2020-04-19  \n",
       "4  2020-07-11  "
      ]
     },
     "execution_count": 11,
     "metadata": {},
     "output_type": "execute_result"
    }
   ],
   "source": [
    "marketing_events.head()"
   ]
  },
  {
   "cell_type": "code",
   "execution_count": 12,
   "id": "17872416",
   "metadata": {},
   "outputs": [
    {
     "data": {
      "text/plain": [
       "name         0\n",
       "regions      0\n",
       "start_dt     0\n",
       "finish_dt    0\n",
       "dtype: int64"
      ]
     },
     "execution_count": 12,
     "metadata": {},
     "output_type": "execute_result"
    }
   ],
   "source": [
    "marketing_events.isna().sum()"
   ]
  },
  {
   "cell_type": "markdown",
   "id": "382d5312",
   "metadata": {},
   "source": [
    "Пропусков нет."
   ]
  },
  {
   "cell_type": "code",
   "execution_count": 13,
   "id": "4f2892c9",
   "metadata": {},
   "outputs": [
    {
     "name": "stdout",
     "output_type": "stream",
     "text": [
      "Christmas&New Year Promo            1\n",
      "St. Valentine's Day Giveaway        1\n",
      "St. Patric's Day Promo              1\n",
      "Easter Promo                        1\n",
      "4th of July Promo                   1\n",
      "Black Friday Ads Campaign           1\n",
      "Chinese New Year Promo              1\n",
      "Labor day (May 1st) Ads Campaign    1\n",
      "International Women's Day Promo     1\n",
      "Victory Day CIS (May 9th) Event     1\n",
      "CIS New Year Gift Lottery           1\n",
      "Dragon Boat Festival Giveaway       1\n",
      "Single's Day Gift Promo             1\n",
      "Chinese Moon Festival               1\n",
      "Name: name, dtype: int64\n",
      "APAC                        4\n",
      "EU, CIS, APAC, N.America    3\n",
      "EU, N.America               2\n",
      "EU, CIS, APAC               2\n",
      "CIS                         2\n",
      "N.America                   1\n",
      "Name: regions, dtype: int64\n",
      "2020-12-25    1\n",
      "2020-02-14    1\n",
      "2020-03-17    1\n",
      "2020-04-12    1\n",
      "2020-07-04    1\n",
      "2020-11-26    1\n",
      "2020-01-25    1\n",
      "2020-05-01    1\n",
      "2020-03-08    1\n",
      "2020-05-09    1\n",
      "2020-12-30    1\n",
      "2020-06-25    1\n",
      "2020-11-11    1\n",
      "2020-10-01    1\n",
      "Name: start_dt, dtype: int64\n",
      "2021-01-03    1\n",
      "2020-02-16    1\n",
      "2020-03-19    1\n",
      "2020-04-19    1\n",
      "2020-07-11    1\n",
      "2020-12-01    1\n",
      "2020-02-07    1\n",
      "2020-05-03    1\n",
      "2020-03-10    1\n",
      "2020-05-11    1\n",
      "2021-01-07    1\n",
      "2020-07-01    1\n",
      "2020-11-12    1\n",
      "2020-10-07    1\n",
      "Name: finish_dt, dtype: int64\n"
     ]
    }
   ],
   "source": [
    "for row in marketing_events:\n",
    "    print(marketing_events[row].value_counts())"
   ]
  },
  {
   "cell_type": "markdown",
   "id": "32a4c7cf",
   "metadata": {},
   "source": [
    "Регион, в котором будет больше всего проводиться рекламных кампаний это APAC."
   ]
  },
  {
   "cell_type": "code",
   "execution_count": 14,
   "id": "7643e17a",
   "metadata": {},
   "outputs": [
    {
     "data": {
      "text/plain": [
       "0"
      ]
     },
     "execution_count": 14,
     "metadata": {},
     "output_type": "execute_result"
    }
   ],
   "source": [
    "marketing_events.duplicated().sum()"
   ]
  },
  {
   "cell_type": "markdown",
   "id": "55ca9991",
   "metadata": {},
   "source": [
    "Дубликатов нет."
   ]
  },
  {
   "cell_type": "markdown",
   "id": "49d6ea0e",
   "metadata": {},
   "source": [
    "**Смотрим на датасет \"users\"**. пользователи, зарегистрировавшиеся с 7 по 21 декабря 2020 года."
   ]
  },
  {
   "cell_type": "code",
   "execution_count": 15,
   "id": "6907ab76",
   "metadata": {},
   "outputs": [
    {
     "name": "stdout",
     "output_type": "stream",
     "text": [
      "<class 'pandas.core.frame.DataFrame'>\n",
      "RangeIndex: 61733 entries, 0 to 61732\n",
      "Data columns (total 4 columns):\n",
      " #   Column      Non-Null Count  Dtype \n",
      "---  ------      --------------  ----- \n",
      " 0   user_id     61733 non-null  object\n",
      " 1   first_date  61733 non-null  object\n",
      " 2   region      61733 non-null  object\n",
      " 3   device      61733 non-null  object\n",
      "dtypes: object(4)\n",
      "memory usage: 1.9+ MB\n"
     ]
    }
   ],
   "source": [
    "users.info()"
   ]
  },
  {
   "cell_type": "markdown",
   "id": "43a5bd19",
   "metadata": {},
   "source": [
    "Нужно поменять тип в колонке \"first_date\"."
   ]
  },
  {
   "cell_type": "code",
   "execution_count": 16,
   "id": "ea47bc61",
   "metadata": {},
   "outputs": [
    {
     "data": {
      "text/html": [
       "<div>\n",
       "<style scoped>\n",
       "    .dataframe tbody tr th:only-of-type {\n",
       "        vertical-align: middle;\n",
       "    }\n",
       "\n",
       "    .dataframe tbody tr th {\n",
       "        vertical-align: top;\n",
       "    }\n",
       "\n",
       "    .dataframe thead th {\n",
       "        text-align: right;\n",
       "    }\n",
       "</style>\n",
       "<table border=\"1\" class=\"dataframe\">\n",
       "  <thead>\n",
       "    <tr style=\"text-align: right;\">\n",
       "      <th></th>\n",
       "      <th>user_id</th>\n",
       "      <th>first_date</th>\n",
       "      <th>region</th>\n",
       "      <th>device</th>\n",
       "    </tr>\n",
       "  </thead>\n",
       "  <tbody>\n",
       "    <tr>\n",
       "      <th>0</th>\n",
       "      <td>D72A72121175D8BE</td>\n",
       "      <td>2020-12-07</td>\n",
       "      <td>EU</td>\n",
       "      <td>PC</td>\n",
       "    </tr>\n",
       "    <tr>\n",
       "      <th>1</th>\n",
       "      <td>F1C668619DFE6E65</td>\n",
       "      <td>2020-12-07</td>\n",
       "      <td>N.America</td>\n",
       "      <td>Android</td>\n",
       "    </tr>\n",
       "    <tr>\n",
       "      <th>2</th>\n",
       "      <td>2E1BF1D4C37EA01F</td>\n",
       "      <td>2020-12-07</td>\n",
       "      <td>EU</td>\n",
       "      <td>PC</td>\n",
       "    </tr>\n",
       "    <tr>\n",
       "      <th>3</th>\n",
       "      <td>50734A22C0C63768</td>\n",
       "      <td>2020-12-07</td>\n",
       "      <td>EU</td>\n",
       "      <td>iPhone</td>\n",
       "    </tr>\n",
       "    <tr>\n",
       "      <th>4</th>\n",
       "      <td>E1BDDCE0DAFA2679</td>\n",
       "      <td>2020-12-07</td>\n",
       "      <td>N.America</td>\n",
       "      <td>iPhone</td>\n",
       "    </tr>\n",
       "  </tbody>\n",
       "</table>\n",
       "</div>"
      ],
      "text/plain": [
       "            user_id  first_date     region   device\n",
       "0  D72A72121175D8BE  2020-12-07         EU       PC\n",
       "1  F1C668619DFE6E65  2020-12-07  N.America  Android\n",
       "2  2E1BF1D4C37EA01F  2020-12-07         EU       PC\n",
       "3  50734A22C0C63768  2020-12-07         EU   iPhone\n",
       "4  E1BDDCE0DAFA2679  2020-12-07  N.America   iPhone"
      ]
     },
     "execution_count": 16,
     "metadata": {},
     "output_type": "execute_result"
    }
   ],
   "source": [
    "users.head()"
   ]
  },
  {
   "cell_type": "code",
   "execution_count": 17,
   "id": "3f1672e1",
   "metadata": {},
   "outputs": [
    {
     "data": {
      "text/plain": [
       "user_id       0\n",
       "first_date    0\n",
       "region        0\n",
       "device        0\n",
       "dtype: int64"
      ]
     },
     "execution_count": 17,
     "metadata": {},
     "output_type": "execute_result"
    }
   ],
   "source": [
    "users.isna().sum()"
   ]
  },
  {
   "cell_type": "markdown",
   "id": "635d99b9",
   "metadata": {},
   "source": [
    "Пропусков нет."
   ]
  },
  {
   "cell_type": "code",
   "execution_count": 18,
   "id": "79e09ba4",
   "metadata": {},
   "outputs": [
    {
     "name": "stdout",
     "output_type": "stream",
     "text": [
      "D72A72121175D8BE    1\n",
      "A25EF6D0E025C48E    1\n",
      "62B9FD1B8BDB669C    1\n",
      "9A5F371EED469627    1\n",
      "2DF6B79FC97641EC    1\n",
      "                   ..\n",
      "133FDC1180FC743E    1\n",
      "35F8FFAF240FDB9B    1\n",
      "C7AAF024F4FF63C5    1\n",
      "A6EA45CB9FBAB213    1\n",
      "8F04273BB2860229    1\n",
      "Name: user_id, Length: 61733, dtype: int64\n",
      "2020-12-21    6290\n",
      "2020-12-14    5654\n",
      "2020-12-07    5595\n",
      "2020-12-13    4691\n",
      "2020-12-20    4288\n",
      "2020-12-12    3963\n",
      "2020-12-19    3617\n",
      "2020-12-18    3365\n",
      "2020-12-08    3239\n",
      "2020-12-22    3083\n",
      "2020-12-10    3076\n",
      "2020-12-17    3048\n",
      "2020-12-15    3043\n",
      "2020-12-11    2390\n",
      "2020-12-23    2180\n",
      "2020-12-16    2110\n",
      "2020-12-09    2101\n",
      "Name: first_date, dtype: int64\n",
      "EU           46270\n",
      "N.America     9155\n",
      "CIS           3155\n",
      "APAC          3153\n",
      "Name: region, dtype: int64\n",
      "Android    27520\n",
      "PC         15599\n",
      "iPhone     12530\n",
      "Mac         6084\n",
      "Name: device, dtype: int64\n"
     ]
    }
   ],
   "source": [
    "for row in users:\n",
    "    print(users[row].value_counts())"
   ]
  },
  {
   "cell_type": "markdown",
   "id": "928474c0",
   "metadata": {},
   "source": [
    "Новые пользователи больше всего регистрировались 21 декабря 2020года. Большинство новых пользователей их региона EU. И у большинства новых пользователей девайс Android."
   ]
  },
  {
   "cell_type": "code",
   "execution_count": 19,
   "id": "f62faade",
   "metadata": {},
   "outputs": [
    {
     "data": {
      "text/plain": [
       "0"
      ]
     },
     "execution_count": 19,
     "metadata": {},
     "output_type": "execute_result"
    }
   ],
   "source": [
    "users.duplicated().sum()"
   ]
  },
  {
   "cell_type": "markdown",
   "id": "330d3bb1",
   "metadata": {},
   "source": [
    "Дубликатов нет."
   ]
  },
  {
   "cell_type": "markdown",
   "id": "cc7d6016",
   "metadata": {},
   "source": [
    "**Смотрим на датасет \"participants\"**. таблица участников тестов."
   ]
  },
  {
   "cell_type": "code",
   "execution_count": 20,
   "id": "5a965046",
   "metadata": {},
   "outputs": [
    {
     "name": "stdout",
     "output_type": "stream",
     "text": [
      "<class 'pandas.core.frame.DataFrame'>\n",
      "RangeIndex: 18268 entries, 0 to 18267\n",
      "Data columns (total 3 columns):\n",
      " #   Column   Non-Null Count  Dtype \n",
      "---  ------   --------------  ----- \n",
      " 0   user_id  18268 non-null  object\n",
      " 1   group    18268 non-null  object\n",
      " 2   ab_test  18268 non-null  object\n",
      "dtypes: object(3)\n",
      "memory usage: 428.3+ KB\n"
     ]
    }
   ],
   "source": [
    "participants.info()"
   ]
  },
  {
   "cell_type": "code",
   "execution_count": 21,
   "id": "9b0a8806",
   "metadata": {},
   "outputs": [
    {
     "data": {
      "text/html": [
       "<div>\n",
       "<style scoped>\n",
       "    .dataframe tbody tr th:only-of-type {\n",
       "        vertical-align: middle;\n",
       "    }\n",
       "\n",
       "    .dataframe tbody tr th {\n",
       "        vertical-align: top;\n",
       "    }\n",
       "\n",
       "    .dataframe thead th {\n",
       "        text-align: right;\n",
       "    }\n",
       "</style>\n",
       "<table border=\"1\" class=\"dataframe\">\n",
       "  <thead>\n",
       "    <tr style=\"text-align: right;\">\n",
       "      <th></th>\n",
       "      <th>user_id</th>\n",
       "      <th>group</th>\n",
       "      <th>ab_test</th>\n",
       "    </tr>\n",
       "  </thead>\n",
       "  <tbody>\n",
       "    <tr>\n",
       "      <th>0</th>\n",
       "      <td>D1ABA3E2887B6A73</td>\n",
       "      <td>A</td>\n",
       "      <td>recommender_system_test</td>\n",
       "    </tr>\n",
       "    <tr>\n",
       "      <th>1</th>\n",
       "      <td>A7A3664BD6242119</td>\n",
       "      <td>A</td>\n",
       "      <td>recommender_system_test</td>\n",
       "    </tr>\n",
       "    <tr>\n",
       "      <th>2</th>\n",
       "      <td>DABC14FDDFADD29E</td>\n",
       "      <td>A</td>\n",
       "      <td>recommender_system_test</td>\n",
       "    </tr>\n",
       "    <tr>\n",
       "      <th>3</th>\n",
       "      <td>04988C5DF189632E</td>\n",
       "      <td>A</td>\n",
       "      <td>recommender_system_test</td>\n",
       "    </tr>\n",
       "    <tr>\n",
       "      <th>4</th>\n",
       "      <td>482F14783456D21B</td>\n",
       "      <td>B</td>\n",
       "      <td>recommender_system_test</td>\n",
       "    </tr>\n",
       "  </tbody>\n",
       "</table>\n",
       "</div>"
      ],
      "text/plain": [
       "            user_id group                  ab_test\n",
       "0  D1ABA3E2887B6A73     A  recommender_system_test\n",
       "1  A7A3664BD6242119     A  recommender_system_test\n",
       "2  DABC14FDDFADD29E     A  recommender_system_test\n",
       "3  04988C5DF189632E     A  recommender_system_test\n",
       "4  482F14783456D21B     B  recommender_system_test"
      ]
     },
     "execution_count": 21,
     "metadata": {},
     "output_type": "execute_result"
    }
   ],
   "source": [
    "participants.head()"
   ]
  },
  {
   "cell_type": "code",
   "execution_count": 22,
   "id": "05d1ceef",
   "metadata": {},
   "outputs": [
    {
     "data": {
      "text/plain": [
       "user_id    0\n",
       "group      0\n",
       "ab_test    0\n",
       "dtype: int64"
      ]
     },
     "execution_count": 22,
     "metadata": {},
     "output_type": "execute_result"
    }
   ],
   "source": [
    "participants.isna().sum()"
   ]
  },
  {
   "cell_type": "markdown",
   "id": "c6456809",
   "metadata": {},
   "source": [
    "Пропусков нет."
   ]
  },
  {
   "cell_type": "code",
   "execution_count": 23,
   "id": "eef8a0c8",
   "metadata": {},
   "outputs": [
    {
     "name": "stdout",
     "output_type": "stream",
     "text": [
      "0FDFDA0B2DEC2D91    2\n",
      "00E68F103C66C1F7    2\n",
      "BD23AF6242CA944B    2\n",
      "DD670F7422342729    2\n",
      "A5E27D8BCACA668E    2\n",
      "                   ..\n",
      "A1591805E7D020EE    1\n",
      "400D3BD0BCB31971    1\n",
      "D2656A48DD3C4EEE    1\n",
      "953E74FDE41424B4    1\n",
      "79F9ABFB029CF724    1\n",
      "Name: user_id, Length: 16666, dtype: int64\n",
      "A    9655\n",
      "B    8613\n",
      "Name: group, dtype: int64\n",
      "interface_eu_test          11567\n",
      "recommender_system_test     6701\n",
      "Name: ab_test, dtype: int64\n"
     ]
    }
   ],
   "source": [
    "for row in participants:\n",
    "    print(participants[row].value_counts())"
   ]
  },
  {
   "cell_type": "markdown",
   "id": "c1998561",
   "metadata": {},
   "source": [
    "В тестировании 2 группы: А(9655) и В(8613). И 2 теста: interface_eu_test (11567), recommender_system_test (6701)."
   ]
  },
  {
   "cell_type": "code",
   "execution_count": 24,
   "id": "0a15a7c8",
   "metadata": {},
   "outputs": [
    {
     "data": {
      "text/plain": [
       "0"
      ]
     },
     "execution_count": 24,
     "metadata": {},
     "output_type": "execute_result"
    }
   ],
   "source": [
    "participants.duplicated().sum()"
   ]
  },
  {
   "cell_type": "markdown",
   "id": "f60c07ac",
   "metadata": {},
   "source": [
    "Дубликатов нет."
   ]
  },
  {
   "cell_type": "markdown",
   "id": "131db61a",
   "metadata": {},
   "source": [
    "### Предобработка данных."
   ]
  },
  {
   "cell_type": "markdown",
   "id": "9d79b2b6",
   "metadata": {},
   "source": [
    "Посмотрим детально на пропуски в датасете events, колонки details, к каким событиям они соответствуют."
   ]
  },
  {
   "cell_type": "code",
   "execution_count": 25,
   "id": "4ae116ae",
   "metadata": {},
   "outputs": [
    {
     "data": {
      "text/plain": [
       "array(['purchase', 'product_cart', 'product_page', 'login'], dtype=object)"
      ]
     },
     "execution_count": 25,
     "metadata": {},
     "output_type": "execute_result"
    }
   ],
   "source": [
    "events['event_name'].unique()"
   ]
  },
  {
   "cell_type": "code",
   "execution_count": 26,
   "id": "88eebb0e",
   "metadata": {},
   "outputs": [
    {
     "data": {
      "text/plain": [
       "user_id       0\n",
       "event_dt      0\n",
       "event_name    0\n",
       "details       0\n",
       "dtype: int64"
      ]
     },
     "execution_count": 26,
     "metadata": {},
     "output_type": "execute_result"
    }
   ],
   "source": [
    "events[events['event_name']=='purchase'].isna().sum()"
   ]
  },
  {
   "cell_type": "code",
   "execution_count": 27,
   "id": "6dbbf534",
   "metadata": {},
   "outputs": [
    {
     "data": {
      "text/plain": [
       "user_id           0\n",
       "event_dt          0\n",
       "event_name        0\n",
       "details       62462\n",
       "dtype: int64"
      ]
     },
     "execution_count": 27,
     "metadata": {},
     "output_type": "execute_result"
    }
   ],
   "source": [
    "events[events['event_name']=='product_cart'].isna().sum()"
   ]
  },
  {
   "cell_type": "code",
   "execution_count": 28,
   "id": "3837b6bb",
   "metadata": {},
   "outputs": [
    {
     "data": {
      "text/plain": [
       "user_id            0\n",
       "event_dt           0\n",
       "event_name         0\n",
       "details       125563\n",
       "dtype: int64"
      ]
     },
     "execution_count": 28,
     "metadata": {},
     "output_type": "execute_result"
    }
   ],
   "source": [
    "events[events['event_name']=='product_page'].isna().sum()"
   ]
  },
  {
   "cell_type": "code",
   "execution_count": 29,
   "id": "48c1dd2d",
   "metadata": {},
   "outputs": [
    {
     "data": {
      "text/plain": [
       "user_id            0\n",
       "event_dt           0\n",
       "event_name         0\n",
       "details       189552\n",
       "dtype: int64"
      ]
     },
     "execution_count": 29,
     "metadata": {},
     "output_type": "execute_result"
    }
   ],
   "source": [
    "events[events['event_name']=='login'].isna().sum()"
   ]
  },
  {
   "cell_type": "markdown",
   "id": "e26f2f75",
   "metadata": {},
   "source": [
    "Наличие пропусков может быть обусловлена отсутствием необходимости указания данной информации, например, в разрезе событий purchase в колонке details отсутствуют пропуски, т.к. по заданию в ней отображается стоимость покупки в долларах. Оставим пропуски как есть."
   ]
  },
  {
   "cell_type": "markdown",
   "id": "27541b24",
   "metadata": {},
   "source": [
    "Преобразуем нужные столбцы в нужные типы."
   ]
  },
  {
   "cell_type": "code",
   "execution_count": 30,
   "id": "5b96e303",
   "metadata": {},
   "outputs": [],
   "source": [
    "marketing_events['start_dt'] = marketing_events['start_dt'].astype('datetime64')\n",
    "marketing_events['finish_dt'] = marketing_events['finish_dt'].astype('datetime64')\n",
    "users['first_date'] = users['first_date'].astype('datetime64')\n",
    "events['event_dt'] = events['event_dt'].astype('datetime64')"
   ]
  },
  {
   "cell_type": "markdown",
   "id": "1d2f5265",
   "metadata": {},
   "source": [
    "### Оценим корректность теста (техническое задание)."
   ]
  },
  {
   "cell_type": "markdown",
   "id": "eb64eac9",
   "metadata": {},
   "source": [
    "#### Проверим название теста."
   ]
  },
  {
   "cell_type": "code",
   "execution_count": 31,
   "id": "a59c962c",
   "metadata": {},
   "outputs": [
    {
     "data": {
      "text/plain": [
       "array(['recommender_system_test', 'interface_eu_test'], dtype=object)"
      ]
     },
     "execution_count": 31,
     "metadata": {},
     "output_type": "execute_result"
    }
   ],
   "source": [
    "participants['ab_test'].unique()"
   ]
  },
  {
   "cell_type": "markdown",
   "id": "e88321ed",
   "metadata": {},
   "source": [
    "Название теста соответствует."
   ]
  },
  {
   "cell_type": "markdown",
   "id": "bcde1bee",
   "metadata": {},
   "source": [
    "#### Группы: А (контрольная), B (новая платёжная воронка)."
   ]
  },
  {
   "cell_type": "code",
   "execution_count": 32,
   "id": "e0f64f48",
   "metadata": {},
   "outputs": [
    {
     "data": {
      "text/html": [
       "<div>\n",
       "<style scoped>\n",
       "    .dataframe tbody tr th:only-of-type {\n",
       "        vertical-align: middle;\n",
       "    }\n",
       "\n",
       "    .dataframe tbody tr th {\n",
       "        vertical-align: top;\n",
       "    }\n",
       "\n",
       "    .dataframe thead th {\n",
       "        text-align: right;\n",
       "    }\n",
       "</style>\n",
       "<table border=\"1\" class=\"dataframe\">\n",
       "  <thead>\n",
       "    <tr style=\"text-align: right;\">\n",
       "      <th></th>\n",
       "      <th>group</th>\n",
       "    </tr>\n",
       "    <tr>\n",
       "      <th>ab_test</th>\n",
       "      <th></th>\n",
       "    </tr>\n",
       "  </thead>\n",
       "  <tbody>\n",
       "    <tr>\n",
       "      <th>interface_eu_test</th>\n",
       "      <td>[A, B]</td>\n",
       "    </tr>\n",
       "    <tr>\n",
       "      <th>recommender_system_test</th>\n",
       "      <td>[A, B]</td>\n",
       "    </tr>\n",
       "  </tbody>\n",
       "</table>\n",
       "</div>"
      ],
      "text/plain": [
       "                          group\n",
       "ab_test                        \n",
       "interface_eu_test        [A, B]\n",
       "recommender_system_test  [A, B]"
      ]
     },
     "execution_count": 32,
     "metadata": {},
     "output_type": "execute_result"
    }
   ],
   "source": [
    "participants[['ab_test', 'group']].groupby('ab_test').agg({'group':'unique'})"
   ]
  },
  {
   "cell_type": "markdown",
   "id": "a4858943",
   "metadata": {},
   "source": [
    "Группы тоже соответствуют."
   ]
  },
  {
   "cell_type": "markdown",
   "id": "e4653995",
   "metadata": {},
   "source": [
    "#### Дата запуска: 2020-12-07."
   ]
  },
  {
   "cell_type": "code",
   "execution_count": 33,
   "id": "25e4c0b7",
   "metadata": {},
   "outputs": [
    {
     "data": {
      "text/plain": [
       "Timestamp('2020-12-07 00:00:00')"
      ]
     },
     "execution_count": 33,
     "metadata": {},
     "output_type": "execute_result"
    }
   ],
   "source": [
    "users['first_date'].min()"
   ]
  },
  {
   "cell_type": "markdown",
   "id": "9279ec0d",
   "metadata": {},
   "source": [
    "Дата запуска тоже соответствует."
   ]
  },
  {
   "cell_type": "markdown",
   "id": "9616297c",
   "metadata": {},
   "source": [
    "####  Дата остановки набора новых пользователей: 2020-12-21."
   ]
  },
  {
   "cell_type": "code",
   "execution_count": 34,
   "id": "75fbfdce",
   "metadata": {},
   "outputs": [
    {
     "data": {
      "text/plain": [
       "Timestamp('2020-12-21 00:00:00')"
      ]
     },
     "execution_count": 34,
     "metadata": {},
     "output_type": "execute_result"
    }
   ],
   "source": [
    "stop_date = users.merge(participants, on='user_id', how='left')\n",
    "stop_date = stop_date[stop_date['ab_test']=='recommender_system_test']\n",
    "stop_date['first_date'].max()"
   ]
  },
  {
   "cell_type": "markdown",
   "id": "ac0ecf86",
   "metadata": {},
   "source": [
    "Дата остановки набора новых пользователей тоже соответствует."
   ]
  },
  {
   "cell_type": "markdown",
   "id": "85eefcf3",
   "metadata": {},
   "source": [
    "#### Дата остановки: 2021-01-04."
   ]
  },
  {
   "cell_type": "code",
   "execution_count": 35,
   "id": "b4855a46",
   "metadata": {},
   "outputs": [
    {
     "data": {
      "text/plain": [
       "Timestamp('2020-12-30 23:36:33')"
      ]
     },
     "execution_count": 35,
     "metadata": {},
     "output_type": "execute_result"
    }
   ],
   "source": [
    "events['event_dt'].max()"
   ]
  },
  {
   "cell_type": "markdown",
   "id": "35c8993c",
   "metadata": {},
   "source": [
    "А вот дата остановки не соответствует тех. заданию."
   ]
  },
  {
   "cell_type": "markdown",
   "id": "fbcbcaec",
   "metadata": {},
   "source": [
    "#### Аудитория: 15% новых пользователей из региона EU."
   ]
  },
  {
   "cell_type": "code",
   "execution_count": 36,
   "id": "d00a50a5",
   "metadata": {},
   "outputs": [],
   "source": [
    "start_users = users['first_date'].min()\n",
    "final_users = users['first_date'].max()\n",
    "start_test = pd.to_datetime('2020-12-07') #запуск теста"
   ]
  },
  {
   "cell_type": "markdown",
   "id": "c485498b",
   "metadata": {},
   "source": [
    "Найдем новых пользователей из датасета participants, которые участвовали в А/Б тесте по рекоммендательной системе. Потом найдем их в датасете users."
   ]
  },
  {
   "cell_type": "code",
   "execution_count": 37,
   "id": "9886d4b0",
   "metadata": {},
   "outputs": [],
   "source": [
    "participants_users = participants[participants['ab_test']=='recommender_system_test']['user_id']\n",
    "users_test = users[users['user_id'].isin(participants_users)]\n",
    "new_users = users_test[(users_test['region'] == 'EU')].shape[0]"
   ]
  },
  {
   "cell_type": "markdown",
   "id": "3695b01f",
   "metadata": {},
   "source": [
    "Посчитаем, сколько пользователей из набранных, являются пользователями региона EU."
   ]
  },
  {
   "cell_type": "code",
   "execution_count": 38,
   "id": "a370c525",
   "metadata": {},
   "outputs": [],
   "source": [
    "eu_users = users_test[(users_test['region'] == 'EU')]\n",
    "\n",
    "eu_users = users[(users['region'] == 'EU') &\n",
    "                 (users['first_date'] >= start_test) &\n",
    "                 (users['first_date'] <= start_test + timedelta(14))]\n",
    "all_users = eu_users.shape[0]"
   ]
  },
  {
   "cell_type": "code",
   "execution_count": 39,
   "id": "7b0d2951",
   "metadata": {},
   "outputs": [
    {
     "data": {
      "text/plain": [
       "15.0"
      ]
     },
     "execution_count": 39,
     "metadata": {},
     "output_type": "execute_result"
    }
   ],
   "source": [
    "round(new_users/all_users*100,2)"
   ]
  },
  {
   "cell_type": "markdown",
   "id": "71730c37",
   "metadata": {},
   "source": [
    "Аудитория: 15% новых пользователей из региона EU. Соответствует тех.заданию."
   ]
  },
  {
   "cell_type": "markdown",
   "id": "8cf9e4f6",
   "metadata": {},
   "source": [
    "#### Ожидаемое количество участников теста: 6000."
   ]
  },
  {
   "cell_type": "code",
   "execution_count": 40,
   "id": "889660df",
   "metadata": {},
   "outputs": [
    {
     "data": {
      "text/plain": [
       "3675"
      ]
     },
     "execution_count": 40,
     "metadata": {},
     "output_type": "execute_result"
    }
   ],
   "source": [
    "events_users = events[events['user_id'].isin(participants_users)]\n",
    "events_users['user_id'].nunique()"
   ]
  },
  {
   "cell_type": "markdown",
   "id": "7fc77b3f",
   "metadata": {},
   "source": [
    "Ожидаемое количество участников теста значительно ниже."
   ]
  },
  {
   "cell_type": "markdown",
   "id": "bfe09e07",
   "metadata": {},
   "source": [
    "### Исследовательский анализ данных."
   ]
  },
  {
   "cell_type": "markdown",
   "id": "3bdf487e",
   "metadata": {},
   "source": [
    "#### Проверим, есть ли в данных события старше 14 дней с момента регистрации у пользователей."
   ]
  },
  {
   "cell_type": "code",
   "execution_count": 41,
   "id": "16c58b7a",
   "metadata": {},
   "outputs": [],
   "source": [
    "users['time_test'] = users['first_date']+timedelta(15)"
   ]
  },
  {
   "cell_type": "code",
   "execution_count": 42,
   "id": "1c03a33a",
   "metadata": {},
   "outputs": [],
   "source": [
    "events = events.merge(users, on='user_id', how='left')"
   ]
  },
  {
   "cell_type": "markdown",
   "id": "8a536fc8",
   "metadata": {},
   "source": [
    "Создали новый столбец, в котором записали дату 14-го дня с момента регистрации. Соединили датасеты events и users."
   ]
  },
  {
   "cell_type": "markdown",
   "id": "19ec370b",
   "metadata": {},
   "source": [
    "Создадим функцию, которая сравнивает дату события с конечной датой временного периода. И создадим столбец date_status в датасете events."
   ]
  },
  {
   "cell_type": "code",
   "execution_count": 43,
   "id": "93762e53",
   "metadata": {},
   "outputs": [],
   "source": [
    "def events_time (row):\n",
    "    if row.event_dt > row.time_test:\n",
    "        return 'Событие выходит за рассматриваемый период'\n",
    "    else:\n",
    "        return 'Событие в рамках рассматриваемого периода'"
   ]
  },
  {
   "cell_type": "code",
   "execution_count": 44,
   "id": "0761c5db",
   "metadata": {},
   "outputs": [
    {
     "data": {
      "text/html": [
       "<div>\n",
       "<style scoped>\n",
       "    .dataframe tbody tr th:only-of-type {\n",
       "        vertical-align: middle;\n",
       "    }\n",
       "\n",
       "    .dataframe tbody tr th {\n",
       "        vertical-align: top;\n",
       "    }\n",
       "\n",
       "    .dataframe thead th {\n",
       "        text-align: right;\n",
       "    }\n",
       "</style>\n",
       "<table border=\"1\" class=\"dataframe\">\n",
       "  <thead>\n",
       "    <tr style=\"text-align: right;\">\n",
       "      <th></th>\n",
       "      <th>user_id</th>\n",
       "      <th>event_dt</th>\n",
       "      <th>event_name</th>\n",
       "      <th>details</th>\n",
       "      <th>first_date</th>\n",
       "      <th>region</th>\n",
       "      <th>device</th>\n",
       "      <th>time_test</th>\n",
       "      <th>date_status</th>\n",
       "    </tr>\n",
       "  </thead>\n",
       "  <tbody>\n",
       "    <tr>\n",
       "      <th>0</th>\n",
       "      <td>E1BDDCE0DAFA2679</td>\n",
       "      <td>2020-12-07 20:22:03</td>\n",
       "      <td>purchase</td>\n",
       "      <td>99.99</td>\n",
       "      <td>2020-12-07</td>\n",
       "      <td>N.America</td>\n",
       "      <td>iPhone</td>\n",
       "      <td>2020-12-22</td>\n",
       "      <td>Событие в рамках рассматриваемого периода</td>\n",
       "    </tr>\n",
       "    <tr>\n",
       "      <th>1</th>\n",
       "      <td>7B6452F081F49504</td>\n",
       "      <td>2020-12-07 09:22:53</td>\n",
       "      <td>purchase</td>\n",
       "      <td>9.99</td>\n",
       "      <td>2020-12-07</td>\n",
       "      <td>EU</td>\n",
       "      <td>iPhone</td>\n",
       "      <td>2020-12-22</td>\n",
       "      <td>Событие в рамках рассматриваемого периода</td>\n",
       "    </tr>\n",
       "    <tr>\n",
       "      <th>2</th>\n",
       "      <td>9CD9F34546DF254C</td>\n",
       "      <td>2020-12-07 12:59:29</td>\n",
       "      <td>purchase</td>\n",
       "      <td>4.99</td>\n",
       "      <td>2020-12-07</td>\n",
       "      <td>N.America</td>\n",
       "      <td>iPhone</td>\n",
       "      <td>2020-12-22</td>\n",
       "      <td>Событие в рамках рассматриваемого периода</td>\n",
       "    </tr>\n",
       "    <tr>\n",
       "      <th>3</th>\n",
       "      <td>96F27A054B191457</td>\n",
       "      <td>2020-12-07 04:02:40</td>\n",
       "      <td>purchase</td>\n",
       "      <td>4.99</td>\n",
       "      <td>2020-12-07</td>\n",
       "      <td>EU</td>\n",
       "      <td>iPhone</td>\n",
       "      <td>2020-12-22</td>\n",
       "      <td>Событие в рамках рассматриваемого периода</td>\n",
       "    </tr>\n",
       "    <tr>\n",
       "      <th>4</th>\n",
       "      <td>1FD7660FDF94CA1F</td>\n",
       "      <td>2020-12-07 10:15:09</td>\n",
       "      <td>purchase</td>\n",
       "      <td>4.99</td>\n",
       "      <td>2020-12-07</td>\n",
       "      <td>EU</td>\n",
       "      <td>Android</td>\n",
       "      <td>2020-12-22</td>\n",
       "      <td>Событие в рамках рассматриваемого периода</td>\n",
       "    </tr>\n",
       "  </tbody>\n",
       "</table>\n",
       "</div>"
      ],
      "text/plain": [
       "            user_id            event_dt event_name  details first_date  \\\n",
       "0  E1BDDCE0DAFA2679 2020-12-07 20:22:03   purchase    99.99 2020-12-07   \n",
       "1  7B6452F081F49504 2020-12-07 09:22:53   purchase     9.99 2020-12-07   \n",
       "2  9CD9F34546DF254C 2020-12-07 12:59:29   purchase     4.99 2020-12-07   \n",
       "3  96F27A054B191457 2020-12-07 04:02:40   purchase     4.99 2020-12-07   \n",
       "4  1FD7660FDF94CA1F 2020-12-07 10:15:09   purchase     4.99 2020-12-07   \n",
       "\n",
       "      region   device  time_test                                date_status  \n",
       "0  N.America   iPhone 2020-12-22  Событие в рамках рассматриваемого периода  \n",
       "1         EU   iPhone 2020-12-22  Событие в рамках рассматриваемого периода  \n",
       "2  N.America   iPhone 2020-12-22  Событие в рамках рассматриваемого периода  \n",
       "3         EU   iPhone 2020-12-22  Событие в рамках рассматриваемого периода  \n",
       "4         EU  Android 2020-12-22  Событие в рамках рассматриваемого периода  "
      ]
     },
     "execution_count": 44,
     "metadata": {},
     "output_type": "execute_result"
    }
   ],
   "source": [
    "events['date_status'] = events.apply(events_time, axis=1)\n",
    "events.head()"
   ]
  },
  {
   "cell_type": "code",
   "execution_count": 45,
   "id": "32d824a3",
   "metadata": {},
   "outputs": [
    {
     "data": {
      "text/plain": [
       "Событие в рамках рассматриваемого периода    424907\n",
       "Событие выходит за рассматриваемый период     15410\n",
       "Name: date_status, dtype: int64"
      ]
     },
     "execution_count": 45,
     "metadata": {},
     "output_type": "execute_result"
    }
   ],
   "source": [
    "events['date_status'].value_counts()"
   ]
  },
  {
   "cell_type": "markdown",
   "id": "1071d1ba",
   "metadata": {},
   "source": [
    "15 410 событий выходят за рамки рассматриваемого периода. Отфильтруем и оставим события в рамках рассматриваемого периода."
   ]
  },
  {
   "cell_type": "code",
   "execution_count": 46,
   "id": "04c19cea",
   "metadata": {},
   "outputs": [
    {
     "data": {
      "text/plain": [
       "Событие в рамках рассматриваемого периода    424907\n",
       "Name: date_status, dtype: int64"
      ]
     },
     "execution_count": 46,
     "metadata": {},
     "output_type": "execute_result"
    }
   ],
   "source": [
    "events = events[events['date_status']!='Событие выходит за рассматриваемый период']\n",
    "events['date_status'].value_counts()"
   ]
  },
  {
   "cell_type": "markdown",
   "id": "5d683922",
   "metadata": {},
   "source": [
    "#### Изучим аудиторию теста."
   ]
  },
  {
   "cell_type": "markdown",
   "id": "303d7d2d",
   "metadata": {},
   "source": [
    "Создадим два датасета с участниками в разбивке по видам АБ теста."
   ]
  },
  {
   "cell_type": "code",
   "execution_count": 47,
   "id": "05970e02",
   "metadata": {},
   "outputs": [
    {
     "data": {
      "text/plain": [
       "11567"
      ]
     },
     "execution_count": 47,
     "metadata": {},
     "output_type": "execute_result"
    }
   ],
   "source": [
    "recommend_system_test = participants[participants['ab_test']=='recommender_system_test']\n",
    "interface_eu_test = participants[participants['ab_test']=='interface_eu_test']\n",
    "interface_eu_test['user_id'].nunique()"
   ]
  },
  {
   "cell_type": "markdown",
   "id": "12a109be",
   "metadata": {},
   "source": [
    "Проверим, что нет пересечений пользователей с конкурирующим тестом."
   ]
  },
  {
   "cell_type": "code",
   "execution_count": 48,
   "id": "fe80183b",
   "metadata": {},
   "outputs": [
    {
     "data": {
      "text/plain": [
       "1602"
      ]
     },
     "execution_count": 48,
     "metadata": {},
     "output_type": "execute_result"
    }
   ],
   "source": [
    "double = interface_eu_test[interface_eu_test['user_id'].isin(recommend_system_test['user_id'])]\n",
    "double['user_id'].nunique()"
   ]
  },
  {
   "cell_type": "code",
   "execution_count": 49,
   "id": "fdf14aef",
   "metadata": {},
   "outputs": [
    {
     "data": {
      "text/plain": [
       "9.61"
      ]
     },
     "execution_count": 49,
     "metadata": {},
     "output_type": "execute_result"
    }
   ],
   "source": [
    "round(1602/participants['user_id'].nunique()*100, 2)"
   ]
  },
  {
   "cell_type": "markdown",
   "id": "47ed9db3",
   "metadata": {},
   "source": [
    "9.61% пользователей попали в оба эксперимента, что очень сильно может исказить результаты теста."
   ]
  },
  {
   "cell_type": "markdown",
   "id": "8aa2e354",
   "metadata": {},
   "source": [
    "Проверим, что нет пересечений пользователей, участвующих в двух группах теста одновременно."
   ]
  },
  {
   "cell_type": "code",
   "execution_count": 50,
   "id": "2ec1bbbe",
   "metadata": {},
   "outputs": [
    {
     "data": {
      "text/plain": [
       "0"
      ]
     },
     "execution_count": 50,
     "metadata": {},
     "output_type": "execute_result"
    }
   ],
   "source": [
    "group_A = recommend_system_test[recommend_system_test['group']=='A']\n",
    "group_B = recommend_system_test[recommend_system_test['group']=='B']\n",
    "\n",
    "double_group = group_A[group_A['user_id'].isin(group_B['user_id'])]\n",
    "double_group['user_id'].nunique()"
   ]
  },
  {
   "cell_type": "markdown",
   "id": "c4a52996",
   "metadata": {},
   "source": [
    "Пользователей, которые попали в обе группы теста recommend_system_test нет."
   ]
  },
  {
   "cell_type": "markdown",
   "id": "7c1a3e55",
   "metadata": {},
   "source": [
    "#### Проверим равномерность распределения пользователей по тестовым группам и правильность их формирования."
   ]
  },
  {
   "cell_type": "code",
   "execution_count": 51,
   "id": "e2508957",
   "metadata": {},
   "outputs": [
    {
     "data": {
      "text/plain": [
       "group\n",
       "A    2747\n",
       "B     928\n",
       "Name: user_id, dtype: int64"
      ]
     },
     "execution_count": 51,
     "metadata": {},
     "output_type": "execute_result"
    }
   ],
   "source": [
    "events_participants = events.merge(participants[participants['ab_test']=='recommender_system_test'], on='user_id')\n",
    "\n",
    "events_participants.groupby(\n",
    "    'group')['user_id'].nunique()"
   ]
  },
  {
   "cell_type": "markdown",
   "id": "4fda47e3",
   "metadata": {},
   "source": [
    "Мы видим, что кол-во пользователей группы А значительно превышает кол-во пользователей группы В. Это говорит нам о неравномерном распределении пользователей по группам."
   ]
  },
  {
   "cell_type": "markdown",
   "id": "806bab0d",
   "metadata": {},
   "source": [
    "#### Изучим, одинаково ли распределены в выборках количество событий на пользователя."
   ]
  },
  {
   "cell_type": "code",
   "execution_count": 52,
   "id": "cef70a11",
   "metadata": {},
   "outputs": [
    {
     "data": {
      "text/html": [
       "<div>\n",
       "<style scoped>\n",
       "    .dataframe tbody tr th:only-of-type {\n",
       "        vertical-align: middle;\n",
       "    }\n",
       "\n",
       "    .dataframe tbody tr th {\n",
       "        vertical-align: top;\n",
       "    }\n",
       "\n",
       "    .dataframe thead th {\n",
       "        text-align: right;\n",
       "    }\n",
       "</style>\n",
       "<table border=\"1\" class=\"dataframe\">\n",
       "  <thead>\n",
       "    <tr style=\"text-align: right;\">\n",
       "      <th></th>\n",
       "      <th>user_id</th>\n",
       "      <th>events_count</th>\n",
       "    </tr>\n",
       "  </thead>\n",
       "  <tbody>\n",
       "    <tr>\n",
       "      <th>0</th>\n",
       "      <td>001064FEAAB631A1</td>\n",
       "      <td>6</td>\n",
       "    </tr>\n",
       "    <tr>\n",
       "      <th>1</th>\n",
       "      <td>0010A1C096941592</td>\n",
       "      <td>12</td>\n",
       "    </tr>\n",
       "    <tr>\n",
       "      <th>2</th>\n",
       "      <td>00341D8401F0F665</td>\n",
       "      <td>2</td>\n",
       "    </tr>\n",
       "    <tr>\n",
       "      <th>3</th>\n",
       "      <td>003DF44D7589BBD4</td>\n",
       "      <td>15</td>\n",
       "    </tr>\n",
       "    <tr>\n",
       "      <th>4</th>\n",
       "      <td>00505E15A9D81546</td>\n",
       "      <td>5</td>\n",
       "    </tr>\n",
       "    <tr>\n",
       "      <th>...</th>\n",
       "      <td>...</td>\n",
       "      <td>...</td>\n",
       "    </tr>\n",
       "    <tr>\n",
       "      <th>3670</th>\n",
       "      <td>FF5B24BCE4387F86</td>\n",
       "      <td>9</td>\n",
       "    </tr>\n",
       "    <tr>\n",
       "      <th>3671</th>\n",
       "      <td>FF825C1D791989B5</td>\n",
       "      <td>8</td>\n",
       "    </tr>\n",
       "    <tr>\n",
       "      <th>3672</th>\n",
       "      <td>FF8CF7057415EB29</td>\n",
       "      <td>4</td>\n",
       "    </tr>\n",
       "    <tr>\n",
       "      <th>3673</th>\n",
       "      <td>FFAE9489C76F352B</td>\n",
       "      <td>6</td>\n",
       "    </tr>\n",
       "    <tr>\n",
       "      <th>3674</th>\n",
       "      <td>FFF28D02B1EACBE1</td>\n",
       "      <td>9</td>\n",
       "    </tr>\n",
       "  </tbody>\n",
       "</table>\n",
       "<p>3675 rows × 2 columns</p>\n",
       "</div>"
      ],
      "text/plain": [
       "               user_id  events_count\n",
       "0     001064FEAAB631A1             6\n",
       "1     0010A1C096941592            12\n",
       "2     00341D8401F0F665             2\n",
       "3     003DF44D7589BBD4            15\n",
       "4     00505E15A9D81546             5\n",
       "...                ...           ...\n",
       "3670  FF5B24BCE4387F86             9\n",
       "3671  FF825C1D791989B5             8\n",
       "3672  FF8CF7057415EB29             4\n",
       "3673  FFAE9489C76F352B             6\n",
       "3674  FFF28D02B1EACBE1             9\n",
       "\n",
       "[3675 rows x 2 columns]"
      ]
     },
     "execution_count": 52,
     "metadata": {},
     "output_type": "execute_result"
    }
   ],
   "source": [
    "events_count = events_participants.groupby('user_id').agg({'event_name':'count'}).reset_index()\n",
    "events_count.columns = ['user_id','events_count']\n",
    "events_count"
   ]
  },
  {
   "cell_type": "code",
   "execution_count": 53,
   "id": "cc15b4ba",
   "metadata": {},
   "outputs": [
    {
     "data": {
      "text/html": [
       "<div>\n",
       "<style scoped>\n",
       "    .dataframe tbody tr th:only-of-type {\n",
       "        vertical-align: middle;\n",
       "    }\n",
       "\n",
       "    .dataframe tbody tr th {\n",
       "        vertical-align: top;\n",
       "    }\n",
       "\n",
       "    .dataframe thead th {\n",
       "        text-align: right;\n",
       "    }\n",
       "</style>\n",
       "<table border=\"1\" class=\"dataframe\">\n",
       "  <thead>\n",
       "    <tr style=\"text-align: right;\">\n",
       "      <th></th>\n",
       "      <th>user_id</th>\n",
       "      <th>events_count</th>\n",
       "      <th>group</th>\n",
       "      <th>ab_test</th>\n",
       "    </tr>\n",
       "  </thead>\n",
       "  <tbody>\n",
       "    <tr>\n",
       "      <th>0</th>\n",
       "      <td>001064FEAAB631A1</td>\n",
       "      <td>6</td>\n",
       "      <td>B</td>\n",
       "      <td>recommender_system_test</td>\n",
       "    </tr>\n",
       "    <tr>\n",
       "      <th>1</th>\n",
       "      <td>0010A1C096941592</td>\n",
       "      <td>12</td>\n",
       "      <td>A</td>\n",
       "      <td>recommender_system_test</td>\n",
       "    </tr>\n",
       "    <tr>\n",
       "      <th>2</th>\n",
       "      <td>00341D8401F0F665</td>\n",
       "      <td>2</td>\n",
       "      <td>A</td>\n",
       "      <td>recommender_system_test</td>\n",
       "    </tr>\n",
       "    <tr>\n",
       "      <th>3</th>\n",
       "      <td>003DF44D7589BBD4</td>\n",
       "      <td>15</td>\n",
       "      <td>A</td>\n",
       "      <td>recommender_system_test</td>\n",
       "    </tr>\n",
       "    <tr>\n",
       "      <th>4</th>\n",
       "      <td>00505E15A9D81546</td>\n",
       "      <td>5</td>\n",
       "      <td>A</td>\n",
       "      <td>recommender_system_test</td>\n",
       "    </tr>\n",
       "    <tr>\n",
       "      <th>...</th>\n",
       "      <td>...</td>\n",
       "      <td>...</td>\n",
       "      <td>...</td>\n",
       "      <td>...</td>\n",
       "    </tr>\n",
       "    <tr>\n",
       "      <th>3670</th>\n",
       "      <td>FF5B24BCE4387F86</td>\n",
       "      <td>9</td>\n",
       "      <td>A</td>\n",
       "      <td>recommender_system_test</td>\n",
       "    </tr>\n",
       "    <tr>\n",
       "      <th>3671</th>\n",
       "      <td>FF825C1D791989B5</td>\n",
       "      <td>8</td>\n",
       "      <td>A</td>\n",
       "      <td>recommender_system_test</td>\n",
       "    </tr>\n",
       "    <tr>\n",
       "      <th>3672</th>\n",
       "      <td>FF8CF7057415EB29</td>\n",
       "      <td>4</td>\n",
       "      <td>B</td>\n",
       "      <td>recommender_system_test</td>\n",
       "    </tr>\n",
       "    <tr>\n",
       "      <th>3673</th>\n",
       "      <td>FFAE9489C76F352B</td>\n",
       "      <td>6</td>\n",
       "      <td>A</td>\n",
       "      <td>recommender_system_test</td>\n",
       "    </tr>\n",
       "    <tr>\n",
       "      <th>3674</th>\n",
       "      <td>FFF28D02B1EACBE1</td>\n",
       "      <td>9</td>\n",
       "      <td>B</td>\n",
       "      <td>recommender_system_test</td>\n",
       "    </tr>\n",
       "  </tbody>\n",
       "</table>\n",
       "<p>3675 rows × 4 columns</p>\n",
       "</div>"
      ],
      "text/plain": [
       "               user_id  events_count group                  ab_test\n",
       "0     001064FEAAB631A1             6     B  recommender_system_test\n",
       "1     0010A1C096941592            12     A  recommender_system_test\n",
       "2     00341D8401F0F665             2     A  recommender_system_test\n",
       "3     003DF44D7589BBD4            15     A  recommender_system_test\n",
       "4     00505E15A9D81546             5     A  recommender_system_test\n",
       "...                ...           ...   ...                      ...\n",
       "3670  FF5B24BCE4387F86             9     A  recommender_system_test\n",
       "3671  FF825C1D791989B5             8     A  recommender_system_test\n",
       "3672  FF8CF7057415EB29             4     B  recommender_system_test\n",
       "3673  FFAE9489C76F352B             6     A  recommender_system_test\n",
       "3674  FFF28D02B1EACBE1             9     B  recommender_system_test\n",
       "\n",
       "[3675 rows x 4 columns]"
      ]
     },
     "execution_count": 53,
     "metadata": {},
     "output_type": "execute_result"
    }
   ],
   "source": [
    "# присоединим к таблице с кол-ом событий виды групп из таблицы recommend_system_test\n",
    "events_count =  events_count.merge(recommend_system_test, how='left', on='user_id')\n",
    "events_count"
   ]
  },
  {
   "cell_type": "code",
   "execution_count": 54,
   "id": "a1e82e97",
   "metadata": {},
   "outputs": [
    {
     "data": {
      "image/png": "[encoded data removed]",
      "text/plain": [
       "<Figure size 648x504 with 1 Axes>"
      ]
     },
     "metadata": {
      "needs_background": "light"
     },
     "output_type": "display_data"
    }
   ],
   "source": [
    "#построим гистограммы распределения пользователей по кол-ву событий в разрезе групп\n",
    "plt.figure(figsize=(9,7))\n",
    "\n",
    "sns.set_palette('bright') \n",
    "sns.set_style(\"whitegrid\")\n",
    "\n",
    "sns.histplot(data=events_count, x='events_count', hue='group', bins=25)\n",
    "\n",
    "plt.xlabel('Кол-во событий')\n",
    "plt.ylabel('Кол-во пользователей')\n",
    "plt.title('Распределения пользователей по кол-ву событий')\n",
    "plt.show()"
   ]
  },
  {
   "cell_type": "markdown",
   "id": "5b9ef362",
   "metadata": {},
   "source": [
    "Посмотрим, все ли пользователи, зарегистрированные в тесте, совершали за период проведения теста события. "
   ]
  },
  {
   "cell_type": "code",
   "execution_count": 55,
   "id": "2b0365d8",
   "metadata": {},
   "outputs": [
    {
     "data": {
      "text/plain": [
       "array([ 6, 12,  2, 15,  5,  4, 20,  9,  8,  3,  1, 10,  7, 16, 24, 18, 11,\n",
       "       14, 21, 13, 19])"
      ]
     },
     "execution_count": 55,
     "metadata": {},
     "output_type": "execute_result"
    }
   ],
   "source": [
    "events_count['events_count'].unique()"
   ]
  },
  {
   "cell_type": "markdown",
   "id": "b04fa44e",
   "metadata": {},
   "source": [
    "Все пользователи совершали события."
   ]
  },
  {
   "cell_type": "markdown",
   "id": "970bd406",
   "metadata": {},
   "source": [
    "#### Посмотрим, как число событий в выборках распределено по дням."
   ]
  },
  {
   "cell_type": "code",
   "execution_count": 56,
   "id": "5cb8bddc",
   "metadata": {},
   "outputs": [],
   "source": [
    "#преобразуем данные в колонке event_dt в даты без указания времени\n",
    "\n",
    "events_participants['event_dt'] = pd.to_datetime(events_participants['event_dt'] ).dt.date\n",
    "\n",
    "events_participants_1=events_participants.sort_values(by='group', ascending=False)"
   ]
  },
  {
   "cell_type": "code",
   "execution_count": 57,
   "id": "db4f3c44",
   "metadata": {},
   "outputs": [
    {
     "data": {
      "image/png": "[encoded data removed]",
      "text/plain": [
       "<Figure size 648x504 with 1 Axes>"
      ]
     },
     "metadata": {},
     "output_type": "display_data"
    }
   ],
   "source": [
    "plt.figure(figsize=(9,7))\n",
    "\n",
    "sns.set_palette('bright') \n",
    "sns.set_style(\"whitegrid\")\n",
    "\n",
    "sns.histplot(data=events_participants_1, x='event_dt', hue='group')\n",
    "\n",
    "\n",
    "plt.xticks(rotation=45)\n",
    "\n",
    "plt.xlabel('Дата')\n",
    "plt.ylabel('Кол-во событий')\n",
    "plt.title('Распределение числа событий по дням')\n",
    "plt.show()"
   ]
  },
  {
   "cell_type": "markdown",
   "id": "79639b5b",
   "metadata": {},
   "source": [
    "По гистограмме распределения мы видим, что число событий практически по всем дням меньше в группе В. Особенно с 14го по 24го декабря намного большая разница."
   ]
  },
  {
   "cell_type": "code",
   "execution_count": 58,
   "id": "c73367e4",
   "metadata": {
    "scrolled": true
   },
   "outputs": [
    {
     "data": {
      "image/png": "[encoded data removed]",
      "text/plain": [
       "<Figure size 648x504 with 1 Axes>"
      ]
     },
     "metadata": {},
     "output_type": "display_data"
    }
   ],
   "source": [
    "tmp = events_participants.groupby(['group','first_date']).agg({'user_id':'nunique'}).reset_index()\n",
    "\n",
    "plt.figure(figsize=(9,7))\n",
    "\n",
    "sns.set_palette('bright') \n",
    "sns.set_style(\"whitegrid\")\n",
    "\n",
    "sns.barplot(data=tmp, x='first_date', y='user_id', hue='group')\n",
    "\n",
    "\n",
    "plt.xticks(rotation=45)\n",
    "\n",
    "plt.xlabel('Дата')\n",
    "plt.ylabel('Кол-во пользователей')\n",
    "plt.title('Распределение числа регистраций по дням')\n",
    "plt.show()"
   ]
  },
  {
   "cell_type": "markdown",
   "id": "4a3ae6a3",
   "metadata": {},
   "source": [
    "С 14 числа в группе А пошел резкий скачек набора пользователей, в группе В - такого не было. При корректной работе системы распределения пользователей, пользователи в две группы должны набираться примерно в равном соотношении. Поэтому, с 14 числа увеличилось количество событий в группе А. "
   ]
  },
  {
   "cell_type": "markdown",
   "id": "7a4291f1",
   "metadata": {},
   "source": [
    "#### Проанализируем, как меняется конверсия в воронке в выборках на разных этапах?"
   ]
  },
  {
   "cell_type": "code",
   "execution_count": 59,
   "id": "c7317f34",
   "metadata": {},
   "outputs": [
    {
     "data": {
      "text/html": [
       "<div>\n",
       "<style scoped>\n",
       "    .dataframe tbody tr th:only-of-type {\n",
       "        vertical-align: middle;\n",
       "    }\n",
       "\n",
       "    .dataframe tbody tr th {\n",
       "        vertical-align: top;\n",
       "    }\n",
       "\n",
       "    .dataframe thead th {\n",
       "        text-align: right;\n",
       "    }\n",
       "</style>\n",
       "<table border=\"1\" class=\"dataframe\">\n",
       "  <thead>\n",
       "    <tr style=\"text-align: right;\">\n",
       "      <th></th>\n",
       "      <th>group</th>\n",
       "      <th>event_name</th>\n",
       "      <th>user_id</th>\n",
       "    </tr>\n",
       "  </thead>\n",
       "  <tbody>\n",
       "    <tr>\n",
       "      <th>0</th>\n",
       "      <td>A</td>\n",
       "      <td>login</td>\n",
       "      <td>2747</td>\n",
       "    </tr>\n",
       "    <tr>\n",
       "      <th>1</th>\n",
       "      <td>A</td>\n",
       "      <td>product_page</td>\n",
       "      <td>1780</td>\n",
       "    </tr>\n",
       "    <tr>\n",
       "      <th>2</th>\n",
       "      <td>A</td>\n",
       "      <td>products_cart</td>\n",
       "      <td>824</td>\n",
       "    </tr>\n",
       "    <tr>\n",
       "      <th>3</th>\n",
       "      <td>A</td>\n",
       "      <td>purchase</td>\n",
       "      <td>872</td>\n",
       "    </tr>\n",
       "  </tbody>\n",
       "</table>\n",
       "</div>"
      ],
      "text/plain": [
       "  group     event_name  user_id\n",
       "0     A          login     2747\n",
       "1     A   product_page     1780\n",
       "2     A  products_cart      824\n",
       "3     A       purchase      872"
      ]
     },
     "execution_count": 59,
     "metadata": {},
     "output_type": "execute_result"
    }
   ],
   "source": [
    "# сгруппируем данные по группе A и названию события, посчиатем кол-во уникальных пользователей по этим событиям\n",
    "df_funnel_A = events_participants[events_participants['group']=='A']\n",
    "\n",
    "df_funnel_A.loc[df_funnel_A['event_name']=='product_cart', 'event_name'] = 'products_cart'\n",
    "\n",
    "df_funnel_A = df_funnel_A.groupby(['group','event_name']).agg({'user_id':'nunique'}).sort_values(\n",
    "    by = 'event_name').reset_index()\n",
    "df_funnel_A"
   ]
  },
  {
   "cell_type": "code",
   "execution_count": 60,
   "id": "9dc72799",
   "metadata": {
    "scrolled": true
   },
   "outputs": [
    {
     "data": {
      "image/png": "[encoded data removed]",
      "text/plain": [
       "<Figure size 864x360 with 1 Axes>"
      ]
     },
     "metadata": {},
     "output_type": "display_data"
    }
   ],
   "source": [
    "fig = plt.figure(figsize=(12, 5))\n",
    "sns.set_color_codes('pastel')\n",
    "splot_na = sns.barplot(y='event_name', x='user_id', data=df_funnel_A , alpha = 0.7, color='g')\n",
    "\n",
    "plt.title('Гистограмма количества пользователей по событиям в группе А', fontsize=(18))\n",
    "plt.xlabel('', fontsize=(12))\n",
    "#plt.legend(frameon=True,loc=\"upper right\",fontsize = 10)\n",
    "plt.ylabel('', fontsize=(12))\n",
    "plt.xticks(fontsize=(12))\n",
    "plt.yticks(fontsize=(12))\n",
    "plt.xlabel('Количество пользователей', size=(14))\n",
    "plt.show()"
   ]
  },
  {
   "cell_type": "code",
   "execution_count": 61,
   "id": "61b4a8f1",
   "metadata": {},
   "outputs": [
    {
     "data": {
      "text/html": [
       "<div>\n",
       "<style scoped>\n",
       "    .dataframe tbody tr th:only-of-type {\n",
       "        vertical-align: middle;\n",
       "    }\n",
       "\n",
       "    .dataframe tbody tr th {\n",
       "        vertical-align: top;\n",
       "    }\n",
       "\n",
       "    .dataframe thead th {\n",
       "        text-align: right;\n",
       "    }\n",
       "</style>\n",
       "<table border=\"1\" class=\"dataframe\">\n",
       "  <thead>\n",
       "    <tr style=\"text-align: right;\">\n",
       "      <th></th>\n",
       "      <th>group</th>\n",
       "      <th>event_name</th>\n",
       "      <th>user_id</th>\n",
       "    </tr>\n",
       "  </thead>\n",
       "  <tbody>\n",
       "    <tr>\n",
       "      <th>0</th>\n",
       "      <td>B</td>\n",
       "      <td>login</td>\n",
       "      <td>927</td>\n",
       "    </tr>\n",
       "    <tr>\n",
       "      <th>1</th>\n",
       "      <td>B</td>\n",
       "      <td>product_page</td>\n",
       "      <td>523</td>\n",
       "    </tr>\n",
       "    <tr>\n",
       "      <th>2</th>\n",
       "      <td>B</td>\n",
       "      <td>products_cart</td>\n",
       "      <td>255</td>\n",
       "    </tr>\n",
       "    <tr>\n",
       "      <th>3</th>\n",
       "      <td>B</td>\n",
       "      <td>purchase</td>\n",
       "      <td>256</td>\n",
       "    </tr>\n",
       "  </tbody>\n",
       "</table>\n",
       "</div>"
      ],
      "text/plain": [
       "  group     event_name  user_id\n",
       "0     B          login      927\n",
       "1     B   product_page      523\n",
       "2     B  products_cart      255\n",
       "3     B       purchase      256"
      ]
     },
     "execution_count": 61,
     "metadata": {},
     "output_type": "execute_result"
    }
   ],
   "source": [
    "# сгруппируем данные по группе B и названию события, посчиатем кол-во уникальных пользователей по этим событиям\n",
    "df_funnel_B = events_participants[events_participants['group']=='B']\n",
    "df_funnel_B.loc[df_funnel_B['event_name']=='product_cart', 'event_name'] = 'products_cart'\n",
    "df_funnel_B = df_funnel_B.groupby(['group','event_name']).agg({'user_id':'nunique'}).sort_values(\n",
    "    by = 'event_name').reset_index()\n",
    "df_funnel_B"
   ]
  },
  {
   "cell_type": "code",
   "execution_count": 62,
   "id": "36c76737",
   "metadata": {},
   "outputs": [
    {
     "data": {
      "image/png": "[encoded data removed]",
      "text/plain": [
       "<Figure size 864x360 with 1 Axes>"
      ]
     },
     "metadata": {},
     "output_type": "display_data"
    }
   ],
   "source": [
    "fig = plt.figure(figsize=(12, 5))\n",
    "sns.set_color_codes('pastel')\n",
    "splot_na = sns.barplot(y='event_name', x='user_id', data=df_funnel_B , alpha = 0.7, color='g')\n",
    "\n",
    "plt.title('Гистограмма количества пользователей по событиям в группе B', fontsize=(18))\n",
    "plt.xlabel('', fontsize=(12))\n",
    "#plt.legend(frameon=True,loc=\"upper right\",fontsize = 10)\n",
    "plt.ylabel('', fontsize=(12))\n",
    "plt.xticks(fontsize=(12))\n",
    "plt.yticks(fontsize=(12))\n",
    "plt.xlabel('Количество пользователей', size=(14))\n",
    "plt.show()"
   ]
  },
  {
   "cell_type": "markdown",
   "id": "1bdc4773",
   "metadata": {},
   "source": [
    "Мы видим, что события подразделяются на 4 основных этапа:\n",
    "\n",
    "- login (авторизация),\n",
    "- product_page (просмотр карточки товара),\n",
    "- purchase (покупка)\n",
    "- product_cart (просмотр корзины)"
   ]
  },
  {
   "cell_type": "code",
   "execution_count": 63,
   "id": "1fb6e121",
   "metadata": {},
   "outputs": [
    {
     "data": {
      "image/png": "[encoded data removed]"
     },
     "metadata": {},
     "output_type": "display_data"
    }
   ],
   "source": [
    "#построим воронку событий по каждой группе\n",
    "\n",
    "fig = make_subplots(rows=1, cols=2,subplot_titles=(\"Группа А\",\"Группа В\"))\n",
    "\n",
    "\n",
    "fig.add_trace(\n",
    "    go.Funnel(\n",
    "    y = df_funnel_A['event_name'],\n",
    "    x = df_funnel_A['user_id'],\n",
    "    textposition = \"inside\",\n",
    "    textinfo = \"value+percent initial\",\n",
    "    marker = {\"color\": \"deepskyblue\"}\n",
    "),\n",
    "    row=1, col=1\n",
    ")\n",
    "\n",
    "fig.add_trace(\n",
    "    go.Funnel(\n",
    "    y = df_funnel_B['event_name'],\n",
    "    x = df_funnel_B['user_id'],\n",
    "    textposition = \"inside\",\n",
    "    textinfo = \"value+percent initial\",\n",
    "        marker = {\"color\": \"lightsalmon\"}\n",
    "),\n",
    "    row=1, col=2\n",
    ")\n",
    "\n",
    "fig.update_layout(title='Воронка событий по группам', showlegend=False, height=400, width=800)\n",
    "fig.show()"
   ]
  },
  {
   "cell_type": "markdown",
   "id": "ad7a8f6b",
   "metadata": {},
   "source": [
    "**Вывод и оценка результатов А/В тестирования:**\n",
    "- Группы А и В крайне неравномерны распределены.\n",
    "- По просмотру карточки товара конверсия упала с 65% до 56%.\n",
    "- По просмотру корзины конверсия упала с 30% до 28%.\n",
    "- По покупке конверсия так же упала с 32% до 28%.\n",
    "Согласно тех заданию, конверсия должна была увеличиться на 10% по каждому событию. Но в итоге она упала по всем пунктам. Это может говорить о несостоятельности новой платежной воронки и провале теста."
   ]
  },
  {
   "cell_type": "markdown",
   "id": "0cd188c2",
   "metadata": {},
   "source": [
    "### Проверим статистическую разницу долей z-критерием."
   ]
  },
  {
   "cell_type": "markdown",
   "id": "d297a9d1",
   "metadata": {},
   "source": [
    "Напишем функцию z_test(successes, attempt_total, alpha), которая осуществляет тестирование на равенство долей. Функция принимает на вход три параметра: successes - количество успешных попыток, attempt_total - общее кол-во попыток, alpha - критический уровень статистической значимости."
   ]
  },
  {
   "cell_type": "code",
   "execution_count": 64,
   "id": "cc33f252",
   "metadata": {},
   "outputs": [],
   "source": [
    "def z_test(successes, attempt_total, alpha):  \n",
    "\n",
    "    alpha = alpha\n",
    "    successes = successes\n",
    "    attempt_total = attempt_total\n",
    "\n",
    "    # пропорция успехов в первой группе:\n",
    "    p1 = successes[0]/attempt_total[0]\n",
    "\n",
    "    # пропорция успехов во второй группе:\n",
    "    p2 = successes[1]/attempt_total[1]\n",
    "\n",
    "    # пропорция успехов в комбинированном датасете:\n",
    "    p_combined = (successes[0] + successes[1]) / (attempt_total[0] + attempt_total[1])\n",
    "\n",
    "    # разница пропорций в датасетах\n",
    "    difference = p1 - p2\n",
    "\n",
    "\n",
    "    # считаем статистику в ст.отклонениях стандартного нормального распределения\n",
    "    z_value = difference / mth.sqrt(p_combined * (1 - p_combined) * (1/attempt_total[0] + 1/attempt_total[1]))\n",
    "\n",
    "    # задаем стандартное нормальное распределение (среднее 0, ст.отклонение 1)\n",
    "    distr = st.norm(0, 1) \n",
    "\n",
    "\n",
    "    # считаем статистику в ст.отклонениях стандартного нормального распределения\n",
    "    z_value = difference / mth.sqrt(\n",
    "        p_combined * (1 - p_combined) * (1 / attempt_total[0] + 1 / attempt_total[1])\n",
    "    )\n",
    "\n",
    "    # задаем стандартное нормальное распределение (среднее 0, ст.отклонение 1)\n",
    "    distr = st.norm(0, 1)\n",
    "\n",
    "    p_value = (1 - distr.cdf(abs(z_value))) * 2\n",
    "\n",
    "    print('p-значение: ', p_value)\n",
    "\n",
    "    if p_value < alpha:\n",
    "        print('Отвергаем нулевую гипотезу: между долями присутствует статистически значимая разница')\n",
    "    else:\n",
    "        print(\n",
    "            'Не получилось отвергнуть нулевую гипотезу, нет оснований полагать, что доли существенно различаются'\n",
    "        )"
   ]
  },
  {
   "cell_type": "markdown",
   "id": "360e2004",
   "metadata": {},
   "source": [
    "Сформулируем нулевую и альтернативную гипотезы:\n",
    "\n",
    "- H0 - доли уникальных посетителей, побывавших на этапе воронки, одинаковы.\n",
    "- H1 - между долями уникальных посетителей, побывавших на этапе воронки, есть значимая разница.\n",
    "\n",
    "За уровень статистической значимости примем значение alpha=0,01.\n",
    "Пояснение по выбору alpha: Во время проверки статистических гипотез при отвержении основной гипотезы (H0) возможна ошибка (ложное отклонение гипотезы, ошибка первого рода). Вероятность такого события ограничивается неким малым предварительно выбранным значением — уровнем значимости обычно alpha. Если всякий раз вероятность ошибиться равна ɑ, то вероятность не ошибиться: 1-ɑ. Так, вероятность не ошибиться ни разу за N сравнений равна: (1-ɑ)^N\n",
    "В итоге, вероятность ошибиться хотя бы раз за N сравнений: 1 - (1-ɑ)^N\n",
    "\n",
    "За N в нашем случае берем 3, т.к. будем проверять 3 этапа воронки.\n",
    "\n",
    "Вероятность ошибки в нашем случае с ɑ=0,01: 1-(1-0.01)^3= 2,9%"
   ]
  },
  {
   "cell_type": "code",
   "execution_count": 65,
   "id": "5a5105db",
   "metadata": {},
   "outputs": [
    {
     "name": "stdout",
     "output_type": "stream",
     "text": [
      "Тестируем событие products_cart\n",
      "p-значение:  0.15034216422194624\n",
      "Не получилось отвергнуть нулевую гипотезу, нет оснований полагать, что доли существенно различаются\n",
      "\n",
      "Тестируем событие product_page\n",
      "p-значение:  5.084368080776613e-06\n",
      "Отвергаем нулевую гипотезу: между долями присутствует статистически значимая разница\n",
      "\n",
      "Тестируем событие purchase\n",
      "p-значение:  0.018474632659979617\n",
      "Не получилось отвергнуть нулевую гипотезу, нет оснований полагать, что доли существенно различаются\n",
      "\n"
     ]
    }
   ],
   "source": [
    "#при помощи функции z_test(successes, attempt_total, alpha) проверим, есть ли между долями конверсий \n",
    "#групп сущесвтенная разница\n",
    "\n",
    "alpha = 0.01\n",
    "attempt_total = [df_funnel_A['user_id'][0], df_funnel_B['user_id'][0]]\n",
    "\n",
    "df1 = {'products_cart':[df_funnel_A['user_id'][2], df_funnel_B['user_id'][2]],\n",
    "       'product_page':[df_funnel_A['user_id'][1], df_funnel_B['user_id'][1]],\n",
    "       'purchase':[df_funnel_A['user_id'][3], df_funnel_B['user_id'][3]]}\n",
    "\n",
    "for i in ['products_cart', 'product_page', 'purchase']:\n",
    "    successes = df1[i]\n",
    "    print(f'Тестируем событие {i}')\n",
    "    z_test(successes, attempt_total, alpha)\n",
    "    print()"
   ]
  },
  {
   "cell_type": "markdown",
   "id": "a47d31fc",
   "metadata": {},
   "source": [
    "Видим, что по двум событиям product_cart, purchase разница между долями уникальных посетителей, побывавших на этапе воронки, не является статистически значимой. По событию product_page статистическая разница в долях уникальных посетителей, побывавших на этапе воронки, существенная."
   ]
  },
  {
   "cell_type": "markdown",
   "id": "02921ccb",
   "metadata": {},
   "source": [
    "## Вывод."
   ]
  },
  {
   "cell_type": "markdown",
   "id": "f003be1e",
   "metadata": {},
   "source": [
    "**По корректности проведения теста выяснили:**\n",
    "Название теста и заявленные группы A и B соответствуют тех.заданию. Дата запуска корректна, дата остановки набора совпадает с тех.заданием. Дата остановки теста существенно отличается. Процент новых пользователей из региона EU соответствует тех. заданию (15%). Фактическое кол-во участников теста существенно ниже ожидаемого, это может повлиять на чистоту теста. \n",
    "**Исследовали данные:** \n",
    "- Мы проверили, есть ли в данных события старше 14 дней с момента регистрации у пользователей, событий оказалось 15410, далее мы очистили датафрейм events от таких событий.\n",
    "- 9.61% пользователей попали в оба эксперимента, что очень сильно может исказить результаты теста.\n",
    "- Мы видим, что кол-во пользователей группы А значительно превышает кол-во пользователей группы В (практически в 3 раза). Это говорит нам о неоптимальности разбиения данных по группам. Для будущих тестов следует несколько поработать с механикой выделения групп и, возможно, изменить подход к их выделению.\n",
    "- Рассматривая, график распределения событий по кол-ву пользователей в разрезе групп, можно отметить, что В группе А событий совершают больше, чем в группе В. Также стоит отметить, что распределения очень схожи между собой. И все пользователи зарегистрированные в тесте, совершали за период проведения теста события.\n",
    "- По гистограмме распределения мы видим, что число событий практически по всем дням меньше в группе В. Особенно с 14го по 24го декабря намного большая разница.\n",
    "- Описывая конверсию на разных этапах в воронке по группе А, можно сказать, что 32% от этапа авторизации осуществляют покупку. В группе B это цифра ниже всего 28% авторизованных пользователей доходят до этапа покупки. В обеих группах большее кол-во клиентов отпадает на этапе перехода на страницу с карточкой товара.\n",
    "- По оценке результатов A/B-тестирования, на воронке событий мы видим, по просмотру карточки товара конверсия упала с 65% до 56%. По просмотру корзины конверсия упала с 30% до 28%. По покупке конверсия так же упала с 32% до 28%. Согласно тех заданию, конверсия должна была увеличиться на 10% по каждому событию. Но в итоге она упала по всем пунктам. Это может говорить о несостоятельности новой платежной воронки и провале теста.\n",
    "- Проверили статистическую разницу долей z-критерием: По двум событиям product_cart, purchase разница между долями уникальных посетителей, побывавших на этапе воронки, не является статистически значимой. По событию product_page статистическая разница в долях уникальных посетителей, побывавших на этапе воронки, существенная."
   ]
  },
  {
   "cell_type": "markdown",
   "id": "23d5e990",
   "metadata": {},
   "source": [
    "### Рекомендация."
   ]
  },
  {
   "cell_type": "markdown",
   "id": "c36d7c03",
   "metadata": {},
   "source": [
    "Признать тест безуспешным. Перезапустить его с учетом исправления несоответствий тех.заданию, где количество участников ниже ожидаемого, группы А и В существенно неравномерно распределены, 9% пользователей попали в оба эксперимента, что категорически неприемлемо. Конверсия по всем событиям упала."
   ]
  },
  {
   "cell_type": "code",
   "execution_count": null,
   "id": "1c9bc05f",
   "metadata": {},
   "outputs": [],
   "source": []
  }
 ],
 "metadata": {
  "kernelspec": {
   "display_name": "Python 3 (ipykernel)",
   "language": "python",
   "name": "python3"
  },
  "language_info": {
   "codemirror_mode": {
    "name": "ipython",
    "version": 3
   },
   "file_extension": ".py",
   "mimetype": "text/x-python",
   "name": "python",
   "nbconvert_exporter": "python",
   "pygments_lexer": "ipython3",
   "version": "3.9.12"
  }
 },
 "nbformat": 4,
 "nbformat_minor": 5
}
